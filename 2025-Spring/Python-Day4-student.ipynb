{
  "cells": [
    {
      "cell_type": "markdown",
      "metadata": {
        "id": "xBj7EX0Rx85D",
        "jp-MarkdownHeadingCollapsed": true
      },
      "source": [
        "# Python intensive, day 4\n",
        "\n",
        "## Getting started: Installation\n",
        "\n",
        "This workshop exists as a **Jupyter notebook**. You can participate in this workshop by using this notebook interactively simply by uploading it to Google Colab. Go to https://colab.research.google.com/ and upload this notebook. That's it! This is the recommended way for participating in this workshop. Skip the below instructions if you will be using Google Colab.\n",
        "\n",
        "<br>\n",
        "\n",
        "---\n",
        "\n",
        "**See above for the recommended way to participate in this workshop. Only follow these instructions if Google Colab isn't working**\n",
        "\n",
        "If for some reason Google Colab isn't working, or you prefer to run this locally, you will need to install Python, Anaconda, and the necessary libraries. You will have to follow these steps to do so. Note that some steps are only meant for specific operating systems.\n",
        "\n",
        "0. If you are on Windows, [install WSL](https://learn.microsoft.com/en-us/windows/wsl/install). Once WSL is installed, you'll have a Linux terminal available to you in Windows. You can open this terminal by typing \"wsl\" in the search bar and clicking the app that appears. You'll also find your Linux distribution as a mounted drive in your file explorer.\n",
        "\n",
        "1. Install mamba, a package manager using the command line - Terminal for Mac or WSL for Windows.\n",
        "\n",
        "    1.1. For Mac, if you already have brew installed, install mamba using `brew install miniforge` and initialize it using `conda init zsh`. Then restart your terminal. If you don't have homebrew (i.e. the brew command doesn't exist), install brew first using `/bin/bash -c \"$(curl -fsSL https://raw.githubusercontent.com/Homebrew/install/HEAD/install.sh)\"`\n",
        "    \n",
        "    1.2. For Windows, download the Linux (x86_64) installer from the miniforge repository [here](https://github.com/conda-forge/miniforge) and install with `bash Miniforge3-Linux-x86_64.sh`.\n",
        "\n",
        "2. Create a new environment using mamba with `mamba create -n pyworkshop numpy pandas matplotlib seaborn jupyter` and activate it with `conda activate pyworkshop`.\n",
        "\n",
        "3. You can now run the jupyter notebook by typing `jupyter notebook` in the terminal. This will open a browser window with the jupyter notebook interface. You can navigate to the folder where you saved this notebook and open it.\n",
        "\n",
        "4. Alternatively, install [VSCode](https://code.visualstudio.com/) and the Python extension. Then open this notebook in VSCode and run it with the kernel that belongs to the pyworkshop environment. [How to guide here](https://code.visualstudio.com/docs/datascience/jupyter-notebooks)\n",
        "\n",
        "---"
      ]
    },
    {
      "cell_type": "markdown",
      "metadata": {
        "id": "wDpc1awHybfm"
      },
      "source": [
        "## What is python and why do we need it/why are you taking this workshop?\n",
        "\n",
        "* Python is a programming language that is commonly used for data analysis\n",
        "* R is another commonly used programming language, probably second to python\n",
        "* Python is more general purpose than R, which is specifically for data analysis\n",
        "* Programming languages are a way for humans to give the computer commands\n",
        "* Regardless of how you collect data, it needs to be analyzed and code is the best way (Don't use excel!)"
      ]
    },
    {
      "cell_type": "markdown",
      "metadata": {
        "id": "APR4I085x85H"
      },
      "source": [
        "## Jupyter basics"
      ]
    },
    {
      "cell_type": "markdown",
      "metadata": {
        "id": "AaMuZb0Ux85I"
      },
      "source": [
        "Jupyter notebooks are text files that can be rendered as formatted text **and** run code given the proper setup (see Installation).\n",
        "\n",
        "Text is split into **cells**. Double clicking a cell allows you to edit it.\n",
        "\n",
        "For code cells, there is also an option to run the code. You can do this by pressing **SHIFT+ENTER** while having it selected, or press the **Run** button at the top of the cell (exact location depends on the editor you're using). Because of the way we set up the notebook the code cells will be running Python code.\n",
        "\n",
        "For this workshop, we'll be asking you to follow along by running code cells and by doing coding exercises by writing or editing code in code cell.\n",
        "\n",
        "**IMPORTANT**: Run the code cells below to **import** the **libraries** we'll be using during this workshop."
      ]
    },
    {
      "cell_type": "code",
      "execution_count": 3,
      "metadata": {
        "id": "jeWBR6Qzx85J"
      },
      "outputs": [],
      "source": [
        "# Run this cell to import the libraries we'll be using\n",
        "# If you don't have the kernel loaded or installed, it will not work\n",
        "\n",
        "import numpy as np\n",
        "import pandas as pd\n",
        "import matplotlib.pyplot as plt"
      ]
    },
    {
      "cell_type": "markdown",
      "metadata": {
        "id": "oNBH_ghJy1-t"
      },
      "source": [
        "And run the following to demonstrate how the code blocks run and display code:"
      ]
    },
    {
      "cell_type": "code",
      "execution_count": null,
      "metadata": {
        "id": "jJXQSXqex85K",
        "outputId": "af2efcc0-3850-49a8-c462-79c0f3c0d560"
      },
      "outputs": [],
      "source": [
        "# Run this cell to print a message to the screen\n",
        "print(\"this is my code cell\")"
      ]
    },
    {
      "cell_type": "markdown",
      "metadata": {
        "id": "TFmyJigzx85L"
      },
      "source": [
        "Any **variables** that you assign in one cell will be available in other cells. But they will not be saved between sessions. If you close the notebook and re-open it, you will need to re-run the previous cells to get your variables back. Therefore, it's important to be aware of the state of your notebook and the order in which your cells were run."
      ]
    },
    {
      "cell_type": "code",
      "execution_count": null,
      "metadata": {
        "id": "6vhlutrYx85M"
      },
      "outputs": [],
      "source": [
        "my_string = \"this is my code cell\""
      ]
    },
    {
      "cell_type": "code",
      "execution_count": null,
      "metadata": {
        "id": "2QihRWpxx85M",
        "outputId": "720aad52-c36b-44f5-d20a-1727b6757423"
      },
      "outputs": [],
      "source": [
        "print(my_string)"
      ]
    },
    {
      "cell_type": "markdown",
      "metadata": {
        "id": "dSfN6lPvx85N"
      },
      "source": [
        "Jupyter notebooks can be exported to pdf or html, so that other people can view both the code and its output. It's a good format for handing in homeworks, for example, since you can show your work. In this notebook, there will be exercises with placeholders for the code that you will have to fill in. For these exercises, we encourage you to work with each other, use google, LLMs, and whatever other resources if you are stuck. It's not an exam, but just a way to get practice of the concepts. Afterwards, we will post the completed notebook on our website so you can have examples of solutions."
      ]
    },
    {
      "cell_type": "markdown",
      "metadata": {
        "id": "JWA8FQAFx85O"
      },
      "source": [
        "## Python refresher\n",
        "\n",
        "Let's begin by reviewing some of the terms we've covered in the past sessions that will come up again today.\n",
        "\n",
        "| Term | Definition |\n",
        "| --- | --- |\n",
        "| Object | The thing itself (an instance of a class) |\n",
        "| Variable | The name we give the object (a pointer to the object) |\n",
        "| Class | The blueprint for the object (defines the attributes and methods of object) |\n",
        "| Method | A function that belongs to an object |\n",
        "| Attribute | A property of an object |\n",
        "| Function | A piece of code that takes an input and gives an output/does something |\n",
        "| Argument| The objects that are passed to the function for it to operate on |\n",
        "| Library | Collections of python functions/capabilities that can be installed and loaded on top of base python\n",
        "\n",
        "### Object Methods\n",
        "\n",
        "Everything in python is an **object**, and depending on the type of object, they may have certain **methods** that can be called on them. For example, strings have a method called `upper()` that converts the string to uppercase."
      ]
    },
    {
      "cell_type": "code",
      "execution_count": null,
      "metadata": {
        "id": "U3vIR3pGx85O",
        "outputId": "db951619-38bb-4abc-dada-a788e710a0fd"
      },
      "outputs": [],
      "source": [
        "my_string = \"hello\"\n",
        "my_string.upper()"
      ]
    },
    {
      "cell_type": "markdown",
      "metadata": {
        "id": "zsM7-4-1x85P"
      },
      "source": [
        "\n",
        "In the above code, `my_string` is a string object, and we are calling the `upper()` method on it. The method is called by using the `.` operator. Methods are functions that can only be used on objects of certain classes. You will often see methods strung together, like below:"
      ]
    },
    {
      "cell_type": "code",
      "execution_count": null,
      "metadata": {
        "id": "CYHSD4Wfx85P",
        "outputId": "ff8afc93-7676-4b18-f7da-dd5064e83dbd"
      },
      "outputs": [],
      "source": [
        "my_string = \"hello\"\n",
        "# This first makes the first letter uppercase, then swaps the cases of each letter\n",
        "my_string.capitalize().swapcase()"
      ]
    },
    {
      "cell_type": "markdown",
      "metadata": {
        "id": "oMVxjr-8x85Q"
      },
      "source": [
        "### Object Attributes\n",
        "\n",
        "We'll be learning about some more complex objects today, like **numpy arrays**, which also have attributes. **Attributes** are properties of an object that can be accessed using the `.` operator. For example, numpy arrays have an attribute called `shape` that tells you the dimensions of the array. The difference between an attribute and a method is that attributes are information about a given object, rather than a task being performed on the object. Practically, this means that, while both attributes and methods are called on an object with the dot operator `.`, attributes are accessed without parentheses, so you don't need to call them like functions."
      ]
    },
    {
      "cell_type": "code",
      "execution_count": null,
      "metadata": {
        "id": "H0R3_Dcfx85Q",
        "outputId": "79026dbf-3fc0-4833-fe64-3949d9476c5e"
      },
      "outputs": [],
      "source": [
        "# this makes a np array (we'll learn more about these shortly!)\n",
        "my_array = np.array([1, 2, 3, 4, 5])\n",
        "\n",
        "# this gets the size (total number of elements) of the array\n",
        "my_array.size"
      ]
    },
    {
      "cell_type": "markdown",
      "metadata": {
        "id": "xLrox8L_x85R"
      },
      "source": [
        "## Base Python Data Structures\n",
        "\n",
        "### Lists\n",
        "\n",
        "**Lists** are one the most flexible of data structures in Python. They are created with `[]` and can contain any type of data. Each **element** in a list is separated by a comma. Lists are ordered and can be indexed, sliced, and concatenated just like strings. When lists are all numerical, they can also support mathematical operations like `max()` and `min()`. Lists can also be nested using another `[]` within the list.\n",
        "\n",
        "Lists are our first introduction to a **mutable** data structure, meaning you can change a list without having to create a new one. Indeed, list methods may modify your data **in place** and/or **return** a new object. If the method modifies the object in place, its return value will be `None`. Modifying in place means you don't have to assign the result of the method to a new variable, while returning a new object means you do have to assign it. For example, `list.append(x)` updates the list in place, while `list.pop()` both returns the last element and removes it from the list in place.\n",
        "\n",
        "Below are some useful operations and methods for lists. For a full list of methods, you can use `help()` on the list or consult the [docs](https://docs.python.org/3/library/stdtypes.html#list) page.\n",
        "\n",
        "**Operations and methods for lists**\n",
        "\n",
        "| Operation/Method | Description |\n",
        "| --- | --- |\n",
        "| `+` | Concatenation |\n",
        "| `*` | Repetition |\n",
        "| `[]`, `[:]` | Indexing, slicing |\n",
        "| `.append(x)` | Add `x` to the end of the list |\n",
        "| `.extend([x, y, z])` | Add `[x, y, z]` to the end of the list |\n",
        "| `.insert(i, x)` | Add `x` at index `i` of the list |\n",
        "| `.pop(i)` | Remove and return the element at index `i`, defaults to last element if none given |\n",
        "\n",
        "**Use cases for lists**\n",
        "\n",
        "Lists are a data structure that is always there in the background, being useful. We see them when creating simple ordered collections to iterate through, when we need to store a sequence of data to reference later, or when we need to collected a bunch of objects together. Think of lists as a small temporary transport for data. Lists are not good for large datasets (because it will be slow) or when you need to do a lot of mathematical operations (because it lacks functionality).\n",
        "\n",
        "### Dictionaries\n",
        "\n",
        "**Dictionaries** store **key:value pairs**. Keys must be immutable and are typically strings or numerical identifiers, while the values can be just about anything, including other dictionaries, lists, or individual values. You can create a dictionary with `{}` or with the `dict()` function. The two ways to create a dictionary are shown below:\n",
        "\n",
        "```python\n",
        "my_dict = {'a': 1, 'b': 2, 'c': 3}\n",
        "my_dict = dict((\"a\", 1), (\"b\", 2), (\"c\", 3))\n",
        "```\n",
        "\n",
        "In recent versions of Python (3.8+), dictionaries keys maintain the order in which they were added, which is useful to maintain consistency when looping over the keys. However, in previous versions of Python, dictionaries were unordered. You can't index or slice dictionaries (since dictionary elements aren't accessed by index). But you can retrieve items by their key, e.g. `my_dict[\"a\"]` or `my_dict.get(\"a\")`. Like lists, dictionaries are mutable, so you can add, remove, or update the key:value pairs in place. Other methods return \"View objects\" that allow you to see the items in the dictionary, but won't allow you to modify the dictionary, however these objects can usually be easily converted to lists with the `list()` function. Here are some useful methods for dictionaries:\n",
        "\n",
        "**Operations and methods for dictionaries**\n",
        "\n",
        "| Operation/Method | Description |\n",
        "| --- | --- |\n",
        "| `[<key>]` | Retrieve value by key |\n",
        "| `.keys()` | Returns a view object of the keys |\n",
        "| `.values()` | Returns a view object of the values |\n",
        "| `.items()` | Returns a view object of the key:value pairs |\n",
        "| `.update(dict)` | Updates the dictionary with the key:value pairs from another dictionary |\n",
        "\n",
        "**Use cases for dictionaries**\n",
        "\n",
        "Dictionaries are a data structure that is more specialized for information that can be organized in a key:value pair way. You may see dictionaries being used to store associations between a name/ID and some characteristics, or to store a set of parameters for a function, or to organize a hierarchical grouping of information. Dictionaries are optimized for fast access to the values by key and for flexible organization of the data. Although you can edit the values of a dictionary, they aren't good for mathematical operations or for ordered data."
      ]
    },
    {
      "cell_type": "markdown",
      "metadata": {
        "id": "zdBpVzLxx85S"
      },
      "source": [
        "## Learning to read documentation\n",
        "\n"
      ]
    },
    {
      "cell_type": "markdown",
      "metadata": {
        "id": "2T9EBiwqx85S"
      },
      "source": [
        "Today our first lesson will be about how to read documentation, because we are going to start using libraries such as **numpy** and **pandas**, which have many features that we do not have the time to cover in detail. Instead, if you can read documentation efficiently, you can learn how to use these libraries on your own.\n",
        "\n",
        "\n",
        "**Programming effectively actually involves a lot of reading**\n",
        "\n",
        "Programming involves reading primarily documentation, but also code, search results, stackexchange queries, etc. These are just a few examples of what you'll read as you work on code. Reading the documentation of a package or library or software that you are using should probably be the first thing you do when you start using it. However, software docs pages are a much different sort of writing than we may be used to, if we're primarily used to reading journal articles, textbooks, and protocols. Knowing how and how much to read documentation is a skill that needs to be developed over time to suit your own needs. There's definitely no need to read every single page of documentation of a piece of software, especially for large libraries like `numpy` or `matplotlib`.\n",
        "\n",
        "**There are a variety of ways software can be documented**\n",
        "\n",
        "You may be handed a single script from a colleague to perform some action and that script may have **comments** in the code detailing what it does or what certain lines do. Individual functions may have what is called a **docstring**, which is a string that occurs immediately after the function definition detailing how do use that function, inputs, and outputs. Another type of documentation is a docs page or **API reference** on a website for that software, such as the page for the seaborn's [scatterplot](https://seaborn.pydata.org/generated/seaborn.scatterplot.html) function. Many software packages also have some introductory pages like **vignettes** or **tutorials** that guide you through the basics of the software. The [Getting started tutorials](https://pandas.pydata.org/docs/getting_started/intro_tutorials/index.html) of Pandas is a good example of this.\n",
        "\n",
        "**What documentation are we meant to read?**\n",
        "\n",
        "In general, documentation is meant to be a reference manual more than a textbook. A lot of documentation is really repetitive, because it has to exhaustively cover every single function, class, and use-case available to the user. I do not recommend reading documentation like a book or in any linear way. That's like learning a foreign language by reading the dictionary. For example, `numpy` has a variety of [mathematical functions](https://numpy.org/doc/stable/reference/routines.math.html), but you are not required to look at the doc page of each of those. It is enough to know that it exists and when you do want to use a particular one, to check the page of that specific function. The most important parts of the documentation to read first are the tutorials/user guides, which introduce the basic functionality of the software with some example code. Often times, this code is exactly what you need to get started. If you get stuck, then it's time to read the docs pages for the specific commands you are using."
      ]
    },
    {
      "cell_type": "markdown",
      "metadata": {
        "id": "ASCXtv_6x85S"
      },
      "source": [
        "### Anatomy of a docs page\n",
        "\n",
        "Scientific articles typically have the same sections: Introduction, Methods, Results/Discussion. Similarly, docs pages for a function should all have some common components:\n",
        "\n",
        "* Function name and how to call it\n",
        "    * parameters in parentheses with any defaults showing\n",
        "    * positional parameters first, keyword parameters after asterisk\n",
        "* Description of function\n",
        "* Detailed parameters that can be passed to each function\n",
        "    * type of object that can be passed\n",
        "    * description of what the parameter does\n",
        "* Returns\n",
        "    * type of object(s) returned\n",
        "    * description of the object\n",
        "* Examples\n",
        "\n",
        "**Just the basics**\n",
        "\n",
        "If this is your first time encountering the function, glance at the function name and description and then go directly to the examples. This will help you understand if this function does what you think it does and give you a template to use it.\n"
      ]
    },
    {
      "cell_type": "markdown",
      "metadata": {
        "id": "uKr51JVhx85S"
      },
      "source": [
        ">**Exercise:** Read the documentation page for plotting pie charts in matplotlib [here](https://matplotlib.org/stable/api/_as_gen/matplotlib.axes.Axes.pie.html). What is the minimal information you need to pass to the function to get a pie chart? What parameters are optional or already have defaults?"
      ]
    },
    {
      "cell_type": "markdown",
      "metadata": {
        "id": "fH8uflRFx85T"
      },
      "source": [
        "\n",
        "**Troubleshooting**\n",
        "\n",
        "Looking at a docs page is helpful for troubleshooting certain errors."
      ]
    },
    {
      "cell_type": "markdown",
      "metadata": {
        "id": "bkXak3U_x85T"
      },
      "source": [
        ">**Exercise:** Below is some code that is meant to plot a pie chart using some functions in the matplotlib library. However, it's not working. Can you figure out what's wrong?"
      ]
    },
    {
      "cell_type": "code",
      "execution_count": null,
      "metadata": {
        "colab": {
          "base_uri": "https://localhost:8080/",
          "height": 216
        },
        "id": "hxq_2wVkx85T",
        "outputId": "2f7ea29c-a0bd-48f2-fa40-a4495e3f8eed"
      },
      "outputs": [],
      "source": [
        "labels = ['Python', 'Java', 'C++', 'Ruby']\n",
        "sizes = [215, 130, 245, 210]\n",
        "\n",
        "fig, ax = plt.subplots()\n",
        "\n",
        "ax.pie(sizes, labs=labels, autopct='%1.1f%%', shadow=True, startangle=140)\n",
        "\n",
        "# Aspect ratio to ensure the pie chart is circular.\n",
        "ax.axis('equal')\n",
        "\n",
        "ax.set_title('Programming Language Popularity')"
      ]
    },
    {
      "cell_type": "markdown",
      "metadata": {
        "id": "slrPcyhQx85T"
      },
      "source": [
        "**Exploring**\n",
        "\n",
        "If you are trying to find a specific way to customize the pie chart, it is worth reading the entire list of parameters to see what options are available."
      ]
    },
    {
      "cell_type": "markdown",
      "metadata": {
        "id": "Rd92x71jx85U"
      },
      "source": [
        ">**Discussion:** Read the pie plot function's [documentation](https://matplotlib.org/stable/api/_as_gen/matplotlib.axes.Axes.pie.html) page. How does the function give you control over the look of your pie wedges?"
      ]
    },
    {
      "cell_type": "markdown",
      "metadata": {
        "id": "nBhIoXLYA0eH"
      },
      "source": [
        "## Refresher: importing libraries\n",
        "\n",
        "Recall that we covered how to **import libraries** of functions previously. For instance, we can import the built-in `math` library and then use the functions it contains:"
      ]
    },
    {
      "cell_type": "code",
      "execution_count": null,
      "metadata": {
        "colab": {
          "base_uri": "https://localhost:8080/"
        },
        "id": "fbKYBQaEBEfA",
        "outputId": "596338be-b16a-4739-b38e-c8be34562057"
      },
      "outputs": [],
      "source": [
        "import math\n",
        "print(math.log(100))"
      ]
    },
    {
      "cell_type": "markdown",
      "metadata": {
        "id": "_2OKWugKBHiz"
      },
      "source": [
        "We need to type `math.` so Python knows where to look for the `log()` function.\n",
        "\n",
        "We can also use an **alias** if we don't want to type `math.` every time we use a function from the library:"
      ]
    },
    {
      "cell_type": "code",
      "execution_count": null,
      "metadata": {
        "colab": {
          "base_uri": "https://localhost:8080/"
        },
        "id": "iJgUVBvVBRaj",
        "outputId": "7b59e9c7-803f-44f5-bac3-d41745ba03e9"
      },
      "outputs": [],
      "source": [
        "import math as m\n",
        "print(m.log(100))"
      ]
    },
    {
      "cell_type": "markdown",
      "metadata": {},
      "source": [
        "## Reading and writing data in base python"
      ]
    },
    {
      "cell_type": "markdown",
      "metadata": {
        "id": "vdI_L_hYx85w"
      },
      "source": [
        "In this next section, we'll read data of bird names and bird sightings from two CSV files and then write out the total number of sightings for each bird to a new CSV file."
      ]
    },
    {
      "cell_type": "markdown",
      "metadata": {
        "id": "giOIYpjjx85w"
      },
      "source": [
        "### Reading data line by line\n",
        "\n",
        "A common way to read data in Python is line by line. This is useful when you have a file that is too large to fit into memory all at once. You can read the file line by line and process each line as you go. This is also useful when you need to parse a file that has a specific structure so that it can be read into a data structure like a numpy array or pandas dataframe. In this section, when we talk about files, we mean text files that contain data that exist on your local machine. This is different from the data structures we've been working with so far, which are in memory (in your python instance).\n",
        "\n",
        "The syntax for opening a file is `open(filename, mode)`, where mode can be `r` for reading, `w` for writing, `a` for appending. Reading mode means that you can only read the file but not change it (on the disk). Writing mode means you are creating a new file or overwriting an existing file. Appending mode means you are adding to an existing file.\n",
        "\n",
        "When you open a file, you can read it line by line using a `for` loop. While there are several ways to open a file in Python, the most efficient is with the `with` keyword, which will automatically close the file once you've done what you need. Here's an example of how that might look with a for loop to print each line of a file:\n",
        "\n",
        "```python\n",
        "with open('filename.txt', 'r') as file:\n",
        "    for line in file:\n",
        "        print(line)\n",
        "```\n",
        "\n",
        "The above code will print each line of the file to the console. Notice the use of the keyword `as`, similar to how we setup an **alias** when we import a library. Here it serves a similar purpose, giving us a name to refer to the file object we've opened. We can name it anything we want, but `file` was just an example. The `line` variable is how we refer to each line of the file as we iterate through it. Again, it's an arbitrary name.\n",
        "\n",
        "This for loop is similar to how we iterate through a list. The only difference is that we're iterating through something that is being read from our local computer rather than an object in memory.\n",
        "\n",
        "In the example, we are only printing the lines of the file, but just as with any for loop, you can do anything you want with each line, such as apply a function to it, split it up and store it in a data structure, or write different parts of it to a new file. So think of that `print(line)` line as a placeholder for whatever you want to do with the line.\n",
        "\n",
        "### Vocab\n",
        "\n",
        "|Term|Definition|\n",
        "|---|---|\n",
        "|File|A collection of data stored on a disk|\n",
        "|Line|A string of characters that ends with a newline character|\n",
        "|Newline character|A special character that indicates the end of a line, usually `\\n`|\n",
        "|Delimiter|A character that separates data fields in a line, usually a comma, tab, or space|\n",
        "|Parsing|The process of extracting data from a file|\n",
        "|Whitespace|Any character that represents a space, tab, or newline|\n",
        "|Leading/trailing whitespace|Whitespace at the beginning or end of a string|\n"
      ]
    },
    {
      "cell_type": "markdown",
      "metadata": {
        "id": "oGOqaBSNx85w"
      },
      "source": [
        "Let's work through a more concrete example of how we might read and then parse through a file. Let's suppose we have a list of taxon ids and bird names that we want to read into a **dictionary**. The file looks like this:\n",
        "\n",
        "```\n",
        "Anas rubripes,American Black Duck,6924\n",
        "Fulica americana,American Coot,473\n",
        "Spinus tristis,American Goldfinch,145310\n",
        "Falco sparverius,American Kestrel,4665\n",
        "```\n",
        "\n",
        "First, run this block to download the file to the Jupyter notebook environment.."
      ]
    },
    {
      "cell_type": "code",
      "execution_count": null,
      "metadata": {
        "id": "1yVz5frKx85w",
        "outputId": "7efa4170-de95-4d79-9e5b-a5dcba13d889"
      },
      "outputs": [],
      "source": [
        "# This line downloads the file locally to the same folder as your notebook\n",
        "!wget https://informatics.fas.harvard.edu/workshops/python-intensive/data/bird_names.csv"
      ]
    },
    {
      "cell_type": "markdown",
      "metadata": {
        "id": "fXTSzHKfEt4H"
      },
      "source": [
        "Then, in the code below we first read the file line by line, then strip the whitespace and split the line by a comma. Then, we will create a dictionary where the key is the taxon id and the value is the common name of the bird."
      ]
    },
    {
      "cell_type": "code",
      "execution_count": null,
      "metadata": {
        "id": "PLbmpFrRx85x",
        "outputId": "9061cea8-1787-4d7d-f8f8-427c06d2cf4a"
      },
      "outputs": [],
      "source": [
        "filename = 'bird_names.csv'\n",
        "\n",
        "bird_names = dict()\n",
        "\n",
        "with open(filename, 'r') as file:\n",
        "    for line in file:\n",
        "        line = line.strip().split(',')\n",
        "        bird_names[line[2]] = line[1]\n",
        "\n",
        "print(bird_names)"
      ]
    },
    {
      "cell_type": "markdown",
      "metadata": {
        "id": "Lagv03K5x85x"
      },
      "source": [
        ">**Exercise**: Rerun the code above and remove the `strip()` method. What happens?"
      ]
    },
    {
      "cell_type": "markdown",
      "metadata": {
        "id": "Gbwh5p-sx85x"
      },
      "source": [
        "Here are some handy functions when working with lines in files. These are all string methods, so you can use them on any string, including strings that are read from a file.\n",
        "\n",
        "**Useful functions for reading files by line**\n",
        "\n",
        "| Function | Description |\n",
        "| --- | --- |\n",
        "| `.strip()` | Removes leading and trailing whitespace and newlines from a string |\n",
        "| `.split()` | Splits a string into a list of strings based on a delimiter |\n",
        "| `.join()` | Joins a list of strings into a single string with a delimiter |\n",
        "| `line[:]` | Indexing and slicing works on strings too |\n",
        "| `.replace(old, new)` | Replaces all instances of `old` with `new` in a string |\n",
        "\n",
        "**Useful special characters**\n",
        "\n",
        "Special characters in files are often used as delimiters or to indicate the end of a line. The two most common special characters are:\n",
        "\n",
        "| Character | Description |\n",
        "| --- | --- |\n",
        "| `\\n` | Newline character |\n",
        "| `\\t` | Tab character |"
      ]
    },
    {
      "cell_type": "markdown",
      "metadata": {
        "id": "P-YfuiJ-x85x"
      },
      "source": [
        ">**Exercise**: Copy the code above and modify it so that the dictionary keys are the taxon ids and the values are another dictionary, with keys 'scientific_name' and 'common_name' and values the appropriate entries for that bird species.\n",
        ">\n",
        "> For example, a sample dictionary entry should look like this:\n",
        "> ```\n",
        "> {6924: {'scientific_name': 'Anas rubripes', 'common_name': 'American Black Duck'}}\n",
        "> ```"
      ]
    },
    {
      "cell_type": "code",
      "execution_count": null,
      "metadata": {
        "id": "0GQJqgU1x85x",
        "outputId": "674fdca6-7948-45be-c0c0-9da6ec8139d9"
      },
      "outputs": [],
      "source": [
        "filename = 'bird_names.csv'\n",
        "\n",
        "# Your code here\n",
        "bird_names = dict()\n",
        "\n",
        "print(bird_names)"
      ]
    },
    {
      "cell_type": "markdown",
      "metadata": {
        "id": "9kMtFgKwx85y"
      },
      "source": [
        ">**Exercise**: Why did we use a dictionary to store the data in the previous exercise? Think about what features of a dictionary make it a good choice or what features of lists or arrays make them a bad choice."
      ]
    },
    {
      "cell_type": "markdown",
      "metadata": {
        "id": "71hcjRU_x85y"
      },
      "source": [
        "Below is an excerpt from a file of iNaturalist observations of birds in Cambridge, MA from the year 2023. We will loop through the file and count the number of observations of each species. We will also use the previously created dictionary to get the species names.\n",
        "\n",
        "```csv\n",
        "id,time_observed_at,taxon_id\n",
        "145591043,2023-01-01 17:33:31 UTC,14886\n",
        "145610149,2023-01-01 20:55:00 UTC,7004\n",
        "145610383,2023-01-01 21:13:00 UTC,6993\n",
        "145611915,2023-01-01 21:12:00 UTC,13858\n",
        "```\n",
        "\n",
        "Run the code block below to download the file to the Jupyter notebook environment."
      ]
    },
    {
      "cell_type": "code",
      "execution_count": null,
      "metadata": {
        "id": "3nbIH3wix85y"
      },
      "outputs": [],
      "source": [
        "# This line downloads the file locally to the same folder as your notebook\n",
        "!wget https://informatics.fas.harvard.edu/workshops/python-intensive/data/bird_observations.csv"
      ]
    },
    {
      "cell_type": "markdown",
      "metadata": {
        "id": "RuOgnWGbx85y"
      },
      "source": [
        ">**Exercise:** Work with a neighbor or two to do the following exercise:\n",
        "> Loop through the file and count the number of observations of each species. After all the observations have been counted, print all the species names and the number of observations. You will need to use the dictionary you created in the previous exercise to get the species names. It's up to you what kind of data structure (if any) you want to use to store the counts.\n",
        ">\n",
        "> 1. Write out pseudocode for what you will do for each line in your birdfile\n",
        "> 2. Try to turn the pseudocode into python code. If there's something you want to do, but don't know the syntax or function, raise your hand and we can help you.\n",
        "> 3. Find out how many European Starlings were observed as proof that your code works."
      ]
    },
    {
      "cell_type": "code",
      "execution_count": null,
      "metadata": {
        "id": "ZCCEeNG_x85y"
      },
      "outputs": [],
      "source": [
        "filename = 'bird_observations.csv' #keep\n",
        "\n",
        "bird_observations = dict()\n",
        "\n",
        "with open(filename, 'r') as birdfile: #keep\n",
        "    # skip the header\n",
        "    next(birdfile) #keep\n",
        "    for line in birdfile: #keep\n",
        "        # your code here\n",
        "\n",
        "\n",
        "print(bird_observations)"
      ]
    },
    {
      "cell_type": "markdown",
      "metadata": {
        "id": "2K_SotU8x85z"
      },
      "source": [
        "If you routinely find yourself reading delimited files, you might want to use the `csv` library. The `csv` library also has the ability to parse Excel files or read and write to/from dictionaries directly. For more information, here's the [doc page](https://docs.python.org/3/library/csv.html). Here's what the above code would look like using the `csv` module:"
      ]
    },
    {
      "cell_type": "code",
      "execution_count": null,
      "metadata": {
        "id": "hEf9BOh6x85z"
      },
      "outputs": [],
      "source": [
        "import csv\n",
        "\n",
        "filename = 'bird_observations.csv'\n",
        "\n",
        "bird_observations = dict()\n",
        "\n",
        "with open(filename, 'r') as birdfile:\n",
        "    # this line takes the place of us having to strip and split the lines\n",
        "    reader = csv.reader(birdfile, delimiter=',')\n",
        "    # skip the header\n",
        "    next(reader)\n",
        "    for row in reader:\n",
        "        id = row[2]\n",
        "        name = bird_names[id]['common_name']\n",
        "        if name not in bird_observations:\n",
        "            bird_observations[name] = 0\n",
        "        bird_observations[name] += 1\n",
        "print(bird_observations)"
      ]
    },
    {
      "cell_type": "markdown",
      "metadata": {
        "id": "URDI7ZBGx85z"
      },
      "source": [
        "### Writing data by line\n",
        "\n",
        "Writing data to a file is similar to reading data from a file. You can open a file in write mode and then write to it line by line using the `print()` method, but this time passing in the variable we've stored the opened file in (in our case the variable is unimaginatively named `file`). Here's an example of writing a list of strings to a file:"
      ]
    },
    {
      "cell_type": "code",
      "execution_count": null,
      "metadata": {
        "id": "GvSaq_GVx85z"
      },
      "outputs": [],
      "source": [
        "my_text = ['this is a test', 'this is another test', 'this is the final test']\n",
        "\n",
        "with open('my_text.txt', 'w') as file:\n",
        "    for line in my_text:\n",
        "        print(line, file=file)\n",
        "\n",
        "# reading it back\n",
        "with open('my_text.txt', 'r') as file:\n",
        "    for line in file:\n",
        "        print(line)"
      ]
    },
    {
      "cell_type": "markdown",
      "metadata": {
        "id": "mq01Vdw2x85z"
      },
      "source": [
        ">**Exercise:** Use the `csv` module to write the species counts to a new file. The file should have two columns: the species name and the number of observations. The file should be comma-delimited. How this is written may depend on how you stored the species counts."
      ]
    },
    {
      "cell_type": "code",
      "execution_count": null,
      "metadata": {
        "id": "TkMI3wZ4x850"
      },
      "outputs": [],
      "source": [
        "# your code here\n",
        "\n"
      ]
    },
    {
      "cell_type": "markdown",
      "metadata": {
        "id": "jWWaxTyOx85U"
      },
      "source": [
        "## Numpy\n",
        "\n",
        "Numpy is an open-source **library** written in Python. It's main feature is the implementation of efficient **data structures** that can be used for large datasets and **functions** and **methods** for those data structures. This makes numpy well suited for scientific computing and data science.\n",
        "\n",
        "Principal among these Numpy data structures is the **numpy array**.\n"
      ]
    },
    {
      "cell_type": "markdown",
      "metadata": {
        "id": "hwJ10GCfBZ3r"
      },
      "source": [
        "### Importing Numpy\n",
        "\n",
        "Since Numpy is an external library of functions, it needs to be **imported** before we can use it. Since Numpy is so widely used, it has become common practice to import it using the alias `np`.\n",
        "\n",
        "> **Exercise**: Run the block of code below to import Numpy. You have to do this to be able to use any of the Numpy functions we'll talk about in the workship."
      ]
    },
    {
      "cell_type": "code",
      "execution_count": 17,
      "metadata": {
        "id": "Ooht6uBwBzyU"
      },
      "outputs": [],
      "source": [
        "# Run this block to import numpy with the alias np\n",
        "import numpy as np"
      ]
    },
    {
      "cell_type": "markdown",
      "metadata": {
        "id": "K3xC3t2q24LJ"
      },
      "source": [
        "### Numpy arrays\n",
        "\n",
        "**Numpy arrays** are a data structure that only contain one type of data, typically numerical, and are N-dimensional (any number of dimensions). You can create numpy arrays using the `np.array()` function (after running `import numpy as np`) or by converting other data structures to an array using `np.asarray()` or other helper functions. There are also many functions that can create an array with pre-filled numbers, such as `np.zeros()` and `np.arange()`. An array is defined by its `shape`, which describes the number of elements in each dimension, also known as **axes**. The first axis is the number of rows, the second is the number of columns, and so on for higher dimensional data.\n",
        "\n",
        "Today we will be spending a lot of time with numpy arrays as they are one of the main data structures for working with numerical data. We will learn how to navigate them, read and write from them, and also how to perform mathematical operations on them. We will also use numpy to create some visualizations.\n",
        "\n",
        "**Use cases for numpy arrays**\n",
        "\n",
        "The use cases for numpy arrays are very broad. They are used in scientific computing, machine learning, data analysis, and more. They are optimized for fast mathematical operations and are very efficient in terms of memory usage. They are also very flexible in terms of the number of dimensions they can have, so you can store a lot of data in a single numpy array. They are not good for storing mixed data types or for storing data that is not numerical."
      ]
    },
    {
      "cell_type": "markdown",
      "metadata": {
        "id": "6zAdbm7yx85U"
      },
      "source": [
        "### Generating numpy arrays\n",
        "\n",
        "Numpy has a variety of functions that can generate arrays for you. Some of the most common ones are `np.zeros()`, `np.ones()`, `np.arange()`, and `np.linspace()`."
      ]
    },
    {
      "cell_type": "markdown",
      "metadata": {
        "id": "hDuLiz36x85U"
      },
      "source": [
        ">**Exercise:** Read the documentation page for [np.zeros()](https://numpy.org/doc/stable/reference/generated/numpy.zeros.html). What is the minimal information you need to pass to the function to get an array of zeros? What parameters are optional or already have defaults?\n",
        ">\n",
        "> Once you have read the documentation, produce an array of zeros with 3 rows and 4 columns in the code block below."
      ]
    },
    {
      "cell_type": "code",
      "execution_count": null,
      "metadata": {
        "id": "69m-4fp4x85U",
        "outputId": "4245c5bf-7cac-413b-ea71-de20eac01bee"
      },
      "outputs": [],
      "source": [
        "# your code here\n",
        "\n"
      ]
    },
    {
      "cell_type": "markdown",
      "metadata": {
        "id": "69hcT9orx85V"
      },
      "source": [
        ">**Exercise:** Read the documentation page for [np.arange()](https://numpy.org/doc/stable/reference/generated/numpy.arange.html).\n",
        ">\n",
        "> Once you have read the documentation, produce an array of the even numbers from 100 to 200 in the code block below."
      ]
    },
    {
      "cell_type": "code",
      "execution_count": null,
      "metadata": {
        "id": "1ioau881x85V",
        "outputId": "e87c9e6d-0e1e-4dd1-9417-cf75c9a24d0c"
      },
      "outputs": [],
      "source": [
        "# your code here\n",
        "\n"
      ]
    },
    {
      "cell_type": "markdown",
      "metadata": {
        "id": "CII9i1XJx85W"
      },
      "source": [
        "Did you notice anything unexpected in the output above? Look at the last value of the result: it's 198, not 200. One might expect that, because the function call says to create an array that ends at 200, that value would be included. The fact that it doesn't has to do with python's zero-indexing behavior. To actually get 200 to be included, you'd need to set the second argument to 201. If in a scientific application you need an array that ends at (and includes) a specific value, be sure your function call is set up properly."
      ]
    },
    {
      "cell_type": "markdown",
      "metadata": {
        "id": "BkZ_0Mtvx85W"
      },
      "source": [
        ">**Exercise:** `size` and `shape` are attributes of numpy arrays that tells you how many elements are in the array or how many elements are in each dimension. You can access it by calling `array.size`, (where `array` is the name of your array). It can also be chained with the `arange()` function. For example, `np.arange(10).size` will return 10.\n",
        ">\n",
        "> `print()` the sizes and shapes of the two arrays you created above.\n",
        ">\n",
        "> What do you notice about the way the `size` and `shape` attributes are returned?"
      ]
    },
    {
      "cell_type": "code",
      "execution_count": null,
      "metadata": {
        "id": "tyWWh7AMx85W",
        "outputId": "69c7675c-a717-4afe-bedb-715bbc4f155b"
      },
      "outputs": [],
      "source": [
        "print(np.zeros([3,4]).size)\n",
        "print(np.zeros([3,4]).shape)\n",
        "\n",
        "print(np.arange(100,200,2).size)\n",
        "print(np.arange(100,200,2).shape)"
      ]
    },
    {
      "cell_type": "markdown",
      "metadata": {
        "id": "whWdMfBDx85W"
      },
      "source": [
        "When you print the size of an array, you will get a single number of the total number of elements in the array. When you print the shape of an array, you will get a **tuple** of the number of elements in each dimension. However, if the array is one-dimensional, it will still return a tuple, but with a single element.\n",
        "\n",
        "Recall that a **tuple** is a data structure that is similar to a list, but is immutable. This means that you cannot change the elements of a tuple after it is created. Tuples are created by using parentheses instead of square brackets. Tuples are often returned by functions that need to return multiple values."
      ]
    },
    {
      "cell_type": "markdown",
      "metadata": {
        "id": "KO98hc1ax85W"
      },
      "source": [
        ">**Exercise:** `reshape()` is a method that can be called on a numpy array to change its shape. Use it to change the array you created using `np.arange(100,200,2)` to have 10 rows and 5 columns. [reshape() documentation](https://numpy.org/doc/stable/reference/generated/numpy.reshape.html)\n",
        ">\n",
        "> What are the restrictions on the shape you can pass to `reshape()`?"
      ]
    },
    {
      "cell_type": "code",
      "execution_count": null,
      "metadata": {
        "id": "Yzk6hiXDx85W",
        "outputId": "4d0126d1-e88d-400f-9b75-01f6dca364d4"
      },
      "outputs": [],
      "source": [
        "# your code here\n",
        "\n"
      ]
    },
    {
      "cell_type": "markdown",
      "metadata": {
        "id": "QNs2qfjQx85X"
      },
      "source": [
        "### Difference between numpy arrays and lists\n",
        "\n",
        "A one-dimensional numpy array is called a `vector` and it looks very much like a list, but with the additional restriction that **only one data type can be stored in it**. So why do we want to use numpy arrays instead of lists? Run the code blocks below to see the main reason numpy is used more for data analysis than lists. Annotate each line of code with a comment explaining what it does."
      ]
    },
    {
      "cell_type": "code",
      "execution_count": 4,
      "metadata": {
        "id": "AE89y16kx85Y"
      },
      "outputs": [],
      "source": [
        "my_numpy_array = np.arange(1, 1000000)\n",
        "my_list = list(range(1, 1000000))"
      ]
    },
    {
      "cell_type": "code",
      "execution_count": null,
      "metadata": {
        "colab": {
          "base_uri": "https://localhost:8080/"
        },
        "id": "vh6XLiwfx85Y",
        "outputId": "0b2fba9f-616c-40d5-9611-b6ba771731e6"
      },
      "outputs": [],
      "source": [
        "%timeit np.sum(my_numpy_array)"
      ]
    },
    {
      "cell_type": "code",
      "execution_count": null,
      "metadata": {
        "colab": {
          "base_uri": "https://localhost:8080/"
        },
        "id": "6hQIaRcKx85Y",
        "outputId": "cbdb90aa-26ad-4bc4-afa7-302f5d553295"
      },
      "outputs": [],
      "source": [
        "%timeit sum(my_list)"
      ]
    },
    {
      "cell_type": "markdown",
      "metadata": {
        "id": "nWdKVsGwx85Z"
      },
      "source": [
        "In the above code, we used the \"magic command\" `%timeit` to time how long it takes to run a line of code. This command runs the code multiple times and gives you the average time it took to run. We used it to compare the time it takes to sum the elements of a list and the time it takes to sum the elements of a numpy array.\n",
        "\n",
        "Note that the `%timeit` command is specific to Jupyter notebooks. If you are running this code in a script, you would have to use the `timeit` module to time your code.\n",
        "\n",
        "We can see that using the numpy-specific `np.sum` function on a numpy array is much faster that using the base python sum function on a list. Each operation runs in microseconds instead of milliseconds."
      ]
    },
    {
      "cell_type": "code",
      "execution_count": null,
      "metadata": {
        "id": "9YoZf2wMx85Z",
        "outputId": "88afaf2e-0e68-4c1d-a134-2e51d127cbb1"
      },
      "outputs": [],
      "source": [
        "import sys\n",
        "\n",
        "print(f\"Memory used by numpy array: {my_numpy_array.nbytes/1024/1024} MB\")\n",
        "list_size = (sys.getsizeof(my_list)+ sum(sys.getsizeof(item) for item in my_list)) / 1024 / 1024\n",
        "print(f\"Memory used by list: {list_size} MB\")"
      ]
    },
    {
      "cell_type": "markdown",
      "metadata": {
        "id": "U4j2yFrAx85Z"
      },
      "source": [
        "In the above code, we printed out the memory usage of the numpy array and the list. This reveals that the numpy array also takes up less memory to store the same amount of information as a list.\n",
        "\n",
        "In summary, numpy, which is made to do calculations, is an improvement over base python lists because it is faster and more memory efficient.\n",
        "\n",
        "If you want some more analysis, you can check out this [stackoverflow](https://stackoverflow.com/questions/10922231/pythons-sum-vs-numpys-numpy-sum) thread."
      ]
    },
    {
      "cell_type": "markdown",
      "metadata": {
        "id": "AAJyIfHYx85Z"
      },
      "source": [
        "## Numpy operations"
      ]
    },
    {
      "cell_type": "markdown",
      "metadata": {
        "id": "VoVIZn5vx85Z"
      },
      "source": [
        "### Broadcasting\n",
        "\n",
        "You can perform mathematical operations on arrays and they'll propagate to each element. This is called **broadcasting**. In order for the element-wise operation to work, the two objects you're operating with either have to have the same shape or one of them has to be a **scalar**, meaning a single number. Numpy also has functions that allow you to operate on the entire array, such as `np.sum()`, `np.mean()`, etc.\n",
        "\n",
        "Consider the following operation on two numpy arrays:\n"
      ]
    },
    {
      "cell_type": "code",
      "execution_count": null,
      "metadata": {
        "colab": {
          "base_uri": "https://localhost:8080/"
        },
        "id": "UTR-tpjd5kc0",
        "outputId": "88b0cace-d68e-41b0-a4fa-bf5022c3c1f4"
      },
      "outputs": [],
      "source": [
        "predicted_array = np.array([1, 2, 3, 4, 5])\n",
        "expected_array = np.array([2, 4, 1, 5, 5])\n",
        "\n",
        "print(predicted_array - expected_array)"
      ]
    },
    {
      "cell_type": "markdown",
      "metadata": {
        "id": "oJ9SlVPH5qn2"
      },
      "source": [
        "By using the subtraction operator `-`, which we learned is designed to subtract one single number from one other single number, we have actually performed the operation automatically on each number in the arrays. The first number in `predicted` is `1` and the first number in `expected` is `2`, so the first number in the resulting output is `2 - 1` or `-1`. The second number in `predicted` is `2` and the second number in `expected` is `4`, so the second number in the resulting output is `2 - 4` or `-2`. And so on for the remaining numbers in the arrays.\n",
        "\n",
        "What if we tried to do this with normal Python lists?"
      ]
    },
    {
      "cell_type": "code",
      "execution_count": null,
      "metadata": {
        "colab": {
          "base_uri": "https://localhost:8080/",
          "height": 180
        },
        "id": "a8TsHxji6dEe",
        "outputId": "51866bab-89ff-425c-e71c-3f41d2f2dcd8"
      },
      "outputs": [],
      "source": [
        "predicted_list = [1, 2, 3, 4, 5]\n",
        "expected_list = [2, 4, 1, 5, 5]\n",
        "\n",
        "print(predicted_list - expected_list)"
      ]
    },
    {
      "cell_type": "markdown",
      "metadata": {
        "id": "v-UcxEkV6qIM"
      },
      "source": [
        "An error, stating that we can't use the subtraction operator `-` on lists. To achieve the same result as the numpy arrays, we'd have to loop over the lists by index, a much slower process that requires us to write more code.\n",
        "\n",
        "If provided a scalar, instead of a second array, the arithmetic operation will be performed on each element in the first array using the same number on each one:"
      ]
    },
    {
      "cell_type": "code",
      "execution_count": null,
      "metadata": {
        "colab": {
          "base_uri": "https://localhost:8080/"
        },
        "id": "ozmyS8Oz7J_j",
        "outputId": "c0d71af8-ade2-4f5d-dffa-84bbb89ba28d"
      },
      "outputs": [],
      "source": [
        "single_number = 3\n",
        "print(predicted_array - 3)"
      ]
    },
    {
      "cell_type": "markdown",
      "metadata": {
        "id": "WIYB6Q5v7SKu"
      },
      "source": [
        "Here, each number in `predicted_array` has `3` subtracted from it.\n",
        "\n",
        "Again, this is something we'd have to use a loop to do with regular lists. This is a huge advantage of numpy arrays over native Python data structures like lists.\n",
        "\n",
        "Below is a practical example that combines the array/array broadcasting and array/scalar broadcasting. Here, we calculate the mean squared error of two 1D arrays using the formula $\\frac{1}{n}\\sum_{i=1}^{n}(predicted_i - expected_i)^2$."
      ]
    },
    {
      "cell_type": "code",
      "execution_count": null,
      "metadata": {
        "colab": {
          "base_uri": "https://localhost:8080/"
        },
        "id": "OKcRY8Kgx85a",
        "outputId": "be6ea60b-073a-4c62-850d-83ac59611cd1"
      },
      "outputs": [],
      "source": [
        "predicted = np.array([1, 2, 3, 4, 5])\n",
        "expected = np.array([2, 4, 1, 5, 5])\n",
        "mse = (1/len(predicted)) * np.sum(np.square(predicted - expected))\n",
        "print(mse)"
      ]
    },
    {
      "cell_type": "markdown",
      "metadata": {
        "id": "QFixoQ6cx85a"
      },
      "source": [
        "Breaking down the code, you can see what is produced at each step"
      ]
    },
    {
      "cell_type": "code",
      "execution_count": null,
      "metadata": {
        "colab": {
          "base_uri": "https://localhost:8080/"
        },
        "id": "GrYESxaZx85a",
        "outputId": "49c8db6e-4625-440a-a523-1c589860f015"
      },
      "outputs": [],
      "source": [
        "print(predicted - expected)\n",
        "print(np.square(predicted - expected))\n",
        "print(np.sum(np.square(predicted - expected)))\n",
        "print(1/len(predicted))"
      ]
    },
    {
      "cell_type": "markdown",
      "metadata": {
        "id": "16zb0JgT73ZN"
      },
      "source": [
        "And of course 0.2 * 10 is 2.0, the same result as the single expression above.."
      ]
    },
    {
      "cell_type": "markdown",
      "metadata": {
        "id": "rJedjc8ex85b"
      },
      "source": [
        "### Slicing and indexing numpy arrays\n",
        "\n",
        "**Slicing** arrays is a powerful tool for **extracting subsets of data**. The syntax for slicing is `array[start:stop:step]`, similar to what we learned about slicing strings and lists. If you don't specify a start, it defaults to index 0 (the first element of the array), if you don't specify a stop, it defaults to the end of the array, and if you don't specify a step, it defaults to 1. When you specify a start and stop, the range is inclusive of the start and exclusive of the stop. Usually, you don't need to specify the step, so you can omit the second colon.\n",
        "\n",
        "You can also use negative indices to count from the end of the array. When you use negative indices, inclusive of the start and exclusive of the stop still applies."
      ]
    },
    {
      "cell_type": "markdown",
      "metadata": {
        "id": "4d9Kkgirx85b"
      },
      "source": [
        "Here are some examples of slicing one-dimensional and two-dimensional arrays. See if you can predict the output before running the code. (Do these on the board)"
      ]
    },
    {
      "cell_type": "code",
      "execution_count": null,
      "metadata": {
        "id": "NpkALqifx85c",
        "outputId": "40048bee-98a7-4e2b-aab7-050acc60a329"
      },
      "outputs": [],
      "source": [
        "# Examples of slicing one-dimensional arrays\n",
        "arr1 = np.array([1, 2, 3, 4, 5])\n",
        "print(arr1[0:2])\n",
        "print(arr1[1:3])\n",
        "print(arr1[:])\n",
        "print(arr1[2:])\n",
        "print(arr1[-1:])\n",
        "print(arr1[:-1])\n",
        "print(arr1[-3:-1])\n",
        "print(arr1[::2])\n",
        "print(arr1[::-1])"
      ]
    },
    {
      "cell_type": "markdown",
      "metadata": {
        "id": "179Mqj2P8aSh"
      },
      "source": [
        "#### Slicing multi-dimensional arrays\n",
        "\n",
        "Multi-dimensional numpy arrays are sliced and indexed with the same syntax as single dimensional arrays (vectors), but you need to separate the dimensions with a comma. For example, `array[i, j]` will return the element at row `i` and column `j`. In two dimensions, the first axis is the rows and the second axis is the columns. So now the syntax is `array[row_start:row_stop:row_step, col_start:col_stop:col_step]`."
      ]
    },
    {
      "cell_type": "markdown",
      "metadata": {
        "id": "DYTCsmNhx85c"
      },
      "source": [
        "Let's practice slicing the following array of 25 elements reshaped into a 5x5 array:"
      ]
    },
    {
      "cell_type": "code",
      "execution_count": null,
      "metadata": {
        "id": "UsdWTp9Vx85c",
        "outputId": "0b8ede8c-0445-40bf-ba4b-d5d86667c0a7"
      },
      "outputs": [],
      "source": [
        "arr = np.array([\n",
        "    [1, 2, 3, 4, 5],\n",
        "    [6, 7, 8, 9, 10],\n",
        "    [11, 12, 13, 14, 15],\n",
        "    [16, 17, 18, 19, 20],\n",
        "    [21, 22, 23, 24, 25]\n",
        "])\n",
        "print(arr)"
      ]
    },
    {
      "cell_type": "markdown",
      "metadata": {
        "id": "uEltaI5zx85d"
      },
      "source": [
        ">**Exercise**: Perform the following operations on the `arr` array:\n",
        ">\n",
        "> 1. Extract the first row\n",
        "> 2. Extract the last column\n",
        "> 3. Extract the first three rows\n",
        "> 4. Extract the central 3x3 square\n",
        "> 5. Extract the last column using positive indexing, and then do it again using negative indexing\n",
        "> 6. Extract every other column (and all rows)\n",
        "> 7. Extract every other element of the first row. You should get [1, 3, 5]\n",
        "> 8. Extract the last row and reverse it. You should get [25, 24, 23, 22, 21]"
      ]
    },
    {
      "cell_type": "code",
      "execution_count": null,
      "metadata": {
        "id": "RE02quNFx85d",
        "outputId": "dff568be-ed1d-4db5-f591-a5f6e8f48167"
      },
      "outputs": [],
      "source": [
        "# 1. Extract the first row of the array\n",
        "# Your code here\n"
      ]
    },
    {
      "cell_type": "code",
      "execution_count": null,
      "metadata": {
        "id": "3GCyOdw5x85d",
        "outputId": "bb117ee2-366d-482a-ab76-09cc954aaf1c"
      },
      "outputs": [],
      "source": [
        "# 2. Extract the last column\n",
        "# Your code here\n"
      ]
    },
    {
      "cell_type": "code",
      "execution_count": null,
      "metadata": {
        "id": "Vn-j4lmNx85d",
        "outputId": "72bc106e-20fd-444c-fedd-3d3caac9ab16"
      },
      "outputs": [],
      "source": [
        "# 3. Extract the first three rows\n",
        "# Your code here\n"
      ]
    },
    {
      "cell_type": "code",
      "execution_count": null,
      "metadata": {
        "id": "QV6APwyax85e",
        "outputId": "3fa790a5-6a8e-4fda-8329-fcad055f91ca"
      },
      "outputs": [],
      "source": [
        "# 4. Extract the central 3x3 square\n",
        "# Your code here\n"
      ]
    },
    {
      "cell_type": "code",
      "execution_count": null,
      "metadata": {
        "id": "zy9-vKMBx85e",
        "outputId": "3ffff919-3704-43a7-da50-911e7481054a"
      },
      "outputs": [],
      "source": [
        "# 5. Extract the last column using positive indexing, then do it again using negative indexing\n",
        "# Your code here\n"
      ]
    },
    {
      "cell_type": "code",
      "execution_count": null,
      "metadata": {
        "id": "9oX6IEoYx85e",
        "outputId": "b24763e2-e96a-4f9f-abc5-17bec973e475"
      },
      "outputs": [],
      "source": [
        "# 6. Extract every other column (and all rows)\n",
        "# Your code here\n"
      ]
    },
    {
      "cell_type": "code",
      "execution_count": null,
      "metadata": {
        "id": "0HCN9E9Nx85f",
        "outputId": "ea577832-a680-4ea1-975d-0169979ba724"
      },
      "outputs": [],
      "source": [
        "# 7. Extract every other element of the first row. You should get [1, 3, 5]\n",
        "# Your code here\n"
      ]
    },
    {
      "cell_type": "code",
      "execution_count": null,
      "metadata": {
        "id": "qaKYeq7nx85f",
        "outputId": "c88ce98b-c0c2-496f-d6f5-bc1f273e02bd"
      },
      "outputs": [],
      "source": [
        "# 8. Extract the last row and reverse it. You should get [25, 24, 23, 22, 21]\n",
        "# Your code here\n"
      ]
    },
    {
      "cell_type": "markdown",
      "metadata": {
        "id": "oqYKpWjdx85f"
      },
      "source": [
        ">**Bonus Exercises**: Here are some more challenging slicing exercises:\n",
        ">\n",
        "> B1. Extract every other column and every other row, starting with the number 1. You should get:\n",
        "> ```\n",
        "> [[ 1  3  5]\n",
        ">  [11 13 15]\n",
        ">  [21 23 25]]\n",
        "> ```\n",
        "> B2. Extract a checkerboard pattern starting from the number 2. You should get:\n",
        "> ```\n",
        "> [[ 2  4]\n",
        ">  [12 14]\n",
        ">  [22 24]]\n",
        "> ```"
      ]
    },
    {
      "cell_type": "code",
      "execution_count": null,
      "metadata": {
        "id": "HzoAgkgbx85g",
        "outputId": "7cf9101f-200b-4f5c-cf2b-7542ec2918ec"
      },
      "outputs": [],
      "source": [
        "# B1. Extract every other column and every other row, starting with the number 1.\n",
        "# Your code here\n"
      ]
    },
    {
      "cell_type": "code",
      "execution_count": null,
      "metadata": {
        "id": "pnTjmNE9x85g",
        "outputId": "46a24cc9-f38c-4bf3-dd92-6e5dab3678be"
      },
      "outputs": [],
      "source": [
        "# B2. Extract a checkerboard pattern starting from the number 2.\n",
        "# Your code here\n"
      ]
    },
    {
      "cell_type": "markdown",
      "metadata": {
        "id": "zqAgqTlcx85h"
      },
      "source": [
        "**IMPORTANT**: Slicing arrays creates a **view** of the original array, not a copy. This is known as \"passing by reference\". That means if you use a slice of an array and modify it, the original array will also be modified."
      ]
    },
    {
      "cell_type": "code",
      "execution_count": null,
      "metadata": {
        "id": "CCOFlL0qx85h",
        "outputId": "1a87419e-24e3-44da-d9b1-1cf8a46c3f41"
      },
      "outputs": [],
      "source": [
        "arr = np.array([\n",
        "    [1, 2, 3, 4, 5],\n",
        "    [6, 7, 8, 9, 10],\n",
        "    [11, 12, 13, 14, 15],\n",
        "    [16, 17, 18, 19, 20],\n",
        "    [21, 22, 23, 24, 25]\n",
        "])\n",
        "\n",
        "print(\"This is the original array\")\n",
        "print(arr)\n",
        "print(\"This is my slice of the array\")\n",
        "slice = arr[1:4,1:4]\n",
        "print(slice)\n",
        "print(\"I'm going to change the slice\")\n",
        "slice[:,:] = 999\n",
        "print(slice)\n",
        "print(\"This is the original array\")\n",
        "print(arr)\n"
      ]
    },
    {
      "cell_type": "markdown",
      "metadata": {
        "id": "o8tnUI1zx85i"
      },
      "source": [
        "When you do a calculation on a slice of an array, the result will be a new array."
      ]
    },
    {
      "cell_type": "code",
      "execution_count": null,
      "metadata": {
        "id": "tde4nfdax85i",
        "outputId": "5dd12637-503d-4c1c-9e65-67719d3660a6"
      },
      "outputs": [],
      "source": [
        "arr = np.array([\n",
        "    [1, 2, 3, 4, 5],\n",
        "    [6, 7, 8, 9, 10],\n",
        "    [11, 12, 13, 14, 15],\n",
        "    [16, 17, 18, 19, 20],\n",
        "    [21, 22, 23, 24, 25]\n",
        "])\n",
        "print(\"This is the original array\")\n",
        "print(arr)\n",
        "print(\"This is my slice of the array\")\n",
        "slice = arr[1:4,1:4]\n",
        "print(slice)\n",
        "print(\"add 100 to each element of the slice\")\n",
        "slice = slice + 100\n",
        "print(slice)\n",
        "print(\"This is the original array\")\n",
        "print(arr)"
      ]
    },
    {
      "cell_type": "markdown",
      "metadata": {
        "id": "CTpS5ob-x85i"
      },
      "source": [
        "### Using boolean masks to filter arrays\n",
        "\n",
        "You can use boolean expresssions to **filter** arrays. Here's an example:"
      ]
    },
    {
      "cell_type": "code",
      "execution_count": null,
      "metadata": {
        "colab": {
          "base_uri": "https://localhost:8080/"
        },
        "id": "TX_-LREAx85j",
        "outputId": "4d16bdbe-61d4-4996-c191-6b9a7aa3d65c"
      },
      "outputs": [],
      "source": [
        "# Getting the even numbers from the array\n",
        "arr = np.array([\n",
        "    [1, 2, 3, 4, 5],\n",
        "    [6, 7, 8, 9, 10],\n",
        "    [11, 12, 13, 14, 15],\n",
        "    [16, 17, 18, 19, 20],\n",
        "    [21, 22, 23, 24, 25]\n",
        "])\n",
        "\n",
        "arr[arr % 2 == 0]"
      ]
    },
    {
      "cell_type": "markdown",
      "metadata": {
        "id": "0NDuuEoDx85j"
      },
      "source": [
        "Under the hood, numpy creates a boolean mask that is the same shape as the array. The mask is `True` where the condition is met and `False` where it is not. You can then use the mask to filter the array."
      ]
    },
    {
      "cell_type": "code",
      "execution_count": null,
      "metadata": {
        "id": "vh5HLOj1x85j",
        "outputId": "051682ee-a2de-4078-bb16-922c68db5972"
      },
      "outputs": [],
      "source": [
        "print(arr % 2 == 0)\n",
        "print(arr)"
      ]
    },
    {
      "cell_type": "markdown",
      "metadata": {
        "id": "ygKKUojex85k"
      },
      "source": [
        "When using boolean masks in this way, it's important to note that the original shape of the array is not preserved. So this is useful if you want to filter out elements and do something with that collection of elements, but not if you want to replace certain elements with others.\n",
        "\n",
        "If you want to replace elements in an array based on a condition, you can use the `np.where()` function. This function takes three arguments: the condition, the value to use if the condition is `True`, and the value to use if the condition is `False`.\n",
        "\n",
        "In the code block below, we will replace all of the odd numbers in the array with the number 0."
      ]
    },
    {
      "cell_type": "code",
      "execution_count": null,
      "metadata": {
        "id": "THoijaWIx85k",
        "outputId": "4ee02316-13bf-41e7-ec57-7f42714ccd08"
      },
      "outputs": [],
      "source": [
        "np.where(arr % 2 == 0, arr, 0)"
      ]
    },
    {
      "cell_type": "markdown",
      "metadata": {
        "id": "K-2VxwrLx85k"
      },
      "source": [
        ">**Exercise**: Perform the following operations on the `arr` array using boolean masks:\n",
        ">\n",
        "> 1. Extract all values less than the mean\n",
        "> 2. Trim the array by removing the maximum and mininum value\n",
        "> 3. Replace the maximum and minimum values with the mean of the entire array"
      ]
    },
    {
      "cell_type": "code",
      "execution_count": null,
      "metadata": {
        "id": "Y9puCttLx85l",
        "outputId": "41e7e07c-3220-45f5-9dc3-fa6b53f91e78"
      },
      "outputs": [],
      "source": [
        "# Extract all values less than the mean\n",
        "arr = np.array([\n",
        "    [1, 2, 3, 4, 5],\n",
        "    [6, 7, 8, 9, 10],\n",
        "    [11, 12, 13, 14, 15],\n",
        "    [16, 17, 18, 19, 20],\n",
        "    [21, 22, 23, 24, 25]\n",
        "])\n",
        "\n",
        "# Your code here\n"
      ]
    },
    {
      "cell_type": "code",
      "execution_count": null,
      "metadata": {
        "id": "4iS36rKvx85l",
        "outputId": "df227394-c240-481e-bfe4-991bfc1c4ee5"
      },
      "outputs": [],
      "source": [
        "# Trim the array by removing the maximum and mininum value. Use np.min() and np.max() to find the min and max values\n",
        "# Hint: it might be easiest to explicitly create the boolean mask for this\n",
        "# The operator & is the element-wise AND operator, it returns True if both elements in an array are True\n",
        "# Your code here\n"
      ]
    },
    {
      "cell_type": "markdown",
      "metadata": {
        "id": "JX2uOaBxx85l"
      },
      "source": [
        ">Compare your solution above with a neighbor. Did they do it differently? Find at least one person who did it differently."
      ]
    },
    {
      "cell_type": "code",
      "execution_count": null,
      "metadata": {
        "id": "ejktmz8ix85m",
        "outputId": "79f6afac-77e8-4c35-f22a-d6216b5a5a24"
      },
      "outputs": [],
      "source": [
        "# Replace the maximum and minimum values with the mean of the entire array\n",
        "# Hint: you can use the mask you created above and np.where()\n",
        "# Your code here"
      ]
    },
    {
      "cell_type": "markdown",
      "metadata": {
        "id": "lYRVuq6Bx85n"
      },
      "source": [
        "## Numpy math functions and additional capabilities"
      ]
    },
    {
      "cell_type": "markdown",
      "metadata": {
        "id": "Uhnp857Ex85n"
      },
      "source": [
        "The numpy library isn't just about arrays. It also has a lot of **mathematical functions** that can be applied to arrays. Some of these functions may seem like duplicates of base python functions, but they are optimized for operating on multi-dimensional arrays whereas the base python functions are not. Other functions are unique to numpy and offer more advanced mathematical capabilities.\n",
        "\n",
        "You can find a list of all mathematical functions in the numpy library [here](https://numpy.org/doc/stable/reference/routines.math.html)."
      ]
    },
    {
      "cell_type": "code",
      "execution_count": null,
      "metadata": {
        "id": "foF-jCLpx85n"
      },
      "outputs": [],
      "source": [
        "arr = np.array([\n",
        "    [1, 2, 3, 4, 5],\n",
        "    [6, 7, 8, 9, 10],\n",
        "    [11, 12, 13, 14, 15],\n",
        "    [16, 17, 18, 19, 20],\n",
        "    [21, 22, 23, 24, 25]\n",
        "])"
      ]
    },
    {
      "cell_type": "code",
      "execution_count": null,
      "metadata": {
        "id": "geHMsJKVx85n",
        "outputId": "91681dcd-eefd-45c7-8c9b-858bff69da2e"
      },
      "outputs": [],
      "source": [
        "# Getting the mean of the array along the columns\n",
        "np.mean(arr, axis=0)"
      ]
    },
    {
      "cell_type": "code",
      "execution_count": null,
      "metadata": {
        "id": "neLQvczGx85o",
        "outputId": "0212e712-ab2f-40c2-d25d-1cf6de3e09c2"
      },
      "outputs": [],
      "source": [
        "# getting the mean along the rows\n",
        "np.mean(arr, axis=1)"
      ]
    },
    {
      "cell_type": "code",
      "execution_count": null,
      "metadata": {
        "id": "0xBvvpGcx85o",
        "outputId": "de1ba70c-b7ce-46f8-e1d6-0e390858e9fb"
      },
      "outputs": [],
      "source": [
        "# getting the standard deviation along the columns\n",
        "np.std(arr, axis=0)"
      ]
    },
    {
      "cell_type": "code",
      "execution_count": null,
      "metadata": {
        "id": "2GMnf5ELx85p",
        "outputId": "2cacca96-cca3-46a6-c46e-2f1467ce794f"
      },
      "outputs": [],
      "source": [
        "# getting histogram of the array\n",
        "np.histogram(arr, bins=5, range=(1, 25))\n",
        "# if you don't want to hardcode the range, you can use the min and max functions\n",
        "np.histogram(arr, bins=5, range=(np.min(arr), np.max(arr)))"
      ]
    },
    {
      "cell_type": "markdown",
      "metadata": {
        "id": "6h2VmA0gx85p"
      },
      "source": [
        "## Reading and writing data with numpy\n",
        "\n",
        "Typically, we're not going to be able to manually enter data into our code's data structures (*e.g.* `my_data = [2, 5, 2, 7, 4]). This would be tedious and time-consuming, given the size of our datasets. This would also make our code useful only for a single dataset at a time, which defeats one of the main purposes of programming!\n",
        "\n",
        "Instead, we will have data stored as plain text files on our computer or hosted somewhere on the web. These files may be formatted in different ways (*e.g.* CSV files, tab-delimited files, compressed genome sequence files). While there are native Python functions to read plain text files, it is up to us as programmers to write code to accommodate the multitude of formats.\n",
        "\n",
        "Numpy has two main **functions** for loading in text-based data such as CSVs: `np.loadtxt()` and `np.genfromtxt()`. The main difference between the two is that `np.genfromtxt()` can handle missing data, while `np.loadtxt()` cannot. So, to play it safe, it's usually best to use `np.genfromtxt()`.\n",
        "\n",
        "Remember that numpy arrays can only contain one type of data, so if your file contains headers or mixed data types, you'll need to use additional options to tell numpy how to handle them."
      ]
    },
    {
      "cell_type": "markdown",
      "metadata": {
        "id": "N3ob6Ckfx85q"
      },
      "source": [
        "We will now import a numerical dataset of red wine quality ratings and various chemical properties. It has a header row and is separated by semi-colons. Here's a preview of the data:\n",
        "\n",
        "```\n",
        "fixed acidity;volatile acidity;citric acid;residual sugar;chlorides;free sulfur dioxide;total sulfur dioxide;density;pH;sulphates;alcohol;quality\n",
        "7.4;0.7;0;1.9;0.076;11;34;0.9978;3.51;0.56;9.4;5\n",
        "7.8;0.88;0;2.6;0.098;25;67;0.9968;3.2;0.68;9.8;5\n",
        "```"
      ]
    },
    {
      "cell_type": "code",
      "execution_count": null,
      "metadata": {
        "id": "ewX6sokyx85q",
        "outputId": "1c3e0fae-e348-4f0e-be75-4006330749e3",
        "scrolled": true
      },
      "outputs": [],
      "source": [
        "# import using genfromtxt and skip the header\n",
        "wines_array = np.genfromtxt('https://informatics.fas.harvard.edu/resources/Workshops/2024-Fall/Python/data/winequality-red.csv', delimiter=';', skip_header = 1)\n",
        "# import the header separately\n",
        "# we specify the dtype as str so that numpy doesn't try to convert the header to a number\n",
        "wines_header = np.genfromtxt('https://informatics.fas.harvard.edu/resources/Workshops/2024-Fall/Python/data/winequality-red.csv', delimiter=';', max_rows=1, dtype=str)\n",
        "print(wines_header)\n",
        "print(wines_array)\n",
        "print(wines_array.shape)"
      ]
    },
    {
      "cell_type": "markdown",
      "metadata": {
        "id": "QTdHaZA2_yd2"
      },
      "source": [
        "If all of that looks confusing, just remember that `np.genfromtxt` is a **function**, which is just another block of code somewhere on the computer. Here, we've imported this function from the numpy library, which we've called `np`. Functions take **arguments**, which we learn about from **reading documentation**. Functions **return** values.\n",
        "\n",
        "In this case, the function takes arguments like (importantly) the path to the file to read and other information about how to read the file. The function then reads the file in the background and returns a numpy array, which we've just learned how to work with."
      ]
    },
    {
      "cell_type": "markdown",
      "metadata": {
        "id": "kKRlC9L4x85r"
      },
      "source": [
        ">**Exercise**: Use `max` or `np.max` to find the max quality rating in the dataset and extract the rows with that rating. Save it to a new array called `best_wines`."
      ]
    },
    {
      "cell_type": "code",
      "execution_count": null,
      "metadata": {
        "id": "1R2-hPP9x85r",
        "outputId": "c308a8e1-4500-4c4e-a937-13abc3cc214d",
        "scrolled": true
      },
      "outputs": [],
      "source": [
        "# your code here\n",
        "\n",
        "\n",
        "# this should return (18, 12)\n",
        "print(best_wines.shape)"
      ]
    },
    {
      "cell_type": "code",
      "execution_count": null,
      "metadata": {
        "id": "KGYVcMNqx85r",
        "outputId": "3112d2b3-5ad3-47d5-d83c-b5ac8debf40e"
      },
      "outputs": [],
      "source": [
        "print(best_wines)"
      ]
    },
    {
      "cell_type": "markdown",
      "metadata": {
        "id": "o24K4tG_x85s"
      },
      "source": [
        "Now that we have 18 top wines, let's save them to a new file. We can use the `np.savetxt()` function to save it as a human-readable delimited file. Instead of using semi-colons, we'll use commas to separate the values. The next few lines (`with open()`) are just to print the contents of the file to the screen."
      ]
    },
    {
      "cell_type": "code",
      "execution_count": null,
      "metadata": {
        "id": "HAMZFAvdx85s",
        "outputId": "d4f73dbd-aabd-4208-8aef-14f581a905da"
      },
      "outputs": [],
      "source": [
        "# Saving the array to a csv\n",
        "np.savetxt(\"best_wines.csv\", best_wines, delimiter=\",\")\n",
        "# Reading it back\n",
        "with open('best_wines.csv', 'r') as file:\n",
        "    for line in file:\n",
        "        print(line.strip())"
      ]
    },
    {
      "cell_type": "markdown",
      "metadata": {
        "id": "iER0HVuWx85t"
      },
      "source": [
        "What happened to the numbers? The default format for `np.savetxt()` is to save the data as a floating point number with 8 decimal places. However, our original csv did not have that much precision. This is because numpy internally loaded our data in this format but just didn't display the whole thing for us. We can change a number's **display format** using the `fmt` argument. Here's how you would save the data with 3 decimal places. You will also notice that we took the `wines_header` variable and joined it into a single string with commas. This is because `np.savetxt()` expects a single string for the header row."
      ]
    },
    {
      "cell_type": "code",
      "execution_count": null,
      "metadata": {
        "id": "dc3t4Ipex85u",
        "outputId": "49e25873-9733-4cd5-840e-cd2e068b9251"
      },
      "outputs": [],
      "source": [
        "np.savetxt(\"best_wines.csv\", best_wines, delimiter=\",\", fmt='%.3f', header=','.join(wines_header))\n",
        "with open('best_wines.csv', 'r') as file:\n",
        "    for line in file:\n",
        "        print(line.strip())"
      ]
    },
    {
      "cell_type": "markdown",
      "metadata": {
        "id": "46MhOs_qx85u"
      },
      "source": [
        "This way of saving the data prepends the header row with a `#` character to indicate that it is a comment. That way, if you were to load the data back in with numpy, it would ignore the header row automatically. If you don't want this behavior, you can set the `comments` argument to an empty string. There are a lot of formatting options if you need things to be precisely formatted in print, but we won't go into the details today."
      ]
    },
    {
      "cell_type": "markdown",
      "metadata": {
        "id": "6kGhJIq4x85v"
      },
      "source": [
        ">**Exercise**: Now that we've got the data, let's do one exercise focused on manipulating the data within numpy arrays. Remember what we've learned about slicing arrays and broadcasting operations.\n",
        ">\n",
        "> Every chemical property on the wine dataset is measured in different units. Let's normalize all the data so that it is on the same scale. To do this, we will first subtract the mean (`np.mean`) of each column from each element in the column, then divide by the standard deviation of the column (`np.std`). The quality column (last column) is not a chemical property, so we will not normalize it. Save the normalized data + original quality column to a new array."
      ]
    },
    {
      "cell_type": "code",
      "execution_count": null,
      "metadata": {
        "id": "4d6EnbAtx85v",
        "outputId": "ba7b3a31-d600-4c93-e3d0-3da165ac71ea"
      },
      "outputs": [],
      "source": [
        "# Your code here\n",
        "\n",
        "# make a reference to the wines array without the last column\n",
        "\n",
        "# calculate the mean of each column\n",
        "\n",
        "# calculate the standard deviation of each column\n",
        "\n",
        "# calculate the z-scores and assign them to a new array, z_scores\n",
        "\n",
        "# add back the quality column to the z_scores array (hint: use np.column_stack)\n",
        "\n",
        "print(z_scores)\n"
      ]
    },
    {
      "cell_type": "markdown",
      "metadata": {
        "id": "L05eKcLNx85v"
      },
      "source": [
        "## Numpy is a foundational library\n",
        "\n",
        "Numpy forms the basis of many other python libraries, and can be used as-is to analyze a surprising range of data.\n",
        "\n",
        "Here is an example tutorial that use numpy to perform image analysis.\n",
        "\n",
        "The package skimage is used for image processing. Images are easily represented as numpy arrays, where each pixel is a value in the array. You can represent color images at 3D arrays, where each dimension is a different color channel. Take a look at this [tutorial](https://scikit-image.org/docs/stable/user_guide/numpy_images.html) to get an introduction to image processing.\n",
        "\n",
        "Numpy is the basis of machine learning libraries like sklearn, pandas, scipy, and inspires libraries like tensorflow. For a more in depth tutorial on numpy, check out the [visual guide to numpy](https://betterprogramming.pub/numpy-illustrated-the-visual-guide-to-numpy-3b1d4976de1d)"
      ]
    },
    {
      "cell_type": "markdown",
      "metadata": {
        "id": "V7sJcxZGx850"
      },
      "source": [
        "# Wrap-up\n",
        "\n",
        "1.   **Reading documentation** is an important skill when using new functions, especially from **imported libraries**.\n",
        "2.   **Numpy** is an **external library** that implements efficient data structures for large computations called **arrays**. Arrays can be single dimensional (*e.g.* one row of data), in which case they are called **vectors**, but can also be **multi-dimensional** Operations can be performed quickly on arrays with **broadcasting**.\n",
        "3.   Arrays can be **filtered** with boolean masks.\n",
        "4.   Data can be **read** directly from text files into Python data structures and Numpy arrays. Likewise, data can be **written** from Python to text files.ff\n",
        "\n",
        "Next time, we will learn how to use pandas, a library that is built on top of numpy and is specifically designed for data analysis. We will learn how to read into dataframes, how to manipulate data, and how to create visualizations."
      ]
    }
  ],
  "metadata": {
    "colab": {
      "provenance": [],
      "toc_visible": true
    },
    "kernelspec": {
      "display_name": "pyworkshop",
      "language": "python",
      "name": "python3"
    },
    "language_info": {
      "codemirror_mode": {
        "name": "ipython",
        "version": 3
      },
      "file_extension": ".py",
      "mimetype": "text/x-python",
      "name": "python",
      "nbconvert_exporter": "python",
      "pygments_lexer": "ipython3",
      "version": "3.13.1"
    }
  },
  "nbformat": 4,
  "nbformat_minor": 0
}
