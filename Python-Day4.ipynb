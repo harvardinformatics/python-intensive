{
 "cells": [
  {
   "cell_type": "markdown",
   "metadata": {
    "id": "xBj7EX0Rx85D",
    "jp-MarkdownHeadingCollapsed": true
   },
   "source": [
    "## Getting started: Installation\n",
    "\n",
    "## Installation\n",
    "\n",
    "This workshop exists as a **Jupyter notebook**. You can participate in this workshop by using this notebook interactively simply by uploading it to Google Colab. Go to https://colab.research.google.com/ and upload this notebook. That's it! This is the recommended way for participating in this workshop. Skip the below instructions if you will be using Google Colab.\n",
    "\n",
    "<br>\n",
    "\n",
    "---\n",
    "\n",
    "**See above for the recommended way to participate in this workshop. Only follow these instructions if Google Colab isn't working**\n",
    "\n",
    "If for some reason Google Colab isn't working, or you prefer to run this locally, you will need to install Python, Anaconda, and the necessary libraries. You will have to follow these steps to do so. Note that some steps are only meant for specific operating systems.\n",
    "\n",
    "0. If you are on Windows, [install WSL](https://learn.microsoft.com/en-us/windows/wsl/install). Once WSL is installed, you'll have a Linux terminal available to you in Windows. You can open this terminal by typing \"wsl\" in the search bar and clicking the app that appears. You'll also find your Linux distribution as a mounted drive in your file explorer.\n",
    "\n",
    "1. Install mamba, a package manager using the command line - Terminal for Mac or WSL for Windows.\n",
    "\n",
    "    1.1. For Mac, if you already have brew installed, install mamba using `brew install miniforge` and initialize it using `conda init zsh`. Then restart your terminal. If you don't have homebrew (i.e. the brew command doesn't exist), install brew first using `/bin/bash -c \"$(curl -fsSL https://raw.githubusercontent.com/Homebrew/install/HEAD/install.sh)\"`\n",
    "    \n",
    "    1.2. For Windows, download the Linux (x86_64) installer from the miniforge repository [here](https://github.com/conda-forge/miniforge) and install with `bash Miniforge3-Linux-x86_64.sh`.\n",
    "\n",
    "2. Create a new environment using mamba with `mamba create -n pyworkshop numpy pandas matplotlib seaborn jupyter` and activate it with `conda activate pyworkshop`.\n",
    "\n",
    "3. You can now run the jupyter notebook by typing `jupyter notebook` in the terminal. This will open a browser window with the jupyter notebook interface. You can navigate to the folder where you saved this notebook and open it.\n",
    "\n",
    "4. Alternatively, install [VSCode](https://code.visualstudio.com/) and the Python extension. Then open this notebook in VSCode and run it with the kernel that belongs to the pyworkshop environment. [How to guide here](https://code.visualstudio.com/docs/datascience/jupyter-notebooks)\n",
    "\n",
    "---"
   ]
  },
  {
   "cell_type": "markdown",
   "metadata": {
    "id": "wDpc1awHybfm"
   },
   "source": [
    "## What is python and why do we need it/why are you taking this workshop?\n",
    "\n",
    "* Python is a programming language that is commonly used for data analysis\n",
    "* R is another commonly used programming language, probably second to python\n",
    "* Python is more general purpose than R, which is specifically for data analysis\n",
    "* Programming languages are a way for humans to give the computer commands\n",
    "* Regardless of how you collect data, it needs to be analyzed and code is the best way (Don't use excel!)"
   ]
  },
  {
   "cell_type": "markdown",
   "metadata": {
    "id": "APR4I085x85H"
   },
   "source": [
    "## Jupyter basics"
   ]
  },
  {
   "cell_type": "markdown",
   "metadata": {
    "id": "AaMuZb0Ux85I"
   },
   "source": [
    "Jupyter notebooks are text files that can be rendered as formatted text **and** run code given the proper setup (see Installation).\n",
    "\n",
    "Text is split into **cells**. Double clicking a cell allows you to edit it.\n",
    "\n",
    "For code cells, there is also an option to run the code. You can do this by pressing **SHIFT+ENTER** while having it selected, or press the **Run** button at the top of the cell (exact location depends on the editor you're using). Because of the way we set up the notebook the code cells will be running Python code.\n",
    "\n",
    "For this workshop, we'll be asking you to follow along by running code cells and by doing coding exercises by writing or editing code in code cell.\n",
    "\n",
    "**IMPORTANT**: Run the code cells below to **import** the **libraries** we'll be using during this workshop."
   ]
  },
  {
   "cell_type": "code",
   "execution_count": 1,
   "metadata": {
    "id": "jeWBR6Qzx85J"
   },
   "outputs": [],
   "source": [
    "# Run this cell to import the libraries we'll be using\n",
    "# If you don't have the kernel loaded or installed, it will not work\n",
    "\n",
    "import numpy as np\n",
    "import pandas as pd\n",
    "import matplotlib.pyplot as plt"
   ]
  },
  {
   "cell_type": "markdown",
   "metadata": {
    "id": "oNBH_ghJy1-t"
   },
   "source": [
    "And run the following to demonstrate how the code blocks run and display code:"
   ]
  },
  {
   "cell_type": "code",
   "execution_count": null,
   "metadata": {
    "id": "jJXQSXqex85K",
    "outputId": "af2efcc0-3850-49a8-c462-79c0f3c0d560"
   },
   "outputs": [
    {
     "name": "stdout",
     "output_type": "stream",
     "text": [
      "this is my code cell\n"
     ]
    }
   ],
   "source": [
    "# Run this cell to print a message to the screen\n",
    "print(\"this is my code cell\")"
   ]
  },
  {
   "cell_type": "markdown",
   "metadata": {
    "id": "TFmyJigzx85L"
   },
   "source": [
    "Any **variables** that you assign in one cell will be available in other cells. But they will not be saved between sessions. If you close the notebook and re-open it, you will need to re-run the previous cells to get your variables back. Therefore, it's important to be aware of the state of your notebook and the order in which your cells were run."
   ]
  },
  {
   "cell_type": "code",
   "execution_count": null,
   "metadata": {
    "id": "6vhlutrYx85M"
   },
   "outputs": [],
   "source": [
    "my_string = \"this is my code cell\""
   ]
  },
  {
   "cell_type": "code",
   "execution_count": null,
   "metadata": {
    "id": "2QihRWpxx85M",
    "outputId": "720aad52-c36b-44f5-d20a-1727b6757423"
   },
   "outputs": [
    {
     "name": "stdout",
     "output_type": "stream",
     "text": [
      "this is my code cell\n"
     ]
    }
   ],
   "source": [
    "print(my_string)"
   ]
  },
  {
   "cell_type": "markdown",
   "metadata": {
    "id": "dSfN6lPvx85N"
   },
   "source": [
    "Jupyter notebooks can be exported to pdf or html, so that other people can view both the code and its output. It's a good format for handing in homeworks, for example, since you can show your work. In this notebook, there will be exercises with placeholders for the code that you will have to fill in. For these exercises, we encourage you to work with each other, use google, LLMs, and whatever other resources if you are stuck. It's not an exam, but just a way to get practice of the concepts. Afterwards, we will post the completed notebook on our website so you can have examples of solutions."
   ]
  },
  {
   "cell_type": "markdown",
   "metadata": {
    "id": "JWA8FQAFx85O"
   },
   "source": [
    "## Python refresher\n",
    "\n",
    "Let's begin by reviewing some of the terms we've covered in the past sessions that will come up again today.\n",
    "\n",
    "| Term | Definition |\n",
    "| --- | --- |\n",
    "| Object | The thing itself (an instance of a class) |\n",
    "| Variable | The name we give the object (a pointer to the object) |\n",
    "| Class | The blueprint for the object (defines the attributes and methods of object) |\n",
    "| Method | A function that belongs to an object |\n",
    "| Attribute | A property of an object |\n",
    "| Function | A piece of code that takes an input and gives an output/does something |\n",
    "| Argument| The objects that are passed to the function for it to operate on |\n",
    "| Library | Collections of python functions/capabilities that can be installed and loaded on top of base python\n",
    "\n",
    "### Object Methods\n",
    "\n",
    "Everything in python is an **object**, and depending on the type of object, they may have certain **methods** that can be called on them. For example, strings have a method called `upper()` that converts the string to uppercase."
   ]
  },
  {
   "cell_type": "code",
   "execution_count": null,
   "metadata": {
    "id": "U3vIR3pGx85O",
    "outputId": "db951619-38bb-4abc-dada-a788e710a0fd"
   },
   "outputs": [
    {
     "data": {
      "text/plain": [
       "'HELLO'"
      ]
     },
     "execution_count": 13,
     "metadata": {},
     "output_type": "execute_result"
    }
   ],
   "source": [
    "my_string = \"hello\"\n",
    "my_string.upper()"
   ]
  },
  {
   "cell_type": "markdown",
   "metadata": {
    "id": "zsM7-4-1x85P"
   },
   "source": [
    "\n",
    "In the above code, `my_string` is a string object, and we are calling the `upper()` method on it. The method is called by using the `.` operator. Methods are functions that can only be used on objects of certain classes. You will often see methods strung together, like below:"
   ]
  },
  {
   "cell_type": "code",
   "execution_count": null,
   "metadata": {
    "id": "CYHSD4Wfx85P",
    "outputId": "ff8afc93-7676-4b18-f7da-dd5064e83dbd"
   },
   "outputs": [
    {
     "data": {
      "text/plain": [
       "'hELLO'"
      ]
     },
     "execution_count": 12,
     "metadata": {},
     "output_type": "execute_result"
    }
   ],
   "source": [
    "my_string = \"hello\"\n",
    "# This first makes the first letter uppercase, then swaps the cases of each letter\n",
    "my_string.capitalize().swapcase()"
   ]
  },
  {
   "cell_type": "markdown",
   "metadata": {
    "id": "oMVxjr-8x85Q"
   },
   "source": [
    "### Object Attributes\n",
    "\n",
    "We'll be learning about some more complex objects today, like **numpy arrays**, which also have attributes. **Attributes** are properties of an object that can be accessed using the `.` operator. For example, numpy arrays have an attribute called `shape` that tells you the dimensions of the array. The difference between an attribute and a method is that attributes are information about a given object, rather than a task being performed on the object. Practically, this means that, while both attributes and methods are called on an object with the dot operator `.`, attributes are accessed without parentheses, so you don't need to call them like functions."
   ]
  },
  {
   "cell_type": "code",
   "execution_count": null,
   "metadata": {
    "id": "H0R3_Dcfx85Q",
    "outputId": "79026dbf-3fc0-4833-fe64-3949d9476c5e"
   },
   "outputs": [
    {
     "data": {
      "text/plain": [
       "(5,)"
      ]
     },
     "execution_count": 11,
     "metadata": {},
     "output_type": "execute_result"
    }
   ],
   "source": [
    "# this makes a np array (we'll learn more about these shortly!)\n",
    "my_array = np.array([1, 2, 3, 4, 5])\n",
    "\n",
    "# this gets the size (total number of elements) of the array\n",
    "my_array.size"
   ]
  },
  {
   "cell_type": "markdown",
   "metadata": {
    "id": "xLrox8L_x85R"
   },
   "source": [
    "## Base Python Data Structures\n",
    "\n",
    "### Lists\n",
    "\n",
    "**Lists** are one the most flexible of data structures in Python. They are created with `[]` and can contain any type of data. Each **element** in a list is separated by a comma. Lists are ordered and can be indexed, sliced, and concatenated just like strings. When lists are all numerical, they can also support mathematical operations like `max()` and `min()`. Lists can also be nested using another `[]` within the list.\n",
    "\n",
    "Lists are our first introduction to a **mutable** data structure, meaning you can change a list without having to create a new one. Indeed, list methods may modify your data **in place** and/or **return** a new object. If the method modifies the object in place, its return value will be `None`. Modifying in place means you don't have to assign the result of the method to a new variable, while returning a new object means you do have to assign it. For example, `list.append(x)` updates the list in place, while `list.pop()` both returns the last element and removes it from the list in place.\n",
    "\n",
    "Below are some useful operations and methods for lists. For a full list of methods, you can use `help()` on the list or consult the [docs](https://docs.python.org/3/library/stdtypes.html#list) page.\n",
    "\n",
    "**Operations and methods for lists**\n",
    "\n",
    "| Operation/Method | Description |\n",
    "| --- | --- |\n",
    "| `+` | Concatenation |\n",
    "| `*` | Repetition |\n",
    "| `[]`, `[:]` | Indexing, slicing |\n",
    "| `.append(x)` | Add `x` to the end of the list |\n",
    "| `.extend([x, y, z])` | Add `[x, y, z]` to the end of the list |\n",
    "| `.insert(i, x)` | Add `x` at index `i` of the list |\n",
    "| `.pop(i)` | Remove and return the element at index `i`, defaults to last element if none given |\n",
    "\n",
    "**Use cases for lists**\n",
    "\n",
    "Lists are a data structure that is always there in the background, being useful. We see them when creating simple ordered collections to iterate through, when we need to store a sequence of data to reference later, or when we need to collected a bunch of objects together. Think of lists as a small temporary transport for data. Lists are not good for large datasets (because it will be slow) or when you need to do a lot of mathematical operations (because it lacks functionality).\n",
    "\n",
    "### Dictionaries\n",
    "\n",
    "**Dictionaries** store **key:value pairs**. Keys must be immutable and are typically strings or numerical identifiers, while the values can be just about anything, including other dictionaries, lists, or individual values. You can create a dictionary with `{}` or with the `dict()` function. The two ways to create a dictionary are shown below:\n",
    "\n",
    "```python\n",
    "my_dict = {'a': 1, 'b': 2, 'c': 3}\n",
    "my_dict = dict((\"a\", 1), (\"b\", 2), (\"c\", 3))\n",
    "```\n",
    "\n",
    "In recent versions of Python (3.8+), dictionaries keys maintain the order in which they were added, which is useful to maintain consistency when looping over the keys. However, in previous versions of Python, dictionaries were unordered. You can't index or slice dictionaries (since dictionary elements aren't accessed by index). But you can retrieve items by their key, e.g. `my_dict[\"a\"]` or `my_dict.get(\"a\")`. Like lists, dictionaries are mutable, so you can add, remove, or update the key:value pairs in place. Other methods return \"View objects\" that allow you to see the items in the dictionary, but won't allow you to modify the dictionary, however these objects can usually be easily converted to lists with the `list()` function. Here are some useful methods for dictionaries:\n",
    "\n",
    "**Operations and methods for dictionaries**\n",
    "\n",
    "| Operation/Method | Description |\n",
    "| --- | --- |\n",
    "| `[<key>]` | Retrieve value by key |\n",
    "| `.keys()` | Returns a view object of the keys |\n",
    "| `.values()` | Returns a view object of the values |\n",
    "| `.items()` | Returns a view object of the key:value pairs |\n",
    "| `.update(dict)` | Updates the dictionary with the key:value pairs from another dictionary |\n",
    "\n",
    "**Use cases for dictionaries**\n",
    "\n",
    "Dictionaries are a data structure that is more specialized for information that can be organized in a key:value pair way. You may see dictionaries being used to store associations between a name/ID and some characteristics, or to store a set of parameters for a function, or to organize a hierarchical grouping of information. Dictionaries are optimized for fast access to the values by key and for flexible organization of the data. Although you can edit the values of a dictionary, they aren't good for mathematical operations or for ordered data."
   ]
  },
  {
   "cell_type": "markdown",
   "metadata": {
    "id": "zdBpVzLxx85S"
   },
   "source": [
    "## Learning to read documentation\n",
    "\n"
   ]
  },
  {
   "cell_type": "markdown",
   "metadata": {
    "id": "2T9EBiwqx85S"
   },
   "source": [
    "Today our first lesson will be about how to read documentation, because we are going to start using libraries such as **numpy** and **pandas**, which have many features that we do not have the time to cover in detail. Instead, if you can read documentation efficiently, you can learn how to use these libraries on your own.\n",
    "\n",
    "\n",
    "**Programming effectively actually involves a lot of reading**\n",
    "\n",
    "Programming involves reading primarily documentation, but also code, search results, stackexchange queries, etc. These are just a few examples of what you'll read as you work on code. Reading the documentation of a package or library or software that you are using should probably be the first thing you do when you start using it. However, software docs pages are a much different sort of writing than we may be used to, if we're primarily used to reading journal articles, textbooks, and protocols. Knowing how and how much to read documentation is a skill that needs to be developed over time to suit your own needs. There's definitely no need to read every single page of documentation of a piece of software, especially for large libraries like `numpy` or `matplotlib`.\n",
    "\n",
    "**There are a variety of ways software can be documented**\n",
    "\n",
    "You may be handed a single script from a colleague to perform some action and that script may have **comments** in the code detailing what it does or what certain lines do. Individual functions may have what is called a **docstring**, which is a string that occurs immediately after the function definition detailing how do use that function, inputs, and outputs. Another type of documentation is a docs page or **API reference** on a website for that software, such as the page for the seaborn's [scatterplot](https://seaborn.pydata.org/generated/seaborn.scatterplot.html) function. Many software packages also have some introductory pages like **vignettes** or **tutorials** that guide you through the basics of the software. The [Getting started tutorials](https://pandas.pydata.org/docs/getting_started/intro_tutorials/index.html) of Pandas is a good example of this.\n",
    "\n",
    "**What documentation are we meant to read?**\n",
    "\n",
    "In general, documentation is meant to be a reference manual more than a textbook. A lot of documentation is really repetitive, because it has to exhaustively cover every single function, class, and use-case available to the user. I do not recommend reading documentation like a book or in any linear way. That's like learning a foreign language by reading the dictionary. For example, `numpy` has a variety of [mathematical functions](https://numpy.org/doc/stable/reference/routines.math.html), but you are not required to look at the doc page of each of those. It is enough to know that it exists and when you do want to use a particular one, to check the page of that specific function. The most important parts of the documentation to read first are the tutorials/user guides, which introduce the basic functionality of the software with some example code. Often times, this code is exactly what you need to get started. If you get stuck, then it's time to read the docs pages for the specific commands you are using."
   ]
  },
  {
   "cell_type": "markdown",
   "metadata": {
    "id": "ASCXtv_6x85S"
   },
   "source": [
    "### Anatomy of a docs page\n",
    "\n",
    "Scientific articles typically have the same sections: Introduction, Methods, Results/Discussion. Similarly, docs pages for a function should all have some common components:\n",
    "\n",
    "* Function name and how to call it\n",
    "    * parameters in parentheses with any defaults showing\n",
    "    * positional parameters first, keyword parameters after asterisk\n",
    "* Description of function\n",
    "* Detailed parameters that can be passed to each function\n",
    "    * type of object that can be passed\n",
    "    * description of what the parameter does\n",
    "* Returns\n",
    "    * type of object(s) returned\n",
    "    * description of the object\n",
    "* Examples\n",
    "\n",
    "**Just the basics**\n",
    "\n",
    "If this is your first time encountering the function, glance at the function name and description and then go directly to the examples. This will help you understand if this function does what you think it does and give you a template to use it.\n"
   ]
  },
  {
   "cell_type": "markdown",
   "metadata": {
    "id": "uKr51JVhx85S"
   },
   "source": [
    ">**Exercise:** Read the documentation page for plotting pie charts in matplotlib [here](https://matplotlib.org/stable/api/_as_gen/matplotlib.axes.Axes.pie.html). What is the minimal information you need to pass to the function to get a pie chart? What parameters are optional or already have defaults?"
   ]
  },
  {
   "cell_type": "markdown",
   "metadata": {
    "id": "fH8uflRFx85T"
   },
   "source": [
    "\n",
    "**Troubleshooting**\n",
    "\n",
    "Looking at a docs page is helpful for troubleshooting certain errors."
   ]
  },
  {
   "cell_type": "markdown",
   "metadata": {
    "id": "bkXak3U_x85T"
   },
   "source": [
    ">**Exercise:** Below is some code that is meant to plot a pie chart using some functions in the matplotlib library. However, it's not working. Can you figure out what's wrong?"
   ]
  },
  {
   "cell_type": "code",
   "execution_count": 3,
   "metadata": {
    "colab": {
     "base_uri": "https://localhost:8080/",
     "height": 216
    },
    "id": "hxq_2wVkx85T",
    "outputId": "2f7ea29c-a0bd-48f2-fa40-a4495e3f8eed"
   },
   "outputs": [
    {
     "data": {
      "text/plain": [
       "Text(0.5, 1.0, 'Programming Language Popularity')"
      ]
     },
     "execution_count": 3,
     "metadata": {},
     "output_type": "execute_result"
    },
    {
     "data": {
      "image/png": "[encoded data removed]",
      "text/plain": [
       "<Figure size 640x480 with 1 Axes>"
      ]
     },
     "metadata": {},
     "output_type": "display_data"
    }
   ],
   "source": [
    "labels = ['Python', 'Java', 'C++', 'Ruby']\n",
    "sizes = [215, 130, 245, 210]\n",
    "\n",
    "fig, ax = plt.subplots()\n",
    "\n",
    "#ax.pie(sizes, labs=labels, autopct='%1.1f%%', shadow=True, startangle=140)\n",
    "ax.pie(sizes, labels=labels, autopct='%1.1f%%', shadow=True, startangle=140)\n",
    "\n",
    "# Aspect ratio to ensure the pie chart is circular.\n",
    "ax.axis('equal')\n",
    "\n",
    "ax.set_title('Programming Language Popularity')"
   ]
  },
  {
   "cell_type": "markdown",
   "metadata": {
    "id": "slrPcyhQx85T"
   },
   "source": [
    "**Exploring**\n",
    "\n",
    "If you are trying to find a specific way to customize the pie chart, it is worth reading the entire list of parameters to see what options are available."
   ]
  },
  {
   "cell_type": "markdown",
   "metadata": {
    "id": "Rd92x71jx85U"
   },
   "source": [
    ">**Discussion:** Read the pie plot function's [documentation](https://matplotlib.org/stable/api/_as_gen/matplotlib.axes.Axes.pie.html) page. How does the function give you control over the look of your pie wedges?"
   ]
  },
  {
   "cell_type": "markdown",
   "metadata": {
    "id": "nBhIoXLYA0eH"
   },
   "source": [
    "## Refresher: importing libraries\n",
    "\n",
    "Recall that we covered how to **import libraries** of functions previously. For instance, we can import the built-in `math` library and then use the functions it contains:"
   ]
  },
  {
   "cell_type": "code",
   "execution_count": 15,
   "metadata": {
    "colab": {
     "base_uri": "https://localhost:8080/"
    },
    "id": "fbKYBQaEBEfA",
    "outputId": "596338be-b16a-4739-b38e-c8be34562057"
   },
   "outputs": [
    {
     "name": "stdout",
     "output_type": "stream",
     "text": [
      "4.605170185988092\n"
     ]
    }
   ],
   "source": [
    "import math\n",
    "print(math.log(100))"
   ]
  },
  {
   "cell_type": "markdown",
   "metadata": {
    "id": "_2OKWugKBHiz"
   },
   "source": [
    "We need to type `math.` so Python knows where to look for the `log()` function.\n",
    "\n",
    "We can also use an **alias** if we don't want to type `math.` every time we use a function from the library:"
   ]
  },
  {
   "cell_type": "code",
   "execution_count": 16,
   "metadata": {
    "colab": {
     "base_uri": "https://localhost:8080/"
    },
    "id": "iJgUVBvVBRaj",
    "outputId": "7b59e9c7-803f-44f5-bac3-d41745ba03e9"
   },
   "outputs": [
    {
     "name": "stdout",
     "output_type": "stream",
     "text": [
      "4.605170185988092\n"
     ]
    }
   ],
   "source": [
    "import math as m\n",
    "print(m.log(100))"
   ]
  },
  {
   "cell_type": "markdown",
   "metadata": {},
   "source": [
    "## Reading and writing data in base python"
   ]
  },
  {
   "cell_type": "markdown",
   "metadata": {
    "id": "vdI_L_hYx85w"
   },
   "source": [
    "In this next section, we'll read data of bird names and bird sightings from two CSV files and then write out the total number of sightings for each bird to a new CSV file."
   ]
  },
  {
   "cell_type": "markdown",
   "metadata": {
    "id": "giOIYpjjx85w"
   },
   "source": [
    "### Reading data line by line\n",
    "\n",
    "A common way to read data in Python is line by line. This is useful when you have a file that is too large to fit into memory all at once. You can read the file line by line and process each line as you go. This is also useful when you need to parse a file that has a specific structure so that it can be read into a data structure like a numpy array or pandas dataframe. In this section, when we talk about files, we mean text files that contain data that exist on your local machine. This is different from the data structures we've been working with so far, which are in memory (in your python instance).\n",
    "\n",
    "The syntax for opening a file is `open(filename, mode)`, where mode can be `r` for reading, `w` for writing, `a` for appending. Reading mode means that you can only read the file but not change it (on the disk). Writing mode means you are creating a new file or overwriting an existing file. Appending mode means you are adding to an existing file.\n",
    "\n",
    "When you open a file, you can read it line by line using a `for` loop. While there are several ways to open a file in Python, the most efficient is with the `with` keyword, which will automatically close the file once you've done what you need. Here's an example of how that might look with a for loop to print each line of a file:\n",
    "\n",
    "```python\n",
    "with open('filename.txt', 'r') as file:\n",
    "    for line in file:\n",
    "        print(line)\n",
    "```\n",
    "\n",
    "The above code will print each line of the file to the console. Notice the use of the keyword `as`, similar to how we setup an **alias** when we import a library. Here it serves a similar purpose, giving us a name to refer to the file object we've opened. We can name it anything we want, but `file` was just an example. The `line` variable is how we refer to each line of the file as we iterate through it. Again, it's an arbitrary name.\n",
    "\n",
    "This for loop is similar to how we iterate through a list. The only difference is that we're iterating through something that is being read from our local computer rather than an object in memory.\n",
    "\n",
    "In the example, we are only printing the lines of the file, but just as with any for loop, you can do anything you want with each line, such as apply a function to it, split it up and store it in a data structure, or write different parts of it to a new file. So think of that `print(line)` line as a placeholder for whatever you want to do with the line.\n",
    "\n",
    "### Vocab\n",
    "\n",
    "|Term|Definition|\n",
    "|---|---|\n",
    "|File|A collection of data stored on a disk|\n",
    "|Line|A string of characters that ends with a newline character|\n",
    "|Newline character|A special character that indicates the end of a line, usually `\\n`|\n",
    "|Delimiter|A character that separates data fields in a line, usually a comma, tab, or space|\n",
    "|Parsing|The process of extracting data from a file|\n",
    "|Whitespace|Any character that represents a space, tab, or newline|\n",
    "|Leading/trailing whitespace|Whitespace at the beginning or end of a string|\n"
   ]
  },
  {
   "cell_type": "markdown",
   "metadata": {
    "id": "oGOqaBSNx85w"
   },
   "source": [
    "Let's work through a more concrete example of how we might read and then parse through a file. Let's suppose we have a list of taxon ids and bird names that we want to read into a **dictionary**. The file looks like this:\n",
    "\n",
    "```\n",
    "Anas rubripes,American Black Duck,6924\n",
    "Fulica americana,American Coot,473\n",
    "Spinus tristis,American Goldfinch,145310\n",
    "Falco sparverius,American Kestrel,4665\n",
    "```\n",
    "\n",
    "First, run this block to download the file to the Jupyter notebook environment.."
   ]
  },
  {
   "cell_type": "code",
   "execution_count": 5,
   "metadata": {
    "id": "1yVz5frKx85w",
    "outputId": "7efa4170-de95-4d79-9e5b-a5dcba13d889"
   },
   "outputs": [
    {
     "name": "stdout",
     "output_type": "stream",
     "text": [
      "--2025-01-15 14:50:41--  https://informatics.fas.harvard.edu/resources/Workshops/2024-Fall/Python/data/bird_names.csv\n",
      "Resolving informatics.fas.harvard.edu (informatics.fas.harvard.edu)... 185.199.108.153, 185.199.111.153, 185.199.110.153, ...\n",
      "Connecting to informatics.fas.harvard.edu (informatics.fas.harvard.edu)|185.199.108.153|:443... connected.\n",
      "HTTP request sent, awaiting response... 200 OK\n",
      "Length: 4383 (4.3K) [text/csv]\n",
      "Saving to: ‘bird_names.csv’\n",
      "\n",
      "bird_names.csv      100%[===================>]   4.28K  --.-KB/s    in 0s      \n",
      "\n",
      "2025-01-15 14:50:42 (33.4 MB/s) - ‘bird_names.csv’ saved [4383/4383]\n",
      "\n"
     ]
    }
   ],
   "source": [
    "# This line downloads the file locally to the same folder as your notebook\n",
    "!wget https://informatics.fas.harvard.edu/resources/Workshops/2024-Fall/Python/data/bird_names.csv"
   ]
  },
  {
   "cell_type": "markdown",
   "metadata": {
    "id": "fXTSzHKfEt4H"
   },
   "source": [
    "Then, in the code below we first read the file line by line, then strip the whitespace and split the line by a comma. Then, we will create a dictionary where the key is the taxon id and the value is the common name of the bird."
   ]
  },
  {
   "cell_type": "code",
   "execution_count": null,
   "metadata": {
    "id": "PLbmpFrRx85x",
    "outputId": "9061cea8-1787-4d7d-f8f8-427c06d2cf4a"
   },
   "outputs": [
    {
     "name": "stdout",
     "output_type": "stream",
     "text": [
      "{'6924': 'American Black Duck', '473': 'American Coot', '145310': 'American Goldfinch', '4665': 'American Kestrel', '12727': 'American Robin', '474210': 'American Tree Sparrow', '3936': 'American Woodcock', '16010': 'Ash-throated Flycatcher', '5305': 'Bald Eagle', '9346': 'Baltimore Oriole', '19893': 'Barred Owl', '2548': 'Belted Kingfisher', '144815': 'Black-capped Chickadee', '4981': 'Black-crowned Night Heron', '199916': 'Black-throated Blue Warbler', '8229': 'Blue Jay', '7458': 'Brown Creeper', '10373': 'Brown-headed Cowbird', '6993': 'Bufflehead', '7089': 'Canada Goose', '7513': 'Carolina Wren', '7428': 'Cedar Waxwing', '6571': 'Chimney Swift', '9135': 'Chipping Sparrow', '9602': 'Common Grackle', '4626': 'Common Loon', '7004': 'Common Merganser', '8010': 'Common Raven', '9721': 'Common Yellowthroat', '5112': \"Cooper's Hawk\", '10094': 'Dark-eyed Junco', '10676': 'Dickcissel', '120479': 'Domestic Greylag Goose', '236935': 'Domestic Mallard', '1454382': 'Double-crested Cormorant', '792988': 'Downy Woodpecker', '16782': 'Eastern Kingbird', '17008': 'Eastern Phoebe', '494355': 'Eastern Red-tailed Hawk', '515821': 'Eastern Song Sparrow', '319123': 'Eastern Wild Turkey', '14850': 'European Starling', '544795': 'European house sparrow', '122767': 'Feral Pigeon', '9156': 'Fox Sparrow', '117100': 'Golden-crowned Kinglet', '14995': 'Gray Catbird', '4368': 'Great Black-backed Gull', '4956': 'Great Blue Heron', '16028': 'Great Crested Flycatcher', '20044': 'Great Horned Owl', '7047': 'Greater Scaup', '5020': 'Green Heron', '6937': 'Green-winged Teal', '514057': 'Greylag × Canada Goose', '792990': 'Hairy Woodpecker', '12890': 'Hermit Thrush', '204533': 'Herring Gull', '7109': 'Hooded Merganser', '4209': 'Horned Grebe', '199840': 'House Finch', '13858': 'House Sparrow', '7562': 'House Wren', '4793': 'Killdeer', '10479': 'Lark Sparrow', '7054': 'Lesser Scaup', '6930': 'Mallard', '326092': 'Mallard × Muscovy Duck', '4672': 'Merlin', '3454': 'Mourning Dove', '6921': 'Mute Swan', '9083': 'Northern Cardinal', '18236': 'Northern Flicker', '14886': 'Northern Mockingbird', '555736': 'Northern Yellow-shafted Flicker', '979757': 'Orange-crowned Warbler', '116999': 'Osprey', '62550': 'Ovenbird', '4647': 'Peregrine Falcon', '17364': 'Philadelphia Vireo', '4246': 'Pied-billed Grebe', '18205': 'Red-bellied Woodpecker', '6996': 'Red-breasted Merganser', '14823': 'Red-breasted Nuthatch', '5212': 'Red-tailed Hawk', '9744': 'Red-winged Blackbird', '7056': 'Redhead', '4364': 'Ring-billed Gull', '7044': 'Ring-necked Duck', '3017': 'Rock Pigeon', '1289388': 'Ruby-crowned Kinglet', '6432': 'Ruby-throated Hummingbird', '850859': 'Ruddy Duck', '9100': 'Song Sparrow', '72458': 'Spotted Sandpiper', '11935': 'Tree Swallow', '13632': 'Tufted Titmouse', '17394': 'Warbling Vireo', '14801': 'White-breasted Nuthatch', '9176': 'White-crowned Sparrow', '9184': 'White-throated Sparrow', '906': 'Wild Turkey', '7107': 'Wood Duck', '145238': 'Yellow Warbler', '18463': 'Yellow-bellied Sapsucker'}\n"
     ]
    }
   ],
   "source": [
    "filename = 'bird_names.csv'\n",
    "\n",
    "bird_names = dict()\n",
    "\n",
    "with open(filename, 'r') as file:\n",
    "    for line in file:\n",
    "        line = line.strip().split(',')\n",
    "        bird_names[line[2]] = line[1]\n",
    "\n",
    "print(bird_names)"
   ]
  },
  {
   "cell_type": "markdown",
   "metadata": {
    "id": "Lagv03K5x85x"
   },
   "source": [
    ">**Exercise**: Rerun the code above and remove the `strip()` method. What happens?"
   ]
  },
  {
   "cell_type": "markdown",
   "metadata": {
    "id": "Gbwh5p-sx85x"
   },
   "source": [
    "Here are some handy functions when working with lines in files. These are all string methods, so you can use them on any string, including strings that are read from a file.\n",
    "\n",
    "**Useful functions for reading files by line**\n",
    "\n",
    "| Function | Description |\n",
    "| --- | --- |\n",
    "| `.strip()` | Removes leading and trailing whitespace and newlines from a string |\n",
    "| `.split()` | Splits a string into a list of strings based on a delimiter |\n",
    "| `.join()` | Joins a list of strings into a single string with a delimiter |\n",
    "| `line[:]` | Indexing and slicing works on strings too |\n",
    "| `.replace(old, new)` | Replaces all instances of `old` with `new` in a string |\n",
    "\n",
    "**Useful special characters**\n",
    "\n",
    "Special characters in files are often used as delimiters or to indicate the end of a line. The two most common special characters are:\n",
    "\n",
    "| Character | Description |\n",
    "| --- | --- |\n",
    "| `\\n` | Newline character |\n",
    "| `\\t` | Tab character |"
   ]
  },
  {
   "cell_type": "markdown",
   "metadata": {
    "id": "P-YfuiJ-x85x"
   },
   "source": [
    ">**Exercise**: Copy the code above and modify it so that the dictionary keys are the taxon ids and the values are another dictionary, with keys 'scientific_name' and 'common_name' and values the appropriate entries for that bird species.\n",
    ">\n",
    "> For example, a sample dictionary entry should look like this:\n",
    "> ```\n",
    "> {6924: {'scientific_name': 'Anas rubripes', 'common_name': 'American Black Duck'}}\n",
    "> ```"
   ]
  },
  {
   "cell_type": "code",
   "execution_count": 6,
   "metadata": {
    "id": "0GQJqgU1x85x",
    "outputId": "674fdca6-7948-45be-c0c0-9da6ec8139d9"
   },
   "outputs": [
    {
     "name": "stdout",
     "output_type": "stream",
     "text": [
      "{'6924': {'scientific_name': 'Anas rubripes', 'common_name': 'American Black Duck'}, '473': {'scientific_name': 'Fulica americana', 'common_name': 'American Coot'}, '145310': {'scientific_name': 'Spinus tristis', 'common_name': 'American Goldfinch'}, '4665': {'scientific_name': 'Falco sparverius', 'common_name': 'American Kestrel'}, '12727': {'scientific_name': 'Turdus migratorius', 'common_name': 'American Robin'}, '474210': {'scientific_name': 'Spizelloides arborea', 'common_name': 'American Tree Sparrow'}, '3936': {'scientific_name': 'Scolopax minor', 'common_name': 'American Woodcock'}, '16010': {'scientific_name': 'Myiarchus cinerascens', 'common_name': 'Ash-throated Flycatcher'}, '5305': {'scientific_name': 'Haliaeetus leucocephalus', 'common_name': 'Bald Eagle'}, '9346': {'scientific_name': 'Icterus galbula', 'common_name': 'Baltimore Oriole'}, '19893': {'scientific_name': 'Strix varia', 'common_name': 'Barred Owl'}, '2548': {'scientific_name': 'Megaceryle alcyon', 'common_name': 'Belted Kingfisher'}, '144815': {'scientific_name': 'Poecile atricapillus', 'common_name': 'Black-capped Chickadee'}, '4981': {'scientific_name': 'Nycticorax nycticorax', 'common_name': 'Black-crowned Night Heron'}, '199916': {'scientific_name': 'Setophaga caerulescens', 'common_name': 'Black-throated Blue Warbler'}, '8229': {'scientific_name': 'Cyanocitta cristata', 'common_name': 'Blue Jay'}, '7458': {'scientific_name': 'Certhia americana', 'common_name': 'Brown Creeper'}, '10373': {'scientific_name': 'Molothrus ater', 'common_name': 'Brown-headed Cowbird'}, '6993': {'scientific_name': 'Bucephala albeola', 'common_name': 'Bufflehead'}, '7089': {'scientific_name': 'Branta canadensis', 'common_name': 'Canada Goose'}, '7513': {'scientific_name': 'Thryothorus ludovicianus', 'common_name': 'Carolina Wren'}, '7428': {'scientific_name': 'Bombycilla cedrorum', 'common_name': 'Cedar Waxwing'}, '6571': {'scientific_name': 'Chaetura pelagica', 'common_name': 'Chimney Swift'}, '9135': {'scientific_name': 'Spizella passerina', 'common_name': 'Chipping Sparrow'}, '9602': {'scientific_name': 'Quiscalus quiscula', 'common_name': 'Common Grackle'}, '4626': {'scientific_name': 'Gavia immer', 'common_name': 'Common Loon'}, '7004': {'scientific_name': 'Mergus merganser', 'common_name': 'Common Merganser'}, '8010': {'scientific_name': 'Corvus corax', 'common_name': 'Common Raven'}, '9721': {'scientific_name': 'Geothlypis trichas', 'common_name': 'Common Yellowthroat'}, '5112': {'scientific_name': 'Accipiter cooperii', 'common_name': \"Cooper's Hawk\"}, '10094': {'scientific_name': 'Junco hyemalis', 'common_name': 'Dark-eyed Junco'}, '10676': {'scientific_name': 'Spiza americana', 'common_name': 'Dickcissel'}, '120479': {'scientific_name': 'Anser anser domesticus', 'common_name': 'Domestic Greylag Goose'}, '236935': {'scientific_name': 'Anas platyrhynchos domesticus', 'common_name': 'Domestic Mallard'}, '1454382': {'scientific_name': 'Nannopterum auritum', 'common_name': 'Double-crested Cormorant'}, '792988': {'scientific_name': 'Dryobates pubescens', 'common_name': 'Downy Woodpecker'}, '16782': {'scientific_name': 'Tyrannus tyrannus', 'common_name': 'Eastern Kingbird'}, '17008': {'scientific_name': 'Sayornis phoebe', 'common_name': 'Eastern Phoebe'}, '494355': {'scientific_name': 'Buteo jamaicensis borealis', 'common_name': 'Eastern Red-tailed Hawk'}, '515821': {'scientific_name': 'Melospiza melodia melodia', 'common_name': 'Eastern Song Sparrow'}, '319123': {'scientific_name': 'Meleagris gallopavo silvestris', 'common_name': 'Eastern Wild Turkey'}, '14850': {'scientific_name': 'Sturnus vulgaris', 'common_name': 'European Starling'}, '544795': {'scientific_name': 'Passer domesticus domesticus', 'common_name': 'European house sparrow'}, '122767': {'scientific_name': 'Columba livia domestica', 'common_name': 'Feral Pigeon'}, '9156': {'scientific_name': 'Passerella iliaca', 'common_name': 'Fox Sparrow'}, '117100': {'scientific_name': 'Regulus satrapa', 'common_name': 'Golden-crowned Kinglet'}, '14995': {'scientific_name': 'Dumetella carolinensis', 'common_name': 'Gray Catbird'}, '4368': {'scientific_name': 'Larus marinus', 'common_name': 'Great Black-backed Gull'}, '4956': {'scientific_name': 'Ardea herodias', 'common_name': 'Great Blue Heron'}, '16028': {'scientific_name': 'Myiarchus crinitus', 'common_name': 'Great Crested Flycatcher'}, '20044': {'scientific_name': 'Bubo virginianus', 'common_name': 'Great Horned Owl'}, '7047': {'scientific_name': 'Aythya marila', 'common_name': 'Greater Scaup'}, '5020': {'scientific_name': 'Butorides virescens', 'common_name': 'Green Heron'}, '6937': {'scientific_name': 'Anas crecca', 'common_name': 'Green-winged Teal'}, '514057': {'scientific_name': 'Anser anser × Branta canadensis', 'common_name': 'Greylag × Canada Goose'}, '792990': {'scientific_name': 'Dryobates villosus', 'common_name': 'Hairy Woodpecker'}, '12890': {'scientific_name': 'Catharus guttatus', 'common_name': 'Hermit Thrush'}, '204533': {'scientific_name': 'Larus argentatus', 'common_name': 'Herring Gull'}, '7109': {'scientific_name': 'Lophodytes cucullatus', 'common_name': 'Hooded Merganser'}, '4209': {'scientific_name': 'Podiceps auritus', 'common_name': 'Horned Grebe'}, '199840': {'scientific_name': 'Haemorhous mexicanus', 'common_name': 'House Finch'}, '13858': {'scientific_name': 'Passer domesticus', 'common_name': 'House Sparrow'}, '7562': {'scientific_name': 'Troglodytes aedon', 'common_name': 'House Wren'}, '4793': {'scientific_name': 'Charadrius vociferus', 'common_name': 'Killdeer'}, '10479': {'scientific_name': 'Chondestes grammacus', 'common_name': 'Lark Sparrow'}, '7054': {'scientific_name': 'Aythya affinis', 'common_name': 'Lesser Scaup'}, '6930': {'scientific_name': 'Anas platyrhynchos', 'common_name': 'Mallard'}, '326092': {'scientific_name': 'Anas platyrhynchos × cairina moschata', 'common_name': 'Mallard × Muscovy Duck'}, '4672': {'scientific_name': 'Falco columbarius', 'common_name': 'Merlin'}, '3454': {'scientific_name': 'Zenaida macroura', 'common_name': 'Mourning Dove'}, '6921': {'scientific_name': 'Cygnus olor', 'common_name': 'Mute Swan'}, '9083': {'scientific_name': 'Cardinalis cardinalis', 'common_name': 'Northern Cardinal'}, '18236': {'scientific_name': 'Colaptes auratus', 'common_name': 'Northern Flicker'}, '14886': {'scientific_name': 'Mimus polyglottos', 'common_name': 'Northern Mockingbird'}, '555736': {'scientific_name': 'Colaptes auratus luteus', 'common_name': 'Northern Yellow-shafted Flicker'}, '979757': {'scientific_name': 'Leiothlypis celata', 'common_name': 'Orange-crowned Warbler'}, '116999': {'scientific_name': 'Pandion haliaetus', 'common_name': 'Osprey'}, '62550': {'scientific_name': 'Seiurus aurocapilla', 'common_name': 'Ovenbird'}, '4647': {'scientific_name': 'Falco peregrinus', 'common_name': 'Peregrine Falcon'}, '17364': {'scientific_name': 'Vireo philadelphicus', 'common_name': 'Philadelphia Vireo'}, '4246': {'scientific_name': 'Podilymbus podiceps', 'common_name': 'Pied-billed Grebe'}, '18205': {'scientific_name': 'Melanerpes carolinus', 'common_name': 'Red-bellied Woodpecker'}, '6996': {'scientific_name': 'Mergus serrator', 'common_name': 'Red-breasted Merganser'}, '14823': {'scientific_name': 'Sitta canadensis', 'common_name': 'Red-breasted Nuthatch'}, '5212': {'scientific_name': 'Buteo jamaicensis', 'common_name': 'Red-tailed Hawk'}, '9744': {'scientific_name': 'Agelaius phoeniceus', 'common_name': 'Red-winged Blackbird'}, '7056': {'scientific_name': 'Aythya americana', 'common_name': 'Redhead'}, '4364': {'scientific_name': 'Larus delawarensis', 'common_name': 'Ring-billed Gull'}, '7044': {'scientific_name': 'Aythya collaris', 'common_name': 'Ring-necked Duck'}, '3017': {'scientific_name': 'Columba livia', 'common_name': 'Rock Pigeon'}, '1289388': {'scientific_name': 'Corthylio calendula', 'common_name': 'Ruby-crowned Kinglet'}, '6432': {'scientific_name': 'Archilochus colubris', 'common_name': 'Ruby-throated Hummingbird'}, '850859': {'scientific_name': 'Oxyura jamaicensis', 'common_name': 'Ruddy Duck'}, '9100': {'scientific_name': 'Melospiza melodia', 'common_name': 'Song Sparrow'}, '72458': {'scientific_name': 'Actitis macularius', 'common_name': 'Spotted Sandpiper'}, '11935': {'scientific_name': 'Tachycineta bicolor', 'common_name': 'Tree Swallow'}, '13632': {'scientific_name': 'Baeolophus bicolor', 'common_name': 'Tufted Titmouse'}, '17394': {'scientific_name': 'Vireo gilvus', 'common_name': 'Warbling Vireo'}, '14801': {'scientific_name': 'Sitta carolinensis', 'common_name': 'White-breasted Nuthatch'}, '9176': {'scientific_name': 'Zonotrichia leucophrys', 'common_name': 'White-crowned Sparrow'}, '9184': {'scientific_name': 'Zonotrichia albicollis', 'common_name': 'White-throated Sparrow'}, '906': {'scientific_name': 'Meleagris gallopavo', 'common_name': 'Wild Turkey'}, '7107': {'scientific_name': 'Aix sponsa', 'common_name': 'Wood Duck'}, '145238': {'scientific_name': 'Setophaga petechia', 'common_name': 'Yellow Warbler'}, '18463': {'scientific_name': 'Sphyrapicus varius', 'common_name': 'Yellow-bellied Sapsucker'}}\n"
     ]
    }
   ],
   "source": [
    "filename = 'bird_names.csv'\n",
    "\n",
    "# Your code here\n",
    "bird_names = dict()\n",
    "\n",
    "with open(filename, 'r') as file:\n",
    "    for line in file:\n",
    "        line = line.strip().split(',')\n",
    "        bird_names[line[2]] = {'scientific_name': line[0], 'common_name': line[1]}\n",
    "\n",
    "print(bird_names)"
   ]
  },
  {
   "cell_type": "markdown",
   "metadata": {
    "id": "9kMtFgKwx85y"
   },
   "source": [
    ">**Exercise**: Why did we use a dictionary to store the data in the previous exercise? Think about what features of a dictionary make it a good choice or what features of lists or arrays make them a bad choice."
   ]
  },
  {
   "cell_type": "markdown",
   "metadata": {
    "id": "71hcjRU_x85y"
   },
   "source": [
    "Below is an excerpt from a file of iNaturalist observations of birds in Cambridge, MA from the year 2023. We will loop through the file and count the number of observations of each species. We will also use the previously created dictionary to get the species names.\n",
    "\n",
    "```csv\n",
    "id,time_observed_at,taxon_id\n",
    "145591043,2023-01-01 17:33:31 UTC,14886\n",
    "145610149,2023-01-01 20:55:00 UTC,7004\n",
    "145610383,2023-01-01 21:13:00 UTC,6993\n",
    "145611915,2023-01-01 21:12:00 UTC,13858\n",
    "```\n",
    "\n",
    "Run the code block below to download the file to the Jupyter notebook environment."
   ]
  },
  {
   "cell_type": "code",
   "execution_count": 4,
   "metadata": {
    "id": "3nbIH3wix85y"
   },
   "outputs": [
    {
     "name": "stdout",
     "output_type": "stream",
     "text": [
      "--2025-01-15 14:50:33--  https://informatics.fas.harvard.edu/resources/Workshops/2024-Fall/Python/data/bird_observations.csv\n",
      "Resolving informatics.fas.harvard.edu (informatics.fas.harvard.edu)... 185.199.108.153, 185.199.111.153, 185.199.110.153, ...\n",
      "Connecting to informatics.fas.harvard.edu (informatics.fas.harvard.edu)|185.199.108.153|:443... connected.\n",
      "HTTP request sent, awaiting response... 200 OK\n",
      "Length: 50448 (49K) [text/csv]\n",
      "Saving to: ‘bird_observations.csv’\n",
      "\n",
      "bird_observations.c 100%[===================>]  49.27K  --.-KB/s    in 0.01s   \n",
      "\n",
      "2025-01-15 14:50:33 (4.15 MB/s) - ‘bird_observations.csv’ saved [50448/50448]\n",
      "\n"
     ]
    }
   ],
   "source": [
    "# This line downloads the file locally to the same folder as your notebook\n",
    "!wget https://informatics.fas.harvard.edu/resources/Workshops/2024-Fall/Python/data/bird_observations.csv"
   ]
  },
  {
   "cell_type": "markdown",
   "metadata": {
    "id": "RuOgnWGbx85y"
   },
   "source": [
    ">**Exercise:** Work with a neighbor or two to do the following exercise:\n",
    "> Loop through the file and count the number of observations of each species. After all the observations have been counted, print all the species names and the number of observations. You will need to use the dictionary you created in the previous exercise to get the species names. It's up to you what kind of data structure (if any) you want to use to store the counts.\n",
    ">\n",
    "> 1. Write out pseudocode for what you will do for each line in your birdfile\n",
    "> 2. Try to turn the pseudocode into python code. If there's something you want to do, but don't know the syntax or function, raise your hand and we can help you.\n",
    "> 3. Find out how many European Starlings were observed as proof that your code works."
   ]
  },
  {
   "cell_type": "code",
   "execution_count": 7,
   "metadata": {
    "id": "ZCCEeNG_x85y"
   },
   "outputs": [
    {
     "name": "stdout",
     "output_type": "stream",
     "text": [
      "{'Northern Mockingbird': 23, 'Common Merganser': 4, 'Bufflehead': 9, 'House Sparrow': 69, 'European Starling': 51, 'Northern Cardinal': 28, 'Mourning Dove': 31, 'Blue Jay': 39, 'American Black Duck': 2, 'Domestic Mallard': 14, 'Mute Swan': 33, 'Green-winged Teal': 8, 'American Robin': 92, 'Mallard': 49, 'Great Blue Heron': 26, 'Red-tailed Hawk': 36, 'Canada Goose': 112, 'Downy Woodpecker': 24, 'Ring-necked Duck': 22, 'Wild Turkey': 82, 'Common Loon': 9, 'Horned Grebe': 4, 'Redhead': 8, 'Feral Pigeon': 31, 'Golden-crowned Kinglet': 7, 'Red-bellied Woodpecker': 15, 'Hooded Merganser': 18, 'Belted Kingfisher': 3, 'Red-winged Blackbird': 35, 'Black-capped Chickadee': 14, 'Ruddy Duck': 2, 'Bald Eagle': 2, 'Dark-eyed Junco': 9, 'Carolina Wren': 7, 'House Finch': 19, 'White-throated Sparrow': 5, 'Song Sparrow': 24, 'Yellow-bellied Sapsucker': 3, 'White-breasted Nuthatch': 10, 'Eastern Red-tailed Hawk': 5, 'Tufted Titmouse': 8, \"Cooper's Hawk\": 17, 'Domestic Greylag Goose': 14, 'Rock Pigeon': 9, 'American Coot': 1, 'Greylag × Canada Goose': 1, 'Eastern Wild Turkey': 1, 'Brown Creeper': 7, 'Hairy Woodpecker': 2, 'Northern Flicker': 6, 'Greater Scaup': 1, 'Red-breasted Merganser': 2, 'American Woodcock': 7, 'Red-breasted Nuthatch': 1, 'Great Horned Owl': 23, 'Peregrine Falcon': 5, 'American Goldfinch': 18, 'Barred Owl': 2, 'Black-crowned Night Heron': 2, 'Tree Swallow': 11, 'Common Grackle': 14, 'Hermit Thrush': 4, 'Northern Yellow-shafted Flicker': 1, 'Chipping Sparrow': 3, 'Killdeer': 2, 'Gray Catbird': 20, 'Double-crested Cormorant': 17, 'Yellow Warbler': 3, 'Warbling Vireo': 2, 'Baltimore Oriole': 7, 'Common Yellowthroat': 2, 'White-crowned Sparrow': 2, 'Black-throated Blue Warbler': 1, 'Ovenbird': 1, 'Brown-headed Cowbird': 4, 'House Wren': 1, 'Cedar Waxwing': 4, 'European house sparrow': 1, 'Herring Gull': 4, 'Eastern Kingbird': 7, 'Great Black-backed Gull': 1, 'Green Heron': 10, 'Great Crested Flycatcher': 1, 'Wood Duck': 6, 'American Kestrel': 1, 'Osprey': 1, 'Ruby-throated Hummingbird': 3, 'Spotted Sandpiper': 2, 'Chimney Swift': 1, 'Eastern Phoebe': 1, 'Lark Sparrow': 2, 'Ring-billed Gull': 1, 'Dickcissel': 1, 'Merlin': 1, 'Ash-throated Flycatcher': 6, 'Pied-billed Grebe': 5, 'Lesser Scaup': 2, 'Orange-crowned Warbler': 2, 'Eastern Song Sparrow': 1, 'Philadelphia Vireo': 1, 'Ruby-crowned Kinglet': 2, 'Mallard × Muscovy Duck': 1, 'Fox Sparrow': 1, 'American Tree Sparrow': 1, 'Common Raven': 1}\n"
     ]
    }
   ],
   "source": [
    "# Your code here\n",
    "filename = 'bird_observations.csv' #keep\n",
    "\n",
    "bird_observations = dict()\n",
    "\n",
    "with open(filename, 'r') as birdfile: #keep\n",
    "    # skip the header\n",
    "    next(birdfile) #keep\n",
    "    for line in birdfile: #keep\n",
    "        # clean up the line and split into list\n",
    "        observation = line.strip().split(',')\n",
    "        # get the bird id\n",
    "        id = observation[2]\n",
    "        # get the bird name by looking up in the bird_names dictionary\n",
    "        name = bird_names[id]['common_name']\n",
    "        # if this is the first time we're seeing the bird, add it to our observations dict\n",
    "        if name not in bird_observations:\n",
    "            bird_observations[name] = 0\n",
    "        # increment the count by 1\n",
    "        bird_observations[name] += 1\n",
    "print(bird_observations)\n"
   ]
  },
  {
   "cell_type": "markdown",
   "metadata": {
    "id": "2K_SotU8x85z"
   },
   "source": [
    "If you routinely find yourself reading delimited files, you might want to use the `csv` library. The `csv` library also has the ability to parse Excel files or read and write to/from dictionaries directly. For more information, here's the [doc page](https://docs.python.org/3/library/csv.html). Here's what the above code would look like using the `csv` module:"
   ]
  },
  {
   "cell_type": "code",
   "execution_count": 8,
   "metadata": {
    "id": "hEf9BOh6x85z"
   },
   "outputs": [
    {
     "name": "stdout",
     "output_type": "stream",
     "text": [
      "{'Northern Mockingbird': 23, 'Common Merganser': 4, 'Bufflehead': 9, 'House Sparrow': 69, 'European Starling': 51, 'Northern Cardinal': 28, 'Mourning Dove': 31, 'Blue Jay': 39, 'American Black Duck': 2, 'Domestic Mallard': 14, 'Mute Swan': 33, 'Green-winged Teal': 8, 'American Robin': 92, 'Mallard': 49, 'Great Blue Heron': 26, 'Red-tailed Hawk': 36, 'Canada Goose': 112, 'Downy Woodpecker': 24, 'Ring-necked Duck': 22, 'Wild Turkey': 82, 'Common Loon': 9, 'Horned Grebe': 4, 'Redhead': 8, 'Feral Pigeon': 31, 'Golden-crowned Kinglet': 7, 'Red-bellied Woodpecker': 15, 'Hooded Merganser': 18, 'Belted Kingfisher': 3, 'Red-winged Blackbird': 35, 'Black-capped Chickadee': 14, 'Ruddy Duck': 2, 'Bald Eagle': 2, 'Dark-eyed Junco': 9, 'Carolina Wren': 7, 'House Finch': 19, 'White-throated Sparrow': 5, 'Song Sparrow': 24, 'Yellow-bellied Sapsucker': 3, 'White-breasted Nuthatch': 10, 'Eastern Red-tailed Hawk': 5, 'Tufted Titmouse': 8, \"Cooper's Hawk\": 17, 'Domestic Greylag Goose': 14, 'Rock Pigeon': 9, 'American Coot': 1, 'Greylag × Canada Goose': 1, 'Eastern Wild Turkey': 1, 'Brown Creeper': 7, 'Hairy Woodpecker': 2, 'Northern Flicker': 6, 'Greater Scaup': 1, 'Red-breasted Merganser': 2, 'American Woodcock': 7, 'Red-breasted Nuthatch': 1, 'Great Horned Owl': 23, 'Peregrine Falcon': 5, 'American Goldfinch': 18, 'Barred Owl': 2, 'Black-crowned Night Heron': 2, 'Tree Swallow': 11, 'Common Grackle': 14, 'Hermit Thrush': 4, 'Northern Yellow-shafted Flicker': 1, 'Chipping Sparrow': 3, 'Killdeer': 2, 'Gray Catbird': 20, 'Double-crested Cormorant': 17, 'Yellow Warbler': 3, 'Warbling Vireo': 2, 'Baltimore Oriole': 7, 'Common Yellowthroat': 2, 'White-crowned Sparrow': 2, 'Black-throated Blue Warbler': 1, 'Ovenbird': 1, 'Brown-headed Cowbird': 4, 'House Wren': 1, 'Cedar Waxwing': 4, 'European house sparrow': 1, 'Herring Gull': 4, 'Eastern Kingbird': 7, 'Great Black-backed Gull': 1, 'Green Heron': 10, 'Great Crested Flycatcher': 1, 'Wood Duck': 6, 'American Kestrel': 1, 'Osprey': 1, 'Ruby-throated Hummingbird': 3, 'Spotted Sandpiper': 2, 'Chimney Swift': 1, 'Eastern Phoebe': 1, 'Lark Sparrow': 2, 'Ring-billed Gull': 1, 'Dickcissel': 1, 'Merlin': 1, 'Ash-throated Flycatcher': 6, 'Pied-billed Grebe': 5, 'Lesser Scaup': 2, 'Orange-crowned Warbler': 2, 'Eastern Song Sparrow': 1, 'Philadelphia Vireo': 1, 'Ruby-crowned Kinglet': 2, 'Mallard × Muscovy Duck': 1, 'Fox Sparrow': 1, 'American Tree Sparrow': 1, 'Common Raven': 1}\n"
     ]
    }
   ],
   "source": [
    "import csv\n",
    "\n",
    "filename = 'bird_observations.csv'\n",
    "\n",
    "bird_observations = dict()\n",
    "\n",
    "with open(filename, 'r') as birdfile:\n",
    "    # this line takes the place of us having to strip and split the lines\n",
    "    reader = csv.reader(birdfile, delimiter=',')\n",
    "    # skip the header\n",
    "    next(reader)\n",
    "    for row in reader:\n",
    "        id = row[2]\n",
    "        name = bird_names[id]['common_name']\n",
    "        if name not in bird_observations:\n",
    "            bird_observations[name] = 0\n",
    "        bird_observations[name] += 1\n",
    "print(bird_observations)"
   ]
  },
  {
   "cell_type": "markdown",
   "metadata": {
    "id": "URDI7ZBGx85z"
   },
   "source": [
    "### Writing data by line\n",
    "\n",
    "Writing data to a file is similar to reading data from a file. You can open a file in write mode and then write to it line by line using the `print()` method, but this time passing in the variable we've stored the opened file in (in our case the variable is unimaginatively named `file`). Here's an example of writing a list of strings to a file:"
   ]
  },
  {
   "cell_type": "code",
   "execution_count": 9,
   "metadata": {
    "id": "GvSaq_GVx85z"
   },
   "outputs": [
    {
     "name": "stdout",
     "output_type": "stream",
     "text": [
      "this is a test\n",
      "\n",
      "this is another test\n",
      "\n",
      "this is the final test\n",
      "\n"
     ]
    }
   ],
   "source": [
    "my_text = ['this is a test', 'this is another test', 'this is the final test']\n",
    "\n",
    "with open('my_text.txt', 'w') as file:\n",
    "    for line in my_text:\n",
    "        print(line, file=file)\n",
    "\n",
    "# reading it back\n",
    "with open('my_text.txt', 'r') as file:\n",
    "    for line in file:\n",
    "        print(line)"
   ]
  },
  {
   "cell_type": "markdown",
   "metadata": {
    "id": "mq01Vdw2x85z"
   },
   "source": [
    ">**Exercise:** Use the `csv` module to write the species counts to a new file. The file should have two columns: the species name and the number of observations. The file should be comma-delimited. How this is written may depend on how you stored the species counts."
   ]
  },
  {
   "cell_type": "code",
   "execution_count": 10,
   "metadata": {
    "id": "TkMI3wZ4x850"
   },
   "outputs": [],
   "source": [
    "# your code here\n",
    "\n",
    "import csv\n",
    "\n",
    "with open('bird_counts.csv', 'w') as file:\n",
    "    writer = csv.writer(file)\n",
    "    writer.writerow(['bird', 'count'])\n",
    "    for bird, count in bird_observations.items():\n",
    "        writer.writerow([bird, count])"
   ]
  },
  {
   "cell_type": "markdown",
   "metadata": {
    "id": "jWWaxTyOx85U"
   },
   "source": [
    "## Numpy\n",
    "\n",
    "Numpy is an open-source **library** written in Python. It's main feature is the implementation of efficient **data structures** that can be used for large datasets and **functions** and **methods** for those data structures. This makes numpy well suited for scientific computing and data science.\n",
    "\n",
    "Principal among these Numpy data structures is the **numpy array**.\n"
   ]
  },
  {
   "cell_type": "markdown",
   "metadata": {
    "id": "hwJ10GCfBZ3r"
   },
   "source": [
    "### Importing Numpy\n",
    "\n",
    "Since Numpy is an external library of functions, it needs to be **imported** before we can use it. Since Numpy is so widely used, it has become common practice to import it using the alias `np`.\n",
    "\n",
    "> **Exercise**: Run the block of code below to import Numpy. You have to do this to be able to use any of the Numpy functions we'll talk about in the workship."
   ]
  },
  {
   "cell_type": "code",
   "execution_count": 11,
   "metadata": {
    "id": "Ooht6uBwBzyU"
   },
   "outputs": [],
   "source": [
    "# Run this block to import numpy with the alias np\n",
    "import numpy as np"
   ]
  },
  {
   "cell_type": "markdown",
   "metadata": {
    "id": "K3xC3t2q24LJ"
   },
   "source": [
    "### Numpy arrays\n",
    "\n",
    "**Numpy arrays** are a data structure that only contain one type of data, typically numerical, and are N-dimensional (any number of dimensions). You can create numpy arrays using the `np.array()` function (after running `import numpy as np`) or by converting other data structures to an array using `np.asarray()` or other helper functions. There are also many functions that can create an array with pre-filled numbers, such as `np.zeros()` and `np.arange()`. An array is defined by its `shape`, which describes the number of elements in each dimension, also known as **axes**. The first axis is the number of rows, the second is the number of columns, and so on for higher dimensional data.\n",
    "\n",
    "Today we will be spending a lot of time with numpy arrays as they are one of the main data structures for working with numerical data. We will learn how to navigate them, read and write from them, and also how to perform mathematical operations on them. We will also use numpy to create some visualizations.\n",
    "\n",
    "**Use cases for numpy arrays**\n",
    "\n",
    "The use cases for numpy arrays are very broad. They are used in scientific computing, machine learning, data analysis, and more. They are optimized for fast mathematical operations and are very efficient in terms of memory usage. They are also very flexible in terms of the number of dimensions they can have, so you can store a lot of data in a single numpy array. They are not good for storing mixed data types or for storing data that is not numerical."
   ]
  },
  {
   "cell_type": "markdown",
   "metadata": {
    "id": "6zAdbm7yx85U"
   },
   "source": [
    "### Generating numpy arrays\n",
    "\n",
    "Numpy has a variety of functions that can generate arrays for you. Some of the most common ones are `np.zeros()`, `np.ones()`, `np.arange()`, and `np.linspace()`."
   ]
  },
  {
   "cell_type": "markdown",
   "metadata": {
    "id": "hDuLiz36x85U"
   },
   "source": [
    ">**Exercise:** Read the documentation page for [np.zeros()](https://numpy.org/doc/stable/reference/generated/numpy.zeros.html). What is the minimal information you need to pass to the function to get an array of zeros? What parameters are optional or already have defaults?\n",
    ">\n",
    "> Once you have read the documentation, produce an array of zeros with 3 rows and 4 columns in the code block below."
   ]
  },
  {
   "cell_type": "code",
   "execution_count": null,
   "metadata": {
    "id": "69m-4fp4x85U",
    "outputId": "4245c5bf-7cac-413b-ea71-de20eac01bee"
   },
   "outputs": [
    {
     "data": {
      "text/plain": [
       "array([[0., 0., 0., 0.],\n",
       "       [0., 0., 0., 0.],\n",
       "       [0., 0., 0., 0.]])"
      ]
     },
     "execution_count": 14,
     "metadata": {},
     "output_type": "execute_result"
    }
   ],
   "source": [
    "# your code here\n",
    "\n",
    "np.zeros([3,4])"
   ]
  },
  {
   "cell_type": "markdown",
   "metadata": {
    "id": "69hcT9orx85V"
   },
   "source": [
    ">**Exercise:** Read the documentation page for [np.arange()](https://numpy.org/doc/stable/reference/generated/numpy.arange.html).\n",
    ">\n",
    "> Once you have read the documentation, produce an array of the even numbers from 100 to 200 in the code block below."
   ]
  },
  {
   "cell_type": "code",
   "execution_count": null,
   "metadata": {
    "id": "1ioau881x85V",
    "outputId": "e87c9e6d-0e1e-4dd1-9417-cf75c9a24d0c"
   },
   "outputs": [
    {
     "data": {
      "text/plain": [
       "array([100, 102, 104, 106, 108, 110, 112, 114, 116, 118, 120, 122, 124,\n",
       "       126, 128, 130, 132, 134, 136, 138, 140, 142, 144, 146, 148, 150,\n",
       "       152, 154, 156, 158, 160, 162, 164, 166, 168, 170, 172, 174, 176,\n",
       "       178, 180, 182, 184, 186, 188, 190, 192, 194, 196, 198])"
      ]
     },
     "execution_count": 15,
     "metadata": {},
     "output_type": "execute_result"
    }
   ],
   "source": [
    "# your code here\n",
    "\n",
    "np.arange(100,200,2)"
   ]
  },
  {
   "cell_type": "markdown",
   "metadata": {
    "id": "CII9i1XJx85W"
   },
   "source": [
    "Did you notice anything unexpected in the output above? Look at the last value of the result: it's 198, not 200. One might expect that, because the function call says to create an array that ends at 200, that value would be included. The fact that it doesn't has to do with python's zero-indexing behavior. To actually get 200 to be included, you'd need to set the second argument to 201. If in a scientific application you need an array that ends at (and includes) a specific value, be sure your function call is set up properly."
   ]
  },
  {
   "cell_type": "markdown",
   "metadata": {
    "id": "BkZ_0Mtvx85W"
   },
   "source": [
    ">**Exercise:** `size` and `shape` are attributes of numpy arrays that tells you how many elements are in the array or how many elements are in each dimension. You can access it by calling `array.size`, (where `array` is the name of your array). It can also be chained with the `arange()` function. For example, `np.arange(10).size` will return 10.\n",
    ">\n",
    "> `print()` the sizes and shapes of the two arrays you created above.\n",
    ">\n",
    "> What do you notice about the way the `size` and `shape` attributes are returned?"
   ]
  },
  {
   "cell_type": "code",
   "execution_count": null,
   "metadata": {
    "id": "tyWWh7AMx85W",
    "outputId": "69c7675c-a717-4afe-bedb-715bbc4f155b"
   },
   "outputs": [
    {
     "name": "stdout",
     "output_type": "stream",
     "text": [
      "12\n",
      "(3, 4)\n",
      "50\n",
      "(50,)\n"
     ]
    }
   ],
   "source": [
    "print(np.zeros([3,4]).size)\n",
    "print(np.zeros([3,4]).shape)\n",
    "\n",
    "print(np.arange(100,200,2).size)\n",
    "print(np.arange(100,200,2).shape)"
   ]
  },
  {
   "cell_type": "markdown",
   "metadata": {
    "id": "whWdMfBDx85W"
   },
   "source": [
    "When you print the size of an array, you will get a single number of the total number of elements in the array. When you print the shape of an array, you will get a **tuple** of the number of elements in each dimension. However, if the array is one-dimensional, it will still return a tuple, but with a single element.\n",
    "\n",
    "Recall that a **tuple** is a data structure that is similar to a list, but is immutable. This means that you cannot change the elements of a tuple after it is created. Tuples are created by using parentheses instead of square brackets. Tuples are often returned by functions that need to return multiple values."
   ]
  },
  {
   "cell_type": "markdown",
   "metadata": {
    "id": "KO98hc1ax85W"
   },
   "source": [
    ">**Exercise:** `reshape()` is a method that can be called on a numpy array to change its shape. Use it to change the array you created using `np.arange(100,200,2)` to have 10 rows and 5 columns. [reshape() documentation](https://numpy.org/doc/stable/reference/generated/numpy.reshape.html)\n",
    ">\n",
    "> What are the restrictions on the shape you can pass to `reshape()`?"
   ]
  },
  {
   "cell_type": "code",
   "execution_count": null,
   "metadata": {
    "id": "Yzk6hiXDx85W",
    "outputId": "4d0126d1-e88d-400f-9b75-01f6dca364d4"
   },
   "outputs": [
    {
     "data": {
      "text/plain": [
       "array([[100, 102, 104, 106, 108],\n",
       "       [110, 112, 114, 116, 118],\n",
       "       [120, 122, 124, 126, 128],\n",
       "       [130, 132, 134, 136, 138],\n",
       "       [140, 142, 144, 146, 148],\n",
       "       [150, 152, 154, 156, 158],\n",
       "       [160, 162, 164, 166, 168],\n",
       "       [170, 172, 174, 176, 178],\n",
       "       [180, 182, 184, 186, 188],\n",
       "       [190, 192, 194, 196, 198]])"
      ]
     },
     "execution_count": 17,
     "metadata": {},
     "output_type": "execute_result"
    }
   ],
   "source": [
    "# your code here\n",
    "\n",
    "np.arange(100,200,2).reshape(10,5)"
   ]
  },
  {
   "cell_type": "markdown",
   "metadata": {
    "id": "QNs2qfjQx85X"
   },
   "source": [
    "### Difference between numpy arrays and lists\n",
    "\n",
    "A one-dimensional numpy array is called a `vector` and it looks very much like a list, but with the additional restriction that **only one data type can be stored in it**. So why do we want to use numpy arrays instead of lists? Run the code blocks below to see the main reason numpy is used more for data analysis than lists. Annotate each line of code with a comment explaining what it does."
   ]
  },
  {
   "cell_type": "code",
   "execution_count": 4,
   "metadata": {
    "id": "AE89y16kx85Y"
   },
   "outputs": [],
   "source": [
    "my_numpy_array = np.arange(1, 1000000)\n",
    "my_list = list(range(1, 1000000))"
   ]
  },
  {
   "cell_type": "code",
   "execution_count": 5,
   "metadata": {
    "colab": {
     "base_uri": "https://localhost:8080/"
    },
    "id": "vh6XLiwfx85Y",
    "outputId": "0b2fba9f-616c-40d5-9611-b6ba771731e6"
   },
   "outputs": [
    {
     "name": "stdout",
     "output_type": "stream",
     "text": [
      "431 µs ± 93.4 µs per loop (mean ± std. dev. of 7 runs, 1000 loops each)\n"
     ]
    }
   ],
   "source": [
    "%timeit np.sum(my_numpy_array)"
   ]
  },
  {
   "cell_type": "code",
   "execution_count": 6,
   "metadata": {
    "colab": {
     "base_uri": "https://localhost:8080/"
    },
    "id": "6hQIaRcKx85Y",
    "outputId": "cbdb90aa-26ad-4bc4-afa7-302f5d553295"
   },
   "outputs": [
    {
     "name": "stdout",
     "output_type": "stream",
     "text": [
      "7.06 ms ± 69.7 µs per loop (mean ± std. dev. of 7 runs, 100 loops each)\n"
     ]
    }
   ],
   "source": [
    "%timeit sum(my_list)"
   ]
  },
  {
   "cell_type": "markdown",
   "metadata": {
    "id": "nWdKVsGwx85Z"
   },
   "source": [
    "In the above code, we used the \"magic command\" `%timeit` to time how long it takes to run a line of code. This command runs the code multiple times and gives you the average time it took to run. We used it to compare the time it takes to sum the elements of a list and the time it takes to sum the elements of a numpy array.\n",
    "\n",
    "Note that the `%timeit` command is specific to Jupyter notebooks. If you are running this code in a script, you would have to use the `timeit` module to time your code.\n",
    "\n",
    "We can see that using the numpy-specific `np.sum` function on a numpy array is much faster that using the base python sum function on a list. Each operation runs in microseconds instead of milliseconds."
   ]
  },
  {
   "cell_type": "code",
   "execution_count": null,
   "metadata": {
    "id": "9YoZf2wMx85Z",
    "outputId": "88afaf2e-0e68-4c1d-a134-2e51d127cbb1"
   },
   "outputs": [
    {
     "name": "stdout",
     "output_type": "stream",
     "text": [
      "Memory used by numpy array: 7.629386901855469 MB\n",
      "Memory used by list: 34.33230209350586 MB\n"
     ]
    }
   ],
   "source": [
    "import sys\n",
    "\n",
    "print(f\"Memory used by numpy array: {my_numpy_array.nbytes/1024/1024} MB\")\n",
    "list_size = (sys.getsizeof(my_list)+ sum(sys.getsizeof(item) for item in my_list)) / 1024 / 1024\n",
    "print(f\"Memory used by list: {list_size} MB\")"
   ]
  },
  {
   "cell_type": "markdown",
   "metadata": {
    "id": "U4j2yFrAx85Z"
   },
   "source": [
    "In the above code, we printed out the memory usage of the numpy array and the list. This reveals that the numpy array also takes up less memory to store the same amount of information as a list.\n",
    "\n",
    "In summary, numpy, which is made to do calculations, is an improvement over base python lists because it is faster and more memory efficient.\n",
    "\n",
    "If you want some more analysis, you can check out this [stackoverflow](https://stackoverflow.com/questions/10922231/pythons-sum-vs-numpys-numpy-sum) thread."
   ]
  },
  {
   "cell_type": "markdown",
   "metadata": {
    "id": "AAJyIfHYx85Z"
   },
   "source": [
    "## Numpy operations"
   ]
  },
  {
   "cell_type": "markdown",
   "metadata": {
    "id": "VoVIZn5vx85Z"
   },
   "source": [
    "### Broadcasting\n",
    "\n",
    "You can perform mathematical operations on arrays and they'll propagate to each element. This is called **broadcasting**. In order for the element-wise operation to work, the two objects you're operating with either have to have the same shape or one of them has to be a **scalar**, meaning a single number. Numpy also has functions that allow you to operate on the entire array, such as `np.sum()`, `np.mean()`, etc.\n",
    "\n",
    "Consider the following operation on two numpy arrays:\n"
   ]
  },
  {
   "cell_type": "code",
   "execution_count": 12,
   "metadata": {
    "colab": {
     "base_uri": "https://localhost:8080/"
    },
    "id": "UTR-tpjd5kc0",
    "outputId": "88b0cace-d68e-41b0-a4fa-bf5022c3c1f4"
   },
   "outputs": [
    {
     "name": "stdout",
     "output_type": "stream",
     "text": [
      "[-1 -2  2 -1  0]\n"
     ]
    }
   ],
   "source": [
    "predicted_array = np.array([1, 2, 3, 4, 5])\n",
    "expected_array = np.array([2, 4, 1, 5, 5])\n",
    "\n",
    "print(predicted_array - expected_array)"
   ]
  },
  {
   "cell_type": "markdown",
   "metadata": {
    "id": "oJ9SlVPH5qn2"
   },
   "source": [
    "By using the subtraction operator `-`, which we learned is designed to subtract one single number from one other single number, we have actually performed the operation automatically on each number in the arrays. The first number in `predicted` is `1` and the first number in `expected` is `2`, so the first number in the resulting output is `2 - 1` or `-1`. The second number in `predicted` is `2` and the second number in `expected` is `4`, so the second number in the resulting output is `2 - 4` or `-2`. And so on for the remaining numbers in the arrays.\n",
    "\n",
    "What if we tried to do this with normal Python lists?"
   ]
  },
  {
   "cell_type": "code",
   "execution_count": 10,
   "metadata": {
    "colab": {
     "base_uri": "https://localhost:8080/",
     "height": 180
    },
    "id": "a8TsHxji6dEe",
    "outputId": "51866bab-89ff-425c-e71c-3f41d2f2dcd8"
   },
   "outputs": [
    {
     "ename": "TypeError",
     "evalue": "unsupported operand type(s) for -: 'list' and 'list'",
     "output_type": "error",
     "traceback": [
      "\u001b[0;31m---------------------------------------------------------------------------\u001b[0m",
      "\u001b[0;31mTypeError\u001b[0m                                 Traceback (most recent call last)",
      "\u001b[0;32m<ipython-input-10-a158233514a6>\u001b[0m in \u001b[0;36m<cell line: 4>\u001b[0;34m()\u001b[0m\n\u001b[1;32m      2\u001b[0m \u001b[0mexpected_list\u001b[0m \u001b[0;34m=\u001b[0m \u001b[0;34m[\u001b[0m\u001b[0;36m2\u001b[0m\u001b[0;34m,\u001b[0m \u001b[0;36m4\u001b[0m\u001b[0;34m,\u001b[0m \u001b[0;36m1\u001b[0m\u001b[0;34m,\u001b[0m \u001b[0;36m5\u001b[0m\u001b[0;34m,\u001b[0m \u001b[0;36m5\u001b[0m\u001b[0;34m]\u001b[0m\u001b[0;34m\u001b[0m\u001b[0;34m\u001b[0m\u001b[0m\n\u001b[1;32m      3\u001b[0m \u001b[0;34m\u001b[0m\u001b[0m\n\u001b[0;32m----> 4\u001b[0;31m \u001b[0mprint\u001b[0m\u001b[0;34m(\u001b[0m\u001b[0mpredicted_list\u001b[0m \u001b[0;34m-\u001b[0m \u001b[0mexpected_list\u001b[0m\u001b[0;34m)\u001b[0m\u001b[0;34m\u001b[0m\u001b[0;34m\u001b[0m\u001b[0m\n\u001b[0m",
      "\u001b[0;31mTypeError\u001b[0m: unsupported operand type(s) for -: 'list' and 'list'"
     ]
    }
   ],
   "source": [
    "predicted_list = [1, 2, 3, 4, 5]\n",
    "expected_list = [2, 4, 1, 5, 5]\n",
    "\n",
    "print(predicted_list - expected_list)"
   ]
  },
  {
   "cell_type": "markdown",
   "metadata": {
    "id": "v-UcxEkV6qIM"
   },
   "source": [
    "An error, stating that we can't use the subtraction operator `-` on lists. To achieve the same result as the numpy arrays, we'd have to loop over the lists by index, a much slower process that requires us to write more code.\n",
    "\n",
    "If provided a scalar, instead of a second array, the arithmetic operation will be performed on each element in the first array using the same number on each one:"
   ]
  },
  {
   "cell_type": "code",
   "execution_count": 13,
   "metadata": {
    "colab": {
     "base_uri": "https://localhost:8080/"
    },
    "id": "ozmyS8Oz7J_j",
    "outputId": "c0d71af8-ade2-4f5d-dffa-84bbb89ba28d"
   },
   "outputs": [
    {
     "name": "stdout",
     "output_type": "stream",
     "text": [
      "[-2 -1  0  1  2]\n"
     ]
    }
   ],
   "source": [
    "single_number = 3\n",
    "print(predicted_array - 3)"
   ]
  },
  {
   "cell_type": "markdown",
   "metadata": {
    "id": "WIYB6Q5v7SKu"
   },
   "source": [
    "Here, each number in `predicted_array` has `3` subtracted from it.\n",
    "\n",
    "Again, this is something we'd have to use a loop to do with regular lists. This is a huge advantage of numpy arrays over native Python data structures like lists.\n",
    "\n",
    "Below is a practical example that combines the array/array broadcasting and array/scalar broadcasting. Here, we calculate the mean squared error of two 1D arrays using the formula $\\frac{1}{n}\\sum_{i=1}^{n}(predicted_i - expected_i)^2$."
   ]
  },
  {
   "cell_type": "code",
   "execution_count": 7,
   "metadata": {
    "colab": {
     "base_uri": "https://localhost:8080/"
    },
    "id": "OKcRY8Kgx85a",
    "outputId": "be6ea60b-073a-4c62-850d-83ac59611cd1"
   },
   "outputs": [
    {
     "name": "stdout",
     "output_type": "stream",
     "text": [
      "2.0\n"
     ]
    }
   ],
   "source": [
    "predicted = np.array([1, 2, 3, 4, 5])\n",
    "expected = np.array([2, 4, 1, 5, 5])\n",
    "mse = (1/len(predicted)) * np.sum(np.square(predicted - expected))\n",
    "print(mse)"
   ]
  },
  {
   "cell_type": "markdown",
   "metadata": {
    "id": "QFixoQ6cx85a"
   },
   "source": [
    "Breaking down the code, you can see what is produced at each step"
   ]
  },
  {
   "cell_type": "code",
   "execution_count": 8,
   "metadata": {
    "colab": {
     "base_uri": "https://localhost:8080/"
    },
    "id": "GrYESxaZx85a",
    "outputId": "49c8db6e-4625-440a-a523-1c589860f015"
   },
   "outputs": [
    {
     "name": "stdout",
     "output_type": "stream",
     "text": [
      "[-1 -2  2 -1  0]\n",
      "[1 4 4 1 0]\n",
      "10\n",
      "0.2\n"
     ]
    }
   ],
   "source": [
    "print(predicted - expected)\n",
    "print(np.square(predicted - expected))\n",
    "print(np.sum(np.square(predicted - expected)))\n",
    "print(1/len(predicted))"
   ]
  },
  {
   "cell_type": "markdown",
   "metadata": {
    "id": "16zb0JgT73ZN"
   },
   "source": [
    "And of course 0.2 * 10 is 2.0, the same result as the single expression above.."
   ]
  },
  {
   "cell_type": "markdown",
   "metadata": {
    "id": "rJedjc8ex85b"
   },
   "source": [
    "### Slicing and indexing numpy arrays\n",
    "\n",
    "**Slicing** arrays is a powerful tool for **extracting subsets of data**. The syntax for slicing is `array[start:stop:step]`, similar to what we learned about slicing strings and lists. If you don't specify a start, it defaults to index 0 (the first element of the array), if you don't specify a stop, it defaults to the end of the array, and if you don't specify a step, it defaults to 1. When you specify a start and stop, the range is inclusive of the start and exclusive of the stop. Usually, you don't need to specify the step, so you can omit the second colon.\n",
    "\n",
    "You can also use negative indices to count from the end of the array. When you use negative indices, inclusive of the start and exclusive of the stop still applies."
   ]
  },
  {
   "cell_type": "markdown",
   "metadata": {
    "id": "4d9Kkgirx85b"
   },
   "source": [
    "Here are some examples of slicing one-dimensional and two-dimensional arrays. See if you can predict the output before running the code. (Do these on the board)"
   ]
  },
  {
   "cell_type": "code",
   "execution_count": null,
   "metadata": {
    "id": "NpkALqifx85c",
    "outputId": "40048bee-98a7-4e2b-aab7-050acc60a329"
   },
   "outputs": [
    {
     "name": "stdout",
     "output_type": "stream",
     "text": [
      "[1 2]\n",
      "[2 3]\n",
      "[1 2 3 4 5]\n",
      "[3 4 5]\n",
      "[5]\n",
      "[1 2 3 4]\n",
      "[3 4]\n",
      "[1 3 5]\n",
      "[5 4 3 2 1]\n"
     ]
    }
   ],
   "source": [
    "# Examples of slicing one-dimensional arrays\n",
    "arr1 = np.array([1, 2, 3, 4, 5])\n",
    "print(arr1[0:2])\n",
    "print(arr1[1:3])\n",
    "print(arr1[:])\n",
    "print(arr1[2:])\n",
    "print(arr1[-1:])\n",
    "print(arr1[:-1])\n",
    "print(arr1[-3:-1])\n",
    "print(arr1[::2])\n",
    "print(arr1[::-1])"
   ]
  },
  {
   "cell_type": "markdown",
   "metadata": {
    "id": "179Mqj2P8aSh"
   },
   "source": [
    "#### Slicing multi-dimensional arrays\n",
    "\n",
    "Multi-dimensional numpy arrays are sliced and indexed with the same syntax as single dimensional arrays (vectors), but you need to separate the dimensions with a comma. For example, `array[i, j]` will return the element at row `i` and column `j`. In two dimensions, the first axis is the rows and the second axis is the columns. So now the syntax is `array[row_start:row_stop:row_step, col_start:col_stop:col_step]`."
   ]
  },
  {
   "cell_type": "markdown",
   "metadata": {
    "id": "DYTCsmNhx85c"
   },
   "source": [
    "Let's practice slicing the following array of 25 elements reshaped into a 5x5 array:"
   ]
  },
  {
   "cell_type": "code",
   "execution_count": null,
   "metadata": {
    "id": "UsdWTp9Vx85c",
    "outputId": "0b8ede8c-0445-40bf-ba4b-d5d86667c0a7"
   },
   "outputs": [
    {
     "name": "stdout",
     "output_type": "stream",
     "text": [
      "[[ 1  2  3  4  5]\n",
      " [ 6  7  8  9 10]\n",
      " [11 12 13 14 15]\n",
      " [16 17 18 19 20]\n",
      " [21 22 23 24 25]]\n"
     ]
    }
   ],
   "source": [
    "arr = np.array([\n",
    "    [1, 2, 3, 4, 5],\n",
    "    [6, 7, 8, 9, 10],\n",
    "    [11, 12, 13, 14, 15],\n",
    "    [16, 17, 18, 19, 20],\n",
    "    [21, 22, 23, 24, 25]\n",
    "])\n",
    "print(arr)"
   ]
  },
  {
   "cell_type": "markdown",
   "metadata": {
    "id": "uEltaI5zx85d"
   },
   "source": [
    ">**Exercise**: Perform the following operations on the `arr` array:\n",
    ">\n",
    "> 1. Extract the first row\n",
    "> 2. Extract the last column\n",
    "> 3. Extract the first three rows\n",
    "> 4. Extract the central 3x3 square\n",
    "> 5. Extract the last column using positive indexing, and then do it again using negative indexing\n",
    "> 6. Extract every other column (and all rows)\n",
    "> 7. Extract every other element of the first row. You should get [1, 3, 5]\n",
    "> 8. Extract the last row and reverse it. You should get [25, 24, 23, 22, 21]"
   ]
  },
  {
   "cell_type": "code",
   "execution_count": null,
   "metadata": {
    "id": "RE02quNFx85d",
    "outputId": "dff568be-ed1d-4db5-f591-a5f6e8f48167"
   },
   "outputs": [
    {
     "name": "stdout",
     "output_type": "stream",
     "text": [
      "[1 2 3 4 5]\n"
     ]
    }
   ],
   "source": [
    "# 1. Extract the first row of the array\n",
    "# Your code here\n",
    "print(arr[0,:])"
   ]
  },
  {
   "cell_type": "code",
   "execution_count": null,
   "metadata": {
    "id": "3GCyOdw5x85d",
    "outputId": "bb117ee2-366d-482a-ab76-09cc954aaf1c"
   },
   "outputs": [
    {
     "name": "stdout",
     "output_type": "stream",
     "text": [
      "[ 5 10 15 20 25]\n"
     ]
    }
   ],
   "source": [
    "# 2. Extract the last column\n",
    "# Your code here\n",
    "print(arr[:,-1])"
   ]
  },
  {
   "cell_type": "code",
   "execution_count": null,
   "metadata": {
    "id": "Vn-j4lmNx85d",
    "outputId": "72bc106e-20fd-444c-fedd-3d3caac9ab16"
   },
   "outputs": [
    {
     "name": "stdout",
     "output_type": "stream",
     "text": [
      "[[ 1  2  3  4  5]\n",
      " [ 6  7  8  9 10]\n",
      " [11 12 13 14 15]]\n"
     ]
    }
   ],
   "source": [
    "# 3. Extract the first three rows\n",
    "# Your code here\n",
    "print(arr[:3,:])"
   ]
  },
  {
   "cell_type": "code",
   "execution_count": null,
   "metadata": {
    "id": "QV6APwyax85e",
    "outputId": "3fa790a5-6a8e-4fda-8329-fcad055f91ca"
   },
   "outputs": [
    {
     "name": "stdout",
     "output_type": "stream",
     "text": [
      "[[ 7  8  9]\n",
      " [12 13 14]\n",
      " [17 18 19]]\n"
     ]
    }
   ],
   "source": [
    "# 4. Extract the central 3x3 square\n",
    "# Your code here\n",
    "print(arr[1:4,1:4])"
   ]
  },
  {
   "cell_type": "code",
   "execution_count": null,
   "metadata": {
    "id": "zy9-vKMBx85e",
    "outputId": "3ffff919-3704-43a7-da50-911e7481054a"
   },
   "outputs": [
    {
     "name": "stdout",
     "output_type": "stream",
     "text": [
      "[ 5 10 15 20 25]\n",
      "[ 5 10 15 20 25]\n"
     ]
    }
   ],
   "source": [
    "# 5. Extract the last column using positive indexing, then do it again using negative indexing\n",
    "# Your code here\n",
    "print(arr[:,4])\n",
    "print(arr[:,-1])"
   ]
  },
  {
   "cell_type": "code",
   "execution_count": null,
   "metadata": {
    "id": "9oX6IEoYx85e",
    "outputId": "b24763e2-e96a-4f9f-abc5-17bec973e475"
   },
   "outputs": [
    {
     "name": "stdout",
     "output_type": "stream",
     "text": [
      "[[ 1  3  5]\n",
      " [ 6  8 10]\n",
      " [11 13 15]\n",
      " [16 18 20]\n",
      " [21 23 25]]\n"
     ]
    }
   ],
   "source": [
    "# 6. Extract every other column (and all rows)\n",
    "# Your code here\n",
    "print(arr[:,::2])"
   ]
  },
  {
   "cell_type": "code",
   "execution_count": null,
   "metadata": {
    "id": "0HCN9E9Nx85f",
    "outputId": "ea577832-a680-4ea1-975d-0169979ba724"
   },
   "outputs": [
    {
     "name": "stdout",
     "output_type": "stream",
     "text": [
      "[1 3 5]\n"
     ]
    }
   ],
   "source": [
    "# 7. Extract every other element of the first row. You should get [1, 3, 5]\n",
    "# Your code here\n",
    "print(arr[0,::2])"
   ]
  },
  {
   "cell_type": "code",
   "execution_count": null,
   "metadata": {
    "id": "qaKYeq7nx85f",
    "outputId": "c88ce98b-c0c2-496f-d6f5-bc1f273e02bd"
   },
   "outputs": [
    {
     "name": "stdout",
     "output_type": "stream",
     "text": [
      "[25 24 23 22 21]\n"
     ]
    }
   ],
   "source": [
    "# 8. Extract the last row and reverse it. You should get [25, 24, 23, 22, 21]\n",
    "# Your code here\n",
    "print(arr[-1,::-1])"
   ]
  },
  {
   "cell_type": "markdown",
   "metadata": {
    "id": "oqYKpWjdx85f"
   },
   "source": [
    ">**Bonus Exercises**: Here are some more challenging slicing exercises:\n",
    ">\n",
    "> B1. Extract every other column and every other row, starting with the number 1. You should get:\n",
    "> ```\n",
    "> [[ 1  3  5]\n",
    ">  [11 13 15]\n",
    ">  [21 23 25]]\n",
    "> ```\n",
    "> B2. Extract a checkerboard pattern starting from the number 2. You should get:\n",
    "> ```\n",
    "> [[ 2  4]\n",
    ">  [12 14]\n",
    ">  [22 24]]\n",
    "> ```"
   ]
  },
  {
   "cell_type": "code",
   "execution_count": null,
   "metadata": {
    "id": "HzoAgkgbx85g",
    "outputId": "7cf9101f-200b-4f5c-cf2b-7542ec2918ec"
   },
   "outputs": [
    {
     "name": "stdout",
     "output_type": "stream",
     "text": [
      "[[ 1  3  5]\n",
      " [11 13 15]\n",
      " [21 23 25]]\n"
     ]
    }
   ],
   "source": [
    "# B1. Extract every other column and every other row, starting with the number 1.\n",
    "# Your code here\n",
    "print(arr[::2,::2])"
   ]
  },
  {
   "cell_type": "code",
   "execution_count": null,
   "metadata": {
    "id": "pnTjmNE9x85g",
    "outputId": "46a24cc9-f38c-4bf3-dd92-6e5dab3678be"
   },
   "outputs": [
    {
     "name": "stdout",
     "output_type": "stream",
     "text": [
      "[[ 7  9]\n",
      " [17 19]]\n"
     ]
    }
   ],
   "source": [
    "# B2. Extract a checkerboard pattern starting from the number 2.\n",
    "# Your code here\n",
    "print(arr[1::2,1::2])"
   ]
  },
  {
   "cell_type": "markdown",
   "metadata": {
    "id": "zqAgqTlcx85h"
   },
   "source": [
    "**IMPORTANT**: Slicing arrays creates a **view** of the original array, not a copy. This is known as \"passing by reference\". That means if you use a slice of an array and modify it, the original array will also be modified."
   ]
  },
  {
   "cell_type": "code",
   "execution_count": null,
   "metadata": {
    "id": "CCOFlL0qx85h",
    "outputId": "1a87419e-24e3-44da-d9b1-1cf8a46c3f41"
   },
   "outputs": [
    {
     "name": "stdout",
     "output_type": "stream",
     "text": [
      "This is the original array\n",
      "[[ 1  2  3  4  5]\n",
      " [ 6  7  8  9 10]\n",
      " [11 12 13 14 15]\n",
      " [16 17 18 19 20]\n",
      " [21 22 23 24 25]]\n",
      "This is my slice of the array\n",
      "[[ 7  8  9]\n",
      " [12 13 14]\n",
      " [17 18 19]]\n",
      "I'm going to change the slice\n",
      "[[999 999 999]\n",
      " [999 999 999]\n",
      " [999 999 999]]\n",
      "This is the original array\n",
      "[[  1   2   3   4   5]\n",
      " [  6 999 999 999  10]\n",
      " [ 11 999 999 999  15]\n",
      " [ 16 999 999 999  20]\n",
      " [ 21  22  23  24  25]]\n"
     ]
    }
   ],
   "source": [
    "arr = np.array([\n",
    "    [1, 2, 3, 4, 5],\n",
    "    [6, 7, 8, 9, 10],\n",
    "    [11, 12, 13, 14, 15],\n",
    "    [16, 17, 18, 19, 20],\n",
    "    [21, 22, 23, 24, 25]\n",
    "])\n",
    "\n",
    "print(\"This is the original array\")\n",
    "print(arr)\n",
    "print(\"This is my slice of the array\")\n",
    "slice = arr[1:4,1:4]\n",
    "print(slice)\n",
    "print(\"I'm going to change the slice\")\n",
    "slice[:,:] = 999\n",
    "print(slice)\n",
    "print(\"This is the original array\")\n",
    "print(arr)\n"
   ]
  },
  {
   "cell_type": "markdown",
   "metadata": {
    "id": "o8tnUI1zx85i"
   },
   "source": [
    "When you do a calculation on a slice of an array, the result will be a new array."
   ]
  },
  {
   "cell_type": "code",
   "execution_count": null,
   "metadata": {
    "id": "tde4nfdax85i",
    "outputId": "5dd12637-503d-4c1c-9e65-67719d3660a6"
   },
   "outputs": [
    {
     "name": "stdout",
     "output_type": "stream",
     "text": [
      "This is the original array\n",
      "[[ 1  2  3  4  5]\n",
      " [ 6  7  8  9 10]\n",
      " [11 12 13 14 15]\n",
      " [16 17 18 19 20]\n",
      " [21 22 23 24 25]]\n",
      "This is my slice of the array\n",
      "[[ 7  8  9]\n",
      " [12 13 14]\n",
      " [17 18 19]]\n",
      "add 100 to each element of the slice\n",
      "[[107 108 109]\n",
      " [112 113 114]\n",
      " [117 118 119]]\n",
      "This is the original array\n",
      "[[ 1  2  3  4  5]\n",
      " [ 6  7  8  9 10]\n",
      " [11 12 13 14 15]\n",
      " [16 17 18 19 20]\n",
      " [21 22 23 24 25]]\n"
     ]
    }
   ],
   "source": [
    "arr = np.array([\n",
    "    [1, 2, 3, 4, 5],\n",
    "    [6, 7, 8, 9, 10],\n",
    "    [11, 12, 13, 14, 15],\n",
    "    [16, 17, 18, 19, 20],\n",
    "    [21, 22, 23, 24, 25]\n",
    "])\n",
    "print(\"This is the original array\")\n",
    "print(arr)\n",
    "print(\"This is my slice of the array\")\n",
    "slice = arr[1:4,1:4]\n",
    "print(slice)\n",
    "print(\"add 100 to each element of the slice\")\n",
    "slice = slice + 100\n",
    "print(slice)\n",
    "print(\"This is the original array\")\n",
    "print(arr)"
   ]
  },
  {
   "cell_type": "markdown",
   "metadata": {
    "id": "CTpS5ob-x85i"
   },
   "source": [
    "### Using boolean masks to filter arrays\n",
    "\n",
    "You can use boolean expresssions to **filter** arrays. Here's an example:"
   ]
  },
  {
   "cell_type": "code",
   "execution_count": 14,
   "metadata": {
    "colab": {
     "base_uri": "https://localhost:8080/"
    },
    "id": "TX_-LREAx85j",
    "outputId": "4d16bdbe-61d4-4996-c191-6b9a7aa3d65c"
   },
   "outputs": [
    {
     "data": {
      "text/plain": [
       "array([ 2,  4,  6,  8, 10, 12, 14, 16, 18, 20, 22, 24])"
      ]
     },
     "execution_count": 14,
     "metadata": {},
     "output_type": "execute_result"
    }
   ],
   "source": [
    "# Getting the even numbers from the array\n",
    "arr = np.array([\n",
    "    [1, 2, 3, 4, 5],\n",
    "    [6, 7, 8, 9, 10],\n",
    "    [11, 12, 13, 14, 15],\n",
    "    [16, 17, 18, 19, 20],\n",
    "    [21, 22, 23, 24, 25]\n",
    "])\n",
    "\n",
    "arr[arr % 2 == 0]"
   ]
  },
  {
   "cell_type": "markdown",
   "metadata": {
    "id": "0NDuuEoDx85j"
   },
   "source": [
    "Under the hood, numpy creates a boolean mask that is the same shape as the array. The mask is `True` where the condition is met and `False` where it is not. You can then use the mask to filter the array."
   ]
  },
  {
   "cell_type": "code",
   "execution_count": null,
   "metadata": {
    "id": "vh5HLOj1x85j",
    "outputId": "051682ee-a2de-4078-bb16-922c68db5972"
   },
   "outputs": [
    {
     "name": "stdout",
     "output_type": "stream",
     "text": [
      "[[False  True False  True False]\n",
      " [ True False  True False  True]\n",
      " [False  True False  True False]\n",
      " [ True False  True False  True]\n",
      " [False  True False  True False]]\n",
      "[[ 1  2  3  4  5]\n",
      " [ 6  7  8  9 10]\n",
      " [11 12 13 14 15]\n",
      " [16 17 18 19 20]\n",
      " [21 22 23 24 25]]\n"
     ]
    }
   ],
   "source": [
    "print(arr % 2 == 0)\n",
    "print(arr)"
   ]
  },
  {
   "cell_type": "markdown",
   "metadata": {
    "id": "ygKKUojex85k"
   },
   "source": [
    "When using boolean masks in this way, it's important to note that the original shape of the array is not preserved. So this is useful if you want to filter out elements and do something with that collection of elements, but not if you want to replace certain elements with others.\n",
    "\n",
    "If you want to replace elements in an array based on a condition, you can use the `np.where()` function. This function takes three arguments: the condition, the value to use if the condition is `True`, and the value to use if the condition is `False`.\n",
    "\n",
    "In the code block below, we will replace all of the odd numbers in the array with the number 0."
   ]
  },
  {
   "cell_type": "code",
   "execution_count": null,
   "metadata": {
    "id": "THoijaWIx85k",
    "outputId": "4ee02316-13bf-41e7-ec57-7f42714ccd08"
   },
   "outputs": [
    {
     "data": {
      "text/plain": [
       "array([[ 0,  2,  0,  4,  0],\n",
       "       [ 6,  0,  8,  0, 10],\n",
       "       [ 0, 12,  0, 14,  0],\n",
       "       [16,  0, 18,  0, 20],\n",
       "       [ 0, 22,  0, 24,  0]])"
      ]
     },
     "execution_count": 55,
     "metadata": {},
     "output_type": "execute_result"
    }
   ],
   "source": [
    "np.where(arr % 2 == 0, arr, 0)"
   ]
  },
  {
   "cell_type": "markdown",
   "metadata": {
    "id": "K-2VxwrLx85k"
   },
   "source": [
    ">**Exercise**: Perform the following operations on the `arr` array using boolean masks:\n",
    ">\n",
    "> 1. Extract all values less than the mean\n",
    "> 2. Trim the array by removing the maximum and mininum value\n",
    "> 3. Replace the maximum and minimum values with the mean of the entire array"
   ]
  },
  {
   "cell_type": "code",
   "execution_count": null,
   "metadata": {
    "id": "Y9puCttLx85l",
    "outputId": "41e7e07c-3220-45f5-9dc3-fa6b53f91e78"
   },
   "outputs": [
    {
     "data": {
      "text/plain": [
       "array([ 1,  2,  3,  4,  5,  6,  7,  8,  9, 10, 11, 12])"
      ]
     },
     "execution_count": 56,
     "metadata": {},
     "output_type": "execute_result"
    }
   ],
   "source": [
    "# Extract all values less than the mean\n",
    "arr = np.array([\n",
    "    [1, 2, 3, 4, 5],\n",
    "    [6, 7, 8, 9, 10],\n",
    "    [11, 12, 13, 14, 15],\n",
    "    [16, 17, 18, 19, 20],\n",
    "    [21, 22, 23, 24, 25]\n",
    "])\n",
    "\n",
    "# Your code here\n",
    "arr[arr < np.mean(arr)]"
   ]
  },
  {
   "cell_type": "code",
   "execution_count": null,
   "metadata": {
    "id": "4iS36rKvx85l",
    "outputId": "df227394-c240-481e-bfe4-991bfc1c4ee5"
   },
   "outputs": [
    {
     "data": {
      "text/plain": [
       "array([ 2,  3,  4,  5,  6,  7,  8,  9, 10, 11, 12, 13, 14, 15, 16, 17, 18,\n",
       "       19, 20, 21, 22, 23, 24])"
      ]
     },
     "execution_count": 43,
     "metadata": {},
     "output_type": "execute_result"
    }
   ],
   "source": [
    "# Trim the array by removing the maximum and mininum value. Use np.min() and np.max() to find the min and max values\n",
    "# Hint: it might be easiest to explicitly create the boolean mask for this\n",
    "# The operator & is the element-wise AND operator, it returns True if both elements in an array are True\n",
    "# Your code here\n",
    "\n",
    "not_max = arr != np.max(arr)\n",
    "not_min = arr != np.min(arr)\n",
    "mask = not_max & not_min\n",
    "\n",
    "# could also do: mask = (arr != np.max(arr)) & (arr != np.min(arr))\n",
    "# could also do: mask = np.logical_and(arr != np.max(arr), arr != np.min(arr))\n",
    "# could also do: mask = np.all([arr != np.max(arr), arr != np.min(arr)], axis=0)\n",
    "\n",
    "arr[mask]\n"
   ]
  },
  {
   "cell_type": "markdown",
   "metadata": {
    "id": "JX2uOaBxx85l"
   },
   "source": [
    ">Compare your solution above with a neighbor. Did they do it differently? Find at least one person who did it differently."
   ]
  },
  {
   "cell_type": "code",
   "execution_count": null,
   "metadata": {
    "id": "ejktmz8ix85m",
    "outputId": "79f6afac-77e8-4c35-f22a-d6216b5a5a24"
   },
   "outputs": [
    {
     "data": {
      "text/plain": [
       "array([[13.,  2.,  3.,  4.,  5.],\n",
       "       [ 6.,  7.,  8.,  9., 10.],\n",
       "       [11., 12., 13., 14., 15.],\n",
       "       [16., 17., 18., 19., 20.],\n",
       "       [21., 22., 23., 24., 13.]])"
      ]
     },
     "execution_count": 57,
     "metadata": {},
     "output_type": "execute_result"
    }
   ],
   "source": [
    "# Replace the maximum and minimum values with the mean of the entire array\n",
    "# Hint: you can use the mask you created above and np.where()\n",
    "\n",
    "np.where(mask, arr, np.mean(arr))"
   ]
  },
  {
   "cell_type": "markdown",
   "metadata": {
    "id": "lYRVuq6Bx85n"
   },
   "source": [
    "## Numpy math functions and additional capabilities"
   ]
  },
  {
   "cell_type": "markdown",
   "metadata": {
    "id": "Uhnp857Ex85n"
   },
   "source": [
    "The numpy library isn't just about arrays. It also has a lot of **mathematical functions** that can be applied to arrays. Some of these functions may seem like duplicates of base python functions, but they are optimized for operating on multi-dimensional arrays whereas the base python functions are not. Other functions are unique to numpy and offer more advanced mathematical capabilities.\n",
    "\n",
    "You can find a list of all mathematical functions in the numpy library [here](https://numpy.org/doc/stable/reference/routines.math.html)."
   ]
  },
  {
   "cell_type": "code",
   "execution_count": null,
   "metadata": {
    "id": "foF-jCLpx85n"
   },
   "outputs": [],
   "source": [
    "arr = np.array([\n",
    "    [1, 2, 3, 4, 5],\n",
    "    [6, 7, 8, 9, 10],\n",
    "    [11, 12, 13, 14, 15],\n",
    "    [16, 17, 18, 19, 20],\n",
    "    [21, 22, 23, 24, 25]\n",
    "])"
   ]
  },
  {
   "cell_type": "code",
   "execution_count": null,
   "metadata": {
    "id": "geHMsJKVx85n",
    "outputId": "91681dcd-eefd-45c7-8c9b-858bff69da2e"
   },
   "outputs": [
    {
     "data": {
      "text/plain": [
       "array([11., 12., 13., 14., 15.])"
      ]
     },
     "execution_count": 62,
     "metadata": {},
     "output_type": "execute_result"
    }
   ],
   "source": [
    "# Getting the mean of the array along the columns\n",
    "np.mean(arr, axis=0)"
   ]
  },
  {
   "cell_type": "code",
   "execution_count": null,
   "metadata": {
    "id": "neLQvczGx85o",
    "outputId": "0212e712-ab2f-40c2-d25d-1cf6de3e09c2"
   },
   "outputs": [
    {
     "data": {
      "text/plain": [
       "array([ 3.,  8., 13., 18., 23.])"
      ]
     },
     "execution_count": 63,
     "metadata": {},
     "output_type": "execute_result"
    }
   ],
   "source": [
    "# getting the mean along the rows\n",
    "np.mean(arr, axis=1)"
   ]
  },
  {
   "cell_type": "code",
   "execution_count": null,
   "metadata": {
    "id": "0xBvvpGcx85o",
    "outputId": "de1ba70c-b7ce-46f8-e1d6-0e390858e9fb"
   },
   "outputs": [
    {
     "data": {
      "text/plain": [
       "array([7.07106781, 7.07106781, 7.07106781, 7.07106781, 7.07106781])"
      ]
     },
     "execution_count": 64,
     "metadata": {},
     "output_type": "execute_result"
    }
   ],
   "source": [
    "# getting the standard deviation along the columns\n",
    "np.std(arr, axis=0)"
   ]
  },
  {
   "cell_type": "code",
   "execution_count": null,
   "metadata": {
    "id": "2GMnf5ELx85p",
    "outputId": "2cacca96-cca3-46a6-c46e-2f1467ce794f"
   },
   "outputs": [
    {
     "data": {
      "text/plain": [
       "(array([5, 5, 5, 5, 5]), array([ 1. ,  5.8, 10.6, 15.4, 20.2, 25. ]))"
      ]
     },
     "execution_count": 65,
     "metadata": {},
     "output_type": "execute_result"
    }
   ],
   "source": [
    "# getting histogram of the array\n",
    "np.histogram(arr, bins=5, range=(1, 25))\n",
    "# if you don't want to hardcode the range, you can use the min and max functions\n",
    "np.histogram(arr, bins=5, range=(np.min(arr), np.max(arr)))"
   ]
  },
  {
   "cell_type": "markdown",
   "metadata": {
    "id": "6h2VmA0gx85p"
   },
   "source": [
    "## Reading and writing data with numpy\n",
    "\n",
    "Typically, we're not going to be able to manually enter data into our code's data structures (*e.g.* `my_data = [2, 5, 2, 7, 4]). This would be tedious and time-consuming, given the size of our datasets. This would also make our code useful only for a single dataset at a time, which defeats one of the main purposes of programming!\n",
    "\n",
    "Instead, we will have data stored as plain text files on our computer or hosted somewhere on the web. These files may be formatted in different ways (*e.g.* CSV files, tab-delimited files, compressed genome sequence files). While there are native Python functions to read plain text files, it is up to us as programmers to write code to accommodate the multitude of formats.\n",
    "\n",
    "Numpy has two main **functions** for loading in text-based data such as CSVs: `np.loadtxt()` and `np.genfromtxt()`. The main difference between the two is that `np.genfromtxt()` can handle missing data, while `np.loadtxt()` cannot. So, to play it safe, it's usually best to use `np.genfromtxt()`.\n",
    "\n",
    "Remember that numpy arrays can only contain one type of data, so if your file contains headers or mixed data types, you'll need to use additional options to tell numpy how to handle them."
   ]
  },
  {
   "cell_type": "markdown",
   "metadata": {
    "id": "N3ob6Ckfx85q"
   },
   "source": [
    "We will now import a numerical dataset of red wine quality ratings and various chemical properties. It has a header row and is separated by semi-colons. Here's a preview of the data:\n",
    "\n",
    "```\n",
    "fixed acidity;volatile acidity;citric acid;residual sugar;chlorides;free sulfur dioxide;total sulfur dioxide;density;pH;sulphates;alcohol;quality\n",
    "7.4;0.7;0;1.9;0.076;11;34;0.9978;3.51;0.56;9.4;5\n",
    "7.8;0.88;0;2.6;0.098;25;67;0.9968;3.2;0.68;9.8;5\n",
    "```"
   ]
  },
  {
   "cell_type": "code",
   "execution_count": null,
   "metadata": {
    "id": "ewX6sokyx85q",
    "outputId": "1c3e0fae-e348-4f0e-be75-4006330749e3",
    "scrolled": true
   },
   "outputs": [
    {
     "name": "stdout",
     "output_type": "stream",
     "text": [
      "['fixed acidity' 'volatile acidity' 'citric acid' 'residual sugar'\n",
      " 'chlorides' 'free sulfur dioxide' 'total sulfur dioxide' 'density' 'pH'\n",
      " 'sulphates' 'alcohol' 'quality']\n",
      "[[ 7.4    0.7    0.    ...  0.56   9.4    5.   ]\n",
      " [ 7.8    0.88   0.    ...  0.68   9.8    5.   ]\n",
      " [ 7.8    0.76   0.04  ...  0.65   9.8    5.   ]\n",
      " ...\n",
      " [ 6.3    0.51   0.13  ...  0.75  11.     6.   ]\n",
      " [ 5.9    0.645  0.12  ...  0.71  10.2    5.   ]\n",
      " [ 6.     0.31   0.47  ...  0.66  11.     6.   ]]\n",
      "(1599, 12)\n"
     ]
    }
   ],
   "source": [
    "# import using genfromtxt and skip the header\n",
    "wines_array = np.genfromtxt('https://informatics.fas.harvard.edu/resources/Workshops/2024-Fall/Python/data/winequality-red.csv', delimiter=';', skip_header = 1)\n",
    "# import the header separately\n",
    "# we specify the dtype as str so that numpy doesn't try to convert the header to a number\n",
    "wines_header = np.genfromtxt('https://informatics.fas.harvard.edu/resources/Workshops/2024-Fall/Python/data/winequality-red.csv', delimiter=';', max_rows=1, dtype=str)\n",
    "print(wines_header)\n",
    "print(wines_array)\n",
    "print(wines_array.shape)"
   ]
  },
  {
   "cell_type": "markdown",
   "metadata": {
    "id": "QTdHaZA2_yd2"
   },
   "source": [
    "If all of that looks confusing, just remember that `np.genfromtxt` is a **function**, which is just another block of code somewhere on the computer. Here, we've imported this function from the numpy library, which we've called `np`. Functions take **arguments**, which we learn about from **reading documentation**. Functions **return** values.\n",
    "\n",
    "In this case, the function takes arguments like (importantly) the path to the file to read and other information about how to read the file. The function then reads the file in the background and returns a numpy array, which we've just learned how to work with."
   ]
  },
  {
   "cell_type": "markdown",
   "metadata": {
    "id": "kKRlC9L4x85r"
   },
   "source": [
    ">**Exercise**: Use `max` or `np.max` to find the max quality rating in the dataset and extract the rows with that rating. Save it to a new array called `best_wines`."
   ]
  },
  {
   "cell_type": "code",
   "execution_count": null,
   "metadata": {
    "id": "1R2-hPP9x85r",
    "outputId": "c308a8e1-4500-4c4e-a937-13abc3cc214d",
    "scrolled": true
   },
   "outputs": [
    {
     "name": "stdout",
     "output_type": "stream",
     "text": [
      "(18, 12)\n"
     ]
    }
   ],
   "source": [
    "# your code here\n",
    "\n",
    "rating = np.max(wines_array[:,11])\n",
    "best_wines = wines_array[wines_array[:,11] == rating]\n",
    "print(best_wines.shape)"
   ]
  },
  {
   "cell_type": "code",
   "execution_count": null,
   "metadata": {
    "id": "KGYVcMNqx85r",
    "outputId": "3112d2b3-5ad3-47d5-d83c-b5ac8debf40e"
   },
   "outputs": [
    {
     "name": "stdout",
     "output_type": "stream",
     "text": [
      "[[7.9000e+00 3.5000e-01 4.6000e-01 3.6000e+00 7.8000e-02 1.5000e+01\n",
      "  3.7000e+01 9.9730e-01 3.3500e+00 8.6000e-01 1.2800e+01 8.0000e+00]\n",
      " [1.0300e+01 3.2000e-01 4.5000e-01 6.4000e+00 7.3000e-02 5.0000e+00\n",
      "  1.3000e+01 9.9760e-01 3.2300e+00 8.2000e-01 1.2600e+01 8.0000e+00]\n",
      " [5.6000e+00 8.5000e-01 5.0000e-02 1.4000e+00 4.5000e-02 1.2000e+01\n",
      "  8.8000e+01 9.9240e-01 3.5600e+00 8.2000e-01 1.2900e+01 8.0000e+00]\n",
      " [1.2600e+01 3.1000e-01 7.2000e-01 2.2000e+00 7.2000e-02 6.0000e+00\n",
      "  2.9000e+01 9.9870e-01 2.8800e+00 8.2000e-01 9.8000e+00 8.0000e+00]\n",
      " [1.1300e+01 6.2000e-01 6.7000e-01 5.2000e+00 8.6000e-02 6.0000e+00\n",
      "  1.9000e+01 9.9880e-01 3.2200e+00 6.9000e-01 1.3400e+01 8.0000e+00]\n",
      " [9.4000e+00 3.0000e-01 5.6000e-01 2.8000e+00 8.0000e-02 6.0000e+00\n",
      "  1.7000e+01 9.9640e-01 3.1500e+00 9.2000e-01 1.1700e+01 8.0000e+00]\n",
      " [1.0700e+01 3.5000e-01 5.3000e-01 2.6000e+00 7.0000e-02 5.0000e+00\n",
      "  1.6000e+01 9.9720e-01 3.1500e+00 6.5000e-01 1.1000e+01 8.0000e+00]\n",
      " [1.0700e+01 3.5000e-01 5.3000e-01 2.6000e+00 7.0000e-02 5.0000e+00\n",
      "  1.6000e+01 9.9720e-01 3.1500e+00 6.5000e-01 1.1000e+01 8.0000e+00]\n",
      " [5.0000e+00 4.2000e-01 2.4000e-01 2.0000e+00 6.0000e-02 1.9000e+01\n",
      "  5.0000e+01 9.9170e-01 3.7200e+00 7.4000e-01 1.4000e+01 8.0000e+00]\n",
      " [7.8000e+00 5.7000e-01 9.0000e-02 2.3000e+00 6.5000e-02 3.4000e+01\n",
      "  4.5000e+01 9.9417e-01 3.4600e+00 7.4000e-01 1.2700e+01 8.0000e+00]\n",
      " [9.1000e+00 4.0000e-01 5.0000e-01 1.8000e+00 7.1000e-02 7.0000e+00\n",
      "  1.6000e+01 9.9462e-01 3.2100e+00 6.9000e-01 1.2500e+01 8.0000e+00]\n",
      " [1.0000e+01 2.6000e-01 5.4000e-01 1.9000e+00 8.3000e-02 4.2000e+01\n",
      "  7.4000e+01 9.9451e-01 2.9800e+00 6.3000e-01 1.1800e+01 8.0000e+00]\n",
      " [7.9000e+00 5.4000e-01 3.4000e-01 2.5000e+00 7.6000e-02 8.0000e+00\n",
      "  1.7000e+01 9.9235e-01 3.2000e+00 7.2000e-01 1.3100e+01 8.0000e+00]\n",
      " [8.6000e+00 4.2000e-01 3.9000e-01 1.8000e+00 6.8000e-02 6.0000e+00\n",
      "  1.2000e+01 9.9516e-01 3.3500e+00 6.9000e-01 1.1700e+01 8.0000e+00]\n",
      " [5.5000e+00 4.9000e-01 3.0000e-02 1.8000e+00 4.4000e-02 2.8000e+01\n",
      "  8.7000e+01 9.9080e-01 3.5000e+00 8.2000e-01 1.4000e+01 8.0000e+00]\n",
      " [7.2000e+00 3.3000e-01 3.3000e-01 1.7000e+00 6.1000e-02 3.0000e+00\n",
      "  1.3000e+01 9.9600e-01 3.2300e+00 1.1000e+00 1.0000e+01 8.0000e+00]\n",
      " [7.2000e+00 3.8000e-01 3.1000e-01 2.0000e+00 5.6000e-02 1.5000e+01\n",
      "  2.9000e+01 9.9472e-01 3.2300e+00 7.6000e-01 1.1300e+01 8.0000e+00]\n",
      " [7.4000e+00 3.6000e-01 3.0000e-01 1.8000e+00 7.4000e-02 1.7000e+01\n",
      "  2.4000e+01 9.9419e-01 3.2400e+00 7.0000e-01 1.1400e+01 8.0000e+00]]\n"
     ]
    }
   ],
   "source": [
    "print(best_wines)"
   ]
  },
  {
   "cell_type": "markdown",
   "metadata": {
    "id": "o24K4tG_x85s"
   },
   "source": [
    "Now that we have 18 top wines, let's save them to a new file. We can use the `np.savetxt()` function to save it as a human-readable delimited file. Instead of using semi-colons, we'll use commas to separate the values. The next few lines (`with open()`) are just to print the contents of the file to the screen."
   ]
  },
  {
   "cell_type": "code",
   "execution_count": null,
   "metadata": {
    "id": "HAMZFAvdx85s",
    "outputId": "d4f73dbd-aabd-4208-8aef-14f581a905da"
   },
   "outputs": [
    {
     "name": "stdout",
     "output_type": "stream",
     "text": [
      "7.900000000000000355e+00,3.499999999999999778e-01,4.600000000000000200e-01,3.600000000000000089e+00,7.799999999999999989e-02,1.500000000000000000e+01,3.700000000000000000e+01,9.972999999999999643e-01,3.350000000000000089e+00,8.599999999999999867e-01,1.280000000000000071e+01,8.000000000000000000e+00\n",
      "1.030000000000000071e+01,3.200000000000000067e-01,4.500000000000000111e-01,6.400000000000000355e+00,7.299999999999999545e-02,5.000000000000000000e+00,1.300000000000000000e+01,9.976000000000000423e-01,3.229999999999999982e+00,8.199999999999999512e-01,1.259999999999999964e+01,8.000000000000000000e+00\n",
      "5.599999999999999645e+00,8.499999999999999778e-01,5.000000000000000278e-02,1.399999999999999911e+00,4.499999999999999833e-02,1.200000000000000000e+01,8.800000000000000000e+01,9.923999999999999488e-01,3.560000000000000053e+00,8.199999999999999512e-01,1.290000000000000036e+01,8.000000000000000000e+00\n",
      "1.259999999999999964e+01,3.099999999999999978e-01,7.199999999999999734e-01,2.200000000000000178e+00,7.199999999999999456e-02,6.000000000000000000e+00,2.900000000000000000e+01,9.987000000000000322e-01,2.879999999999999893e+00,8.199999999999999512e-01,9.800000000000000711e+00,8.000000000000000000e+00\n",
      "1.130000000000000071e+01,6.199999999999999956e-01,6.700000000000000400e-01,5.200000000000000178e+00,8.599999999999999312e-02,6.000000000000000000e+00,1.900000000000000000e+01,9.988000000000000211e-01,3.220000000000000195e+00,6.899999999999999467e-01,1.340000000000000036e+01,8.000000000000000000e+00\n",
      "9.400000000000000355e+00,2.999999999999999889e-01,5.600000000000000533e-01,2.799999999999999822e+00,8.000000000000000167e-02,6.000000000000000000e+00,1.700000000000000000e+01,9.963999999999999524e-01,3.149999999999999911e+00,9.200000000000000400e-01,1.169999999999999929e+01,8.000000000000000000e+00\n",
      "1.069999999999999929e+01,3.499999999999999778e-01,5.300000000000000266e-01,2.600000000000000089e+00,7.000000000000000666e-02,5.000000000000000000e+00,1.600000000000000000e+01,9.971999999999999753e-01,3.149999999999999911e+00,6.500000000000000222e-01,1.100000000000000000e+01,8.000000000000000000e+00\n",
      "1.069999999999999929e+01,3.499999999999999778e-01,5.300000000000000266e-01,2.600000000000000089e+00,7.000000000000000666e-02,5.000000000000000000e+00,1.600000000000000000e+01,9.971999999999999753e-01,3.149999999999999911e+00,6.500000000000000222e-01,1.100000000000000000e+01,8.000000000000000000e+00\n",
      "5.000000000000000000e+00,4.199999999999999845e-01,2.399999999999999911e-01,2.000000000000000000e+00,5.999999999999999778e-02,1.900000000000000000e+01,5.000000000000000000e+01,9.917000000000000259e-01,3.720000000000000195e+00,7.399999999999999911e-01,1.400000000000000000e+01,8.000000000000000000e+00\n",
      "7.799999999999999822e+00,5.699999999999999512e-01,8.999999999999999667e-02,2.299999999999999822e+00,6.500000000000000222e-02,3.400000000000000000e+01,4.500000000000000000e+01,9.941699999999999982e-01,3.459999999999999964e+00,7.399999999999999911e-01,1.269999999999999929e+01,8.000000000000000000e+00\n",
      "9.099999999999999645e+00,4.000000000000000222e-01,5.000000000000000000e-01,1.800000000000000044e+00,7.099999999999999367e-02,7.000000000000000000e+00,1.600000000000000000e+01,9.946199999999999486e-01,3.209999999999999964e+00,6.899999999999999467e-01,1.250000000000000000e+01,8.000000000000000000e+00\n",
      "1.000000000000000000e+01,2.600000000000000089e-01,5.400000000000000355e-01,1.899999999999999911e+00,8.300000000000000433e-02,4.200000000000000000e+01,7.400000000000000000e+01,9.945100000000000051e-01,2.979999999999999982e+00,6.300000000000000044e-01,1.180000000000000071e+01,8.000000000000000000e+00\n",
      "7.900000000000000355e+00,5.400000000000000355e-01,3.400000000000000244e-01,2.500000000000000000e+00,7.599999999999999811e-02,8.000000000000000000e+00,1.700000000000000000e+01,9.923499999999999543e-01,3.200000000000000178e+00,7.199999999999999734e-01,1.309999999999999964e+01,8.000000000000000000e+00\n",
      "8.599999999999999645e+00,4.199999999999999845e-01,3.900000000000000133e-01,1.800000000000000044e+00,6.800000000000000488e-02,6.000000000000000000e+00,1.200000000000000000e+01,9.951600000000000446e-01,3.350000000000000089e+00,6.899999999999999467e-01,1.169999999999999929e+01,8.000000000000000000e+00\n",
      "5.500000000000000000e+00,4.899999999999999911e-01,2.999999999999999889e-02,1.800000000000000044e+00,4.399999999999999745e-02,2.800000000000000000e+01,8.700000000000000000e+01,9.908000000000000140e-01,3.500000000000000000e+00,8.199999999999999512e-01,1.400000000000000000e+01,8.000000000000000000e+00\n",
      "7.200000000000000178e+00,3.300000000000000155e-01,3.300000000000000155e-01,1.699999999999999956e+00,6.099999999999999867e-02,3.000000000000000000e+00,1.300000000000000000e+01,9.959999999999999964e-01,3.229999999999999982e+00,1.100000000000000089e+00,1.000000000000000000e+01,8.000000000000000000e+00\n",
      "7.200000000000000178e+00,3.800000000000000044e-01,3.099999999999999978e-01,2.000000000000000000e+00,5.600000000000000117e-02,1.500000000000000000e+01,2.900000000000000000e+01,9.947200000000000486e-01,3.229999999999999982e+00,7.600000000000000089e-01,1.130000000000000071e+01,8.000000000000000000e+00\n",
      "7.400000000000000355e+00,3.599999999999999867e-01,2.999999999999999889e-01,1.800000000000000044e+00,7.399999999999999634e-02,1.700000000000000000e+01,2.400000000000000000e+01,9.941900000000000182e-01,3.240000000000000213e+00,6.999999999999999556e-01,1.140000000000000036e+01,8.000000000000000000e+00\n"
     ]
    }
   ],
   "source": [
    "# Saving the array to a csv\n",
    "np.savetxt(\"best_wines.csv\", best_wines, delimiter=\",\")\n",
    "# Reading it back\n",
    "with open('best_wines.csv', 'r') as file:\n",
    "    for line in file:\n",
    "        print(line.strip())"
   ]
  },
  {
   "cell_type": "markdown",
   "metadata": {
    "id": "iER0HVuWx85t"
   },
   "source": [
    "What happened to the numbers? The default format for `np.savetxt()` is to save the data as a floating point number with 8 decimal places. However, our original csv did not have that much precision. This is because numpy internally loaded our data in this format but just didn't display the whole thing for us. We can change a number's **display format** using the `fmt` argument. Here's how you would save the data with 3 decimal places. You will also notice that we took the `wines_header` variable and joined it into a single string with commas. This is because `np.savetxt()` expects a single string for the header row."
   ]
  },
  {
   "cell_type": "code",
   "execution_count": null,
   "metadata": {
    "id": "dc3t4Ipex85u",
    "outputId": "49e25873-9733-4cd5-840e-cd2e068b9251"
   },
   "outputs": [
    {
     "name": "stdout",
     "output_type": "stream",
     "text": [
      "# fixed acidity,volatile acidity,citric acid,residual sugar,chlorides,free sulfur dioxide,total sulfur dioxide,density,pH,sulphates,alcohol,quality\n",
      "7.900,0.350,0.460,3.600,0.078,15.000,37.000,0.997,3.350,0.860,12.800,8.000\n",
      "10.300,0.320,0.450,6.400,0.073,5.000,13.000,0.998,3.230,0.820,12.600,8.000\n",
      "5.600,0.850,0.050,1.400,0.045,12.000,88.000,0.992,3.560,0.820,12.900,8.000\n",
      "12.600,0.310,0.720,2.200,0.072,6.000,29.000,0.999,2.880,0.820,9.800,8.000\n",
      "11.300,0.620,0.670,5.200,0.086,6.000,19.000,0.999,3.220,0.690,13.400,8.000\n",
      "9.400,0.300,0.560,2.800,0.080,6.000,17.000,0.996,3.150,0.920,11.700,8.000\n",
      "10.700,0.350,0.530,2.600,0.070,5.000,16.000,0.997,3.150,0.650,11.000,8.000\n",
      "10.700,0.350,0.530,2.600,0.070,5.000,16.000,0.997,3.150,0.650,11.000,8.000\n",
      "5.000,0.420,0.240,2.000,0.060,19.000,50.000,0.992,3.720,0.740,14.000,8.000\n",
      "7.800,0.570,0.090,2.300,0.065,34.000,45.000,0.994,3.460,0.740,12.700,8.000\n",
      "9.100,0.400,0.500,1.800,0.071,7.000,16.000,0.995,3.210,0.690,12.500,8.000\n",
      "10.000,0.260,0.540,1.900,0.083,42.000,74.000,0.995,2.980,0.630,11.800,8.000\n",
      "7.900,0.540,0.340,2.500,0.076,8.000,17.000,0.992,3.200,0.720,13.100,8.000\n",
      "8.600,0.420,0.390,1.800,0.068,6.000,12.000,0.995,3.350,0.690,11.700,8.000\n",
      "5.500,0.490,0.030,1.800,0.044,28.000,87.000,0.991,3.500,0.820,14.000,8.000\n",
      "7.200,0.330,0.330,1.700,0.061,3.000,13.000,0.996,3.230,1.100,10.000,8.000\n",
      "7.200,0.380,0.310,2.000,0.056,15.000,29.000,0.995,3.230,0.760,11.300,8.000\n",
      "7.400,0.360,0.300,1.800,0.074,17.000,24.000,0.994,3.240,0.700,11.400,8.000\n"
     ]
    }
   ],
   "source": [
    "np.savetxt(\"best_wines.csv\", best_wines, delimiter=\",\", fmt='%.3f', header=','.join(wines_header))\n",
    "with open('best_wines.csv', 'r') as file:\n",
    "    for line in file:\n",
    "        print(line.strip())"
   ]
  },
  {
   "cell_type": "markdown",
   "metadata": {
    "id": "46MhOs_qx85u"
   },
   "source": [
    "This way of saving the data prepends the header row with a `#` character to indicate that it is a comment. That way, if you were to load the data back in with numpy, it would ignore the header row automatically. If you don't want this behavior, you can set the `comments` argument to an empty string. There are a lot of formatting options if you need things to be precisely formatted in print, but we won't go into the details today."
   ]
  },
  {
   "cell_type": "markdown",
   "metadata": {
    "id": "6kGhJIq4x85v"
   },
   "source": [
    ">**Exercise**: Now that we've got the data, let's do one exercise focused on manipulating the data within numpy arrays. Remember what we've learned about slicing arrays and broadcasting operations.\n",
    ">\n",
    "> Every chemical property on the wine dataset is measured in different units. Let's normalize all the data so that it is on the same scale. To do this, we will first subtract the mean (`np.mean`) of each column from each element in the column, then divide by the standard deviation of the column (`np.std`). The quality column (last column) is not a chemical property, so we will not normalize it. Save the normalized data + original quality column to a new array."
   ]
  },
  {
   "cell_type": "code",
   "execution_count": null,
   "metadata": {
    "id": "4d6EnbAtx85v",
    "outputId": "ba7b3a31-d600-4c93-e3d0-3da165ac71ea"
   },
   "outputs": [
    {
     "name": "stdout",
     "output_type": "stream",
     "text": [
      "[[-0.52835961  0.96187667 -1.39147228 ... -0.57920652 -0.96024611\n",
      "   5.        ]\n",
      " [-0.29854743  1.96744245 -1.39147228 ...  0.1289504  -0.58477711\n",
      "   5.        ]\n",
      " [-0.29854743  1.29706527 -1.18607043 ... -0.04808883 -0.58477711\n",
      "   5.        ]\n",
      " ...\n",
      " [-1.1603431  -0.09955388 -0.72391627 ...  0.54204194  0.54162988\n",
      "   6.        ]\n",
      " [-1.39015528  0.65462046 -0.77526673 ...  0.30598963 -0.20930812\n",
      "   5.        ]\n",
      " [-1.33270223 -1.21684919  1.02199944 ...  0.01092425  0.54162988\n",
      "   6.        ]]\n"
     ]
    }
   ],
   "source": [
    "# Your code here\n",
    "\n",
    "# make a reference to the wines array without the last column\n",
    "wines_array_chemicals = wines_array[:,:-1]\n",
    "# calculate the mean of each column\n",
    "means = np.mean(wines_array_chemicals, axis=0)\n",
    "# calculate the standard deviation of each column\n",
    "stds = np.std(wines_array_chemicals, axis=0)\n",
    "# calculate the z-scores and assign them to a new array, z_scores\n",
    "z_scores = (wines_array_chemicals - means) / stds\n",
    "# add back the quality column to the z_scores array (hint: use np.column_stack)\n",
    "z_scores = np.column_stack((z_scores, wines_array[:,-1]))\n",
    "print(z_scores)\n"
   ]
  },
  {
   "cell_type": "markdown",
   "metadata": {
    "id": "L05eKcLNx85v"
   },
   "source": [
    "## Numpy is a foundational library\n",
    "\n",
    "Numpy forms the basis of many other python libraries, and can be used as-is to analyze a surprising range of data.\n",
    "\n",
    "Here is an example tutorial that use numpy to perform image analysis.\n",
    "\n",
    "The package skimage is used for image processing. Images are easily represented as numpy arrays, where each pixel is a value in the array. You can represent color images at 3D arrays, where each dimension is a different color channel. Take a look at this [tutorial](https://scikit-image.org/docs/stable/user_guide/numpy_images.html) to get an introduction to image processing.\n",
    "\n",
    "Numpy is the basis of machine learning libraries like sklearn, pandas, scipy, and inspires libraries like tensorflow. For a more in depth tutorial on numpy, check out the [visual guide to numpy](https://betterprogramming.pub/numpy-illustrated-the-visual-guide-to-numpy-3b1d4976de1d)"
   ]
  },
  {
   "cell_type": "markdown",
   "metadata": {
    "id": "V7sJcxZGx850"
   },
   "source": [
    "# Wrap-up\n",
    "\n",
    "1.   **Reading documentation** is an important skill when using new functions, especially from **imported libraries**.\n",
    "2.   **Numpy** is an **external library** that implements efficient data structures for large computations called **arrays**. Arrays can be single dimensional (*e.g.* one row of data), in which case they are called **vectors**, but can also be **multi-dimensional** Operations can be performed quickly on arrays with **broadcasting**.\n",
    "3.   Arrays can be **filtered** with boolean masks.\n",
    "4.   Data can be **read** directly from text files into Python data structures and Numpy arrays. Likewise, data can be **written** from Python to text files.ff\n",
    "\n",
    "Next time, we will learn how to use pandas, a library that is built on top of numpy and is specifically designed for data analysis. We will learn how to read into dataframes, how to manipulate data, and how to create visualizations."
   ]
  }
 ],
 "metadata": {
  "colab": {
   "provenance": [],
   "toc_visible": true
  },
  "kernelspec": {
   "display_name": "pyworkshop",
   "language": "python",
   "name": "python3"
  },
  "language_info": {
   "codemirror_mode": {
    "name": "ipython",
    "version": 3
   },
   "file_extension": ".py",
   "mimetype": "text/x-python",
   "name": "python",
   "nbconvert_exporter": "python",
   "pygments_lexer": "ipython3",
   "version": "3.13.1"
  }
 },
 "nbformat": 4,
 "nbformat_minor": 0
}
