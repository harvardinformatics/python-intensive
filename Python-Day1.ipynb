{
 "cells": [
  {
   "cell_type": "markdown",
   "metadata": {
    "id": "QsZUSCcQPTqx"
   },
   "source": [
    "# Python intensive, day 1\n",
    "\n",
    "## Introduction\n",
    "\n",
    "Welcome to the first day of the Harvard Informatics Python intensive workshop. This is a six day workshop intended to give a whirlwind, yet thorough, introduction programming concepts, the Python programming language, and how to use Python to facilitate data analysis.\n",
    "\n",
    "Programmatic analysis of data allows the scientist to have full control over how their data is parsed, assessed, and presented, unlike using third party programs (like Excel) which may make unwanted assumptions about how you want to read your data. The upside of this is that one could conceivably perform any analysis imaginable on their data, assuming they have enough coding skills. The downside is that one must know how to program. But that is the goal of this workshop: to give you the understanding of programming concepts and underlying skills such that you can see a problem or question in your work and then be able to understand how you would code the solution.\n",
    "\n",
    "While their are several programming languages one could use for data analysis, we chose to teach Python because it is more open-ended than alternatives (*e.g.* R being the main one for data analysis). Python is typed more like a traditional programming language, making the skills highly transferable to other languages."
   ]
  },
  {
   "cell_type": "markdown",
   "metadata": {
    "id": "id9_dDjsRH0Z"
   },
   "source": [
    "### Terminology\n",
    "\n",
    "Before we get started teaching any workshop, I like to point out that, like any specific domain, the way we talk about programming is almost its own language. Words in this context may have different meaning than in other contexts. As programmers ourselves, we are so used to using words in the context of programming that we sometimes forget others aren't used to it.\n",
    "\n",
    "This is all to say, if you hear us saying a word that you're familiar with but it's obvious that we're using it in a different way, or if you hear an unfamiliar term, please ask us to explain it. This knowledge gap is one of the most difficult parts about teaching a specific topic mostly because the teachers aren't usually aware of it.\n",
    "\n",
    "We also have a table of common programming terms with their definitions in this context: [Programming terminology](https://informatics.fas.harvard.edu/resources/glossary/).\n",
    "\n",
    "Please let us know if there is anything you think we should add to this table."
   ]
  },
  {
   "cell_type": "markdown",
   "metadata": {
    "id": "f8ud2f0tTpv9"
   },
   "source": [
    "### Installation\n",
    "\n",
    "This workshop exists as a **Jupyter notebook**. You can participate in this workshop by using this notebook interactively simply by uploading it to Google Colab. Go to https://colab.research.google.com/ and upload this notebook. That's it! This is the recommended way for participating in this workshop. Skip the below instructions if you will be using Google Colab.\n",
    "\n",
    "<br>\n",
    "\n",
    "---\n",
    "\n",
    "**See above for the recommended way to participate in this workshop. Only follow these instructions if Google Colab isn't working**\n",
    "\n",
    "If for some reason Google Colab isn't working, or you prefer to run this locally, you will need to install Python, Anaconda, and the necessary libraries. You will have to follow these steps to do so. Note that some steps are only meant for specific operating systems.\n",
    "\n",
    "0. If you are on Windows, [install WSL](https://learn.microsoft.com/en-us/windows/wsl/install). Once WSL is installed, you'll have a Linux terminal available to you in Windows. You can open this terminal by typing \"wsl\" in the search bar and clicking the app that appears. You'll also find your Linux distribution as a mounted drive in your file explorer.\n",
    "\n",
    "1. Install mamba, a package manager using the command line - Terminal for Mac or WSL for Windows.\n",
    "\n",
    "    1.1. For Mac, if you already have brew installed, install mamba using `brew install miniforge` and initialize it using `conda init zsh`. Then restart your terminal. If you don't have homebrew (i.e. the brew command doesn't exist), install brew first using `/bin/bash -c \"$(curl -fsSL https://raw.githubusercontent.com/Homebrew/install/HEAD/install.sh)\"`\n",
    "    \n",
    "    1.2. For Windows, download the Linux (x86_64) installer from the miniforge repository [here](https://github.com/conda-forge/miniforge) and install with `bash Miniforge3-Linux-x86_64.sh`.\n",
    "\n",
    "2. Create a new environment using mamba with `mamba create -n pyworkshop numpy pandas matplotlib seaborn jupyter` and activate it with `conda activate pyworkshop`.\n",
    "\n",
    "3. You can now run the jupyter notebook by typing `jupyter notebook` in the terminal. This will open a browser window with the jupyter notebook interface. You can navigate to the folder where you saved this notebook and open it.\n",
    "\n",
    "4. Alternatively, install [VSCode](https://code.visualstudio.com/) and the Python extension. Then open this notebook in VSCode and run it with the kernel that belongs to the pyworkshop environment. [How to guide here](https://code.visualstudio.com/docs/datascience/jupyter-notebooks)\n",
    "\n",
    "---"
   ]
  },
  {
   "cell_type": "markdown",
   "metadata": {
    "id": "S6JOI2UJTpwA"
   },
   "source": [
    "### Jupyter basics\n",
    "\n",
    "Jupyter notebooks are text files that can be rendered as formatted text **and** run code given the proper setup (see Installation).\n",
    "\n",
    "Text is split into **cells**. Double clicking a cell allows you to edit it.\n",
    "\n",
    "For code cells, there is also an option to run the code. You can do this by pressing **SHIFT+ENTER** while having it selected, or press the **Run** button at the top of the cell (exact location depends on the editor you're using). Because of the way we set up the notebook the code cells will be running Python code.\n",
    "\n",
    "For this workshop, we'll be asking you to follow along by running code cells and by doing coding exercises by writing or editing code in code cell.\n",
    "\n",
    "Run the code cell below as a demo."
   ]
  },
  {
   "cell_type": "code",
   "execution_count": 3,
   "metadata": {
    "colab": {
     "base_uri": "https://localhost:8080/"
    },
    "id": "0praUlbBTpwB",
    "outputId": "cc8543ee-ad76-478e-c1c7-143b8a1b17bf"
   },
   "outputs": [
    {
     "name": "stdout",
     "output_type": "stream",
     "text": [
      "this is my code cell\n"
     ]
    }
   ],
   "source": [
    "# Run this cell to print a message to the screen\n",
    "print(\"this is my code cell\")"
   ]
  },
  {
   "cell_type": "markdown",
   "metadata": {
    "id": "9yri-5NSTpwC"
   },
   "source": [
    "Any **variables** that you assign in one cell will be available in other cells. But they will not be saved between sessions. If you close the notebook and re-open it, you will need to re-run the previous cells to get your variables back. Therefore, it's important to be aware of the state of your notebook and the order in which your cells were run."
   ]
  },
  {
   "cell_type": "code",
   "execution_count": null,
   "metadata": {
    "id": "tJJuznVZTpwC"
   },
   "outputs": [],
   "source": [
    "my_string = \"this is my code cell\""
   ]
  },
  {
   "cell_type": "code",
   "execution_count": null,
   "metadata": {
    "id": "1YLfoStATpwD"
   },
   "outputs": [],
   "source": [
    "print(my_string)"
   ]
  },
  {
   "cell_type": "markdown",
   "metadata": {
    "id": "_7GrOzoLTpwD"
   },
   "source": [
    "Jupyter notebooks can be exported to pdf or html, so that other people can view both the code and its output. It's a good format for handing in homeworks, for example, since you can show your work. In this notebook, there will be exercises with placeholders for the code that you will have to fill in. For these exercises, we encourage you to work with each other, use google, LLMs, and whatever other resources if you are stuck. It's not an exam, but just a way to practice the concepts. Afterwards, we will post the completed notebook on our website so you can have examples of solutions."
   ]
  },
  {
   "cell_type": "markdown",
   "metadata": {
    "id": "kK4woy2YYFTX"
   },
   "source": [
    "## What is a computer program?\n",
    "\n",
    "Let's start by answering this general question. A computer program (depending on the context, sometimes also called software, an app, a script, a package, or a command, among others) is a set of instructions written in a way that the computer understands such that it can perform computations based on those instructions.\n",
    "\n",
    "Think of a computer program as a cooking recipe:"
   ]
  },
  {
   "cell_type": "markdown",
   "metadata": {
    "id": "fh-Jjr1JZcjH"
   },
   "source": [
    "```\n",
    "1 cup (2 sticks) unsalted butter, softened\n",
    "3/4 cup granulated sugar\n",
    "3/4 cup packed brown sugar\n",
    "1 teaspoon vanilla extract\n",
    "2 large eggs\n",
    "2 1/4 cups all-purpose flour\n",
    "1 teaspoon baking soda\n",
    "1/2 teaspoon salt\n",
    "2 cups semi-sweet chocolate chips\n",
    "\n",
    "    1. Preheat your oven to 375°F (190°C).\n",
    "    2. In a large mixing bowl, beat the softened butter, granulated sugar, brown sugar, and vanilla extract until creamy.\n",
    "    3. Add the eggs, one at a time, beating well after each addition.\n",
    "    4. In a separate bowl, combine the flour, baking soda, and salt.\n",
    "    5. Gradually add the dry ingredients to the wet mixture, beating until well combined.\n",
    "    6. Stir in the chocolate chips and nuts, if using.\n",
    "    7. Drop rounded tablespoons of dough onto ungreased baking sheets.\n",
    "    8. Bake in the preheated oven for 9 to 11 minutes or until golden brown.\n",
    "    9. Remove the cookies from the oven and let them cool on the baking sheets for a couple of minutes before transferring them to a wire rack to cool completely.\n",
    "```"
   ]
  },
  {
   "cell_type": "markdown",
   "metadata": {
    "id": "To0fba3YbAYN"
   },
   "source": [
    "This tells us everything we need to know to bake some simple, but delicious, chocolate chip cookies.\n",
    "\n",
    "Or does it? If we were to give these and **only these** instructions to a robot, would it be able to bake us these cookies while we sit back and read by the fire?\n",
    "\n",
    "I highly doubt it, because a computer needs every single step, no matter how miniscule, given to it as instructions in a program. Unlike a human, computers don't remember or learn from their previous instructions.\n",
    "\n",
    "Here is a more programmatic recipe to bake chocolate chip cookies:"
   ]
  },
  {
   "cell_type": "markdown",
   "metadata": {
    "id": "D8yepmVjcSIH"
   },
   "source": [
    "```\n",
    "  1. Walk to your oven.\n",
    "  2. Extend your arm towards the power button.\n",
    "  3. Push the power button.\n",
    "  4. Move your arm to the temperature dial.\n",
    "  5. Set the temperature dial to 375°F (190°C).\n",
    "  6. Lower your arm.\n",
    "  7. Walk toward your cabinet.\n",
    "  8. Extend your arm.\n",
    "  9. Grasp the cabinet handle.\n",
    "  10. Pull the cabinet open.\n",
    "  11. Release the cabinet handle.\n",
    "  12. Extend both arms toward the large mixing bowl on the shelf.\n",
    "  13. Grasp the mixing bowl with both hands.\n",
    "  .\n",
    "  .\n",
    "  .\n",
    "  and so on.\n",
    "```"
   ]
  },
  {
   "cell_type": "markdown",
   "metadata": {
    "id": "IDt00jN0c70Z"
   },
   "source": [
    "This recipe is much more similar to what a computer program looks like. Every single step, even ones you might not think about when doing these tasks normally, has to be given.\n",
    "\n",
    "But even this doesn't provide all the instructions clearly. It assumes some basic knowledge of your kitchen layout and appliances. It also gives some actions, such as **Walk** or **Extend**, that could be broken down even further to their component instructions. Indeed, if we were omnipotent we could write a recipe for chocolate chip cookies just by specifying when to activate specific neurons in ones body.\n",
    "\n",
    "Similarly, in a computer, we could write programs by specifying when to send electrical current through each individual transistor.\n",
    "\n",
    "Luckily, though, we don't need to do that in either case. For the recipe, humans retain their previous knowledge and skills, so we know how to walk to our oven even when its not written out specifically.\n",
    "\n",
    "And computers had programmers before us that built programming languages at higher levels than explicitly manipulating transistors, giving us the ability to write instructions in (more-or-less) plain text.\n",
    "\n",
    "Python is one of those languages, and even more luckily, there are built-in chunks of code written by the developers of the language that allow us to do common tasks without programming them explicitly. The chunks of code written by others to do very specific things are called **functions**."
   ]
  },
  {
   "cell_type": "markdown",
   "metadata": {
    "id": "69RLKeDPfpcj"
   },
   "source": [
    "### Walk - a pseudo-function\n",
    "\n",
    "Let's go back to our detailed recipe. I mentioned before that certain actions, like **Walk** are invoked multiple times. To me, Walk seems like a function. We can simply say Walk in our recipe, and somewhere in our recipe book, some other recipe is looked up that looks something like this:\n",
    "\n",
    "```\n",
    "Walk:\n",
    "  1. Lift right leg.\n",
    "  2. Extend right leg.\n",
    "  3. Lower right leg and lift left leg.\n",
    "  4. Extend left leg.\n",
    "  5. Lower left leg and lift right leg.\n",
    "```\n",
    "\n",
    "Every time the word Walk appears in our recipe, we know to go look-up this other recipe to figure out what to do. In computer programming, we call these other recipes **functions**.\n",
    "\n",
    "Of course, if this were the whole function, it wouldn't be very useful. Remember, if we're writing this recipe for a robot, it needs everything spelled out for it explicitly. If we just had this as our Walk function, the robot would take two steps in the direction it is facing and then be left standing on it's left leg.\n",
    "\n",
    "> **Exercise:** What are some other pieces of information we could provide to ensure that this Walk function is useful in the context of step 1 of our detailed recipe?\n",
    "\n",
    "Perhaps our new Walk function would look something like this:\n",
    "\n",
    "```\n",
    "Walk:\n",
    "  1. Turn body to face oven\n",
    "  2. Lift right leg.\n",
    "  3. Extend right leg.\n",
    "  4. Lower right leg and lift left leg.\n",
    "  5. Extend left leg.\n",
    "  6. Lower left leg and lift right leg.\n",
    "  7. Repeat 2-6 until the distance to the oven has been traversed\n",
    "```\n",
    "\n",
    "Great! But this function would seem to only work for step 1. What about step 7: Walk toward your cabinet. If we just ran this version of Walk, we would be stuck at our oven forever.\n",
    "\n",
    "We could add two different Walk functions to our recipe book:\n",
    "\n",
    "```\n",
    "Walk_to_oven:\n",
    "  1. Turn body to face oven\n",
    "  2. Lift right leg.\n",
    "  3. Extend right leg.\n",
    "  4. Lower right leg and lift left leg.\n",
    "  5. Extend left leg.\n",
    "  6. Lower left leg and lift right leg.\n",
    "  7. Repeat 2-6 until the distance to the oven has been traversed\n",
    "\n",
    "Walk_to_cabinet:\n",
    "  1. Turn body to face cabinet\n",
    "  2. Lift right leg.\n",
    "  3. Extend right leg.\n",
    "  4. Lower right leg and lift left leg.\n",
    "  5. Extend left leg.\n",
    "  6. Lower left leg and lift right leg.\n",
    "  7. Repeat 2-6 until the distance to the cabinet has been traversed\n",
    "```\n",
    "\n",
    "Or, as computer programmers like to do, we could type things out only once and make a single **generic** Walk function. To do this, we'd need to provide even more specific information to our function so we can cover more cases.\n",
    "\n",
    "I think the two most important generic parameters would be *angle* and *distance*. Given these two things, we should be able to Walk anywhere:\n",
    "\n",
    "```\n",
    "Walk_anywhere:\n",
    "  1. Turn body *angle* degrees\n",
    "  2. Lift right leg.\n",
    "  3. Extend right leg.\n",
    "  4. Lower right leg and lift left leg.\n",
    "  5. Extend left leg.\n",
    "  6. Lower left leg and lift right leg.\n",
    "  7. Repeat 2-6 until the *distance* has been traversed\n",
    "```\n",
    "\n",
    "I want to do another thing too. I don't like seeing all those instructions spelled out when I need to repeat them over and over again. So I'm going to write another function, called Step:\n",
    "\n",
    "```\n",
    "Step:\n",
    "  1. Lift right leg.\n",
    "  2. Extend right leg.\n",
    "  3. Lower right leg and lift left leg.\n",
    "  4. Extend left leg.\n",
    "  5. Lower left leg and lift right leg.\n",
    "\n",
    "Walk_anywhere:\n",
    "  1. Turn body *angle* degrees\n",
    "  2. Repeat Step until the *distance* has been traversed\n",
    "```\n",
    "\n",
    "We'll take the Step function and put it somewhere else in our recipe book, so that everytime it is called in Walk_anywhere, we can go find the Step recipe to follow those instructions. And it just generally looks a lot cleaner typed out.Hopefully we'll be able to get this robot to bake us some nice cookies soon.\n",
    "\n",
    "But how do we integrate these functions into our original recipe?"
   ]
  },
  {
   "cell_type": "markdown",
   "metadata": {
    "id": "ea72QwMJlJvN"
   },
   "source": [
    "### Function arguments and the assignment operator\n",
    "\n",
    "Most functions require some sort of input to operate. These are given as **arguments** when you invoke, or call, the function.\n",
    "\n",
    "Here is how we could do this for our recipe:\n",
    "\n",
    "```\n",
    "  1. Walk_anywhere 2 meters at an angle of 40°.\n",
    "  2. Extend your arm towards the power button.\n",
    "  3. Push the power button.\n",
    "  4. Move your arm to the temperature dial.\n",
    "  5. Set the temperature dial to 375°F (190°C).\n",
    "  6. Lower your arm.\n",
    "  7. Walk_anywhere 0.6 meters at an angle of 120°.\n",
    "  8. Extend your arm.\n",
    "  9. Grasp the cabinet handle.\n",
    "  10. Pull the cabinet open.\n",
    "  11. Release the cabinet handle.\n",
    "  12. Extend both arms toward the large mixing bowl on the shelf.\n",
    "  13. Grasp the mixing bowl with both hands.\n",
    "  .\n",
    "  .\n",
    "  .\n",
    "  and so on.\n",
    "```\n",
    "\n",
    "Notice that instead of just saying Walk we now refer to the other recipe, or function, in our recipe book, Walk_anywhere.\n",
    "\n",
    "> **Exercise**: What are the **arguments** we've given the Walk_anywhere function above?\n",
    "\n",
    "Now I want to edit the **syntax** (how we type) of our recipe, just to make it a bit more consistent with how a computer program might look:\n",
    "\n",
    "```\n",
    "  1. Walk_anywhere(distance=2 meters and angle=40°).\n",
    "  2. Extend your arm towards the power button.\n",
    "  3. Push the power button.\n",
    "  4. Move your arm to the temperature dial.\n",
    "  5. Set the temperature dial to 375°F (190°C).\n",
    "  6. Lower your arm.\n",
    "  7. Walk_anywhere(distance=0.6 meters and angle=120°).\n",
    "  8. Extend your arm.\n",
    "  9. Grasp the cabinet handle.\n",
    "  10. Pull the cabinet open.\n",
    "  11. Release the cabinet handle.\n",
    "  12. Extend both arms toward the large mixing bowl on the shelf.\n",
    "  13. Grasp the mixing bowl with both hands.\n",
    "  .\n",
    "  .\n",
    "  .\n",
    "  and so on.\n",
    "```\n",
    "\n",
    "This introduces our first explicit programming syntax. The item assignment operator **=**.\n",
    "\n",
    "Using the **=** operator simply means that the **thing on the left side assumes the value of the thing on the right side**. In programming, the thing on the left side is always a **variable** (and in this case an argument to our function). Variables can be re-used later on in our program with the last value they were assigned.\n",
    "\n",
    "In our case, we're saying that we're setting the value of the variable *distance* to be 2 meters and the value of the variable *angle* to be 40°. And when we refer to *distance* and *angle* later on, we'll actually be referring to the values of 2 meters and 40°.\n",
    "\n",
    "Then, our function will need to be modified to accept these **arguments** as **parameters**:\n",
    "\n",
    "```\n",
    "Walk_anywhere(*distance*, *angle*):\n",
    "  1. Turn body *angle* degrees\n",
    "  2. Repeat Step until the *distance* has been traversed\n",
    "```\n",
    "\n",
    "Here, we've assumed that the Step function exists and is available in the robot's memory, even if we haven't explicitly typed it.\n",
    "\n",
    "But more importantly, the values of the two variables, *distance* and *angle*, are now set when we call the function in the main program.\n",
    "\n",
    "This means that both times we call the Walk_anywhere() function, we can specify a different *distance* and *angle*, as in steps 1 and 7 of our recipe. And the same is true when, undoubtedly, we call the Walk_anywhere function again later on in our recipe.\n",
    "\n",
    "**Exercise:** Given the syntax of our recipe book (in other words, how we've typed things up to now), in the code block below, type how you would tell the cookie baking robot to walk from the cabinet to the counter if it is 1 meter away and directly behind it."
   ]
  },
  {
   "cell_type": "code",
   "execution_count": null,
   "metadata": {
    "id": "rbCzFd_G1GTu"
   },
   "outputs": [],
   "source": [
    "# Your pseudocode here\n",
    "Walk_anywhere(distance=1 meter and angle=180°)"
   ]
  },
  {
   "cell_type": "markdown",
   "metadata": {
    "id": "LRv-QwIW1uKy"
   },
   "source": [
    "### Pseudocode and syntax\n",
    "\n",
    "What we've shown above a is a \"program\" in the sense that it lays out the instructions one step at a time. However, it does this in mostly plain English. This is called **pseudocode** and is a good way to get started when you're presented with a new problem you have to code.\n",
    "\n",
    "The concepts conveyed about **functions** here directly translate into how functions work in computer programs. They are blocks of code (recipes) available in your recipe book (sometimes called a **library**) that are available to you even if you are on a different page in the recipe book or writing your own recipe. In other words, you can tell the robot to Walk_anywhere without you yourself having to know the exact text of the Walk_anywhere recipe.\n",
    "\n",
    "> **Exercise**: Write out pseudocode for getting on the bus to go to the grocery store. Let's go around and have each person write one line."
   ]
  },
  {
   "cell_type": "markdown",
   "metadata": {
    "id": "r_48GvF2XIY5"
   },
   "source": [
    "While the concepts are the same, the main difference between this pseudocode and an actual program is the **syntax**, which I've mentioned before is simply how things are typed or written. Each programming language has a unique syntax that provides structure and underlying instructions to the computer.\n",
    "\n",
    "In an even more Pythonic syntax, we would call our Walk_anywhere function as:\n",
    "\n",
    "```\n",
    "Walk_anywhere(distance=2, angle=40)\n",
    "```\n",
    "\n",
    "Notice that we don't provide units (meters or °). Those things are useful for us to know as programmers and users of the program, but the program itself is mainly just interested in the data, in this case the two numbers."
   ]
  },
  {
   "cell_type": "markdown",
   "metadata": {
    "id": "1GJH0WMBX0Sa"
   },
   "source": [
    "### Programming in practice\n",
    "\n",
    "Practically speaking, when we code, we type out the instructions we wish the computer to carry out using the syntax of the language in which we are coding. In most cases, we type **one instruction per line**. The computer then reads the instructions one line at a time, from top to bottom, though the most powerful basic programming techniques can change this behavior. We'll learn about those later on.\n",
    "\n",
    "We write our programs by typing in a text file using a **text editor**. Some text editors are designed for coding with useful features such as syntax highlighting and automatic formatting. However, even the most plain text editor (e.g. Notepad) could be used to write a computer program.\n",
    "\n",
    "In this workshop, the text editor we're using is conveniently built-in to the Jupyter notebook as the code cells.\n",
    "\n",
    "In Python, empty lines are ignored, as are lines that begin with the `#` character. These lines are called **comments** and are meant for notetaking and documenation.\n",
    "\n",
    "Now that we know that a **function** is like another recipe in our recipe book of code, let's look at some actual Python functions."
   ]
  },
  {
   "cell_type": "markdown",
   "metadata": {
    "id": "FgiyerGlpcm6"
   },
   "source": [
    "## Functions in Python\n",
    "\n",
    "There are a range of Python functions built-in to the language, as well as a multitude of external **libraries** that can be **imported** to be used, like getting another recipe book from your bookshelf or at the public library.\n",
    "\n",
    "Let's look at a very basic function. What happens when you run the single line of code below?"
   ]
  },
  {
   "cell_type": "code",
   "execution_count": null,
   "metadata": {
    "id": "NroLPxfv6sEF"
   },
   "outputs": [],
   "source": [
    "abs(-5)"
   ]
  },
  {
   "cell_type": "markdown",
   "metadata": {
    "id": "pdRxQ1gb62u3"
   },
   "source": [
    "The `abs()` function takes as input a single **integer** and **returns** its absolute value. In this case, the absolute value of -5 is 5. Under the hood, there is some block of code that Python has installed on your computer that is looked-up and run every time it sees that you've typed and run `abs()`. I don't know what this code looks like (though I could guess for such a simple function), and I don't even know where it is on the computer. But that's what's so great about functions: they simplify tasks that are repeated often, saving us programmers time and effort.\n",
    "\n",
    "For instance, if we needed to know the absolute value of 10 numbers and the underlying code for `abs()` is 4 lines of code and we DIDN'T have it stored as a function, we would have to write out those 4 lines 10 times (recall the Walk_to_oven and Walk_to_cabinet problem). Now, with `abs()`, we only need to write that function call 10 times.\n",
    "\n"
   ]
  },
  {
   "cell_type": "markdown",
   "metadata": {
    "id": "3cUb9mOTY6RE"
   },
   "source": [
    "### Functions usually require input\n",
    "\n",
    "What happens if you run this code block:"
   ]
  },
  {
   "cell_type": "code",
   "execution_count": null,
   "metadata": {
    "id": "0fKd_OK580PF"
   },
   "outputs": [],
   "source": [
    "abs()"
   ]
  },
  {
   "cell_type": "markdown",
   "metadata": {
    "id": "gvg1c4eq8215"
   },
   "source": [
    "You get an **error** (a very common occurrence when coding). Remember, almost all functions require additional information in the form of **arguments**. In the case of `abs()` it requires a single argument, a number. Without it, the underlying code doesn't work, so it stops the program and tells us before it even tries.\n",
    "\n",
    "How about this:"
   ]
  },
  {
   "cell_type": "code",
   "execution_count": null,
   "metadata": {
    "id": "x9TKBOHX9SbN"
   },
   "outputs": [],
   "source": [
    "abs(-5, 7, -12)"
   ]
  },
  {
   "cell_type": "markdown",
   "metadata": {
    "id": "JRv6s78Q9Wl1"
   },
   "source": [
    "Still no good. In this case, the function takes EXACTLY one number and runs some code using it. This may not always be the case, and different functions are going to require different inputs.\n",
    "\n",
    "Ok then, how would you know how many arguments a given function takes? Or if there even exists a function to do a particular task?"
   ]
  },
  {
   "cell_type": "markdown",
   "metadata": {
    "id": "uyuF3nxp-SOX"
   },
   "source": [
    "### Learning more about functions\n",
    "\n",
    "If you know the name of the function and are coding in a notebook like this, you can conveniently use another function called `help()`. The `help()` function takes as an argument the name of another function and looks up some (hopefully helpful) documentation about it and prints it to the screen.\n",
    "\n",
    "Try this:"
   ]
  },
  {
   "cell_type": "code",
   "execution_count": null,
   "metadata": {
    "id": "LYhD1hSK-iFe"
   },
   "outputs": [],
   "source": [
    "help(abs)"
   ]
  },
  {
   "cell_type": "markdown",
   "metadata": {
    "id": "kzKAvY-p-xk4"
   },
   "source": [
    "This tells us what `abs()` does and tells us that it requires one argument, `x`. (The `/` indicates that the argument is positional, but you can ignore that for now.)\n",
    "\n",
    "What about if you know what you want to do, but you're not sure if there is a function to do it. This begins to touch a bit on a host of 'meta-skills' that one picks up as they start to code and work with computers more. It may seem obvious, but the first solution is to simply search the internet. The difficulty comes when you try to word your search, and unfortunately that will change depending on the task.\n",
    "\n",
    "However, there are some resources that will pop-up that are generally pretty reliable. For instance, the official [Python documentation](https://docs.python.org/3/) can be helpful, but is sometimes cryptic (e.g. the / above in the `abs()` `help()` output). StackExchange and [StackOverflow](https://stackoverflow.com/) are great resources that provide community answers to programming problems. But sometimes it is difficult to find an answer to your specific problem unless you post it yourself.\n",
    "\n",
    "Now, it is also feasible to ask a LLM chatbot (e.g. ChatGPT, CoPilot) to help with coding problems. While these bots have their issues with reliability for real world information, they tend to be quite accurate for basic programming problems. For instance, you could ask, \"How do I get the largest number of a list of numbers in Python?\" and it would probably reply with some answer related to the `max()` function.\n",
    "\n"
   ]
  },
  {
   "cell_type": "markdown",
   "metadata": {
    "id": "ov5143kebSmk"
   },
   "source": [
    "### Functions and data types\n",
    "\n",
    "Like we've said, functions require input in the form of arguments. For our pseudo-function Walk_anywhere(), the arguments were two numbers that represent distance and angle. For the `abs()` function in Python, the lone argument is a number that may represent anything.\n",
    "\n",
    "In both cases, the arguments were whole numbers, or as we call them in programming lingo, **integers**.\n",
    "\n",
    "**Integers** are only one of several basic types of data that we may be manipulating in our program.\n"
   ]
  },
  {
   "cell_type": "markdown",
   "metadata": {
    "id": "Y3rHJJjkbV_O"
   },
   "source": [
    "#### Integers\n",
    "\n",
    "In Python, an **integer** is any number that can be formed by the ten numeric symbols on your keyboard: 0, 1, 2, 3, 4, 5, 6, 7, 8, 9.\n",
    "\n",
    "The hyphen symbol is also allowed to indicate negative integers: -.  \n",
    "\n",
    "So `9` is an integer, as is `298`. And `-1054`. And `298357`. And so on. They are typed plainly, with no other characters."
   ]
  },
  {
   "cell_type": "markdown",
   "metadata": {
    "id": "0ixZ0M08X9xc"
   },
   "source": [
    "#### Strings\n",
    "\n",
    "Another basic Python data type is a **string**. Strings are made up of one or more of any alpha-numeric **character** on your keyboard. Importantly, in order for Python to know a piece of data is a string, it must be encompassed by quotation marks, either 'single' or \"double\".\n",
    "\n",
    "Some examples of strings are: `\"hello\"`, `'the quick brown fox'`, and `\"99\"`.\n",
    "\n",
    "Some things that are not strings are: `hello`, `abs()`, and `99`.\n",
    "\n",
    "Do you see why `\"hello\"` is a string, but `hello` is not? It's the double quotes! Without them, Python will interpret `hello` to be some sort of object like a variable or function name. With them, `\"hello\"` is interpreted as a string."
   ]
  },
  {
   "cell_type": "markdown",
   "metadata": {
    "id": "0ln81yjhbaQK"
   },
   "source": [
    "#### Why do data types matter?\n",
    "\n",
    "This distinction between types of data is important because **some functions may operate differently depending on the data type provided, and some might work for one data type and not for others**.\n",
    "\n",
    "For example, we know what `abs(-5)` will do. What about the following? Run the code block to find out:"
   ]
  },
  {
   "cell_type": "code",
   "execution_count": null,
   "metadata": {
    "id": "br0ND0QHeUG3"
   },
   "outputs": [],
   "source": [
    "abs(\"-5\")"
   ]
  },
  {
   "cell_type": "markdown",
   "metadata": {
    "id": "sLmxQuyPeXwg"
   },
   "source": [
    "It is more-or-less telling us that we gave it a string when this function only works for integers.\n",
    "\n",
    "This may seem obvious with such a simple example, but later on, when data types are obfuscated behind variable names and data structures, you may start getting errors like this.\n",
    "\n",
    "\n",
    "\n",
    "**One of the most important concepts in programming is to always know what data type you are working with.**"
   ]
  },
  {
   "cell_type": "markdown",
   "metadata": {
    "id": "oz1sITLTfVd7"
   },
   "source": [
    "### More examples of functions\n",
    "\n",
    "Let's say we have the following string: \"Teach a robot to bake cookies.\"\n",
    "\n",
    "And we've entered this data into our Python script and **stored it as a variable** using the **=** operator as in the code block below.\n",
    "\n",
    "\n",
    "\n",
    "> **Exercise**: What function could we use to count the number of individual characters in our string? What happens if we use the same function to count the number of digits in a number? Enter your answer in the code below.\n",
    "\n"
   ]
  },
  {
   "cell_type": "code",
   "execution_count": null,
   "metadata": {
    "id": "WWzft7hrgG0u"
   },
   "outputs": [],
   "source": [
    "my_string = \"Teach a robot to bake cookies.\"\n",
    "\n",
    "# Your code here: Find a function to put here that counts the number of characters in my_string\n",
    "len(my_string)\n"
   ]
  },
  {
   "cell_type": "code",
   "execution_count": null,
   "metadata": {
    "id": "fZaroJXrgfHp"
   },
   "outputs": [],
   "source": [
    "my_integer = 124\n",
    "\n",
    "# Your code here: Use the same function to count the number of digits in my_integer\n",
    "len(my_integer)"
   ]
  },
  {
   "cell_type": "markdown",
   "metadata": {
    "id": "WBW1nPTJg1ae"
   },
   "source": [
    "#### print()\n",
    "\n",
    "Another important function in Python is `print()`. This function takes any number of arguments and simply displays them on the screen. This may seem unnecesary in our Jupyter notebook, where function output is automatically displayed, but `print()` allows us to display **and format** output in other environments.\n",
    "\n",
    "> **Exercise**: Use `print()` to display both `my_string` and `my_integer` on a single line.\n"
   ]
  },
  {
   "cell_type": "code",
   "execution_count": null,
   "metadata": {
    "id": "t5DVDfZbrHfN"
   },
   "outputs": [],
   "source": [
    "# Your code here: Display my_string and my_integer on a single line\n",
    "print(my_string, my_integer)"
   ]
  },
  {
   "cell_type": "markdown",
   "metadata": {
    "id": "Xgz1j1h8cK25"
   },
   "source": [
    "You'll notice that this worked even though we gave it mixed data types (a string and an integer).\n",
    "\n",
    "`print()` is an important function for displaying output to a user as well as for debugging (when in doubt, print it out)."
   ]
  },
  {
   "cell_type": "markdown",
   "metadata": {
    "id": "FSrG9gUDrO8V"
   },
   "source": [
    "### Storing the output of functions\n",
    "\n",
    "The same way functions require input, they usually also produce output. We say that the function **returns** this output, because it can then be used in the main program.\n",
    "\n",
    "Up until now, we've simply typed our function and let the notebook display the returned result to us. But of course computer programs are composed of multiple instructions and instead of displaying the result of the function to the screen, we may want to save it to be used later on in the program.\n",
    "\n",
    "To do this, we again use our trusty item assignment operator, **=**."
   ]
  },
  {
   "cell_type": "code",
   "execution_count": 7,
   "metadata": {
    "colab": {
     "base_uri": "https://localhost:8080/"
    },
    "id": "C5Sdgx9nsCu2",
    "outputId": "25f276ae-adff-4188-a1c8-4eff88368e8c"
   },
   "outputs": [
    {
     "name": "stdout",
     "output_type": "stream",
     "text": [
      "The absolute value of -5 is 5\n"
     ]
    }
   ],
   "source": [
    "my_integer = -5\n",
    "abs_result = abs(my_integer)\n",
    "print(\"The absolute value of\", my_integer, \"is\", abs_result)"
   ]
  },
  {
   "cell_type": "markdown",
   "metadata": {
    "id": "QRgaeurwsXMd"
   },
   "source": [
    "This chunk demonstrates a few things:\n",
    "\n",
    "1.   Instead of giving the `abs()` function our data directly, we've instead given it a variable in which we've stored our data.\n",
    "2.   We used `=` to assign the result of `abs()` to another variable\n",
    "3.   We used `print()` to format and display the result.\n",
    "\n",
    "> **Exercise**: Using the function you looked up and learned about above (`len()`), write a few lines of code that store a string, look-up its length, and display both the string and the length using `print()`."
   ]
  },
  {
   "cell_type": "code",
   "execution_count": null,
   "metadata": {
    "id": "Y-r043Amc_i1"
   },
   "outputs": [],
   "source": [
    "# Your code here: Store a string, calculate its length, and print both\n",
    "my_string = \"Teach a robot to bake cookies.\"\n",
    "my_string_length = len(my_string)\n",
    "print(\"The message: '\", my_string, \"' is\", my_string_length, \"characters long.\")"
   ]
  },
  {
   "cell_type": "markdown",
   "metadata": {
    "id": "iBby6FUxRUqP"
   },
   "source": [
    "### Variable naming rules\n",
    "\n",
    "We've talked a little bit about storing information as **variables** with the assignment operator `=`."
   ]
  },
  {
   "cell_type": "code",
   "execution_count": null,
   "metadata": {
    "id": "f9Lj-0yZRmkF"
   },
   "outputs": [],
   "source": [
    "my_data = 5\n",
    "my_message = \"hello world\""
   ]
  },
  {
   "cell_type": "markdown",
   "metadata": {
    "id": "Qojbf6m4RqiG"
   },
   "source": [
    "However, there are some rules on how we can name our variables:\n",
    "\n",
    "1.   Variable names can start with any letter, but not a number. They can contain numbers after the first character.\n"
   ]
  },
  {
   "cell_type": "code",
   "execution_count": 4,
   "metadata": {
    "colab": {
     "base_uri": "https://localhost:8080/",
     "height": 108
    },
    "id": "BvkrThvER9El",
    "outputId": "aba054e9-1896-4dff-a568-0622d8fa0b97"
   },
   "outputs": [
    {
     "ename": "SyntaxError",
     "evalue": "invalid decimal literal (<ipython-input-4-b35b10f55182>, line 5)",
     "output_type": "error",
     "traceback": [
      "\u001b[0;36m  File \u001b[0;32m\"<ipython-input-4-b35b10f55182>\"\u001b[0;36m, line \u001b[0;32m5\u001b[0m\n\u001b[0;31m    2_data = 7 # no good!\u001b[0m\n\u001b[0m     ^\u001b[0m\n\u001b[0;31mSyntaxError\u001b[0m\u001b[0;31m:\u001b[0m invalid decimal literal\n"
     ]
    }
   ],
   "source": [
    "my_data = 5 # good!\n",
    "my_data2 = 6 # also good!\n",
    "2_data = 7 # no good!"
   ]
  },
  {
   "cell_type": "markdown",
   "metadata": {
    "id": "jf9N9J44SPRA"
   },
   "source": [
    "2.   **Keywords**, like `if`, `while`, `in`, cannot be used as variable names because they are used for other operations. The following shows a list of keywords that cannot be used as variable names:"
   ]
  },
  {
   "cell_type": "code",
   "execution_count": 5,
   "metadata": {
    "colab": {
     "base_uri": "https://localhost:8080/"
    },
    "id": "3gar1f1TSz9a",
    "outputId": "427f7198-b722-4a26-c7f4-243a37c97944"
   },
   "outputs": [
    {
     "name": "stdout",
     "output_type": "stream",
     "text": [
      "['False', 'None', 'True', 'and', 'as', 'assert', 'async', 'await', 'break', 'class', 'continue', 'def', 'del', 'elif', 'else', 'except', 'finally', 'for', 'from', 'global', 'if', 'import', 'in', 'is', 'lambda', 'nonlocal', 'not', 'or', 'pass', 'raise', 'return', 'try', 'while', 'with', 'yield']\n"
     ]
    }
   ],
   "source": [
    "import keyword\n",
    "print(keyword.kwlist)"
   ]
  },
  {
   "cell_type": "markdown",
   "metadata": {
    "id": "ms1HcrPKS7KE"
   },
   "source": [
    "3.   Variables are case sensitive, so the variables `count`, `Count`, and `COUNT` are all unique and can be used simultaneously, though this would not be a best practice since it makes the code harder to read.\n",
    "\n"
   ]
  },
  {
   "cell_type": "code",
   "execution_count": 6,
   "metadata": {
    "colab": {
     "base_uri": "https://localhost:8080/"
    },
    "id": "CG9uY3UKTKRB",
    "outputId": "daba1080-bc71-4fd1-837b-f40757990a38"
   },
   "outputs": [
    {
     "name": "stdout",
     "output_type": "stream",
     "text": [
      "5 6 7\n"
     ]
    }
   ],
   "source": [
    "count = 5\n",
    "Count = 6\n",
    "COUNT = 7\n",
    "print(count, Count, COUNT)"
   ]
  },
  {
   "cell_type": "markdown",
   "metadata": {
    "id": "3_XVSaFEtM6y"
   },
   "source": [
    "## Operators as functions\n",
    "\n",
    "As we've been discussing, **functions** are reusable blocks of code. They take input **arguments** and **return** objects that can be stored in variables and used later.\n",
    "\n",
    "In general, when calling a function and saving its result, it is typed as:\n",
    "\n",
    "```\n",
    "my_function_result = my_function(argument1, argument2)\n",
    "```\n",
    "\n",
    "Here, the Python interpreter sees that `my_function()` has been called with two arguments and it performs some specific task on them which is returned.\n",
    "\n",
    "There are also functions that are represented by single symbols or keywords called **operators**. These operators, when the interpreter encounters them, perform a specific task and return a result. We're already familiar with one operator, the assignment operator **=**.\n",
    "\n",
    "```\n",
    "my_data_point = 12\n",
    "```\n",
    "\n",
    "Here, we've told the program to assign the variable name on the left hand side of the equals sign to the data on the right hand side. We can also use the assignment operator `=` to assign the value of one variable to another variable. This may be useful if you want to store an initial value to compare to later:"
   ]
  },
  {
   "cell_type": "code",
   "execution_count": null,
   "metadata": {
    "id": "TaAicCjS7Xwt"
   },
   "outputs": [],
   "source": [
    "my_data_point = 12\n",
    "my_initial_data = my_data_point\n",
    "print(my_initial_data)"
   ]
  },
  {
   "cell_type": "markdown",
   "metadata": {
    "id": "qt676PG_nzxC"
   },
   "source": [
    "So in a way, operators can be seen as syntactic shortcuts. Instead of having to type something like:\n",
    "\n",
    "```\n",
    "set_equal_to(my_variable, my_data)\n",
    "```\n",
    "\n",
    "We just need to type:\n",
    "\n",
    "```\n",
    "my_variable = my_data\n",
    "```"
   ]
  },
  {
   "cell_type": "markdown",
   "metadata": {
    "id": "ncM98HFc7nP0"
   },
   "source": [
    "### Arithmetic operators for integers\n",
    "\n",
    "There are other operators that, when used with **integers**, perform basic arithmetic functions. These are, somewhat predictably:\n",
    "\n",
    "*   `+` : Add the items on the left and right together\n",
    "*   `-` : Subtract the item on the right from the one on the left\n",
    "*   `*` : Multiply the items on the left and right together\n",
    "*   `/` : Divide (and round) the item on the left by the item on the right\n",
    "\n",
    "Let's take a look at some of these."
   ]
  },
  {
   "cell_type": "code",
   "execution_count": 9,
   "metadata": {
    "colab": {
     "base_uri": "https://localhost:8080/"
    },
    "id": "qs05eOfc8MuS",
    "outputId": "1200bb17-d848-48c1-bcc3-488421bc7c86"
   },
   "outputs": [
    {
     "name": "stdout",
     "output_type": "stream",
     "text": [
      "6\n",
      "2\n",
      "8\n",
      "2.0\n"
     ]
    }
   ],
   "source": [
    "x = 4\n",
    "y = 2\n",
    "\n",
    "print(x + y)\n",
    "print(x - y)\n",
    "print(x * y)\n",
    "print(x / y)"
   ]
  },
  {
   "cell_type": "markdown",
   "metadata": {
    "id": "wCjnJjUu7jui"
   },
   "source": [
    "Here, we've given the `print()` function a single argument: the result of the arithmetic operation, which it then displays.\n",
    "\n",
    "Notice that, for division, we see that it has added a decimal place. It has converted our integers into **floating point** numbers, another numeric data type in Python, to deal with numbers that are not divisible:"
   ]
  },
  {
   "cell_type": "code",
   "execution_count": 8,
   "metadata": {
    "colab": {
     "base_uri": "https://localhost:8080/"
    },
    "id": "oob9w1ez9FC5",
    "outputId": "a280ba63-8680-44fb-93ae-368ee70572b2"
   },
   "outputs": [
    {
     "name": "stdout",
     "output_type": "stream",
     "text": [
      "1.5\n"
     ]
    }
   ],
   "source": [
    "x = 3\n",
    "y = 2\n",
    "\n",
    "print(x / y)"
   ]
  },
  {
   "cell_type": "markdown",
   "metadata": {
    "id": "cmodBDF29UFn"
   },
   "source": [
    "A couple other arithmetic operators are:\n",
    "\n",
    "*   `**` : called the **exponentiation** operator, this raises the number on the left side to the power on the right side\n",
    "*   `%`  : called the **modulo** or **modulus** operator, this divides two numbers and returns the _remainder_ of the division\n",
    "*   `//` : called the **floor division operator, this divides and then rounds down\n",
    "\n",
    "Let's take a look at some examples."
   ]
  },
  {
   "cell_type": "code",
   "execution_count": null,
   "metadata": {
    "id": "uAWDgv1U-MGu"
   },
   "outputs": [],
   "source": [
    "x = 3\n",
    "y = 2\n",
    "\n",
    "print(x ** y)\n",
    "print(x % y)\n",
    "print(x // y)"
   ]
  },
  {
   "cell_type": "markdown",
   "metadata": {
    "id": "hmrtdBwJ-VO0"
   },
   "source": [
    "Remember, when performing 3 / 2 with remainders, the remainder is 1, so `%` returns 1.\n",
    "\n",
    "And without remainders it is 1.5, so `//` also rounds down to 1.\n",
    "\n",
    "#### Order of operations\n",
    "\n",
    "Arithmetic in Python follows the order of operations rules. Maybe you learned this as PEMDAS or something similar: **P**arentheses, **E**xponents, **M**ultiplication/**D**ivision, **A**ddition/**S**ubtraction."
   ]
  },
  {
   "cell_type": "code",
   "execution_count": null,
   "metadata": {
    "id": "AZDbf6UH_cIX"
   },
   "outputs": [],
   "source": [
    "print(1 + 2 * 3)\n",
    "print((1 + 2) * 3)\n",
    "print(\"---\")\n",
    "print(3 ** 2 - 1)\n",
    "print(3 ** (2 - 1))"
   ]
  },
  {
   "cell_type": "markdown",
   "metadata": {
    "id": "X0cCf86s_5xa"
   },
   "source": [
    "### String operators, or why its important to know your data types\n",
    "\n",
    "The above operators are useful for arithmetic on **integers** (or **floats**). However, some operators can also be used on strings."
   ]
  },
  {
   "cell_type": "markdown",
   "metadata": {
    "id": "nl6aKV9yfRzB"
   },
   "source": [
    "#### Concatenate strings with `+`\n",
    "\n",
    "The `+`, operator in particular, can be used to **concatenate**, or combine, strings together."
   ]
  },
  {
   "cell_type": "code",
   "execution_count": null,
   "metadata": {
    "id": "ih4W2uEiGYXt"
   },
   "outputs": [],
   "source": [
    "x = \"hello\"\n",
    "y = \"world\"\n",
    "\n",
    "print(x + y)"
   ]
  },
  {
   "cell_type": "markdown",
   "metadata": {
    "id": "YiPuH0O5GdnA"
   },
   "source": [
    "This can be very useful when formatting strings, either for processing or for output.\n",
    "\n",
    "**Remember, certain functions expect certain data types** (strings or integers). In most cases, if the wrong data type is provided, an error will stop the program, like in our `abs()` example. However, in some cases, functions that accept both data types can produce unexpected results without informing you at all!"
   ]
  },
  {
   "cell_type": "code",
   "execution_count": null,
   "metadata": {
    "id": "XD96NUrIHD3B"
   },
   "outputs": [],
   "source": [
    "important_data_point1 = \"9\"\n",
    "important_data_point2 = \"8\"\n",
    "\n",
    "sum_of_important_data = important_data_point1 + important_data_point2\n",
    "\n",
    "print(\"I'm now showing my professor my important results:\", sum_of_important_data)"
   ]
  },
  {
   "cell_type": "markdown",
   "metadata": {
    "id": "ysx0nseeHa2q"
   },
   "source": [
    "Here, no error is thrown telling you you are concatenating two strings rather than adding together two integers. That's because both things are vaild to do with Python syntax: Python has no way of knowing that you wanted to add these numbers rather than concatenate them - that's up to you to tell it! Remember, every little step of a computer program has to be given, otherwise you will get errors (relatively easy to debug) or **logic errors**, which occur when the program runs, but gives unexpected results, and are generally harder to debug.\n",
    "\n",
    "> **Exercise**: Correct the code so that it accurately prints the sum of the two data points."
   ]
  },
  {
   "cell_type": "code",
   "execution_count": null,
   "metadata": {
    "id": "EvE7rjOea7kc"
   },
   "outputs": [],
   "source": [
    "# Edit and correct the code here\n",
    "important_data_point1 = 9\n",
    "important_data_point2 = 8\n",
    "\n",
    "sum_of_important_data = important_data_point1 + important_data_point2\n",
    "\n",
    "print(\"I'm now showing my professor my important results:\", sum_of_important_data)"
   ]
  },
  {
   "cell_type": "markdown",
   "metadata": {
    "id": "tw6CSvoebINX"
   },
   "source": [
    "Luckily, if we ever try to `+` a string and an integer together, it stops us with an error:"
   ]
  },
  {
   "cell_type": "code",
   "execution_count": null,
   "metadata": {
    "id": "sU6ybE61bSFG"
   },
   "outputs": [],
   "source": [
    "x = \"9\" + 8"
   ]
  },
  {
   "cell_type": "markdown",
   "metadata": {
    "id": "bxj2vGGRmmR4"
   },
   "source": [
    "#### Repeat strings with `*`\n",
    "\n",
    "The other operator that can be used with strings is `*`. This works slightly differently in that it needs a string on the left side and an integer on the right:\n",
    "\n",
    "```\n",
    "my_string * n\n",
    "```\n",
    "\n",
    "Basically, this means \"repeat my_string n times\". Here's an example:"
   ]
  },
  {
   "cell_type": "code",
   "execution_count": null,
   "metadata": {
    "id": "dCDR3gdLnGSf"
   },
   "outputs": [],
   "source": [
    "my_string = \"ha\"\n",
    "repeat_num = 4\n",
    "\n",
    "print(my_string * repeat_num)"
   ]
  },
  {
   "cell_type": "markdown",
   "metadata": {
    "id": "senAKNCwoct7"
   },
   "source": [
    "## Booleans and logical operators\n",
    "\n",
    "So far, we've covered two basic data types: **integers** and **strings** (and we've also touched on **floats**) and described on how you need to be careful when giving data to functions.\n",
    "\n",
    "However, there is another data type inherent to any programming language: the **boolean**. Booleans allow us to construct logical statements or expressions, which are the foundation for any programming task. Logical statements allow us to control the flow of our program, executing some instructions based on the current conditions in the program.\n",
    "\n",
    "Booleans can take only two values: True or False.\n",
    "\n",
    "In a way, booleans represent the most basic input that all computers are built on: is this transistor on (True) or off (False).\n",
    "\n",
    "In Python, booleans are typed as `True` or `False`. Notice the capitalization -- there are no such data types as `true` or `false`."
   ]
  },
  {
   "cell_type": "code",
   "execution_count": null,
   "metadata": {
    "id": "sBBn8mXWpNRj"
   },
   "outputs": [],
   "source": [
    "print(True)\n",
    "print(\"--- print True check ---\")\n",
    "print(true)\n",
    "print(\"--- print true check ---\")"
   ]
  },
  {
   "cell_type": "markdown",
   "metadata": {
    "id": "VSHWaw__pkYV"
   },
   "source": [
    "Here, the boolean `True` is displayed along with the message telling us it has been displayed. However, since the keyword `true` doesn't exist in Python, the error is telling us that it thinks `true` should be a variable that the programmer has put in the program, but it can't find where it is defined.\n",
    "\n",
    "There are other ways to represent Booleans in Python as well. For instance the **integers** `1` and `0` represent `True` and `False`, respectively.\n",
    "\n",
    "In fact, any integer _other than 0_ will return `True` if evaluated as a boolean with the `bool()` function. Likewise, any **string** other than an empty string (represented as quotes with no characters contained in them: `\"\"` or `''`) will return `True` while the empty string will return `False`. Here, let's use the `bool()` function, which takes one argument and returns either `True` or `False`, to confirm."
   ]
  },
  {
   "cell_type": "code",
   "execution_count": 1,
   "metadata": {
    "colab": {
     "base_uri": "https://localhost:8080/"
    },
    "id": "V8mi88mhqQFN",
    "outputId": "2591698c-5e24-411b-822f-b4f522871e4c"
   },
   "outputs": [
    {
     "name": "stdout",
     "output_type": "stream",
     "text": [
      "bool() of a boolean:\n",
      "True\n",
      "---\n",
      "bool() of integers:\n",
      "True\n",
      "False\n",
      "True\n",
      "True\n",
      "---\n",
      "bool() of strings\n",
      "True\n",
      "False\n",
      "False\n",
      "True\n"
     ]
    }
   ],
   "source": [
    "print(\"bool() of a boolean:\")\n",
    "print(bool(True))\n",
    "print(\"---\")\n",
    "\n",
    "print(\"bool() of integers:\")\n",
    "print(bool(1))\n",
    "print(bool(0))\n",
    "print(bool(587348))\n",
    "print(bool(-1))\n",
    "print(\"---\")\n",
    "\n",
    "print(\"bool() of strings\")\n",
    "print(bool(\"Hello\"))\n",
    "print(bool(\"\"))\n",
    "print(bool(''))\n",
    "print(bool(\"0\"))"
   ]
  },
  {
   "cell_type": "markdown",
   "metadata": {
    "id": "hN5Lsto1qcaH"
   },
   "source": [
    "\n",
    "\n",
    "> **Exercise**: What would the following code display to the screen:\n",
    "\n",
    "```\n",
    "print(bool(\"False\"))\n",
    "```\n",
    "\n"
   ]
  },
  {
   "cell_type": "markdown",
   "metadata": {
    "id": "pNzEv57xr9xu"
   },
   "source": [
    "### Logical operators: **and** and **or**\n",
    "\n",
    "Sometimes, we want to test whether a combination of boolean values together evaluate to `True` or `False` in different ways. This allows us to make complex logical conclusions based on the state of variables in our program.\n",
    "\n",
    "We do this with the logical operators **and** and **or**.\n",
    "\n",
    "In both cases, the objects on the left and right of the operator are evaluated as booleans. For **and**, both objects must return `True` in order for the entire expression to be True:"
   ]
  },
  {
   "cell_type": "code",
   "execution_count": null,
   "metadata": {
    "id": "e9xUBU8yDDLb"
   },
   "outputs": [],
   "source": [
    "print(True and True)\n",
    "print(True and False)\n",
    "print(False and False)"
   ]
  },
  {
   "cell_type": "markdown",
   "metadata": {
    "id": "xvG3C9p9DMmi"
   },
   "source": [
    "For **or**, only one of the two booleans must be `True` for the whole expression to be True:"
   ]
  },
  {
   "cell_type": "code",
   "execution_count": null,
   "metadata": {
    "id": "aVpDxAAaDUSv"
   },
   "outputs": [],
   "source": [
    "print(True or True)\n",
    "print(True or False)\n",
    "print(False or False)"
   ]
  },
  {
   "cell_type": "markdown",
   "metadata": {
    "id": "Zb2AnJ38DcMi"
   },
   "source": [
    "Any easy way to see how `and` and `or` work is with truth tables. In a truth table, we fill out all possible values for the variables in the expression and then evaluate each component of the expression. Here, the first two columns are for the variables being compared, A and B, and each row is a combination of values for those variables. The last columns show the result of the logical expression given those values of A and B.\n",
    "\n",
    "A | B | A and B | A or B\n",
    "---- | ---- | ------- | ------\n",
    "T | T | T       | T\n",
    "T | F | F       | T\n",
    "F | T | F       | T\n",
    "F | F | F       | F\n",
    "\n",
    "Remember, almost every object in a program can be evaluated as a Boolean.\n",
    "\n",
    "> **Exercise**: Write the following logical expressions:\n",
    "> 1. One that uses two integers and an `and` operator and returns `True`.\n",
    "> 2. One that uses two integers and an `or` operator and returns `False`.\n",
    "> 3. One that uses an integer and a string with an `and` operator and returns\n",
    "`True`.\n",
    "> 4. One that uses an integer and a string with an `and` operator and returns `False`.\n",
    ">\n",
    "> Use the `bool()` function to interpret the strings and integers as Booleans."
   ]
  },
  {
   "cell_type": "code",
   "execution_count": null,
   "metadata": {
    "id": "csiTsDBkEpYO"
   },
   "outputs": [],
   "source": [
    "# Your code here: Two integers with and that returns True\n",
    "print(1 and bool(573657))\n",
    "\n",
    "# Your code here: Two integers with or that returns False\n",
    "print(bool(0) or bool(0))\n",
    "\n",
    "# Your code here: Integer and string with and that returns True\n",
    "print(bool(235) and bool(\"hello\"))\n",
    "\n",
    "# Your code here: Integer and string with and that returns True\n",
    "print(bool(0) and bool(\"\"))"
   ]
  },
  {
   "cell_type": "markdown",
   "metadata": {
    "id": "X65c6yWmFdKs"
   },
   "source": [
    "#### Complex logical statements and order of operations\n",
    "\n",
    "Using `and` and `or`, we can evaluate multiple boolean values."
   ]
  },
  {
   "cell_type": "code",
   "execution_count": null,
   "metadata": {
    "id": "gbMMNzQGFreU"
   },
   "outputs": [],
   "source": [
    "print(True or True and False)"
   ]
  },
  {
   "cell_type": "markdown",
   "metadata": {
    "id": "H_6Tr4_GFz6-"
   },
   "source": [
    "This statement returns `True`. Logical statements have their own order of operations, with **`and` taking precedence over `or`**. Given that, let's break the statement down.\n",
    "\n",
    "1. We read the `and` comparison first. `True and False` evaluates to `False` - both sides of an `and` need to be True.\n",
    "2. Given that, the expression reduces to `True or False`, which evaluates to `True` since only one side of an `or` statement needs to be True. This means the entire expression results in `True`.\n",
    "\n",
    "The order of operations can be made more explicit with parentheses."
   ]
  },
  {
   "cell_type": "code",
   "execution_count": null,
   "metadata": {
    "id": "vRM7yZI2IioZ"
   },
   "outputs": [],
   "source": [
    "print(True or (True and False))"
   ]
  },
  {
   "cell_type": "markdown",
   "metadata": {
    "id": "k3vwzqsAIlwd"
   },
   "source": [
    "This is the exact same logical expression as the one above, but we've added the parentheses to make things a little bit easier for us to parse. In logical expressions, **parentheses also affect the order of operations** as they do in mathematical expressions: they take precedence over anything else. In that way, we can change the result of this expression by moving the parentheses."
   ]
  },
  {
   "cell_type": "code",
   "execution_count": null,
   "metadata": {
    "id": "9hIy2tkZI-9j"
   },
   "outputs": [],
   "source": [
    "print((True or True) and False)"
   ]
  },
  {
   "cell_type": "markdown",
   "metadata": {
    "id": "gzZSDKebJCUT"
   },
   "source": [
    "Here, the parentheses tell Python to evaluate whatever is inside them first. Now the statement breaks down as:\n",
    "\n",
    "1. We read the expression in the parentheses first. `True or True` evaluates to `True` since only one side of an `or` needs to be True for the entire expression to be True (here both sides are True, which doesn't matter for `or`).\n",
    "2. Given that, the expression reduces to `True and False`. For `and` both sides need to be `True` for the expression to be True, and that isn't the case here, so the expression is `False`.\n",
    "\n",
    "Let's summarize the **order of operations** for logical expressions:\n",
    "\n",
    "1. Evaluate parentheses\n",
    "2. Evaluate `and`\n",
    "3. Evaluate `or`\n",
    "4. If there are multiple similar statements in a row without parentheses, for example `True or True or True`, simply read them left to right.\n",
    "\n",
    "\n",
    "\n"
   ]
  },
  {
   "cell_type": "markdown",
   "metadata": {
    "id": "E-m7LCHemckl"
   },
   "source": [
    "Let's practice reading some more complex logical expressions.\n",
    "\n",
    "> **Exercise**: In the code block below, first type what you think the result of each logical expression will be as a comment (just add `#` to the beginning of the line). Then, print them out to see if you were correct.\n",
    "> 1.   False or False and True\n",
    "> 2.   (False or False) and True\n",
    "> 3.   True and True or False and False\n",
    "> 4.   True and (True or False) and False\n",
    "> 5.   False or False or False or False or True or False"
   ]
  },
  {
   "cell_type": "code",
   "execution_count": 2,
   "metadata": {
    "colab": {
     "base_uri": "https://localhost:8080/"
    },
    "id": "R0oBgt4zLFdb",
    "outputId": "701af5e2-db2c-47cc-e802-1bdb595639b8"
   },
   "outputs": [
    {
     "name": "stdout",
     "output_type": "stream",
     "text": [
      "False\n",
      "False\n",
      "True\n",
      "False\n",
      "True\n"
     ]
    }
   ],
   "source": [
    "# 1. Your answer here:\n",
    "# 1. Your code here\n",
    "print(False or False and True)\n",
    "\n",
    "# 2. Your answer here:\n",
    "# 2. Your code here\n",
    "print((False or False) and True)\n",
    "\n",
    "# 3. Your answer here:\n",
    "# 3. Your code here\n",
    "print(True and True or False and False)\n",
    "\n",
    "# 4. Your answer here:\n",
    "# 4. Your code here for\n",
    "print(True and (True or False) and False)\n",
    "\n",
    "# 5. Your answer here:\n",
    "# 5. Your code here for\n",
    "print(False or False or False or False or True or False)"
   ]
  },
  {
   "cell_type": "markdown",
   "metadata": {
    "id": "bzWuJdM_Yx7a"
   },
   "source": [
    "### Negation operator: `not`\n",
    "\n",
    "The result of any logical expression can be inverted with the **`not`** operator."
   ]
  },
  {
   "cell_type": "code",
   "execution_count": null,
   "metadata": {
    "id": "-jSSb11GZFYe"
   },
   "outputs": [],
   "source": [
    "print(not True)\n",
    "print(not False)\n",
    "print(not False or False or False or False or True or False)"
   ]
  },
  {
   "cell_type": "markdown",
   "metadata": {
    "id": "BpGtSRnmZgQd"
   },
   "source": [
    "Note that `not` works on individual parts of a logical expression, not the entire thing. So, `False or True` returns `True` and `not False or True` also returns `True`. This is because the `not` is only negating the first `False`, essentially making the statement `True or True`. To negate chunks of an expression, use parentheses. `not (False or True)` will indeed return `False`, since the expression itself is `True` and we are negating the whole thing."
   ]
  },
  {
   "cell_type": "code",
   "execution_count": null,
   "metadata": {
    "id": "HN3zb_DAaB6v"
   },
   "outputs": [],
   "source": [
    "print(False or True)\n",
    "print(not False or True)\n",
    "print(not (False or True))"
   ]
  },
  {
   "cell_type": "markdown",
   "metadata": {
    "id": "Xev4LQpMe3-X"
   },
   "source": [
    "> **Exercise:** Fill out the following truth table. We will go from left to right. Double click on the table to edit."
   ]
  },
  {
   "cell_type": "markdown",
   "metadata": {
    "id": "u_FyxSc1e_hP"
   },
   "source": [
    "A | B | A and B | not B | A and not B | A and B or A and not B | A and (B or A) and not B |\n",
    "--- | --- | ------- | ----- | ----------- | ---------------------- | ------------- |\n",
    "T | T |    T    |   F   |      F      |           T            |        F\n",
    "T | F |    F    |   T   |      T      |           T            |        T\n",
    "F | T |    F    |   F   |      F      |           F            |        F\n",
    "F | F |    F    |   T   |      F      |           F            |        F"
   ]
  },
  {
   "cell_type": "markdown",
   "metadata": {
    "id": "nOh2evIafBLG"
   },
   "source": [
    "What do you notice about the second to last column of the truth table representing the full expression?"
   ]
  },
  {
   "cell_type": "markdown",
   "metadata": {
    "id": "IlIIuKITNzov"
   },
   "source": [
    "### Comparison operators for integers\n",
    "\n",
    "One can also compare two objects in Python and return a boolean value, either `True` or `False`. Doing this can help the program make decisions about the next instructions to execute, based on how it has been programmed.\n",
    "\n",
    "In order to compare two numbers and return either a `True` or `False` boolean value, there are several operators one can use depending on the situation. These will all seem relatively familiar based on how they are used in arithmetic.\n",
    "\n",
    "*   `>` : Greater than. Returns `True` if the number on the left is larger than the number on the right. Returns `False` otherwise.\n",
    "*   `>=` : Greater than or equal to. Returns `True` if the number on the left is larger or the same as the number on the right. Returns `False` otherwise.\n",
    "*   `<` : Less than. Returns `True` if the number on the left is smaller than the number on the right. Returns `False` otherwise.\n",
    "*   `<=` : Less than or equal to. Returns `True` if the number on the left is smaller or the same as the number on the right. Returns `False` otherwise.\n",
    "*   `==` : Is equal to. Returns `True` if the numbers on the left and the right are the same. Returns `False` otherwise.\n",
    "*   `!=` : Is not equal to. Returns `True` if the numbers on the left and right are different. Returns `False` otherwise (i.e. if they are the same).\n",
    "\n",
    "Here are some examples."
   ]
  },
  {
   "cell_type": "code",
   "execution_count": null,
   "metadata": {
    "id": "T2ulqUePQKWo"
   },
   "outputs": [],
   "source": [
    "print(8 > 9)\n",
    "print(9 > 9)\n",
    "print(9 >= 9)\n",
    "print(8 != 9)\n"
   ]
  },
  {
   "cell_type": "markdown",
   "metadata": {
    "id": "90NYBl1KQbiN"
   },
   "source": [
    "### `=` vs. `==`\n",
    "\n",
    "Recall that a single equals sign, `=`, is our **assignment operator** that assigns the value of the variable to the left of it the value to the right of it. Here we've learned that the double equals sign, `==`, is the **equality operator** that compares the values on the right and left and returns either `True` if the values are the same or `False` otherwise.\n",
    "\n",
    "**A common point of confusion is the difference between `=` and `==`, and when to use either one**.\n",
    "\n",
    "Remember:\n",
    "\n",
    "*   Use `=` if you are assigning a value to a variable\n",
    "*   Use `==` if you are comparing two values\n"
   ]
  },
  {
   "cell_type": "code",
   "execution_count": null,
   "metadata": {
    "id": "Ofhl9gGiRT9o"
   },
   "outputs": [],
   "source": [
    "my_int = 5\n",
    "\n",
    "print(my_int == 5)\n",
    "print(my_int == 4)\n",
    "\n",
    "print(\"---\")\n",
    "\n",
    "my_int = 4\n",
    "print(my_int == 5)\n",
    "print(my_int == 4)\n",
    "\n",
    "print(my_int)"
   ]
  },
  {
   "cell_type": "markdown",
   "metadata": {
    "id": "f2YEbONkRnig"
   },
   "source": [
    "\n",
    "\n",
    "> **Exercise**: In the code block below, do the following:\n",
    "> 1.   Assign any integer value to a variable called my_int1\n",
    "> 2.   Assign any other integer value to a variable called my_int2\n",
    "> 3.   Use a comparison to print out whether the two numbers are equal."
   ]
  },
  {
   "cell_type": "code",
   "execution_count": null,
   "metadata": {
    "id": "_VBX_xAmR-Qy"
   },
   "outputs": [],
   "source": [
    "# Your code here: Assign any two integers to variables my_int1 and my_int2\n",
    "my_int1 = 5\n",
    "my_int2 = 5\n",
    "\n",
    "# Your code here: Print out whether the integers stored in your variables are equal to each other\n",
    "print(my_int1 == my_int2)\n"
   ]
  },
  {
   "cell_type": "markdown",
   "metadata": {
    "id": "G01SqzrzSRoH"
   },
   "source": [
    "### Comparison operators and strings\n",
    "\n",
    "All of the above comparison operators also work for strings, but with the exception of `==` and `!=`, we won't be learning about them. These two, however, work as follows for strings:\n",
    "\n",
    "*   `==` : Returns `True` if the strings are identical. Returns `False` otherwise.\n",
    "*   `!=` : Returns `True` if the two strings are different. Returns `False` otherwise.\n",
    "\n",
    "For example:"
   ]
  },
  {
   "cell_type": "code",
   "execution_count": null,
   "metadata": {
    "id": "OEgeK1p0S5A-"
   },
   "outputs": [],
   "source": [
    "print(\"Hello\" == \"Hello\")\n",
    "print(\"robot\" == \"cookies\")\n",
    "print(\"robot\" != \"cookies\")"
   ]
  },
  {
   "cell_type": "markdown",
   "metadata": {
    "id": "06_1vNA6TCFq"
   },
   "source": [
    "Importantly, case matters for these comparisons:"
   ]
  },
  {
   "cell_type": "code",
   "execution_count": null,
   "metadata": {
    "id": "pRrWJbPtTFL4"
   },
   "outputs": [],
   "source": [
    "print(\"Hello\" == \"hello\")"
   ]
  },
  {
   "cell_type": "markdown",
   "metadata": {
    "id": "kWeKYQeGiJPj"
   },
   "source": [
    "Like we said above, the other operators (e.g. `>`, `<=`, etc.) do indeed work on strings, but that use-case is not common for most programmers."
   ]
  },
  {
   "cell_type": "markdown",
   "metadata": {
    "id": "iV7949jUVIJX"
   },
   "source": [
    "### The inclusion operator for strings: `in`\n",
    "\n",
    "The final operator we'll be learning about is the **inclusion**, or **membership**, operator for strings, `in`. It works as follows:\n",
    "\n",
    "*   `in` : The inclusion operator for strings. Returns `True` if the string on the left is contained within (is a sub-string of) the string on the right. Returns `False` otherwise.\n"
   ]
  },
  {
   "cell_type": "code",
   "execution_count": null,
   "metadata": {
    "id": "UwRbLp5nWg5c"
   },
   "outputs": [],
   "source": [
    "print(\"lo\" in \"hello\")\n",
    "print(\"cookies\" in \"robot\")"
   ]
  },
  {
   "cell_type": "markdown",
   "metadata": {
    "id": "b_azcvhQWnyq"
   },
   "source": [
    "Checking for exact sub-strings with `in` is the most basic of pattern matching, which is extremely useful in programming."
   ]
  },
  {
   "cell_type": "markdown",
   "metadata": {
    "id": "DP9crEKFb8om"
   },
   "source": [
    "## Review\n",
    "\n",
    "So far, we've learned a few main things:\n",
    "\n",
    "1. Functions are little sub-recipes of code that perform specific tasks given the appropriate input. They are usually typed as `function_name(input1, input2, ...)`.\n",
    "2. Operators (e.g. `+`, `and`) can be thought of as special functions that instead take input based on what is place on either side of them.\n",
    "3. Different data types exist in programming, notably **integers** and **strings** in Python. **Functions and operators may only work for a given data type**.\n",
    "4. Complex logical statements can be constructed with **boolean** values (`True`, `False`) and the associated operators (e.g. `>`, `not`, `in`). Again, some of these operators only work for specific data types.\n",
    "\n",
    "These concepts form the basis of programming in any language (though the syntax will vary), however one cannot make more than very simple programs using these types of instructions alone.\n",
    "\n",
    "In order to write complex programs that take these basic concepts and allow them to be executed based on the **conditions** of the data within a program, and to automate the **repetition** of certain instructions, we need to learn the syntax that allows us to control the flow of the program."
   ]
  },
  {
   "cell_type": "markdown",
   "metadata": {
    "id": "vE8WBsASD4Ni"
   },
   "source": [
    "### Operators table\n",
    "\n",
    "Here is a table summarizing how the various operators we've learned about can be used on different data types:\n",
    "\n",
    "Operator | Strings | Integers/floats | Boolean |\n",
    "-------- | ------- | --------------- | ------- |\n",
    "`=`      | Assigns a string to a variable name | Assigns a number to a variable name | Assigns a boolean to a variable name |\n",
    "`+`      | Concatenate (combine) strings | Add two numbers | *NA* |\n",
    "`-`      | *NA* | Subtract two numbers | *NA* |\n",
    "`*`      | Repeat a string N times, where N is an integer | Multiply two numbers | *NA* |\n",
    "`/`      | *NA* | Divide two numbers, returning a decimal | *NA* |\n",
    "`**`     | *NA* | Exponentiation (raise to the power of) | *NA* |\n",
    "`//`     | *NA* | Divide two numbers, rounding down to return an integer | *NA* |\n",
    "`%`      | *NA* | Divide two numbers, returning the remainder as an integer | *NA* |\n",
    "`in`     | Checks if one string is contained in another, returning a boolean | *NA* | *NA* |\n",
    "`and`    | *NA* | *NA* | Returns `True` if both conditions are `True`, otherwise `False` |\n",
    "`or`     | *NA* | *NA* | Returns `True` if at least one condition is `True`, otherwise `False` |\n",
    "`not`    | *NA* | *NA* | Negates a boolean (e.g. returns `True` if `False` is input and vice versa) |\n",
    "`==`     | Compares 2 strings and returns `True` if they are identical, `False` otherwise | Compares two numbers and returns `True` if they are identical, `False` otherwise | Compares two booleans and returns `True` if they are identical, `False` otherwise |\n",
    "`!=` | Returns `True` if two strings are **not** identical, `False` otherwise | Returns `True` if two numbers are **not** identical, `False` otherwise | Returns `True` if two booleans are **not** identical, `False` otherwise |"
   ]
  },
  {
   "cell_type": "markdown",
   "metadata": {
    "id": "hRkS3wbCWKrf"
   },
   "source": [
    "## Control Flow"
   ]
  },
  {
   "cell_type": "markdown",
   "metadata": {
    "id": "Vg3fE22MeCb5"
   },
   "source": [
    "### Conditional statements\n",
    "\n",
    "Let's recall the recipe to get a robot to bake us some chocolate chip cookies. We left our recipe in this state:\n",
    "\n",
    "```\n",
    "  1. Walk_anywhere(distance=2 and angle=40).\n",
    "  2. Extend your arm towards the power button.\n",
    "  3. Push the power button.\n",
    "  4. Move your arm to the temperature dial.\n",
    "  5. Set the temperature dial to 375°F (190°C).\n",
    "  6. Lower your arm.\n",
    "  7. Walk_anywhere(distance=0.6 and angle=120).\n",
    "  8. Extend your arm.\n",
    "  9. Grasp the cabinet handle.\n",
    "  10. Pull the cabinet open.\n",
    "  11. Release the cabinet handle.\n",
    "  12. Extend both arms toward the large mixing bowl on the shelf.\n",
    "  13. Grasp the mixing bowl with both hands.\n",
    "  .\n",
    "  .\n",
    "  .\n",
    "  and so on.\n",
    "```\n",
    "\n",
    "We also had these other recipes in our recipe book that the robot could look up everytime it saw them in our main recipe:\n",
    "\n",
    "```\n",
    "Step:\n",
    "  1. Lift right leg.\n",
    "  2. Extend right leg.\n",
    "  3. Lower right leg and lift left leg.\n",
    "  4. Extend left leg.\n",
    "  5. Lower left leg and lift right leg.\n",
    "\n",
    "Walk_anywhere(*distance*, *angle*):\n",
    "  1. Turn body *angle* degrees\n",
    "  2. Repeat Step until the *distance* has been traversed\n",
    "```\n",
    "\n",
    "We now know that these sub-recipes are called **functions**.\n",
    "\n",
    "In our main recipe, we've called `Walk_anywhere()` twice, first to get the robot to the oven, then to get to the cabinet.\n",
    "\n",
    "But, what if before it starts baking the cookies, the robot is already standing at the oven? While we could call `Walk_anywhere(distance=0, angle=0)`, it would be kind of pointless, and it may waste valuable time - those few seconds it takes us to lookup the `Walk_anywhere()` recipe only to have to immediately flip back to the main recipe are going to delay us from our cookies.\n",
    "\n",
    "This is a perfect situation to check the **conditions** of our program, and only execute the `Walk_anywhere()` function if certain conditions are True (or not True, depending on the context).\n",
    "\n",
    "In order to do this, we need one more piece of information in our recipe: our current location. Then our recipe may look like this:\n",
    "\n",
    "```\n",
    "  The current location is in front of the oven.\n",
    "\n",
    "  1. If we aren't at our oven, Walk_anywhere(distance=2 and angle=40).\n",
    "  2. Extend your arm towards the power button.\n",
    "  3. Push the power button.\n",
    "  .\n",
    "  .\n",
    "  .\n",
    "  and so on.\n",
    "```\n",
    "\n",
    "Now, we've given the robot's location and we've said in step 1, only execute `Walk_anywhere()` **if** is isn't already at our oven. Now our robot knows not to bother looking up and running `Walk_anywhere()` in this case. We could change the location accordingly in the recipe and the robot would know whether or not it needed to `Walk_anywhere()`. For instance:\n",
    "\n",
    "```\n",
    "  The current location is in the living room.\n",
    "\n",
    "  1. If we aren't at our oven, Walk_anywhere(distance=2 and angle=40).\n",
    "  2. Extend your arm towards the power button.\n",
    "  3. Push the power button.\n",
    "  .\n",
    "  .\n",
    "  .\n",
    "  and so on.\n",
    "```\n",
    "\n",
    "We can make our pseudocode look a little bit more programmatic by doing the following:\n",
    "1. Make the current location a string variable using the `=` asignment operator.\n",
    "2. In the conditional **if statement**, use a logical comparison between strings.\n",
    "\n",
    "```\n",
    "  current_location = \"living room\"\n",
    "\n",
    "  1. If current_location != \"oven\", Walk_anywhere(distance=2 and angle=40).\n",
    "  2. Extend your arm towards the power button.\n",
    "  3. Push the power button.\n",
    "  .\n",
    "  .\n",
    "  .\n",
    "  and so on.\n",
    "```\n",
    "\n",
    "We of course would also have to update the `distance` and `angle` arguments in our function call to be dependent on the `current_location`, but we can ignore that for now.\n",
    "\n",
    "> **Exercise**: Imagine you are programming a robot to navigate a maze. You know that this maze can be navigated by following the \"right hand rule\", which is to always keep your right hand on the wall. The robot can move or look in four directions: up, down, left, and right. How would you give the robot instructions to navigate the maze? Write pseudocode for this robot navigating the maze."
   ]
  },
  {
   "cell_type": "markdown",
   "metadata": {
    "id": "PLDBKcCIaaLf"
   },
   "source": [
    "\n",
    "```\n",
    "Look to the right:\n",
    "    If there is a wall:\n",
    "        Try to Move Forward\n",
    "        If you can't move forward:\n",
    "            Turn Left\n",
    "    Else:\n",
    "        Turn right\n",
    "        Move Forward\n",
    "```"
   ]
  },
  {
   "cell_type": "markdown",
   "metadata": {
    "id": "NsKH_ts8lmk-"
   },
   "source": [
    "#### `if` statements and code blocks\n",
    "\n",
    "What we described above are called **conditional statements**. In Python (and many other programming languages), these are denoted by the keyword `if`. Following `if` is a logical expression, and if that expression returns `True`, the code *within* the if statement will be executed. If it is not `True`, the code will be skipped and the subsequent lines of code will executed. Together, the `if` keyword and the logical expression are called an **if statement**.\n",
    "\n",
    "We mention code *within* an if statement. What does that mean? When programming, separate parts of code are broken up into chunks, or **blocks** of code. Different languages handle the denotion of blocks of code in different ways. **For Python, blocks of code are indicated by indented text**, either using tabs or spaces (though you must be consistent throughout your code).\n",
    "\n",
    "For example:"
   ]
  },
  {
   "cell_type": "code",
   "execution_count": null,
   "metadata": {
    "id": "r9vY4W7UEkCu"
   },
   "outputs": [],
   "source": [
    "x = 5\n",
    "\n",
    "if x < 10:\n",
    "  print(\"The number is smaller than 10\")\n",
    "  # code to execute if condition is true\n",
    "  # this part is indented\n",
    "\n",
    "print(\"Done.\")"
   ]
  },
  {
   "cell_type": "markdown",
   "metadata": {
    "id": "Ks8SLx9KEuak"
   },
   "source": [
    "Here, we have set the value of `x` to be 5, then used the keyword `if` along with a logical expression (`x < 10`). Since the logical expression evaluates to `True`, the indented code block is executed.\n",
    "\n",
    "Code blocks can be more than one line. After an **if statement** that returns `True`, every subsequent line that is indented one more level than the **if statement** itself will be executed."
   ]
  },
  {
   "cell_type": "code",
   "execution_count": null,
   "metadata": {
    "id": "qdO-ZYMoFG6R"
   },
   "outputs": [],
   "source": [
    "x = 5\n",
    "\n",
    "if x < 10:\n",
    "  print(\"Your number is\", x)\n",
    "  print(\"The number is smaller than 10\")\n",
    "\n",
    "print(\"Done.\")"
   ]
  },
  {
   "cell_type": "markdown",
   "metadata": {
    "id": "I8q1G8m6GAlf"
   },
   "source": [
    "This indentation syntax is required by Python, as that is how it knows which instructions to execute after an if statement. If the indentation is incorrect, you will see an error, such as the following:"
   ]
  },
  {
   "cell_type": "code",
   "execution_count": null,
   "metadata": {
    "id": "1CxbwdZfGQLW"
   },
   "outputs": [],
   "source": [
    "x = 5\n",
    "\n",
    "if x < 10:\n",
    "print(\"Your number is\", x)\n",
    "print(\"The number is smaller than 10\")\n",
    "\n",
    "print(\"Done.\")"
   ]
  },
  {
   "cell_type": "code",
   "execution_count": null,
   "metadata": {
    "id": "oVT1cMNAGKzZ"
   },
   "outputs": [],
   "source": [
    "x = 5\n",
    "\n",
    "if x < 10:\n",
    "  print(\"Your number is\", x)\n",
    "    print(\"The number is smaller than 10\")\n",
    "\n",
    "print(\"Done.\")"
   ]
  },
  {
   "cell_type": "markdown",
   "metadata": {
    "id": "1pUCitm3G0sI"
   },
   "source": [
    "In addition to syntax errors, which Python will catch, mis-placed indentation can also lead to **logic errors**, where the code will run, but with unexpected results.\n",
    "\n",
    "Here, we will change the value of `x` so that the if statement is no longer `True`, but we will make a mistake with our indentation."
   ]
  },
  {
   "cell_type": "code",
   "execution_count": null,
   "metadata": {
    "id": "AIf7fZZwHI3Z"
   },
   "outputs": [],
   "source": [
    "x = 12\n",
    "\n",
    "if x < 10:\n",
    "  print(\"Your number is\", x)\n",
    "print(\"The number is smaller than 10\")\n",
    "\n",
    "print(\"Done.\")"
   ]
  },
  {
   "cell_type": "markdown",
   "metadata": {
    "id": "GYgGqAYBHNTM"
   },
   "source": [
    "In this case, the program is telling us that our number is smaller than 10, even though it is clearly not. This is because the second `print()` statement is not indented to be included in the if statement, rather it is part of the outer code block that will be executed regardless of the result of the if statement.\n",
    "\n",
    "Remember, the computer doesn't know what you intend with your program. It will run according to its rules, so you have to be explicit with your instructions, in this case with indentation."
   ]
  },
  {
   "cell_type": "markdown",
   "metadata": {
    "id": "h_qoijT1FXuU"
   },
   "source": [
    "Also note the colon character, `:`, after the `if` keyword and logical expression. This is also syntactically required by Python after any if statement. Without it, you will see an error:"
   ]
  },
  {
   "cell_type": "code",
   "execution_count": null,
   "metadata": {
    "id": "h87nd98kGnFr"
   },
   "outputs": [],
   "source": [
    "x = 5\n",
    "\n",
    "if x < 10\n",
    "  print(\"Your number is\", x)\n",
    "  print(\"The number is smaller than 10\")\n",
    "\n",
    "print(\"Done.\")"
   ]
  },
  {
   "cell_type": "markdown",
   "metadata": {
    "id": "Lrb1rzUrHy-v"
   },
   "source": [
    "> **Exercise**: Pick a message and store it as a string. Print the message only if the string has at least 10 characters. This will require you to use the built-in `len()` function that we learned about before."
   ]
  },
  {
   "cell_type": "code",
   "execution_count": null,
   "metadata": {
    "id": "BVLklUv6HyZN"
   },
   "outputs": [],
   "source": [
    "# Your code here\n",
    "my_msg = \"the quick brown fox jumped over the lazy dog\"\n",
    "my_msg_length = len(my_msg)\n",
    "\n",
    "if my_msg_length > 10:\n",
    "  print(\"'\", my_msg, \"' has\", my_msg_length, \"characters.\")\n",
    "  print(\"This is more than 10 characters.\")\n",
    "\n",
    "print(\"Done.\")"
   ]
  },
  {
   "cell_type": "markdown",
   "metadata": {
    "id": "Yu8DL0sNMQ50"
   },
   "source": [
    "#### `elif` and `else`\n",
    "\n",
    "**if statements** are extremely powerful. They essentially let us change the instructions in our program given various inputs to it.\n",
    "\n",
    "However, two other keywords, **`elif`** and **`else`**, give us even more control over the flow of our program.\n",
    "\n",
    "Let's talk about `else` first. `else` essentially provides an alternative block of code to be run if an `if` statement is `False`. `else` does not require a logical expression of its own, rather it uses the same one in the preceding `if` statement.\n",
    "\n",
    "*   `else` : Used after an `if` statement. The block of code within `else` will be executed only if the condition in the if statement is `False`.\n",
    "\n",
    "\n"
   ]
  },
  {
   "cell_type": "code",
   "execution_count": null,
   "metadata": {
    "id": "qvR6QOkeNSAH"
   },
   "outputs": [],
   "source": [
    "x = 12\n",
    "\n",
    "print(\"Your number is\", x)\n",
    "\n",
    "if x < 10:\n",
    "  print(\"The number is smaller than 10\")\n",
    "else:\n",
    "  print(\"The number is equal to or larger than 10\")\n",
    "\n",
    "print(\"Done.\")"
   ]
  },
  {
   "cell_type": "markdown",
   "metadata": {
    "id": "k1udN2yGNrW9"
   },
   "source": [
    "So here, the value of `x` is set to 12. Then we evaluate the expression `x < 10`. This returns `False`, so the code within the if statement is skipped. However, since the **next unindented line of code** after the if statment is `else:` (again note the required colon `:`), we instead execute the code within the **else statement**, again denoted by indentation.\n",
    "\n",
    "**`else` must always follow a block of code from an `if` statement!**. `else` will not work if it is before the `if`, because Python reads the file from top-to-bottom:"
   ]
  },
  {
   "cell_type": "code",
   "execution_count": null,
   "metadata": {
    "id": "W8KoMbF5ObiD"
   },
   "outputs": [],
   "source": [
    "x = 12\n",
    "\n",
    "print(\"Your number is\", x)\n",
    "\n",
    "else:\n",
    "  print(\"The number is equal to or larger than 10\")\n",
    "if x < 10:\n",
    "  print(\"The number is smaller than 10\")\n",
    "\n",
    "\n",
    "print(\"Done.\")"
   ]
  },
  {
   "cell_type": "markdown",
   "metadata": {
    "id": "YC63-z6VOgbx"
   },
   "source": [
    "`else` will also not work on its own, because it has no logical expression to evaluate:"
   ]
  },
  {
   "cell_type": "code",
   "execution_count": null,
   "metadata": {
    "id": "-8S8GYCCOnKI"
   },
   "outputs": [],
   "source": [
    "x = 12\n",
    "\n",
    "print(\"Your number is\", x)\n",
    "\n",
    "else:\n",
    "  print(\"The number is equal to or larger than 10\")\n",
    "\n",
    "print(\"Done.\")"
   ]
  },
  {
   "cell_type": "markdown",
   "metadata": {
    "id": "cX1hTkgaPCnn"
   },
   "source": [
    "\n",
    "\n",
    "> **Exercise**: Debug the following code so the code block runs without error.\n",
    "\n"
   ]
  },
  {
   "cell_type": "code",
   "execution_count": null,
   "metadata": {
    "id": "CrdZUfIjPR0Z"
   },
   "outputs": [],
   "source": [
    "## Debug this code\n",
    "x = 12\n",
    "\n",
    "print(\"Your number is\", x)\n",
    "\n",
    "if x < 10:\n",
    "  print(\"The number is smaller than 10\")\n",
    "print(\"You will have to find a larger number.\")\n",
    "else:\n",
    "  print(\"The number is equal to or larger than 10\")\n",
    "\n",
    "print(\"Done.\")"
   ]
  },
  {
   "cell_type": "markdown",
   "metadata": {
    "id": "gsv2IEB-R9V7"
   },
   "source": [
    "`elif` is also used in conjunction with `if`, but unlike `else`, elif allows us to test another condition. Like `if`, the keyword `elif` is typed followed by the logical statement to evaluate. If *that* statement evaluates to `True`, the code within the `elif` statement is executed. It is important to know that **`elif`'s logical expression will only be evaluated if the `if` statement was `False`**. This structure essentially allows us to test alternate conditions in sequence."
   ]
  },
  {
   "cell_type": "code",
   "execution_count": null,
   "metadata": {
    "id": "kOtj38MsSnZo"
   },
   "outputs": [],
   "source": [
    "x = 12\n",
    "\n",
    "print(\"Your number is\", x)\n",
    "\n",
    "if x < 10:\n",
    "  print(\"The number is smaller than 10\")\n",
    "elif x < 20:\n",
    "  print(\"The number is larger than 10 but smaller than 20\")\n",
    "else:\n",
    "  print(\"The number is equal to or larger than 20\")\n",
    "\n",
    "print(\"Done.\")"
   ]
  },
  {
   "cell_type": "markdown",
   "metadata": {
    "id": "IK270UVhS23a"
   },
   "source": [
    "In this case, with `x` being 12, the logical statement in the if statement is tested first. Since `x < 10` is `False`, now the logical statement in the `elif` statement is evaluated, skipping the code within the if statement (indented under it). Since `x < 20` is `True` in this case, the code enters the `elif` block and executes the instructions to print a message. Then, since **none of the above conditions were `False`, the `else` statement is ignored**.\n",
    "\n",
    "Again, note the colon `:` character which is required after any conditional statement.\n",
    "\n",
    "You can use any number of `elif` statements in a row (as long as they follow an initial `if` statement)."
   ]
  },
  {
   "cell_type": "code",
   "execution_count": null,
   "metadata": {
    "id": "LVCgDAvxTrPE"
   },
   "outputs": [],
   "source": [
    "x = 16\n",
    "\n",
    "print(\"Your number is\", x)\n",
    "\n",
    "if x < 10:\n",
    "  print(\"The number is smaller than 10\")\n",
    "elif x < 15:\n",
    "  print(\"The number is larger than 10 but smaller than 15\")\n",
    "elif x < 20:\n",
    "  print(\"The number is larger than 15 but smaller than 20\")\n",
    "else:\n",
    "  print(\"The number is equal to or larger than 20\")\n",
    "\n",
    "print(\"Done.\")"
   ]
  },
  {
   "cell_type": "markdown",
   "metadata": {
    "id": "soiy2dgdY3R2"
   },
   "source": [
    "#### More complex conditional statements\n",
    "\n",
    "And remember, logical statements can be more complex using the `and` and `or` operators."
   ]
  },
  {
   "cell_type": "code",
   "execution_count": null,
   "metadata": {
    "id": "r2MfO-4zY-dh"
   },
   "outputs": [],
   "source": [
    "temperature = 72\n",
    "weather = \"rainy\"\n",
    "\n",
    "print(\"The temperature is\", temperature, \"degrees Fahrenheit and the weather is\", weather + \".\")\n",
    "\n",
    "if temperature <= 32 and weather == \"snowy\":\n",
    "  print(\"Wear a heavy coat and snow boots.\")\n",
    "elif temperature > 32 and weather == \"rainy\":\n",
    "  print(\"Wear a raincoat and boots.\")\n",
    "else:\n",
    "  print(\"Your guess is as good as mine!\")"
   ]
  },
  {
   "cell_type": "markdown",
   "metadata": {
    "id": "4C1CkADtZXLH"
   },
   "source": [
    "Here, our very basic weather bot checks a couple of conditions based on the temperature and precipiation and gives clothing recommendations. Obviously, there are many more combinations of temperature and weather we could test.\n",
    "\n",
    "> **Exercise**: Add another `elif` statement that checks any other combination of conditions and gives a recommendation."
   ]
  },
  {
   "cell_type": "code",
   "execution_count": null,
   "metadata": {
    "id": "e6oCNPlLbnT5"
   },
   "outputs": [],
   "source": [
    "temperature = 72\n",
    "weather = \"rainy\"\n",
    "\n",
    "print(\"The temperature is\", temperature, \"degrees Fahrenheit and the weather is\", weather + \".\")\n",
    "\n",
    "if temperature <= 32 and weather == \"snowy\":\n",
    "  print(\"Wear a heavy coat and snow boots.\")\n",
    "elif temperature > 32 and weather == \"rainy\":\n",
    "  print(\"Wear a raincoat and boots.\")\n",
    "\n",
    "# Add your elif here\n",
    "elif temperature > 60 and weather == \"sunny\":\n",
    "  print(\"Wear shorts and a t-shirt.\")\n",
    "\n",
    "\n",
    "else:\n",
    "  print(\"Your guess is as good as mine!\")"
   ]
  },
  {
   "cell_type": "markdown",
   "metadata": {
    "id": "1jnxaMeQU242"
   },
   "source": [
    "> **Exercise**: initialize two integer variables called `x` and `y`, give them whatever values you like. Write a series of conditional statements that check the following:\n",
    "> 1. `x` and `y` are both even\n",
    "> 2. one is even and the other isn't\n",
    "> 3. `x` and `y` are both odd\n",
    ">\n",
    "> *Hint: If a number is even and you divide it by 2, what will the remainder be? Which operator returns the remainder of a division?*"
   ]
  },
  {
   "cell_type": "code",
   "execution_count": null,
   "metadata": {
    "id": "6Vhc1jO-VKAY"
   },
   "outputs": [],
   "source": [
    "# Your code here\n",
    "\n",
    "x = 5\n",
    "y = 8\n",
    "\n",
    "if x % 2 == 0 and y % 2 == 0:\n",
    "    print(\"x and y are both even\")\n",
    "elif (x % 2 == 0 and y % 2 != 0) or (x % 2 != 0 and y % 2 == 0):\n",
    "    print(\"one is even, one is odd\")\n",
    "elif x % 2 != 0 and y % 2 != 0:\n",
    "    print(\"x and y are both odd\")"
   ]
  },
  {
   "cell_type": "markdown",
   "metadata": {
    "id": "eLI7ZrHkVio8"
   },
   "source": [
    "---\n",
    "\n",
    "Recall also the `in` operator for strings. You can use it to check if one string is contained within the other. It will return `True` if it is and `False` if it isn't:"
   ]
  },
  {
   "cell_type": "code",
   "execution_count": null,
   "metadata": {
    "id": "aav4JLN9VuWt"
   },
   "outputs": [],
   "source": [
    "my_string = \"1234\"\n",
    "print(\"2\" in my_string)"
   ]
  },
  {
   "cell_type": "markdown",
   "metadata": {
    "id": "9Sbh8P46WE_g"
   },
   "source": [
    "Since this returns a boolean value (`True` or `False`), it can also be used when checking conditions with `if` or `elif`:"
   ]
  },
  {
   "cell_type": "code",
   "execution_count": null,
   "metadata": {
    "id": "NYUAEsRKWOTF"
   },
   "outputs": [],
   "source": [
    "my_string = \"1234\"\n",
    "\n",
    "if \"2\" in my_string:\n",
    "  print(\"In the if statement.\")\n",
    "else:\n",
    "  print(\"In the else statement.\")\n",
    "\n",
    "print(\"Done.\")"
   ]
  },
  {
   "cell_type": "markdown",
   "metadata": {
    "id": "OVCXcC69WX5G"
   },
   "source": [
    "Likewise, the `not` operator can be used to negate a logical condition in `if` statements:"
   ]
  },
  {
   "cell_type": "code",
   "execution_count": null,
   "metadata": {
    "id": "0_kiOicxWewh"
   },
   "outputs": [],
   "source": [
    "my_string = \"1234\"\n",
    "\n",
    "if not \"2\" in my_string:\n",
    "  print(\"In the if statement.\")\n",
    "else:\n",
    "  print(\"In the else statement.\")\n",
    "\n",
    "print(\"Done.\")"
   ]
  },
  {
   "cell_type": "markdown",
   "metadata": {
    "id": "4iJa1A5OWy8d"
   },
   "source": [
    "> **Exercise:** Store a string (`my_string`) and store two other smaller strings (`my_substr1`, `my_substr2`). Then use a series of `if` and `elif` statements to:\n",
    "\n",
    "*   Print a message indicating if both sub-strings are contained within `my_string`\n",
    "*   Otherwise, print a message if only one of the sub-strings is contained within `my_string`. The message should indicate which sub-string was found, so you will need two `elif`s.\n",
    "*   Finally, use an `else` statement to print a different string if neither sub-string is contained within `my_string`"
   ]
  },
  {
   "cell_type": "code",
   "execution_count": null,
   "metadata": {
    "id": "82tNGLxwXcBR"
   },
   "outputs": [],
   "source": [
    "# Your code here: Pick your string and sub-strings\n",
    "my_string = \"everything changed when the fire nation attacked\"\n",
    "my_substr1 = \"fire nation\"\n",
    "my_substr2 = \"water tribe\"\n",
    "\n",
    "# Your code here: Fill in the conditional statements\n",
    "if my_substr1 in my_string and my_substr2 in my_string: # An if statement if both sub-strings are found\n",
    "  print(\"Both substrings found:\", my_substr1, \",\", my_substr2)\n",
    "elif my_substr1 in my_string and not my_substr2 in my_string: # An elif statement if only sub-string 1 is found\n",
    "  print(\"Substring 1 found:\", my_substr1)\n",
    "elif not my_substr1 in my_string and my_substr2 in my_string: # An elif statement if only sub-string 2 is found\n",
    "  print(\"Substring 2 found:\", my_substr2)\n",
    "else: # Else handles if neither sub-strings are found\n",
    "  print(\"Neither substring found.\")\n",
    "\n",
    "print(\"Done.\")"
   ]
  },
  {
   "cell_type": "markdown",
   "metadata": {
    "id": "AaK8RZJQb8Bw"
   },
   "source": [
    "#### Nested conditional statements\n",
    "\n",
    "Stringing `if`, `elif`, and `else` statements together is a great way to execute code under different conditions, especially if the conditions are independent of one another. However, if the evaluation of conditions depends on previous conditions, you would need to use a **nested conditional** statement.\n",
    "\n",
    "Here is a simple example of an un-nested `if` statement that programs typical car driving behavior.\n",
    "\n",
    "Nesting is useful when the outcome of one condition directly influences whether another condition should be checked. These can be thought of as a decision tree."
   ]
  },
  {
   "cell_type": "code",
   "execution_count": null,
   "metadata": {
    "id": "DcmST_TAe6u8"
   },
   "outputs": [],
   "source": [
    "light = \"green\"\n",
    "pedestrian = False\n",
    "\n",
    "if light == \"green\" and not pedestrian:\n",
    "    print(\"Go\")\n",
    "else:\n",
    "    print(\"Stop\")"
   ]
  },
  {
   "cell_type": "markdown",
   "metadata": {
    "id": "BC40EdQ2e-zd"
   },
   "source": [
    "Here, the `if` statement evaluates both whether the light is green and whether a pedestrian is present. If either of those evaluated to `False`, the `if` statement wouldn't be executed and the `else` statement would. Here since `light == \"green\"` is `True` and `not pedestrian` (which in this case is the same as saying `not False`) is also `True`, so \"Go\" is printed out.\n",
    "\n",
    "However, we can write this code another, equivalent way with nesting."
   ]
  },
  {
   "cell_type": "code",
   "execution_count": null,
   "metadata": {
    "id": "49nwhCcigFlu"
   },
   "outputs": [],
   "source": [
    "light = \"green\"\n",
    "pedestrian = False\n",
    "\n",
    "if light == \"green\":\n",
    "    if pedestrian == False:\n",
    "        print(\"Go\")\n",
    "    else:\n",
    "        print(\"Stop\")\n",
    "elif light == \"red\":\n",
    "    print(\"Stop\")"
   ]
  },
  {
   "cell_type": "markdown",
   "metadata": {
    "id": "qg9hRoi5gIQN"
   },
   "source": [
    "This code has the same behavior as above. However, instead of a two part logical expression with `and`, we've broken that up into two separate `if`statements.\n",
    "\n",
    "First, `light == \"green\"` is evaluated. Since that is `True`, we execute the code within the `if` statement. In this case, that code is another `if` statement, and since `pedestrian == False` evaluates to `True`, \"Go\" is printed to the screen. If either were `False`, \"Stop\" would be printed.\n",
    "\n",
    "**In this way, you could think of nested if statements as implicit `and`s**.\n",
    "\n",
    "The question then is when is it best to use nested statements? In the above example, the non-nested solution is the one I would use because it requires fewer lines of code and is generally easier to understand for someone used to looking at logical statements.\n",
    "\n",
    "Nested if statements are best when the conditions are dependent on one another.\n",
    "\n",
    "Let's return to our terrible weatherbot. We can add a nested if statement to make it a little better."
   ]
  },
  {
   "cell_type": "code",
   "execution_count": null,
   "metadata": {
    "id": "ENiohB6yPe72"
   },
   "outputs": [],
   "source": [
    "temperature = 72\n",
    "weather = \"rainy\"\n",
    "\n",
    "print(\"The temperature is\", temperature, \"degrees Fahrenheit and the weather is\", weather + \".\")\n",
    "\n",
    "if temperature <= 32:\n",
    "  if weather == \"snowy\":\n",
    "    print(\"Wear a heavy coat and snow boots.\")\n",
    "  else:\n",
    "    print(\"Wear a heavy coat and warm shoes.\")\n",
    "elif temperature > 32 and weather == \"rainy\":\n",
    "  print(\"Wear a raincoat and boots.\")\n",
    "elif temperature > 60 and weather == \"sunny\":\n",
    "  print(\"Wear shorts and a t-shirt.\")\n",
    "else:\n",
    "  print(\"Your guess is as good as mine!\")"
   ]
  },
  {
   "cell_type": "markdown",
   "metadata": {
    "id": "VC0SxsPgPykq"
   },
   "source": [
    "Now, the bot first checks if the temperature is below 32, and then checks whether it is precipitating or not before it gives a recommendation. This allows us to build a better decision tree and makes the bot a little more flexible.\n",
    "\n",
    "> **Exercise**: Improve the weatherbot further. Consider temperature ranges from below 32, 33-60, and 60-90 as well as weather conditions \"sunny\", \"cloudy\", and \"precipitating\". Make recommendations for each combination.\n",
    ">\n",
    "> **BONUS**: Add another variable, `windy`, which will be a boolean. For each temperature category, if it is rainy (precipitating when above freezing), also check if it is windy or not and recommend an umbrella accordingly (yes if not windy, no if windy)."
   ]
  },
  {
   "cell_type": "code",
   "execution_count": null,
   "metadata": {
    "id": "caiOB6csQahu"
   },
   "outputs": [],
   "source": [
    "# Your code here\n",
    "# Edit weatherbot to give more specific recommendations\n",
    "# Consider temperatures below 32, 33-60, and 60-90\n",
    "# Consider conditions \"sunny\", \"cloudy\", \"precipitating\"\n",
    "# Make weatherbot give recommendations for each temperature-weather combination\n",
    "# BONUS: Add a windy variable that is a boolean and give recommendations about\n",
    "#        whether or not to bring an umbrella when its raining (no if windy, yes if not)\n",
    "\n",
    "temperature = 72\n",
    "weather = \"precipitating\" # Possible conditions: \"sunny\", \"cloudy\", or \"precipitating\"\n",
    "windy = True\n",
    "\n",
    "print(\"The temperature is\", temperature, \"degrees Fahrenheit and the weather is\", weather + \".\")\n",
    "\n",
    "if temperature <= 32:\n",
    "  if weather == \"precipitating\":\n",
    "    print(\"Wear a heavy coat and snow boots.\")\n",
    "  else:\n",
    "    print(\"Wear a heavy coat and warm shoes.\")\n",
    "elif temperature > 32 and temperature <= 60:\n",
    "  if weather == \"precipitating\":\n",
    "    print(\"Wear a raincoat and boots.\")\n",
    "    if windy:\n",
    "      print(\"Leave your umbrella at home.\")\n",
    "    else:\n",
    "      print(\"And take an umbrella.\")\n",
    "  if weather == \"cloudy\":\n",
    "    print(\"Wear a heavy jacket and warm shoes.\")\n",
    "  else:\n",
    "    print(\"Wear a light jacket and light shoes.\")\n",
    "elif temperature > 60 and temperature <= 80:\n",
    "  if weather == \"precipitating\":\n",
    "    print(\"Wear a light raincoat and rain shoes.\")\n",
    "    if windy:\n",
    "      print(\"Leave your umbrella at home.\")\n",
    "    else:\n",
    "      print(\"And take an umbrella.\")\n",
    "  elif weather == \"cloudy\":\n",
    "    print(\"Wear a light jacket and light shoes.\")\n",
    "  else:\n",
    "    print(\"Wear shorts and a t-shirt.\")\n",
    "else:\n",
    "  print(\"Your guess is as good as mine!\")"
   ]
  },
  {
   "cell_type": "markdown",
   "metadata": {
    "id": "mXoIpGAYR0jc"
   },
   "source": [
    "#### Review of conditionals\n",
    "\n",
    "By default, computer programs are read line-by-line from top to bottom by the computer with each instruction occuring one after the other. Here, with conditional statements, we've learned that we can tell the computer to only read some lines depending on the conditions of the program.\n",
    "\n",
    "We should know:\n",
    "\n",
    "1.   How `if`, `elif`, and `else` work to check logical statements and execute code accordingly. We know that `if` always comes first and doesn't necessarily need to be followed by any `elif` or `else` statements -- that depends on the problem you are trying to code around and is up to you to determine.\n",
    "2.   The proper syntax of these statements, which includes `<keyword> <logical expressions>:` where keyword is one of the three conditionals mentioned in point 1. Remember the colon `:`!\n",
    "3.   That conditional statements are followed by **blocks of code indicated by indentation**. Indentation is how Python knows what to execute given a conditional.\n",
    "4. Nested conditional statements are useful for dependent logical expressions and building decision trees."
   ]
  },
  {
   "cell_type": "markdown",
   "metadata": {
    "id": "ARfLcv0tWEpA"
   },
   "source": [
    "### Loops\n",
    "\n",
    "Another important way to control the flow of a program is with **loops**. Loops allow us to automatically repeat certain blocks of code while changing some of the variables through each **iteration** of the loop. This *automatic repetition* is one of the main benefits of having computers complete tasks for us.\n",
    "\n",
    "We've already introduced loops without calling them out with our robot cookie recipe. Indeed, loops are so integral to computing it would be hard to come up with an example that doesn't introduce them.\n",
    "\n",
    "Recall our `Walk_anywhere()` function:\n",
    "\n",
    "```\n",
    "Walk_anywhere(*distance*, *angle*):\n",
    "  1. Turn body *angle* degrees\n",
    "  2. Repeat Step until the *distance* has been traversed\n",
    "```\n",
    "\n",
    "The word \"Repeat\" here is an implicit loop!\n",
    "\n",
    "Much like the conditional keywords (`if`/`else`), almost universally across programming languages there are two types of loops: `while` and `for` loops.\n",
    "\n",
    "Our `Walk_anywhere()` function seems like a perfect example to introduce the first of the two types of loops: the `while` loop."
   ]
  },
  {
   "cell_type": "markdown",
   "metadata": {
    "id": "Nvven89RgdQZ"
   },
   "source": [
    "#### `while` loops\n",
    "\n",
    "`while` loops work by first checking a logical statement. If the statement evaluates to `True`, the code inside of the `while` loop is executed. In this way, `while` loops are very similar to `if` statements. However, unlike `if` statements, the code within the `while` loop is **repeated until the logical statement is no longer `True`**.\n",
    "\n",
    "Here is a simple example:"
   ]
  },
  {
   "cell_type": "code",
   "execution_count": null,
   "metadata": {
    "id": "KkaBI7PJdFYB"
   },
   "outputs": [],
   "source": [
    "x = 0\n",
    "\n",
    "while x < 5:\n",
    "  print(x)\n",
    "  x = x + 1\n",
    "\n",
    "print(\"Done.\")"
   ]
  },
  {
   "cell_type": "markdown",
   "metadata": {
    "id": "VMvoFKuOecUc"
   },
   "source": [
    "Let's break this down. First, we have an integer called `x` and initially set to be 0. Then the program encounters the `while` line followed by a logical statement, `x < 5`. Since `x` is 0, this evaluates to `True` and the code inside of the `while` loop is executed.\n",
    "\n",
    "Here is where things start to differ. First, we simply print the value of `x`, which is useful for demonstrating how the loop works.\n",
    "\n",
    "Then, we change the value of `x` by saying `x = x + 1`. This is a key technique in programming, especially for `while` loops. This update statement takes the previous value of `x` and adds 1 to it with the addition `+` operator. Then it assigns this value to be the new value of `x`. After this is done, since we're in a `while` loop, Python knows to go back up to the line with `while` and re-evaluate the logical statement. If it is still `True`, the code within the loop is executed again.\n",
    "\n",
    "A few key points related to logic and syntax:\n",
    "1.   Just like an `if` statement, the colon is required after the logical statement of a `while` line.\n",
    "2.   Also like conditionals, indentation is required syntactically and to ensure the code runs according to the programmer's goal. Everything under the `while` line that is indented is included in the **block** of code that will be run in the `while` loop.\n",
    "3.   Notice that the last iteration prints out 4. This is because of our logical statement, `x < 5`.\n",
    "\n",
    "> **Exercise**: Change the above loop to also print out the value of `x` when it is 5.\n",
    "\n",
    "\n",
    "\n"
   ]
  },
  {
   "cell_type": "code",
   "execution_count": null,
   "metadata": {
    "id": "9e4Y2pxWiaZS"
   },
   "outputs": [],
   "source": [
    "# Edit code here so the loop prints out 5 as well\n",
    "\n",
    "x = 0\n",
    "\n",
    "while x <= 5:\n",
    "  print(x)\n",
    "  x = x + 1\n",
    "\n",
    "print(\"Done.\")\n",
    "\n",
    "## OR ##\n",
    "\n",
    "x = 0\n",
    "\n",
    "while x < 5:\n",
    "  print(x)\n",
    "  x = x + 1\n",
    "\n",
    "print(x)\n",
    "print(\"Done.\")"
   ]
  },
  {
   "cell_type": "markdown",
   "metadata": {
    "id": "GZ0GZ6L9ij6E"
   },
   "source": [
    "This can actually be done two ways in this case. We could change the logical statement itself, or we could simply print `x` after the loop. The second solution works because during the iteration when `x` is 4, the line `x = x + 1` is still executed, thus updating the value of `x` even though the loop will not be run for another iteration."
   ]
  },
  {
   "cell_type": "markdown",
   "metadata": {
    "id": "mH4VwoQal-GV"
   },
   "source": [
    "##### Update operators\n",
    "\n",
    "Updating a variable, e.g. `x = x + 1` is such a common occurrence in programming that many languages have implemented special **operators** to do this automatically and with less typing (programmers are efficient/lazy). Remember, an **operator** is just a special symbol or word that performs a specific task, like another recipe in our recipe book.\n",
    "\n",
    "We know that with the addition `+` operator, we can add two integers together, and we've just seen how this can be used in the `while` loop.\n",
    "\n",
    "The **in-place addition operator** or **addition update operator** looks like this in Python:\n",
    "\n",
    "```\n",
    "x += 1\n",
    "```\n",
    "\n",
    "When talking about this operator, we may say **plus-equals**. However, this is exactly equivalent to typing `x = x + 1`.\n",
    "\n",
    "> **Exercise**: Use the in-place addition operator `+=` in the loop that counts from 0 to 5."
   ]
  },
  {
   "cell_type": "code",
   "execution_count": null,
   "metadata": {
    "id": "zGvqiDBGm_Qp"
   },
   "outputs": [],
   "source": [
    "## Edit the loop to use the in-place addition operator\n",
    "\n",
    "x = 0\n",
    "\n",
    "while x < 5:\n",
    "  print(x)\n",
    "  x += 1\n",
    "\n",
    "print(\"Done.\")"
   ]
  },
  {
   "cell_type": "markdown",
   "metadata": {
    "id": "85disHM2ndef"
   },
   "source": [
    "Each arithmetic operator has a corresponding in-place update operator:\n",
    "\n",
    "* `+=` : Addition\n",
    "* `-=` : Subtraction\n",
    "* `*=` : Multiplication\n",
    "* `/=` : Division (floating-point)\n",
    "* `//=` : Floor Division\n",
    "* `%=` : Modulus\n",
    "* `**=` : Exponentiation\n"
   ]
  },
  {
   "cell_type": "markdown",
   "metadata": {
    "id": "0-hDzlpRjciq"
   },
   "source": [
    "##### Infinite loops\n",
    "\n",
    "Be wary of infinite loops. Since `while` loops run as long as a logical statement is `True`, if your code is written such that the statement is never updated to conditions where it is `False`, the loop will run forever. This is called an **infinite loop**.\n",
    "\n",
    "Here is a common way this can occur. I've commented this code block out so it doesn't get run unintentionally. If you'd like to run it, uncomment the code by deleting the `#` symbols at the beginning of each line. But running it may crash your notebook."
   ]
  },
  {
   "cell_type": "markdown",
   "metadata": {
    "id": "Yu7SQvp2Kxfc"
   },
   "source": [
    "```python\n",
    "x = 0\n",
    "\n",
    "while x <= 5:\n",
    "  print(x)\n",
    "x = x + 1\n",
    "\n",
    "print(\"Done.\")\n",
    "```"
   ]
  },
  {
   "cell_type": "markdown",
   "metadata": {
    "id": "zQgw9BmZkK-Z"
   },
   "source": [
    "> **Exercise**: Why does this result in an infinite loop? Take a moment to discuss."
   ]
  },
  {
   "cell_type": "markdown",
   "metadata": {
    "id": "P1ZfP-tBk5nH"
   },
   "source": [
    "##### `while` exercises\n",
    "\n",
    "> **Exercise**: Print out every number between 10 and 20 (inclusive).\n",
    ">\n",
    "> **BONUS**: Adjust your code to print only even numbers between 10 and 20 (inclusive)"
   ]
  },
  {
   "cell_type": "code",
   "execution_count": null,
   "metadata": {
    "id": "NeFMemVplYZA"
   },
   "outputs": [],
   "source": [
    "# Your code here: print out every number between 10 and 20 (inclusive)\n",
    "# BONUS: Edit your code so it only prints the even numbers between 10 and 20 (inclusive)\n",
    "\n",
    "x = 10\n",
    "\n",
    "while x <= 20:\n",
    "  print(x)\n",
    "  #x = x + 1\n",
    "  x = x + 2 # Bonus solution\n",
    "print(\"Done.\")"
   ]
  },
  {
   "cell_type": "markdown",
   "metadata": {
    "id": "lwOhDoXnk5eF"
   },
   "source": [
    "> **Exercise**: For a colony with an initial population size of 1, write a program that prints out the population size for 10 generations given that it doubles every generation.\n",
    ">\n",
    "> *Hint: You will need to initialize two variables and then use a `while` loop to update them.*"
   ]
  },
  {
   "cell_type": "code",
   "execution_count": null,
   "metadata": {
    "id": "eJNRk6b8qGlo"
   },
   "outputs": [],
   "source": [
    "# Your code here: calculate the population size of a colony over 10 generations that\n",
    "# doubles in size every generation.\n",
    "\n",
    "generation = 1\n",
    "pop_size = 1\n",
    "\n",
    "while generation <= 10:\n",
    "  pop_size *= 2\n",
    "  print(\"Population size in generation\", generation, \"is:\", pop_size)\n",
    "  generation += 1;"
   ]
  },
  {
   "cell_type": "markdown",
   "metadata": {
    "id": "WEA_YyVusohq"
   },
   "source": [
    "#### `for` loops\n",
    "\n",
    "`while` loops work by repeating a set of instructions (i.e. a block of code) until some condition is met.\n",
    "\n",
    "`for` loops, on the other hand, work by taking a group of inputs and performing a set of instructions on them one at a time. The key concept here is the **group of multiple inputs**, which leads into **data structures**, which we'll cover tomorrow in depth. Up until now, every piece of code we've run has used single pieces of data. `x = 5` is a single integer. `my_string = \"Hello world!\" is a single string. `for` loops work by taking **lists** of integers or strings, or lines in a file, and performing actions on each one individually.\n",
    "\n",
    "More on that tomorrow. For now, we can demonstrate `for` loops with **strings**. This is because **strings are essentially a group of characters**. This means we can use a `for` loop to iterate over each character individually. In other words, strings are **iterable**.\n",
    "\n",
    "Here is how a `for` loop would work to print out every character in a string:"
   ]
  },
  {
   "cell_type": "code",
   "execution_count": null,
   "metadata": {
    "id": "p2p_bFvrxTgM"
   },
   "outputs": [],
   "source": [
    "my_string = \"Hello world!\"\n",
    "\n",
    "for current_character in my_string:\n",
    "  print(current_character)\n"
   ]
  },
  {
   "cell_type": "markdown",
   "metadata": {
    "id": "rHXLn9kixga6"
   },
   "source": [
    "We start by defining a string. Then we encounter the `for` line where the first thing we see after `for` is a new variable, `current_character`. This is the **loop** or **update** variable. It's name, like other variables, is determind by the programmer, so we could have called it something else: `cur_char`, `current_letter`, `akjhgak`. It's purpose is to be used only within the loop, and its value is assigned based on the current iteration of the loop. Then, after that iteration it is **automatically updated** to be the next object in the string (or other **iterable**) that we're looping over. For a string, each object is an individual character, so the result of the loop is one character being printed per line of output.\n",
    "\n",
    "After the loop variable we see the keyword **`in`**. We talked about `in` before as the **inclusion operator**. Here, confusingly, it acts somewhat differently, simply as a keyword to denote that the loop variable on the left will take on values according to the iterable on the right.\n",
    "\n",
    "Then, we have our string, `my_string`, which is the thing over which we are iterating.\n",
    "\n",
    "Again, syntactically, the colon `:` and indenation are required.\n",
    "\n",
    "> **Exercise**: Are infinite loops possible when using `for`?\n",
    "\n",
    "> **Exercise**: Use a `for` loop to calculate the length of a string without using the `len()` function."
   ]
  },
  {
   "cell_type": "code",
   "execution_count": null,
   "metadata": {
    "id": "EVDyBsL8zpyg"
   },
   "outputs": [],
   "source": [
    "# Your code here: replicate the functionality of the len() function\n",
    "\n",
    "my_string = \"Hello world!\"\n",
    "char_tally = 0\n",
    "\n",
    "for char in my_string:\n",
    "  char_tally += 1\n",
    "\n",
    "print(char_tally)\n",
    "print(len(my_string))"
   ]
  },
  {
   "cell_type": "markdown",
   "metadata": {
    "id": "dxKxLoBQ0OQh"
   },
   "source": [
    "We will cover `for` loops much more tomorrow when we learn about other **iterable** data structures."
   ]
  },
  {
   "cell_type": "markdown",
   "metadata": {
    "id": "-6VyOx7Z1X9g"
   },
   "source": [
    "### Review of loops\n",
    "\n",
    "We've learned about the two types of loops in Python `while` and `for`. Loops are used for the most important and useful computational purposes: automatic repetition of tasks.\n",
    "\n",
    "1.   `while` loops, like `if` statements run a block of code depending on a condition. However, they repeat that block of code until the condition is no longer met.\n",
    "2.   `for` loops repeat blocks of code for different inputs given in an **iterable**.\n",
    "3. In Python, indentation defines code blocks for loops (and conditional statements). If your line of code isn't indented at the same level of the loop, it will not be evaluated in the loop. Sometimes this can cause errors, and sometimes the program will run but with undesired output. It's up to the programmer to catch this.\n",
    "\n"
   ]
  },
  {
   "cell_type": "markdown",
   "metadata": {
    "id": "R4ihLxswjLGv"
   },
   "source": [
    "## End day 1\n",
    "\n",
    "Thanks! Let us know if you have any questions."
   ]
  }
 ],
 "metadata": {
  "colab": {
   "provenance": [],
   "toc_visible": true
  },
  "kernelspec": {
   "display_name": "pyworkshop",
   "language": "python",
   "name": "python3"
  },
  "language_info": {
   "codemirror_mode": {
    "name": "ipython",
    "version": 3
   },
   "file_extension": ".py",
   "mimetype": "text/x-python",
   "name": "python",
   "nbconvert_exporter": "python",
   "pygments_lexer": "ipython3",
   "version": "3.13.1"
  }
 },
 "nbformat": 4,
 "nbformat_minor": 0
}
