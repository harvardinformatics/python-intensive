{
 "cells": [
  {
   "cell_type": "markdown",
   "metadata": {},
   "source": [
    "# Python intensive, part 6\n",
    "\n",
    "## Putting it all together: exploring storm data\n",
    "\n",
    "For our final section, we are going to do some exploratory analysis of a real world dataset, coding in pairs or groups as we did on the previous days. There are several different \"paths\" you can choose to follow based on what you are interested in working on, so either come to a consensus within your group, or group up based on shared interest! First, let's download our data:"
   ]
  },
  {
   "cell_type": "code",
   "execution_count": 2,
   "metadata": {},
   "outputs": [
    {
     "name": "stderr",
     "output_type": "stream",
     "text": [
      "'wget' is not recognized as an internal or external command,\n",
      "operable program or batch file.\n"
     ]
    }
   ],
   "source": [
    "# This line downloads the file locally to the same folder as your notebook\n",
    "!wget https://raw.githubusercontent.com/harvardinformatics/python-intensive/refs/heads/main/data/indiana_storms_full.csv\n",
    "\n",
    "import os\n",
    "\n",
    "# This line stores the local file path as a Python string variable\n",
    "storms_file = 'indiana_storms_full.csv'\n",
    "if not os.path.isfile(storms_file):\n",
    "    storms_file = 'data/indiana_storms_full.csv'\n"
   ]
  },
  {
   "cell_type": "code",
   "execution_count": 3,
   "metadata": {},
   "outputs": [
    {
     "data": {
      "text/html": [
       "<div>\n",
       "<style scoped>\n",
       "    .dataframe tbody tr th:only-of-type {\n",
       "        vertical-align: middle;\n",
       "    }\n",
       "\n",
       "    .dataframe tbody tr th {\n",
       "        vertical-align: top;\n",
       "    }\n",
       "\n",
       "    .dataframe thead th {\n",
       "        text-align: right;\n",
       "    }\n",
       "</style>\n",
       "<table border=\"1\" class=\"dataframe\">\n",
       "  <thead>\n",
       "    <tr style=\"text-align: right;\">\n",
       "      <th></th>\n",
       "      <th>BEGIN_YEARMONTH</th>\n",
       "      <th>BEGIN_DAY</th>\n",
       "      <th>BEGIN_TIME</th>\n",
       "      <th>END_YEARMONTH</th>\n",
       "      <th>END_DAY</th>\n",
       "      <th>END_TIME</th>\n",
       "      <th>EPISODE_ID</th>\n",
       "      <th>EVENT_ID</th>\n",
       "      <th>STATE</th>\n",
       "      <th>STATE_FIPS</th>\n",
       "      <th>...</th>\n",
       "      <th>END_RANGE</th>\n",
       "      <th>END_AZIMUTH</th>\n",
       "      <th>END_LOCATION</th>\n",
       "      <th>BEGIN_LAT</th>\n",
       "      <th>BEGIN_LON</th>\n",
       "      <th>END_LAT</th>\n",
       "      <th>END_LON</th>\n",
       "      <th>EPISODE_NARRATIVE</th>\n",
       "      <th>EVENT_NARRATIVE</th>\n",
       "      <th>DATA_SOURCE</th>\n",
       "    </tr>\n",
       "  </thead>\n",
       "  <tbody>\n",
       "    <tr>\n",
       "      <th>0</th>\n",
       "      <td>201501</td>\n",
       "      <td>8</td>\n",
       "      <td>1700</td>\n",
       "      <td>201501</td>\n",
       "      <td>9</td>\n",
       "      <td>1200</td>\n",
       "      <td>91570</td>\n",
       "      <td>548696</td>\n",
       "      <td>INDIANA</td>\n",
       "      <td>18</td>\n",
       "      <td>...</td>\n",
       "      <td>NaN</td>\n",
       "      <td>NaN</td>\n",
       "      <td>NaN</td>\n",
       "      <td>NaN</td>\n",
       "      <td>NaN</td>\n",
       "      <td>NaN</td>\n",
       "      <td>NaN</td>\n",
       "      <td>A quick-moving Alberta Clipper brought a quick...</td>\n",
       "      <td>Periods of snow during the late afternoon hour...</td>\n",
       "      <td>CSV</td>\n",
       "    </tr>\n",
       "    <tr>\n",
       "      <th>1</th>\n",
       "      <td>201501</td>\n",
       "      <td>5</td>\n",
       "      <td>2200</td>\n",
       "      <td>201501</td>\n",
       "      <td>6</td>\n",
       "      <td>830</td>\n",
       "      <td>92441</td>\n",
       "      <td>555468</td>\n",
       "      <td>INDIANA</td>\n",
       "      <td>18</td>\n",
       "      <td>...</td>\n",
       "      <td>NaN</td>\n",
       "      <td>NaN</td>\n",
       "      <td>NaN</td>\n",
       "      <td>NaN</td>\n",
       "      <td>NaN</td>\n",
       "      <td>NaN</td>\n",
       "      <td>NaN</td>\n",
       "      <td>An Alberta Clipper brought a quick round of sn...</td>\n",
       "      <td>Snowfall accumulation observations ranged from...</td>\n",
       "      <td>CSV</td>\n",
       "    </tr>\n",
       "    <tr>\n",
       "      <th>2</th>\n",
       "      <td>201501</td>\n",
       "      <td>5</td>\n",
       "      <td>2200</td>\n",
       "      <td>201501</td>\n",
       "      <td>6</td>\n",
       "      <td>900</td>\n",
       "      <td>92441</td>\n",
       "      <td>555469</td>\n",
       "      <td>INDIANA</td>\n",
       "      <td>18</td>\n",
       "      <td>...</td>\n",
       "      <td>NaN</td>\n",
       "      <td>NaN</td>\n",
       "      <td>NaN</td>\n",
       "      <td>NaN</td>\n",
       "      <td>NaN</td>\n",
       "      <td>NaN</td>\n",
       "      <td>NaN</td>\n",
       "      <td>An Alberta Clipper brought a quick round of sn...</td>\n",
       "      <td>Snowfall accumulation observations ranged from...</td>\n",
       "      <td>CSV</td>\n",
       "    </tr>\n",
       "    <tr>\n",
       "      <th>3</th>\n",
       "      <td>201501</td>\n",
       "      <td>5</td>\n",
       "      <td>2200</td>\n",
       "      <td>201501</td>\n",
       "      <td>6</td>\n",
       "      <td>900</td>\n",
       "      <td>92441</td>\n",
       "      <td>555470</td>\n",
       "      <td>INDIANA</td>\n",
       "      <td>18</td>\n",
       "      <td>...</td>\n",
       "      <td>NaN</td>\n",
       "      <td>NaN</td>\n",
       "      <td>NaN</td>\n",
       "      <td>NaN</td>\n",
       "      <td>NaN</td>\n",
       "      <td>NaN</td>\n",
       "      <td>NaN</td>\n",
       "      <td>An Alberta Clipper brought a quick round of sn...</td>\n",
       "      <td>Snowfall accumulation observations ranged from...</td>\n",
       "      <td>CSV</td>\n",
       "    </tr>\n",
       "    <tr>\n",
       "      <th>4</th>\n",
       "      <td>201501</td>\n",
       "      <td>5</td>\n",
       "      <td>2215</td>\n",
       "      <td>201501</td>\n",
       "      <td>6</td>\n",
       "      <td>930</td>\n",
       "      <td>92441</td>\n",
       "      <td>555471</td>\n",
       "      <td>INDIANA</td>\n",
       "      <td>18</td>\n",
       "      <td>...</td>\n",
       "      <td>NaN</td>\n",
       "      <td>NaN</td>\n",
       "      <td>NaN</td>\n",
       "      <td>NaN</td>\n",
       "      <td>NaN</td>\n",
       "      <td>NaN</td>\n",
       "      <td>NaN</td>\n",
       "      <td>An Alberta Clipper brought a quick round of sn...</td>\n",
       "      <td>Snowfall accumulation of 5.5 inches was report...</td>\n",
       "      <td>CSV</td>\n",
       "    </tr>\n",
       "  </tbody>\n",
       "</table>\n",
       "<p>5 rows × 51 columns</p>\n",
       "</div>"
      ],
      "text/plain": [
       "   BEGIN_YEARMONTH  BEGIN_DAY  BEGIN_TIME  END_YEARMONTH  END_DAY  END_TIME  \\\n",
       "0           201501          8        1700         201501        9      1200   \n",
       "1           201501          5        2200         201501        6       830   \n",
       "2           201501          5        2200         201501        6       900   \n",
       "3           201501          5        2200         201501        6       900   \n",
       "4           201501          5        2215         201501        6       930   \n",
       "\n",
       "   EPISODE_ID  EVENT_ID    STATE  STATE_FIPS  ...  END_RANGE END_AZIMUTH  \\\n",
       "0       91570    548696  INDIANA          18  ...        NaN         NaN   \n",
       "1       92441    555468  INDIANA          18  ...        NaN         NaN   \n",
       "2       92441    555469  INDIANA          18  ...        NaN         NaN   \n",
       "3       92441    555470  INDIANA          18  ...        NaN         NaN   \n",
       "4       92441    555471  INDIANA          18  ...        NaN         NaN   \n",
       "\n",
       "  END_LOCATION BEGIN_LAT  BEGIN_LON END_LAT END_LON  \\\n",
       "0          NaN       NaN        NaN     NaN     NaN   \n",
       "1          NaN       NaN        NaN     NaN     NaN   \n",
       "2          NaN       NaN        NaN     NaN     NaN   \n",
       "3          NaN       NaN        NaN     NaN     NaN   \n",
       "4          NaN       NaN        NaN     NaN     NaN   \n",
       "\n",
       "                                   EPISODE_NARRATIVE  \\\n",
       "0  A quick-moving Alberta Clipper brought a quick...   \n",
       "1  An Alberta Clipper brought a quick round of sn...   \n",
       "2  An Alberta Clipper brought a quick round of sn...   \n",
       "3  An Alberta Clipper brought a quick round of sn...   \n",
       "4  An Alberta Clipper brought a quick round of sn...   \n",
       "\n",
       "                                     EVENT_NARRATIVE DATA_SOURCE  \n",
       "0  Periods of snow during the late afternoon hour...         CSV  \n",
       "1  Snowfall accumulation observations ranged from...         CSV  \n",
       "2  Snowfall accumulation observations ranged from...         CSV  \n",
       "3  Snowfall accumulation observations ranged from...         CSV  \n",
       "4  Snowfall accumulation of 5.5 inches was report...         CSV  \n",
       "\n",
       "[5 rows x 51 columns]"
      ]
     },
     "execution_count": 3,
     "metadata": {},
     "output_type": "execute_result"
    }
   ],
   "source": [
    "import pandas as pd\n",
    "storms_df = pd.read_csv(storms_file)\n",
    "storms_df.head()"
   ]
  },
  {
   "cell_type": "code",
   "execution_count": 4,
   "metadata": {},
   "outputs": [
    {
     "name": "stdout",
     "output_type": "stream",
     "text": [
      "<class 'pandas.core.frame.DataFrame'>\n",
      "RangeIndex: 1315 entries, 0 to 1314\n",
      "Data columns (total 51 columns):\n",
      " #   Column              Non-Null Count  Dtype  \n",
      "---  ------              --------------  -----  \n",
      " 0   BEGIN_YEARMONTH     1315 non-null   int64  \n",
      " 1   BEGIN_DAY           1315 non-null   int64  \n",
      " 2   BEGIN_TIME          1315 non-null   int64  \n",
      " 3   END_YEARMONTH       1315 non-null   int64  \n",
      " 4   END_DAY             1315 non-null   int64  \n",
      " 5   END_TIME            1315 non-null   int64  \n",
      " 6   EPISODE_ID          1315 non-null   int64  \n",
      " 7   EVENT_ID            1315 non-null   int64  \n",
      " 8   STATE               1315 non-null   object \n",
      " 9   STATE_FIPS          1315 non-null   int64  \n",
      " 10  YEAR                1315 non-null   int64  \n",
      " 11  MONTH_NAME          1315 non-null   object \n",
      " 12  EVENT_TYPE          1315 non-null   object \n",
      " 13  CZ_TYPE             1315 non-null   object \n",
      " 14  CZ_FIPS             1315 non-null   int64  \n",
      " 15  CZ_NAME             1315 non-null   object \n",
      " 16  WFO                 1315 non-null   object \n",
      " 17  BEGIN_DATE_TIME     1315 non-null   object \n",
      " 18  CZ_TIMEZONE         1315 non-null   object \n",
      " 19  END_DATE_TIME       1315 non-null   object \n",
      " 20  INJURIES_DIRECT     1315 non-null   int64  \n",
      " 21  INJURIES_INDIRECT   1315 non-null   int64  \n",
      " 22  DEATHS_DIRECT       1315 non-null   int64  \n",
      " 23  DEATHS_INDIRECT     1315 non-null   int64  \n",
      " 24  DAMAGE_PROPERTY     1011 non-null   object \n",
      " 25  DAMAGE_CROPS        1009 non-null   object \n",
      " 26  SOURCE              1315 non-null   object \n",
      " 27  MAGNITUDE           577 non-null    float64\n",
      " 28  MAGNITUDE_TYPE      390 non-null    object \n",
      " 29  FLOOD_CAUSE         246 non-null    object \n",
      " 30  CATEGORY            0 non-null      float64\n",
      " 31  TOR_F_SCALE         24 non-null     object \n",
      " 32  TOR_LENGTH          24 non-null     float64\n",
      " 33  TOR_WIDTH           24 non-null     float64\n",
      " 34  TOR_OTHER_WFO       3 non-null      object \n",
      " 35  TOR_OTHER_CZ_STATE  3 non-null      object \n",
      " 36  TOR_OTHER_CZ_FIPS   3 non-null      float64\n",
      " 37  TOR_OTHER_CZ_NAME   3 non-null      object \n",
      " 38  BEGIN_RANGE         871 non-null    float64\n",
      " 39  BEGIN_AZIMUTH       871 non-null    object \n",
      " 40  BEGIN_LOCATION      871 non-null    object \n",
      " 41  END_RANGE           871 non-null    float64\n",
      " 42  END_AZIMUTH         871 non-null    object \n",
      " 43  END_LOCATION        871 non-null    object \n",
      " 44  BEGIN_LAT           871 non-null    float64\n",
      " 45  BEGIN_LON           871 non-null    float64\n",
      " 46  END_LAT             871 non-null    float64\n",
      " 47  END_LON             871 non-null    float64\n",
      " 48  EPISODE_NARRATIVE   1315 non-null   object \n",
      " 49  EVENT_NARRATIVE     1079 non-null   object \n",
      " 50  DATA_SOURCE         1315 non-null   object \n",
      "dtypes: float64(11), int64(15), object(25)\n",
      "memory usage: 524.1+ KB\n"
     ]
    }
   ],
   "source": [
    "storms_df.info()"
   ]
  },
  {
   "cell_type": "markdown",
   "metadata": {},
   "source": [
    "## Data Cleaning: subsetting columns\n",
    "\n",
    "This is a file that contains data from the National Weather Service. It contains data on storm events in the state of Indiana in 2015. There is quite a lot of information in there with 50 columns in the dataset, so before we do any analysis let's do a bit of cleanup! \n",
    "\n",
    "We are primarily interested in type of storm event \"EVENT_TYPE\", the county in which the event occurred \"CZ_NAME\", and the time of the event \"BEGIN_DATE_TIME\", \"END_DATE_TIME\", \"CZ_TIMEZONE\". Let's also throw in there \"BEGIN_LOCATION\", \"END_LOCATION\", \"BEGIN_LAT\", \"BEGIN_LON\", \"END_LAT\", and \"END_LON\" just in case. So the first thing we need to do is subset the data to only include these columns."
   ]
  },
  {
   "cell_type": "code",
   "execution_count": 5,
   "metadata": {},
   "outputs": [],
   "source": [
    "storms_df = storms_df[[\"EVENT_TYPE\", \"CZ_NAME\", \"BEGIN_DATE_TIME\", \"END_DATE_TIME\", \"CZ_TIMEZONE\",  \"BEGIN_LOCATION\", \"END_LOCATION\", \"BEGIN_LAT\", \"BEGIN_LON\", \"END_LAT\", \"END_LON\"]]"
   ]
  },
  {
   "cell_type": "markdown",
   "metadata": {},
   "source": [
    "Now, let's check if there are any missing values in the columns we are interested in. If there are, we should remove the rows with missing values."
   ]
  },
  {
   "cell_type": "code",
   "execution_count": 6,
   "metadata": {},
   "outputs": [
    {
     "name": "stdout",
     "output_type": "stream",
     "text": [
      "<class 'pandas.core.frame.DataFrame'>\n",
      "RangeIndex: 1315 entries, 0 to 1314\n",
      "Data columns (total 11 columns):\n",
      " #   Column           Non-Null Count  Dtype  \n",
      "---  ------           --------------  -----  \n",
      " 0   EVENT_TYPE       1315 non-null   object \n",
      " 1   CZ_NAME          1315 non-null   object \n",
      " 2   BEGIN_DATE_TIME  1315 non-null   object \n",
      " 3   END_DATE_TIME    1315 non-null   object \n",
      " 4   CZ_TIMEZONE      1315 non-null   object \n",
      " 5   BEGIN_LOCATION   871 non-null    object \n",
      " 6   END_LOCATION     871 non-null    object \n",
      " 7   BEGIN_LAT        871 non-null    float64\n",
      " 8   BEGIN_LON        871 non-null    float64\n",
      " 9   END_LAT          871 non-null    float64\n",
      " 10  END_LON          871 non-null    float64\n",
      "dtypes: float64(4), object(7)\n",
      "memory usage: 113.1+ KB\n"
     ]
    }
   ],
   "source": [
    "storms_df.info()"
   ]
  },
  {
   "cell_type": "markdown",
   "metadata": {},
   "source": [
    "Only some storm events have a begin and end location, but at least there aren't any that only have a begin and not and end. Data looks good! The next thing we need to do is to convert the \"BEGIN_DATE_TIME\" and \"END_DATE_TIME\" columns to datetime objects. Additionally, these data are spread out over two time zones and we want to convert it to a single time zone for clarity. This will make it easier to work with these columns later on. For more information on the proper way to manage dates and times in Python, see the section in our Python Healthy Habits document \"Working with dates and times\". "
   ]
  },
  {
   "cell_type": "code",
   "execution_count": 7,
   "metadata": {},
   "outputs": [],
   "source": [
    "# Convert all date time columns to datetime objects with correct timezone parsing\n",
    "# I wrote a regex to extract just the number from the timezone column and then made it an ISO8601 compliant timezone string\n",
    "# Pandas does not support multiple time zones in the same column, so we will convert all times to UTC and then convert to one of the local time zones\n",
    "storms_df['BEGIN_DATE_TIME'] = pd.to_datetime(storms_df[\"BEGIN_DATE_TIME\"]+\"-0\"+storms_df[\"CZ_TIMEZONE\"].str.extract(r'([0-9]+)')[0]+\"00\", format=\"mixed\", utc=True).dt.tz_convert(\"-05:00\")\n",
    "storms_df['END_DATE_TIME'] = pd.to_datetime(storms_df[\"END_DATE_TIME\"]+\"-0\"+storms_df[\"CZ_TIMEZONE\"].str.extract(r'([0-9]+)')[0]+\"00\", format=\"mixed\", utc=True).dt.tz_convert(\"-05:00\")"
   ]
  },
  {
   "cell_type": "markdown",
   "metadata": {},
   "source": [
    "Here's a breakdown of the code I used to convert the \"BEGIN_DATE_TIME\" and \"END_DATE_TIME\" columns to datetime objects:\n",
    "\n",
    "```python\n",
    "storms_df['BEGIN_DATE_TIME'] = pd.to_datetime(storms_df[\"BEGIN_DATE_TIME\"]+\"-0\"+storms_df[\"CZ_TIMEZONE\"].str.extract(r'([0-9]+)')[0]+\"00\", format=\"mixed\", utc=True).dt.tz_convert(\"-05:00\")\n",
    "```\n",
    "\n",
    "| Code                                                              | Explanation |\n",
    "| ----------------------------------------------------------------- | ----------- |\n",
    "| `pd.to_datetime()`                                                | This function converts a string or a list of strings to a datetime object. However, I first need to convert the string into something that is can parse.|\n",
    "| `storms_df[\"BEGIN_DATE_TIME\"]`                                    | This column is alredy in a format that pandas can parse, but it is missing the time zone information.|\n",
    "| `+\"-0\"+storms_df[\"CZ_TIMEZONE\"].str.extract(r'([0-9]+)')[0]+\"00\"` | This adds the time zone offset to the string by concatenating `-0` and the regex match for the time zone offset. Plus, it adds `00` to the end to represent the minutes.|\n",
    "| `format=\"mixed\"`                                                  | This tells pandas to try to parse the string in a mixed format, which means it will attempt to infer the format of the date and time.|\n",
    "| `utc=True`                                                        | This tells pandas to treat the datetime object as UTC time, which is a standard time zone that is not affected by daylight savings time.|\n",
    "| `.dt.tz_convert(\"-05:00\")`                                        | This converts the datetime object to the specified time zone, which is Eastern Standard Time (EST) in this case.|\n"
   ]
  },
  {
   "cell_type": "markdown",
   "metadata": {},
   "source": [
    "Here's what the times look like now:"
   ]
  },
  {
   "cell_type": "code",
   "execution_count": 8,
   "metadata": {},
   "outputs": [
    {
     "data": {
      "text/plain": [
       "0   2015-01-08 17:00:00-05:00\n",
       "1   2015-01-05 22:00:00-05:00\n",
       "2   2015-01-05 22:00:00-05:00\n",
       "3   2015-01-05 22:00:00-05:00\n",
       "4   2015-01-05 22:15:00-05:00\n",
       "Name: BEGIN_DATE_TIME, dtype: datetime64[ns, UTC-05:00]"
      ]
     },
     "execution_count": 8,
     "metadata": {},
     "output_type": "execute_result"
    }
   ],
   "source": [
    "storms_df[\"BEGIN_DATE_TIME\"].head()"
   ]
  },
  {
   "cell_type": "code",
   "execution_count": 9,
   "metadata": {},
   "outputs": [
    {
     "name": "stdout",
     "output_type": "stream",
     "text": [
      "<class 'pandas.core.frame.DataFrame'>\n",
      "RangeIndex: 1315 entries, 0 to 1314\n",
      "Data columns (total 11 columns):\n",
      " #   Column           Non-Null Count  Dtype                    \n",
      "---  ------           --------------  -----                    \n",
      " 0   EVENT_TYPE       1315 non-null   object                   \n",
      " 1   CZ_NAME          1315 non-null   object                   \n",
      " 2   BEGIN_DATE_TIME  1315 non-null   datetime64[ns, UTC-05:00]\n",
      " 3   END_DATE_TIME    1315 non-null   datetime64[ns, UTC-05:00]\n",
      " 4   CZ_TIMEZONE      1315 non-null   object                   \n",
      " 5   BEGIN_LOCATION   871 non-null    object                   \n",
      " 6   END_LOCATION     871 non-null    object                   \n",
      " 7   BEGIN_LAT        871 non-null    float64                  \n",
      " 8   BEGIN_LON        871 non-null    float64                  \n",
      " 9   END_LAT          871 non-null    float64                  \n",
      " 10  END_LON          871 non-null    float64                  \n",
      "dtypes: datetime64[ns, UTC-05:00](2), float64(4), object(5)\n",
      "memory usage: 113.1+ KB\n"
     ]
    }
   ],
   "source": [
    "storms_df.info()"
   ]
  },
  {
   "cell_type": "markdown",
   "metadata": {},
   "source": [
    "## Warm-up exercises\n",
    "\n",
    "Here are some warm-up exercises to get started working with data that is a mix of categorical and datetime data. One helpful tip to working with datetime objects is to get the series of the datetime object and then use the `.dt` accessor to access the datetime properties. You can find all the properties of the datetime object [here](https://pandas.pydata.org/docs/reference/api/pandas.DatetimeIndex.html)."
   ]
  },
  {
   "cell_type": "code",
   "execution_count": 10,
   "metadata": {},
   "outputs": [
    {
     "data": {
      "text/plain": [
       "0         9\n",
       "1         6\n",
       "2         6\n",
       "3         6\n",
       "4         6\n",
       "       ... \n",
       "1310    357\n",
       "1311    357\n",
       "1312    365\n",
       "1313    357\n",
       "1314      1\n",
       "Name: END_DATE_TIME, Length: 1315, dtype: int32"
      ]
     },
     "execution_count": 10,
     "metadata": {},
     "output_type": "execute_result"
    }
   ],
   "source": [
    "# example of getting an attribute of a datetime object\n",
    "\n",
    "storms_df[\"END_DATE_TIME\"].dt.day_of_year"
   ]
  },
  {
   "cell_type": "code",
   "execution_count": 11,
   "metadata": {},
   "outputs": [
    {
     "data": {
      "text/plain": [
       "0        January\n",
       "1        January\n",
       "2        January\n",
       "3        January\n",
       "4        January\n",
       "          ...   \n",
       "1310    December\n",
       "1311    December\n",
       "1312    December\n",
       "1313    December\n",
       "1314     January\n",
       "Name: END_DATE_TIME, Length: 1315, dtype: object"
      ]
     },
     "execution_count": 11,
     "metadata": {},
     "output_type": "execute_result"
    }
   ],
   "source": [
    "# example of using a method of a datetime object\n",
    "\n",
    "storms_df[\"END_DATE_TIME\"].dt.month_name()"
   ]
  },
  {
   "cell_type": "markdown",
   "metadata": {},
   "source": [
    "The next three exercises are one-liners what will use the method `.value_counts()` to get the number of rows for each unique value in a column. This is a useful method to get a sense of the distribution of the data in a column. Below, we demonstrate by counting the number of each event type. (Compare this to the `groupby().size()` method we used last time)"
   ]
  },
  {
   "cell_type": "code",
   "execution_count": 12,
   "metadata": {},
   "outputs": [
    {
     "data": {
      "text/plain": [
       "EVENT_TYPE\n",
       "Thunderstorm Wind          383\n",
       "Hail                       187\n",
       "Winter Weather             162\n",
       "Heavy Snow                 131\n",
       "Flood                      125\n",
       "Flash Flood                121\n",
       "Dense Fog                   40\n",
       "Winter Storm                33\n",
       "Heavy Rain                  27\n",
       "Extreme Cold/Wind Chill     26\n",
       "Tornado                     24\n",
       "Heat                        15\n",
       "Cold/Wind Chill             12\n",
       "Excessive Heat               6\n",
       "Frost/Freeze                 6\n",
       "Strong Wind                  5\n",
       "Ice Storm                    3\n",
       "Lightning                    3\n",
       "High Wind                    2\n",
       "Lake-Effect Snow             2\n",
       "Funnel Cloud                 1\n",
       "Blizzard                     1\n",
       "Name: count, dtype: int64"
      ]
     },
     "execution_count": 12,
     "metadata": {},
     "output_type": "execute_result"
    }
   ],
   "source": [
    "storms_df[\"EVENT_TYPE\"].value_counts()"
   ]
  },
  {
   "cell_type": "markdown",
   "metadata": {},
   "source": [
    ">**Exercise:** Are storms more common on weekends or weekdays? YES/NO. Display your answer by counting the number of events that happend on each day of the week. Don't worry about sorting the days of the week, just display the counts. Look at the datetime object documentation to see how to get the day of the week from the `.dt` accessor. "
   ]
  },
  {
   "cell_type": "code",
   "execution_count": 13,
   "metadata": {},
   "outputs": [],
   "source": [
    "# Your code here"
   ]
  },
  {
   "cell_type": "code",
   "execution_count": 14,
   "metadata": {},
   "outputs": [
    {
     "data": {
      "text/plain": [
       "BEGIN_DATE_TIME\n",
       "Monday       275\n",
       "Wednesday    208\n",
       "Friday       205\n",
       "Sunday       188\n",
       "Saturday     166\n",
       "Tuesday      154\n",
       "Thursday     119\n",
       "Name: count, dtype: int64"
      ]
     },
     "execution_count": 14,
     "metadata": {},
     "output_type": "execute_result"
    }
   ],
   "source": [
    "#@title Solution {display-mode: \"form\"}\n",
    "\n",
    "storms_df['BEGIN_DATE_TIME'].dt.day_name().value_counts()"
   ]
  },
  {
   "cell_type": "markdown",
   "metadata": {},
   "source": [
    ">**Exercise:** Which events tend to span more than one county? Display the counts of each event type that spans more than one county. (Hint: Events which span more than one county will have non-null values for `BEGIN_LOCATION` and `END_LOCATION`.) "
   ]
  },
  {
   "cell_type": "code",
   "execution_count": 15,
   "metadata": {},
   "outputs": [],
   "source": [
    "# Your code here"
   ]
  },
  {
   "cell_type": "code",
   "execution_count": 16,
   "metadata": {},
   "outputs": [
    {
     "data": {
      "text/plain": [
       "EVENT_TYPE\n",
       "Thunderstorm Wind    383\n",
       "Hail                 187\n",
       "Flood                125\n",
       "Flash Flood          121\n",
       "Heavy Rain            27\n",
       "Tornado               24\n",
       "Lightning              3\n",
       "Funnel Cloud           1\n",
       "Name: count, dtype: int64"
      ]
     },
     "execution_count": 16,
     "metadata": {},
     "output_type": "execute_result"
    }
   ],
   "source": [
    "#@title Solution {display-mode: \"form\"}\n",
    "\n",
    "storms_df[~storms_df[\"BEGIN_LOCATION\"].isna()][\"EVENT_TYPE\"].value_counts()"
   ]
  },
  {
   "cell_type": "markdown",
   "metadata": {},
   "source": [
    ">**Exercise:** Which events tend to be multi-day events? Display the counts of each event type that has a duration of more than 1 day (24 hours).\n",
    ">\n",
    ">You will need to use the `pd.Timedelta()` function in your filtering criteria. Docs [here](https://pandas.pydata.org/docs/user_guide/timedeltas.html) and [here](https://pandas.pydata.org/docs/reference/api/pandas.Timedelta.html#pandas.Timedelta)"
   ]
  },
  {
   "cell_type": "code",
   "execution_count": 17,
   "metadata": {},
   "outputs": [],
   "source": [
    "# Your code here"
   ]
  },
  {
   "cell_type": "code",
   "execution_count": 18,
   "metadata": {},
   "outputs": [
    {
     "data": {
      "text/plain": [
       "EVENT_TYPE\n",
       "Flood                      48\n",
       "Heavy Snow                 24\n",
       "Excessive Heat              6\n",
       "Winter Storm                4\n",
       "Winter Weather              3\n",
       "Blizzard                    1\n",
       "Flash Flood                 1\n",
       "Extreme Cold/Wind Chill     1\n",
       "Lake-Effect Snow            1\n",
       "Name: count, dtype: int64"
      ]
     },
     "execution_count": 18,
     "metadata": {},
     "output_type": "execute_result"
    }
   ],
   "source": [
    "#@title Solution {display-mode: \"form\"}\n",
    "\n",
    "# Find duration of events\n",
    "storms_df['EVENT_DURATION'] = storms_df[\"END_DATE_TIME\"] - storms_df[\"BEGIN_DATE_TIME\"]\n",
    "\n",
    "# filter for events that last more than one day and count them\n",
    "storms_df[storms_df['EVENT_DURATION'] > pd.Timedelta(days=1)][\"EVENT_TYPE\"].value_counts()"
   ]
  },
  {
   "cell_type": "markdown",
   "metadata": {},
   "source": [
    ">**Exercise:** Create two lists: a list of all county names and a list of all event types. How many counties and event types are there? You will be using the Series methods `.unique()` and `.tolist()` here. "
   ]
  },
  {
   "cell_type": "code",
   "execution_count": 19,
   "metadata": {},
   "outputs": [],
   "source": [
    "# Your code here"
   ]
  },
  {
   "cell_type": "code",
   "execution_count": 20,
   "metadata": {},
   "outputs": [
    {
     "name": "stdout",
     "output_type": "stream",
     "text": [
      "['NOBLE', 'MADISON', 'DELAWARE', 'HENRY', 'RANDOLPH', 'MARION', 'STEUBEN', 'LAGRANGE', 'WHITLEY', 'KOSCIUSKO', 'HANCOCK', 'FAYETTE', 'WAYNE', 'FRANKLIN', 'DEARBORN', 'MARSHALL', 'LA PORTE', 'ELKHART', 'WHITE', 'GIBSON', 'PIKE', 'POSEY', 'SPENCER', 'VANDERBURGH', 'WARRICK', 'CASS', 'PULASKI', 'MIAMI', 'FULTON', 'STARKE', 'ST. JOSEPH', 'ALLEN', 'WABASH', 'HUNTINGTON', 'WELLS', 'ADAMS', 'GRANT', 'BLACKFORD', 'JAY', 'PORTER', 'TIPPECANOE', 'RIPLEY', 'UNION', 'SWITZERLAND', 'CLINTON', 'HOWARD', 'TIPTON', 'BOONE', 'HAMILTON', 'DE KALB', 'ORANGE', 'CRAWFORD', 'BROWN', 'JOHNSON', 'PERRY', 'CLARK', 'HARRISON', 'MARTIN', 'WASHINGTON', 'DAVIESS', 'RUSH', 'DUBOIS', 'MONROE', 'KNOX', 'FLOYD', 'VERMILLION', 'HENDRICKS', 'MORGAN', 'JEFFERSON', 'SCOTT', 'JENNINGS', 'PARKE', 'OWEN', 'PUTNAM', 'WARREN', 'NEWTON', 'GREENE', 'CARROLL', 'SHELBY', 'MONTGOMERY', 'FOUNTAIN', 'JACKSON', 'Vanderburgh', 'Warrick', 'JASPER', 'SULLIVAN', 'DECATUR', 'VIGO', 'LAKE', 'LAWRENCE', 'BARTHOLOMEW', 'Spencer', 'Gibson', 'OHIO', 'Pike', 'Posey', 'BENTON', 'CLAY', 'Elkhart']\n",
      "There are 99 counties in the dataset\n",
      "['Winter Weather', 'Heavy Snow', 'Ice Storm', 'Thunderstorm Wind', 'Extreme Cold/Wind Chill', 'Flash Flood', 'Hail', 'Heavy Rain', 'Flood', 'Tornado', 'Lightning', 'Heat', 'Funnel Cloud', 'Excessive Heat', 'Dense Fog', 'Cold/Wind Chill', 'Winter Storm', 'Lake-Effect Snow', 'Blizzard', 'Frost/Freeze', 'Strong Wind', 'High Wind']\n",
      "There are 22 event types in the dataset\n"
     ]
    }
   ],
   "source": [
    "#@title Solution {display-mode: \"form\"}\n",
    "\n",
    "county_list = storms_df[\"CZ_NAME\"].unique().tolist()\n",
    "print(county_list)\n",
    "print(f\"There are {len(county_list)} counties in the dataset\")\n",
    "event_list = storms_df[\"EVENT_TYPE\"].unique().tolist()\n",
    "print(event_list)\n",
    "print(f\"There are {len(event_list)} event types in the dataset\")"
   ]
  },
  {
   "cell_type": "markdown",
   "metadata": {},
   "source": [
    ">**Exercise:** Function-writing warmup. Write a function called `get_event_county` that takes as input the storms dataframe object, a county name (as a string), and an event type (as a string). The function should return a dataframe that contains only that county and event type.\n",
    ">\n",
    "> This function is ideally a one-liner that filters the dataframe based on two criteria. Remember to enclose each condition in `()` and use the `&` operator to combine them."
   ]
  },
  {
   "cell_type": "code",
   "execution_count": 21,
   "metadata": {},
   "outputs": [],
   "source": [
    "# Your code here"
   ]
  },
  {
   "cell_type": "code",
   "execution_count": 22,
   "metadata": {
    "tags": [
     "no-execute"
    ]
   },
   "outputs": [
    {
     "ename": "NameError",
     "evalue": "name 'get_event_county' is not defined",
     "output_type": "error",
     "traceback": [
      "\u001b[31m---------------------------------------------------------------------------\u001b[39m",
      "\u001b[31mNameError\u001b[39m                                 Traceback (most recent call last)",
      "\u001b[36mCell\u001b[39m\u001b[36m \u001b[39m\u001b[32mIn[22]\u001b[39m\u001b[32m, line 3\u001b[39m\n\u001b[32m      1\u001b[39m \u001b[38;5;66;03m# test your code\u001b[39;00m\n\u001b[32m      2\u001b[39m \u001b[38;5;66;03m# should return a dataframe with 7 rows\u001b[39;00m\n\u001b[32m----> \u001b[39m\u001b[32m3\u001b[39m \u001b[43mget_event_county\u001b[49m(storms_df, \u001b[33m\"\u001b[39m\u001b[33mELKHART\u001b[39m\u001b[33m\"\u001b[39m, \u001b[33m\"\u001b[39m\u001b[33mThunderstorm Wind\u001b[39m\u001b[33m\"\u001b[39m)\n",
      "\u001b[31mNameError\u001b[39m: name 'get_event_county' is not defined"
     ]
    }
   ],
   "source": [
    "# test your code\n",
    "# should return a dataframe with 7 rows\n",
    "get_event_county(storms_df, \"ELKHART\", \"Thunderstorm Wind\")"
   ]
  },
  {
   "cell_type": "code",
   "execution_count": null,
   "metadata": {},
   "outputs": [],
   "source": [
    "#@title Solution {display-mode: \"form\"}\n",
    "\n",
    "def get_event_county(storms, county, event):\n",
    "    return storms[(storms[\"EVENT_TYPE\"] == event) & (storms[\"CZ_NAME\"] == county)]\n",
    "\n",
    "get_event_county(storms_df, \"ELKHART\", \"Thunderstorm Wind\")"
   ]
  },
  {
   "cell_type": "markdown",
   "metadata": {},
   "source": [
    "Now that we have imported our data, cleaned it up and begun to explore it, let's split off into groups! We have a few paths we can take:\n",
    "\n",
    "1. A guided path: We will guide you through writing functions that summarize and print the data in different ways. This will help you practice writing functions, filtering data, and practice a tiny bit of plotting. \n",
    "2. A few self-guided exploratory questions that you can approach however you want, but focus on different skills:\n",
    "    * Question 1: What is the most dangerous county in Indiana? We provide a separate table of county info so you can normalize the data by county area. You will need to learn how to merge two dataframes together.\n",
    "    * Question 2: What is the best time to visit Indiana if you want to take cool pictures of clouds? This will help you practice summarizing data and, depending on how you approach it, work with date time objects of various duration. \n",
    "    * Question 3: Create a plot that compares the duration in hours of each common event type. This will help you practice creating new columns and plotting data. "
   ]
  },
  {
   "cell_type": "markdown",
   "metadata": {},
   "source": [
    "## Path 1: function writing practice\n",
    "\n",
    "1. Write a function called `storm_by_county` that takes as input the storms object, a **LIST** of county names, and returns a dataframe of all of the events that occurred in a given county and the date they began. Include an optional argument `storm_type` that by default is `None` and includes all event types, but if given a list, only includes those events."
   ]
  },
  {
   "cell_type": "code",
   "execution_count": null,
   "metadata": {},
   "outputs": [],
   "source": [
    "# Your code here"
   ]
  },
  {
   "cell_type": "code",
   "execution_count": 23,
   "metadata": {
    "tags": [
     "no-execute"
    ]
   },
   "outputs": [
    {
     "ename": "NameError",
     "evalue": "name 'storm_by_county' is not defined",
     "output_type": "error",
     "traceback": [
      "\u001b[31m---------------------------------------------------------------------------\u001b[39m",
      "\u001b[31mNameError\u001b[39m                                 Traceback (most recent call last)",
      "\u001b[36mCell\u001b[39m\u001b[36m \u001b[39m\u001b[32mIn[23]\u001b[39m\u001b[32m, line 3\u001b[39m\n\u001b[32m      1\u001b[39m \u001b[38;5;66;03m# test your function\u001b[39;00m\n\u001b[32m      2\u001b[39m \u001b[38;5;66;03m# should return 8 rows of data\u001b[39;00m\n\u001b[32m----> \u001b[39m\u001b[32m3\u001b[39m \u001b[43mstorm_by_county\u001b[49m(storms_df, [\u001b[33m\"\u001b[39m\u001b[33mOHIO\u001b[39m\u001b[33m\"\u001b[39m])\n",
      "\u001b[31mNameError\u001b[39m: name 'storm_by_county' is not defined"
     ]
    }
   ],
   "source": [
    "# test your function\n",
    "# should return 8 rows of data\n",
    "storm_by_county(storms_df, [\"OHIO\"])"
   ]
  },
  {
   "cell_type": "code",
   "execution_count": 24,
   "metadata": {
    "tags": [
     "no-execute"
    ]
   },
   "outputs": [
    {
     "ename": "NameError",
     "evalue": "name 'storm_by_county' is not defined",
     "output_type": "error",
     "traceback": [
      "\u001b[31m---------------------------------------------------------------------------\u001b[39m",
      "\u001b[31mNameError\u001b[39m                                 Traceback (most recent call last)",
      "\u001b[36mCell\u001b[39m\u001b[36m \u001b[39m\u001b[32mIn[24]\u001b[39m\u001b[32m, line 4\u001b[39m\n\u001b[32m      1\u001b[39m \u001b[38;5;66;03m# test your function\u001b[39;00m\n\u001b[32m      2\u001b[39m \u001b[38;5;66;03m# should return 11 rows of data\u001b[39;00m\n\u001b[32m----> \u001b[39m\u001b[32m4\u001b[39m \u001b[43mstorm_by_county\u001b[49m(storms_df, [\u001b[33m\"\u001b[39m\u001b[33mELKHART\u001b[39m\u001b[33m\"\u001b[39m, \u001b[33m\"\u001b[39m\u001b[33mST. JOSEPH\u001b[39m\u001b[33m\"\u001b[39m], [\u001b[33m\"\u001b[39m\u001b[33mThunderstorm Wind\u001b[39m\u001b[33m\"\u001b[39m])\n",
      "\u001b[31mNameError\u001b[39m: name 'storm_by_county' is not defined"
     ]
    }
   ],
   "source": [
    "# test your function\n",
    "# should return 11 rows of data\n",
    "\n",
    "storm_by_county(storms_df, [\"ELKHART\", \"ST. JOSEPH\"], [\"Thunderstorm Wind\"])"
   ]
  },
  {
   "cell_type": "code",
   "execution_count": 25,
   "metadata": {},
   "outputs": [
    {
     "name": "stdout",
     "output_type": "stream",
     "text": [
      "...\n"
     ]
    },
    {
     "data": {
      "text/html": [
       "<div>\n",
       "<style scoped>\n",
       "    .dataframe tbody tr th:only-of-type {\n",
       "        vertical-align: middle;\n",
       "    }\n",
       "\n",
       "    .dataframe tbody tr th {\n",
       "        vertical-align: top;\n",
       "    }\n",
       "\n",
       "    .dataframe thead th {\n",
       "        text-align: right;\n",
       "    }\n",
       "</style>\n",
       "<table border=\"1\" class=\"dataframe\">\n",
       "  <thead>\n",
       "    <tr style=\"text-align: right;\">\n",
       "      <th></th>\n",
       "      <th>EVENT_TYPE</th>\n",
       "      <th>CZ_NAME</th>\n",
       "      <th>BEGIN_DATE_TIME</th>\n",
       "      <th>END_DATE_TIME</th>\n",
       "      <th>CZ_TIMEZONE</th>\n",
       "      <th>BEGIN_LOCATION</th>\n",
       "      <th>END_LOCATION</th>\n",
       "      <th>BEGIN_LAT</th>\n",
       "      <th>BEGIN_LON</th>\n",
       "      <th>END_LAT</th>\n",
       "      <th>END_LON</th>\n",
       "      <th>EVENT_DURATION</th>\n",
       "    </tr>\n",
       "  </thead>\n",
       "  <tbody>\n",
       "    <tr>\n",
       "      <th>281</th>\n",
       "      <td>Thunderstorm Wind</td>\n",
       "      <td>ST. JOSEPH</td>\n",
       "      <td>2015-06-11 15:26:00-05:00</td>\n",
       "      <td>2015-06-11 15:26:00-05:00</td>\n",
       "      <td>EST-5</td>\n",
       "      <td>ROSELAND</td>\n",
       "      <td>ROSELAND</td>\n",
       "      <td>41.7226</td>\n",
       "      <td>-86.2559</td>\n",
       "      <td>41.7226</td>\n",
       "      <td>-86.2559</td>\n",
       "      <td>0 days 00:00:00</td>\n",
       "    </tr>\n",
       "    <tr>\n",
       "      <th>480</th>\n",
       "      <td>Thunderstorm Wind</td>\n",
       "      <td>ST. JOSEPH</td>\n",
       "      <td>2015-06-08 16:30:00-05:00</td>\n",
       "      <td>2015-06-08 16:30:00-05:00</td>\n",
       "      <td>EST-5</td>\n",
       "      <td>GRANGER</td>\n",
       "      <td>GRANGER</td>\n",
       "      <td>41.7400</td>\n",
       "      <td>-86.1400</td>\n",
       "      <td>41.7400</td>\n",
       "      <td>-86.1400</td>\n",
       "      <td>0 days 00:00:00</td>\n",
       "    </tr>\n",
       "    <tr>\n",
       "      <th>571</th>\n",
       "      <td>Thunderstorm Wind</td>\n",
       "      <td>ST. JOSEPH</td>\n",
       "      <td>2015-07-18 17:43:00-05:00</td>\n",
       "      <td>2015-07-18 17:46:00-05:00</td>\n",
       "      <td>EST-5</td>\n",
       "      <td>GILMER PARK</td>\n",
       "      <td>GILMER PARK</td>\n",
       "      <td>41.6285</td>\n",
       "      <td>-86.2971</td>\n",
       "      <td>41.6285</td>\n",
       "      <td>-86.2971</td>\n",
       "      <td>0 days 00:03:00</td>\n",
       "    </tr>\n",
       "    <tr>\n",
       "      <th>572</th>\n",
       "      <td>Thunderstorm Wind</td>\n",
       "      <td>ELKHART</td>\n",
       "      <td>2015-07-18 17:55:00-05:00</td>\n",
       "      <td>2015-07-18 17:58:00-05:00</td>\n",
       "      <td>EST-5</td>\n",
       "      <td>JAMESTOWN</td>\n",
       "      <td>JAMESTOWN</td>\n",
       "      <td>41.6400</td>\n",
       "      <td>-86.0200</td>\n",
       "      <td>41.6400</td>\n",
       "      <td>-86.0200</td>\n",
       "      <td>0 days 00:03:00</td>\n",
       "    </tr>\n",
       "    <tr>\n",
       "      <th>574</th>\n",
       "      <td>Thunderstorm Wind</td>\n",
       "      <td>ELKHART</td>\n",
       "      <td>2015-07-18 17:58:00-05:00</td>\n",
       "      <td>2015-07-18 18:01:00-05:00</td>\n",
       "      <td>EST-5</td>\n",
       "      <td>ELKHART</td>\n",
       "      <td>ELKHART</td>\n",
       "      <td>41.7026</td>\n",
       "      <td>-85.9467</td>\n",
       "      <td>41.7026</td>\n",
       "      <td>-85.9467</td>\n",
       "      <td>0 days 00:03:00</td>\n",
       "    </tr>\n",
       "    <tr>\n",
       "      <th>582</th>\n",
       "      <td>Thunderstorm Wind</td>\n",
       "      <td>ST. JOSEPH</td>\n",
       "      <td>2015-07-18 18:04:00-05:00</td>\n",
       "      <td>2015-07-18 18:07:00-05:00</td>\n",
       "      <td>EST-5</td>\n",
       "      <td>GLENWOOD</td>\n",
       "      <td>GLENWOOD</td>\n",
       "      <td>41.6700</td>\n",
       "      <td>-86.0800</td>\n",
       "      <td>41.6700</td>\n",
       "      <td>-86.0800</td>\n",
       "      <td>0 days 00:03:00</td>\n",
       "    </tr>\n",
       "    <tr>\n",
       "      <th>583</th>\n",
       "      <td>Thunderstorm Wind</td>\n",
       "      <td>ELKHART</td>\n",
       "      <td>2015-07-18 18:15:00-05:00</td>\n",
       "      <td>2015-07-18 18:18:00-05:00</td>\n",
       "      <td>EST-5</td>\n",
       "      <td>BRISTOL</td>\n",
       "      <td>BRISTOL</td>\n",
       "      <td>41.6900</td>\n",
       "      <td>-85.8200</td>\n",
       "      <td>41.6900</td>\n",
       "      <td>-85.8200</td>\n",
       "      <td>0 days 00:03:00</td>\n",
       "    </tr>\n",
       "    <tr>\n",
       "      <th>591</th>\n",
       "      <td>Thunderstorm Wind</td>\n",
       "      <td>ELKHART</td>\n",
       "      <td>2015-07-18 18:35:00-05:00</td>\n",
       "      <td>2015-07-18 18:38:00-05:00</td>\n",
       "      <td>EST-5</td>\n",
       "      <td>ELKHART MIDWAY ARPT</td>\n",
       "      <td>ELKHART MIDWAY ARPT</td>\n",
       "      <td>41.6100</td>\n",
       "      <td>-85.8700</td>\n",
       "      <td>41.6100</td>\n",
       "      <td>-85.8700</td>\n",
       "      <td>0 days 00:03:00</td>\n",
       "    </tr>\n",
       "    <tr>\n",
       "      <th>592</th>\n",
       "      <td>Thunderstorm Wind</td>\n",
       "      <td>ELKHART</td>\n",
       "      <td>2015-07-13 20:47:00-05:00</td>\n",
       "      <td>2015-07-13 20:50:00-05:00</td>\n",
       "      <td>EST-5</td>\n",
       "      <td>MILLERSBURG</td>\n",
       "      <td>MILLERSBURG</td>\n",
       "      <td>41.5100</td>\n",
       "      <td>-85.7300</td>\n",
       "      <td>41.5100</td>\n",
       "      <td>-85.7300</td>\n",
       "      <td>0 days 00:03:00</td>\n",
       "    </tr>\n",
       "    <tr>\n",
       "      <th>608</th>\n",
       "      <td>Thunderstorm Wind</td>\n",
       "      <td>ELKHART</td>\n",
       "      <td>2015-07-18 17:50:00-05:00</td>\n",
       "      <td>2015-07-18 17:53:00-05:00</td>\n",
       "      <td>EST-5</td>\n",
       "      <td>ELKHART</td>\n",
       "      <td>ELKHART</td>\n",
       "      <td>41.6800</td>\n",
       "      <td>-85.9800</td>\n",
       "      <td>41.6800</td>\n",
       "      <td>-85.9800</td>\n",
       "      <td>0 days 00:03:00</td>\n",
       "    </tr>\n",
       "    <tr>\n",
       "      <th>971</th>\n",
       "      <td>Thunderstorm Wind</td>\n",
       "      <td>ELKHART</td>\n",
       "      <td>2015-08-02 23:25:00-05:00</td>\n",
       "      <td>2015-08-02 23:26:00-05:00</td>\n",
       "      <td>EST-5</td>\n",
       "      <td>GOSHEN</td>\n",
       "      <td>GOSHEN</td>\n",
       "      <td>41.5800</td>\n",
       "      <td>-85.8300</td>\n",
       "      <td>41.5800</td>\n",
       "      <td>-85.8300</td>\n",
       "      <td>0 days 00:01:00</td>\n",
       "    </tr>\n",
       "  </tbody>\n",
       "</table>\n",
       "</div>"
      ],
      "text/plain": [
       "            EVENT_TYPE     CZ_NAME           BEGIN_DATE_TIME  \\\n",
       "281  Thunderstorm Wind  ST. JOSEPH 2015-06-11 15:26:00-05:00   \n",
       "480  Thunderstorm Wind  ST. JOSEPH 2015-06-08 16:30:00-05:00   \n",
       "571  Thunderstorm Wind  ST. JOSEPH 2015-07-18 17:43:00-05:00   \n",
       "572  Thunderstorm Wind     ELKHART 2015-07-18 17:55:00-05:00   \n",
       "574  Thunderstorm Wind     ELKHART 2015-07-18 17:58:00-05:00   \n",
       "582  Thunderstorm Wind  ST. JOSEPH 2015-07-18 18:04:00-05:00   \n",
       "583  Thunderstorm Wind     ELKHART 2015-07-18 18:15:00-05:00   \n",
       "591  Thunderstorm Wind     ELKHART 2015-07-18 18:35:00-05:00   \n",
       "592  Thunderstorm Wind     ELKHART 2015-07-13 20:47:00-05:00   \n",
       "608  Thunderstorm Wind     ELKHART 2015-07-18 17:50:00-05:00   \n",
       "971  Thunderstorm Wind     ELKHART 2015-08-02 23:25:00-05:00   \n",
       "\n",
       "                END_DATE_TIME CZ_TIMEZONE       BEGIN_LOCATION  \\\n",
       "281 2015-06-11 15:26:00-05:00       EST-5             ROSELAND   \n",
       "480 2015-06-08 16:30:00-05:00       EST-5              GRANGER   \n",
       "571 2015-07-18 17:46:00-05:00       EST-5          GILMER PARK   \n",
       "572 2015-07-18 17:58:00-05:00       EST-5            JAMESTOWN   \n",
       "574 2015-07-18 18:01:00-05:00       EST-5              ELKHART   \n",
       "582 2015-07-18 18:07:00-05:00       EST-5             GLENWOOD   \n",
       "583 2015-07-18 18:18:00-05:00       EST-5              BRISTOL   \n",
       "591 2015-07-18 18:38:00-05:00       EST-5  ELKHART MIDWAY ARPT   \n",
       "592 2015-07-13 20:50:00-05:00       EST-5          MILLERSBURG   \n",
       "608 2015-07-18 17:53:00-05:00       EST-5              ELKHART   \n",
       "971 2015-08-02 23:26:00-05:00       EST-5               GOSHEN   \n",
       "\n",
       "            END_LOCATION  BEGIN_LAT  BEGIN_LON  END_LAT  END_LON  \\\n",
       "281             ROSELAND    41.7226   -86.2559  41.7226 -86.2559   \n",
       "480              GRANGER    41.7400   -86.1400  41.7400 -86.1400   \n",
       "571          GILMER PARK    41.6285   -86.2971  41.6285 -86.2971   \n",
       "572            JAMESTOWN    41.6400   -86.0200  41.6400 -86.0200   \n",
       "574              ELKHART    41.7026   -85.9467  41.7026 -85.9467   \n",
       "582             GLENWOOD    41.6700   -86.0800  41.6700 -86.0800   \n",
       "583              BRISTOL    41.6900   -85.8200  41.6900 -85.8200   \n",
       "591  ELKHART MIDWAY ARPT    41.6100   -85.8700  41.6100 -85.8700   \n",
       "592          MILLERSBURG    41.5100   -85.7300  41.5100 -85.7300   \n",
       "608              ELKHART    41.6800   -85.9800  41.6800 -85.9800   \n",
       "971               GOSHEN    41.5800   -85.8300  41.5800 -85.8300   \n",
       "\n",
       "     EVENT_DURATION  \n",
       "281 0 days 00:00:00  \n",
       "480 0 days 00:00:00  \n",
       "571 0 days 00:03:00  \n",
       "572 0 days 00:03:00  \n",
       "574 0 days 00:03:00  \n",
       "582 0 days 00:03:00  \n",
       "583 0 days 00:03:00  \n",
       "591 0 days 00:03:00  \n",
       "592 0 days 00:03:00  \n",
       "608 0 days 00:03:00  \n",
       "971 0 days 00:01:00  "
      ]
     },
     "execution_count": 25,
     "metadata": {},
     "output_type": "execute_result"
    }
   ],
   "source": [
    "#@title Solution {display-mode: \"form\"}\n",
    "\n",
    "def storm_by_county(storms, county, storm_type=None):\n",
    "    if storm_type:\n",
    "        matches = storms[(storms['CZ_NAME'].isin(county)) & (storms['EVENT_TYPE'].isin(storm_type))]\n",
    "    else:\n",
    "        matches = storms[(storms['CZ_NAME'].isin(county))]\n",
    "    \n",
    "    return matches\n",
    "\n",
    "storm_by_county(storms_df, [\"OHIO\"])\n",
    "\n",
    "print(\"...\")\n",
    "\n",
    "storm_by_county(storms_df, [\"ELKHART\", \"ST. JOSEPH\"], [\"Thunderstorm Wind\"])"
   ]
  },
  {
   "cell_type": "markdown",
   "metadata": {},
   "source": [
    "2. Create a function called `display_storms` that takes a storms object, iterates through each row, and prints out each event as a sentence, including the event type, the county, and the date and time of the event. This exercise helps with iterating over data. An example output would be: \"A thunderstorm occurred in Marion County on 2015-06-15 13:45:00\". (as a bonus, you can try and format the date and time to be more human-readable)\n",
    "\n",
    "**HINT:** You will need to use the `.iterrows()` method"
   ]
  },
  {
   "cell_type": "code",
   "execution_count": null,
   "metadata": {},
   "outputs": [],
   "source": [
    "# Your code here"
   ]
  },
  {
   "cell_type": "markdown",
   "metadata": {},
   "source": [
    "3. Test your function by:\n",
    "- Printing all storm events in TIPPECANOE county\n",
    "- Printing all \"Flood\" and \"Flash Flood\" events in the following counties: MARION, MONROE, SPENCER, VERMILLION\n",
    "- Print all \"Tornado\" events *in the whole state*, i.e. all the counties."
   ]
  },
  {
   "cell_type": "code",
   "execution_count": null,
   "metadata": {
    "tags": [
     "no-execute"
    ]
   },
   "outputs": [],
   "source": [
    "## Test your storm_by_county function\n",
    "\n",
    "# 3.1: Display all storm events in TIPPECANOE county.\n",
    "print(\"--- 3.1 ---\")\n",
    "display_storms(storm_by_county(storms_df, [\"TIPPECANOE\"]))\n",
    "\n",
    "# 3.2: Display all Flood and Flash Flood events in the following counties: MARION, MONROE, SPENCER, VERMILLION\n",
    "print(\"--- 3.2 ---\")\n",
    "counties_to_check = [\"MARION\", \"MONROE\", \"SPENCER\", \"VERMILLION\"]\n",
    "storm_types = [\"Flood\", \"Flash Flood\"]\n",
    "\n",
    "display_storms(storm_by_county(storms_df, counties_to_check, storm_types))\n",
    "\n",
    "# 3.3: Display all Tornado events that occurred in the state.\n",
    "print(\"--- 3.3 ---\")\n",
    "county_list = storms_df[\"CZ_NAME\"].unique()\n",
    "display_storms(storm_by_county(storms_df, county_list, storm_type=[\"Tornado\"]))"
   ]
  },
  {
   "cell_type": "code",
   "execution_count": 26,
   "metadata": {},
   "outputs": [
    {
     "name": "stdout",
     "output_type": "stream",
     "text": [
      "--- 3.1 ---\n",
      "A Heavy Snow occurred on 2015-01-05 21:00:00-05:00 in TIPPECANOE county.\n",
      "A Hail occurred on 2015-04-08 16:15:00-05:00 in TIPPECANOE county.\n",
      "A Hail occurred on 2015-04-08 16:25:00-05:00 in TIPPECANOE county.\n",
      "A Thunderstorm Wind occurred on 2015-06-12 16:37:00-05:00 in TIPPECANOE county.\n",
      "A Thunderstorm Wind occurred on 2015-06-12 16:40:00-05:00 in TIPPECANOE county.\n",
      "A Thunderstorm Wind occurred on 2015-06-21 00:15:00-05:00 in TIPPECANOE county.\n",
      "A Thunderstorm Wind occurred on 2015-06-07 19:15:00-05:00 in TIPPECANOE county.\n",
      "A Hail occurred on 2015-06-08 19:50:00-05:00 in TIPPECANOE county.\n",
      "A Thunderstorm Wind occurred on 2015-06-07 18:51:00-05:00 in TIPPECANOE county.\n",
      "A Thunderstorm Wind occurred on 2015-06-21 00:10:00-05:00 in TIPPECANOE county.\n",
      "A Thunderstorm Wind occurred on 2015-06-21 00:27:00-05:00 in TIPPECANOE county.\n",
      "A Thunderstorm Wind occurred on 2015-07-13 09:50:00-05:00 in TIPPECANOE county.\n",
      "A Tornado occurred on 2015-07-17 15:33:00-05:00 in TIPPECANOE county.\n",
      "A Flood occurred on 2015-07-17 15:30:00-05:00 in TIPPECANOE county.\n",
      "A Hail occurred on 2015-07-17 15:04:00-05:00 in TIPPECANOE county.\n",
      "A Thunderstorm Wind occurred on 2015-07-17 15:04:00-05:00 in TIPPECANOE county.\n",
      "A Tornado occurred on 2015-07-17 15:38:00-05:00 in TIPPECANOE county.\n",
      "A Hail occurred on 2015-09-18 21:34:00-05:00 in TIPPECANOE county.\n",
      "A Thunderstorm Wind occurred on 2015-09-18 21:42:00-05:00 in TIPPECANOE county.\n",
      "A Hail occurred on 2015-09-18 21:43:00-05:00 in TIPPECANOE county.\n",
      "A Thunderstorm Wind occurred on 2015-09-18 21:43:00-05:00 in TIPPECANOE county.\n",
      "--- 3.2 ---\n",
      "A Flash Flood occurred on 2015-06-22 05:20:00-05:00 in SPENCER county.\n",
      "A Flood occurred on 2015-04-08 16:36:00-05:00 in MARION county.\n",
      "A Flood occurred on 2015-06-08 02:16:00-05:00 in VERMILLION county.\n",
      "A Flash Flood occurred on 2015-06-25 08:00:00-05:00 in VERMILLION county.\n",
      "A Flood occurred on 2015-06-26 22:45:00-05:00 in MARION county.\n",
      "A Flood occurred on 2015-06-19 10:23:00-05:00 in MONROE county.\n",
      "A Flash Flood occurred on 2015-07-20 23:25:00-05:00 in MARION county.\n",
      "A Flash Flood occurred on 2015-07-21 00:14:00-05:00 in MARION county.\n",
      "A Flash Flood occurred on 2015-07-26 18:26:00-05:00 in MARION county.\n",
      "A Flash Flood occurred on 2015-07-07 14:20:00-05:00 in MARION county.\n",
      "A Flash Flood occurred on 2015-07-14 01:20:00-05:00 in MARION county.\n",
      "A Flood occurred on 2015-07-17 18:29:00-05:00 in MARION county.\n",
      "A Flash Flood occurred on 2015-07-20 23:20:00-05:00 in MARION county.\n",
      "A Flood occurred on 2015-12-27 11:30:00-05:00 in MARION county.\n",
      "A Flood occurred on 2015-12-30 22:00:00-05:00 in SPENCER county.\n",
      "--- 3.3 ---\n",
      "A Tornado occurred on 2015-04-07 15:27:00-05:00 in PERRY county.\n",
      "A Tornado occurred on 2015-05-30 19:47:00-05:00 in MARION county.\n",
      "A Tornado occurred on 2015-06-07 16:28:00-05:00 in JASPER county.\n",
      "A Tornado occurred on 2015-06-07 16:37:00-05:00 in JASPER county.\n",
      "A Tornado occurred on 2015-06-19 15:40:00-05:00 in PERRY county.\n",
      "A Tornado occurred on 2015-07-13 20:25:00-05:00 in PUTNAM county.\n",
      "A Tornado occurred on 2015-07-17 15:33:00-05:00 in TIPPECANOE county.\n",
      "A Tornado occurred on 2015-07-13 20:27:00-05:00 in PUTNAM county.\n",
      "A Tornado occurred on 2015-07-12 02:38:00-05:00 in JOHNSON county.\n",
      "A Tornado occurred on 2015-07-13 19:59:00-05:00 in BENTON county.\n",
      "A Tornado occurred on 2015-04-07 14:20:00-05:00 in VANDERBURGH county.\n",
      "A Tornado occurred on 2015-04-07 14:28:00-05:00 in WARRICK county.\n",
      "A Tornado occurred on 2015-04-07 14:47:00-05:00 in WARRICK county.\n",
      "A Tornado occurred on 2015-04-07 14:54:00-05:00 in WARRICK county.\n",
      "A Tornado occurred on 2015-04-07 14:56:00-05:00 in SPENCER county.\n",
      "A Tornado occurred on 2015-07-13 20:15:00-05:00 in WARREN county.\n",
      "A Tornado occurred on 2015-07-17 15:38:00-05:00 in TIPPECANOE county.\n",
      "A Tornado occurred on 2015-06-07 17:31:00-05:00 in STARKE county.\n",
      "A Tornado occurred on 2015-12-23 15:42:00-05:00 in JOHNSON county.\n",
      "A Tornado occurred on 2015-12-23 15:55:00-05:00 in HAMILTON county.\n",
      "A Tornado occurred on 2015-12-23 16:55:00-05:00 in WAYNE county.\n",
      "A Tornado occurred on 2015-12-23 16:39:00-05:00 in SPENCER county.\n",
      "A Tornado occurred on 2015-12-23 16:13:00-05:00 in DECATUR county.\n",
      "A Tornado occurred on 2015-12-23 16:14:00-05:00 in RUSH county.\n"
     ]
    }
   ],
   "source": [
    "#@title Solution {display-mode: \"form\"}\n",
    "\n",
    "def display_storms(storms):\n",
    "    for index, event in storms.iterrows():\n",
    "        print(\"A\", event[\"EVENT_TYPE\"], \"occurred on\", event[\"BEGIN_DATE_TIME\"], \"in\", event[\"CZ_NAME\"], \"county.\")\n",
    "\n",
    "# 3.1: Display all storm events in TIPPECANOE county.\n",
    "print(\"--- 3.1 ---\")\n",
    "display_storms(storm_by_county(storms_df, [\"TIPPECANOE\"]))\n",
    "\n",
    "# 3.2: Display all Flood and Flash Flood events in the following counties: MARION, MONROE, SPENCER, VERMILLION\n",
    "print(\"--- 3.2 ---\")\n",
    "counties_to_check = [\"MARION\", \"MONROE\", \"SPENCER\", \"VERMILLION\"]\n",
    "storm_types = [\"Flood\", \"Flash Flood\"]\n",
    "\n",
    "display_storms(storm_by_county(storms_df, counties_to_check, storm_types))\n",
    "\n",
    "# 3.3: Display all Tornado events that occurred in the state.\n",
    "print(\"--- 3.3 ---\")\n",
    "county_list = storms_df[\"CZ_NAME\"].unique()\n",
    "display_storms(storm_by_county(storms_df, county_list, storm_type=[\"Tornado\"]))"
   ]
  },
  {
   "cell_type": "markdown",
   "metadata": {},
   "source": [
    "4. Make a histogram that displays the count of the events which contain \"flood\" in the following counties: [\"MARION\", \"MONROE\", \"SPENCER\", \"VERMILLION\", \"TIPPECANOE\"]. The x axis will be the different \"flood\" event types, and the color of the bar will be the county. The y axis will be the count of the events.\n",
    "\n",
    "HINT: First, you will have to find a way to get all values of `EVENT_TYPE` that contain the word \"flood\" (case insensitive) and make that into a list. Then, you can pass that list and your county list to your `storm_by_county()` function. There are many ways to get the values that contain \"flood\". One way is to use `str.contains()`, but will involve chaining a few methods and doing some dataframe subsetting. Another way is to use a for loop and an if statement and may be more readable. \n",
    "\n",
    "When you make a histogram using `sns.histplot()`, you can use the `multiple='dodge'` argument to make the bars side by side."
   ]
  },
  {
   "cell_type": "code",
   "execution_count": null,
   "metadata": {},
   "outputs": [],
   "source": [
    "# Your code here"
   ]
  },
  {
   "cell_type": "code",
   "execution_count": 27,
   "metadata": {},
   "outputs": [
    {
     "data": {
      "text/plain": [
       "<Axes: xlabel='EVENT_TYPE', ylabel='Count'>"
      ]
     },
     "execution_count": 27,
     "metadata": {},
     "output_type": "execute_result"
    },
    {
     "data": {
      "image/png": "[encoded data removed]",
      "text/plain": [
       "<Figure size 640x480 with 1 Axes>"
      ]
     },
     "metadata": {},
     "output_type": "display_data"
    }
   ],
   "source": [
    "#@title Solution {display-mode: \"form\"}\n",
    "\n",
    "# import seaborn\n",
    "import seaborn as sns\n",
    "\n",
    "# str.contains method\n",
    "storm_list = storms_df[\"EVENT_TYPE\"][storms_df[\"EVENT_TYPE\"].str.contains(\"flood\", case=False)].unique().tolist()\n",
    "\n",
    "# for loop method\n",
    "storm_list = []\n",
    "for event in storms_df[\"EVENT_TYPE\"].dropna().unique():\n",
    "    if \"flood\" in event.lower():\n",
    "        storm_list.append(event)\n",
    "\n",
    "# make a subset\n",
    "storms_subset = storm_by_county(storms_df, county=[\"MARION\", \"MONROE\", \"SPENCER\", \"VERMILLION\", \"TIPPECANOE\"], storm_type = storm_list)\n",
    "\n",
    "# plot the subset\n",
    "sns.histplot(storms_subset, x=\"EVENT_TYPE\", hue=\"CZ_NAME\", multiple=\"dodge\", shrink=0.8)"
   ]
  },
  {
   "cell_type": "markdown",
   "metadata": {},
   "source": [
    "5. Write another function called `summarise_storms` which takes as input the storms object you created, a list of counties, and an optional list of `storm_type` that displays only certain storm types (aka the same arguments as `storm_by_county`). Instead of returning every event, it returns a dataframe summarizing the number of occurences of each event in those counties. **HINT** You may want to use your previous function `storm_by_county` to avoid repeating code!"
   ]
  },
  {
   "cell_type": "code",
   "execution_count": null,
   "metadata": {},
   "outputs": [],
   "source": [
    "# Your code here\n"
   ]
  },
  {
   "cell_type": "markdown",
   "metadata": {},
   "source": [
    "5. Test your function by:\n",
    "- Printing the number of all events in PIKE county without printing information about each one\n",
    "- Printing the total number of \"Thunderstorm Wind\" events in the following counties: ELKHART, LA PORTE, BOONE"
   ]
  },
  {
   "cell_type": "code",
   "execution_count": null,
   "metadata": {
    "tags": [
     "no-execute"
    ]
   },
   "outputs": [],
   "source": [
    "## Test your modified storm_by_county function\n",
    "\n",
    "# 5.1 Display the number of all events in PIKE county\n",
    "print(\"--- 5.1 ---\")\n",
    "print(summarise_storms(storms_df, [\"PIKE\"]))\n",
    "\n",
    "# 5.2 Display the number of Thunderstorm Wind events in the following counties: ELKHART, LA PORTE, BOONE\n",
    "print(\"--- 5.2 ---\")\n",
    "print(summarise_storms(storms_df, [\"ELKHART\", \"LA PORTE\", \"BOONE\"], [\"Thunderstorm Wind\"]))"
   ]
  },
  {
   "cell_type": "code",
   "execution_count": 28,
   "metadata": {},
   "outputs": [
    {
     "name": "stdout",
     "output_type": "stream",
     "text": [
      "--- 5.1 ---\n",
      "  CZ_NAME       EVENT_TYPE  0\n",
      "0    PIKE  Cold/Wind Chill  2\n",
      "1    PIKE        Dense Fog  5\n",
      "2    PIKE            Flood  6\n",
      "3    PIKE     Frost/Freeze  1\n",
      "4    PIKE       Heavy Snow  1\n",
      "5    PIKE     Winter Storm  2\n",
      "6    PIKE   Winter Weather  3\n",
      "--- 5.2 ---\n",
      "    CZ_NAME         EVENT_TYPE  0\n",
      "0     BOONE  Thunderstorm Wind  7\n",
      "1   ELKHART  Thunderstorm Wind  7\n",
      "2  LA PORTE  Thunderstorm Wind  5\n"
     ]
    }
   ],
   "source": [
    "#@title Solution {display-mode: \"form\"}\n",
    "\n",
    "def summarise_storms(storms, county, storm_type=None):\n",
    "  df = storm_by_county(storms, county, storm_type).groupby([\"CZ_NAME\",\"EVENT_TYPE\"]).size().reset_index()\n",
    "  \n",
    "  return df\n",
    "\n",
    "# 5.1 Display the number of all events in PIKE county\n",
    "print(\"--- 5.1 ---\")\n",
    "print(summarise_storms(storms_df, [\"PIKE\"]))\n",
    "\n",
    "# 5.2 Display the number of Thunderstorm Wind events in the following counties: ELKHART, LA PORTE, BOONE\n",
    "print(\"--- 5.2 ---\")\n",
    "print(summarise_storms(storms_df, [\"ELKHART\", \"LA PORTE\", \"BOONE\"], [\"Thunderstorm Wind\"]))"
   ]
  },
  {
   "cell_type": "markdown",
   "metadata": {},
   "source": [
    "6. Use your function to summarize the total counts of each weather event in each county."
   ]
  },
  {
   "cell_type": "code",
   "execution_count": null,
   "metadata": {},
   "outputs": [],
   "source": [
    "# Your code here"
   ]
  },
  {
   "cell_type": "code",
   "execution_count": 29,
   "metadata": {},
   "outputs": [
    {
     "data": {
      "text/html": [
       "<div>\n",
       "<style scoped>\n",
       "    .dataframe tbody tr th:only-of-type {\n",
       "        vertical-align: middle;\n",
       "    }\n",
       "\n",
       "    .dataframe tbody tr th {\n",
       "        vertical-align: top;\n",
       "    }\n",
       "\n",
       "    .dataframe thead th {\n",
       "        text-align: right;\n",
       "    }\n",
       "</style>\n",
       "<table border=\"1\" class=\"dataframe\">\n",
       "  <thead>\n",
       "    <tr style=\"text-align: right;\">\n",
       "      <th></th>\n",
       "      <th>CZ_NAME</th>\n",
       "      <th>EVENT_TYPE</th>\n",
       "      <th>0</th>\n",
       "    </tr>\n",
       "  </thead>\n",
       "  <tbody>\n",
       "    <tr>\n",
       "      <th>0</th>\n",
       "      <td>ADAMS</td>\n",
       "      <td>Extreme Cold/Wind Chill</td>\n",
       "      <td>1</td>\n",
       "    </tr>\n",
       "    <tr>\n",
       "      <th>1</th>\n",
       "      <td>ADAMS</td>\n",
       "      <td>Hail</td>\n",
       "      <td>1</td>\n",
       "    </tr>\n",
       "    <tr>\n",
       "      <th>2</th>\n",
       "      <td>ADAMS</td>\n",
       "      <td>Heavy Rain</td>\n",
       "      <td>1</td>\n",
       "    </tr>\n",
       "    <tr>\n",
       "      <th>3</th>\n",
       "      <td>ADAMS</td>\n",
       "      <td>Heavy Snow</td>\n",
       "      <td>1</td>\n",
       "    </tr>\n",
       "    <tr>\n",
       "      <th>4</th>\n",
       "      <td>ADAMS</td>\n",
       "      <td>Winter Weather</td>\n",
       "      <td>5</td>\n",
       "    </tr>\n",
       "    <tr>\n",
       "      <th>...</th>\n",
       "      <td>...</td>\n",
       "      <td>...</td>\n",
       "      <td>...</td>\n",
       "    </tr>\n",
       "    <tr>\n",
       "      <th>473</th>\n",
       "      <td>WHITLEY</td>\n",
       "      <td>Heavy Snow</td>\n",
       "      <td>2</td>\n",
       "    </tr>\n",
       "    <tr>\n",
       "      <th>474</th>\n",
       "      <td>WHITLEY</td>\n",
       "      <td>Winter Weather</td>\n",
       "      <td>5</td>\n",
       "    </tr>\n",
       "    <tr>\n",
       "      <th>475</th>\n",
       "      <td>Warrick</td>\n",
       "      <td>Dense Fog</td>\n",
       "      <td>1</td>\n",
       "    </tr>\n",
       "    <tr>\n",
       "      <th>476</th>\n",
       "      <td>Warrick</td>\n",
       "      <td>Excessive Heat</td>\n",
       "      <td>1</td>\n",
       "    </tr>\n",
       "    <tr>\n",
       "      <th>477</th>\n",
       "      <td>Warrick</td>\n",
       "      <td>Heat</td>\n",
       "      <td>3</td>\n",
       "    </tr>\n",
       "  </tbody>\n",
       "</table>\n",
       "<p>478 rows × 3 columns</p>\n",
       "</div>"
      ],
      "text/plain": [
       "     CZ_NAME               EVENT_TYPE  0\n",
       "0      ADAMS  Extreme Cold/Wind Chill  1\n",
       "1      ADAMS                     Hail  1\n",
       "2      ADAMS               Heavy Rain  1\n",
       "3      ADAMS               Heavy Snow  1\n",
       "4      ADAMS           Winter Weather  5\n",
       "..       ...                      ... ..\n",
       "473  WHITLEY               Heavy Snow  2\n",
       "474  WHITLEY           Winter Weather  5\n",
       "475  Warrick                Dense Fog  1\n",
       "476  Warrick           Excessive Heat  1\n",
       "477  Warrick                     Heat  3\n",
       "\n",
       "[478 rows x 3 columns]"
      ]
     },
     "execution_count": 29,
     "metadata": {},
     "output_type": "execute_result"
    }
   ],
   "source": [
    "#@title Solution {display-mode: \"form\"}\n",
    "\n",
    "all_weather = storms_df[\"EVENT_TYPE\"].unique().tolist()\n",
    "all_counties = storms_df[\"CZ_NAME\"].unique().tolist()\n",
    "\n",
    "summarise_storms(storms_df, all_counties, all_weather)"
   ]
  },
  {
   "cell_type": "markdown",
   "metadata": {},
   "source": [
    "## Self-guided exploratory questions\n",
    "\n",
    "Here are a few questions we've come up with that can be approached in multiple different ways."
   ]
  },
  {
   "cell_type": "markdown",
   "metadata": {},
   "source": [
    "**Question 1:** What is the most dangerous county in Indiana, assuming danger only comes from the storm events? You will need to account for the area of each county to answer this question. We've provided code to get the table from wikipedia that lists county information. "
   ]
  },
  {
   "cell_type": "code",
   "execution_count": 32,
   "metadata": {},
   "outputs": [
    {
     "name": "stdout",
     "output_type": "stream",
     "text": [
      "Requirement already satisfied: lxml in .\\.venv\\lib\\site-packages (6.0.1)\n"
     ]
    },
    {
     "name": "stderr",
     "output_type": "stream",
     "text": [
      "\n",
      "[notice] A new release of pip is available: 25.1.1 -> 25.2\n",
      "[notice] To update, run: python.exe -m pip install --upgrade pip\n"
     ]
    }
   ],
   "source": [
    "!pip install lxml\n",
    "county_info = pd.read_html(\"https://en.wikipedia.org/wiki/List_of_counties_in_Indiana\", storage_options={\"User-Agent\": \"Mozilla/5.0\"})\n",
    "county_info = county_info[1]"
   ]
  },
  {
   "cell_type": "markdown",
   "metadata": {},
   "source": [
    "You will need to do some data cleaning to get the county names to match up and to extract the area of each county. Then you will need to merge the two dataframes together. "
   ]
  },
  {
   "cell_type": "code",
   "execution_count": 33,
   "metadata": {},
   "outputs": [
    {
     "data": {
      "text/html": [
       "<div>\n",
       "<style scoped>\n",
       "    .dataframe tbody tr th:only-of-type {\n",
       "        vertical-align: middle;\n",
       "    }\n",
       "\n",
       "    .dataframe tbody tr th {\n",
       "        vertical-align: top;\n",
       "    }\n",
       "\n",
       "    .dataframe thead th {\n",
       "        text-align: right;\n",
       "    }\n",
       "</style>\n",
       "<table border=\"1\" class=\"dataframe\">\n",
       "  <thead>\n",
       "    <tr style=\"text-align: right;\">\n",
       "      <th></th>\n",
       "      <th>County</th>\n",
       "      <th>Area[3][12]</th>\n",
       "    </tr>\n",
       "  </thead>\n",
       "  <tbody>\n",
       "    <tr>\n",
       "      <th>0</th>\n",
       "      <td>Adams County</td>\n",
       "      <td>339 sq mi (878 km2)</td>\n",
       "    </tr>\n",
       "    <tr>\n",
       "      <th>1</th>\n",
       "      <td>Allen County</td>\n",
       "      <td>657 sq mi (1,702 km2)</td>\n",
       "    </tr>\n",
       "    <tr>\n",
       "      <th>2</th>\n",
       "      <td>Bartholomew County</td>\n",
       "      <td>407 sq mi (1,054 km2)</td>\n",
       "    </tr>\n",
       "    <tr>\n",
       "      <th>3</th>\n",
       "      <td>Benton County</td>\n",
       "      <td>406 sq mi (1,052 km2)</td>\n",
       "    </tr>\n",
       "    <tr>\n",
       "      <th>4</th>\n",
       "      <td>Blackford County</td>\n",
       "      <td>165 sq mi (427 km2)</td>\n",
       "    </tr>\n",
       "    <tr>\n",
       "      <th>...</th>\n",
       "      <td>...</td>\n",
       "      <td>...</td>\n",
       "    </tr>\n",
       "    <tr>\n",
       "      <th>87</th>\n",
       "      <td>Washington County</td>\n",
       "      <td>514 sq mi (1,331 km2)</td>\n",
       "    </tr>\n",
       "    <tr>\n",
       "      <th>88</th>\n",
       "      <td>Wayne County</td>\n",
       "      <td>402 sq mi (1,041 km2)</td>\n",
       "    </tr>\n",
       "    <tr>\n",
       "      <th>89</th>\n",
       "      <td>Wells County</td>\n",
       "      <td>368 sq mi (953 km2)</td>\n",
       "    </tr>\n",
       "    <tr>\n",
       "      <th>90</th>\n",
       "      <td>White County</td>\n",
       "      <td>505 sq mi (1,308 km2)</td>\n",
       "    </tr>\n",
       "    <tr>\n",
       "      <th>91</th>\n",
       "      <td>Whitley County</td>\n",
       "      <td>336 sq mi (870 km2)</td>\n",
       "    </tr>\n",
       "  </tbody>\n",
       "</table>\n",
       "<p>92 rows × 2 columns</p>\n",
       "</div>"
      ],
      "text/plain": [
       "                County            Area[3][12]\n",
       "0         Adams County    339 sq mi (878 km2)\n",
       "1         Allen County  657 sq mi (1,702 km2)\n",
       "2   Bartholomew County  407 sq mi (1,054 km2)\n",
       "3        Benton County  406 sq mi (1,052 km2)\n",
       "4     Blackford County    165 sq mi (427 km2)\n",
       "..                 ...                    ...\n",
       "87   Washington County  514 sq mi (1,331 km2)\n",
       "88        Wayne County  402 sq mi (1,041 km2)\n",
       "89        Wells County    368 sq mi (953 km2)\n",
       "90        White County  505 sq mi (1,308 km2)\n",
       "91      Whitley County    336 sq mi (870 km2)\n",
       "\n",
       "[92 rows x 2 columns]"
      ]
     },
     "execution_count": 33,
     "metadata": {},
     "output_type": "execute_result"
    }
   ],
   "source": [
    "county_info[[\"County\", \"Area[3][12]\"]]"
   ]
  },
  {
   "cell_type": "code",
   "execution_count": null,
   "metadata": {},
   "outputs": [],
   "source": [
    "# Your code here"
   ]
  },
  {
   "cell_type": "code",
   "execution_count": 34,
   "metadata": {},
   "outputs": [],
   "source": [
    "#@title Solution: data cleaning {display-mode: \"form\"}\n",
    "\n",
    "# cleaning county_info\n",
    "county_info[\"County\"] = county_info[\"County\"].str.replace(\" County\", \"\").str.upper()\n",
    "county_info[\"Area_sq_mi\"] = pd.to_numeric(county_info[\"Area[3][12]\"].str.extract(r'([0-9,]+)')[0])\n",
    "\n",
    "# merge the two dataframes\n",
    "storms_merged = pd.merge(storms_df, county_info, left_on=\"CZ_NAME\", right_on=\"County\")"
   ]
  },
  {
   "cell_type": "code",
   "execution_count": 35,
   "metadata": {},
   "outputs": [
    {
     "name": "stdout",
     "output_type": "stream",
     "text": [
      "       CZ_NAME  Area_sq_mi  EVENT_TYPE\n",
      "0        ADAMS         339           9\n",
      "1        ALLEN         657          31\n",
      "2  BARTHOLOMEW         407           7\n",
      "3       BENTON         406           4\n",
      "4    BLACKFORD         165           6\n"
     ]
    },
    {
     "data": {
      "text/html": [
       "<div>\n",
       "<style scoped>\n",
       "    .dataframe tbody tr th:only-of-type {\n",
       "        vertical-align: middle;\n",
       "    }\n",
       "\n",
       "    .dataframe tbody tr th {\n",
       "        vertical-align: top;\n",
       "    }\n",
       "\n",
       "    .dataframe thead th {\n",
       "        text-align: right;\n",
       "    }\n",
       "</style>\n",
       "<table border=\"1\" class=\"dataframe\">\n",
       "  <thead>\n",
       "    <tr style=\"text-align: right;\">\n",
       "      <th></th>\n",
       "      <th>CZ_NAME</th>\n",
       "      <th>Area_sq_mi</th>\n",
       "      <th>EVENT_TYPE</th>\n",
       "      <th>normalized</th>\n",
       "    </tr>\n",
       "  </thead>\n",
       "  <tbody>\n",
       "    <tr>\n",
       "      <th>79</th>\n",
       "      <td>VANDERBURGH</td>\n",
       "      <td>233</td>\n",
       "      <td>34</td>\n",
       "      <td>0.145923</td>\n",
       "    </tr>\n",
       "    <tr>\n",
       "      <th>20</th>\n",
       "      <td>FLOYD</td>\n",
       "      <td>148</td>\n",
       "      <td>19</td>\n",
       "      <td>0.128378</td>\n",
       "    </tr>\n",
       "    <tr>\n",
       "      <th>46</th>\n",
       "      <td>MARION</td>\n",
       "      <td>396</td>\n",
       "      <td>41</td>\n",
       "      <td>0.103535</td>\n",
       "    </tr>\n",
       "    <tr>\n",
       "      <th>9</th>\n",
       "      <td>CLARK</td>\n",
       "      <td>373</td>\n",
       "      <td>37</td>\n",
       "      <td>0.099196</td>\n",
       "    </tr>\n",
       "    <tr>\n",
       "      <th>33</th>\n",
       "      <td>HUNTINGTON</td>\n",
       "      <td>383</td>\n",
       "      <td>37</td>\n",
       "      <td>0.096606</td>\n",
       "    </tr>\n",
       "    <tr>\n",
       "      <th>...</th>\n",
       "      <td>...</td>\n",
       "      <td>...</td>\n",
       "      <td>...</td>\n",
       "      <td>...</td>\n",
       "    </tr>\n",
       "    <tr>\n",
       "      <th>10</th>\n",
       "      <td>CLAY</td>\n",
       "      <td>358</td>\n",
       "      <td>2</td>\n",
       "      <td>0.005587</td>\n",
       "    </tr>\n",
       "    <tr>\n",
       "      <th>26</th>\n",
       "      <td>GREENE</td>\n",
       "      <td>543</td>\n",
       "      <td>3</td>\n",
       "      <td>0.005525</td>\n",
       "    </tr>\n",
       "    <tr>\n",
       "      <th>7</th>\n",
       "      <td>CARROLL</td>\n",
       "      <td>372</td>\n",
       "      <td>2</td>\n",
       "      <td>0.005376</td>\n",
       "    </tr>\n",
       "    <tr>\n",
       "      <th>44</th>\n",
       "      <td>LAWRENCE</td>\n",
       "      <td>449</td>\n",
       "      <td>2</td>\n",
       "      <td>0.004454</td>\n",
       "    </tr>\n",
       "    <tr>\n",
       "      <th>74</th>\n",
       "      <td>SULLIVAN</td>\n",
       "      <td>447</td>\n",
       "      <td>1</td>\n",
       "      <td>0.002237</td>\n",
       "    </tr>\n",
       "  </tbody>\n",
       "</table>\n",
       "<p>90 rows × 4 columns</p>\n",
       "</div>"
      ],
      "text/plain": [
       "        CZ_NAME  Area_sq_mi  EVENT_TYPE  normalized\n",
       "79  VANDERBURGH         233          34    0.145923\n",
       "20        FLOYD         148          19    0.128378\n",
       "46       MARION         396          41    0.103535\n",
       "9         CLARK         373          37    0.099196\n",
       "33   HUNTINGTON         383          37    0.096606\n",
       "..          ...         ...         ...         ...\n",
       "10         CLAY         358           2    0.005587\n",
       "26       GREENE         543           3    0.005525\n",
       "7       CARROLL         372           2    0.005376\n",
       "44     LAWRENCE         449           2    0.004454\n",
       "74     SULLIVAN         447           1    0.002237\n",
       "\n",
       "[90 rows x 4 columns]"
      ]
     },
     "execution_count": 35,
     "metadata": {},
     "output_type": "execute_result"
    }
   ],
   "source": [
    "#@title Solution: example {display-mode: \"form\"}\n",
    "\n",
    "# grouping by county and area\n",
    "df = storms_merged.groupby([\"CZ_NAME\", \"Area_sq_mi\"])[\"EVENT_TYPE\"].count().reset_index()\n",
    "print(df.head())\n",
    "\n",
    "# normalizing number of events by area\n",
    "df[\"normalized\"] = df[\"EVENT_TYPE\"] / df[\"Area_sq_mi\"]\n",
    "\n",
    "# sorting by normalized value\n",
    "df.sort_values(\"normalized\", ascending=False)"
   ]
  },
  {
   "cell_type": "markdown",
   "metadata": {},
   "source": [
    "**Question 2:** What is the best time to visit Indiana if you want to take cool pictures of clouds? The main idea of this question is to summarize the data in such a way that you can tell which month or week or your choice of span of days has the highest concentration of events of interest. "
   ]
  },
  {
   "cell_type": "code",
   "execution_count": null,
   "metadata": {},
   "outputs": [],
   "source": [
    "# Your code here"
   ]
  },
  {
   "cell_type": "code",
   "execution_count": 36,
   "metadata": {},
   "outputs": [
    {
     "data": {
      "text/html": [
       "<div>\n",
       "<style scoped>\n",
       "    .dataframe tbody tr th:only-of-type {\n",
       "        vertical-align: middle;\n",
       "    }\n",
       "\n",
       "    .dataframe tbody tr th {\n",
       "        vertical-align: top;\n",
       "    }\n",
       "\n",
       "    .dataframe thead th {\n",
       "        text-align: right;\n",
       "    }\n",
       "</style>\n",
       "<table border=\"1\" class=\"dataframe\">\n",
       "  <thead>\n",
       "    <tr style=\"text-align: right;\">\n",
       "      <th></th>\n",
       "      <th>BEGIN_DATE_TIME</th>\n",
       "      <th>EVENT_TYPE</th>\n",
       "    </tr>\n",
       "  </thead>\n",
       "  <tbody>\n",
       "    <tr>\n",
       "      <th>0</th>\n",
       "      <td>1</td>\n",
       "      <td>1</td>\n",
       "    </tr>\n",
       "    <tr>\n",
       "      <th>1</th>\n",
       "      <td>2</td>\n",
       "      <td>1</td>\n",
       "    </tr>\n",
       "    <tr>\n",
       "      <th>2</th>\n",
       "      <td>3</td>\n",
       "      <td>4</td>\n",
       "    </tr>\n",
       "    <tr>\n",
       "      <th>3</th>\n",
       "      <td>4</td>\n",
       "      <td>9</td>\n",
       "    </tr>\n",
       "    <tr>\n",
       "      <th>4</th>\n",
       "      <td>5</td>\n",
       "      <td>1</td>\n",
       "    </tr>\n",
       "    <tr>\n",
       "      <th>5</th>\n",
       "      <td>6</td>\n",
       "      <td>14</td>\n",
       "    </tr>\n",
       "    <tr>\n",
       "      <th>6</th>\n",
       "      <td>7</td>\n",
       "      <td>12</td>\n",
       "    </tr>\n",
       "    <tr>\n",
       "      <th>7</th>\n",
       "      <td>8</td>\n",
       "      <td>1</td>\n",
       "    </tr>\n",
       "    <tr>\n",
       "      <th>8</th>\n",
       "      <td>10</td>\n",
       "      <td>2</td>\n",
       "    </tr>\n",
       "    <tr>\n",
       "      <th>9</th>\n",
       "      <td>11</td>\n",
       "      <td>1</td>\n",
       "    </tr>\n",
       "    <tr>\n",
       "      <th>10</th>\n",
       "      <td>12</td>\n",
       "      <td>8</td>\n",
       "    </tr>\n",
       "  </tbody>\n",
       "</table>\n",
       "</div>"
      ],
      "text/plain": [
       "    BEGIN_DATE_TIME  EVENT_TYPE\n",
       "0                 1           1\n",
       "1                 2           1\n",
       "2                 3           4\n",
       "3                 4           9\n",
       "4                 5           1\n",
       "5                 6          14\n",
       "6                 7          12\n",
       "7                 8           1\n",
       "8                10           2\n",
       "9                11           1\n",
       "10               12           8"
      ]
     },
     "execution_count": 36,
     "metadata": {},
     "output_type": "execute_result"
    }
   ],
   "source": [
    "#@title Solution: example {display-mode: \"form\"}\n",
    "\n",
    "# decide which weather events probably have cool clouds\n",
    "cool_clouds = [\"Thunderstorm wind\", \"Tornado\", \"Lightning\", \"Heavy Rain\"]\n",
    "\n",
    "# filter for cool clouds\n",
    "df_clouds = storms_df[storms_df[\"EVENT_TYPE\"].isin(cool_clouds)]\n",
    "\n",
    "# group by month and number of events\n",
    "df_clouds.groupby(df_clouds[\"BEGIN_DATE_TIME\"].dt.month)[\"EVENT_TYPE\"].count().reset_index()"
   ]
  },
  {
   "cell_type": "markdown",
   "metadata": {},
   "source": [
    "**Question 3:** Create a plot that compares the duration in hours of each common event type. Some events occur only infrequently, so your first step would be to filter those out. Then, you will need to decide what type of plot to make. Take a look at the [seaborn gallery](https://seaborn.pydata.org/examples/index.html). If you are having trouble deciding how to represent your data, take a look at this [infographic](https://github.com/Financial-Times/chart-doctor/blob/main/visual-vocabulary/poster.png)"
   ]
  },
  {
   "cell_type": "code",
   "execution_count": null,
   "metadata": {},
   "outputs": [],
   "source": [
    "# Your code here"
   ]
  },
  {
   "cell_type": "code",
   "execution_count": 37,
   "metadata": {},
   "outputs": [
    {
     "name": "stdout",
     "output_type": "stream",
     "text": [
      "EVENT_TYPE\n",
      "Cold/Wind Chill                     0 days 09:00:00\n",
      "Dense Fog                           0 days 07:27:00\n",
      "Extreme Cold/Wind Chill   0 days 12:20:46.153846153\n",
      "Flash Flood               0 days 02:13:29.256198347\n",
      "Flood                        4 days 01:25:38.880000\n",
      "Hail                      0 days 00:01:21.818181818\n",
      "Heat                                0 days 05:24:00\n",
      "Heavy Rain                0 days 02:08:44.444444444\n",
      "Heavy Snow                0 days 16:16:49.923664122\n",
      "Thunderstorm Wind         0 days 00:00:41.984334203\n",
      "Tornado                             0 days 00:02:35\n",
      "Winter Storm              0 days 16:39:05.454545454\n",
      "Winter Weather            0 days 12:19:15.185185185\n",
      "Name: EVENT_DURATION, dtype: timedelta64[ns]\n"
     ]
    },
    {
     "data": {
      "text/html": [
       "<div>\n",
       "<style scoped>\n",
       "    .dataframe tbody tr th:only-of-type {\n",
       "        vertical-align: middle;\n",
       "    }\n",
       "\n",
       "    .dataframe tbody tr th {\n",
       "        vertical-align: top;\n",
       "    }\n",
       "\n",
       "    .dataframe thead th {\n",
       "        text-align: right;\n",
       "    }\n",
       "</style>\n",
       "<table border=\"1\" class=\"dataframe\">\n",
       "  <thead>\n",
       "    <tr style=\"text-align: right;\">\n",
       "      <th></th>\n",
       "      <th>count</th>\n",
       "      <th>mean</th>\n",
       "      <th>std</th>\n",
       "      <th>min</th>\n",
       "      <th>25%</th>\n",
       "      <th>50%</th>\n",
       "      <th>75%</th>\n",
       "      <th>max</th>\n",
       "    </tr>\n",
       "    <tr>\n",
       "      <th>EVENT_TYPE</th>\n",
       "      <th></th>\n",
       "      <th></th>\n",
       "      <th></th>\n",
       "      <th></th>\n",
       "      <th></th>\n",
       "      <th></th>\n",
       "      <th></th>\n",
       "      <th></th>\n",
       "    </tr>\n",
       "  </thead>\n",
       "  <tbody>\n",
       "    <tr>\n",
       "      <th>Cold/Wind Chill</th>\n",
       "      <td>12</td>\n",
       "      <td>0 days 09:00:00</td>\n",
       "      <td>0 days 02:05:20.154737286</td>\n",
       "      <td>0 days 07:00:00</td>\n",
       "      <td>0 days 07:00:00</td>\n",
       "      <td>0 days 09:00:00</td>\n",
       "      <td>0 days 11:00:00</td>\n",
       "      <td>0 days 11:00:00</td>\n",
       "    </tr>\n",
       "    <tr>\n",
       "      <th>Dense Fog</th>\n",
       "      <td>40</td>\n",
       "      <td>0 days 07:27:00</td>\n",
       "      <td>0 days 03:16:24.370352945</td>\n",
       "      <td>0 days 04:00:00</td>\n",
       "      <td>0 days 05:00:00</td>\n",
       "      <td>0 days 05:00:00</td>\n",
       "      <td>0 days 10:00:00</td>\n",
       "      <td>0 days 13:00:00</td>\n",
       "    </tr>\n",
       "    <tr>\n",
       "      <th>Extreme Cold/Wind Chill</th>\n",
       "      <td>26</td>\n",
       "      <td>0 days 12:20:46.153846153</td>\n",
       "      <td>0 days 04:00:33.883213306</td>\n",
       "      <td>0 days 03:00:00</td>\n",
       "      <td>0 days 12:00:00</td>\n",
       "      <td>0 days 12:00:00</td>\n",
       "      <td>0 days 12:00:00</td>\n",
       "      <td>1 days 06:00:00</td>\n",
       "    </tr>\n",
       "    <tr>\n",
       "      <th>Flash Flood</th>\n",
       "      <td>121</td>\n",
       "      <td>0 days 02:13:29.256198347</td>\n",
       "      <td>0 days 03:20:21.201559833</td>\n",
       "      <td>0 days 00:00:00</td>\n",
       "      <td>0 days 00:00:00</td>\n",
       "      <td>0 days 01:51:00</td>\n",
       "      <td>0 days 03:30:00</td>\n",
       "      <td>1 days 03:35:00</td>\n",
       "    </tr>\n",
       "    <tr>\n",
       "      <th>Flood</th>\n",
       "      <td>125</td>\n",
       "      <td>4 days 01:25:38.880000</td>\n",
       "      <td>7 days 03:59:43.207680028</td>\n",
       "      <td>0 days 00:00:00</td>\n",
       "      <td>0 days 01:30:00</td>\n",
       "      <td>0 days 02:18:00</td>\n",
       "      <td>3 days 19:00:00</td>\n",
       "      <td>29 days 09:00:00</td>\n",
       "    </tr>\n",
       "    <tr>\n",
       "      <th>Hail</th>\n",
       "      <td>187</td>\n",
       "      <td>0 days 00:01:21.818181818</td>\n",
       "      <td>0 days 00:01:23.851565542</td>\n",
       "      <td>0 days 00:00:00</td>\n",
       "      <td>0 days 00:00:00</td>\n",
       "      <td>0 days 00:02:00</td>\n",
       "      <td>0 days 00:02:00</td>\n",
       "      <td>0 days 00:10:00</td>\n",
       "    </tr>\n",
       "    <tr>\n",
       "      <th>Heat</th>\n",
       "      <td>15</td>\n",
       "      <td>0 days 05:24:00</td>\n",
       "      <td>0 days 00:49:41.083216358</td>\n",
       "      <td>0 days 05:00:00</td>\n",
       "      <td>0 days 05:00:00</td>\n",
       "      <td>0 days 05:00:00</td>\n",
       "      <td>0 days 05:00:00</td>\n",
       "      <td>0 days 07:00:00</td>\n",
       "    </tr>\n",
       "    <tr>\n",
       "      <th>Heavy Rain</th>\n",
       "      <td>27</td>\n",
       "      <td>0 days 02:08:44.444444444</td>\n",
       "      <td>0 days 03:40:57.113426770</td>\n",
       "      <td>0 days 00:00:00</td>\n",
       "      <td>0 days 00:00:00</td>\n",
       "      <td>0 days 00:00:00</td>\n",
       "      <td>0 days 03:00:00</td>\n",
       "      <td>0 days 12:15:00</td>\n",
       "    </tr>\n",
       "    <tr>\n",
       "      <th>Heavy Snow</th>\n",
       "      <td>131</td>\n",
       "      <td>0 days 16:16:49.923664122</td>\n",
       "      <td>0 days 06:48:08.251044631</td>\n",
       "      <td>0 days 08:00:00</td>\n",
       "      <td>0 days 11:37:30</td>\n",
       "      <td>0 days 15:00:00</td>\n",
       "      <td>0 days 15:00:00</td>\n",
       "      <td>1 days 10:00:00</td>\n",
       "    </tr>\n",
       "    <tr>\n",
       "      <th>Thunderstorm Wind</th>\n",
       "      <td>383</td>\n",
       "      <td>0 days 00:00:41.984334203</td>\n",
       "      <td>0 days 00:01:27.395291215</td>\n",
       "      <td>0 days 00:00:00</td>\n",
       "      <td>0 days 00:00:00</td>\n",
       "      <td>0 days 00:00:00</td>\n",
       "      <td>0 days 00:01:00</td>\n",
       "      <td>0 days 00:11:00</td>\n",
       "    </tr>\n",
       "    <tr>\n",
       "      <th>Tornado</th>\n",
       "      <td>24</td>\n",
       "      <td>0 days 00:02:35</td>\n",
       "      <td>0 days 00:02:03.745882671</td>\n",
       "      <td>0 days 00:00:00</td>\n",
       "      <td>0 days 00:01:00</td>\n",
       "      <td>0 days 00:02:00</td>\n",
       "      <td>0 days 00:03:15</td>\n",
       "      <td>0 days 00:08:00</td>\n",
       "    </tr>\n",
       "    <tr>\n",
       "      <th>Winter Storm</th>\n",
       "      <td>33</td>\n",
       "      <td>0 days 16:39:05.454545454</td>\n",
       "      <td>0 days 05:00:36.440386566</td>\n",
       "      <td>0 days 11:00:00</td>\n",
       "      <td>0 days 12:30:00</td>\n",
       "      <td>0 days 15:00:00</td>\n",
       "      <td>0 days 20:00:00</td>\n",
       "      <td>1 days 02:00:00</td>\n",
       "    </tr>\n",
       "    <tr>\n",
       "      <th>Winter Weather</th>\n",
       "      <td>162</td>\n",
       "      <td>0 days 12:19:15.185185185</td>\n",
       "      <td>0 days 05:43:50.386658814</td>\n",
       "      <td>0 days 00:01:00</td>\n",
       "      <td>0 days 07:15:00</td>\n",
       "      <td>0 days 11:00:00</td>\n",
       "      <td>0 days 17:00:00</td>\n",
       "      <td>1 days 06:00:00</td>\n",
       "    </tr>\n",
       "  </tbody>\n",
       "</table>\n",
       "</div>"
      ],
      "text/plain": [
       "                        count                       mean  \\\n",
       "EVENT_TYPE                                                 \n",
       "Cold/Wind Chill            12            0 days 09:00:00   \n",
       "Dense Fog                  40            0 days 07:27:00   \n",
       "Extreme Cold/Wind Chill    26  0 days 12:20:46.153846153   \n",
       "Flash Flood               121  0 days 02:13:29.256198347   \n",
       "Flood                     125     4 days 01:25:38.880000   \n",
       "Hail                      187  0 days 00:01:21.818181818   \n",
       "Heat                       15            0 days 05:24:00   \n",
       "Heavy Rain                 27  0 days 02:08:44.444444444   \n",
       "Heavy Snow                131  0 days 16:16:49.923664122   \n",
       "Thunderstorm Wind         383  0 days 00:00:41.984334203   \n",
       "Tornado                    24            0 days 00:02:35   \n",
       "Winter Storm               33  0 days 16:39:05.454545454   \n",
       "Winter Weather            162  0 days 12:19:15.185185185   \n",
       "\n",
       "                                               std              min  \\\n",
       "EVENT_TYPE                                                            \n",
       "Cold/Wind Chill          0 days 02:05:20.154737286  0 days 07:00:00   \n",
       "Dense Fog                0 days 03:16:24.370352945  0 days 04:00:00   \n",
       "Extreme Cold/Wind Chill  0 days 04:00:33.883213306  0 days 03:00:00   \n",
       "Flash Flood              0 days 03:20:21.201559833  0 days 00:00:00   \n",
       "Flood                    7 days 03:59:43.207680028  0 days 00:00:00   \n",
       "Hail                     0 days 00:01:23.851565542  0 days 00:00:00   \n",
       "Heat                     0 days 00:49:41.083216358  0 days 05:00:00   \n",
       "Heavy Rain               0 days 03:40:57.113426770  0 days 00:00:00   \n",
       "Heavy Snow               0 days 06:48:08.251044631  0 days 08:00:00   \n",
       "Thunderstorm Wind        0 days 00:01:27.395291215  0 days 00:00:00   \n",
       "Tornado                  0 days 00:02:03.745882671  0 days 00:00:00   \n",
       "Winter Storm             0 days 05:00:36.440386566  0 days 11:00:00   \n",
       "Winter Weather           0 days 05:43:50.386658814  0 days 00:01:00   \n",
       "\n",
       "                                     25%              50%              75%  \\\n",
       "EVENT_TYPE                                                                   \n",
       "Cold/Wind Chill          0 days 07:00:00  0 days 09:00:00  0 days 11:00:00   \n",
       "Dense Fog                0 days 05:00:00  0 days 05:00:00  0 days 10:00:00   \n",
       "Extreme Cold/Wind Chill  0 days 12:00:00  0 days 12:00:00  0 days 12:00:00   \n",
       "Flash Flood              0 days 00:00:00  0 days 01:51:00  0 days 03:30:00   \n",
       "Flood                    0 days 01:30:00  0 days 02:18:00  3 days 19:00:00   \n",
       "Hail                     0 days 00:00:00  0 days 00:02:00  0 days 00:02:00   \n",
       "Heat                     0 days 05:00:00  0 days 05:00:00  0 days 05:00:00   \n",
       "Heavy Rain               0 days 00:00:00  0 days 00:00:00  0 days 03:00:00   \n",
       "Heavy Snow               0 days 11:37:30  0 days 15:00:00  0 days 15:00:00   \n",
       "Thunderstorm Wind        0 days 00:00:00  0 days 00:00:00  0 days 00:01:00   \n",
       "Tornado                  0 days 00:01:00  0 days 00:02:00  0 days 00:03:15   \n",
       "Winter Storm             0 days 12:30:00  0 days 15:00:00  0 days 20:00:00   \n",
       "Winter Weather           0 days 07:15:00  0 days 11:00:00  0 days 17:00:00   \n",
       "\n",
       "                                      max  \n",
       "EVENT_TYPE                                 \n",
       "Cold/Wind Chill           0 days 11:00:00  \n",
       "Dense Fog                 0 days 13:00:00  \n",
       "Extreme Cold/Wind Chill   1 days 06:00:00  \n",
       "Flash Flood               1 days 03:35:00  \n",
       "Flood                    29 days 09:00:00  \n",
       "Hail                      0 days 00:10:00  \n",
       "Heat                      0 days 07:00:00  \n",
       "Heavy Rain                0 days 12:15:00  \n",
       "Heavy Snow                1 days 10:00:00  \n",
       "Thunderstorm Wind         0 days 00:11:00  \n",
       "Tornado                   0 days 00:08:00  \n",
       "Winter Storm              1 days 02:00:00  \n",
       "Winter Weather            1 days 06:00:00  "
      ]
     },
     "execution_count": 37,
     "metadata": {},
     "output_type": "execute_result"
    }
   ],
   "source": [
    "#@title Solution: data parsing {display-mode: \"form\"}\n",
    "\n",
    "# get event duration. We've already done this, but the code is reproduced before\n",
    "\n",
    "storms_df[\"EVENT_DURATION\"] = storms_df[\"END_DATE_TIME\"] - storms_df[\"BEGIN_DATE_TIME\"]\n",
    "\n",
    "# filter out events which only occurred <10 times in the year\n",
    "\n",
    "storms_filtered = storms_df.groupby(\"EVENT_TYPE\").filter(lambda x: len(x) > 10)\n",
    "\n",
    "# group by event type and calculate average duration\n",
    "\n",
    "print(storms_filtered.groupby(\"EVENT_TYPE\")[\"EVENT_DURATION\"].mean())\n",
    "\n",
    "storms_filtered.groupby(\"EVENT_TYPE\")[\"EVENT_DURATION\"].describe()"
   ]
  },
  {
   "cell_type": "code",
   "execution_count": 38,
   "metadata": {},
   "outputs": [
    {
     "name": "stderr",
     "output_type": "stream",
     "text": [
      "C:\\Users\\Gregg\\AppData\\Local\\Temp\\ipykernel_38596\\1940921173.py:11: SettingWithCopyWarning: \n",
      "A value is trying to be set on a copy of a slice from a DataFrame.\n",
      "Try using .loc[row_indexer,col_indexer] = value instead\n",
      "\n",
      "See the caveats in the documentation: https://pandas.pydata.org/pandas-docs/stable/user_guide/indexing.html#returning-a-view-versus-a-copy\n",
      "  storms_no_flood[\"EVENT_DURATION_HOURS\"] = storms_no_flood[\"EVENT_DURATION\"].dt.total_seconds() / 3600\n"
     ]
    },
    {
     "data": {
      "image/png": "[encoded data removed]",
      "text/plain": [
       "<Figure size 640x480 with 1 Axes>"
      ]
     },
     "metadata": {},
     "output_type": "display_data"
    }
   ],
   "source": [
    "#@title Solution: plotting {display-mode: \"form\"}\n",
    "\n",
    "# plot the distribution of event durations as a stripplot with points using seaborn\n",
    "import matplotlib.pyplot as plt\n",
    "import seaborn as sns\n",
    "import matplotlib.dates as mdates\n",
    "\n",
    "storms_no_flood = storms_filtered[~storms_filtered[\"EVENT_TYPE\"].str.contains(\"Flood\")]\n",
    "\n",
    "# convert EVENT_DURATION to number of hours\n",
    "storms_no_flood[\"EVENT_DURATION_HOURS\"] = storms_no_flood[\"EVENT_DURATION\"].dt.total_seconds() / 3600\n",
    "\n",
    "fig, ax = plt.subplots()\n",
    "\n",
    "ax = sns.stripplot(data=storms_no_flood, x=\"EVENT_DURATION_HOURS\", y=\"EVENT_TYPE\")\n",
    "\n",
    "plt.show()"
   ]
  },
  {
   "cell_type": "code",
   "execution_count": 39,
   "metadata": {},
   "outputs": [
    {
     "name": "stderr",
     "output_type": "stream",
     "text": [
      "C:\\Users\\Gregg\\AppData\\Local\\Temp\\ipykernel_38596\\42002734.py:11: SettingWithCopyWarning: \n",
      "A value is trying to be set on a copy of a slice from a DataFrame.\n",
      "Try using .loc[row_indexer,col_indexer] = value instead\n",
      "\n",
      "See the caveats in the documentation: https://pandas.pydata.org/pandas-docs/stable/user_guide/indexing.html#returning-a-view-versus-a-copy\n",
      "  storms_flood_only[\"EVENT_DURATION_HOURS\"] = storms_flood_only[\"EVENT_DURATION\"].dt.total_seconds() / 3600\n"
     ]
    },
    {
     "data": {
      "image/png": "[encoded data removed]",
      "text/plain": [
       "<Figure size 640x480 with 1 Axes>"
      ]
     },
     "metadata": {},
     "output_type": "display_data"
    }
   ],
   "source": [
    "#@title Solution: plotting pt 2 {display-mode: \"form\"}\n",
    "\n",
    "# plot the distribution of event durations as a stripplot with points using seaborn\n",
    "# separately plotting EVENT_TYPE = flood\n",
    "\n",
    "fig, ax = plt.subplots()\n",
    "\n",
    "storms_flood_only = storms_filtered[storms_filtered[\"EVENT_TYPE\"].str.contains(\"Flood\")]\n",
    "\n",
    "# convert EVENT_DURATION to number of hours\n",
    "storms_flood_only[\"EVENT_DURATION_HOURS\"] = storms_flood_only[\"EVENT_DURATION\"].dt.total_seconds() / 3600\n",
    "\n",
    "ax = sns.stripplot(data=storms_flood_only, x=\"EVENT_DURATION_HOURS\", y=\"EVENT_TYPE\")\n",
    "\n",
    "plt.show()"
   ]
  }
 ],
 "metadata": {
  "kernelspec": {
   "display_name": ".venv",
   "language": "python",
   "name": "python3"
  },
  "language_info": {
   "codemirror_mode": {
    "name": "ipython",
    "version": 3
   },
   "file_extension": ".py",
   "mimetype": "text/x-python",
   "name": "python",
   "nbconvert_exporter": "python",
   "pygments_lexer": "ipython3",
   "version": "3.12.1"
  }
 },
 "nbformat": 4,
 "nbformat_minor": 2
}
