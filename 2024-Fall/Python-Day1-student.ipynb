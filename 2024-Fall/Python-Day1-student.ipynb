{
 "cells": [
  {
   "cell_type": "markdown",
   "metadata": {},
   "source": [
    "# Getting started: Installation\n",
    "\n",
    "You can run this notebook by uploading it to Google Colab. You can also run it on your own computer by installing Jupyter Notebook and either running jupyter in your browser or using an IDE like VSCode. \n",
    "\n",
    "To run this using Google Colab, go to https://colab.research.google.com/ and upload this notebook. That's it!\n",
    "\n",
    "To run this locally, you will need to install python, anaconda, and the necessary libraries.\n",
    "\n",
    "0. If you are on Windows, [install WSL](https://learn.microsoft.com/en-us/windows/wsl/install). Once WSL is installed, you'll have a Linux terminal available to you in Windows. You can open this terminal by typing \"wsl\" in the search bar and clicking the app that appears. You'll also find your Linux distribution as a mounted drive in your file explorer.\n",
    "1. Install mamba, a package manager using the command line - Terminal for Mac or WSL for Windows. \n",
    "    1.1. For Mac, if you already have brew installed, install mamba using `brew install miniforge` and initialize it using `conda init zsh`. Then restart your terminal. If you don't have homebrew (i.e. the brew command doesn't exist), install brew first using `/bin/bash -c \"$(curl -fsSL https://raw.githubusercontent.com/Homebrew/install/HEAD/install.sh)\"`\n",
    "    1.2. For Windows, download the Linux (x86_64) installer from the miniforge repository [here](https://github.com/conda-forge/miniforge) and install with `bash Miniforge3-Linux-x86_64.sh`.\n",
    "2. Create a new environment using mamba with `mamba create -n pyworkshop numpy pandas matplotlib seaborn jupyter` and activate it with `conda activate pyworkshop`.\n",
    "3. You can now run the jupyter notebook by typing `jupyter notebook` in the terminal. This will open a browser window with the jupyter notebook interface. You can navigate to the folder where you saved this notebook and open it.\n",
    "4. Alternatively, install [VSCode](https://code.visualstudio.com/) and the Python extension. Then open this notebook in VSCode and run it with the kernel that belongs to the pyworkshop environment. [How to guide here](https://code.visualstudio.com/docs/datascience/jupyter-notebooks)\n",
    "\n",
    "# What is python and why do we need it/why are you taking this workshop?\n",
    "\n",
    "* Python is a programming language that is commonly used for data analysis\n",
    "* R is another commonly used programming language, probably second to python\n",
    "* Python is more general purpose than R, which is specifically for data analysis\n",
    "* Programming languages are a way for humans to give the computer commands\n",
    "* Regardless of how you collect data, it needs to be analyzed and code is the best way (Don't use excel!)"
   ]
  },
  {
   "cell_type": "markdown",
   "metadata": {},
   "source": [
    "# Jupyter basics"
   ]
  },
  {
   "cell_type": "markdown",
   "metadata": {},
   "source": [
    "Jupyter notebooks are made up of cells of either markdown or code. This cell is a markdown cell, which means it's plaintext that has added formatting. Double clicking a cell allows you to edit it. To run a cell, you can press **SHIFT+ENTER** while having it selected, or press the **Run** button at the top of the cell (exact location depends on the editor you're using). When you run this markdown cell, it will render the formatting. The below cell is a code cell, which means when you run it, the code within will be executed and any output will be printed below. Because of the way we set up the kernel (the engine that executes code in a notebook), the code blocks will be running python code. Run the cells below."
   ]
  },
  {
   "cell_type": "code",
   "execution_count": null,
   "metadata": {},
   "outputs": [],
   "source": [
    "# Run this cell to import the libraries we'll be using\n",
    "# If you don't have the kernel loaded or installed, it will not work\n",
    "\n",
    "import numpy as np\n",
    "import pandas as pd\n",
    "import matplotlib.pyplot as plt"
   ]
  },
  {
   "cell_type": "code",
   "execution_count": null,
   "metadata": {},
   "outputs": [],
   "source": [
    "# Run this cell to print a message to the screen\n",
    "print(\"this is my code cell\")"
   ]
  },
  {
   "cell_type": "markdown",
   "metadata": {},
   "source": [
    "Any variables that you assign in one cell will be available in other cells. But it will not be saved between sessions. If you close the notebook and reopen it, you will need to rerun the previous cells to get it back. Therefore, it's important to be aware of the state of your notebook and the order in which your cells were run."
   ]
  },
  {
   "cell_type": "code",
   "execution_count": null,
   "metadata": {},
   "outputs": [],
   "source": [
    "my_string = \"this is my code cell\""
   ]
  },
  {
   "cell_type": "code",
   "execution_count": null,
   "metadata": {},
   "outputs": [],
   "source": [
    "print(my_string)"
   ]
  },
  {
   "cell_type": "markdown",
   "metadata": {},
   "source": [
    "Jupyter notebooks can be exported to pdf or html, so that other people can view both the code and its output. It's a good format for handing in homeworks, for example, since you can show your work. In this notebook, there will be exercises with placeholders for the code that you will have to fill in. For these exercises, we encourage you to work with each other, use google, LLMs, and whatever other resources if you are stuck. It's not an exam, but just a way to get practice of the concepts. Afterwards, we will post the completed notebook on our website so you can have examples of solutions. "
   ]
  },
  {
   "cell_type": "markdown",
   "metadata": {},
   "source": [
    "# Python basics"
   ]
  },
  {
   "cell_type": "markdown",
   "metadata": {},
   "source": [
    "## Strings"
   ]
  },
  {
   "cell_type": "markdown",
   "metadata": {},
   "source": [
    "In programming, we store values and objects in variables. The data that we work with are values or objects and can be things like tables or single numbers or sentences, etc. Variables are the names we assign to those objects. Our first topic is going to be about the main data types you'll encounter: numbers, text, and booleans. Text in programming is called a string. Strings are encoded in quotes (either single or double). \n",
    "\n",
    "In python we use the `=` to assign a value/object to a variable. Run the cell below to assign the value \"this is my string\" to the variable `my_string`."
   ]
  },
  {
   "cell_type": "code",
   "execution_count": null,
   "metadata": {},
   "outputs": [],
   "source": [
    "my_string = \"this is my string\"\n",
    "print(my_string)"
   ]
  },
  {
   "cell_type": "markdown",
   "metadata": {},
   "source": [
    "If you need to quote a quotation, you need to \"escape\" the quote with a `\\` backslash. If you want to add a new line in a string, you can use `\\n` so that the string is printed on multiple lines. For large blocks of string, you can use triple quotes, `\"\"\"...\"\"\"`, and you won't have to add newlines in this case. "
   ]
  },
  {
   "cell_type": "code",
   "execution_count": null,
   "metadata": {},
   "outputs": [],
   "source": [
    "print(\"line one \\n line two \\nand a \\\"quotation\\\"\")"
   ]
  },
  {
   "cell_type": "code",
   "execution_count": null,
   "metadata": {},
   "outputs": [],
   "source": [
    "print(\"\"\"\n",
    "first line\n",
    "second line\n",
    "\"\"\")"
   ]
  },
  {
   "cell_type": "markdown",
   "metadata": {},
   "source": [
    "Strings are indexed, meaning you can slice them and get sections of them. Python subscripting is always 0-indexed, meaning the first element is 0. As we'll see when we cover lists, you can use the `[]` to specify portions of the string, such as a specific position or use `:` to specify an interval. Using `:` is called **slicing**. When you slice, the beginning of the slice is included, but the end isn't. So `[1:5]` will get you characters 2-4. You can even skip characters during slicing by adding another number after the colon to specify the interval to retrieve items. So `[::2]` will get you every other character from the string. Indices can also be negative numbers, which will cause the counting to begin at the end of the object. For example, `[-1]` gets the last character of the string."
   ]
  },
  {
   "cell_type": "code",
   "execution_count": null,
   "metadata": {},
   "outputs": [],
   "source": [
    "print(my_string[0:4]) # this will print \"this\"\n",
    "print(my_string[0:10:2]) # this will print \"ti sm\", every other character from 0 to 10\n",
    "print(my_string[-3:]) # this gets the last 3 characters"
   ]
  },
  {
   "cell_type": "markdown",
   "metadata": {},
   "source": [
    "Strings can be concatenated together using the `+` operator and repeated using the `*` operator. "
   ]
  },
  {
   "cell_type": "code",
   "execution_count": null,
   "metadata": {},
   "outputs": [],
   "source": [
    "my_string + \" and another string\" + 3 * \" times 3\""
   ]
  },
  {
   "cell_type": "markdown",
   "metadata": {},
   "source": [
    "You will get an error if you try to combine string and numeric types."
   ]
  },
  {
   "cell_type": "code",
   "execution_count": null,
   "metadata": {},
   "outputs": [],
   "source": [
    "%%script false --no-raise-error\n",
    "my_string + 3"
   ]
  },
  {
   "cell_type": "markdown",
   "metadata": {},
   "source": [
    "Another important characteristic of strings is that they are **immutable**, meaning you can't change the value of a string. You need to make a new string instead. "
   ]
  },
  {
   "cell_type": "code",
   "execution_count": null,
   "metadata": {},
   "outputs": [],
   "source": [
    "%%script false --no-raise-error\n",
    "my_string[1] = \"T\" # this will give an error because strings are immutable"
   ]
  },
  {
   "cell_type": "markdown",
   "metadata": {},
   "source": [
    "## Numerical values"
   ]
  },
  {
   "cell_type": "markdown",
   "metadata": {},
   "source": [
    "Besides strings, we often work with numerical values. Numerical values in python come in a variety of flavors, including `int` for integeter, `float` for floating point decimal. \n",
    "\n",
    "Run the code below to assign the int 5 to the variable x. "
   ]
  },
  {
   "cell_type": "code",
   "execution_count": null,
   "metadata": {},
   "outputs": [],
   "source": [
    "x = 5"
   ]
  },
  {
   "cell_type": "markdown",
   "metadata": {},
   "source": [
    "We can then use x in place of 5 in arithmetic operations. Python supports basic arithmetic operations such as +, -, *, /, and ** for exponentiation. "
   ]
  },
  {
   "cell_type": "code",
   "execution_count": null,
   "metadata": {},
   "outputs": [],
   "source": [
    "print(x + 5)\n",
    "print(x)"
   ]
  },
  {
   "cell_type": "code",
   "execution_count": null,
   "metadata": {},
   "outputs": [],
   "source": [
    "print(x ** 2)\n",
    "print(x)"
   ]
  },
  {
   "cell_type": "markdown",
   "metadata": {},
   "source": [
    "Notice that the value of x remained the same after each operation. If you want to modify the value of x you need to reassign it. "
   ]
  },
  {
   "cell_type": "code",
   "execution_count": null,
   "metadata": {},
   "outputs": [],
   "source": [
    "x = x + 5\n",
    "print(x)"
   ]
  },
  {
   "cell_type": "markdown",
   "metadata": {},
   "source": [
    "A common operator that combines assignment and arithmetic is `+=`. This adds the value on the right to the variable on the left and changes it to the new value. This type of operator is also available for subtraction `-=`, multiplication `*=`, and division `/=`."
   ]
  },
  {
   "cell_type": "code",
   "execution_count": null,
   "metadata": {},
   "outputs": [],
   "source": [
    "x += 5\n",
    "print(x)\n",
    "x /= 3\n",
    "print(x)"
   ]
  },
  {
   "cell_type": "markdown",
   "metadata": {},
   "source": [
    "Some other helpful operations include:\n",
    "\n",
    "* `//` divides and then rounds down (floor division)\n",
    "* `%` is the modulo operator and gives the remainder of a division\n",
    "* `**` is the exponentiation operator\n",
    "* `==` checks if two values are equal\n",
    "* `!=` checks if two values are not equal\n",
    "* `>` and `<` check if one value is greater or less than another"
   ]
  },
  {
   "cell_type": "markdown",
   "metadata": {},
   "source": [
    "For other mathematical operators, you can **import** the math library and use the functions within it."
   ]
  },
  {
   "cell_type": "code",
   "execution_count": null,
   "metadata": {},
   "outputs": [],
   "source": [
    "from math import pi, sqrt\n",
    "print(pi)\n",
    "print(sqrt(x))"
   ]
  },
  {
   "cell_type": "markdown",
   "metadata": {},
   "source": [
    "## Booleans"
   ]
  },
  {
   "cell_type": "markdown",
   "metadata": {},
   "source": [
    "A final data type that we'll cover is the boolean. Booleans in python look like `True` or `False` (case sensitive). Notice these are words, but there are no quotes around them. That means python recognizes them as special values. Therefore, make sure that when you are naming variables, you don't use these words as variable names."
   ]
  },
  {
   "cell_type": "code",
   "execution_count": null,
   "metadata": {},
   "outputs": [],
   "source": [
    "type(True)"
   ]
  },
  {
   "cell_type": "markdown",
   "metadata": {},
   "source": [
    "Strings, numbers, and booleans are examples of **data types**. \n",
    "\n",
    "**One of the most important concepts in programming is to always know what data type you are working with.** This is because the operations you can perform on a variable depend on its data type and if you have the wrong data type, the program or function you're using may have unexpected behavior. Most likely, it will result in an error, but the error message may not be helpful. If you do get an error, the first thing to check is if the data you gave the function is formatted correctly and is the correct type. "
   ]
  },
  {
   "cell_type": "markdown",
   "metadata": {},
   "source": [
    "If you're ever unsure of a variable's type, you can use the `type()` function to check."
   ]
  },
  {
   "cell_type": "code",
   "execution_count": null,
   "metadata": {},
   "outputs": [],
   "source": [
    "type(my_string)"
   ]
  },
  {
   "cell_type": "code",
   "execution_count": null,
   "metadata": {},
   "outputs": [],
   "source": [
    "type(x)"
   ]
  },
  {
   "cell_type": "markdown",
   "metadata": {},
   "source": [
    "## Objects"
   ]
  },
  {
   "cell_type": "markdown",
   "metadata": {},
   "source": [
    "Python is an object oriented language, which means that everything is an object. Objects have attributes and methods. Attributes are things that describe the object, and methods are things that the object can do. For example, a string object has an attribute `length` and a method `upper()`. Below, you can see some examples of built-in methods for strings."
   ]
  },
  {
   "cell_type": "code",
   "execution_count": null,
   "metadata": {},
   "outputs": [],
   "source": [
    "my_string = \"this is my string\"\n",
    "print(my_string.upper()) # this makes everything uppercase \n",
    "print(my_string.capitalize()) # This capitalizes the first letter\n",
    "print(my_string.replace(\"this\", \"where\")) # this replaces \"this\" with \"where\"\n",
    "print(len(my_string)) # this gets the length of the string\n",
    "print(my_string) # note that none of these methods changed the original string, rather it returned a new string"
   ]
  },
  {
   "cell_type": "markdown",
   "metadata": {},
   "source": [
    "Numerical objects have attributes and methods as well. For example, the simple variable x that we created above has the method `is_integer()`, which returns True if the number is an integer and False if it is not. "
   ]
  },
  {
   "cell_type": "code",
   "execution_count": null,
   "metadata": {},
   "outputs": [],
   "source": [
    "x.is_integer()"
   ]
  },
  {
   "cell_type": "markdown",
   "metadata": {},
   "source": [
    ">**Question:** What value did `x.is_integer()` return? What data type? "
   ]
  },
  {
   "cell_type": "markdown",
   "metadata": {},
   "source": [
    "How do you know what methods and attributes an object has? You can use the `dir()` function to list them all. You will also see a bunch of internal methods, which are the ones with the double underscores. These \"dunder\" methods control how the object behaves with other functions interact with them, such as how to return the length attribute when called with `len()`. For our purposes, we don't have to worry about those. "
   ]
  },
  {
   "cell_type": "code",
   "execution_count": null,
   "metadata": {},
   "outputs": [],
   "source": [
    "print(dir(my_string))"
   ]
  },
  {
   "cell_type": "markdown",
   "metadata": {},
   "source": [
    "One of a string's methods is `.format()`, which allows you to insert variables into a string. Run the code block below and observe how I can use the `.format()` method directly on a string object. I did not need to assign the string to a variable first."
   ]
  },
  {
   "cell_type": "code",
   "execution_count": null,
   "metadata": {},
   "outputs": [],
   "source": [
    "print(\"The value of x is: {}\".format(x))"
   ]
  },
  {
   "cell_type": "markdown",
   "metadata": {},
   "source": [
    "Another way you might see formatting is with an f-string. This is a string that has an `f` before the quotes and then you can insert variables directly into the string by putting them in curly braces."
   ]
  },
  {
   "cell_type": "code",
   "execution_count": null,
   "metadata": {},
   "outputs": [],
   "source": [
    "print(f\"This is a formatted string with x equal to {x}\")"
   ]
  },
  {
   "cell_type": "markdown",
   "metadata": {},
   "source": [
    "For a full list of python's built-in types and their methods, you can go to [the python documentation](https://docs.python.org/3/library/stdtypes.html) and navigate to the type of the object you're working on."
   ]
  },
  {
   "cell_type": "markdown",
   "metadata": {},
   "source": [
    "## Functions"
   ]
  },
  {
   "cell_type": "markdown",
   "metadata": {},
   "source": [
    "We've mentioned functions several times now, by what exactly are they? Functions are pieces of code referred to by a name that takes some input, called **arguments** and does something with them, such as **returning** some other value. Most functions are identified by the double parentheses `()` after their name. The arguments, if any, are placed inside the parentheses. When encountering a new function, it's important to understand the inputs and outputs to use it properly. Functions that are specific to an object is called a **method**."
   ]
  },
  {
   "cell_type": "markdown",
   "metadata": {},
   "source": [
    "You can get help on any function by running `help(function_name)`."
   ]
  },
  {
   "cell_type": "code",
   "execution_count": null,
   "metadata": {},
   "outputs": [],
   "source": [
    "help(my_string.upper)"
   ]
  },
  {
   "cell_type": "code",
   "execution_count": null,
   "metadata": {},
   "outputs": [],
   "source": [
    "help(min)"
   ]
  },
  {
   "cell_type": "markdown",
   "metadata": {},
   "source": [
    "> **Exercise:** Fill in the code below to use the `my_string` variable to print \"This is your string\" instead of \"This is my string\". Remember, string are immutable, but you can create new strings from old ones. Don't forget to try and see if any of the class methods can help you! There are many ways to solve this problem. See [string methods](https://docs.python.org/3/library/stdtypes.html#string-methods)"
   ]
  },
  {
   "cell_type": "code",
   "execution_count": null,
   "metadata": {},
   "outputs": [],
   "source": [
    "# How would you change the string from \"This is my string\" to \"This is your string\"?\n",
    "# Your solution should use the my_string in some way\n",
    "my_string = \"This is my string\"\n",
    "# Your code here"
   ]
  },
  {
   "cell_type": "markdown",
   "metadata": {},
   "source": [
    "Python has a small number of built-in functions that are always available. They are listed [here](https://docs.python.org/3/library/functions.html) in the python documentation. Some functions you may encounter in the future are `abs()`, `dir()`, `help()`, `len()`, `max()`, `min()`, `print()`, `range()`, `round()`, `sum()`, and `type()`."
   ]
  },
  {
   "cell_type": "markdown",
   "metadata": {},
   "source": [
    "# Writing functions"
   ]
  },
  {
   "cell_type": "markdown",
   "metadata": {},
   "source": [
    "Functions are created by using the `def` keyword, followed by the name of the function and arguments in parentheses and a colon `():`. The \"body\" of the function follows below and is where you put the code you want to execute. Importantly, python uses indents/whitespace to delineate sections of code. So whereas in other languages you might use braces or keywords to define the beginning and end of the function body, python indents the whole block instead. Another component of the function is the `return` keyword, which is used to specify the output and also ends the function. Note, that you can include `print` statements within your function that are separate from the object that is returned. "
   ]
  },
  {
   "cell_type": "code",
   "execution_count": null,
   "metadata": {},
   "outputs": [],
   "source": [
    "def area_triangle(base, height):\n",
    "    \"\"\"Returns the area of a triangle if you know the base and height\"\"\"\n",
    "    print(\"This is printed when the function runs\")\n",
    "    return 0.5 * base * height\n",
    "area_triangle(4,4)"
   ]
  },
  {
   "cell_type": "markdown",
   "metadata": {},
   "source": [
    "You can assign the return value of a function to a variable to refer to it later. In that case, the return will not be printed to screen. "
   ]
  },
  {
   "cell_type": "code",
   "execution_count": null,
   "metadata": {},
   "outputs": [],
   "source": [
    "my_area = area_triangle(42, 41)"
   ]
  },
  {
   "cell_type": "code",
   "execution_count": null,
   "metadata": {},
   "outputs": [],
   "source": [
    "print(my_area)"
   ]
  },
  {
   "cell_type": "markdown",
   "metadata": {},
   "source": [
    ">**Exercise:** Write a function called `num_words` that takes a string and returns the number of words in the string. You can use the `split()` method to split the string into a list of words."
   ]
  },
  {
   "cell_type": "code",
   "execution_count": null,
   "metadata": {},
   "outputs": [],
   "source": [
    "# Your code here"
   ]
  },
  {
   "cell_type": "code",
   "execution_count": null,
   "metadata": {},
   "outputs": [],
   "source": [
    "# This should print 7\n",
    "print(num_words(\"This is a sentence with 7 words\"))"
   ]
  },
  {
   "cell_type": "markdown",
   "metadata": {},
   "source": [
    "Look at the two versions of the function below. What is the difference?"
   ]
  },
  {
   "cell_type": "code",
   "execution_count": null,
   "metadata": {},
   "outputs": [],
   "source": [
    "def square(x):\n",
    "    y = x * x\n",
    "    return y\n",
    "square(10)"
   ]
  },
  {
   "cell_type": "code",
   "execution_count": null,
   "metadata": {},
   "outputs": [],
   "source": [
    "def square_print(x):\n",
    "    y = x * x\n",
    "    print(y)\n",
    "square_print(10)"
   ]
  },
  {
   "cell_type": "markdown",
   "metadata": {},
   "source": [
    "The difference is that one returns a values and the other prints it to the console. `print`ing is not the same as `return`ing. Printing outputs something to the \"StdOut\" which will not be able to be save to a variable later on. If you only print and don't return, `None` will be returned instead. "
   ]
  },
  {
   "cell_type": "code",
   "execution_count": null,
   "metadata": {},
   "outputs": [],
   "source": [
    "my_num = square_print(10)\n",
    "print(\"The result of {} squared is {}.\".format(10, my_num))"
   ]
  },
  {
   "cell_type": "markdown",
   "metadata": {},
   "source": [
    "Once a return statement is executed, the function ends. You cannot have a second return statement or any other code execute after it in a function. It is, however, possible to return more than one value. You simply need to separate the values you want to return with a comma. See below for an example of a function that returns both the original input and the calculated result."
   ]
  },
  {
   "cell_type": "code",
   "execution_count": null,
   "metadata": {},
   "outputs": [],
   "source": [
    "def square_return(x):\n",
    "    y = x * x\n",
    "    return x, y\n",
    "input, output = square_return(10)\n",
    "print(\"The result of {} squared is {}.\".format(input, output))"
   ]
  },
  {
   "cell_type": "markdown",
   "metadata": {},
   "source": [
    "## Conditionals\n",
    "\n",
    "In this section, we'll learn how to use conditional statements to control the flow of of our functions. Conditionals allow the function to make decisions based on the input or other results, or to perform the same operation on a group of inputs. The first conditional we'll explore is the `if` statement. The `if` statement will execute something if a condition is fulfilled. The syntax of the if statment is similar to that of functions. First, you start with the keywored `if`, then the condition to be checked (this should be a boolean evaluation), and then a colon. The code to be executed if the condition is true is then indented. If the condition isn't true, you can use the `else` keyword to execute a different set of code. "
   ]
  },
  {
   "cell_type": "code",
   "execution_count": null,
   "metadata": {},
   "outputs": [],
   "source": [
    "def is_even(x):\n",
    "    if x % 2 == 0:\n",
    "        return True\n",
    "    else:\n",
    "        return False\n",
    "is_even(121)"
   ]
  },
  {
   "cell_type": "markdown",
   "metadata": {},
   "source": [
    "If you have multiple conditions to test, you can use `elif` (short for else if) to add conditions. You can then have the `else` catch anything that didn't meet the previous conditions. The next exercise demonstrates how you can use conditionals as a rudimentary error check. "
   ]
  },
  {
   "cell_type": "markdown",
   "metadata": {},
   "source": [
    ">**Exercise:** Write a function `safe_divide` that takes two numbers. Write an `elif` line to test if the second number is zero. If the second number is zero, print \"can't divide by zero!\" and return `None`. If it's not zero, return the result of dividing the first number by the second number."
   ]
  },
  {
   "cell_type": "code",
   "execution_count": null,
   "metadata": {},
   "outputs": [],
   "source": [
    "def safe_divide(x, y):\n",
    "    if type(x) not in [int, float] or type(y) not in [int, float]:\n",
    "        return \"Inputs must be numerical\"\n",
    "    # Your code here"
   ]
  },
  {
   "cell_type": "markdown",
   "metadata": {},
   "source": [
    "You can also use consecutive `if` statements in your functions. This will test each condition in order, regardless of the outcome of the previous condition."
   ]
  },
  {
   "cell_type": "markdown",
   "metadata": {},
   "source": [
    ">**Exercise:** Write a function (`temp_convert`) that takes two arguments, a number `temp` and string `convert_to`. If the string is \"F\", convert the number from Celsius to Fahrenheit. If the string is \"C\", convert the number from Fahrenheit to Celsius. If the string is anything else, print \"Invalid input\" and return `None`."
   ]
  },
  {
   "cell_type": "code",
   "execution_count": null,
   "metadata": {},
   "outputs": [],
   "source": [
    "# Your code here\n",
    "# Tip: you can give a function's arguments a default value, so that if when it is called, \n",
    "# it doesn't need to be invoked. In the below function, `convert_to` is set to \"F\" by default. \n",
    "def temp_convert(temp, convert_to = \"F\"):\n"
   ]
  },
  {
   "cell_type": "markdown",
   "metadata": {},
   "source": [
    "## Loops\n",
    "\n",
    "Loops are a way to repeat the same command multiple times. One common use for a loop is to create a function that accumulates, i.e. a counter that increases until some sequence is exhausted. The syntax of a loop is \"`for` variable `in` iterable\". The variable is the thing you are changing on each iteration of the loop. The iterable is the collection of things that will become variables. See the below function for an example:"
   ]
  },
  {
   "cell_type": "code",
   "execution_count": null,
   "metadata": {},
   "outputs": [],
   "source": [
    "# this function counts the total number of characters in a list of strings \n",
    "# by adding each individual string's length to \"c\" in a for loop\n",
    "def count_len(string_list):\n",
    "    c = 0\n",
    "    for string in string_list:\n",
    "        c += len(string)\n",
    "    return c\n",
    "\n",
    "count_len([\"this\",\"is\",\"my\",\"list\",\"of\",\"strings\"])"
   ]
  },
  {
   "cell_type": "markdown",
   "metadata": {},
   "source": [
    "Another way to iterate is to create your own iterator. Let's say I want to run something for 10 steps, I can write:"
   ]
  },
  {
   "cell_type": "code",
   "execution_count": null,
   "metadata": {},
   "outputs": [],
   "source": [
    "for i in range(0,10):\n",
    "    print(i)"
   ]
  },
  {
   "cell_type": "markdown",
   "metadata": {},
   "source": [
    "If I don't care about i, python convention is to use an underscore to keep from creating a variable."
   ]
  },
  {
   "cell_type": "code",
   "execution_count": null,
   "metadata": {},
   "outputs": [],
   "source": [
    "for _ in range(0,5):\n",
    "    print(\"hi\")"
   ]
  },
  {
   "cell_type": "markdown",
   "metadata": {},
   "source": [
    "We will cover loops in more detail in the next workshop. "
   ]
  },
  {
   "cell_type": "markdown",
   "metadata": {},
   "source": [
    "# Python Data Structures"
   ]
  },
  {
   "cell_type": "markdown",
   "metadata": {},
   "source": [
    "## Lists"
   ]
  },
  {
   "cell_type": "markdown",
   "metadata": {},
   "source": [
    "Now that we've grasped data types, let's learn about data structures. Data structures are how collections of data are stored. We'll start with the most simple and flexible data structure, the `list`. Python lists are 1-dimensional collections of objects. They can contain any type of object, and can contain a mixture of different types. Lists are created using the `[]` and are a flexible way to manually define an ordered series of things. "
   ]
  },
  {
   "cell_type": "code",
   "execution_count": null,
   "metadata": {},
   "outputs": [],
   "source": [
    "my_list = [1, 2, 3, 4, 5]"
   ]
  },
  {
   "cell_type": "markdown",
   "metadata": {},
   "source": [
    "You can index into lists and slice them using the `[]` operator much like with strings. "
   ]
  },
  {
   "cell_type": "code",
   "execution_count": null,
   "metadata": {},
   "outputs": [],
   "source": [
    "print(my_list[2:]) # third item to the end\n",
    "print(my_list[-2:]) # last two elements"
   ]
  },
  {
   "cell_type": "markdown",
   "metadata": {},
   "source": [
    "You can check if objects are in the list, concatenate lists together, and other [methods](https://docs.python.org/3/library/stdtypes.html#sequence-types-list-tuple-range)."
   ]
  },
  {
   "cell_type": "code",
   "execution_count": null,
   "metadata": {},
   "outputs": [],
   "source": [
    "print(4 in my_list)\n",
    "print(my_list + [3]) # this will not change my_list\n",
    "my_list.append(100) # this will change my_list\n",
    "print(my_list) "
   ]
  },
  {
   "cell_type": "markdown",
   "metadata": {},
   "source": [
    "For the most part, we won't be doing anything fancy with lists beyond creating them and iterating through them with indices. Because they are a flexible data structure, they are not very efficient and many of the things we might want to do with a collection of items are better suited for other data types."
   ]
  },
  {
   "cell_type": "markdown",
   "metadata": {},
   "source": [
    ">**Exercise:**\n",
    ">\n",
    ">Write a function that takes a list of numbers and returns the sum of the numbers and also uses string interpolation to print the sum. Ex the input `[1, 2, 3]` should print `Your sum is 6` and return 6. Bonus, use conditionals to only sum the numbers in case the list has strings or other objects in it."
   ]
  },
  {
   "cell_type": "code",
   "execution_count": null,
   "metadata": {},
   "outputs": [],
   "source": [
    "# Your code here\n",
    "\n",
    "# Solution 1 no checking numbers\n",
    "\n",
    "# Solution 2 checking numbers"
   ]
  },
  {
   "cell_type": "code",
   "execution_count": null,
   "metadata": {},
   "outputs": [],
   "source": [
    "sum_list([1, 1, 1, 1])"
   ]
  },
  {
   "cell_type": "code",
   "execution_count": null,
   "metadata": {},
   "outputs": [],
   "source": [
    "sum_list([1, 1, 1, \"a\"])"
   ]
  },
  {
   "cell_type": "markdown",
   "metadata": {},
   "source": [
    "## Dictionaries"
   ]
  },
  {
   "cell_type": "markdown",
   "metadata": {},
   "source": [
    "Dictionaries are key-value pairs that are unordered. They are created using the `{}` or with the `dict()` function and are a way to store things for quick retrieval with keywords. "
   ]
  },
  {
   "cell_type": "markdown",
   "metadata": {},
   "source": [
    "Below is an example of a simple dictionary of names and grades. "
   ]
  },
  {
   "cell_type": "code",
   "execution_count": null,
   "metadata": {},
   "outputs": [],
   "source": [
    "grades = {\"Alice\": 100, \"Bob\": 90, \"Charlie\": 80}"
   ]
  },
  {
   "cell_type": "markdown",
   "metadata": {},
   "source": [
    "We can make it more complex by nesting additional information, like a dictionary of dictionaries."
   ]
  },
  {
   "cell_type": "code",
   "execution_count": null,
   "metadata": {},
   "outputs": [],
   "source": [
    "grades = {\"Alice\": {\"math\": 100, \"english\": 90}, \"Bob\": {\"math\": 90, \"english\": 80}}"
   ]
  },
  {
   "cell_type": "markdown",
   "metadata": {},
   "source": [
    "Dictionarys can hold a variety of data types, including lists and other dictionaries."
   ]
  },
  {
   "cell_type": "code",
   "execution_count": null,
   "metadata": {},
   "outputs": [],
   "source": [
    "pets = {\n",
    "    \"Buddy\": {\n",
    "        \"name\": \"Buddy\",\n",
    "        \"breed\": \"Bulldog\",\n",
    "        \"age\": 4,\n",
    "        \"vaccinated\": True,\n",
    "        \"favorite_foods\": [\"chicken\", \"peanut butter\"],\n",
    "    },\n",
    "    \"Mittens\": {\n",
    "        \"name\": \"Mittens\",\n",
    "        \"breed\": \"Persian cat\",\n",
    "        \"age\": 2,\n",
    "        \"vaccinated\": False,\n",
    "        \"favorite_foods\": [\"tuna\", \"chicken\"],\n",
    "        \"owner\": {\n",
    "            \"name\": \"Alice\",\n",
    "            \"contact\": \"555-0123\"\n",
    "        }\n",
    "    },\n",
    "    \"Polly\": {\n",
    "        \"name\": \"Polly\",\n",
    "        \"breed\": \"Parrot\",\n",
    "        \"age\": 10,\n",
    "        \"vaccinated\": True,\n",
    "        \"words_learned\": [\"hello\", \"bye\", \"Polly wants a cracker\"],\n",
    "    }\n",
    "}"
   ]
  },
  {
   "cell_type": "markdown",
   "metadata": {},
   "source": [
    "You can get the top level items using the `keys` method or the function `list()`. "
   ]
  },
  {
   "cell_type": "code",
   "execution_count": null,
   "metadata": {},
   "outputs": [],
   "source": [
    "list(pets)"
   ]
  },
  {
   "cell_type": "code",
   "execution_count": null,
   "metadata": {},
   "outputs": [],
   "source": [
    "pets.keys()"
   ]
  },
  {
   "cell_type": "markdown",
   "metadata": {},
   "source": [
    "You can retrieve specific entries by using `[]` and the name of the field in quotes. "
   ]
  },
  {
   "cell_type": "code",
   "execution_count": null,
   "metadata": {},
   "outputs": [],
   "source": [
    "pets[\"Mittens\"]"
   ]
  },
  {
   "cell_type": "markdown",
   "metadata": {},
   "source": [
    "Note that you can store multiple data types in a dictionary, although the keys are usually strings. Below, you can see that you can store lists within dictionary entries. "
   ]
  },
  {
   "cell_type": "code",
   "execution_count": null,
   "metadata": {},
   "outputs": [],
   "source": [
    "type(pets[\"Polly\"][\"words_learned\"])"
   ]
  },
  {
   "cell_type": "markdown",
   "metadata": {},
   "source": [
    "Dictionaries are useful for when you have hierarchical data you want to retrieve quickly and don't need to do heavy processing on. You will most likely encounter dictionaries when importing a JSON formatted file. "
   ]
  },
  {
   "cell_type": "markdown",
   "metadata": {},
   "source": [
    "> **Exercise:** Use a dictionary within a function to calculate the scrabble score of a given string. The function will take a string and, based on an internal dictionary, returns the score. Here are the scrabble letter values as a dictionary: \n",
    "```python\n",
    "scrabble_letter_values = {\n",
    "    'A': 1, 'B': 2, 'C': 3, 'D': 1, 'E': 1, 'F': 4, 'G': 2, 'H': 4, 'I': 1,\n",
    "    'J': 8, 'K': 5, 'L': 1, 'M': 3, 'N': 1, 'O': 1, 'P': 3, 'Q': 10, 'R': 1,\n",
    "    'S': 1, 'T': 1, 'U': 1, 'V': 4, 'W': 4, 'X': 8, 'Y': 4, 'Z': 10\n",
    "}\n",
    "```"
   ]
  },
  {
   "cell_type": "code",
   "execution_count": null,
   "metadata": {},
   "outputs": [],
   "source": [
    "def scrabble_score(word):\n",
    "    scrabble_letter_values = { # keep this dictionary line\n",
    "    'A': 1, 'B': 2, 'C': 3, 'D': 1, 'E': 1, 'F': 4, 'G': 2, 'H': 4, 'I': 1,\n",
    "    'J': 8, 'K': 5, 'L': 1, 'M': 3, 'N': 1, 'O': 1, 'P': 3, 'Q': 10, 'R': 1,\n",
    "    'S': 1, 'T': 1, 'U': 1, 'V': 4, 'W': 4, 'X': 8, 'Y': 4, 'Z': 10\n",
    "    }\n",
    "    # Your code here\n",
    "    # initialize score to 0\n",
    "    # loop through each letter in the word (hint: might want to make the word uppercase)\n",
    "    # use the dictionary to add the score of each letter to the score variable\n",
    "    # return the score"
   ]
  },
  {
   "cell_type": "code",
   "execution_count": null,
   "metadata": {},
   "outputs": [],
   "source": [
    "scrabble_score(\"hello\")"
   ]
  },
  {
   "cell_type": "markdown",
   "metadata": {},
   "source": [
    ">**Exercise**: Create a function `complement` that takes a `DNA` string and returns the complement of the string. Within the function, you can use a dictionary to convert the bases. For bonus, add a parameter `reverse` that if true, returns the reverse complement instead."
   ]
  },
  {
   "cell_type": "code",
   "execution_count": null,
   "metadata": {},
   "outputs": [],
   "source": [
    "# Your code here\n",
    "def complement(DNA, reverse = False):\n",
    "    dictionary = {'A':'T', 'T':'A', 'C':'G', 'G':'C'} # keep this line\n",
    "    # make an empty string to store the complement\n",
    "    # loop through each base in the DNA sequence\n",
    "    # add complement of the base to the string (you can use + to concat strings)\n",
    "    # BONUS: if reverse is True, return the reverse of the complement string\n",
    "    # return the complement "
   ]
  },
  {
   "cell_type": "code",
   "execution_count": null,
   "metadata": {},
   "outputs": [],
   "source": [
    "complement(\"AATCTGAG\", reverse = True)"
   ]
  },
  {
   "cell_type": "markdown",
   "metadata": {},
   "source": [
    "## Numpy arrays"
   ]
  },
  {
   "cell_type": "markdown",
   "metadata": {},
   "source": [
    "One of the most common multi-dimensional data structures you'll encounter is the numpy array. The numpy array is a data structure that stores data in one or more dimensions. All the data in these arrays need to be of the same type. To create a numpy array, we must first import the numpy library (this needs to be installed in your environment if you haven't already). Then, within the `np.array()` function, you can use list notation `[]` to create one-dimensional arrays, or use nested list notation `[[]]` to create multi-dimensional arrays. "
   ]
  },
  {
   "cell_type": "code",
   "execution_count": null,
   "metadata": {},
   "outputs": [],
   "source": [
    "# An example of a numpy array\n",
    "import numpy as np\n",
    "my_array = np.array([1, 2, 3, 4, 5])\n",
    "print(my_array)"
   ]
  },
  {
   "cell_type": "code",
   "execution_count": null,
   "metadata": {},
   "outputs": [],
   "source": [
    "# An example of a 2 dimensional numpy array\n",
    "my_2d_array = np.array([[1, 2, 3], [4, 5, 6], [7, 8, 9]])\n",
    "print(my_2d_array)"
   ]
  },
  {
   "cell_type": "markdown",
   "metadata": {},
   "source": [
    "You can check the shape of your array using the `shape` attribute. Note that there is no `()` at the end."
   ]
  },
  {
   "cell_type": "code",
   "execution_count": null,
   "metadata": {},
   "outputs": [],
   "source": [
    "print(my_array.shape) #Note a 1-d array is actually a single column with number of rows equal to number of elements"
   ]
  },
  {
   "cell_type": "code",
   "execution_count": null,
   "metadata": {},
   "outputs": [],
   "source": [
    "print(my_2d_array.shape)"
   ]
  },
  {
   "cell_type": "markdown",
   "metadata": {},
   "source": [
    "You can create numpy arrays programmatically using built-in functions. "
   ]
  },
  {
   "cell_type": "code",
   "execution_count": null,
   "metadata": {},
   "outputs": [],
   "source": [
    "# Creating a sequence using arrange() and linspace()\n",
    "my_array = np.arange(0, 100, 2) # every even number from 0 to 100\n",
    "print(my_array)\n",
    "my_array = np.linspace(0, 5, 10) # 10 evenly spaced numbers from 0 to 5\n",
    "print(my_array)"
   ]
  },
  {
   "cell_type": "code",
   "execution_count": null,
   "metadata": {},
   "outputs": [],
   "source": [
    "# Creating a 3x5 numpy array with zeros\n",
    "my_array = np.zeros((3, 5))\n",
    "print(my_array)"
   ]
  },
  {
   "cell_type": "code",
   "execution_count": null,
   "metadata": {},
   "outputs": [],
   "source": [
    "# Creating a 3x5 numpy array with random integers\n",
    "my_array = np.random.randint(0, 10, (3, 5))\n",
    "print(my_array)"
   ]
  },
  {
   "cell_type": "markdown",
   "metadata": {},
   "source": [
    "### Navigating arrays (indexing)\n",
    "\n",
    "You can access elements of an array using indexing. In python, indices start a 0. You can use negative indices to start from the end of the array, colons `:` to select a range of elements (slicing), and commas `,` to select elements from multiple dimensions."
   ]
  },
  {
   "cell_type": "code",
   "execution_count": null,
   "metadata": {},
   "outputs": [],
   "source": [
    "# Example of indexing a numpy array\n",
    "print(my_array[0, 0]) # first element\n",
    "print(my_array[0, :]) # first row\n",
    "print(my_array[:, 0]) # first column\n",
    "print(my_array[0:2, 0:2]) # first two rows and columns\n",
    "print(my_array[-1, -1]) # last element"
   ]
  },
  {
   "cell_type": "markdown",
   "metadata": {},
   "source": [
    "Numpy arrays have useful attributes and methods that you can use to manipulate the data. For example, you can use the `sort()` method to sort the elements of the array."
   ]
  },
  {
   "cell_type": "code",
   "execution_count": null,
   "metadata": {},
   "outputs": [],
   "source": [
    "my_array.sort(axis=1) # axis=0 sorts columns, axis=1 sorts rows\n",
    "print(my_array) # note that the array is sorted in place and doesn't return anything"
   ]
  },
  {
   "cell_type": "markdown",
   "metadata": {},
   "source": [
    ">**Exercise:** Create a function `growth` that takes an initial population size, a growth rate, a number of growth cycles, and returns an array of the population size at each growth cycle. Assume an exponential growth rate."
   ]
  },
  {
   "cell_type": "code",
   "execution_count": null,
   "metadata": {},
   "outputs": [],
   "source": [
    "# Your code here\n",
    "# Psuedo code:\n",
    "# define the function\n",
    "# create an array of the right size\n",
    "# set the initial population\n",
    "# loop through the cycles\n",
    "# calculate the new population and add it to the correct index in the array\n",
    "# return the array"
   ]
  },
  {
   "cell_type": "code",
   "execution_count": null,
   "metadata": {},
   "outputs": [],
   "source": [
    "growth(1, 1, 10)"
   ]
  },
  {
   "cell_type": "code",
   "execution_count": null,
   "metadata": {},
   "outputs": [],
   "source": [
    "# test out your function\n",
    "growth_array = growth(1, 1, 10)\n",
    "plt.plot(growth_array)"
   ]
  },
  {
   "cell_type": "markdown",
   "metadata": {},
   "source": [
    "### Array operations\n",
    "\n",
    "One of the benefits of using numpy arrays are the fast operations you can do on them. Today we'll cover the basic mathematical operations and boolean operations. What we won't have time for are all the matrix manipulations that arrays are known for, such as product, inverse, etc. \n",
    "\n",
    "You can do arithmetic operations on arrays and apply them element-wise. "
   ]
  },
  {
   "cell_type": "code",
   "execution_count": null,
   "metadata": {},
   "outputs": [],
   "source": [
    "a = np.array([[1, 2], [3, 4]])\n",
    "print(a - 1)"
   ]
  },
  {
   "cell_type": "code",
   "execution_count": null,
   "metadata": {},
   "outputs": [],
   "source": [
    "b = np.array([[10, 20],[30, 40]])\n",
    "a * b"
   ]
  },
  {
   "cell_type": "markdown",
   "metadata": {},
   "source": [
    "You can load tab separated or other type of delimited files using the `np.loadtxt()` function. In this case, I also used the `skiprows`, `usecols`, and `max_rows` parameters to finetune which rows and columns I wanted to load. If I were to not skip the first row, I would get a first row comprising of NaN because np arrays require everything to be the same type and the first row are string headers. \n",
    "\n",
    "I've also imported the first column of the csv as a string and then used pandas to convert it to a new data type, called datetime. This is a special data type that allows operations on dates. "
   ]
  },
  {
   "cell_type": "code",
   "execution_count": null,
   "metadata": {},
   "outputs": [],
   "source": [
    "# Open csv in numpy, skip first row and column\n",
    "weather = np.loadtxt(\"https://informatics.fas.harvard.edu/resources/Workshops/2024-Fall/Python/data/prcp.csv\", delimiter=\",\", skiprows=1, usecols=range(1,5))\n",
    "weather_header = np.loadtxt(\"https://informatics.fas.harvard.edu/resources/Workshops/2024-Fall/Python/data/prcp.csv\", delimiter=\",\", max_rows=1, dtype=str, usecols=range(1,5))\n",
    "weather_date = np.loadtxt(\"https://informatics.fas.harvard.edu/resources/Workshops/2024-Fall/Python/data/prcp.csv\", delimiter=\",\", skiprows=1, usecols=0, dtype=str)\n",
    "weather_date = pd.to_datetime(weather_date, format=\"%m/%d/%y\")\n",
    "# header rows are in metric (mm of precipitation, and C for temperature)\n",
    "print(weather_header)\n",
    "print(weather[0:10,:])\n",
    "print(weather_date[0:10])\n",
    "print(weather.shape)"
   ]
  },
  {
   "cell_type": "markdown",
   "metadata": {},
   "source": [
    ">**Exercise:** Using the `weather` array (daily weather data of Boston from 2023), convert all the temperatures from Celsius to Fahrenheit. Store the result in a new array called `fahrenheit`. Then, find the highest maximum temperature. (Hint: you can use use the function `temp_convert()` we wrote earlier!)"
   ]
  },
  {
   "cell_type": "code",
   "execution_count": null,
   "metadata": {},
   "outputs": [],
   "source": [
    "# Your code here"
   ]
  },
  {
   "cell_type": "markdown",
   "metadata": {},
   "source": [
    "Another way to perform operations on arrays is to use logical conditions. This creates a boolean array of the same size."
   ]
  },
  {
   "cell_type": "code",
   "execution_count": null,
   "metadata": {},
   "outputs": [],
   "source": [
    "my_array > np.mean(my_array) # this will tell us which elements in my_array are greater than the mean"
   ]
  },
  {
   "cell_type": "markdown",
   "metadata": {},
   "source": [
    "We can then use the boolean array to extract the actual numbers that meet the condition. The way this works is we index into the array using `[]` and by using the boolean array, only values that were True are selected. It's important that the boolean array you use has the same dimensions as the array you're indexing into. "
   ]
  },
  {
   "cell_type": "code",
   "execution_count": null,
   "metadata": {},
   "outputs": [],
   "source": [
    "big_numbers = my_array > np.mean(my_array)\n",
    "my_array[big_numbers]"
   ]
  },
  {
   "cell_type": "markdown",
   "metadata": {},
   "source": [
    ">**Exercise:** Find out which days had above average maximum temperatures from the `weather` object. Print only the rows of the data that meet this condition. Your output should have 176 rows"
   ]
  },
  {
   "cell_type": "code",
   "execution_count": null,
   "metadata": {},
   "outputs": [],
   "source": [
    "# Your code here"
   ]
  },
  {
   "cell_type": "markdown",
   "metadata": {},
   "source": [
    ">**Exercise:** Using the `weather` object, on what day of the year did Boston have the greatest range of temperature (max - min)? And what was min and max temp on that day? *hint* use the function `np.argmax()`"
   ]
  },
  {
   "cell_type": "code",
   "execution_count": null,
   "metadata": {},
   "outputs": [],
   "source": [
    "# Your code here"
   ]
  },
  {
   "cell_type": "markdown",
   "metadata": {},
   "source": [
    ">**Exercise:** BONUS: Create a function that takes a range of days (start and end) and returns the average temperature for that range in farhenheit. *hint* you can use the `temp_convert()` you wrote earlier"
   ]
  },
  {
   "cell_type": "code",
   "execution_count": null,
   "metadata": {},
   "outputs": [],
   "source": [
    "# Your code here"
   ]
  },
  {
   "cell_type": "code",
   "execution_count": null,
   "metadata": {},
   "outputs": [],
   "source": [
    "# Test your code. This should be 39.578\n",
    "average_temp(0, 10)"
   ]
  },
  {
   "cell_type": "markdown",
   "metadata": {},
   "source": [
    "You may have noticed when we loaded the dataset that we had to load the headers separately, due to np arrays forcing all elements to have the same data type. When you have more complicated data, such as a mix of numerical and categorical data, numpy arrays are not as useful. We're going to briefly introduce pandas dataframes, but then move on to plotting.  "
   ]
  },
  {
   "cell_type": "markdown",
   "metadata": {},
   "source": [
    "## Pandas DataFrames\n",
    "\n",
    "This is a super short introduction to pandas dataframes. The main difference between numpy arrays and pandas dataframes is that dataframes can store different data types in the same object. Dataframes also have explicit row and column indices, and behave more like a table that you would see in excel. Let's demonstrate by loading the weather data. "
   ]
  },
  {
   "cell_type": "code",
   "execution_count": null,
   "metadata": {},
   "outputs": [],
   "source": [
    "weather_df = pd.read_csv(\"https://informatics.fas.harvard.edu/resources/Workshops/2024-Fall/Python/data/prcp.csv\")\n",
    "weather_df.head()"
   ]
  },
  {
   "cell_type": "markdown",
   "metadata": {},
   "source": [
    "We can get a quick overview of the data using the `info()` method. This tells us the number of rows, the columns, and the dtypes of each column. There's also a field for Non-null count, which illustrates that dataframes can handle missing data, unlike numpy arrays."
   ]
  },
  {
   "cell_type": "code",
   "execution_count": null,
   "metadata": {},
   "outputs": [],
   "source": [
    "weather_df.info()"
   ]
  },
  {
   "cell_type": "markdown",
   "metadata": {},
   "source": [
    "We can index into the dataframe using the `[]` operator and the column name."
   ]
  },
  {
   "cell_type": "code",
   "execution_count": null,
   "metadata": {},
   "outputs": [],
   "source": [
    "weather_df[\"PRCP\"][0:10]"
   ]
  },
  {
   "cell_type": "markdown",
   "metadata": {},
   "source": [
    "Dataframes also have a handy `describe()` method that gives us a quick overview of the numerical data in the dataframe."
   ]
  },
  {
   "cell_type": "code",
   "execution_count": null,
   "metadata": {},
   "outputs": [],
   "source": [
    "weather_df.describe()"
   ]
  },
  {
   "cell_type": "markdown",
   "metadata": {},
   "source": [
    "DataFrames excel at data manipulation/transformation. For example, we can use the `apply()` method to apply a function to each element of a column."
   ]
  },
  {
   "cell_type": "code",
   "execution_count": null,
   "metadata": {},
   "outputs": [],
   "source": [
    "# one-liner to convert all the temperature columns to Fahrenheit\n",
    "\n",
    "weather_df.loc[:, \"TAVG\":\"TMIN\"].apply(lambda x: temp_convert(x, convert_to=\"F\"))"
   ]
  },
  {
   "cell_type": "markdown",
   "metadata": {},
   "source": [
    "But that's all the time we have for dataframes today. On the next workshop, we'll cover more advanced data manipulation and visualization with pandas"
   ]
  },
  {
   "cell_type": "markdown",
   "metadata": {},
   "source": [
    "## Summary of different data structures we've talked about today\n",
    "\n",
    "We talked about 4 different ways to organize data and it can seem confusing as to why these different data structures exist and when you should use each type. Here's a summary comparing them:"
   ]
  },
  {
   "cell_type": "markdown",
   "metadata": {},
   "source": [
    "|Feature/Question|List|Dictionary|Numpy Array|Pandas DataFrame|\n",
    "|---|---|---|---|---|\n",
    "|What is it?|An ordered collection of items|An (semi)-unordered collection of key-value pairs|A multi-dimensional array|A 2D labeled table of data|\n",
    "|When to use?|When you have a collection of items of mixed types you want to keep together|When you need to map keys to values|For performing mathematical operations on (large) numerical data|For data manipulation on tabular data of mixed types|\n",
    "|Example usage|Making small, temporary collections as part of a larger program|Storing data by name|Working with matrices, simple plotting|Reading in files, cleaning data, plotting|\n",
    "|Mixed types?|Yes|Keys no; values can be mixed|No|Yes (between columns)|\n",
    "|How to access the data|By index|By key|By index or boolean mask|Column name, index, advanced filtering|\n",
    "|How to create|`[]`|`{}`|`np.array()`|`pd.DataFrame()`|\n",
    "|Libraries required|None|None|numpy|pandas|"
   ]
  },
  {
   "cell_type": "markdown",
   "metadata": {},
   "source": [
    "# Plotting numpy arrays with matplotlib\n",
    "\n",
    "Now that we have a basic understanding of how data are stored in python, it's time to understand how to go from data structures to visualization. The most common library for plotting in python is matplotlib. If you are familiar with ggplot2 from R, you will find that matplotlib is a more low-level plotting library and you will need to manually specify many of the details. However, it is possible to make complex plots with just matplotlib. Additionally, there is anotehr library called seaborn, which is built off of it and has a more user-friendly interface. For today, we'll just learn the basics of creating plots with matplotlib. \n",
    "\n",
    "To begin with, we need to import the library and give it a nickname."
   ]
  },
  {
   "cell_type": "code",
   "execution_count": null,
   "metadata": {},
   "outputs": [],
   "source": [
    "import matplotlib.pyplot as plt"
   ]
  },
  {
   "cell_type": "markdown",
   "metadata": {},
   "source": [
    "The first thing we do is create the figure and axis objects. The figure object is the canvas that we will draw on and the axis object is the actual plot. We can then use the `plot()` method of the axis object to create a line plot. The first argument is the x-axis and the second is the y-axis. If no x-axis is given, the plot will use the index of the array given. "
   ]
  },
  {
   "cell_type": "code",
   "execution_count": null,
   "metadata": {},
   "outputs": [],
   "source": [
    "fig, ax = plt.subplots()\n",
    "ax.plot(weather_date, weather[:, 1])"
   ]
  },
  {
   "cell_type": "markdown",
   "metadata": {},
   "source": [
    "Then we can add labels for the axes and a title. Customizing the look of the plot is generally done by using methods of the axis object. These methods sometimes return objects such as the line object or the text object, which you can use to further customize the plot."
   ]
  },
  {
   "cell_type": "code",
   "execution_count": null,
   "metadata": {},
   "outputs": [],
   "source": [
    "fig, ax = plt.subplots()\n",
    "ax.plot(weather_date, weather[:, 1])\n",
    "ax.set_xlabel(\"Date\")\n",
    "ax.set_ylabel(\"Temperature (C)\")\n",
    "ax.set_title(\"Weather in Boston 2023\")"
   ]
  },
  {
   "cell_type": "markdown",
   "metadata": {},
   "source": [
    "Let's add the min and max temperatures to the plot, in a different color so that we can distinguish between them."
   ]
  },
  {
   "cell_type": "code",
   "execution_count": null,
   "metadata": {},
   "outputs": [],
   "source": [
    "fig, ax = plt.subplots()\n",
    "\n",
    "# Add each line to the plot, changing the transparency and linestyle.\n",
    "# Color will be automatically determined or can be set with the \"color\" argument\n",
    "ax.plot(weather_date, weather[:, 1])\n",
    "ax.plot(weather_date, weather[:, 2], alpha = 0.5, linestyle = \":\")\n",
    "ax.plot(weather_date, weather[:, 3], alpha = 0.5, linestyle = \":\", color = \"green\")\n",
    "\n",
    "# add a legend to the plot, passing a list of labels in the order the lines were added\n",
    "# You can specify the location as well\n",
    "ax.legend([\"Average\", \"Max\", \"Min\"], loc=\"lower center\")\n",
    "\n",
    "# Set the axis and title labels\n",
    "ax.set_xlabel(\"Date\")\n",
    "ax.set_ylabel(\"Temperature (C)\")\n",
    "ax.set_title(\"Weather in Boston 2023\")"
   ]
  },
  {
   "cell_type": "markdown",
   "metadata": {},
   "source": [
    "Next, we will use the `set` method to set multiple properties of the plot at once. We condensed the code to set the axis and title into one line by putting it in the `ax.set()` method.\n",
    "\n",
    "Another way to set properties is to the use the `plt.setp()` method. This method takes an object of the plot and a list of properties to set. Here we extract the xticklabels from the axis object and use it to set the rotation of the x-axis labels. \n",
    "\n",
    "Finally, we set the format of the x axis to only display the month and day. \n",
    "\n",
    "This code block illustrates that the axis object is a container for all the elements of the plot. You can access and modify most properties of the plot using this obejct. For more information, check out the documentation on the axis API [here](https://matplotlib.org/stable/api/axes_api.html). "
   ]
  },
  {
   "cell_type": "code",
   "execution_count": null,
   "metadata": {},
   "outputs": [],
   "source": [
    "fig, ax = plt.subplots()\n",
    "\n",
    "# Add each line to the plot, changing the transparency and linestyle.\n",
    "# Color will be automatically determined or can be set with the \"color\" argument\n",
    "ax.plot(weather_date, weather[:, 1])\n",
    "ax.plot(weather_date, weather[:, 2], alpha=0.5, linestyle = \":\")\n",
    "ax.plot(weather_date, weather[:, 3], alpha=0.5, linestyle = \":\", color = \"green\")\n",
    "\n",
    "# add a legend to the plot, passing a list of labels in the order the lines were added\n",
    "# You can specify the location as well\n",
    "ax.legend([\"Average\", \"Max\", \"Min\"], loc=\"lower center\")\n",
    "\n",
    "# Set the axis and title labels, condensed into one line\n",
    "ax.set(xlabel=\"Date\", ylabel=\"Temperature (C)\", title=\"Weather in Boston 2023\")\n",
    "\n",
    "# rotate the x-axis labels for better readability\n",
    "xlabels = ax.get_xticklabels() # get the object that holds the labels\n",
    "plt.setp(xlabels, rotation = 45) # Use plt.setp to set the rotation of the labels\n",
    "\n",
    "# modify the x-axis to show only the month and day\n",
    "import matplotlib.dates as mdates\n",
    "ax.xaxis.set_major_formatter(mdates.DateFormatter(\"%m-%d\"))"
   ]
  },
  {
   "cell_type": "markdown",
   "metadata": {},
   "source": [
    "In the next code block, we demonstrate how to create two plots on the same figure. In the `plt.subplots()` method, we specify that we want subplots arranged in a 2x1 grid, so two rows and 1 column. We also modify the size of the figure using the `figsize` parameter. Then, we add a title to the main figure using `fig.suptitle`. This is because you can think of the `fig` object as the canvas that holds all plots (axis objects) so if you want to modify something about that canvas, we use a method from fig. \n",
    "\n",
    "Because we created multiple axis object, the `ax` object actually becomes a list of axis objects and we can use indexing to access them. So we use `ax[1]` to plot the precipitation data on the bottom and `ax[0]` to plot the temperature on the bottom. If you want a figure with multiple subplots, you can use the coordinates of the each subplot to refer to them in the axis object. "
   ]
  },
  {
   "cell_type": "code",
   "execution_count": null,
   "metadata": {},
   "outputs": [],
   "source": [
    "# Create a figure with two subplots and make the figure size 10x8\n",
    "fig, ax = plt.subplots(2, 1, figsize = (10, 8))\n",
    "fig.suptitle(\"Weather in Boston 2023\")\n",
    "\n",
    "# Plot the temperature on top\n",
    "ax[0].plot(weather_date, weather[:, 1])\n",
    "ax[0].plot(weather_date, weather[:, 2], alpha = 0.5, linestyle = \":\")\n",
    "ax[0].plot(weather_date, weather[:, 3], alpha = 0.5, linestyle = \":\")\n",
    "ax[0].legend([\"Average\", \"Max\", \"Min\"], loc = \"lower center\")\n",
    "# Set xticklabels to empty list to remove them\n",
    "ax[0].set(ylabel=\"Temperature (C)\", title = \"Temperature\", xticklabels = [])\n",
    "\n",
    "# Plot the precipitation on the bottom\n",
    "# Note the use of bar plots for precipitation\n",
    "ax[1].bar(weather_date, weather[:, 0])\n",
    "ax[1].set(ylabel = \"Precipitation (mm)\", xlabel = \"Date\", title = \"Precipitation\")"
   ]
  },
  {
   "cell_type": "markdown",
   "metadata": {},
   "source": [
    "You can also plot multiple y axes on the same plot. This is done by creating a second axis object and using the `twinx()` method to create a second y axis. We then save this secondary axis object so that we can refer to it later when changing the labels. "
   ]
  },
  {
   "cell_type": "code",
   "execution_count": null,
   "metadata": {},
   "outputs": [],
   "source": [
    "fig, ax = plt.subplots()\n",
    "ax.bar(weather_date, weather[:,0])\n",
    "ax.set(xlabel=\"Date\", ylabel = \"Precipitation (mm)\", title = \"Weather in Boston 2023\")\n",
    "ax2 = ax.twinx()\n",
    "ax2.plot(weather_date, weather[:,1], color = \"red\")\n",
    "ax2.set_ylabel(\"Temperature (C)\")"
   ]
  },
  {
   "cell_type": "markdown",
   "metadata": {},
   "source": [
    ">**Exercise:** Write a function called `moving_average` that calculates a moving average of a numpy array. The function should take a 1D array and a window size and return an array of the same size with the moving average. Note that the first few values (depending on window size) of the output should be `nan` because there are not enough values to calculate the average."
   ]
  },
  {
   "cell_type": "code",
   "execution_count": null,
   "metadata": {},
   "outputs": [],
   "source": [
    "# Your code here\n",
    "def moving_average(data, window): # keep\n",
    "    # Make placeholder for result\n",
    "    # loop through the length of the data, starting with window size\n",
    "    # calculate the average of that window and add it to the result\n",
    "    # return the result"
   ]
  },
  {
   "cell_type": "code",
   "execution_count": null,
   "metadata": {},
   "outputs": [],
   "source": [
    "# Test your code\n",
    "\n",
    "test_data = moving_average(np.array([0, 0, 0, 0, 5, 5, 5, 5, 5, 5, 5]), 5)\n",
    "print(test_data[0:10]) # should return [ nan  nan  nan  nan  nan 1 2 3 4 5]"
   ]
  },
  {
   "cell_type": "markdown",
   "metadata": {},
   "source": [
    ">**Exercise:** Use the moving average function to plot the moving average of the temperature data (average temperature `weather[:,1]`) on top of the original temperature data. Use a window size of 7 days. Make the original data less opaque so it fades into the background. Add labels and legends to the plot. "
   ]
  },
  {
   "cell_type": "code",
   "execution_count": null,
   "metadata": {},
   "outputs": [],
   "source": [
    "# Your code here\n"
   ]
  },
  {
   "cell_type": "markdown",
   "metadata": {},
   "source": [
    ">**Exercise:** Take the words in this exercise and run it through the scrabble score function you wrote earlier. Then, plot the scrabble score of each word against the length of the word. You will need to split the sentence into a list of words not including the punctuation."
   ]
  },
  {
   "cell_type": "code",
   "execution_count": null,
   "metadata": {},
   "outputs": [],
   "source": [
    "# Your code here\n",
    "string = \"Take the words in this exercise and run it through the scrabble score function you wrote earlier. Then, plot the scrabble score of each word against the length of the word. You will need to split the sentence into a list of words not including the commas and periods.\" # keep\n",
    "# Replace the punctuation in the string (commas, periods) with spaces and split the string into a list of words\n",
    "\n",
    "# check that punctuation is removed\n",
    "\n",
    "\n",
    "# initialize an array of two columns with the number of words as rows\n",
    "\n",
    "# loop through each word in the list\n",
    "\n",
    "# append the length of the word and the scrabble score to the array\n",
    "\n",
    "\n",
    "# plot the array. \n",
    "fig, ax = plt.subplots() # keep\n",
    "# use ax.scatter with the first column as x and the second column as y\n",
    "\n",
    "# use ax.set() to set the labels and title\n"
   ]
  },
  {
   "cell_type": "markdown",
   "metadata": {},
   "source": [
    ">**Exercise:** Write a function that wraps everything above so that a person can submit a string and get a plot of the scrabble scores of their words. Also, print the sentence as the title of the plot. The function does not need to return anything."
   ]
  },
  {
   "cell_type": "code",
   "execution_count": null,
   "metadata": {},
   "outputs": [],
   "source": [
    "# Your code here\n",
    "def plot_scrabble(string):\n",
    "    \n",
    "plot_scrabble(\"Test out this function with a sentence of your choice.\")"
   ]
  }
 ],
 "metadata": {
  "kernelspec": {
   "display_name": "pyworkshop",
   "language": "python",
   "name": "python3"
  },
  "language_info": {
   "codemirror_mode": {
    "name": "ipython",
    "version": 3
   },
   "file_extension": ".py",
   "mimetype": "text/x-python",
   "name": "python",
   "nbconvert_exporter": "python",
   "pygments_lexer": "ipython3",
   "version": "3.12.3"
  }
 },
 "nbformat": 4,
 "nbformat_minor": 2
}
