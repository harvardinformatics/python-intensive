{
 "cells": [
  {
   "cell_type": "markdown",
   "metadata": {},
   "source": [
    "# Introduction to writing functions in python\n",
    "\n",
    "Hello and welcome to our workshop on writing functions in python. Today we'll go over the basic formatting for writing functions, variable scoping, control flow, and more. If this is your first day attending this workshop series, please make sure you've created an environment with the necessary packages.\n",
    "\n",
    "## Installing/running this notebook \n",
    "\n",
    "You can run this notebook by uploading it to Google Colab. You can also run it on your own computer by installing Jupyter Notebook and either running jupyter in your browser or using an IDE like VSCode. \n",
    "\n",
    "To run this using Google Colab, go to https://colab.research.google.com/ and upload this notebook. That's it!\n",
    "\n",
    "To run this locally, you will need to install python, anaconda, and the necessary libraries.\n",
    "\n",
    "0. If you are on Windows, [install WSL](https://learn.microsoft.com/en-us/windows/wsl/install). Once WSL is installed, you'll have a Linux terminal available to you in Windows. You can open this terminal by typing \"wsl\" in the search bar and clicking the app that appears. You'll also find your Linux distribution as a mounted drive in your file explorer.\n",
    "1. Install mamba, a package manager using the command line - Terminal for Mac or WSL for Windows. \n",
    "    1.1. For Mac, if you already have brew installed, install mamba using `brew install miniforge` and initialize it using `conda init zsh`. Then restart your terminal. If you don't have homebrew (i.e. the brew command doesn't exist), install brew first using `/bin/bash -c \"$(curl -fsSL https://raw.githubusercontent.com/Homebrew/install/HEAD/install.sh)\"`\n",
    "    1.2. For Windows, download the Linux (x86_64) installer from the miniforge repository [here](https://github.com/conda-forge/miniforge) and install with `bash Miniforge3-Linux-x86_64.sh`.\n",
    "2. Create a new environment using mamba with `mamba create -n pyworkshop numpy pandas matplotlib seaborn jupyter` and activate it with `conda activate pyworkshop`.\n",
    "3. You can now run the jupyter notebook by typing `jupyter notebook` in the terminal. This will open a browser window with the jupyter notebook interface. You can navigate to the folder where you saved this notebook and open it.\n",
    "4. Alternatively, install [VSCode](https://code.visualstudio.com/) and the Python extension. Then open this notebook in VSCode and run it with the kernel that belongs to the pyworkshop environment. [How to guide here](https://code.visualstudio.com/docs/datascience/jupyter-notebooks)"
   ]
  },
  {
   "cell_type": "code",
   "execution_count": 1,
   "metadata": {},
   "outputs": [],
   "source": [
    "import numpy as np\n",
    "import pandas as pd\n",
    "import matplotlib.pyplot as plt\n",
    "import seaborn as sns\n"
   ]
  },
  {
   "cell_type": "markdown",
   "metadata": {},
   "source": [
    "## Jokes\n",
    "\n",
    "Let's start with a joke about computer programmers. Sam asks their computer programmer spouse to go get some groceries. Sam tells him, \"Please go to the store to get some groceries. Buy a loaf of bread. If they have eggs, get a dozen.\" The spouse comes back with 13 loaves of bread. This joke is funny if you understand how computer programs evaluate commands. Below is some pseudocode that represents what the computer programmer did.\n",
    "\n",
    "```\n",
    "go to the store\n",
    "def function buy_groceries():\n",
    "    loaf_of_bread = 1\n",
    "    if eggs:\n",
    "        loaf_of_bread += 12\n",
    "    return loaf_of_bread\n",
    "```\n",
    "\n",
    "This joke illustrates that what may make sense in natural language does not immediately translate to computer language. And therefore we have to be really specific when we're talking to a computer to ask it to do something."
   ]
  },
  {
   "cell_type": "markdown",
   "metadata": {},
   "source": [
    "## Thinking algorithmically\n",
    "\n",
    "Before we get started with learning about what a function in python is, how to define them, and how to control them, let's do some non-coding exercises to get in the mindset of thinking algorithmically. One of the major hurdles to writing your own functions or computer programs is changing the way you think to match the way a computer or coding language evaluates words. Much of the difficulty is ameliorated if we practice breaking down our problems into discrete chunks. Then, taking each chunk and putting it together.\n",
    "\n",
    "Part of thinking about code is to break down actions into logical steps, such as by writing **pseudocode**. Below is an example of pseudocode for making French-style scrambled eggs:\n",
    "\n",
    "```\n",
    "Combine eggs, salt, cream in bowl\n",
    "For 30 seconds:\n",
    "    whisk eggs\n",
    "Set pan on stove\n",
    "Turn on stove to medium\n",
    "Add butter to pan\n",
    "Until butter is melted:\n",
    "    wait\n",
    "Add eggs to pan\n",
    "Until eggs are cooked:\n",
    "    stir vigorously\n",
    "Turn off stove\n",
    "Serve\n",
    "```\n",
    "\n",
    "Note the use of conditionals and loops to describe the process. Computers need this sort of granularity to be able to execute the tasks you give it, so writing things out as pseudocode before you start writing the real code is usually very helpful. "
   ]
  },
  {
   "cell_type": "markdown",
   "metadata": {},
   "source": [
    ">**Exercise:** Write out pseudocode for getting on the bus to go to the grocery store. Let's go around and have each person write one line."
   ]
  },
  {
   "cell_type": "markdown",
   "metadata": {},
   "source": [
    "### Using boolean expressions and logical operators\n",
    "\n",
    "A relational operator is some operator that evaluates to a truth value. For example, checking of two things are equal or identical, or checking if some item is contained in a list/grouping. These conditional expressions can then be combined with logical operators such as `and`, `or`, and `not`. They mostly work like you'd expect from natural language. However, just like with arithmetic, there's an order of operations. In python, relational operators are evaluated first, then `not`, then `and`, and finally `or`.\n",
    "\n",
    "Let's practice using operators by filling out truth tables. Starting with a simple example, let's fill out a truth table for the following expression: `A or B`. In a truth table, we fill out all possible values for the variables in the expression and then evaluate each component of the expression.\n",
    "\n",
    "A | B | A or B\n",
    "--- | --- | ---\n",
    "T | T | T\n",
    "T | F | T\n",
    "F | T | T\n",
    "F | F | F"
   ]
  },
  {
   "cell_type": "markdown",
   "metadata": {},
   "source": [
    "Let's demonstrate the order of operations by filling out a truth table for the following expression: `A and B or A and not B`.\n",
    "\n",
    ">**Exercise:** Fill out the truth table for the above expression. We will go from left to right. \n",
    "Solution:\n",
    "\n",
    "A | B | A and B | not B | A and not B | A and B or A and not B\n",
    "--- | --- | --- | --- | --- | ---\n",
    "T | T |    ?   |   ?   |      ?      |           ?\n",
    "T | F |    ?    |   ?   |      ?      |           ?\n",
    "F | T |    ?    |   ?   |      ?      |           ?\n",
    "F | F |    ?    |   ?   |      ?      |           ?\n",
    "\n",
    "What do you notice about the last column of the truth table representing the full expression?\n"
   ]
  },
  {
   "cell_type": "markdown",
   "metadata": {},
   "source": [
    "### Navigating a maze\n",
    "\n",
    "Imagine you are programming a robot to navigate a maze. You know that this maze can be navigated by following the \"right hand rule\", which is to always keep your right hand on the wall. The robot can move or look in four directions: up, down, left, and right. How would you give the robot instructions to navigate the maze?"
   ]
  },
  {
   "cell_type": "markdown",
   "metadata": {},
   "source": [
    ">**Exercise:** Write a pseudocode for this robot navigating the maze"
   ]
  },
  {
   "cell_type": "markdown",
   "metadata": {},
   "source": [
    "Here's my example pseudocode for navigating a maze using the right hand rule:\n",
    "\n",
    "```\n",
    "Look to the right:\n",
    "    If there is a wall:\n",
    "        Try to Move Forward\n",
    "        If you can't move forward:\n",
    "            Turn Left\n",
    "    Else:\n",
    "        Turn right\n",
    "        Move Forward\n",
    "```\n"
   ]
  },
  {
   "cell_type": "markdown",
   "metadata": {},
   "source": [
    "## Basic function syntax & variable scope\n",
    "\n",
    "Python has a variety of [built-in functions](https://docs.python.org/3/library/functions.html), but for everything else you might want to do, you will need to write your own. \n",
    "\n",
    "A python function declaration begins with `def` and then the function name followed by parentheses and a colon. Then, the body of the function is indented. If the function returns something, it is done through the `return` keyword at the end of the body. If a function does not have a `return`, it automatically returns `None`. \n",
    "\n",
    "Here's an example of a simple function that takes two arguments and returns their sum:\n",
    "\n",
    "```python\n",
    "def summation(a, b):\n",
    "    total = a+b\n",
    "    return total\n",
    "```\n",
    "\n",
    "One important concept to understand about functions in python is how python handles variables inside vs outside the function. This is called the scope of the variable. When a variable is defined inside a function, it is only accessible within that function. This is called a **local** variable. Run the code below as an example to illustrate how the `total` variable outside of the function is not affected by the `total` variable inside the function. Note that the arguments (a and b - the things you put in the parenthesis after the function name), are also **local**. "
   ]
  },
  {
   "cell_type": "code",
   "execution_count": 2,
   "metadata": {},
   "outputs": [
    {
     "name": "stdout",
     "output_type": "stream",
     "text": [
      "3\n",
      "200\n"
     ]
    }
   ],
   "source": [
    "total = 200\n",
    "def summation(a, b):\n",
    "    total = a+b\n",
    "    return total\n",
    "print(summation(1, 2))\n",
    "print(total)\n"
   ]
  },
  {
   "cell_type": "markdown",
   "metadata": {},
   "source": [
    "When you write a function, you should always be careful to only use **local** variables, which means you need to pass as an argument any variables defined outside the scope of the function, and if you want to update a variable from outside the function, you should assign the return value. Look at the code below to see a simple way to keep a running total.\n"
   ]
  },
  {
   "cell_type": "code",
   "execution_count": 3,
   "metadata": {},
   "outputs": [
    {
     "name": "stdout",
     "output_type": "stream",
     "text": [
      "0\n",
      "1\n",
      "11\n"
     ]
    }
   ],
   "source": [
    "running_total = 0\n",
    "def summation(a, current_total):\n",
    "    result = a + current_total\n",
    "    return result\n",
    "\n",
    "print(running_total)\n",
    "running_total = summation(1, running_total)\n",
    "print(running_total)\n",
    "running_total = summation(10, running_total)\n",
    "print(running_total)"
   ]
  },
  {
   "cell_type": "markdown",
   "metadata": {},
   "source": [
    "Technically, it is possible to update a **global variable** (declared outside the function) from within a function, but usually there is never a good reason to do this, and it makes your code prone to bugs and harder to reuse. "
   ]
  },
  {
   "cell_type": "markdown",
   "metadata": {},
   "source": [
    "Note that forgetting to define your input arguments in your function definition can lead to confusing and hard-to-understand code. In the following example, we forgot to define `power` as an input argument to our square() function. Then, somewhere in our code, we happened to use `power` for something else. When we run our square function, it doesn't through an error as we might expect - it just uses the **global** variable we defined instead!"
   ]
  },
  {
   "cell_type": "code",
   "execution_count": 4,
   "metadata": {},
   "outputs": [
    {
     "name": "stdout",
     "output_type": "stream",
     "text": [
      "100\n"
     ]
    }
   ],
   "source": [
    "def square(x):\n",
    "    return x ** power\n",
    "# many lines of code...\n",
    "power = 2\n",
    "# many lines of code...\n",
    "print(square(10))\n"
   ]
  },
  {
   "cell_type": "markdown",
   "metadata": {},
   "source": [
    ">**Exercise**: As an exercise, fix the above function to take power as an argument. Note that arguments to functions can take default values. E.g., if we want a default value of b to be 2, we can define the function like:\n",
    "`def function(a, b=2):`\n",
    ">\n",
    "> Then, if we call the function as function(2), it will interpret a = 2 and b = 2, whereas if we call it function(2, 4) it will overwrite the default value of b.\n",
    ">\n",
    "> When you fix the square function to take power as an argument, also set the default power to 2."
   ]
  },
  {
   "cell_type": "code",
   "execution_count": 5,
   "metadata": {},
   "outputs": [],
   "source": [
    "# Your code here\n",
    "def square(x, power=2):\n",
    "    return x ** power"
   ]
  },
  {
   "cell_type": "markdown",
   "metadata": {},
   "source": [
    "Test your function."
   ]
  },
  {
   "cell_type": "code",
   "execution_count": 6,
   "metadata": {},
   "outputs": [
    {
     "name": "stdout",
     "output_type": "stream",
     "text": [
      "100\n",
      "1000\n"
     ]
    }
   ],
   "source": [
    "print(square(10))\n",
    "print(square(10, 3))"
   ]
  },
  {
   "cell_type": "markdown",
   "metadata": {},
   "source": [
    ">**Exercise**: Write a function that calculates the mean squared error between a set of observed and expected data points. Think about what the inputs should be and where the variables should be declared"
   ]
  },
  {
   "cell_type": "code",
   "execution_count": 7,
   "metadata": {},
   "outputs": [],
   "source": [
    "# Your code here\n",
    "def mse(obs, expected):\n",
    "    return np.mean((obs - expected) ** 2)\n"
   ]
  },
  {
   "cell_type": "code",
   "execution_count": 8,
   "metadata": {},
   "outputs": [
    {
     "name": "stdout",
     "output_type": "stream",
     "text": [
      "2.0\n"
     ]
    }
   ],
   "source": [
    "# Test your code\n",
    "predicted = np.array([1, 2, 3, 4, 5])\n",
    "expected = np.array([2, 4, 1, 5, 5])\n",
    "print(mse(predicted, expected)) # Expected output: 2.0\n"
   ]
  },
  {
   "cell_type": "markdown",
   "metadata": {},
   "source": [
    "A function's arguments can be positional or keyword arguments. Positional arguments are defined by their order, while keyword arguments are defined by their name. Keyword arguments can be used to make functions more readable and to provide default values."
   ]
  },
  {
   "cell_type": "markdown",
   "metadata": {},
   "source": [
    "## Control flow"
   ]
  },
  {
   "cell_type": "markdown",
   "metadata": {},
   "source": [
    "### If/else statements"
   ]
  },
  {
   "cell_type": "markdown",
   "metadata": {},
   "source": [
    "The next topic we'll cover is control flow. This is the concept of controlling the order in which code is executed. The most common control flow statement is the if statement, which bifurcates the code based on some condition. Here is the basic syntax for an if/else statement:\n",
    "\n",
    "```python\n",
    "if condition:\n",
    "    # code to execute if condition is true\n",
    "    # this part is indented\n",
    "else:\n",
    "    # code to execute if condition is false\n",
    "    # this part is also indented\n",
    "```\n",
    "\n",
    "Just like functions, the body of the conditional statements is indented. The `else` part if optional, but can be helpful if you want to do something different if the condition is false. The condition can be any python expression that evaluates to a `boolean` (aka True or False) value. Recall that the operators `==`, `!=`, `>`, `<`, `>=`, and `<=` are used to compare values. These generate booleans.\n",
    "\n",
    "If we have multiple conditions that we want to evaluate, the syntax looks like this:\n",
    "\n",
    "```python\n",
    "if condition:\n",
    "    # code to execute if condition is true\n",
    "    # this part is indented\n",
    "elif condition:\n",
    "    # code to execute if some other condition is true\n",
    "    # this part is also indented\n",
    "else:\n",
    "    # code to execute if condition is false\n",
    "    # this part is also indented\n",
    "```\n",
    "\n",
    "Where `elif` is an abbreviation for 'else if'. We can have as many `elif` conditionals after an `if` as we want, though too having too many can make your code unwieldy and buggy. Importantly, the truth values for `if`, `elif` and `else` statements are checked *in sequence*. For example, in the following code:\n"
   ]
  },
  {
   "cell_type": "code",
   "execution_count": 9,
   "metadata": {},
   "outputs": [
    {
     "name": "stdout",
     "output_type": "stream",
     "text": [
      "x is greater than y\n"
     ]
    }
   ],
   "source": [
    "x = 10\n",
    "y = 5\n",
    "\n",
    "if x > y:\n",
    "    print(\"x is greater than y\")\n",
    "elif x % 2 == 0: #The modulo operator % returns the remainder of a division\n",
    "    print(\"x is even\")\n",
    "else:\n",
    "    print(\"x is less than y\")"
   ]
  },
  {
   "cell_type": "markdown",
   "metadata": {},
   "source": [
    "We can see that the variable `x` is even, and so the `elif` conditional should evaluate to `True`...however, because the `if` conditional also evaluates to `True`, the statement will immediately end and the `elif` conditional does not get checked! Similarly, if we were to change the value of `x` to be an even number that is less than `y`, the `else` statement will instead not be evaluated. Always be careful about how you are structuring the logic of your conditional statements and be mindful of exactly what is being evaluated and in what order! Remember, the program will always do exactly what you tell it to..."
   ]
  },
  {
   "cell_type": "markdown",
   "metadata": {},
   "source": [
    "Let's look more at how Python evaluates booleans. There is an important operator in Python called `in` that checks whether something exists in any **iterable** object. An object is 'iterable' if it is capable of returning its members one at at time, e.g. lists, string, keys in a dictionary, and others. So for instance, if we want to check whether an integer is present in a given list:"
   ]
  },
  {
   "cell_type": "code",
   "execution_count": 10,
   "metadata": {},
   "outputs": [
    {
     "name": "stdout",
     "output_type": "stream",
     "text": [
      "False\n"
     ]
    }
   ],
   "source": [
    "a = [1, 2, 3, 4]\n",
    "print(2 == a)\n",
    "# A number is not equal to the list it's in\n"
   ]
  },
  {
   "cell_type": "code",
   "execution_count": 11,
   "metadata": {},
   "outputs": [
    {
     "name": "stdout",
     "output_type": "stream",
     "text": [
      "True\n"
     ]
    }
   ],
   "source": [
    "a = [1, 2, 3, 4]\n",
    "print(2 in a)\n",
    "# This is how you check if a value is in a list\n"
   ]
  },
  {
   "cell_type": "markdown",
   "metadata": {},
   "source": [
    "The operators `and`, `or`, and `not` can be used to combine boolean expressions. In order to evaluate the combined boolean to True, `and` requires that ALL expressions are true. For `or`, only one statement has to be true, i.e. it is NOT an exclusive or (XOR)!"
   ]
  },
  {
   "cell_type": "code",
   "execution_count": 12,
   "metadata": {},
   "outputs": [
    {
     "data": {
      "text/plain": [
       "True"
      ]
     },
     "execution_count": 12,
     "metadata": {},
     "output_type": "execute_result"
    }
   ],
   "source": [
    "1 in a and 4 in a"
   ]
  },
  {
   "cell_type": "code",
   "execution_count": 13,
   "metadata": {},
   "outputs": [
    {
     "data": {
      "text/plain": [
       "False"
      ]
     },
     "execution_count": 13,
     "metadata": {},
     "output_type": "execute_result"
    }
   ],
   "source": [
    "1 in a and 5 in a\n"
   ]
  },
  {
   "cell_type": "code",
   "execution_count": 14,
   "metadata": {},
   "outputs": [
    {
     "data": {
      "text/plain": [
       "True"
      ]
     },
     "execution_count": 14,
     "metadata": {},
     "output_type": "execute_result"
    }
   ],
   "source": [
    "1 in a or 5 in a"
   ]
  },
  {
   "cell_type": "markdown",
   "metadata": {},
   "source": [
    "Be careful how you are structuring your logic statements. For instance, if we want to check whether one value or another value are in a list, the following code does not work:"
   ]
  },
  {
   "cell_type": "code",
   "execution_count": 15,
   "metadata": {},
   "outputs": [
    {
     "data": {
      "text/plain": [
       "1"
      ]
     },
     "execution_count": 15,
     "metadata": {},
     "output_type": "execute_result"
    }
   ],
   "source": [
    "# But not like this\n",
    "1 or 5 in a\n"
   ]
  },
  {
   "cell_type": "code",
   "execution_count": 16,
   "metadata": {},
   "outputs": [
    {
     "data": {
      "text/plain": [
       "False"
      ]
     },
     "execution_count": 16,
     "metadata": {},
     "output_type": "execute_result"
    }
   ],
   "source": [
    "# You can use () to group expressions\n",
    "(1 in a) and (5 in a)\n"
   ]
  },
  {
   "cell_type": "markdown",
   "metadata": {},
   "source": [
    ">**Exercise**: initialize two integer variables called `x` and `y`, give them whatever values you like. Write a series of conditional statements that check the following: \n",
    "1) `x` and `y` are both even \n",
    "2) one is even and the other isn't \n",
    "3) `x` and `y` are both odd\n",
    "\n",
    "Bonus: also check whether `x` or `y` is greater!"
   ]
  },
  {
   "cell_type": "code",
   "execution_count": 17,
   "metadata": {},
   "outputs": [
    {
     "name": "stdout",
     "output_type": "stream",
     "text": [
      "one is even, one is odd\n"
     ]
    }
   ],
   "source": [
    "# Your code here\n",
    "\n",
    "x = 5\n",
    "y = 8\n",
    "\n",
    "if x % 2 == 0 and y % 2 == 0:\n",
    "    print(\"x and y are both even\")\n",
    "elif (x % 2 == 0 and y % 2 != 0) or (x % 2 != 0 and y % 2 == 0):\n",
    "    print(\"one is even, one is odd\")\n",
    "elif x % 2 != 0 and y % 2 != 0:\n",
    "    print(\"x and y are both odd\")"
   ]
  },
  {
   "cell_type": "markdown",
   "metadata": {},
   "source": [
    ">**Bonus exercise**: write a boolean that, as before, checks whether two integers are in a list (called `b`) and evaluates to true *only if* one integer is in the list and the other is not  "
   ]
  },
  {
   "cell_type": "code",
   "execution_count": 18,
   "metadata": {},
   "outputs": [
    {
     "data": {
      "text/plain": [
       "False"
      ]
     },
     "execution_count": 18,
     "metadata": {},
     "output_type": "execute_result"
    }
   ],
   "source": [
    "b = [1, 2, 3, 4]\n",
    "# Your code goes here:\n",
    "(1 in b and 4 not in b) or (1 not in b and 4 in b)"
   ]
  },
  {
   "cell_type": "markdown",
   "metadata": {},
   "source": [
    "### For loops"
   ]
  },
  {
   "cell_type": "markdown",
   "metadata": {},
   "source": [
    "For loops are used to iterate over a sequence of values, such as a list or range of numbers. For loops are most useful when you have a set number of things you want to iterate over. In python, iterators are objects that can return the items it contains one at a time. Many common data structures can be iterated over, such as lists, dictionaries, strings, etc. More complex data structures usually have a method that makes them iterable.\n",
    "\n",
    "Here's the syntax of a for loop:\n",
    "\n",
    "```python\n",
    "for item in iterator:\n",
    "    # code to execute for each item in the sequence\n",
    "    do_something(item)\n",
    "```\n",
    "\n",
    "A common thing to iterate over is a sequence of numbers. For this, it is useful to use the `range()` function which returns an iterator of the specified length. `range(4)` will return an iterator of the numbers 0, 1, 2, 3. You can combine the `range()` function with a `len()` function to iterate over the indices of a list. "
   ]
  },
  {
   "cell_type": "code",
   "execution_count": 19,
   "metadata": {},
   "outputs": [
    {
     "name": "stdout",
     "output_type": "stream",
     "text": [
      "0\n",
      "1\n",
      "2\n",
      "3\n",
      "4\n"
     ]
    }
   ],
   "source": [
    "for i in range(5):\n",
    "    print(i)\n"
   ]
  },
  {
   "cell_type": "code",
   "execution_count": 20,
   "metadata": {},
   "outputs": [
    {
     "name": "stdout",
     "output_type": "stream",
     "text": [
      "1\n",
      "2\n",
      "3\n",
      "4\n",
      "5\n"
     ]
    }
   ],
   "source": [
    "a = [1, 2, 3, 4, 5]\n",
    "for i in range(len(a)):\n",
    "    print(a[i])\n"
   ]
  },
  {
   "cell_type": "markdown",
   "metadata": {},
   "source": [
    "If you want to directly use the items of a list, it is easier to use the `for item in list` syntax."
   ]
  },
  {
   "cell_type": "code",
   "execution_count": 21,
   "metadata": {},
   "outputs": [
    {
     "name": "stdout",
     "output_type": "stream",
     "text": [
      "1\n",
      "2\n",
      "3\n",
      "4\n",
      "5\n"
     ]
    }
   ],
   "source": [
    "a = [1, 2, 3, 4, 5]\n",
    "for item in a:\n",
    "    print(item)\n"
   ]
  },
  {
   "cell_type": "markdown",
   "metadata": {},
   "source": [
    ">**Exercise:** Let's combine a for loop and an if statement. In the code block below, print out all the even numbers in the list `numbers`."
   ]
  },
  {
   "cell_type": "code",
   "execution_count": 22,
   "metadata": {},
   "outputs": [
    {
     "name": "stdout",
     "output_type": "stream",
     "text": [
      "2\n",
      "4\n"
     ]
    }
   ],
   "source": [
    "numbers = [1, 2, 3, 4, 5]\n",
    "\n",
    "# your code here\n",
    "for number in numbers:\n",
    "    if number %2 == 0:\n",
    "        print(number)\n"
   ]
  },
  {
   "cell_type": "markdown",
   "metadata": {},
   "source": [
    ">**Exercise:** Write a function called `in_list` that takes a number and a list of numbers and checks of that number already exists in the list. If it does, print \"number already exists!\". If it doesn't, add that number to the list. In both cases, return the list."
   ]
  },
  {
   "cell_type": "code",
   "execution_count": 23,
   "metadata": {},
   "outputs": [],
   "source": [
    "# Your code here\n",
    "\n",
    "def in_list(value, a_list):\n",
    "    if value in a_list:\n",
    "        print(f\"{value} is already in the list!\")\n",
    "    else:\n",
    "        a_list.append(value)\n",
    "        print(f\"Adding {value} to the list!\")\n",
    "    return a_list\n"
   ]
  },
  {
   "cell_type": "code",
   "execution_count": 24,
   "metadata": {},
   "outputs": [
    {
     "name": "stdout",
     "output_type": "stream",
     "text": [
      "3 is already in the list!\n",
      "Adding 30 to the list!\n"
     ]
    },
    {
     "data": {
      "text/plain": [
       "[1, 2, 3, 4, 5, 30]"
      ]
     },
     "execution_count": 24,
     "metadata": {},
     "output_type": "execute_result"
    }
   ],
   "source": [
    "# Test your code\n",
    "my_list = [1, 2, 3, 4, 5]\n",
    "in_list(3, my_list)\n",
    "in_list(30, my_list)\n"
   ]
  },
  {
   "cell_type": "markdown",
   "metadata": {},
   "source": [
    ">**Discussion:** Check your understanding of scope. Did your function modify the list that was passed to it? Or did it return a copy of the list? In what situations would we want to do one or the other?"
   ]
  },
  {
   "cell_type": "markdown",
   "metadata": {},
   "source": [
    "### More advanced for loops"
   ]
  },
  {
   "cell_type": "markdown",
   "metadata": {},
   "source": [
    "You can loop through both the position and the value of of an iterator by using the `enumerate()` function. This function returns a tuple of the index and the value of the item. "
   ]
  },
  {
   "cell_type": "code",
   "execution_count": 25,
   "metadata": {},
   "outputs": [
    {
     "name": "stdout",
     "output_type": "stream",
     "text": [
      "0 one\n",
      "1 two\n",
      "2 three\n"
     ]
    }
   ],
   "source": [
    "for i, v in enumerate([\"one\", \"two\", \"three\"]):\n",
    "    print(i, v)\n"
   ]
  },
  {
   "cell_type": "markdown",
   "metadata": {},
   "source": [
    "If there are two lists you want to loop through in parallel, you can use the `zip()` function to pair the first item of each list, the second item of each list, etc."
   ]
  },
  {
   "cell_type": "code",
   "execution_count": 26,
   "metadata": {},
   "outputs": [
    {
     "name": "stdout",
     "output_type": "stream",
     "text": [
      "1 a\n",
      "2 b\n",
      "3 c\n"
     ]
    }
   ],
   "source": [
    "list1 = [1, 2, 3]\n",
    "list2 = [\"a\", \"b\", \"c\"]\n",
    "for x, y in zip(list1, list2):\n",
    "    print(x, y)\n"
   ]
  },
  {
   "cell_type": "markdown",
   "metadata": {},
   "source": [
    "To loop over every pairwise combination of two lists, you would use a nested for loop. Be aware that if you are doing this for some large array, there is probably a more efficient way to do it."
   ]
  },
  {
   "cell_type": "code",
   "execution_count": 27,
   "metadata": {},
   "outputs": [
    {
     "name": "stdout",
     "output_type": "stream",
     "text": [
      "0 0\n",
      "0 1\n",
      "0 2\n",
      "0 3\n",
      "1 0\n",
      "1 1\n",
      "1 2\n",
      "1 3\n",
      "2 0\n",
      "2 1\n",
      "2 2\n",
      "2 3\n"
     ]
    }
   ],
   "source": [
    "rows = range(3)\n",
    "columns = range(4)\n",
    "\n",
    "for row in rows:\n",
    "    for column in columns:\n",
    "        print(row, column)\n"
   ]
  },
  {
   "cell_type": "markdown",
   "metadata": {},
   "source": [
    "### While loops\n",
    "\n",
    "A while loop is kind of like a generalized form of a for loop. It's used to repeat code until a condition is met. Think of it as a continuous if statement where \"if condition is true, do this code and then check the condition again\". While loops are helpful for when you don't know exactly how many iterations you will need to go through, but do have a definite end condition for the loop. Here's the syntax of a while loop:\n",
    "\n",
    "```python\n",
    "while condition:\n",
    "    # code to execute if condition is true\n",
    "    # usually the condition is updated in the loop\n",
    "    condition = update_condition(condition)\n",
    "```\n",
    "\n",
    "An example for using a while loop is sampling from a distribution until you get a value that meets some criteria. In the code block below, we roll a 6-sided die until we get a 6 and report how many times it took. "
   ]
  },
  {
   "cell_type": "code",
   "execution_count": 28,
   "metadata": {},
   "outputs": [
    {
     "name": "stdout",
     "output_type": "stream",
     "text": [
      "It took 16 rolls to roll a 6!\n"
     ]
    }
   ],
   "source": [
    "roll = 0\n",
    "count = 0\n",
    "while roll != 6:\n",
    "    roll = np.random.randint(1, 7)\n",
    "    count += 1\n",
    "print(f\"It took {count} rolls to roll a 6!\")\n"
   ]
  },
  {
   "cell_type": "markdown",
   "metadata": {},
   "source": [
    "You can combine while loops with if statements as a way to change the condition and break out of the loop. Here's a rewrite of the above code that uses an if statement to change the condition."
   ]
  },
  {
   "cell_type": "code",
   "execution_count": 29,
   "metadata": {},
   "outputs": [
    {
     "name": "stdout",
     "output_type": "stream",
     "text": [
      "It took 1 rolls to roll a 6!\n"
     ]
    }
   ],
   "source": [
    "condition = True\n",
    "count = 0\n",
    "while condition:\n",
    "    if np.random.randint(1, 7) == 6:\n",
    "        condition = False\n",
    "        count += 1\n",
    "    else:\n",
    "        count += 1\n",
    "print(f\"It took {count} rolls to roll a 6!\")\n"
   ]
  },
  {
   "cell_type": "markdown",
   "metadata": {},
   "source": [
    ">**Exercise:** How many people can we have in a room on average before we get a collision of birthdays, assuming all birthdays are equally likely? Write a while loop that samples a random day of the year. Stop the loop when a day is repeated, representing an existing birthday. Print out the number of samples it took to get a collision."
   ]
  },
  {
   "cell_type": "markdown",
   "metadata": {},
   "source": [
    "Here is some pseudocode to help you get started:\n",
    "\n",
    "```\n",
    "initialize list of birthdays\n",
    "set collision to False\n",
    "while collision is False:\n",
    "    make a new random birthday\n",
    "    if the new birthday is in list of birthdays:\n",
    "        set collision to True\n",
    "    else:\n",
    "        add the new birthday to the list\n",
    "print(\"It took length_of_birthday_list people to get a collision\")\n",
    "```"
   ]
  },
  {
   "cell_type": "code",
   "execution_count": 30,
   "metadata": {},
   "outputs": [
    {
     "name": "stdout",
     "output_type": "stream",
     "text": [
      "Duplicate birthday found on after 26 people\n"
     ]
    }
   ],
   "source": [
    "# Your code here\n",
    "\n",
    "birthdays = []\n",
    "collision = False\n",
    "while collision == False:\n",
    "    new_birthday = np.random.randint(1, 366)\n",
    "    if new_birthday in birthdays:\n",
    "        collision = True\n",
    "    else:\n",
    "        birthdays.append(new_birthday)\n",
    "print(f\"Duplicate birthday found on after {len(birthdays)} people\")\n"
   ]
  },
  {
   "cell_type": "markdown",
   "metadata": {},
   "source": [
    ">**Exercise:** Using the while loop you wrote above, write a function called `birthday_sim` that repeatedly performs the while loop and returns a list of each result of the simulation. The function should take in the number of times to run the simulation as an argument. In other words, stick the while loop inside a for loop, and put the for loop inside a function. "
   ]
  },
  {
   "cell_type": "code",
   "execution_count": 31,
   "metadata": {},
   "outputs": [],
   "source": [
    "# Your code here\n",
    "def birthday_sim(simulations):\n",
    "    sim_list = []\n",
    "    for _ in range(simulations):\n",
    "        birthdays = []\n",
    "        collision = False\n",
    "        while collision == False:\n",
    "            new_birthday = np.random.randint(1, 366)\n",
    "            if new_birthday in birthdays:\n",
    "                collision = True\n",
    "                birthdays.append(new_birthday)\n",
    "            else:\n",
    "                birthdays.append(new_birthday)\n",
    "        sim_list.append(len(birthdays))\n",
    "    return sim_list\n"
   ]
  },
  {
   "cell_type": "code",
   "execution_count": 32,
   "metadata": {},
   "outputs": [
    {
     "data": {
      "text/plain": [
       "24.265"
      ]
     },
     "execution_count": 32,
     "metadata": {},
     "output_type": "execute_result"
    }
   ],
   "source": [
    "# Test your code\n",
    "# On average, how many people do we need in a room to get a shared birthday?\n",
    "results = birthday_sim(1000)\n",
    "np.mean(results)\n"
   ]
  },
  {
   "cell_type": "markdown",
   "metadata": {},
   "source": [
    "### More advanced while loops\n",
    "\n",
    "You can use a while loop directly on a list. This is useful if you want to remove items from a list as you iterate over it. For this we can use the `pop()` method: when used on a list, by default (i.e. if the position isn't specified) it will remove the **last** element in the list. "
   ]
  },
  {
   "cell_type": "code",
   "execution_count": 33,
   "metadata": {},
   "outputs": [
    {
     "name": "stdout",
     "output_type": "stream",
     "text": [
      "5\n",
      "4\n",
      "3\n",
      "2\n",
      "1\n"
     ]
    }
   ],
   "source": [
    "my_list = [1, 2, 3, 4, 5]\n",
    "\n",
    "while my_list:\n",
    "    print(my_list.pop())\n"
   ]
  },
  {
   "cell_type": "markdown",
   "metadata": {},
   "source": [
    "One thing to note is lists are \"truthy\" if they are not empty and \"falsey\" if they are empty. Put another way, if we evaluate a non-empty list, it will return as 'true' while and empty list with return as 'false'...sort of like a boolean. Using the \"truthiness\" of an object is a common way to check if that object is empty. In a function, it can be used to check if an argument was passed when it was called. "
   ]
  },
  {
   "cell_type": "code",
   "execution_count": 60,
   "metadata": {},
   "outputs": [
    {
     "name": "stdout",
     "output_type": "stream",
     "text": [
      "4\n",
      "Please provide non-empty lists for both 'a' and 'b'\n"
     ]
    }
   ],
   "source": [
    "def test_function(a, b):\n",
    "    if not (a and b):\n",
    "        return \"Please provide non-empty lists for both 'a' and 'b'\"\n",
    "    return len(a) + len(b)\n",
    "\n",
    "print(test_function([2, 2, 1], [2]))\n",
    "print(test_function([], [2]))\n"
   ]
  },
  {
   "cell_type": "markdown",
   "metadata": {},
   "source": [
    "### Controlling behavior with break and continue"
   ]
  },
  {
   "cell_type": "markdown",
   "metadata": {},
   "source": [
    "Sometimes you might want to exit a loop early or you might want to skip the rest of the code and start the next iteration. The `break` and `continue` statements are used for such finer grained control over your loops. The `break` statement will exit the innermost `for` or `while` loop it is in. In the below example, we use a while loop to find the first number that is divisible by 7."
   ]
  },
  {
   "cell_type": "code",
   "execution_count": 35,
   "metadata": {},
   "outputs": [
    {
     "name": "stdout",
     "output_type": "stream",
     "text": [
      "23 is not divisible by 7\n",
      "24 is not divisible by 7\n",
      "25 is not divisible by 7\n",
      "26 is not divisible by 7\n",
      "27 is not divisible by 7\n",
      "28 is divisible by 7\n"
     ]
    }
   ],
   "source": [
    "num = 22\n",
    "while True: # this would run forever if it weren't for the break statement\n",
    "    num += 1\n",
    "    if num % 7 == 0:\n",
    "        print(f\"{num} is divisible by 7\")\n",
    "        break\n",
    "    else:\n",
    "        print(f\"{num} is not divisible by 7\")\n"
   ]
  },
  {
   "cell_type": "markdown",
   "metadata": {},
   "source": [
    "Here is another example where we use the `break` statement to exit a loop. In this case, we stop when we reach zero in a random walk. "
   ]
  },
  {
   "cell_type": "code",
   "execution_count": 36,
   "metadata": {},
   "outputs": [
    {
     "name": "stdout",
     "output_type": "stream",
     "text": [
      "Current position is 4, continue walking...\n",
      "Current position is 5, continue walking...\n",
      "Current position is 4, continue walking...\n",
      "Current position is 5, continue walking...\n",
      "Current position is 6, continue walking...\n",
      "Current position is 7, continue walking...\n",
      "Current position is 6, continue walking...\n",
      "Current position is 5, continue walking...\n",
      "Current position is 4, continue walking...\n",
      "Current position is 5, continue walking...\n",
      "Current position is 6, continue walking...\n",
      "Current position is 7, continue walking...\n",
      "Current position is 6, continue walking...\n",
      "Current position is 7, continue walking...\n",
      "Current position is 6, continue walking...\n",
      "Current position is 5, continue walking...\n",
      "Current position is 6, continue walking...\n",
      "Current position is 5, continue walking...\n",
      "Current position is 6, continue walking...\n",
      "Current position is 5, continue walking...\n",
      "Current position is 6, continue walking...\n",
      "Current position is 7, continue walking...\n",
      "Current position is 8, continue walking...\n",
      "Current position is 7, continue walking...\n",
      "Current position is 6, continue walking...\n",
      "Current position is 7, continue walking...\n",
      "Current position is 8, continue walking...\n",
      "Current position is 9, continue walking...\n",
      "Current position is 8, continue walking...\n",
      "Current position is 7, continue walking...\n",
      "Current position is 6, continue walking...\n",
      "Current position is 5, continue walking...\n",
      "Current position is 6, continue walking...\n",
      "Current position is 7, continue walking...\n",
      "Current position is 6, continue walking...\n",
      "Current position is 7, continue walking...\n",
      "Current position is 6, continue walking...\n",
      "Current position is 5, continue walking...\n",
      "Current position is 4, continue walking...\n",
      "Current position is 5, continue walking...\n",
      "Current position is 6, continue walking...\n",
      "Current position is 5, continue walking...\n",
      "Current position is 4, continue walking...\n",
      "Current position is 5, continue walking...\n",
      "Current position is 6, continue walking...\n",
      "Current position is 7, continue walking...\n",
      "Current position is 8, continue walking...\n",
      "Current position is 7, continue walking...\n",
      "Current position is 6, continue walking...\n",
      "Current position is 7, continue walking...\n",
      "Current position is 8, continue walking...\n",
      "Current position is 9, continue walking...\n",
      "Current position is 8, continue walking...\n",
      "Current position is 7, continue walking...\n",
      "Current position is 6, continue walking...\n",
      "Current position is 7, continue walking...\n",
      "Current position is 8, continue walking...\n",
      "Current position is 7, continue walking...\n",
      "Current position is 8, continue walking...\n",
      "Current position is 7, continue walking...\n",
      "Current position is 8, continue walking...\n",
      "Current position is 7, continue walking...\n",
      "Current position is 6, continue walking...\n",
      "Current position is 5, continue walking...\n",
      "Current position is 4, continue walking...\n",
      "Current position is 5, continue walking...\n",
      "Current position is 4, continue walking...\n",
      "Current position is 5, continue walking...\n",
      "Current position is 4, continue walking...\n",
      "Current position is 3, continue walking...\n",
      "Current position is 2, continue walking...\n",
      "Current position is 3, continue walking...\n",
      "Current position is 2, continue walking...\n",
      "Current position is 3, continue walking...\n",
      "Current position is 2, continue walking...\n",
      "Current position is 1, continue walking...\n",
      "Current position is 2, continue walking...\n",
      "Current position is 1, continue walking...\n",
      "Position has reached zero, stopping the walk.\n"
     ]
    }
   ],
   "source": [
    "position = 3\n",
    "while True:\n",
    "\n",
    "    # Randomly move either -1, or 1\n",
    "    position += np.random.choice([-1, 1])\n",
    "\n",
    "    # check position\n",
    "    if position > 0:\n",
    "        print(f\"Current position is {position}, continue walking...\")\n",
    "        continue\n",
    "\n",
    "    # If the position reaches zero, break the walk\n",
    "    if position == 0:\n",
    "        print(\"Position has reached zero, stopping the walk.\")\n",
    "        break\n"
   ]
  },
  {
   "cell_type": "markdown",
   "metadata": {},
   "source": [
    ">**Exercise:** Create a function called `rand_walk` that creates a random walk of length `n` steps with starting position `start=0`. The walk should move up or down by 1 with equal probability (hint: use `np.random.choice`), but stop the walk early if the walk reaches 3 or -3. Return the list of steps taken."
   ]
  },
  {
   "cell_type": "code",
   "execution_count": 37,
   "metadata": {},
   "outputs": [],
   "source": [
    "# Your code here\n",
    "\n",
    "def rand_walk(n, start=0):\n",
    "    position = start\n",
    "    walk = [position]\n",
    "    for _ in range(n):\n",
    "        position += np.random.choice([-1,1])\n",
    "        walk.append(position)\n",
    "        if position == 3 or position == -3:\n",
    "            break\n",
    "    return walk\n"
   ]
  },
  {
   "cell_type": "code",
   "execution_count": 38,
   "metadata": {},
   "outputs": [
    {
     "name": "stdout",
     "output_type": "stream",
     "text": [
      "[0, 1, 0, -1, 0, -1, -2, -1, -2, -1, -2]\n"
     ]
    }
   ],
   "source": [
    "# check your code\n",
    "\n",
    "my_walk = rand_walk(10)\n",
    "print(my_walk)\n"
   ]
  },
  {
   "cell_type": "markdown",
   "metadata": {},
   "source": [
    "## Calling functions within a function"
   ]
  },
  {
   "cell_type": "markdown",
   "metadata": {},
   "source": [
    "We use functions to bundle up pieces of code we want to use multiple times and to make that code portable so we can use it in different places. One of the situtations in which we may want to reuse code is within another function! In this section, we'll go over how to call functions within other functions. The basic idea is very straightforward, you simply perform a function call in the definition of another function. For example, in the code block below, we create a function that can plot any number of random walks from our original `rand_ralk` function. "
   ]
  },
  {
   "cell_type": "code",
   "execution_count": 39,
   "metadata": {},
   "outputs": [
    {
     "data": {
      "image/png": "[encoded data removed]",
      "text/plain": [
       "<Figure size 640x480 with 1 Axes>"
      ]
     },
     "metadata": {},
     "output_type": "display_data"
    }
   ],
   "source": [
    "# We create a function to plot multiple random walks\n",
    "\n",
    "def plot_rand_walk(num_walks, walk_length, start=0):\n",
    "    # create a list to store our walks\n",
    "    walks = []\n",
    "    for _ in range(num_walks):\n",
    "        # call the rand_walk function within this function\n",
    "        walk = rand_walk(walk_length, start)\n",
    "        walks.append(walk)\n",
    "    fig, ax = plt.subplots()\n",
    "    # use a for loop to plot each walk in our list of walks\n",
    "    for walk in walks:\n",
    "        ax.plot(walk)\n",
    "    # Add horizontal lines at y=3 and y=-3 to indicate the break conditions/bounds of the random walk\n",
    "    ax.hlines(y = 3, xmin = 0, xmax = walk_length, color = 'r', linestyle = '--', label = '3')\n",
    "    ax.hlines(y = -3, xmin = 0, xmax = walk_length, color = 'r', linestyle = '--', label = '-3')\n",
    "    # set x ticks to every step\n",
    "    ax.set_xticks(range(walk_length+1))\n",
    "\n",
    "# Now we can use a single line to plot as many random walks as we want\n",
    "plot_rand_walk(10, 20)\n"
   ]
  },
  {
   "cell_type": "markdown",
   "metadata": {},
   "source": [
    "## Lambda functions"
   ]
  },
  {
   "cell_type": "markdown",
   "metadata": {},
   "source": [
    "Lambda functions are small, anonymous (unnamed) functions usually used as a one-off function. It's like calling a function within a function but even smaller and informal. You can use lambda functions to do a quick calculation or transformation before passing the result as an argument to another function. Here's the syntax of a lambda function:\n",
    "\n",
    "```python\n",
    "lambda arguments: expression\n",
    "```\n",
    "\n",
    "As you can see, the `lambda` keyword takes the place of `def function_name():` and the arguments that would normally go inside parentheses are just listed after the `lambda` keyword. Also, the expression is not indented and there is no need for a `return` statement. "
   ]
  },
  {
   "cell_type": "markdown",
   "metadata": {},
   "source": [
    ">**Exercise:** Convert the following regular functions into lambda functions:\n",
    "\n",
    "```python\n",
    "def square(x):\n",
    "    return x**2\n",
    "```\n",
    "\n",
    "```python\n",
    "def is_odd(x):\n",
    "    return x % 2 != 0\n",
    "```\n",
    "\n",
    "```python\n",
    "def concat_strings(a, b):\n",
    "    return a + \" \" + b\n",
    "```"
   ]
  },
  {
   "cell_type": "code",
   "execution_count": 40,
   "metadata": {},
   "outputs": [
    {
     "data": {
      "text/plain": [
       "<function __main__.<lambda>(a, b)>"
      ]
     },
     "execution_count": 40,
     "metadata": {},
     "output_type": "execute_result"
    }
   ],
   "source": [
    "# Your code here\n",
    "\n",
    "# square\n",
    "lambda x: x**2\n",
    "\n",
    "# is_odd\n",
    "lambda x: x % 2 != 0\n",
    "\n",
    "# concat_strings\n",
    "lambda a, b: a + \" \" + b\n"
   ]
  },
  {
   "cell_type": "markdown",
   "metadata": {},
   "source": [
    "Lambda functions are commonly used within other functions such as the `filter()` and `map()` functions. Here's an example of using a lambda function to filter only the odd numbers from a list."
   ]
  },
  {
   "cell_type": "code",
   "execution_count": 41,
   "metadata": {},
   "outputs": [
    {
     "data": {
      "text/plain": [
       "[1, 5, 9, 15]"
      ]
     },
     "execution_count": 41,
     "metadata": {},
     "output_type": "execute_result"
    }
   ],
   "source": [
    "numbers = [1, 4, 5, 8, 9, 12, 15]\n",
    "list(filter(lambda x: x % 2 != 0, numbers))\n"
   ]
  },
  {
   "cell_type": "markdown",
   "metadata": {},
   "source": [
    "Here is an example of using a lambda function to concatenate two lists of strings element-wise."
   ]
  },
  {
   "cell_type": "code",
   "execution_count": 42,
   "metadata": {},
   "outputs": [
    {
     "data": {
      "text/plain": [
       "['a apple', 'b banana', 'c cherry']"
      ]
     },
     "execution_count": 42,
     "metadata": {},
     "output_type": "execute_result"
    }
   ],
   "source": [
    "list1 = [\"a\", \"b\", \"c\"]\n",
    "list2 = [\"apple\", \"banana\", \"cherry\"]\n",
    "list(map(lambda x, y: x + \" \" + y, list1, list2))\n",
    "\n",
    "\n"
   ]
  },
  {
   "cell_type": "markdown",
   "metadata": {},
   "source": [
    "## Bonus: List Comprehension\n",
    "\n",
    "While some people use lamdba functions a lot, other people find them a little hard to use and understand. Many things that you can do with a lambda function you can also do with a particularly Pythonic construct known as list comprehension. \n",
    "\n",
    "List comprehension is kind of like a condensed loop. Here is an example, that we'll break down:\n",
    "`[x + \": \" + y for x, y in zip(list1,list2)]`\n",
    "\n",
    "We can see something that looks like a for loop in there: `for x,y in zip(list1, list2)`. We know this already, and we know that this is a loop that interates over `zip(list1, list2)`, and puts paired elements in `x, y` for each iteration. \n",
    "\n",
    "The other part, `x + \": \" + y`, is just string concatenation. We might therefore write this out like:\n",
    "```python\n",
    "output = []\n",
    "for x, y in zip(list1, list2):\n",
    "    new_elem = x + \": \" + y\n",
    "    output.append(new_elem)\n",
    "```\n",
    "\n",
    "Note that list comprehension is just compressing this. You can read it as `do this for item in list`, where in this case `do this` = `x + \": \" + y`, `item` = `x, y`, and `list` = `zip(list1, list2)"
   ]
  },
  {
   "cell_type": "code",
   "execution_count": 43,
   "metadata": {},
   "outputs": [
    {
     "name": "stdout",
     "output_type": "stream",
     "text": [
      "[1, 5, 9, 15]\n",
      "['a: apple', 'b: banana', 'c: cherry']\n"
     ]
    }
   ],
   "source": [
    "print([odd for odd in numbers if odd % 2 != 0])\n",
    "print([x + \": \" + y for x, y in zip(list1, list2)])"
   ]
  },
  {
   "cell_type": "markdown",
   "metadata": {},
   "source": [
    "List comprehensions are useful if you want to do a simple operation on every element of a list (or other iterable) and return a new list. List comprehensions are also faster/more efficient than using a for loop. "
   ]
  },
  {
   "cell_type": "markdown",
   "metadata": {},
   "source": [
    ">**Exercise:** Convert the following expressions into list comprehensions:\n",
    "\n",
    "```python\n",
    "my_pets = [\"fluffy\", \"max\", \"rosie\", \"sam\"]\n",
    "my_pets_caps = []\n",
    "for pet in my_pets:\n",
    "    my_pets_caps.append(pet.capitalize())\n",
    "```\n",
    "\n",
    "```python\n",
    "my_pets = [\"fluffy\", \"max\", \"rosie\", \"sam\"]\n",
    "num_chars = []\n",
    "for pet in my_pets:\n",
    "    num_chars.append(len(pet))\n",
    "```\n"
   ]
  },
  {
   "cell_type": "code",
   "execution_count": 44,
   "metadata": {},
   "outputs": [],
   "source": [
    "# Your code here\n",
    "my_pets = [\"fluffy\", \"max\", \"rosie\", \"sam\"] # list of pet names\n",
    "my_pets_caps = [pet.capitalize() for pet in my_pets]"
   ]
  },
  {
   "cell_type": "code",
   "execution_count": 45,
   "metadata": {},
   "outputs": [],
   "source": [
    "# Your code here\n",
    "my_pets = [\"fluffy\", \"max\", \"rosie\", \"sam\"] # list of pet names\n",
    "num_chars = [len(pet) for pet in my_pets]"
   ]
  },
  {
   "cell_type": "markdown",
   "metadata": {},
   "source": [
    "Getting into more advanced list comprehensions, you can also use conditionals in order to filter the list or only perform operations on certain elements of a list. Here's an example of a list comprehension that only returns pet names that are three characters or less. \n",
    "\n",
    "```python\n",
    "my_pets = [\"fluffy\", \"max\", \"rosie\", \"sam\"]\n",
    "short_names = [pet for pet in my_pets if len(pet) <= 3]\n",
    "```\n",
    "\n",
    "Notice how the conditional is at the end of the list comprehension. The syntax is `do this for item in list if this condition`. For reference, here's the for loop version of the above code:\n",
    "\n",
    "```python\n",
    "my_pets = [\"fluffy\", \"max\", \"rosie\", \"sam\"]\n",
    "short_names = []\n",
    "for pet in my_pets:\n",
    "    if len(pet) <= 3:\n",
    "        short_names.append(pet)\n",
    "```"
   ]
  },
  {
   "cell_type": "markdown",
   "metadata": {},
   "source": [
    ">**Exercise:** Convert the following expressions into list comprehensions:\n",
    "\n",
    "```python\n",
    "my_numbers = [-5, -4, -3, -2, -1, 0, 1, 2, 3, 4]\n",
    "positive_even_numbers = []\n",
    "for num in my_numbers:\n",
    "    if num > 0 and num % 2 == 0:\n",
    "        positive_even_numbers.append(num)\n",
    "```\n",
    "\n",
    "\n",
    "```python\n",
    "my_numbers = [-5, -4, -3, -2, -1, 0, 1, 2, 3, 4]\n",
    "squared_and_even_numbers = []\n",
    "for num in my_numbers:\n",
    "    if num**2 % 2 == 0:\n",
    "        squared_even_numbers.append(num**2)\n",
    "```\n"
   ]
  },
  {
   "cell_type": "code",
   "execution_count": 46,
   "metadata": {},
   "outputs": [],
   "source": [
    "# Your code here\n",
    "my_numbers = [-5, -4, -3, -2, -1, 0, 1, 2, 3, 4] # list of numbers\n",
    "positive_even_numbers = [num for num in my_numbers if num > 0 and num % 2 == 0]"
   ]
  },
  {
   "cell_type": "code",
   "execution_count": 47,
   "metadata": {},
   "outputs": [],
   "source": [
    "# Your code here\n",
    "my_numbers = [1, 2, 3, 4, 5, 6, 7, 8, 9, 10] # list of numbers\n",
    "squared_and_even_numbers = [num ** 2 for num in my_numbers if num**2 % 2 == 0]"
   ]
  },
  {
   "cell_type": "markdown",
   "metadata": {},
   "source": [
    ">**Exercise:** Revisit last session's scrabble score function. Write a *dictionary* comprehension that does the same thing as that function.\n",
    "\n",
    "```python\n",
    "def scrabble_score(word):\n",
    "    scrabble_letter_values = {\n",
    "    'A': 1, 'B': 2, 'C': 3, 'D': 1, 'E': 1, 'F': 4, 'G': 2, 'H': 4, 'I': 1,\n",
    "    'J': 8, 'K': 5, 'L': 1, 'M': 3, 'N': 1, 'O': 1, 'P': 3, 'Q': 10, 'R': 1,\n",
    "    'S': 1, 'T': 1, 'U': 1, 'V': 4, 'W': 4, 'X': 8, 'Y': 4, 'Z': 10\n",
    "    }\n",
    "    score = 0\n",
    "    for letter in word.upper():\n",
    "        score += scrabble_letter_values.get(letter, 0)\n",
    "    return score\n",
    "```"
   ]
  },
  {
   "cell_type": "code",
   "execution_count": 48,
   "metadata": {},
   "outputs": [
    {
     "data": {
      "text/plain": [
       "8"
      ]
     },
     "execution_count": 48,
     "metadata": {},
     "output_type": "execute_result"
    }
   ],
   "source": [
    "scrabble_letter_values = {\n",
    "    'A': 1, 'B': 2, 'C': 3, 'D': 1, 'E': 1, 'F': 4, 'G': 2, 'H': 4, 'I': 1,\n",
    "    'J': 8, 'K': 5, 'L': 1, 'M': 3, 'N': 1, 'O': 1, 'P': 3, 'Q': 10, 'R': 1,\n",
    "    'S': 1, 'T': 1, 'U': 1, 'V': 4, 'W': 4, 'X': 8, 'Y': 4, 'Z': 10\n",
    "    }\n",
    "my_word = \"HELLO\"\n",
    "\n",
    "# Your code here\n",
    "sum([scrabble_letter_values[letter] for letter in my_word])"
   ]
  },
  {
   "cell_type": "markdown",
   "metadata": {},
   "source": [
    "## Using functions to do math and plot things"
   ]
  },
  {
   "cell_type": "markdown",
   "metadata": {},
   "source": [
    "Functions can be useful for performing mathematical operations. Any equation can be turned into a function by replacing the variables from a mathematical with python objects that are passed through the function as arguments. Here is an example of a function that calculates the area of a circle given the radius. Unlike variables in mathematical formulas, the python objects in your function should have expressive names, so avoid naming your objects things like x, y, r, etc. This will help improve readability. "
   ]
  },
  {
   "cell_type": "markdown",
   "metadata": {},
   "source": [
    ">**Exercise:** Write a function that calculates the volume of a sphere given the radius. You can use the `np.pi` constant for the value of pi."
   ]
  },
  {
   "cell_type": "code",
   "execution_count": 49,
   "metadata": {},
   "outputs": [],
   "source": [
    "# Your code here\n",
    "\n",
    "def vol_sphere(radius):\n",
    "    return (4/3) * np.pi * radius ** 3\n"
   ]
  },
  {
   "cell_type": "code",
   "execution_count": 50,
   "metadata": {},
   "outputs": [
    {
     "name": "stdout",
     "output_type": "stream",
     "text": [
      "4.1887902047863905\n"
     ]
    }
   ],
   "source": [
    "# check your work\n",
    "\n",
    "print(vol_sphere(1)) # Expected output: 4.1887902047863905\n"
   ]
  },
  {
   "cell_type": "markdown",
   "metadata": {},
   "source": [
    "Let's use our function to plot how the volume of a sphere changes with its radius. To do this, we create a numpy array of 100 numbers evenly spaced between 0.1 and 10 using the `np.linspace()` function. We then use that array as the input to the `vol_sphere()` function. Note how even though we didn't do anything special to volume calculation function, it operates just as well on single number as it does on numpy arrays. This is because numpy arrays are designed to **vectorize** functions across the elements of an array."
   ]
  },
  {
   "cell_type": "code",
   "execution_count": 51,
   "metadata": {},
   "outputs": [
    {
     "data": {
      "text/plain": [
       "[Text(0.5, 0, 'Radius'), Text(0, 0.5, 'Volume')]"
      ]
     },
     "execution_count": 51,
     "metadata": {},
     "output_type": "execute_result"
    },
    {
     "data": {
      "image/png": "[encoded data removed]",
      "text/plain": [
       "<Figure size 640x480 with 1 Axes>"
      ]
     },
     "metadata": {},
     "output_type": "display_data"
    }
   ],
   "source": [
    "radii = np.linspace(0.1, 10, 100)\n",
    "\n",
    "fig, ax = plt.subplots()\n",
    "volumes = vol_sphere(radii)\n",
    "ax.plot(radii, volumes)\n",
    "ax.set(xlabel=\"Radius\", ylabel=\"Volume\")\n"
   ]
  },
  {
   "cell_type": "markdown",
   "metadata": {},
   "source": [
    ">**Exercise:** Write a function that finds the intersection of two lines given the slope and y-intercept of each line. The function should return the x and y coordinates of the intersection. If the lines are parallel, the function should print \"lines are parallel\" and return `None`. "
   ]
  },
  {
   "cell_type": "code",
   "execution_count": 52,
   "metadata": {},
   "outputs": [],
   "source": [
    "# Your code here\n",
    "def intersection(y_intercept1, slope1, y_intercept2, slope2):\n",
    "    if slope1 == slope2:\n",
    "        print(\"Lines are parallel\")\n",
    "        return None\n",
    "    x = (y_intercept2 - y_intercept1) / (slope1 - slope2)\n",
    "    y = slope1 * x + y_intercept1\n",
    "    return (x, y)"
   ]
  },
  {
   "cell_type": "code",
   "execution_count": 53,
   "metadata": {},
   "outputs": [
    {
     "name": "stdout",
     "output_type": "stream",
     "text": [
      "Lines are parallel\n",
      "None\n",
      "(0.5, 0.5)\n"
     ]
    }
   ],
   "source": [
    "# check your work\n",
    "print(intersection(1, 2, 2, 2)) # Expected output: None\n",
    "print(intersection(0, 1, 1, -1)) # Expected 0.5, 0.5\n"
   ]
  },
  {
   "cell_type": "markdown",
   "metadata": {},
   "source": [
    "Here is another example of converting a mathematical expression into a funciton and then plotting it. Below is the logistic growth equation, expressed as $$P(t)=\\frac{K}{1+\\frac{K-P_0}{P_0}e^{-rt}}$$ \n",
    "where \n",
    "\n",
    "$P_0$ = initial population size\n",
    "\n",
    "$K$ = carrying capacity\n",
    "\n",
    "$r$ = growth rate\n",
    "\n",
    "$t$ = time \n",
    "\n",
    "In the code block below, the `logistic_growth` function takes a time point, an initial population size, a carrying capacity, and a growth rate (as a percentage). And it will return an array of the population size at each time point. "
   ]
  },
  {
   "cell_type": "code",
   "execution_count": 54,
   "metadata": {},
   "outputs": [],
   "source": [
    "def logistic_growth(time, initial, carrying_capacity, rate):\n",
    "    return carrying_capacity / (1 + ((carrying_capacity - initial) / initial) * np.exp(-rate * time))\n"
   ]
  },
  {
   "cell_type": "markdown",
   "metadata": {},
   "source": [
    "We can then create a dataframe to plot this function by initalizing a time array using `np.arange()` to make a time vector that goes from 1 to 999. We also set the other constants. Then, we create a dataframe to store the simulated data. Finally, we plot with seaborn."
   ]
  },
  {
   "cell_type": "code",
   "execution_count": 55,
   "metadata": {},
   "outputs": [
    {
     "data": {
      "text/plain": [
       "[(0.0, 1000.0), (0.0, 2100.0)]"
      ]
     },
     "execution_count": 55,
     "metadata": {},
     "output_type": "execute_result"
    },
    {
     "data": {
      "image/png": "[encoded data removed]",
      "text/plain": [
       "<Figure size 640x480 with 1 Axes>"
      ]
     },
     "metadata": {},
     "output_type": "display_data"
    }
   ],
   "source": [
    "time_points = np.arange(1, 1000)\n",
    "initial = 10\n",
    "carrying_capacity = 2000\n",
    "rate = .01\n",
    "\n",
    "df = pd.DataFrame({\"Time\": time_points, \"Population\": logistic_growth(time_points, initial, carrying_capacity, rate)})\n",
    "g = sns.lineplot(df, x = \"Time\", y = \"Population\")\n",
    "g.set(xlim=(0, 1000), ylim = (0, 2100))\n"
   ]
  },
  {
   "cell_type": "markdown",
   "metadata": {},
   "source": [
    ">**Exercise:** Create a function called `dPdt` that calculates the rate of an enzyme reaction based on Michaelis-Menten kinetics. The equation for reactions rate $v$ is below:\n",
    "$$v=\\frac{dP}{dt}=\\frac{V_{max} a}{K_m+a}$$\n",
    "where\n",
    "\n",
    "$v$= rate of change of product dp/dt\n",
    "\n",
    "$V_{max}$= Max rate of the system given an enzyme concentration\n",
    "\n",
    "$K_m$= Rate at which rate is half of Vmax\n",
    "\n",
    "$a$= concentration of substrate"
   ]
  },
  {
   "cell_type": "code",
   "execution_count": 56,
   "metadata": {},
   "outputs": [],
   "source": [
    "# Your code here\n",
    "\n",
    "def dPdt(Vmax, Km, a):\n",
    "    return (Vmax * a) / (Km + a)\n"
   ]
  },
  {
   "cell_type": "code",
   "execution_count": 57,
   "metadata": {},
   "outputs": [
    {
     "data": {
      "image/png": "[encoded data removed]",
      "text/plain": [
       "<Figure size 640x480 with 1 Axes>"
      ]
     },
     "metadata": {},
     "output_type": "display_data"
    }
   ],
   "source": [
    "# check your work\n",
    "sns.set_theme()\n",
    "def mmplot():\n",
    "    fig, ax = plt.subplots()\n",
    "    a = np.linspace(0, 2, 1000)\n",
    "    Vmax = .1\n",
    "    Km = .05\n",
    "    ax.plot(a, dPdt(Vmax, Km, a), label = f\"Km = {Km}\")\n",
    "    ax.set(xlabel = \"Substrate concentration\", ylabel = \"dP/dt\", title = \"Michaelis-Menten rate plot\")\n",
    "    ax.legend(loc = \"lower right\")\n",
    "\n",
    "mmplot()\n"
   ]
  },
  {
   "cell_type": "markdown",
   "metadata": {},
   "source": [
    ">**Exercise:** Using the `dPdt` function, create another function called `michaelis_menten_plot` takes a list of Km values and plots each one as a line like on the above plot. X axis should be substrate concentration, y axis should be dPdt. There should be a line corresponding to each Km value. Feel free to use the constant values of the previous plot. "
   ]
  },
  {
   "cell_type": "code",
   "execution_count": 58,
   "metadata": {},
   "outputs": [
    {
     "data": {
      "image/png": "[encoded data removed]",
      "text/plain": [
       "<Figure size 640x480 with 1 Axes>"
      ]
     },
     "metadata": {},
     "output_type": "display_data"
    }
   ],
   "source": [
    "def michaelis_menten_plot(Km): # keep\n",
    "    fig, ax = plt.subplots() # keep\n",
    "    a = np.linspace(0, 2, 1000) # keep\n",
    "    Vmax = .1 # keep\n",
    "    for k in Km:\n",
    "        ax.plot(a, dPdt(Vmax, k, a), label = f\"Km={k}\")\n",
    "    ax.set(xlabel = \"Substrate concentration\", ylabel = \"dP/dt\", title = \"Michaelis-Menten rate plot\") # keep\n",
    "    ax.legend() # keep\n",
    "\n",
    "# check your work\n",
    "michaelis_menten_plot([0.01, 0.05, 0.1, .5, 1])\n"
   ]
  },
  {
   "cell_type": "markdown",
   "metadata": {},
   "source": [
    "## General tips for writing functions"
   ]
  },
  {
   "cell_type": "markdown",
   "metadata": {},
   "source": [
    "**Write lots of functions! Functionalize everything!**\n",
    "\n",
    "There are many reasons to write functions, even if you think you might only use it once in your notebook or workflow. Using functions in your code improves the readability of the code, because rather than puzzle through many lines trying to interpret what was going on, you can just read the function name/description and understand what happened. It also improves readability by allowing the reader to focus on the important parts of the code rather than functions that may perform rote tasks. \n",
    "\n",
    "Functions make your code more modular and reproducible. By breaking down the analysis into discrete chunks, you can easily swap out functions to test things or move sections of code around because functions are very portable. \n",
    "\n",
    "Functions also make your code more testable. When you encounter a bug or an unexpected outcome, you can more easily trace the source of the problem if you have functions that are well-documented and do one thing. Think of it like mixing smaller batches of reagents that you use at a time rather than one big container. \n",
    "\n",
    "**Document your functions**\n",
    "\n",
    "The first step towards having a readable and well-documented function is to choose a descriptive name for it. The name should use a verb like \"plot\" or \"calculate\". Try and follow some consistent naming conventions with regard to capitalization and underscores. It'll be easier to remember what your functions are called if you don't mix up conventions like \"plot\" and \"Plot\" or \"plot_this\" and \"plotThis\". For more guidance, see the [python style guide](https://peps.python.org/pep-0008/#naming-conventions). \n",
    "\n",
    "The second step when writing functions: it is good practice to annotate it with what it does. That way, when future you or someone else reads it, the function's useage is immediately clear. You can annotate functions with a triple quote at the beginning of a function body, which is called a **docstring**. Typical contents of a docstring are:\n",
    "\n",
    "* one sentence describing the usage\n",
    "* list of all parameters and what type they should be\n",
    "* what the function returns\n",
    "\n",
    "See below:\n",
    "\n",
    "```python\n",
    "def fibonacci(n):\n",
    "    \"\"\"\n",
    "    Calculate the nth number in the fibonacci sequence\n",
    "    Input: n, an integer\n",
    "    Returns: the nth number in the fibonacci sequence, an integer\n",
    "    \"\"\"\n",
    "    if n == 0:\n",
    "        return 0\n",
    "    elif n == 1:\n",
    "        return 1\n",
    "    else:\n",
    "        return fibonacci(n-1) + fibonacci(n-2)\n",
    "```\n",
    "\n",
    "Lastly, you are encouraged to write comments in your code. Comments in python are prefixed with a `#` and a good rule of thumb is to write a comment for every chunk of code that does something specific, or if it is not obvious why you had to write code that way. These comments will primarily benefit yourself for when you go back to your code and ask yourself \"why did I do it this way?\". It's good practice to have comments exist on their own line rather than in-line with your code. \n",
    "\n",
    "**Functions should do ONE thing**\n",
    "\n",
    "Functions are meant to do one thing, just like a sentence is meant to express a complete thought. If you bundle your entire analysis into a single function, it's akin to writing a run-on sentence by abusing colons, semi-colons, etc. It might be correct and it might run, but it will be hard to read and also hard to debug. Make liberal use of calling functions within functions and making your code modular. "
   ]
  }
 ],
 "metadata": {
  "kernelspec": {
   "display_name": "pyworkshop",
   "language": "python",
   "name": "python3"
  },
  "language_info": {
   "codemirror_mode": {
    "name": "ipython",
    "version": 3
   },
   "file_extension": ".py",
   "mimetype": "text/x-python",
   "name": "python",
   "nbconvert_exporter": "python",
   "pygments_lexer": "ipython3",
   "version": "3.12.3"
  }
 },
 "nbformat": 4,
 "nbformat_minor": 2
}
