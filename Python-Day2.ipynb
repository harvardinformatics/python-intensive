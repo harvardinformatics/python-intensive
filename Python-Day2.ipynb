{
 "cells": [
  {
   "cell_type": "markdown",
   "metadata": {
    "id": "m-_cx9RCSbfO"
   },
   "source": [
    "# Python intensive, day 2\n",
    "\n",
    "## Introduction\n",
    "\n",
    "Welcome (back) to the Harvard Informatics Python workshop. This is day two of six, where we aim to give a whirlwind, yet thorough, introduction programming concepts, the Python programming language, and how to use Python and some popular libaries to facilitate data analyses.\n",
    "\n",
    "Yesterday, we learned some foundational programming concepts and how they are implemented in Python. Specifically, we learned about:\n",
    "\n",
    "1.   How computers need every single step given to them in order to complete a task with programming. This requires the programmer to conceptualize a problem at a high level, perhaps with **pseudocode**, and then break down that problem in every single step.\n",
    "2.   Data can be stored and manipulated in a program by assigning it to an internal **variable** name with the assignment operator (`=`).\n",
    "3.   **Functions** are blocks of code that perform a specific task and can be \"looked up\" from another program - like another recipe in a recipe book. Functions require input in the form of **arguments** and **return** output.\n",
    "4.   **Operators** are functions that perform universal tasks, such as `+` for the addition of integers.\n",
    "5.   Functions and operators may work on specific **data types**, such as **strings** or **integers**. It is important to remember what data type your function expects.\n",
    "6.   **Boolean** (`True` or `False`) is a data type that allows programmers to express and evaluate complex logical statements. Booleans have operators that work on them, such as `and`, `or`, and `not`.\n",
    "7.   **Conditional** (`if`, `elif`, `else`) statements allow programmers to execute certain blocks of code depending on the state of the data in their program by testing logical conditions. Data is compared with **comparison operators** such as `>`, `==`, or `in`.\n",
    "8.   **Loops** (`while`, `for`) allow sets of instructions to be automatically repeated depending on the conditions of the program.\n",
    "\n",
    "Today we will build on this by learning about **iterable data structures**, which will enhance what we can do with `for` loops, and we will learn to write our own functions.\n",
    "\n"
   ]
  },
  {
   "cell_type": "markdown",
   "metadata": {
    "id": "QLHe4Q159We0"
   },
   "source": [
    "### Installing/running this notebook\n",
    "\n",
    "This workshop exists as a **Jupyter notebook**. You can participate in this workshop by using this notebook by simply uploading it to Google Colab. Go to  https://colab.research.google.com/ to do so. That's it! This is the recommended way for participating in this workshop. Skip the bleo instructions if you will be using Google Colab.\n",
    "\n",
    "---\n",
    "**See above for the recommended way to participate in this workshop. Only follow these instructions if Google Colab isn't working**\n",
    "\n",
    "If for some reason Google Colab isn't working, or you prefer to run this locally, you will need to install python, anaconda, and the necessary libraries. You will have to follow these steps to do so. Note that some steps are only meant for specific operating systems.\n",
    "\n",
    "0. If you are on Windows, [install WSL](https://learn.microsoft.com/en-us/windows/wsl/install). Once WSL is installed, you'll have a Linux terminal available to you in Windows. You can open this terminal by typing \"wsl\" in the search bar and clicking the app that appears. You'll also find your Linux distribution as a mounted drive in your file explorer.\n",
    "\n",
    "1. Install mamba, a package manager using the command line - Terminal for Mac or WSL for Windows.\n",
    "\n",
    "    1.1. For Mac, if you already have brew installed, install mamba using `brew install miniforge` and initialize it using `conda init zsh`. Then restart your terminal. If you don't have homebrew (i.e. the brew command doesn't exist), install brew first using `/bin/bash -c \"$(curl -fsSL https://raw.githubusercontent.com/Homebrew/install/HEAD/install.sh)\"`\n",
    "    \n",
    "    1.2. For Windows, download the Linux (x86_64) installer from the miniforge repository [here](https://github.com/conda-forge/miniforge) and install with `bash Miniforge3-Linux-x86_64.sh`.\n",
    "\n",
    "2. Create a new environment using mamba with `mamba create -n pyworkshop numpy pandas matplotlib seaborn jupyter` and activate it with `conda activate pyworkshop`.\n",
    "\n",
    "3. You can now run the jupyter notebook by typing `jupyter notebook` in the terminal. This will open a browser window with the jupyter notebook interface. You can navigate to the folder where you saved this notebook and open it.\n",
    "\n",
    "4. Alternatively, install [VSCode](https://code.visualstudio.com/) and the Python extension. Then open this notebook in VSCode and run it with the kernel that belongs to the pyworkshop environment. [How to guide here](https://code.visualstudio.com/docs/datascience/jupyter-notebooks)\n",
    "\n",
    "---"
   ]
  },
  {
   "cell_type": "markdown",
   "metadata": {
    "id": "SAmnBFpW9We3"
   },
   "source": [
    "### Jokes\n",
    "\n",
    "To re-iterate some of the concepts we talked about at the beginning of yesterday's workshop, let's start with a joke about computer programmers.\n",
    "\n",
    "Sam asks their computer programmer spouse to go get some groceries. Sam tells him, \"Please go to the store to get some groceries. Buy a loaf of bread. If they have eggs, get a dozen.\" The spouse comes back with 13 loaves of bread. This joke is funny if you understand how computer programs evaluate commands.\n",
    "\n",
    "Below is some pseudocode that represents what the computer programmer did.\n",
    "\n",
    "```\n",
    "go to the store\n",
    "\n",
    "loaf_of_bread = 1\n",
    "if eggs:\n",
    "    loaf_of_bread += 12\n",
    "```\n",
    "\n",
    "This joke illustrates that what may make sense in natural language does not immediately translate to computer language. And therefore we have to be really specific, giving every instruction even, when we're programming."
   ]
  },
  {
   "cell_type": "markdown",
   "metadata": {},
   "source": [
    "## Control Flow"
   ]
  },
  {
   "cell_type": "markdown",
   "metadata": {},
   "source": [
    "### Conditional statements\n",
    "\n",
    "Let's recall the recipe to get a robot to bake us some chocolate chip cookies. We left our recipe in this state:\n",
    "\n",
    "```\n",
    "  1. Walk_anywhere(distance=2 and angle=40).\n",
    "  2. Extend your arm towards the power button.\n",
    "  3. Push the power button.\n",
    "  4. Move your arm to the temperature dial.\n",
    "  5. Set the temperature dial to 375°F (190°C).\n",
    "  6. Lower your arm.\n",
    "  7. Walk_anywhere(distance=0.6 and angle=120).\n",
    "  8. Extend your arm.\n",
    "  9. Grasp the cabinet handle.\n",
    "  10. Pull the cabinet open.\n",
    "  11. Release the cabinet handle.\n",
    "  12. Extend both arms toward the large mixing bowl on the shelf.\n",
    "  13. Grasp the mixing bowl with both hands.\n",
    "  .\n",
    "  .\n",
    "  .\n",
    "  and so on.\n",
    "```\n",
    "\n",
    "We also had these other recipes in our recipe book that the robot could look up everytime it saw them in our main recipe:\n",
    "\n",
    "```\n",
    "Step:\n",
    "  1. Lift right leg.\n",
    "  2. Extend right leg.\n",
    "  3. Lower right leg and lift left leg.\n",
    "  4. Extend left leg.\n",
    "  5. Lower left leg and lift right leg.\n",
    "\n",
    "Walk_anywhere(*distance*, *angle*):\n",
    "  1. Turn body *angle* degrees\n",
    "  2. Repeat Step until the *distance* has been traversed\n",
    "```\n",
    "\n",
    "We now know that these sub-recipes are called **functions**.\n",
    "\n",
    "In our main recipe, we've called `Walk_anywhere()` twice, first to get the robot to the oven, then to get to the cabinet.\n",
    "\n",
    "But, what if before it starts baking the cookies, the robot is already standing at the oven? While we could call `Walk_anywhere(distance=0, angle=0)`, it would be kind of pointless, and it may waste valuable time - those few seconds it takes us to lookup the `Walk_anywhere()` recipe only to have to immediately flip back to the main recipe are going to delay us from our cookies.\n",
    "\n",
    "This is a perfect situation to check the **conditions** of our program, and only execute the `Walk_anywhere()` function if certain conditions are True (or not True, depending on the context).\n",
    "\n",
    "In order to do this, we need one more piece of information in our recipe: our current location. Then our recipe may look like this:\n",
    "\n",
    "```\n",
    "  The current location is in front of the oven.\n",
    "\n",
    "  1. If we aren't at our oven, Walk_anywhere(distance=2 and angle=40).\n",
    "  2. Extend your arm towards the power button.\n",
    "  3. Push the power button.\n",
    "  .\n",
    "  .\n",
    "  .\n",
    "  and so on.\n",
    "```\n",
    "\n",
    "Now, we've given the robot's location and we've said in step 1, only execute `Walk_anywhere()` **if** is isn't already at our oven. Now our robot knows not to bother looking up and running `Walk_anywhere()` in this case. We could change the location accordingly in the recipe and the robot would know whether or not it needed to `Walk_anywhere()`. For instance:\n",
    "\n",
    "```\n",
    "  The current location is in the living room.\n",
    "\n",
    "  1. If we aren't at our oven, Walk_anywhere(distance=2 and angle=40).\n",
    "  2. Extend your arm towards the power button.\n",
    "  3. Push the power button.\n",
    "  .\n",
    "  .\n",
    "  .\n",
    "  and so on.\n",
    "```\n",
    "\n",
    "We can make our pseudocode look a little bit more programmatic by doing the following:\n",
    "1. Make the current location a string variable using the `=` asignment operator.\n",
    "2. In the conditional **if statement**, use a logical comparison between strings.\n",
    "\n",
    "```\n",
    "  current_location = \"living room\"\n",
    "\n",
    "  1. If current_location != \"oven\", Walk_anywhere(distance=2 and angle=40).\n",
    "  2. Extend your arm towards the power button.\n",
    "  3. Push the power button.\n",
    "  .\n",
    "  .\n",
    "  .\n",
    "  and so on.\n",
    "```\n",
    "\n",
    "We of course would also have to update the `distance` and `angle` arguments in our function call to be dependent on the `current_location`, but we can ignore that for now.\n",
    "\n",
    "> **Exercise**: Imagine you are programming a robot to navigate a maze. You know that this maze can be navigated by following the \"right hand rule\", which is to always keep your right hand on the wall. The robot can move or look in four directions: up, down, left, and right. How would you give the robot instructions to navigate the maze? Write pseudocode for this robot navigating the maze."
   ]
  },
  {
   "cell_type": "markdown",
   "metadata": {},
   "source": [
    "\n",
    "```\n",
    "Look to the right:\n",
    "    If there is a wall:\n",
    "        Try to Move Forward\n",
    "        If you can't move forward:\n",
    "            Turn Left\n",
    "    Else:\n",
    "        Turn right\n",
    "        Move Forward\n",
    "```"
   ]
  },
  {
   "cell_type": "markdown",
   "metadata": {},
   "source": [
    "#### `if` statements and code blocks\n",
    "\n",
    "What we described above are called **conditional statements**. In Python (and many other programming languages), these are denoted by the keyword `if`. Following `if` is a logical expression, and if that expression returns `True`, the code *within* the if statement will be executed. If it is not `True`, the code will be skipped and the subsequent lines of code will executed. Together, the `if` keyword and the logical expression are called an **if statement**.\n",
    "\n",
    "We mention code *within* an if statement. What does that mean? When programming, separate parts of code are broken up into chunks, or **blocks** of code. Different languages handle the denotion of blocks of code in different ways. **For Python, blocks of code are indicated by indented text**, either using tabs or spaces (though you must be consistent throughout your code).\n",
    "\n",
    "For example:"
   ]
  },
  {
   "cell_type": "code",
   "execution_count": null,
   "metadata": {},
   "outputs": [],
   "source": [
    "x = 5\n",
    "\n",
    "if x < 10:\n",
    "  print(\"The number is smaller than 10\")\n",
    "  # code to execute if condition is true\n",
    "  # this part is indented\n",
    "\n",
    "print(\"Done.\")"
   ]
  },
  {
   "cell_type": "markdown",
   "metadata": {},
   "source": [
    "Here, we have set the value of `x` to be 5, then used the keyword `if` along with a logical expression (`x < 10`). Since the logical expression evaluates to `True`, the indented code block is executed.\n",
    "\n",
    "Code blocks can be more than one line. After an **if statement** that returns `True`, every subsequent line that is indented one more level than the **if statement** itself will be executed."
   ]
  },
  {
   "cell_type": "code",
   "execution_count": null,
   "metadata": {},
   "outputs": [],
   "source": [
    "x = 5\n",
    "\n",
    "if x < 10:\n",
    "  print(\"Your number is\", x)\n",
    "  print(\"The number is smaller than 10\")\n",
    "\n",
    "print(\"Done.\")"
   ]
  },
  {
   "cell_type": "markdown",
   "metadata": {},
   "source": [
    "This indentation syntax is required by Python, as that is how it knows which instructions to execute after an if statement. If the indentation is incorrect, you will see an error, such as the following:"
   ]
  },
  {
   "cell_type": "code",
   "execution_count": null,
   "metadata": {},
   "outputs": [],
   "source": [
    "x = 5\n",
    "\n",
    "if x < 10:\n",
    "print(\"Your number is\", x)\n",
    "print(\"The number is smaller than 10\")\n",
    "\n",
    "print(\"Done.\")"
   ]
  },
  {
   "cell_type": "code",
   "execution_count": null,
   "metadata": {},
   "outputs": [],
   "source": [
    "x = 5\n",
    "\n",
    "if x < 10:\n",
    "  print(\"Your number is\", x)\n",
    "    print(\"The number is smaller than 10\")\n",
    "\n",
    "print(\"Done.\")"
   ]
  },
  {
   "cell_type": "markdown",
   "metadata": {},
   "source": [
    "In addition to syntax errors, which Python will catch, mis-placed indentation can also lead to **logic errors**, where the code will run, but with unexpected results.\n",
    "\n",
    "Here, we will change the value of `x` so that the if statement is no longer `True`, but we will make a mistake with our indentation."
   ]
  },
  {
   "cell_type": "code",
   "execution_count": null,
   "metadata": {},
   "outputs": [],
   "source": [
    "x = 12\n",
    "\n",
    "if x < 10:\n",
    "  print(\"Your number is\", x)\n",
    "print(\"The number is smaller than 10\")\n",
    "\n",
    "print(\"Done.\")"
   ]
  },
  {
   "cell_type": "markdown",
   "metadata": {},
   "source": [
    "In this case, the program is telling us that our number is smaller than 10, even though it is clearly not. This is because the second `print()` statement is not indented to be included in the if statement, rather it is part of the outer code block that will be executed regardless of the result of the if statement.\n",
    "\n",
    "Remember, the computer doesn't know what you intend with your program. It will run according to its rules, so you have to be explicit with your instructions, in this case with indentation."
   ]
  },
  {
   "cell_type": "markdown",
   "metadata": {},
   "source": [
    "Also note the colon character, `:`, after the `if` keyword and logical expression. This is also syntactically required by Python after any if statement. Without it, you will see an error:"
   ]
  },
  {
   "cell_type": "code",
   "execution_count": null,
   "metadata": {},
   "outputs": [],
   "source": [
    "x = 5\n",
    "\n",
    "if x < 10\n",
    "  print(\"Your number is\", x)\n",
    "  print(\"The number is smaller than 10\")\n",
    "\n",
    "print(\"Done.\")"
   ]
  },
  {
   "cell_type": "markdown",
   "metadata": {},
   "source": [
    "> **Exercise**: Pick a message and store it as a string. Print the message only if the string has at least 10 characters. This will require you to use the built-in `len()` function that we learned about before."
   ]
  },
  {
   "cell_type": "code",
   "execution_count": null,
   "metadata": {},
   "outputs": [],
   "source": [
    "# Your code here\n",
    "my_msg = \"the quick brown fox jumped over the lazy dog\"\n",
    "my_msg_length = len(my_msg)\n",
    "\n",
    "if my_msg_length > 10:\n",
    "  print(\"'\", my_msg, \"' has\", my_msg_length, \"characters.\")\n",
    "  print(\"This is more than 10 characters.\")\n",
    "\n",
    "print(\"Done.\")"
   ]
  },
  {
   "cell_type": "markdown",
   "metadata": {},
   "source": [
    "#### `elif` and `else`\n",
    "\n",
    "**if statements** are extremely powerful. They essentially let us change the instructions in our program given various inputs to it.\n",
    "\n",
    "However, two other keywords, **`elif`** and **`else`**, give us even more control over the flow of our program.\n",
    "\n",
    "Let's talk about `else` first. `else` essentially provides an alternative block of code to be run if an `if` statement is `False`. `else` does not require a logical expression of its own, rather it uses the same one in the preceding `if` statement.\n",
    "\n",
    "*   `else` : Used after an `if` statement. The block of code within `else` will be executed only if the condition in the if statement is `False`.\n",
    "\n",
    "\n"
   ]
  },
  {
   "cell_type": "code",
   "execution_count": null,
   "metadata": {},
   "outputs": [],
   "source": [
    "x = 12\n",
    "\n",
    "print(\"Your number is\", x)\n",
    "\n",
    "if x < 10:\n",
    "  print(\"The number is smaller than 10\")\n",
    "else:\n",
    "  print(\"The number is equal to or larger than 10\")\n",
    "\n",
    "print(\"Done.\")"
   ]
  },
  {
   "cell_type": "markdown",
   "metadata": {},
   "source": [
    "So here, the value of `x` is set to 12. Then we evaluate the expression `x < 10`. This returns `False`, so the code within the if statement is skipped. However, since the **next unindented line of code** after the if statment is `else:` (again note the required colon `:`), we instead execute the code within the **else statement**, again denoted by indentation.\n",
    "\n",
    "**`else` must always follow a block of code from an `if` statement!**. `else` will not work if it is before the `if`, because Python reads the file from top-to-bottom:"
   ]
  },
  {
   "cell_type": "code",
   "execution_count": null,
   "metadata": {},
   "outputs": [],
   "source": [
    "x = 12\n",
    "\n",
    "print(\"Your number is\", x)\n",
    "\n",
    "else:\n",
    "  print(\"The number is equal to or larger than 10\")\n",
    "if x < 10:\n",
    "  print(\"The number is smaller than 10\")\n",
    "\n",
    "\n",
    "print(\"Done.\")"
   ]
  },
  {
   "cell_type": "markdown",
   "metadata": {},
   "source": [
    "`else` will also not work on its own, because it has no logical expression to evaluate:"
   ]
  },
  {
   "cell_type": "code",
   "execution_count": null,
   "metadata": {},
   "outputs": [],
   "source": [
    "x = 12\n",
    "\n",
    "print(\"Your number is\", x)\n",
    "\n",
    "else:\n",
    "  print(\"The number is equal to or larger than 10\")\n",
    "\n",
    "print(\"Done.\")"
   ]
  },
  {
   "cell_type": "markdown",
   "metadata": {},
   "source": [
    "\n",
    "\n",
    "> **Exercise**: Debug the following code so the code block runs without error.\n",
    "\n"
   ]
  },
  {
   "cell_type": "code",
   "execution_count": null,
   "metadata": {},
   "outputs": [],
   "source": [
    "## Debug this code\n",
    "x = 12\n",
    "\n",
    "print(\"Your number is\", x)\n",
    "\n",
    "if x < 10:\n",
    "  print(\"The number is smaller than 10\")\n",
    "print(\"You will have to find a larger number.\")\n",
    "else:\n",
    "  print(\"The number is equal to or larger than 10\")\n",
    "\n",
    "print(\"Done.\")"
   ]
  },
  {
   "cell_type": "markdown",
   "metadata": {},
   "source": [
    "`elif` is also used in conjunction with `if`, but unlike `else`, elif allows us to test another condition. Like `if`, the keyword `elif` is typed followed by the logical statement to evaluate. If *that* statement evaluates to `True`, the code within the `elif` statement is executed. It is important to know that **`elif`'s logical expression will only be evaluated if the `if` statement was `False`**. This structure essentially allows us to test alternate conditions in sequence."
   ]
  },
  {
   "cell_type": "code",
   "execution_count": null,
   "metadata": {},
   "outputs": [],
   "source": [
    "x = 12\n",
    "\n",
    "print(\"Your number is\", x)\n",
    "\n",
    "if x < 10:\n",
    "  print(\"The number is smaller than 10\")\n",
    "elif x < 20:\n",
    "  print(\"The number is larger than 10 but smaller than 20\")\n",
    "else:\n",
    "  print(\"The number is equal to or larger than 20\")\n",
    "\n",
    "print(\"Done.\")"
   ]
  },
  {
   "cell_type": "markdown",
   "metadata": {},
   "source": [
    "In this case, with `x` being 12, the logical statement in the if statement is tested first. Since `x < 10` is `False`, now the logical statement in the `elif` statement is evaluated, skipping the code within the if statement (indented under it). Since `x < 20` is `True` in this case, the code enters the `elif` block and executes the instructions to print a message. Then, since **none of the above conditions were `False`, the `else` statement is ignored**.\n",
    "\n",
    "Again, note the colon `:` character which is required after any conditional statement.\n",
    "\n",
    "You can use any number of `elif` statements in a row (as long as they follow an initial `if` statement)."
   ]
  },
  {
   "cell_type": "code",
   "execution_count": null,
   "metadata": {},
   "outputs": [],
   "source": [
    "x = 16\n",
    "\n",
    "print(\"Your number is\", x)\n",
    "\n",
    "if x < 10:\n",
    "  print(\"The number is smaller than 10\")\n",
    "elif x < 15:\n",
    "  print(\"The number is larger than 10 but smaller than 15\")\n",
    "elif x < 20:\n",
    "  print(\"The number is larger than 15 but smaller than 20\")\n",
    "else:\n",
    "  print(\"The number is equal to or larger than 20\")\n",
    "\n",
    "print(\"Done.\")"
   ]
  },
  {
   "cell_type": "markdown",
   "metadata": {},
   "source": [
    "#### More complex conditional statements\n",
    "\n",
    "And remember, logical statements can be more complex using the `and` and `or` operators."
   ]
  },
  {
   "cell_type": "code",
   "execution_count": null,
   "metadata": {},
   "outputs": [],
   "source": [
    "temperature = 72\n",
    "weather = \"rainy\"\n",
    "\n",
    "print(\"The temperature is\", temperature, \"degrees Fahrenheit and the weather is\", weather + \".\")\n",
    "\n",
    "if temperature <= 32 and weather == \"snowy\":\n",
    "  print(\"Wear a heavy coat and snow boots.\")\n",
    "elif temperature > 32 and weather == \"rainy\":\n",
    "  print(\"Wear a raincoat and boots.\")\n",
    "else:\n",
    "  print(\"Your guess is as good as mine!\")"
   ]
  },
  {
   "cell_type": "markdown",
   "metadata": {},
   "source": [
    "Here, our very basic weather bot checks a couple of conditions based on the temperature and precipiation and gives clothing recommendations. Obviously, there are many more combinations of temperature and weather we could test.\n",
    "\n",
    "> **Exercise**: Add another `elif` statement that checks any other combination of conditions and gives a recommendation."
   ]
  },
  {
   "cell_type": "code",
   "execution_count": null,
   "metadata": {},
   "outputs": [],
   "source": [
    "temperature = 72\n",
    "weather = \"rainy\"\n",
    "\n",
    "print(\"The temperature is\", temperature, \"degrees Fahrenheit and the weather is\", weather + \".\")\n",
    "\n",
    "if temperature <= 32 and weather == \"snowy\":\n",
    "  print(\"Wear a heavy coat and snow boots.\")\n",
    "elif temperature > 32 and weather == \"rainy\":\n",
    "  print(\"Wear a raincoat and boots.\")\n",
    "\n",
    "# Add your elif here\n",
    "elif temperature > 60 and weather == \"sunny\":\n",
    "  print(\"Wear shorts and a t-shirt.\")\n",
    "\n",
    "\n",
    "else:\n",
    "  print(\"Your guess is as good as mine!\")"
   ]
  },
  {
   "cell_type": "markdown",
   "metadata": {},
   "source": [
    "> **Exercise**: initialize two integer variables called `x` and `y`, give them whatever values you like. Write a series of conditional statements that check the following:\n",
    "> 1. `x` and `y` are both even\n",
    "> 2. one is even and the other isn't\n",
    "> 3. `x` and `y` are both odd\n",
    ">\n",
    "> *Hint: If a number is even and you divide it by 2, what will the remainder be? Which operator returns the remainder of a division?*"
   ]
  },
  {
   "cell_type": "code",
   "execution_count": null,
   "metadata": {},
   "outputs": [],
   "source": [
    "# Your code here\n",
    "\n",
    "x = 5\n",
    "y = 8\n",
    "\n",
    "if x % 2 == 0 and y % 2 == 0:\n",
    "    print(\"x and y are both even\")\n",
    "elif (x % 2 == 0 and y % 2 != 0) or (x % 2 != 0 and y % 2 == 0):\n",
    "    print(\"one is even, one is odd\")\n",
    "elif x % 2 != 0 and y % 2 != 0:\n",
    "    print(\"x and y are both odd\")"
   ]
  },
  {
   "cell_type": "markdown",
   "metadata": {},
   "source": [
    "---\n",
    "\n",
    "Recall also the `in` operator for strings. You can use it to check if one string is contained within the other. It will return `True` if it is and `False` if it isn't:"
   ]
  },
  {
   "cell_type": "code",
   "execution_count": null,
   "metadata": {},
   "outputs": [],
   "source": [
    "my_string = \"1234\"\n",
    "print(\"2\" in my_string)"
   ]
  },
  {
   "cell_type": "markdown",
   "metadata": {},
   "source": [
    "Since this returns a boolean value (`True` or `False`), it can also be used when checking conditions with `if` or `elif`:"
   ]
  },
  {
   "cell_type": "code",
   "execution_count": null,
   "metadata": {},
   "outputs": [],
   "source": [
    "my_string = \"1234\"\n",
    "\n",
    "if \"2\" in my_string:\n",
    "  print(\"In the if statement.\")\n",
    "else:\n",
    "  print(\"In the else statement.\")\n",
    "\n",
    "print(\"Done.\")"
   ]
  },
  {
   "cell_type": "markdown",
   "metadata": {},
   "source": [
    "Likewise, the `not` operator can be used to negate a logical condition in `if` statements:"
   ]
  },
  {
   "cell_type": "code",
   "execution_count": null,
   "metadata": {},
   "outputs": [],
   "source": [
    "my_string = \"1234\"\n",
    "\n",
    "if not \"2\" in my_string:\n",
    "  print(\"In the if statement.\")\n",
    "else:\n",
    "  print(\"In the else statement.\")\n",
    "\n",
    "print(\"Done.\")"
   ]
  },
  {
   "cell_type": "markdown",
   "metadata": {},
   "source": [
    "> **Exercise:** Store a string (`my_string`) and store two other smaller strings (`my_substr1`, `my_substr2`). Then use a series of `if` and `elif` statements to:\n",
    "\n",
    "*   Print a message indicating if both sub-strings are contained within `my_string`\n",
    "*   Otherwise, print a message if only one of the sub-strings is contained within `my_string`. The message should indicate which sub-string was found, so you will need two `elif`s.\n",
    "*   Finally, use an `else` statement to print a different string if neither sub-string is contained within `my_string`"
   ]
  },
  {
   "cell_type": "code",
   "execution_count": null,
   "metadata": {},
   "outputs": [],
   "source": [
    "# Your code here: Pick your string and sub-strings\n",
    "my_string = \"everything changed when the fire nation attacked\"\n",
    "my_substr1 = \"fire nation\"\n",
    "my_substr2 = \"water tribe\"\n",
    "\n",
    "# Your code here: Fill in the conditional statements\n",
    "if my_substr1 in my_string and my_substr2 in my_string: # An if statement if both sub-strings are found\n",
    "  print(\"Both substrings found:\", my_substr1, \",\", my_substr2)\n",
    "elif my_substr1 in my_string and not my_substr2 in my_string: # An elif statement if only sub-string 1 is found\n",
    "  print(\"Substring 1 found:\", my_substr1)\n",
    "elif not my_substr1 in my_string and my_substr2 in my_string: # An elif statement if only sub-string 2 is found\n",
    "  print(\"Substring 2 found:\", my_substr2)\n",
    "else: # Else handles if neither sub-strings are found\n",
    "  print(\"Neither substring found.\")\n",
    "\n",
    "print(\"Done.\")"
   ]
  },
  {
   "cell_type": "markdown",
   "metadata": {},
   "source": [
    "#### Nested conditional statements\n",
    "\n",
    "Stringing `if`, `elif`, and `else` statements together is a great way to execute code under different conditions, especially if the conditions are independent of one another. However, if the evaluation of conditions depends on previous conditions, you would need to use a **nested conditional** statement.\n",
    "\n",
    "Here is a simple example of an un-nested `if` statement that programs typical car driving behavior.\n",
    "\n",
    "Nesting is useful when the outcome of one condition directly influences whether another condition should be checked. These can be thought of as a decision tree."
   ]
  },
  {
   "cell_type": "code",
   "execution_count": null,
   "metadata": {},
   "outputs": [],
   "source": [
    "light = \"green\"\n",
    "pedestrian = False\n",
    "\n",
    "if light == \"green\" and not pedestrian:\n",
    "    print(\"Go\")\n",
    "else:\n",
    "    print(\"Stop\")"
   ]
  },
  {
   "cell_type": "markdown",
   "metadata": {},
   "source": [
    "Here, the `if` statement evaluates both whether the light is green and whether a pedestrian is present. If either of those evaluated to `False`, the `if` statement wouldn't be executed and the `else` statement would. Here since `light == \"green\"` is `True` and `not pedestrian` (which in this case is the same as saying `not False`) is also `True`, so \"Go\" is printed out.\n",
    "\n",
    "However, we can write this code another, equivalent way with nesting."
   ]
  },
  {
   "cell_type": "code",
   "execution_count": null,
   "metadata": {},
   "outputs": [],
   "source": [
    "light = \"green\"\n",
    "pedestrian = False\n",
    "\n",
    "if light == \"green\":\n",
    "    if pedestrian == False:\n",
    "        print(\"Go\")\n",
    "    else:\n",
    "        print(\"Stop\")\n",
    "elif light == \"red\":\n",
    "    print(\"Stop\")"
   ]
  },
  {
   "cell_type": "markdown",
   "metadata": {},
   "source": [
    "This code has the same behavior as above. However, instead of a two part logical expression with `and`, we've broken that up into two separate `if`statements.\n",
    "\n",
    "First, `light == \"green\"` is evaluated. Since that is `True`, we execute the code within the `if` statement. In this case, that code is another `if` statement, and since `pedestrian == False` evaluates to `True`, \"Go\" is printed to the screen. If either were `False`, \"Stop\" would be printed.\n",
    "\n",
    "**In this way, you could think of nested if statements as implicit `and`s**.\n",
    "\n",
    "The question then is when is it best to use nested statements? In the above example, the non-nested solution is the one I would use because it requires fewer lines of code and is generally easier to understand for someone used to looking at logical statements.\n",
    "\n",
    "Nested if statements are best when the conditions are dependent on one another.\n",
    "\n",
    "Let's return to our terrible weatherbot. We can add a nested if statement to make it a little better."
   ]
  },
  {
   "cell_type": "code",
   "execution_count": null,
   "metadata": {},
   "outputs": [],
   "source": [
    "temperature = 72\n",
    "weather = \"rainy\"\n",
    "\n",
    "print(\"The temperature is\", temperature, \"degrees Fahrenheit and the weather is\", weather + \".\")\n",
    "\n",
    "if temperature <= 32:\n",
    "  if weather == \"snowy\":\n",
    "    print(\"Wear a heavy coat and snow boots.\")\n",
    "  else:\n",
    "    print(\"Wear a heavy coat and warm shoes.\")\n",
    "elif temperature > 32 and weather == \"rainy\":\n",
    "  print(\"Wear a raincoat and boots.\")\n",
    "elif temperature > 60 and weather == \"sunny\":\n",
    "  print(\"Wear shorts and a t-shirt.\")\n",
    "else:\n",
    "  print(\"Your guess is as good as mine!\")"
   ]
  },
  {
   "cell_type": "markdown",
   "metadata": {},
   "source": [
    "Now, the bot first checks if the temperature is below 32, and then checks whether it is precipitating or not before it gives a recommendation. This allows us to build a better decision tree and makes the bot a little more flexible.\n",
    "\n",
    "> **Exercise**: Improve the weatherbot further. Consider temperature ranges from below 32, 33-60, and 60-90 as well as weather conditions \"sunny\", \"cloudy\", and \"precipitating\". Make recommendations for each combination.\n",
    ">\n",
    "> **BONUS**: Add another variable, `windy`, which will be a boolean. For each temperature category, if it is rainy (precipitating when above freezing), also check if it is windy or not and recommend an umbrella accordingly (yes if not windy, no if windy)."
   ]
  },
  {
   "cell_type": "code",
   "execution_count": null,
   "metadata": {},
   "outputs": [],
   "source": [
    "# Your code here\n",
    "# Edit weatherbot to give more specific recommendations\n",
    "# Consider temperatures below 32, 33-60, and 60-90\n",
    "# Consider conditions \"sunny\", \"cloudy\", \"precipitating\"\n",
    "# Make weatherbot give recommendations for each temperature-weather combination\n",
    "# BONUS: Add a windy variable that is a boolean and give recommendations about\n",
    "#        whether or not to bring an umbrella when its raining (no if windy, yes if not)\n",
    "\n",
    "temperature = 72\n",
    "weather = \"precipitating\" # Possible conditions: \"sunny\", \"cloudy\", or \"precipitating\"\n",
    "windy = True\n",
    "\n",
    "print(\"The temperature is\", temperature, \"degrees Fahrenheit and the weather is\", weather + \".\")\n",
    "\n",
    "if temperature <= 32:\n",
    "  if weather == \"precipitating\":\n",
    "    print(\"Wear a heavy coat and snow boots.\")\n",
    "  else:\n",
    "    print(\"Wear a heavy coat and warm shoes.\")\n",
    "elif temperature > 32 and temperature <= 60:\n",
    "  if weather == \"precipitating\":\n",
    "    print(\"Wear a raincoat and boots.\")\n",
    "    if windy:\n",
    "      print(\"Leave your umbrella at home.\")\n",
    "    else:\n",
    "      print(\"And take an umbrella.\")\n",
    "  if weather == \"cloudy\":\n",
    "    print(\"Wear a heavy jacket and warm shoes.\")\n",
    "  else:\n",
    "    print(\"Wear a light jacket and light shoes.\")\n",
    "elif temperature > 60 and temperature <= 80:\n",
    "  if weather == \"precipitating\":\n",
    "    print(\"Wear a light raincoat and rain shoes.\")\n",
    "    if windy:\n",
    "      print(\"Leave your umbrella at home.\")\n",
    "    else:\n",
    "      print(\"And take an umbrella.\")\n",
    "  elif weather == \"cloudy\":\n",
    "    print(\"Wear a light jacket and light shoes.\")\n",
    "  else:\n",
    "    print(\"Wear shorts and a t-shirt.\")\n",
    "else:\n",
    "  print(\"Your guess is as good as mine!\")"
   ]
  },
  {
   "cell_type": "markdown",
   "metadata": {},
   "source": [
    "#### Review of conditionals\n",
    "\n",
    "By default, computer programs are read line-by-line from top to bottom by the computer with each instruction occuring one after the other. Here, with conditional statements, we've learned that we can tell the computer to only read some lines depending on the conditions of the program.\n",
    "\n",
    "We should know:\n",
    "\n",
    "1.   How `if`, `elif`, and `else` work to check logical statements and execute code accordingly. We know that `if` always comes first and doesn't necessarily need to be followed by any `elif` or `else` statements -- that depends on the problem you are trying to code around and is up to you to determine.\n",
    "2.   The proper syntax of these statements, which includes `<keyword> <logical expressions>:` where keyword is one of the three conditionals mentioned in point 1. Remember the colon `:`!\n",
    "3.   That conditional statements are followed by **blocks of code indicated by indentation**. Indentation is how Python knows what to execute given a conditional.\n",
    "4. Nested conditional statements are useful for dependent logical expressions and building decision trees."
   ]
  },
  {
   "cell_type": "markdown",
   "metadata": {},
   "source": [
    "### Loops\n",
    "\n",
    "Another important way to control the flow of a program is with **loops**. Loops allow us to automatically repeat certain blocks of code while changing some of the variables through each **iteration** of the loop. This *automatic repetition* is one of the main benefits of having computers complete tasks for us.\n",
    "\n",
    "We've already introduced loops without calling them out with our robot cookie recipe. Indeed, loops are so integral to computing it would be hard to come up with an example that doesn't introduce them.\n",
    "\n",
    "Recall our `Walk_anywhere()` function:\n",
    "\n",
    "```\n",
    "Walk_anywhere(*distance*, *angle*):\n",
    "  1. Turn body *angle* degrees\n",
    "  2. Repeat Step until the *distance* has been traversed\n",
    "```\n",
    "\n",
    "The word \"Repeat\" here is an implicit loop!\n",
    "\n",
    "Much like the conditional keywords (`if`/`else`), almost universally across programming languages there are two types of loops: `while` and `for` loops.\n",
    "\n",
    "Our `Walk_anywhere()` function seems like a perfect example to introduce the first of the two types of loops: the `while` loop."
   ]
  },
  {
   "cell_type": "markdown",
   "metadata": {},
   "source": [
    "#### `while` loops\n",
    "\n",
    "`while` loops work by first checking a logical statement. If the statement evaluates to `True`, the code inside of the `while` loop is executed. In this way, `while` loops are very similar to `if` statements. However, unlike `if` statements, the code within the `while` loop is **repeated until the logical statement is no longer `True`**.\n",
    "\n",
    "Here is a simple example:"
   ]
  },
  {
   "cell_type": "code",
   "execution_count": null,
   "metadata": {},
   "outputs": [],
   "source": [
    "x = 0\n",
    "\n",
    "while x < 5:\n",
    "  print(x)\n",
    "  x = x + 1\n",
    "\n",
    "print(\"Done.\")"
   ]
  },
  {
   "cell_type": "markdown",
   "metadata": {},
   "source": [
    "Let's break this down. First, we have an integer called `x` and initially set to be 0. Then the program encounters the `while` line followed by a logical statement, `x < 5`. Since `x` is 0, this evaluates to `True` and the code inside of the `while` loop is executed.\n",
    "\n",
    "Here is where things start to differ. First, we simply print the value of `x`, which is useful for demonstrating how the loop works.\n",
    "\n",
    "Then, we change the value of `x` by saying `x = x + 1`. This is a key technique in programming, especially for `while` loops. This update statement takes the previous value of `x` and adds 1 to it with the addition `+` operator. Then it assigns this value to be the new value of `x`. After this is done, since we're in a `while` loop, Python knows to go back up to the line with `while` and re-evaluate the logical statement. If it is still `True`, the code within the loop is executed again.\n",
    "\n",
    "A few key points related to logic and syntax:\n",
    "1.   Just like an `if` statement, the colon is required after the logical statement of a `while` line.\n",
    "2.   Also like conditionals, indentation is required syntactically and to ensure the code runs according to the programmer's goal. Everything under the `while` line that is indented is included in the **block** of code that will be run in the `while` loop.\n",
    "3.   Notice that the last iteration prints out 4. This is because of our logical statement, `x < 5`.\n",
    "\n",
    "> **Exercise**: Change the above loop to also print out the value of `x` when it is 5.\n",
    "\n",
    "\n",
    "\n"
   ]
  },
  {
   "cell_type": "code",
   "execution_count": null,
   "metadata": {},
   "outputs": [],
   "source": [
    "# Edit code here so the loop prints out 5 as well\n",
    "\n",
    "x = 0\n",
    "\n",
    "while x <= 5:\n",
    "  print(x)\n",
    "  x = x + 1\n",
    "\n",
    "print(\"Done.\")\n",
    "\n",
    "## OR ##\n",
    "\n",
    "x = 0\n",
    "\n",
    "while x < 5:\n",
    "  print(x)\n",
    "  x = x + 1\n",
    "\n",
    "print(x)\n",
    "print(\"Done.\")"
   ]
  },
  {
   "cell_type": "markdown",
   "metadata": {},
   "source": [
    "This can actually be done two ways in this case. We could change the logical statement itself, or we could simply print `x` after the loop. The second solution works because during the iteration when `x` is 4, the line `x = x + 1` is still executed, thus updating the value of `x` even though the loop will not be run for another iteration."
   ]
  },
  {
   "cell_type": "markdown",
   "metadata": {},
   "source": [
    "##### Update operators\n",
    "\n",
    "Updating a variable, e.g. `x = x + 1` is such a common occurrence in programming that many languages have implemented special **operators** to do this automatically and with less typing (programmers are efficient/lazy). Remember, an **operator** is just a special symbol or word that performs a specific task, like another recipe in our recipe book.\n",
    "\n",
    "We know that with the addition `+` operator, we can add two integers together, and we've just seen how this can be used in the `while` loop.\n",
    "\n",
    "The **in-place addition operator** or **addition update operator** looks like this in Python:\n",
    "\n",
    "```\n",
    "x += 1\n",
    "```\n",
    "\n",
    "When talking about this operator, we may say **plus-equals**. However, this is exactly equivalent to typing `x = x + 1`.\n",
    "\n",
    "> **Exercise**: Use the in-place addition operator `+=` in the loop that counts from 0 to 5."
   ]
  },
  {
   "cell_type": "code",
   "execution_count": null,
   "metadata": {},
   "outputs": [],
   "source": [
    "## Edit the loop to use the in-place addition operator\n",
    "\n",
    "x = 0\n",
    "\n",
    "while x < 5:\n",
    "  print(x)\n",
    "  x += 1\n",
    "\n",
    "print(\"Done.\")"
   ]
  },
  {
   "cell_type": "markdown",
   "metadata": {},
   "source": [
    "Each arithmetic operator has a corresponding in-place update operator:\n",
    "\n",
    "* `+=` : Addition\n",
    "* `-=` : Subtraction\n",
    "* `*=` : Multiplication\n",
    "* `/=` : Division (floating-point)\n",
    "* `//=` : Floor Division\n",
    "* `%=` : Modulus\n",
    "* `**=` : Exponentiation\n"
   ]
  },
  {
   "cell_type": "markdown",
   "metadata": {},
   "source": [
    "##### Infinite loops\n",
    "\n",
    "Be wary of infinite loops. Since `while` loops run as long as a logical statement is `True`, if your code is written such that the statement is never updated to conditions where it is `False`, the loop will run forever. This is called an **infinite loop**.\n",
    "\n",
    "Here is a common way this can occur. I've commented this code block out so it doesn't get run unintentionally. If you'd like to run it, uncomment the code by deleting the `#` symbols at the beginning of each line. But running it may crash your notebook."
   ]
  },
  {
   "cell_type": "markdown",
   "metadata": {},
   "source": [
    "```python\n",
    "x = 0\n",
    "\n",
    "while x <= 5:\n",
    "  print(x)\n",
    "x = x + 1\n",
    "\n",
    "print(\"Done.\")\n",
    "```"
   ]
  },
  {
   "cell_type": "markdown",
   "metadata": {},
   "source": [
    "> **Exercise**: Why does this result in an infinite loop? Take a moment to discuss."
   ]
  },
  {
   "cell_type": "markdown",
   "metadata": {},
   "source": [
    "##### `while` exercises\n",
    "\n",
    "> **Exercise**: Print out every number between 10 and 20 (inclusive).\n",
    ">\n",
    "> **BONUS**: Adjust your code to print only even numbers between 10 and 20 (inclusive)"
   ]
  },
  {
   "cell_type": "code",
   "execution_count": null,
   "metadata": {},
   "outputs": [],
   "source": [
    "# Your code here: print out every number between 10 and 20 (inclusive)\n",
    "# BONUS: Edit your code so it only prints the even numbers between 10 and 20 (inclusive)\n",
    "\n",
    "x = 10\n",
    "\n",
    "while x <= 20:\n",
    "  print(x)\n",
    "  #x = x + 1\n",
    "  x = x + 2 # Bonus solution\n",
    "print(\"Done.\")"
   ]
  },
  {
   "cell_type": "markdown",
   "metadata": {},
   "source": [
    "> **Exercise**: For a colony with an initial population size of 1, write a program that prints out the population size for 10 generations given that it doubles every generation.\n",
    ">\n",
    "> *Hint: You will need to initialize two variables and then use a `while` loop to update them.*"
   ]
  },
  {
   "cell_type": "code",
   "execution_count": null,
   "metadata": {},
   "outputs": [],
   "source": [
    "# Your code here: calculate the population size of a colony over 10 generations that\n",
    "# doubles in size every generation.\n",
    "\n",
    "generation = 1\n",
    "pop_size = 1\n",
    "\n",
    "while generation <= 10:\n",
    "  pop_size *= 2\n",
    "  print(\"Population size in generation\", generation, \"is:\", pop_size)\n",
    "  generation += 1;"
   ]
  },
  {
   "cell_type": "markdown",
   "metadata": {},
   "source": [
    "#### `for` loops\n",
    "\n",
    "`while` loops work by repeating a set of instructions (i.e. a block of code) until some condition is met.\n",
    "\n",
    "`for` loops, on the other hand, work by taking a group of inputs and performing a set of instructions on them one at a time. The key concept here is the **group of multiple inputs**, which leads into **data structures**, which we'll cover tomorrow in depth. Up until now, every piece of code we've run has used single pieces of data. `x = 5` is a single integer. `my_string = \"Hello world!\" is a single string. `for` loops work by taking **lists** of integers or strings, or lines in a file, and performing actions on each one individually.\n",
    "\n",
    "More on that tomorrow. For now, we can demonstrate `for` loops with **strings**. This is because **strings are essentially a group of characters**. This means we can use a `for` loop to iterate over each character individually. In other words, strings are **iterable**.\n",
    "\n",
    "Here is how a `for` loop would work to print out every character in a string:"
   ]
  },
  {
   "cell_type": "code",
   "execution_count": null,
   "metadata": {},
   "outputs": [],
   "source": [
    "my_string = \"Hello world!\"\n",
    "\n",
    "for current_character in my_string:\n",
    "  print(current_character)\n"
   ]
  },
  {
   "cell_type": "markdown",
   "metadata": {},
   "source": [
    "We start by defining a string. Then we encounter the `for` line where the first thing we see after `for` is a new variable, `current_character`. This is the **loop** or **update** variable. It's name, like other variables, is determind by the programmer, so we could have called it something else: `cur_char`, `current_letter`, `akjhgak`. It's purpose is to be used only within the loop, and its value is assigned based on the current iteration of the loop. Then, after that iteration it is **automatically updated** to be the next object in the string (or other **iterable**) that we're looping over. For a string, each object is an individual character, so the result of the loop is one character being printed per line of output.\n",
    "\n",
    "After the loop variable we see the keyword **`in`**. We talked about `in` before as the **inclusion operator**. Here, confusingly, it acts somewhat differently, simply as a keyword to denote that the loop variable on the left will take on values according to the iterable on the right.\n",
    "\n",
    "Then, we have our string, `my_string`, which is the thing over which we are iterating.\n",
    "\n",
    "Again, syntactically, the colon `:` and indenation are required.\n",
    "\n",
    "> **Exercise**: Are infinite loops possible when using `for`?\n",
    "\n",
    "> **Exercise**: Use a `for` loop to calculate the length of a string without using the `len()` function."
   ]
  },
  {
   "cell_type": "code",
   "execution_count": null,
   "metadata": {},
   "outputs": [],
   "source": [
    "# Your code here: replicate the functionality of the len() function\n",
    "\n",
    "my_string = \"Hello world!\"\n",
    "char_tally = 0\n",
    "\n",
    "for char in my_string:\n",
    "  char_tally += 1\n",
    "\n",
    "print(char_tally)\n",
    "print(len(my_string))"
   ]
  },
  {
   "cell_type": "markdown",
   "metadata": {},
   "source": [
    "We will cover `for` loops much more tomorrow when we learn about other **iterable** data structures."
   ]
  },
  {
   "cell_type": "markdown",
   "metadata": {},
   "source": [
    "### Review of loops\n",
    "\n",
    "We've learned about the two types of loops in Python `while` and `for`. Loops are used for the most important and useful computational purposes: automatic repetition of tasks.\n",
    "\n",
    "1.   `while` loops, like `if` statements run a block of code depending on a condition. However, they repeat that block of code until the condition is no longer met.\n",
    "2.   `for` loops repeat blocks of code for different inputs given in an **iterable**.\n",
    "3. In Python, indentation defines code blocks for loops (and conditional statements). If your line of code isn't indented at the same level of the loop, it will not be evaluated in the loop. Sometimes this can cause errors, and sometimes the program will run but with undesired output. It's up to the programmer to catch this.\n",
    "\n"
   ]
  },
  {
   "cell_type": "markdown",
   "metadata": {
    "id": "S-txbzeW9vn7"
   },
   "source": [
    "## Iterables\n",
    "\n",
    "We left off yesterday talking about `for` loops. `for` loops work by performing a set of instructions (block of code) on every item in a **sequence of items**. We talked about looping over the characters in a string:"
   ]
  },
  {
   "cell_type": "code",
   "execution_count": null,
   "metadata": {
    "colab": {
     "base_uri": "https://localhost:8080/"
    },
    "id": "v9cS9HcqZJkQ",
    "outputId": "5b47f7fa-5783-46fb-8356-742bd6c43d9a"
   },
   "outputs": [
    {
     "name": "stdout",
     "output_type": "stream",
     "text": [
      "H\n",
      "e\n",
      "l\n",
      "l\n",
      "o\n",
      "!\n"
     ]
    }
   ],
   "source": [
    "my_string = \"Hello!\"\n",
    "\n",
    "for current_character in my_string:\n",
    "  print(current_character)"
   ]
  },
  {
   "cell_type": "markdown",
   "metadata": {
    "id": "q2C-ESRBa0p8"
   },
   "source": [
    "This works because, in Python, strings are **iterable** objects. Iterables are those objects that can be broken up into individual **elements**, and can subsequently be looped over using `for`. In this case, for the string, each **character** is an individual **element**.\n",
    "\n",
    "Integers, floating point numbers, and boolean `True` and `False` are **not iterable objects**. They are not made up of a sequence or collection of elements, but rather are single pieces of information.\n",
    "\n",
    "This is explained rather clearly if you try to loop over an integer:"
   ]
  },
  {
   "cell_type": "code",
   "execution_count": null,
   "metadata": {
    "colab": {
     "base_uri": "https://localhost:8080/",
     "height": 180
    },
    "id": "jsNBHWS0cDTL",
    "outputId": "c346016e-1f00-4eaa-b1ba-2775655cf0f3"
   },
   "outputs": [
    {
     "ename": "TypeError",
     "evalue": "'int' object is not iterable",
     "output_type": "error",
     "traceback": [
      "\u001b[0;31m---------------------------------------------------------------------------\u001b[0m",
      "\u001b[0;31mTypeError\u001b[0m                                 Traceback (most recent call last)",
      "\u001b[0;32m<ipython-input-2-50b9ec0fcae9>\u001b[0m in \u001b[0;36m<cell line: 1>\u001b[0;34m()\u001b[0m\n\u001b[0;32m----> 1\u001b[0;31m \u001b[0;32mfor\u001b[0m \u001b[0mx\u001b[0m \u001b[0;32min\u001b[0m \u001b[0;36m1048\u001b[0m\u001b[0;34m:\u001b[0m\u001b[0;34m\u001b[0m\u001b[0;34m\u001b[0m\u001b[0m\n\u001b[0m\u001b[1;32m      2\u001b[0m   \u001b[0mprint\u001b[0m\u001b[0;34m(\u001b[0m\u001b[0mx\u001b[0m\u001b[0;34m)\u001b[0m\u001b[0;34m\u001b[0m\u001b[0;34m\u001b[0m\u001b[0m\n\u001b[1;32m      3\u001b[0m \u001b[0mprint\u001b[0m\u001b[0;34m(\u001b[0m\u001b[0;34m\"Done.\"\u001b[0m\u001b[0;34m)\u001b[0m\u001b[0;34m\u001b[0m\u001b[0;34m\u001b[0m\u001b[0m\n",
      "\u001b[0;31mTypeError\u001b[0m: 'int' object is not iterable"
     ]
    }
   ],
   "source": [
    "for x in 1048:\n",
    "  print(x)\n",
    "print(\"Done.\")"
   ]
  },
  {
   "cell_type": "markdown",
   "metadata": {
    "id": "yi-fqE14cRlP"
   },
   "source": [
    "### Indexing strings\n",
    "\n",
    "Because strings are **iterable**, meaning they are made up of smaller **elements**, it is possible to access these elements one at a time. This is called **indexing**.\n",
    "\n",
    "In Python, each character of a string is assigned a number based on its location within the string:\n",
    "\n",
    "```\n",
    "HELLO\n",
    "|||||\n",
    "01234\n",
    "```\n",
    "\n",
    "Notice that the first number is 0, not 1. Python in general uses **0-based indexing**, simply meaning that counts start from 0.\n",
    "\n",
    "Syntactically, individual characters within a string are accessed within a program by giving the string (possibly raw, but usually as a variable name) followed by square brackets `[]` with the index contained in them:"
   ]
  },
  {
   "cell_type": "code",
   "execution_count": null,
   "metadata": {
    "colab": {
     "base_uri": "https://localhost:8080/"
    },
    "id": "PVbEcCPrdTk0",
    "outputId": "8c229a8d-f4d9-41af-b94f-8b364aed8955"
   },
   "outputs": [
    {
     "name": "stdout",
     "output_type": "stream",
     "text": [
      "l\n",
      "---\n",
      "h\n"
     ]
    }
   ],
   "source": [
    "my_string = \"hello world!\"\n",
    "print(my_string[2]) # Prints the third character because of 0-based indexing!\n",
    "\n",
    "print(\"---\")\n",
    "\n",
    "first_char = my_string[0]\n",
    "print(first_char)"
   ]
  },
  {
   "cell_type": "markdown",
   "metadata": {
    "id": "VQEigpvdiDkL"
   },
   "source": [
    "Strings can also be indexed in reverse by providing a negative index:"
   ]
  },
  {
   "cell_type": "code",
   "execution_count": null,
   "metadata": {
    "colab": {
     "base_uri": "https://localhost:8080/"
    },
    "id": "cR5sNGIIiH0c",
    "outputId": "0eae7688-d44e-4a50-91b1-11cda414f417"
   },
   "outputs": [
    {
     "name": "stdout",
     "output_type": "stream",
     "text": [
      "d\n"
     ]
    }
   ],
   "source": [
    "my_string = \"hello world!\"\n",
    "print(my_string[-2])"
   ]
  },
  {
   "cell_type": "markdown",
   "metadata": {
    "id": "yNeQ7XMBeAOc"
   },
   "source": [
    "Since there is no -0, reverse string indexing starts from -1.\n",
    "\n",
    "Ok, well how does this relate to `for` loops? Well, perhaps you have a string and you want to run some code for each letter in the string, but instead of the character itself you were interested in the **index of that character**.\n",
    "\n",
    "Using a couple of functions, we can **loop over a string by index**:"
   ]
  },
  {
   "cell_type": "code",
   "execution_count": null,
   "metadata": {
    "colab": {
     "base_uri": "https://localhost:8080/"
    },
    "id": "QPI9r4HmeaHs",
    "outputId": "4d7d6e76-81bf-49ea-96f3-fc37c3274477"
   },
   "outputs": [
    {
     "name": "stdout",
     "output_type": "stream",
     "text": [
      "0 h\n",
      "1 e\n",
      "2 l\n",
      "3 l\n",
      "4 o\n",
      "5  \n",
      "6 w\n",
      "7 o\n",
      "8 r\n",
      "9 l\n",
      "10 d\n",
      "11 !\n"
     ]
    }
   ],
   "source": [
    "my_string = \"hello world!\"\n",
    "my_string_length = len(my_string)\n",
    "\n",
    "for cur_index in range(my_string_length):\n",
    "  print(cur_index, my_string[cur_index])"
   ]
  },
  {
   "cell_type": "markdown",
   "metadata": {
    "id": "vpGbXdZfe7M3"
   },
   "source": [
    "We learned about the `len()` function yesterday. It takes as input a string argument and returns the number of characters in that string.\n",
    "\n",
    "`range()` is another function that returns **an object containing the indices**. The `for` loop directly takes that object and loops over it, assigning `cur_index` the value of the index for the current iteration of the loop. Inside the loop, we've printed out both the index and the corresponding character in the string using string indexing with `[]`.\n",
    "\n",
    "> **Exercise**: Store a string in a variable. Print out the characters of the string in reverse. No palindromes allowed! This will require you to use a `for` loop and reverse indexing.\n",
    ">\n",
    "> **BONUS**: Instead of printing each character out in reverse one at a time, print the whole string in reverse at once. *Hint: remember the string concatenation operator `+`*."
   ]
  },
  {
   "cell_type": "code",
   "execution_count": null,
   "metadata": {
    "colab": {
     "base_uri": "https://localhost:8080/"
    },
    "id": "C8h4uiETjEV0",
    "outputId": "7d7096d6-a361-4136-bf8a-6b639f8f7831"
   },
   "outputs": [
    {
     "name": "stdout",
     "output_type": "stream",
     "text": [
      "d\n",
      "e\n",
      "s\n",
      "s\n",
      "e\n",
      "r\n",
      "t\n",
      "s\n",
      "desserts\n",
      "desserts\n"
     ]
    }
   ],
   "source": [
    "# Your code here: reverse a string\n",
    "\n",
    "my_string = \"stressed\"\n",
    "my_rev_string = \"\" # For bonus\n",
    "\n",
    "for str_ind in range(len(my_string)):\n",
    "  rev_ind = str_ind + 1\n",
    "  rev_char = my_string[-rev_ind]\n",
    "  my_rev_string += rev_char # For bonus\n",
    "  print(rev_char)\n",
    "\n",
    "print(my_rev_string) # For bonus\n",
    "\n",
    "## Alternate bonus solution without indexing\n",
    "\n",
    "my_rev_string = \"\"\n",
    "for char in my_string:\n",
    "  my_rev_string = char + my_rev_string\n",
    "print(my_rev_string)\n"
   ]
  },
  {
   "cell_type": "markdown",
   "metadata": {
    "id": "jmVtYL1zkoYx"
   },
   "source": [
    "### Slicing strings\n",
    "\n",
    "In addition to indexing to retrieve one character from a string at a time, you can also **slice** strings to get chunks of them.\n",
    "\n",
    "Slicing is again done by giving the name of the string followed by square brackets `[]`. But this time, instead of a single number in the brackets, you provide two numbers, a start index and an end index, separated by a colon `:`.\n",
    "\n",
    "For example, to get the 2nd to 5th characters from a string:"
   ]
  },
  {
   "cell_type": "code",
   "execution_count": null,
   "metadata": {
    "colab": {
     "base_uri": "https://localhost:8080/"
    },
    "id": "CT2T5UerlmEx",
    "outputId": "9c541d61-2c70-4871-be91-0bef0d1c1d9f"
   },
   "outputs": [
    {
     "name": "stdout",
     "output_type": "stream",
     "text": [
      "ello_\n"
     ]
    }
   ],
   "source": [
    "my_string = \"hello_world!\"\n",
    "print(my_string[1:6])"
   ]
  },
  {
   "cell_type": "markdown",
   "metadata": {
    "id": "Mbg766nFl9Z1"
   },
   "source": [
    "Remember, Python strings a **0-based indexed**, so to get the second character, you give the index `1`, since counting starts at 0.\n",
    "\n",
    "Also, the second index in a slice (the one after `:`) is **non-inclusive**. This means that even though we've given `6`, it does not retrieve the 7th character (6th index). Think of it as saying, \"Give me this string from this index *up to* this index.\"\n",
    "\n",
    "There are some other shortcuts:\n",
    "\n",
    "*   If the index before the colon `:` is excluded, it will start at the beginning of the string.\n",
    "*   If the index after the colon `:` is excluded, it will return all characters from the start index to the end of the string.\n",
    "*   A second colon `:` and number N can be added. This indicates to get every Nth character from the first index to the second.\n"
   ]
  },
  {
   "cell_type": "code",
   "execution_count": null,
   "metadata": {
    "colab": {
     "base_uri": "https://localhost:8080/"
    },
    "id": "m3dvz27Em9Sh",
    "outputId": "33bec676-21ab-45b0-9275-e1700f937bd9"
   },
   "outputs": [
    {
     "name": "stdout",
     "output_type": "stream",
     "text": [
      "hello_\n",
      "lo_world!\n",
      "el_\n",
      "wol\n"
     ]
    }
   ],
   "source": [
    "print(my_string[:6])     # Gets every character from the beginning up to but not including the 6th character\n",
    "print(my_string[3:])     # Gets every character from the 4th character to the end of the string\n",
    "print(my_string[1:6:2])  # Gets every second (every other) character from the 2nd to 5th character"
   ]
  },
  {
   "cell_type": "markdown",
   "metadata": {
    "id": "RDF3P8pBn8_8"
   },
   "source": [
    "String slicing also works in reverse with negative indices:"
   ]
  },
  {
   "cell_type": "code",
   "execution_count": null,
   "metadata": {
    "colab": {
     "base_uri": "https://localhost:8080/"
    },
    "id": "hIUog0pBnkZA",
    "outputId": "25f3a99d-fc8f-462a-91af-dce053156679"
   },
   "outputs": [
    {
     "name": "stdout",
     "output_type": "stream",
     "text": [
      "hello_wor\n",
      "llo_wo\n"
     ]
    }
   ],
   "source": [
    "print(my_string[:-3])   # Gets every character from the beginning to the third from last\n",
    "print(my_string[2:-4])  # Gets every character from the 3rd to the 4th from last"
   ]
  },
  {
   "cell_type": "markdown",
   "metadata": {
    "id": "pA5yBPgCn6Tu"
   },
   "source": [
    "Regardless of the presence of negative indices, the characters are retrieved left to right. This means if you give it non-sensical ranges where the first number is larger than the second number, it will return nothing. The exception is if you give it a negative increment after the second colon:"
   ]
  },
  {
   "cell_type": "code",
   "execution_count": null,
   "metadata": {
    "colab": {
     "base_uri": "https://localhost:8080/"
    },
    "id": "KdlKrnoXoBgL",
    "outputId": "3582d69e-edb6-4212-fee9-ecd483f55b26"
   },
   "outputs": [
    {
     "name": "stdout",
     "output_type": "stream",
     "text": [
      "\n",
      "\n",
      "wol\n",
      "Done.\n"
     ]
    }
   ],
   "source": [
    "print(my_string[2:1])    # Fails because the starting index is larger than the ending index\n",
    "print(my_string[-3:-6])  # Fails for the same reason\n",
    "print(my_string[6:1:-2]) # Gets every other charcater in reverse from the 7th to the 2nd\n",
    "print(\"Done.\")"
   ]
  },
  {
   "cell_type": "markdown",
   "metadata": {
    "id": "sEmQvgVYoePM"
   },
   "source": [
    "Let's break down the last one. We start at index 6, which is the 7th character `w`. We proceed at an increment of -2, meaning we move left. We step over `_`, retrieve `o`, step over the second `l`, retrieve the first `l`, and step over the `e`. `e` is the character at the first index so we stop.\n",
    "\n",
    "> **Exercise**: Reverse the string you used from your previous exercise using slicing only. This is tricky, *but should only take one line of code to do using slicing* (and then possibly another line to print the result). Remember the shortcuts for the beginning and end of strings and the negative steps to go backwards when slicing."
   ]
  },
  {
   "cell_type": "code",
   "execution_count": null,
   "metadata": {
    "colab": {
     "base_uri": "https://localhost:8080/"
    },
    "id": "_G2qkdSmqURm",
    "outputId": "21bdecfd-d33d-4220-c39c-acabfea0b6de"
   },
   "outputs": [
    {
     "name": "stdout",
     "output_type": "stream",
     "text": [
      "desserts\n"
     ]
    }
   ],
   "source": [
    "# Your code here: reverse a string with slicing only\n",
    "my_string = \"stressed\"\n",
    "print(my_string[::-1])"
   ]
  },
  {
   "cell_type": "markdown",
   "metadata": {
    "id": "P03TGT3Hq8h8"
   },
   "source": [
    "### Strings are immutable\n",
    "\n",
    "An important note. Though we can access individual characters within a string with **indexing**, we cannot change individual parts of a string. In other words, strings are **immutable**."
   ]
  },
  {
   "cell_type": "code",
   "execution_count": null,
   "metadata": {
    "colab": {
     "base_uri": "https://localhost:8080/",
     "height": 198
    },
    "id": "WwxTc3srrJHl",
    "outputId": "4b858da8-40c4-46cb-a703-96cf04c08850"
   },
   "outputs": [
    {
     "name": "stdout",
     "output_type": "stream",
     "text": [
      "e\n"
     ]
    },
    {
     "ename": "TypeError",
     "evalue": "'str' object does not support item assignment",
     "output_type": "error",
     "traceback": [
      "\u001b[0;31m---------------------------------------------------------------------------\u001b[0m",
      "\u001b[0;31mTypeError\u001b[0m                                 Traceback (most recent call last)",
      "\u001b[0;32m<ipython-input-38-5a964ad8245f>\u001b[0m in \u001b[0;36m<cell line: 3>\u001b[0;34m()\u001b[0m\n\u001b[1;32m      1\u001b[0m \u001b[0mmy_string\u001b[0m \u001b[0;34m=\u001b[0m \u001b[0;34m\"hello_world!\"\u001b[0m\u001b[0;34m\u001b[0m\u001b[0;34m\u001b[0m\u001b[0m\n\u001b[1;32m      2\u001b[0m \u001b[0mprint\u001b[0m\u001b[0;34m(\u001b[0m\u001b[0mmy_string\u001b[0m\u001b[0;34m[\u001b[0m\u001b[0;36m1\u001b[0m\u001b[0;34m]\u001b[0m\u001b[0;34m)\u001b[0m\u001b[0;34m\u001b[0m\u001b[0;34m\u001b[0m\u001b[0m\n\u001b[0;32m----> 3\u001b[0;31m \u001b[0mmy_string\u001b[0m\u001b[0;34m[\u001b[0m\u001b[0;36m1\u001b[0m\u001b[0;34m]\u001b[0m \u001b[0;34m=\u001b[0m \u001b[0;34m\"a\"\u001b[0m \u001b[0;31m# This is not permitted because strings are immutable!\u001b[0m\u001b[0;34m\u001b[0m\u001b[0;34m\u001b[0m\u001b[0m\n\u001b[0m",
      "\u001b[0;31mTypeError\u001b[0m: 'str' object does not support item assignment"
     ]
    }
   ],
   "source": [
    "my_string = \"hello_world!\"\n",
    "print(my_string[1])\n",
    "my_string[1] = \"a\" # This is not permitted because strings are immutable!"
   ]
  },
  {
   "cell_type": "markdown",
   "metadata": {
    "id": "n9pWW6yUrcRB"
   },
   "source": [
    "So, strings are **iterable** but **immutable**."
   ]
  },
  {
   "cell_type": "markdown",
   "metadata": {
    "id": "_kMv4mbKqtTi"
   },
   "source": [
    "### Lists\n",
    "\n",
    "Up to now, we've dealt with individual data types, **integers** and **strings**. However, to really scale up the power of our programming in order to manipulate and analyize a lot of data, we'll want to group lots of strings and/or integers together and perform operations on them in a loop or all at once. For this, programming languages typically have higher-order **data structures** in which individual instances of other data types can be stored, organized, and accessed.\n",
    "\n",
    "For Python, the most adaptable data structure is the **list**. Lists are exactly what they sound like they are: lists of other objects, grouped together in a single object."
   ]
  },
  {
   "cell_type": "markdown",
   "metadata": {},
   "source": [
    "#### List properties\n",
    "\n",
    "*   Lists are **iterable**, meaning we can use a `for` loop to go over each individual item one at a time and perform computations.\n",
    "*   Lists are **indexed** which means, like strings, individual elements of a list can be accessed by an integer value based on their ordering in the list. Lists can also be **sliced** by index like strings.\n",
    "*   Lists are **mutable**, unlike strings, meaning that they can be changed by index on the fly. But be careful doing this while looping over the list! This can have unexpected consequences.\n",
    "*   Lists can contain mixed data types.\n",
    "\n",
    "Lists are defined, confusingly, also with square brackets `[]`, and individual items in the list are separated by a comma `,`."
   ]
  },
  {
   "cell_type": "code",
   "execution_count": null,
   "metadata": {
    "colab": {
     "base_uri": "https://localhost:8080/"
    },
    "id": "dblcOu-KtGyn",
    "outputId": "ce04a8d3-a65b-4fd6-cb01-aa417f9fc680"
   },
   "outputs": [
    {
     "name": "stdout",
     "output_type": "stream",
     "text": [
      "[1, 2, 3, 4, 5]\n",
      "2\n",
      "---\n",
      "world\n",
      "['adshgadk', 985, 'world', -12, 'hello']\n"
     ]
    }
   ],
   "source": [
    "my_list = [1, 2, 3, 4, 5]\n",
    "print(my_list)\n",
    "print(my_list[1])\n",
    "\n",
    "print(\"---\")\n",
    "\n",
    "my_list2 = [\"hello\", -12, \"world\", 985, \"adshgadk\"]\n",
    "print(my_list2[2])\n",
    "print(my_list2[::-1])"
   ]
  },
  {
   "cell_type": "markdown",
   "metadata": {
    "id": "FhF7TGdLuL1y"
   },
   "source": [
    "> **Exercise**: Use a `for` loop to iterate over a list of numbers. At the end of the loop print out the largest number in the list (`list_max`), the smallest number in the list (`list_min`), the sum of all the numbers in the list (`list_sum`), and the average of the list (`list_avg`). Do not use any functions to achieve this. Some of these will require conditional checks (`if` statements) to achieve!\n",
    ">\n",
    "> *Consider: What will the starting values of these variables need to be?*\n",
    ">\n",
    "> *Hint: Calculating the average will also require you to count the number of items in the list (`list_tally`).*\n",
    ">\n",
    "> *Hint: Break this down into smaller problems. First do one thing (like the sum or the tally), then add code for the others one at a time.*"
   ]
  },
  {
   "cell_type": "code",
   "execution_count": null,
   "metadata": {
    "colab": {
     "base_uri": "https://localhost:8080/"
    },
    "id": "QgcWA6fEuh-c",
    "outputId": "895236f0-fb8c-4a27-e5e9-9321fffcfa03"
   },
   "outputs": [
    {
     "name": "stdout",
     "output_type": "stream",
     "text": [
      "There are 5 numbers in the list.\n",
      "The largest number is: 5\n",
      "The smallest number is: 1\n",
      "The sum of all the numbers is: 15\n",
      "The average of the numbers is: 3.0\n"
     ]
    }
   ],
   "source": [
    "my_list = [1, 2, 3, 4, 5] # Change to any list of numbers you like\n",
    "\n",
    "# Your code here\n",
    "\n",
    "# Initialize these variables with sensible values\n",
    "list_tally = 0\n",
    "list_sum = 0\n",
    "list_max = 0\n",
    "list_min = 9999\n",
    "\n",
    "for num in my_list:\n",
    "  # Add code for the for loop here\n",
    "  list_tally += 1\n",
    "  list_sum += num\n",
    "\n",
    "  if num > list_max:\n",
    "    list_max = num\n",
    "\n",
    "  if num < list_min:\n",
    "    list_min = num\n",
    "\n",
    "list_avg = list_sum / list_tally\n",
    "\n",
    "print(\"There are\", list_tally, \"numbers in the list.\")\n",
    "print(\"The largest number is:\", list_max)\n",
    "print(\"The smallest number is:\", list_min)\n",
    "print(\"The sum of all the numbers is:\", list_sum)\n",
    "print(\"The average of the numbers is:\", list_avg)"
   ]
  },
  {
   "cell_type": "markdown",
   "metadata": {
    "id": "-ew1eEqewQe_"
   },
   "source": [
    "#### List functions\n",
    "\n",
    "Just like there are functions and operators for integers and strings, there are also functions and operators for lists.\n",
    "\n",
    "In fact..."
   ]
  },
  {
   "cell_type": "code",
   "execution_count": null,
   "metadata": {
    "colab": {
     "base_uri": "https://localhost:8080/"
    },
    "id": "zLBZ21WCwZTV",
    "outputId": "94d843fd-7400-41db-bc97-4451967fcbe4"
   },
   "outputs": [
    {
     "name": "stdout",
     "output_type": "stream",
     "text": [
      "5\n",
      "5\n",
      "1\n",
      "15\n"
     ]
    }
   ],
   "source": [
    "print(len(my_list))\n",
    "print(max(my_list))\n",
    "print(min(my_list))\n",
    "print(sum(my_list))"
   ]
  },
  {
   "cell_type": "markdown",
   "metadata": {
    "id": "8o5MfkKVwmXp"
   },
   "source": [
    "Sorry! But you can see here why functions are so nice. We've compacted all that code down to four lines.\n",
    "\n",
    "Notice that there is no built-in mean() function. There are external libraries that have mean() functions, but more on those later.\n",
    "\n",
    "> **Exercise**: Calculate the average of your list using the functions provided above. This should only require one line of code (and potentially a `print()` statement)."
   ]
  },
  {
   "cell_type": "code",
   "execution_count": null,
   "metadata": {
    "colab": {
     "base_uri": "https://localhost:8080/"
    },
    "id": "pQ-A8O5Ww8_5",
    "outputId": "f3104519-09af-4175-a5a6-b8d8ae4e5f39"
   },
   "outputs": [
    {
     "name": "stdout",
     "output_type": "stream",
     "text": [
      "3.0\n"
     ]
    }
   ],
   "source": [
    "# Your code here\n",
    "print(sum(my_list) / len(my_list))"
   ]
  },
  {
   "cell_type": "markdown",
   "metadata": {
    "id": "2xwz34gFxJv0"
   },
   "source": [
    "Also, recall lists can contain **mixed data types**. Again, remembering your data types is important because some functions may expect a list with only integers, or a list with only strings."
   ]
  },
  {
   "cell_type": "code",
   "execution_count": null,
   "metadata": {
    "colab": {
     "base_uri": "https://localhost:8080/",
     "height": 162
    },
    "id": "Fej3RaefxSJu",
    "outputId": "658379b7-6b8e-4a01-a62c-2b350639d614"
   },
   "outputs": [
    {
     "ename": "TypeError",
     "evalue": "unsupported operand type(s) for +: 'int' and 'str'",
     "output_type": "error",
     "traceback": [
      "\u001b[0;31m---------------------------------------------------------------------------\u001b[0m",
      "\u001b[0;31mTypeError\u001b[0m                                 Traceback (most recent call last)",
      "\u001b[0;32m<ipython-input-48-827a549aa0a9>\u001b[0m in \u001b[0;36m<cell line: 2>\u001b[0;34m()\u001b[0m\n\u001b[1;32m      1\u001b[0m \u001b[0mmy_mixed_list\u001b[0m \u001b[0;34m=\u001b[0m \u001b[0;34m[\u001b[0m\u001b[0;36m1\u001b[0m\u001b[0;34m,\u001b[0m \u001b[0;36m2\u001b[0m\u001b[0;34m,\u001b[0m \u001b[0;34m\"hello\"\u001b[0m\u001b[0;34m,\u001b[0m \u001b[0;36m3\u001b[0m\u001b[0;34m,\u001b[0m \u001b[0;36m4\u001b[0m\u001b[0;34m,\u001b[0m \u001b[0;36m5\u001b[0m\u001b[0;34m]\u001b[0m\u001b[0;34m\u001b[0m\u001b[0;34m\u001b[0m\u001b[0m\n\u001b[0;32m----> 2\u001b[0;31m \u001b[0mprint\u001b[0m\u001b[0;34m(\u001b[0m\u001b[0msum\u001b[0m\u001b[0;34m(\u001b[0m\u001b[0mmy_mixed_list\u001b[0m\u001b[0;34m)\u001b[0m\u001b[0;34m)\u001b[0m\u001b[0;34m\u001b[0m\u001b[0;34m\u001b[0m\u001b[0m\n\u001b[0m",
      "\u001b[0;31mTypeError\u001b[0m: unsupported operand type(s) for +: 'int' and 'str'"
     ]
    }
   ],
   "source": [
    "my_mixed_list = [1, 2, \"hello\", 3, 4, 5]\n",
    "print(sum(my_mixed_list))"
   ]
  },
  {
   "cell_type": "markdown",
   "metadata": {
    "id": "Y_Rc7f8av0CE"
   },
   "source": [
    "Internally, `sum()` is probably doing exactly what we did above with the `for` loop, adding each number in the list to a variable with `+=`. However, when it comes to the third element of the list, `\"hello\"`, it is trying to add a string to an integer and we run into a data type error for the `+` operator."
   ]
  },
  {
   "cell_type": "markdown",
   "metadata": {
    "id": "X6Puw_B5_5Pf"
   },
   "source": [
    "#### List inclusion with `in`\n",
    "\n",
    "As with **strings** and other **iterables**, the `in` operator works on lists:"
   ]
  },
  {
   "cell_type": "code",
   "execution_count": null,
   "metadata": {
    "colab": {
     "base_uri": "https://localhost:8080/"
    },
    "id": "-wiKaSKKwkLC",
    "outputId": "7291ed89-1a81-42d5-e7b0-a1f8bf0b3dac"
   },
   "outputs": [
    {
     "name": "stdout",
     "output_type": "stream",
     "text": [
      "True\n"
     ]
    }
   ],
   "source": [
    "my_string_list = [\"with\", \"cat\", \"like\", \"tread\"]\n",
    "print(\"cat\" in my_string_list)"
   ]
  },
  {
   "cell_type": "markdown",
   "metadata": {
    "id": "Jse8FU3DxIRO"
   },
   "source": [
    "> **Exercise**: Use if statements to find Waldo.\n",
    ">\n",
    "> **BONUS**: If Waldo isn't in any of these places, print out a message saying so. *Hint: use a boolean to flag when Waldo is found*"
   ]
  },
  {
   "cell_type": "code",
   "execution_count": null,
   "metadata": {
    "colab": {
     "base_uri": "https://localhost:8080/"
    },
    "id": "nTDyMeOO9ytm",
    "outputId": "b2fbfb99-7659-46b1-cef0-85b4c893c248"
   },
   "outputs": [
    {
     "name": "stdout",
     "output_type": "stream",
     "text": [
      "Waldo is at the office!\n"
     ]
    }
   ],
   "source": [
    "beach_tourists=[\"Alice\",\"Mason\",\"Emma\",\"Liam\",\"Olivia\",\"Walden\",\"Ethan\",\"Sophia\",\"Oliver\",\"Ava\",\"Mia\",\"William\",\"Logan\",\"Lucas\",\"Charlotte\",\"Amelia\",\"Harper\",\"James\"]\n",
    "music_festival_attendees=[\"Jackson\",\"Sophia\",\"Aiden\",\"Isabella\",\"Lucas\",\"Noah\",\"Levi\",\"Benjamin\",\"Elijah\",\"Mason\",\"Elena\",\"Eliana\",\"Mateo\",\"Jack\",\"Luna\",\"Eleanor\",\"Ezra\",\"Willow\",\"Henry\"]\n",
    "history_class_students=[\"Emily\",\"James\",\"Wally\",\"Ella\",\"Jacob\",\"Amelia\",\"Michael\",\"Evelyn\",\"Alexander\",\"Avery\",\"Mila\",\"Aria\",\"Ella\",\"Layla\",\"Scarlett\",\"Grace\",\"Wyatt\",\"Ellie\",\"Paisley\",\"Daniel\"]\n",
    "office_building_employees=[\"Walter\",\"Charlotte\",\"Alexander\",\"Scarlett\",\"Michael\",\"Victoria\",\"Samuel\",\"Aubrey\",\"Olive\",\"Nathan\",\"Camila\",\"Gabriel\",\"Isaac\",\"Waldo\",\"Savannah\",\"Gabriella\",\"Nora\",\"Chloe\",\"Zoe\",\"Stella\",\"Riley\"]\n",
    "marathon_participants=[\"Daniel\",\"Harper\",\"Henry\",\"Grace\",\"Sebastian\",\"Hannah\",\"Victoria\",\"Archer\",\"Aurora\",\"Brooklyn\",\"Parker\",\"Elias\",\"Adeline\",\"Julia\",\"David\",\"Liam\",\"Josie\",\"Carter\",\"Jaxon\"]\n",
    "\n",
    "# Your code here to determine which location Waldo is in (if any!)\n",
    "\n",
    "waldo_found = False\n",
    "\n",
    "if \"Waldo\" in beach_tourists:\n",
    "  print(\"Waldo is at the beach!\")\n",
    "  waldo_found = True\n",
    "\n",
    "if \"Waldo\" in music_festival_attendees:\n",
    "  print(\"Waldo is at the music festival!\")\n",
    "  waldo_found = True\n",
    "\n",
    "if \"Waldo\" in history_class_students:\n",
    "  print(\"Waldo is in class!\")\n",
    "  waldo_found = True\n",
    "\n",
    "if \"Waldo\" in office_building_employees:\n",
    "  print(\"Waldo is at the office!\")\n",
    "  waldo_found = True\n",
    "\n",
    "if \"Waldo\" in marathon_participants:\n",
    "  print(\"Waldo is running a marathon!\")\n",
    "  waldo_found = True\n",
    "\n",
    "if not waldo_found:\n",
    "  print(\"Waldo isn't in any of these places!\")"
   ]
  },
  {
   "cell_type": "markdown",
   "metadata": {
    "id": "icm0wruOAr5l"
   },
   "source": [
    "#### List concatenation with `+`\n",
    "\n",
    "Just like with strings, the concatenation `+` operator works on lists to combine them:"
   ]
  },
  {
   "cell_type": "code",
   "execution_count": null,
   "metadata": {
    "colab": {
     "base_uri": "https://localhost:8080/"
    },
    "id": "L29RUoqsA2f8",
    "outputId": "3a58807e-29df-43ea-e83f-105a8fb25c40"
   },
   "outputs": [
    {
     "name": "stdout",
     "output_type": "stream",
     "text": [
      "[1, 2, 3, 4, 5, 6]\n"
     ]
    }
   ],
   "source": [
    "my_list1 = [1,2,3]\n",
    "my_list2 = [4,5,6]\n",
    "\n",
    "print(my_list1 + my_list2)"
   ]
  },
  {
   "cell_type": "markdown",
   "metadata": {
    "id": "O6Q_gDbNBL9y"
   },
   "source": [
    "> **Exercise**: Use list concatenation with `+` to more succinctly determine if Waldo is at one of the locations above. Note that we won't be able to tell *which* location he is in with this method."
   ]
  },
  {
   "cell_type": "code",
   "execution_count": null,
   "metadata": {
    "id": "7NxkL4XkBXaH"
   },
   "outputs": [],
   "source": [
    "# Your code here to concatenate lists and check if Waldo is in any\n",
    "all_names = beach_tourists + music_festival_attendees + history_class_students + office_building_employees + marathon_participants\n",
    "\n",
    "if \"Waldo\" in all_names:\n",
    "  print(\"Waldo is in one of these locations!\")\n",
    "else:\n",
    "  print(\"Waldo is NOT in any of these locations!\")"
   ]
  },
  {
   "cell_type": "markdown",
   "metadata": {
    "id": "6dvm2UtoCD5R"
   },
   "source": [
    "While this is a much shorter bit of code, it is telling us less specific information."
   ]
  },
  {
   "cell_type": "markdown",
   "metadata": {
    "id": "DHom8YAXCJPK"
   },
   "source": [
    "#### Nested lists\n",
    "\n",
    "Lists are an extremely open and flexible data structure. They can contain any type of data, mixed data types, and even other data structures, including other lists! In other words, you can have a list of lists, or a **nested list**:"
   ]
  },
  {
   "cell_type": "code",
   "execution_count": null,
   "metadata": {
    "colab": {
     "base_uri": "https://localhost:8080/"
    },
    "id": "Mcpzl-z_CjEv",
    "outputId": "6dd75529-6052-4d4a-da05-d8cdb95cc152"
   },
   "outputs": [
    {
     "name": "stdout",
     "output_type": "stream",
     "text": [
      "[[1, 2, 3], [4, 5, 6]]\n",
      "---\n",
      "[[1, 2, 3], [4, 5, 6]]\n"
     ]
    }
   ],
   "source": [
    "list_of_lists = [ [1,2,3], [4,5,6] ]\n",
    "print(list_of_lists)\n",
    "print(\"---\")\n",
    "\n",
    "# OR #\n",
    "\n",
    "my_list1 = [1,2,3]\n",
    "my_list2 = [4,5,6]\n",
    "\n",
    "list_of_lists = [ my_list1, my_list2 ]\n",
    "print(list_of_lists)"
   ]
  },
  {
   "cell_type": "markdown",
   "metadata": {
    "id": "fAvaOxwiCtDz"
   },
   "source": [
    "Note that this is inherently different than when concatenated the two lists above. The result of concatenation was a single list of integers. Here we have a single list of lists (of integers - yes this can get confusing).\n",
    "\n",
    "This also affects how you loop over the elements in the lists:"
   ]
  },
  {
   "cell_type": "code",
   "execution_count": null,
   "metadata": {
    "colab": {
     "base_uri": "https://localhost:8080/"
    },
    "id": "sjezh9UNDM9k",
    "outputId": "50d4dfbc-c179-437a-ee97-2f78b14b9054"
   },
   "outputs": [
    {
     "name": "stdout",
     "output_type": "stream",
     "text": [
      "1\n",
      "2\n",
      "3\n",
      "4\n",
      "5\n",
      "6\n",
      "---\n",
      "[1, 2, 3]\n",
      "[4, 5, 6]\n"
     ]
    }
   ],
   "source": [
    "my_list1 = [1,2,3]\n",
    "my_list2 = [4,5,6]\n",
    "\n",
    "concatenated_list = my_list1 + my_list2\n",
    "list_of_lists = [ my_list1, my_list2 ]\n",
    "\n",
    "for element in concatenated_list:\n",
    "  print(element)\n",
    "\n",
    "print(\"---\")\n",
    "\n",
    "for element in list_of_lists:\n",
    "  print(element)"
   ]
  },
  {
   "cell_type": "markdown",
   "metadata": {
    "id": "ZgjuvUKOEJ2N"
   },
   "source": [
    "> **Exercise**: Use **nested lists** to find Waldo. Again, using this method we won't be able to determine the name of the location where Waldo is, but we can tell if he is in any of the locations.\n",
    ">\n",
    "> **BONUS**: Similar to before, also print a message if Waldo isn't in any of these locations (using a boolean flag)."
   ]
  },
  {
   "cell_type": "code",
   "execution_count": null,
   "metadata": {
    "colab": {
     "base_uri": "https://localhost:8080/"
    },
    "id": "XfnMYm_hEhP_",
    "outputId": "84e79605-2faf-45a3-f3c8-7071e0015396"
   },
   "outputs": [
    {
     "name": "stdout",
     "output_type": "stream",
     "text": [
      "Waldo is in one of these locations!\n"
     ]
    }
   ],
   "source": [
    "beach_tourists=[\"Alice\",\"Mason\",\"Emma\",\"Liam\",\"Olivia\",\"Walden\",\"Ethan\",\"Sophia\",\"Oliver\",\"Ava\",\"Mia\",\"William\",\"Logan\",\"Lucas\",\"Charlotte\",\"Amelia\",\"Harper\",\"James\"]\n",
    "music_festival_attendees=[\"Jackson\",\"Sophia\",\"Aiden\",\"Isabella\",\"Lucas\",\"Noah\",\"Levi\",\"Benjamin\",\"Elijah\",\"Mason\",\"Elena\",\"Eliana\",\"Mateo\",\"Jack\",\"Luna\",\"Eleanor\",\"Ezra\",\"Willow\",\"Henry\"]\n",
    "history_class_students=[\"Emily\",\"James\",\"Wally\",\"Ella\",\"Jacob\",\"Amelia\",\"Michael\",\"Evelyn\",\"Alexander\",\"Avery\",\"Mila\",\"Aria\",\"Ella\",\"Layla\",\"Scarlett\",\"Grace\",\"Wyatt\",\"Ellie\",\"Paisley\",\"Daniel\"]\n",
    "office_building_employees=[\"Walter\",\"Charlotte\",\"Alexander\",\"Scarlett\",\"Michael\",\"Victoria\",\"Samuel\",\"Aubrey\",\"Olive\",\"Nathan\",\"Camila\",\"Gabriel\",\"Isaac\",\"Waldo\",\"Savannah\",\"Gabriella\",\"Nora\",\"Chloe\",\"Zoe\",\"Stella\",\"Riley\"]\n",
    "marathon_participants=[\"Daniel\",\"Harper\",\"Henry\",\"Grace\",\"Sebastian\",\"Hannah\",\"Victoria\",\"Archer\",\"Aurora\",\"Brooklyn\",\"Parker\",\"Elias\",\"Adeline\",\"Julia\",\"David\",\"Liam\",\"Josie\",\"Carter\",\"Jaxon\"]\n",
    "\n",
    "# Your code here to determine if Waldo is in any of these locations with a nested list\n",
    "\n",
    "all_names = [ beach_tourists, music_festival_attendees, history_class_students, office_building_employees, marathon_participants ]\n",
    "waldo_found = False\n",
    "\n",
    "for location_list in all_names:\n",
    "  if \"Waldo\" in location_list:\n",
    "    print(\"Waldo is in one of these locations!\")\n",
    "    waldo_found = True\n",
    "\n",
    "if not waldo_found:\n",
    "  print(\"Waldo is NOT in any of these locations!\")"
   ]
  },
  {
   "cell_type": "markdown",
   "metadata": {
    "id": "6yi5DCvjWzMG"
   },
   "source": [
    "##### Indexing nested lists\n",
    "\n",
    "A single list can be indexed in much the same way as a string, e.g. `my_list[1]` will return the second element of the list. However, it can be difficult to grasp how nested lists are indexed. This is done by adding another set of square brackets `[]` on to the end of the indexed outer list:"
   ]
  },
  {
   "cell_type": "code",
   "execution_count": null,
   "metadata": {
    "colab": {
     "base_uri": "https://localhost:8080/"
    },
    "id": "tbzk5RmIXSy9",
    "outputId": "9f5ad5c0-e200-425c-d31e-d2e5550af6eb"
   },
   "outputs": [
    {
     "name": "stdout",
     "output_type": "stream",
     "text": [
      "All lists:                            [[1, 2, 3], [4, 5, 6]]\n",
      "The second list:                      [4, 5, 6]\n",
      "The third element of the second list: 6\n"
     ]
    }
   ],
   "source": [
    "my_list1 = [1,2,3]\n",
    "my_list2 = [4,5,6]\n",
    "\n",
    "list_of_lists = [ my_list1, my_list2 ]\n",
    "\n",
    "print(\"All lists:                           \", list_of_lists)\n",
    "print(\"The second list:                     \", list_of_lists[1])\n",
    "print(\"The third element of the second list:\", list_of_lists[1][2])"
   ]
  },
  {
   "cell_type": "markdown",
   "metadata": {
    "id": "jQ5rXvvQXmH_"
   },
   "source": [
    "In a way, nested lists can be thought of as higher-order data structures. In this case, with just a single level, it could be thought of as a matrix or a table, so the index `list_of_lists[1][2]` is like saying, \"Give me the data in the 3rd column of the 2nd row.\" This can be broken up to be more easily understood:"
   ]
  },
  {
   "cell_type": "code",
   "execution_count": null,
   "metadata": {
    "colab": {
     "base_uri": "https://localhost:8080/"
    },
    "id": "ZB4tuiSKX5Jf",
    "outputId": "42356083-f184-4ed4-e98b-14726c9e897d"
   },
   "outputs": [
    {
     "name": "stdout",
     "output_type": "stream",
     "text": [
      "All lists:                            [[1, 2, 3], [4, 5, 6]]\n",
      "The second list:                      [4, 5, 6]\n",
      "The third element of the second list: 6\n"
     ]
    }
   ],
   "source": [
    "my_list1 = [1,2,3]\n",
    "my_list2 = [4,5,6]\n",
    "\n",
    "list_of_lists = [ my_list1, my_list2 ]\n",
    "second_row = list_of_lists[1]\n",
    "second_row_third_col = second_row[2]\n",
    "\n",
    "print(\"All lists:                           \", list_of_lists)\n",
    "print(\"The second list:                     \", second_row)\n",
    "print(\"The third element of the second list:\", second_row_third_col)"
   ]
  },
  {
   "cell_type": "markdown",
   "metadata": {
    "id": "RFAeOogrDhMg"
   },
   "source": [
    "#### Nested loops\n",
    "\n",
    "Since lists are **iterable**, nested lists of course imply the existence of **nested loops**."
   ]
  },
  {
   "cell_type": "code",
   "execution_count": null,
   "metadata": {
    "colab": {
     "base_uri": "https://localhost:8080/"
    },
    "id": "UYKT0KMiDwtL",
    "outputId": "ddf875ce-ca40-4977-b609-16825236e317"
   },
   "outputs": [
    {
     "name": "stdout",
     "output_type": "stream",
     "text": [
      "[1, 2, 3]\n",
      "1\n",
      "2\n",
      "3\n",
      "---\n",
      "[4, 5, 6]\n",
      "4\n",
      "5\n",
      "6\n",
      "---\n"
     ]
    }
   ],
   "source": [
    "my_list1 = [1,2,3]\n",
    "my_list2 = [4,5,6]\n",
    "\n",
    "list_of_lists = [ my_list1, my_list2 ]\n",
    "\n",
    "for outer_list in list_of_lists:\n",
    "  print(outer_list);\n",
    "  for inner_num in outer_list:\n",
    "    print(inner_num)\n",
    "  print(\"---\")"
   ]
  },
  {
   "cell_type": "markdown",
   "metadata": {
    "id": "h2QCNkMbF5KA"
   },
   "source": [
    "> **Exercise**: Using your nested list of names in each location from above, find the position of Waldo's name, or its **index** in any of the lists. \n",
    ">\n",
    "> *Hint: remember the `range()` function, which allows us to loop over the indices of an iterable object (like a list).*\n",
    ">\n",
    "> **BONUS**: Edit your code to find the **index** of any name that starts with \"Wal\". *Hint: This will require both list and string operations.*"
   ]
  },
  {
   "cell_type": "code",
   "execution_count": null,
   "metadata": {
    "colab": {
     "base_uri": "https://localhost:8080/"
    },
    "id": "ZZde8mJ4GMXU",
    "outputId": "efcb9106-0a13-4a4e-f54b-561e8437545d"
   },
   "outputs": [
    {
     "name": "stdout",
     "output_type": "stream",
     "text": [
      "A name starting with 'Wal' is at index 5 in one of the lists!\n",
      "A name starting with 'Wal' is at index 2 in one of the lists!\n",
      "A name starting with 'Wal' is at index 0 in one of the lists!\n",
      "Waldo's index in one of the lists is: 13 !\n",
      "A name starting with 'Wal' is at index 13 in one of the lists!\n"
     ]
    }
   ],
   "source": [
    "## Your code here to find the index of Waldo's name\n",
    "\n",
    "for location_list in all_names:\n",
    "  for name_index in range(len(location_list)):\n",
    "    if location_list[name_index] == \"Waldo\":\n",
    "      print(\"Waldo's index in one of the lists is:\", name_index, \"!\")\n",
    "\n",
    "    # Bonus solution\n",
    "    if \"Wal\" in location_list[name_index]:\n",
    "      print(\"A name starting with 'Wal' is at index\", name_index, \"in one of the lists!\")"
   ]
  },
  {
   "cell_type": "markdown",
   "metadata": {
    "id": "r_wrIZsyHYY4"
   },
   "source": [
    "#### List **methods**\n",
    "\n",
    "We're going to introduce **methods** in the context of lists, but methods are available for other data types as well (e.g. strings).\n",
    "\n",
    "Briefly, **methods** are just like functions in that they are blocks of code stored somewhere on your computer that are looked up and run when they are called. Calling them is done slightly differently though:\n",
    "\n",
    "\n",
    "\n",
    "```\n",
    "my_list.a_method()\n",
    "```\n",
    "\n",
    "Notice the difference with functions, where we might type something like `a_function(my_list)`. For functions we would say we are **passing** the list to the function as an argument.\n",
    "\n",
    "Methods, on the other hand, are called directly on the object with the dot `.` **operator** (officially called the attribute access operator, but we don't usually call it that).\n",
    "\n",
    "Here is a simple **method** being used on a list called `.sort()`:\n"
   ]
  },
  {
   "cell_type": "code",
   "execution_count": null,
   "metadata": {
    "colab": {
     "base_uri": "https://localhost:8080/"
    },
    "id": "SalWWkRL-czS",
    "outputId": "20ac9a78-7c8d-4c7b-9ef3-13694402a99c"
   },
   "outputs": [
    {
     "name": "stdout",
     "output_type": "stream",
     "text": [
      "unsorted: [5, 8, 3, 6, 1]\n",
      "sorted: [1, 3, 5, 6, 8]\n"
     ]
    }
   ],
   "source": [
    "my_list = [5, 8, 3, 6, 1]\n",
    "print(\"unsorted:\", my_list)\n",
    "my_list.sort()\n",
    "print(\"sorted:\", my_list)"
   ]
  },
  {
   "cell_type": "markdown",
   "metadata": {
    "id": "5Wylhjbn-6Cb"
   },
   "source": [
    "What else do you notice about this that is different about using a function?\n",
    "\n",
    "In this case, the method works **in place**. That means that it modifies the object directly, rather than returning a new object.\n",
    "\n",
    "There are also methods that **return** objects. Unfortunately, there is no obvious way to tell which methods work in place and which return objects.\n",
    "\n",
    "Interestingly, there is also a function to sort a list, called `sorted()`, which we can use to easily highlight the difference between an in place method and a function:"
   ]
  },
  {
   "cell_type": "code",
   "execution_count": null,
   "metadata": {
    "colab": {
     "base_uri": "https://localhost:8080/"
    },
    "id": "bUo9J8cYALHG",
    "outputId": "68d0725b-f5ef-4ac9-f1cc-2a1a9583c673"
   },
   "outputs": [
    {
     "name": "stdout",
     "output_type": "stream",
     "text": [
      "unsorted: [5, 8, 3, 6, 1]\n",
      "original still unsorted: [5, 8, 3, 6, 1]\n",
      "sorted new list: [1, 3, 5, 6, 8]\n",
      "---\n",
      "in place method doesn't return anything: None\n",
      "but we've still sorted the oritinal list: [1, 3, 5, 6, 8]\n"
     ]
    }
   ],
   "source": [
    "my_list = [5, 8, 3, 6, 1]\n",
    "\n",
    "print(\"unsorted:\", my_list)\n",
    "my_sorted_list = sorted(my_list)\n",
    "print(\"original still unsorted:\", my_list)\n",
    "print(\"sorted new list:\" , my_sorted_list)\n",
    "\n",
    "print(\"---\")\n",
    "\n",
    "my_sorted_list_or_not = my_list.sort()\n",
    "print(\"in place method doesn't return anything:\", my_sorted_list_or_not)\n",
    "print(\"but we've still sorted the original list:\", my_list)"
   ]
  },
  {
   "cell_type": "markdown",
   "metadata": {
    "id": "QER6k7N5DnWH"
   },
   "source": [
    "Methods can also take arguments in addition to the object they are being called on. This is done just like with functions, with the argument going in the parentheses:"
   ]
  },
  {
   "cell_type": "code",
   "execution_count": null,
   "metadata": {
    "colab": {
     "base_uri": "https://localhost:8080/"
    },
    "id": "UkW3jHYmHjE6",
    "outputId": "e28ae409-bf1a-4e14-e147-e5567647cb22"
   },
   "outputs": [
    {
     "name": "stdout",
     "output_type": "stream",
     "text": [
      "unsorted: [5, 8, 3, 6, 1]\n",
      "sorted: [1, 3, 5, 6, 8]\n",
      "reverse sorted: [8, 6, 5, 3, 1]\n"
     ]
    }
   ],
   "source": [
    "my_list = [5, 8, 3, 6, 1]\n",
    "print(\"unsorted:\", my_list)\n",
    "my_list.sort()\n",
    "print(\"sorted:\", my_list)\n",
    "my_list.sort(reverse=True)\n",
    "print(\"reverse sorted:\", my_list)"
   ]
  },
  {
   "cell_type": "markdown",
   "metadata": {
    "id": "qIe8IsG_Cm3N"
   },
   "source": [
    "#### In place methods\n",
    "\n",
    "Here are a few examples of in place list methods, that is ones that directly manipulate the list rather than returning an object.\n",
    "\n",
    "1.   `.append(x)` : operates on a list to add the object `x` to the end of the list"
   ]
  },
  {
   "cell_type": "code",
   "execution_count": null,
   "metadata": {
    "colab": {
     "base_uri": "https://localhost:8080/"
    },
    "id": "bZxkw50cDSrh",
    "outputId": "b339c390-ba45-42c1-8ed8-4f781bb2b862"
   },
   "outputs": [
    {
     "name": "stdout",
     "output_type": "stream",
     "text": [
      "original: [1, 2, 3, 4]\n",
      "---\n",
      "appended: [1, 2, 3, 4, 5]\n"
     ]
    }
   ],
   "source": [
    "my_list = [1, 2, 3, 4]\n",
    "print(\"original:\", my_list)\n",
    "print(\"---\")\n",
    "to_add = 5\n",
    "my_list.append(to_add)\n",
    "print(\"appended:\", my_list)"
   ]
  },
  {
   "cell_type": "markdown",
   "metadata": {
    "id": "ZindvSI3DSNj"
   },
   "source": [
    "2.  `.remove(x)` : removes the first occurrence of the passed object `x` from the list. If `x` isn't in the list, an error occurs."
   ]
  },
  {
   "cell_type": "code",
   "execution_count": null,
   "metadata": {
    "colab": {
     "base_uri": "https://localhost:8080/"
    },
    "id": "IpYAf4CvIZPz",
    "outputId": "1406a88f-8c9d-4ff5-d4ef-eda7675f5494"
   },
   "outputs": [
    {
     "name": "stdout",
     "output_type": "stream",
     "text": [
      "original: [1, 2, 3, 4, 5]\n",
      "modified: [1, 2, 3, 5]\n"
     ]
    }
   ],
   "source": [
    "my_list = [1, 2, 3, 4, 5]\n",
    "print(\"original:\", my_list)\n",
    "my_list.remove(4)\n",
    "print(\"modified:\", my_list)"
   ]
  },
  {
   "cell_type": "markdown",
   "metadata": {
    "id": "TUPMHLWiI_VB"
   },
   "source": [
    "> **Exercise**: `.remove()` removes only the first occurrence of the passed object from the list. This means if there are duplicates, only one will be removed. Write a block of code to remove all duplicates of an object from a list.\n",
    ">\n",
    "> *Hint: remember `while` loops!*"
   ]
  },
  {
   "cell_type": "code",
   "execution_count": null,
   "metadata": {
    "colab": {
     "base_uri": "https://localhost:8080/"
    },
    "id": "1TvKNnxQJXek",
    "outputId": "b89f67be-f577-4ffa-bcc4-3a57a9aabdf2"
   },
   "outputs": [
    {
     "name": "stdout",
     "output_type": "stream",
     "text": [
      "The list is 20 elements long and the number 10 appears 7 times.\n",
      "The list is 13 elements long and the number 10 appears 0 times.\n"
     ]
    }
   ],
   "source": [
    "my_list = [4, 10, 22, 15, 10, 8, 10, 37, 12, 10, 19, 10, 5, 27, 18, 10, 30, 7, 10, 14]\n",
    "to_remove = 10\n",
    "print(\"The list is\", len(my_list), \"elements long and the number\", to_remove, \"appears\", my_list.count(to_remove), \"times.\")\n",
    "\n",
    "# Add your code here\n",
    "while to_remove in my_list:\n",
    "  my_list.remove(to_remove)\n",
    "\n",
    "print(\"The list is\", len(my_list), \"elements long and the number\", to_remove, \"appears\", my_list.count(to_remove), \"times.\")"
   ]
  },
  {
   "cell_type": "markdown",
   "metadata": {
    "id": "6DppKrC7Kn50"
   },
   "source": [
    "These are just a few examples of in place methods for lists. Remember to search the docs, the web, and LLM chatbots for more examples if you have a task you need to do! There may be a method or function already out there."
   ]
  },
  {
   "cell_type": "markdown",
   "metadata": {
    "id": "8vgyaBxaK66-"
   },
   "source": [
    "#### Methods that return values\n",
    "\n",
    "1.   `.count(x)` : counts and returns the number of occurrences of the object `x` in the list. We just saw an example of this above!\n",
    "2.   `.index(x, start, end)` : returns the **index** (0-based position) of the first occurrence of the object `x`. The indexing can be done on a sub-range of the list given by the `start` and `end` indices. If the object `x` is not in the list, an error will be thrown."
   ]
  },
  {
   "cell_type": "code",
   "execution_count": null,
   "metadata": {
    "colab": {
     "base_uri": "https://localhost:8080/"
    },
    "id": "5OmKJ12LNvzs",
    "outputId": "65ece0f7-14c9-4361-ee4d-ea235018d219"
   },
   "outputs": [
    {
     "name": "stdout",
     "output_type": "stream",
     "text": [
      "1\n",
      "---\n",
      "4\n"
     ]
    }
   ],
   "source": [
    "my_list = [1, 2, 3, 4, 2]\n",
    "my_index = my_list.index(2)\n",
    "print(my_index)\n",
    "\n",
    "print(\"---\")\n",
    "my_index = my_list.index(2, 2) # If we only give it a start index, it will go to the end of the list\n",
    "print(my_index)"
   ]
  },
  {
   "cell_type": "markdown",
   "metadata": {
    "id": "BUZCAD22O98X"
   },
   "source": [
    "3.   `.pop([i])` : Removes and returns the element at index `i` from the list. Note that the argument `i` is given in square brackets. This means that it is optional. If no index is given, `.pop` removes and returns the last element in the list.\n",
    "\n"
   ]
  },
  {
   "cell_type": "code",
   "execution_count": null,
   "metadata": {
    "colab": {
     "base_uri": "https://localhost:8080/"
    },
    "id": "MkMJgmthO9YA",
    "outputId": "03ab5e2d-690d-4099-b1f5-a4a06e1c62af"
   },
   "outputs": [
    {
     "name": "stdout",
     "output_type": "stream",
     "text": [
      "original: [1, 2, 3, 4, 5, 6]\n",
      "modified: [1, 3, 4, 5, 6]\n",
      "the element it removed: 2\n",
      "---\n",
      "modified again: [1, 3, 4, 5]\n",
      "the last element in the list: 6\n"
     ]
    }
   ],
   "source": [
    "my_list = [1, 2, 3, 4, 5, 6]\n",
    "my_index_to_get = 1\n",
    "\n",
    "print(\"original:\", my_list)\n",
    "\n",
    "my_list_element = my_list.pop(my_index_to_get)\n",
    "\n",
    "print(\"modified:\", my_list)\n",
    "print(\"the element it removed:\", my_list_element)\n",
    "\n",
    "print(\"---\")\n",
    "\n",
    "the_last_element = my_list.pop()\n",
    "\n",
    "print(\"modified again:\", my_list)\n",
    "print(\"the last element from the list:\", the_last_element)"
   ]
  },
  {
   "cell_type": "markdown",
   "metadata": {
    "id": "STEx-9pGPzBZ"
   },
   "source": [
    "#### List method BONUS exercise\n",
    "\n",
    "> **BONUS EXERCISE**: Use what we've learned about lists to move Waldo from his current location to `beach_tourists`."
   ]
  },
  {
   "cell_type": "code",
   "execution_count": null,
   "metadata": {
    "colab": {
     "base_uri": "https://localhost:8080/"
    },
    "id": "dWkKZ8BTP8tL",
    "outputId": "e6e689d2-1a96-4616-aae0-f2d0618c81ea"
   },
   "outputs": [
    {
     "name": "stdout",
     "output_type": "stream",
     "text": [
      "Waldo is not at the beach.\n",
      "Waldo found in one of the locations. Moving him to the beach.\n",
      "Waldo is now at the beach.\n"
     ]
    }
   ],
   "source": [
    "beach_tourists=[\"Alice\",\"Mason\",\"Emma\",\"Liam\",\"Olivia\",\"Walden\",\"Ethan\",\"Sophia\",\"Oliver\",\"Ava\",\"Mia\",\"William\",\"Logan\",\"Lucas\",\"Charlotte\",\"Amelia\",\"Harper\",\"James\"]\n",
    "music_festival_attendees=[\"Jackson\",\"Sophia\",\"Aiden\",\"Isabella\",\"Lucas\",\"Noah\",\"Levi\",\"Benjamin\",\"Elijah\",\"Mason\",\"Elena\",\"Eliana\",\"Mateo\",\"Jack\",\"Luna\",\"Eleanor\",\"Ezra\",\"Willow\",\"Henry\"]\n",
    "history_class_students=[\"Emily\",\"James\",\"Wally\",\"Ella\",\"Jacob\",\"Amelia\",\"Michael\",\"Evelyn\",\"Alexander\",\"Avery\",\"Mila\",\"Aria\",\"Ella\",\"Layla\",\"Scarlett\",\"Grace\",\"Wyatt\",\"Waldo\",\"Ellie\",\"Paisley\",\"Daniel\"]\n",
    "office_building_employees=[\"Walter\",\"Charlotte\",\"Alexander\",\"Scarlett\",\"Michael\",\"Victoria\",\"Samuel\",\"Aubrey\",\"Olive\",\"Nathan\",\"Camila\",\"Gabriel\",\"Isaac\",\"Savannah\",\"Gabriella\",\"Nora\",\"Chloe\",\"Zoe\",\"Stella\",\"Riley\"]\n",
    "marathon_participants=[\"Daniel\",\"Harper\",\"Henry\",\"Grace\",\"Sebastian\",\"Hannah\",\"Victoria\",\"Archer\",\"Aurora\",\"Brooklyn\",\"Parker\",\"Elias\",\"Adeline\",\"Julia\",\"David\",\"Liam\",\"Josie\",\"Carter\",\"Jaxon\"]\n",
    "\n",
    "# Check and print if Waldo is at the beach initially\n",
    "if \"Waldo\" in beach_tourists:\n",
    "    print(\"Waldo is at the beach.\")\n",
    "else:\n",
    "    print(\"Waldo is not at the beach.\")\n",
    "\n",
    "# List containing all lists\n",
    "all_locations=[ beach_tourists,music_festival_attendees,history_class_students,office_building_employees,marathon_participants ]\n",
    "\n",
    "# Write your code below to move Waldo\n",
    "waldo_found=False\n",
    "\n",
    "for location in all_locations:\n",
    "    if \"Waldo\" in location:\n",
    "        print(\"Waldo found in one of the locations. Moving him to the beach.\")\n",
    "        waldo_found=True\n",
    "\n",
    "        # Remove Waldo from the current location\n",
    "        location.remove(\"Waldo\")\n",
    "\n",
    "        # Add Waldo to the beach tourists\n",
    "        beach_tourists.append(\"Waldo\")\n",
    "\n",
    "if not waldo_found:\n",
    "    print(\"Waldo was not found in any location.\")\n",
    "\n",
    "# Write your code above to move Waldo\n",
    "\n",
    "# Check and print if Waldo is at the beach after the move\n",
    "if \"Waldo\" in beach_tourists:\n",
    "    print(\"Waldo is now at the beach.\")\n",
    "else:\n",
    "    print(\"Waldo is not yet at the beach.\")"
   ]
  },
  {
   "cell_type": "markdown",
   "metadata": {
    "id": "_zDBjqsLUUzt"
   },
   "source": [
    "There are many ways to do this. However, they all have some problems. For instance, as we've mentioned, we have no way of knowing *which* location Waldo was in initially. This and other organizational tasks is what our next iterable data structure, **dictionaries**, try to solve."
   ]
  },
  {
   "cell_type": "markdown",
   "metadata": {
    "id": "_vfQAya9LDnT"
   },
   "source": [
    "### Dictionaries\n",
    "\n",
    "While lists are flexible and intuitive and useful in many cases, one of their main drawbacks is in accessing specific parts of the data. To look up and use a particular list element (e.g. the name \"Waldo\"), you have to know that element's positions within the list, or its **index**. An element's index may not always be easily knowable, especially for large datasets or data that has been generated or parsed programmatically.\n",
    "\n",
    "**Dictionaries** solve this by associating two pieces of information together, allowing you to label your data and look it up by name. The term for this is a **key-value pairing**. The **key** being the data's label or name, and the **value** being the data itself.\n",
    "\n",
    "In Python, dictionaries are declared using curly brackets `{}`, inside of which are different key-value pairs, with the keys and values separated by colons `:` and the pairs separated by commas `,` (just like list elements):"
   ]
  },
  {
   "cell_type": "code",
   "execution_count": null,
   "metadata": {
    "colab": {
     "base_uri": "https://localhost:8080/"
    },
    "id": "sVEIZf5sDLhx",
    "outputId": "24ee9cf1-d363-406b-da86-31621793e8e0"
   },
   "outputs": [
    {
     "name": "stdout",
     "output_type": "stream",
     "text": [
      "{'key1': 1, 'key2': 3, 'key3': 6}\n"
     ]
    }
   ],
   "source": [
    "my_dictionary = { 'key1' : 1, 'key2' : 3, 'key3' : 6 }\n",
    "print(my_dictionary)"
   ]
  },
  {
   "cell_type": "markdown",
   "metadata": {
    "id": "KCeXKvBkDbbm"
   },
   "source": [
    "In this example, the keys are strings and the values are integers. The string `'key1'` is associated with the value `1` and so forth.\n",
    "\n",
    "Then, individual data values can be accessed directly by their key! This is done using square brackets `[]`, just like when indexing a string or a list, but inside of the brackets instead of an index, you put the key:"
   ]
  },
  {
   "cell_type": "code",
   "execution_count": null,
   "metadata": {
    "colab": {
     "base_uri": "https://localhost:8080/"
    },
    "id": "EBzlmyzeDwWt",
    "outputId": "b27bc57a-6084-4ede-8015-e43689abc1e4"
   },
   "outputs": [
    {
     "name": "stdout",
     "output_type": "stream",
     "text": [
      "The value of key2 is: 3\n"
     ]
    }
   ],
   "source": [
    "my_dictionary = { 'key1' : 1, 'key2' : 3, 'key3' : 6 }\n",
    "print(\"The value of key 'key2' is:\", my_dictionary['key2'])"
   ]
  },
  {
   "cell_type": "markdown",
   "metadata": {
    "id": "jbfFZMv9ED3Z"
   },
   "source": [
    "#### Keys\n",
    "\n",
    "Importantly, **keys themselves can be any immutable data type or structure** and **can even be mixed data types**:"
   ]
  },
  {
   "cell_type": "code",
   "execution_count": null,
   "metadata": {
    "colab": {
     "base_uri": "https://localhost:8080/"
    },
    "id": "40mCpT2HEZSQ",
    "outputId": "e7677ee6-5e7f-4e38-dea2-87e0207aecfc"
   },
   "outputs": [
    {
     "name": "stdout",
     "output_type": "stream",
     "text": [
      "The value of key 123 is: 1\n",
      "The value of key 'key2' is: 3\n",
      "The value of key 7 is: 6\n"
     ]
    }
   ],
   "source": [
    "my_dictionary = { 123 : 1, 'key2' : 3, 7 : 6 }\n",
    "print(\"The value of key 123 is:\", my_dictionary[123])\n",
    "print(\"The value of key 'key2' is:\", my_dictionary['key2'])\n",
    "print(\"The value of key 7 is:\", my_dictionary[7])"
   ]
  },
  {
   "cell_type": "markdown",
   "metadata": {
    "id": "4xklH4WiEsr7"
   },
   "source": [
    "If you try to assign a mutable object, like a list as a key, you will get an error:"
   ]
  },
  {
   "cell_type": "code",
   "execution_count": null,
   "metadata": {
    "colab": {
     "base_uri": "https://localhost:8080/",
     "height": 144
    },
    "id": "vUPKEIwiExvo",
    "outputId": "ee3f0630-9b0d-4ce1-a1a7-80504acea24a"
   },
   "outputs": [
    {
     "ename": "TypeError",
     "evalue": "unhashable type: 'list'",
     "output_type": "error",
     "traceback": [
      "\u001b[0;31m---------------------------------------------------------------------------\u001b[0m",
      "\u001b[0;31mTypeError\u001b[0m                                 Traceback (most recent call last)",
      "\u001b[0;32m<ipython-input-6-b78fbd9b4234>\u001b[0m in \u001b[0;36m<cell line: 1>\u001b[0;34m()\u001b[0m\n\u001b[0;32m----> 1\u001b[0;31m \u001b[0mmy_incorrect_dict\u001b[0m \u001b[0;34m=\u001b[0m \u001b[0;34m{\u001b[0m \u001b[0;34m[\u001b[0m\u001b[0;34m'key1'\u001b[0m\u001b[0;34m]\u001b[0m \u001b[0;34m:\u001b[0m \u001b[0;36m1\u001b[0m\u001b[0;34m,\u001b[0m \u001b[0;34m'key2'\u001b[0m \u001b[0;34m:\u001b[0m \u001b[0;36m3\u001b[0m\u001b[0;34m,\u001b[0m \u001b[0;34m'key3'\u001b[0m \u001b[0;34m:\u001b[0m \u001b[0;36m6\u001b[0m \u001b[0;34m}\u001b[0m\u001b[0;34m\u001b[0m\u001b[0;34m\u001b[0m\u001b[0m\n\u001b[0m",
      "\u001b[0;31mTypeError\u001b[0m: unhashable type: 'list'"
     ]
    }
   ],
   "source": [
    "my_incorrect_dictionary = { ['key1'] : 1, 'key2' : 3, 'key3' : 6 }"
   ]
  },
  {
   "cell_type": "markdown",
   "metadata": {
    "id": "JUQKRzElE7lz"
   },
   "source": [
    "Above, we've just added square brackets `[]` to `'key1'` to make it a single element list, however this isn't allowed for dictionary keys.\n",
    "\n",
    "Also importantly, **keys must be unique**. If multiple identical keys exist and you try to look up that key, only one of the values of that key will be returned:"
   ]
  },
  {
   "cell_type": "code",
   "execution_count": null,
   "metadata": {
    "colab": {
     "base_uri": "https://localhost:8080/"
    },
    "id": "paLFu6cSHfxE",
    "outputId": "edddbbce-0081-4bb9-c2e1-8cebcb31053e"
   },
   "outputs": [
    {
     "name": "stdout",
     "output_type": "stream",
     "text": [
      "The value of key 'key1' is: 2\n"
     ]
    }
   ],
   "source": [
    "my_incorrect_dictionary = { 'key1' : 1, 'key1': 2, 'key3' : 6}\n",
    "print(\"The value of key 'key1' is:\", my_incorrect_dictionary['key1'])\n",
    "print(my_incorrect_dictionary)"
   ]
  },
  {
   "cell_type": "markdown",
   "metadata": {
    "id": "D2XhbwLeHtoC"
   },
   "source": [
    "This is because the value from first instance of `key1` has actually been overwritten by the second instance. This is another **logic error**, in which the program runs, but with unexpected or unwanted results. It is up to the programmer to catch these, or else they may affect the conclusions drawn from the program!\n",
    "\n",
    "Given the above description of dictionaries, it may be apparent that the most useful way to use keys is as string labels for your data for easy access and lookup.\n",
    "\n"
   ]
  },
  {
   "cell_type": "markdown",
   "metadata": {
    "id": "KkTUGUOq3zg8"
   },
   "source": [
    "##### KeyError\n",
    "\n",
    "One more note on dictionary keys: one of the most common errors you'll see when coding in Python is `KeyError`. This happens when you try to access a key in a dictionary, but that key doesn't exist:"
   ]
  },
  {
   "cell_type": "code",
   "execution_count": null,
   "metadata": {
    "colab": {
     "base_uri": "https://localhost:8080/",
     "height": 162
    },
    "id": "ZsFAotvCLSzv",
    "outputId": "a17547ed-2459-4c96-e6e0-72ecf0a2480c"
   },
   "outputs": [
    {
     "ename": "KeyError",
     "evalue": "'key7'",
     "output_type": "error",
     "traceback": [
      "\u001b[0;31m---------------------------------------------------------------------------\u001b[0m",
      "\u001b[0;31mKeyError\u001b[0m                                  Traceback (most recent call last)",
      "\u001b[0;32m<ipython-input-22-58de9c881f2c>\u001b[0m in \u001b[0;36m<cell line: 2>\u001b[0;34m()\u001b[0m\n\u001b[1;32m      1\u001b[0m \u001b[0mmy_dict\u001b[0m \u001b[0;34m=\u001b[0m \u001b[0;34m{\u001b[0m \u001b[0;34m'key1'\u001b[0m \u001b[0;34m:\u001b[0m \u001b[0;36m1\u001b[0m\u001b[0;34m,\u001b[0m \u001b[0;34m'key2'\u001b[0m \u001b[0;34m:\u001b[0m \u001b[0;36m3\u001b[0m\u001b[0;34m,\u001b[0m \u001b[0;34m'key3'\u001b[0m \u001b[0;34m:\u001b[0m \u001b[0;36m6\u001b[0m \u001b[0;34m}\u001b[0m\u001b[0;34m\u001b[0m\u001b[0;34m\u001b[0m\u001b[0m\n\u001b[0;32m----> 2\u001b[0;31m \u001b[0mprint\u001b[0m\u001b[0;34m(\u001b[0m\u001b[0;34m\"Value of key 'key7':\"\u001b[0m\u001b[0;34m,\u001b[0m \u001b[0mmy_dict\u001b[0m\u001b[0;34m[\u001b[0m\u001b[0;34m'key7'\u001b[0m\u001b[0;34m]\u001b[0m\u001b[0;34m)\u001b[0m\u001b[0;34m\u001b[0m\u001b[0;34m\u001b[0m\u001b[0m\n\u001b[0m",
      "\u001b[0;31mKeyError\u001b[0m: 'key7'"
     ]
    }
   ],
   "source": [
    "my_dictionary = { 'key1' : 1, 'key2' : 3, 'key3' : 6 }\n",
    "print(\"Value of key 'key7':\", my_dictionary['key7'])"
   ]
  },
  {
   "cell_type": "markdown",
   "metadata": {
    "id": "NKDExLU-LdO4"
   },
   "source": [
    "In this case, you'll have to track down why the key you're accessing doesn't exist, which could be as simple as a typo on your part, or a problem with the underlying dataset.\n",
    "\n"
   ]
  },
  {
   "cell_type": "markdown",
   "metadata": {
    "id": "T_V12aapFSvJ"
   },
   "source": [
    "#### Values\n",
    "\n",
    "Values, on the other hand, are completely flexible. They can be **mutable or immutable** and **can be mixed between data types and structures**. Values can even be other dictionaries (**nested dictionaries**)! That allows one to build some complex data tables."
   ]
  },
  {
   "cell_type": "code",
   "execution_count": null,
   "metadata": {
    "colab": {
     "base_uri": "https://localhost:8080/"
    },
    "id": "xpRhU1siFv5E",
    "outputId": "f3e36228-66d5-4ff0-dc43-adf92f1bb946"
   },
   "outputs": [
    {
     "name": "stdout",
     "output_type": "stream",
     "text": [
      "[1, 1, 0.93]\n",
      "0.94\n",
      "---\n",
      "This dataset is made up to show the flexibility of dictionary values.\n"
     ]
    }
   ],
   "source": [
    "my_mixed_dictionary = { 'column-headers' : ['condition', 'time.point', 'measure'],\n",
    "                  'sample1' : [1, 1, 0.93],\n",
    "                  'sample2' : [1, 2, 0.88],\n",
    "                  'sample3' : [2, 1, 0.94],\n",
    "                  'meta-info' : \"This dataset is made up to show the flexibility of dictionary values.\"\n",
    "                }\n",
    "\n",
    "print(my_mixed_dictionary['sample1'])\n",
    "print(my_mixed_dictionary['sample3'][2])\n",
    "print(\"---\")\n",
    "print(my_mixed_dictionary['meta-info'])\n"
   ]
  },
  {
   "cell_type": "markdown",
   "metadata": {
    "id": "IjzcR-JUI8c7"
   },
   "source": [
    "#### Dictionary properties\n",
    "\n",
    "1.   Dictionaries are **mutable**, meaning you can add or remove key-value pairs at will, and you can even change the value of a given key\n"
   ]
  },
  {
   "cell_type": "code",
   "execution_count": null,
   "metadata": {
    "colab": {
     "base_uri": "https://localhost:8080/"
    },
    "id": "tChAGaGLJPoh",
    "outputId": "5ae668ff-5e9f-43f3-aa1e-f314690f3d33"
   },
   "outputs": [
    {
     "name": "stdout",
     "output_type": "stream",
     "text": [
      "Original: {'key1': 1, 'key2': 3, 'key3': 6}\n",
      "We added a key using square brackets and the assignment operator: {'key1': 1, 'key2': 3, 'key3': 6, 'key4': 10}\n",
      "And we can access the value directly by key 'key4': 10\n",
      "---\n",
      "We've changed the value of 'key1', again with the square brackets and assignment operator: {'key1': 'NA', 'key2': 3, 'key3': 6, 'key4': 10}\n",
      "Value of key 'key1': NA\n"
     ]
    }
   ],
   "source": [
    "my_dictionary = { 'key1' : 1, 'key2' : 3, 'key3' : 6 }\n",
    "print(\"Original:\", my_dictionary)\n",
    "\n",
    "my_dictionary['key4'] = 10\n",
    "print(\"We added a key using square brackets and the assignment operator:\", my_dictionary)\n",
    "print(\"And we can access the value directly by key, e.g. 'key4':\", my_dictionary['key4'])\n",
    "\n",
    "print(\"---\")\n",
    "\n",
    "my_dictionary['key1'] = \"NA\"\n",
    "print(\"We've changed the value of 'key1', again with the square brackets and assignment operator:\", my_dictionary)\n",
    "print(\"Value of key 'key1':\", my_dictionary['key1'])"
   ]
  },
  {
   "cell_type": "markdown",
   "metadata": {
    "id": "q5J6WL2HKGdy"
   },
   "source": [
    "To remove a key-value pair from a dictionary, we introduce another **operator** keyword called `del` (remember, operators are symbols or keywords that perform a specific set of instructions, just like a function, but are invoked slightly differently than functions).\n",
    "\n",
    "In the case of `del`, you simply type the keyword followed by a python object and it will delete it from the program:"
   ]
  },
  {
   "cell_type": "code",
   "execution_count": null,
   "metadata": {
    "id": "ZhbOA1ysOSGn"
   },
   "outputs": [],
   "source": [
    "print(\"Last state of dict:\", my_dictionary)\n",
    "\n",
    "del my_dictionary['key1']\n",
    "\n",
    "print(\"After removing key 'key1' with del:\", my_dictionary)"
   ]
  },
  {
   "cell_type": "markdown",
   "metadata": {
    "id": "4MMhDd5x4iuo"
   },
   "source": [
    "> **Exercise**: Create a dictionary named `student_grades` with three students and their corresponding grades. The keys should be student names (e.g., \"Alice\", \"Bob\") and the values should be their grades (e.g., 85, 90). Then do the following:\n",
    ">\n",
    "> 1. Print the grade of one specific student by accessing it through the key.\n",
    "> 2. Add a new student with their grade to the `student_grades` dictionary and print out their grade.\n",
    "> 3. One student moved away, so remove them from your grade book and print out the dictionary to show they have left."
   ]
  },
  {
   "cell_type": "code",
   "execution_count": null,
   "metadata": {
    "colab": {
     "base_uri": "https://localhost:8080/"
    },
    "id": "Aes9Yio84mgI",
    "outputId": "366e6271-a6a8-40fc-d1d5-fb53f71b6cf5"
   },
   "outputs": [
    {
     "name": "stdout",
     "output_type": "stream",
     "text": [
      "Original grades: {'Alice': 85, 'Bob': 90, 'Wesley': 100}\n",
      "---\n",
      "New student 'Clara': 99\n",
      "---\n",
      "Alice moved: {'Bob': 90, 'Wesley': 100, 'Clara': 99}\n"
     ]
    }
   ],
   "source": [
    "## Your code goes here\n",
    "student_grades = { 'Alice' : 85, 'Bob' : 90, 'Wesley' : 100 }\n",
    "print(\"Original grades:\", student_grades)\n",
    "print(\"---\")\n",
    "student_grades[\"Gregg\"] = 95\n",
    "print(\"New student 'Gregg':\", student_grades['Gregg'])\n",
    "print(\"---\")\n",
    "del(student_grades[\"Alice\"])\n",
    "print(\"Alice moved:\", student_grades)"
   ]
  },
  {
   "cell_type": "markdown",
   "metadata": {
    "id": "r-3G7oEuOWYN"
   },
   "source": [
    "2.   Dictionaries are **iterable**, meaning you can loop over them with a `for` loop. More specifically, the **dictionary keys are iterable**, meaning when you loop over a dictionary, you are actually looping over the keys of the dictionary:\n",
    "\n"
   ]
  },
  {
   "cell_type": "code",
   "execution_count": null,
   "metadata": {
    "colab": {
     "base_uri": "https://localhost:8080/"
    },
    "id": "xda5HVBROpHj",
    "outputId": "5da9a75f-3f2c-46ed-e78e-a122091371a5"
   },
   "outputs": [
    {
     "name": "stdout",
     "output_type": "stream",
     "text": [
      "Last state of dict: {'key2': 3, 'key3': 6}\n",
      "key2 : 3\n",
      "key3 : 6\n"
     ]
    }
   ],
   "source": [
    "print(\"Last state of dict:\", my_dictionary)\n",
    "\n",
    "for key in my_dictionary:\n",
    "  print(key, \":\", my_dictionary[key])"
   ]
  },
  {
   "cell_type": "markdown",
   "metadata": {
    "id": "nFeS6P3pO3c1"
   },
   "source": [
    "You may also **loop over key-value pairs** by using the `.items()` **method**:"
   ]
  },
  {
   "cell_type": "code",
   "execution_count": null,
   "metadata": {
    "colab": {
     "base_uri": "https://localhost:8080/"
    },
    "id": "R1NM7NC_PLGN",
    "outputId": "68b39296-c33a-44bc-dece-518892c4000c"
   },
   "outputs": [
    {
     "name": "stdout",
     "output_type": "stream",
     "text": [
      "Last state of dict: {'key2': 3, 'key3': 6}\n",
      "key2 : 3\n",
      "key3 : 6\n"
     ]
    }
   ],
   "source": [
    "print(\"Last state of dict:\", my_dictionary)\n",
    "\n",
    "for key, value in my_dictionary.items():\n",
    "  print(key, \":\", value)"
   ]
  },
  {
   "cell_type": "markdown",
   "metadata": {
    "id": "igje2RDLPXYX"
   },
   "source": [
    "This allows you to directly access the value in the loop. But note that within the loop, the object `value` is now distinct from the data in the dictionary (i.e. `my_dictionary[key]`). This means if you wish to update the actual value in the dictionary, you should still use `my_dictionary[key]`:"
   ]
  },
  {
   "cell_type": "code",
   "execution_count": null,
   "metadata": {
    "colab": {
     "base_uri": "https://localhost:8080/"
    },
    "id": "m084Yz-nQqoU",
    "outputId": "c2639d6c-5f2f-416c-a979-93a47c1fc74f"
   },
   "outputs": [
    {
     "name": "stdout",
     "output_type": "stream",
     "text": [
      "Original state of dict: {'key1': 1, 'key2': 3, 'key3': 6}\n",
      "key1 : 1\n",
      "key2 : 5\n",
      "key3 : 6\n",
      "Last state of dict:     {'key1': 1, 'key2': 3, 'key3': 6}\n",
      "key1 : 1\n",
      "key2 : 3\n",
      "key3 : 6\n",
      "Last state of dict:     {'key1': 1, 'key2': 5, 'key3': 6}\n"
     ]
    }
   ],
   "source": [
    "my_dictionary = { 'key1' : 1, 'key2' : 3, 'key3' : 6 }\n",
    "print(\"Original state of dict:\", my_dictionary)\n",
    "\n",
    "for key, value in my_dictionary.items():\n",
    "  if key == 'key2':\n",
    "    value = 5       # Changing value does not affect the original dictionary\n",
    "  print(key, \":\", value)\n",
    "\n",
    "print(\"Last state of dict:    \", my_dictionary)\n",
    "\n",
    "for key, value in my_dictionary.items():\n",
    "  if key == 'key2':\n",
    "    my_dictionary[key] = 5\n",
    "  print(key, \":\", value)\n",
    "\n",
    "print(\"Last state of dict:    \", my_dictionary)"
   ]
  },
  {
   "cell_type": "markdown",
   "metadata": {
    "id": "2njtF8jt0_LX"
   },
   "source": [
    "> **Exercise**: Recall our list of possible locations for Waldo, which is pasted below. **Edit the syntax** to turn these lists into a single dictionary. Then, print out the third name in the list of people at the office.\n",
    ">\n",
    "> *Hint: You will have to manually type in the key names as strings when making the dictionary.*"
   ]
  },
  {
   "cell_type": "code",
   "execution_count": null,
   "metadata": {
    "colab": {
     "base_uri": "https://localhost:8080/"
    },
    "id": "7BR28B4p1Ota",
    "outputId": "675e1e3d-68ab-484f-979b-928b2d9abaaa"
   },
   "outputs": [
    {
     "name": "stdout",
     "output_type": "stream",
     "text": [
      "Alexander\n"
     ]
    }
   ],
   "source": [
    "# Original lists\n",
    "beach_tourists=[\"Alice\",\"Mason\",\"Emma\",\"Liam\",\"Olivia\",\"Walden\",\"Ethan\",\"Sophia\",\"Oliver\",\"Ava\",\"Mia\",\"William\",\"Logan\",\"Lucas\",\"Charlotte\",\"Amelia\",\"Harper\",\"James\"]\n",
    "music_festival_attendees=[\"Jackson\",\"Sophia\",\"Aiden\",\"Isabella\",\"Lucas\",\"Noah\",\"Levi\",\"Benjamin\",\"Elijah\",\"Mason\",\"Elena\",\"Eliana\",\"Mateo\",\"Jack\",\"Luna\",\"Eleanor\",\"Ezra\",\"Willow\",\"Henry\"]\n",
    "history_class_students=[\"Emily\",\"James\",\"Wally\",\"Ella\",\"Jacob\",\"Amelia\",\"Michael\",\"Evelyn\",\"Alexander\",\"Avery\",\"Mila\",\"Aria\",\"Ella\",\"Layla\",\"Scarlett\",\"Grace\",\"Wyatt\",\"Waldo\",\"Ellie\",\"Paisley\",\"Daniel\"]\n",
    "office_building_employees=[\"Walter\",\"Charlotte\",\"Alexander\",\"Scarlett\",\"Michael\",\"Victoria\",\"Samuel\",\"Aubrey\",\"Olive\",\"Nathan\",\"Camila\",\"Gabriel\",\"Isaac\",\"Savannah\",\"Gabriella\",\"Nora\",\"Chloe\",\"Zoe\",\"Stella\",\"Riley\"]\n",
    "marathon_participants=[\"Daniel\",\"Harper\",\"Henry\",\"Grace\",\"Sebastian\",\"Hannah\",\"Victoria\",\"Archer\",\"Aurora\",\"Brooklyn\",\"Parker\",\"Elias\",\"Adeline\",\"Julia\",\"David\",\"Liam\",\"Josie\",\"Carter\",\"Jaxon\"]\n",
    "\n",
    "# Your code to convert these into a dictionary\n",
    "locations = {\n",
    "    \"beach\" : beach_tourists,\n",
    "    \"music-fesitval\" : music_festival_attendees,\n",
    "    \"history-class\" : history_class_students,\n",
    "    \"office\" : office_building_employees,\n",
    "    \"marathon\" : marathon_participants\n",
    "}\n",
    "\n",
    "print(locations[\"office\"][2])"
   ]
  },
  {
   "cell_type": "markdown",
   "metadata": {
    "id": "IwF_F0Av19ma"
   },
   "source": [
    "> **Exercise**: Build the dictionary **dynamically** by looping over a list of the lists of names. We have provided the list of lists as well as a list of desired key names for the dictionary. You will need to:\n",
    "> * Initialize and store an empty list with `= {}`\n",
    "> * Loop over one of the provided lists *by index* (recall the `range(len())` procedure)\n",
    "> * Access the appropriate key name and list *by index* within the loop and add them to the dictionary"
   ]
  },
  {
   "cell_type": "code",
   "execution_count": null,
   "metadata": {
    "colab": {
     "base_uri": "https://localhost:8080/"
    },
    "id": "n-ogoPt42IRr",
    "outputId": "9d152acf-f02c-435d-bd2e-32ff6524d2ab"
   },
   "outputs": [
    {
     "name": "stdout",
     "output_type": "stream",
     "text": [
      "Alexander\n"
     ]
    }
   ],
   "source": [
    "# Original lists\n",
    "beach_tourists=[\"Alice\",\"Mason\",\"Emma\",\"Liam\",\"Olivia\",\"Walden\",\"Ethan\",\"Sophia\",\"Oliver\",\"Ava\",\"Mia\",\"William\",\"Logan\",\"Lucas\",\"Charlotte\",\"Amelia\",\"Harper\",\"James\"]\n",
    "music_festival_attendees=[\"Jackson\",\"Sophia\",\"Aiden\",\"Isabella\",\"Lucas\",\"Noah\",\"Levi\",\"Benjamin\",\"Elijah\",\"Mason\",\"Elena\",\"Eliana\",\"Mateo\",\"Jack\",\"Luna\",\"Eleanor\",\"Ezra\",\"Willow\",\"Henry\"]\n",
    "history_class_students=[\"Emily\",\"James\",\"Wally\",\"Ella\",\"Jacob\",\"Amelia\",\"Michael\",\"Evelyn\",\"Alexander\",\"Avery\",\"Mila\",\"Aria\",\"Ella\",\"Layla\",\"Scarlett\",\"Grace\",\"Wyatt\",\"Waldo\",\"Ellie\",\"Paisley\",\"Daniel\"]\n",
    "office_building_employees=[\"Walter\",\"Charlotte\",\"Alexander\",\"Scarlett\",\"Michael\",\"Victoria\",\"Samuel\",\"Aubrey\",\"Olive\",\"Nathan\",\"Camila\",\"Gabriel\",\"Isaac\",\"Savannah\",\"Gabriella\",\"Nora\",\"Chloe\",\"Zoe\",\"Stella\",\"Riley\"]\n",
    "marathon_participants=[\"Daniel\",\"Harper\",\"Henry\",\"Grace\",\"Sebastian\",\"Hannah\",\"Victoria\",\"Archer\",\"Aurora\",\"Brooklyn\",\"Parker\",\"Elias\",\"Adeline\",\"Julia\",\"David\",\"Liam\",\"Josie\",\"Carter\",\"Jaxon\"]\n",
    "\n",
    "# List of lists and list of desired key names\n",
    "all_names = [ beach_tourists, music_festival_attendees, history_class_students, office_building_employees, marathon_participants ]\n",
    "key_names = [\"beach\", \"music-festival\", \"history-class\", \"office\", \"marathon\"]\n",
    "\n",
    "# Your code here\n",
    "\n",
    "locations = {}\n",
    "\n",
    "for i in range(len(key_names)):\n",
    "  cur_key = key_names[i]\n",
    "  cur_names = all_names[i]\n",
    "\n",
    "  locations[cur_key] = cur_names\n",
    "\n",
    "print(locations[\"office\"][2])"
   ]
  },
  {
   "cell_type": "markdown",
   "metadata": {
    "id": "rX54-4Z28CdO"
   },
   "source": [
    "#### Dictionary inclusion with `in`\n",
    "\n",
    "Like strings and lists, the `in` keyword works to check if something is in a dictionary. However, for dictionaries, `in` specifically checks whether something is a **key** of the dictionary. To check if something exists as a value, one would have to check that manually by doing key lookups."
   ]
  },
  {
   "cell_type": "code",
   "execution_count": null,
   "metadata": {
    "colab": {
     "base_uri": "https://localhost:8080/"
    },
    "id": "Ojl3nFWh9FCF",
    "outputId": "a394b0f8-4a89-4e12-f013-4cf11e9778bf"
   },
   "outputs": [
    {
     "name": "stdout",
     "output_type": "stream",
     "text": [
      "Found sample1\n",
      "Did not find 0.93\n",
      "Found 0.93 in sample1\n"
     ]
    }
   ],
   "source": [
    "my_mixed_dictionary = { 'column-headers' : ['condition', 'time.point', 'measure'],\n",
    "                        'sample1' : [1, 1, 0.93],\n",
    "                        'sample2' : [1, 2, 0.88],\n",
    "                        'sample3' : [2, 1, 0.94],\n",
    "                        'meta-info' : \"This dataset is made up to show the flexibility of dictionary values.\"\n",
    "                }\n",
    "\n",
    "# Check for inclusion in keys of a dict\n",
    "if 'sample1' in my_mixed_dictionary:\n",
    "  print(\"Found sample1\")\n",
    "else:\n",
    "  print(\"Did not find sample1\")\n",
    "\n",
    "# If the provided object is not a key it will not be found\n",
    "if 0.93 in my_mixed_dictionary:\n",
    "  print(\"Found 0.93\")\n",
    "else:\n",
    "  print(\"Did not find 0.93\")\n",
    "\n",
    "# To search values, access by key directly\n",
    "if 0.93 in my_mixed_dictionary['sample1']:\n",
    "  print(\"Found 0.93 in sample1\")\n",
    "else:\n",
    "  print(\"Did not find 0.93 in sample1\")\n"
   ]
  },
  {
   "cell_type": "markdown",
   "metadata": {
    "id": "5hpzoB_n94wm"
   },
   "source": [
    "> **Exercise**: Using our `locations` dictionary that has places as keys and lists of names as values, find if Waldo is in any of the locations. This time, if he is there, display in which location he was found."
   ]
  },
  {
   "cell_type": "code",
   "execution_count": null,
   "metadata": {
    "colab": {
     "base_uri": "https://localhost:8080/"
    },
    "id": "aGLSDJlc-Mgq",
    "outputId": "788fcce2-81c5-4500-ea7c-db92439adea3"
   },
   "outputs": [
    {
     "name": "stdout",
     "output_type": "stream",
     "text": [
      "Searching for Waldo at the beach\n",
      "Searching for Waldo at the music-festival\n",
      "Searching for Waldo at the history-class\n",
      "Found Waldo at the history-class !!\n",
      "Searching for Waldo at the office\n",
      "Searching for Waldo at the marathon\n"
     ]
    }
   ],
   "source": [
    "# Original lists\n",
    "beach_tourists=[\"Alice\",\"Mason\",\"Emma\",\"Liam\",\"Olivia\",\"Walden\",\"Ethan\",\"Sophia\",\"Oliver\",\"Ava\",\"Mia\",\"William\",\"Logan\",\"Lucas\",\"Charlotte\",\"Amelia\",\"Harper\",\"James\"]\n",
    "music_festival_attendees=[\"Jackson\",\"Sophia\",\"Aiden\",\"Isabella\",\"Lucas\",\"Noah\",\"Levi\",\"Benjamin\",\"Elijah\",\"Mason\",\"Elena\",\"Eliana\",\"Mateo\",\"Jack\",\"Luna\",\"Eleanor\",\"Ezra\",\"Willow\",\"Henry\"]\n",
    "history_class_students=[\"Emily\",\"James\",\"Wally\",\"Ella\",\"Jacob\",\"Amelia\",\"Michael\",\"Evelyn\",\"Alexander\",\"Avery\",\"Mila\",\"Aria\",\"Ella\",\"Layla\",\"Scarlett\",\"Grace\",\"Wyatt\",\"Waldo\",\"Ellie\",\"Paisley\",\"Daniel\"]\n",
    "office_building_employees=[\"Walter\",\"Charlotte\",\"Alexander\",\"Scarlett\",\"Michael\",\"Victoria\",\"Samuel\",\"Aubrey\",\"Olive\",\"Nathan\",\"Camila\",\"Gabriel\",\"Isaac\",\"Savannah\",\"Gabriella\",\"Nora\",\"Chloe\",\"Zoe\",\"Stella\",\"Riley\"]\n",
    "marathon_participants=[\"Daniel\",\"Harper\",\"Henry\",\"Grace\",\"Sebastian\",\"Hannah\",\"Victoria\",\"Archer\",\"Aurora\",\"Brooklyn\",\"Parker\",\"Elias\",\"Adeline\",\"Julia\",\"David\",\"Liam\",\"Josie\",\"Carter\",\"Jaxon\"]\n",
    "\n",
    "# List of lists and list of desired key names\n",
    "all_names = [ beach_tourists, music_festival_attendees, history_class_students, office_building_employees, marathon_participants ]\n",
    "key_names = [\"beach\", \"music-festival\", \"history-class\", \"office\", \"marathon\"]\n",
    "\n",
    "# Build the locations dictionary dynamically\n",
    "locations = {}\n",
    "\n",
    "for i in range(len(key_names)):\n",
    "  cur_key = key_names[i]\n",
    "  cur_names = all_names[i]\n",
    "\n",
    "  locations[cur_key] = cur_names\n",
    "\n",
    "# Your code here\n",
    "\n",
    "for location in locations:\n",
    "  print(\"Searching for Waldo at the\", location)\n",
    "  if \"Waldo\" in locations[location]:\n",
    "    print(\"Found Waldo at the\", location, \"!!\")"
   ]
  },
  {
   "cell_type": "markdown",
   "metadata": {
    "id": "GAyklIWf-le5"
   },
   "source": [
    "Hopefully the benefits of dictionaries are becoming apparent."
   ]
  },
  {
   "cell_type": "markdown",
   "metadata": {
    "id": "J7LxlTR_RcgE"
   },
   "source": [
    "#### Dictionary methods and functions\n",
    "\n",
    "Now that we know a bit about dictionary creation and manipulation, let's look at some built-in ways, methods and functions, to work with them.\n",
    "\n",
    "1.   `.keys()` and `.values()` : returns an object that contains the dictionary's keys or values, respectively. This can be used to loop over the keys or values, or to convert them into a list of the keys or values with the `list()` function:"
   ]
  },
  {
   "cell_type": "code",
   "execution_count": null,
   "metadata": {
    "colab": {
     "base_uri": "https://localhost:8080/"
    },
    "id": "4nujd9MNDAqV",
    "outputId": "809ea3a6-7709-4f59-bb4e-2c7ffd9e67e1"
   },
   "outputs": [
    {
     "name": "stdout",
     "output_type": "stream",
     "text": [
      "key1 : 1\n",
      "key2 : 3\n",
      "key3 : 6\n",
      "1\n",
      "3\n",
      "6\n",
      "True\n",
      "False\n"
     ]
    }
   ],
   "source": [
    "my_dictionary = { 'key1' : 1, 'key2' : 3, 'key3' : 6 }\n",
    "\n",
    "# You can use .keys() to loop over the keys in a dict, but\n",
    "# this is the same behavior as using a for loop on the dict alone\n",
    "for key in my_dictionary.keys():\n",
    "  print(key, \":\", my_dictionary[key])\n",
    "\n",
    "# You can loop over the values, but you lose the association with the keys\n",
    "for value in my_dictionary.values():\n",
    "  print(value)\n",
    "\n",
    "# You can convert either to a list and check for inclusion of things\n",
    "my_keys = list(my_dictionary.keys())\n",
    "my_values = list(my_dictionary.values())\n",
    "\n",
    "print('key1' in my_keys)\n",
    "print(7 in my_values)"
   ]
  },
  {
   "cell_type": "markdown",
   "metadata": {
    "id": "s3GQMrQADsQ4"
   },
   "source": [
    "2.   The `list()` function, introduced above, can also be used directly on the dictionary to get a list of the keys:"
   ]
  },
  {
   "cell_type": "code",
   "execution_count": null,
   "metadata": {
    "colab": {
     "base_uri": "https://localhost:8080/"
    },
    "id": "gSr5RjdND1G5",
    "outputId": "522aa50e-dbef-4bed-db76-cdb32453d594"
   },
   "outputs": [
    {
     "name": "stdout",
     "output_type": "stream",
     "text": [
      "['key1', 'key2', 'key3']\n"
     ]
    }
   ],
   "source": [
    "my_dictionary = { 'key1' : 1, 'key2' : 3, 'key3' : 6 }\n",
    "print(list(my_dictionary))"
   ]
  },
  {
   "cell_type": "markdown",
   "metadata": {
    "id": "rYX_j4e3ELG5"
   },
   "source": [
    "3.   `.update(x)` : add `x` to the dictionary. Especially useful for **combining dictionaries** if `x` is another dictionary, though be careful of overlapping keys - only the value from the new dictionary will be retained."
   ]
  },
  {
   "cell_type": "code",
   "execution_count": null,
   "metadata": {
    "colab": {
     "base_uri": "https://localhost:8080/"
    },
    "id": "R0yWfaJJEkm7",
    "outputId": "410a006c-dd73-4490-a6e9-869562df9197"
   },
   "outputs": [
    {
     "name": "stdout",
     "output_type": "stream",
     "text": [
      "Original: {'key1': 1, 'key2': 3, 'key3': 6}\n",
      "Updated: {'key1': 1, 'key2': 3, 'key3': 6, 'key4': 9, 'key5': 2}\n",
      "---\n",
      "key1: 1\n",
      "Updated with overwitten key: {'key1': 99, 'key2': 3, 'key3': 6, 'key4': 9, 'key5': 2}\n",
      "updated key1: 99\n"
     ]
    }
   ],
   "source": [
    "my_dictionary = { 'key1' : 1, 'key2' : 3, 'key3' : 6 }\n",
    "print(\"Original:\", my_dictionary)\n",
    "\n",
    "# .update() updates the dictionary in place, so no need to use =\n",
    "my_dictionary.update( {'key4' : 9, 'key5' : 2} )\n",
    "print(\"Updated:\", my_dictionary)\n",
    "\n",
    "print(\"---\")\n",
    "\n",
    "# Watch out for overlapping keys which overwrite the values!\n",
    "print(\"key1:\", my_dictionary['key1'])\n",
    "my_dictionary.update( {'key1' : 99 } )\n",
    "print(\"Updated with overwitten key1:\", my_dictionary)\n",
    "print(\"updated key1:\", my_dictionary['key1'])"
   ]
  },
  {
   "cell_type": "markdown",
   "metadata": {
    "id": "yvZa5Rb0FS7M"
   },
   "source": [
    "4.   `len(dictionary)` : the trusty `len()` function can also be passed a dictionary, in which case it returns the number of keys in the dictionary:\n",
    "\n"
   ]
  },
  {
   "cell_type": "code",
   "execution_count": null,
   "metadata": {
    "colab": {
     "base_uri": "https://localhost:8080/"
    },
    "id": "cbO9YgmmFf9f",
    "outputId": "f927762c-b6d2-4b48-f97e-dc4128e43ed4"
   },
   "outputs": [
    {
     "name": "stdout",
     "output_type": "stream",
     "text": [
      "There are 3 keys in the dictionary\n"
     ]
    }
   ],
   "source": [
    "my_dictionary = { 'key1' : 1, 'key2' : 3, 'key3' : 6 }\n",
    "\n",
    "num_keys = len(my_dictionary)\n",
    "\n",
    "print(\"There are\", num_keys, \"keys in the dictionary\")"
   ]
  },
  {
   "cell_type": "markdown",
   "metadata": {
    "id": "yCM35FKgGEaM"
   },
   "source": [
    "#### Dictionary BONUS exercise\n",
    "\n",
    "**BONUS EXERCISE**: Use what we've learned about dictionaries and lists to move Waldo from his current location to the marathon. Careful, he might have moved since last time!"
   ]
  },
  {
   "cell_type": "code",
   "execution_count": null,
   "metadata": {
    "colab": {
     "base_uri": "https://localhost:8080/"
    },
    "id": "5gpkxUpdGQjZ",
    "outputId": "bad98815-77fd-493f-ee4e-9e51b5bd4eb7"
   },
   "outputs": [
    {
     "name": "stdout",
     "output_type": "stream",
     "text": [
      "Waldo is not at the marathon.\n",
      "Waldo found at the music-festival - Moving him to the marathon.\n",
      "Waldo is at the marathon.\n"
     ]
    }
   ],
   "source": [
    "# Original lists\n",
    "beach_tourists=[\"Alice\",\"Mason\",\"Emma\",\"Liam\",\"Olivia\",\"Walden\",\"Ethan\",\"Sophia\",\"Oliver\",\"Ava\",\"Mia\",\"William\",\"Logan\",\"Lucas\",\"Charlotte\",\"Amelia\",\"Harper\",\"James\"]\n",
    "music_festival_attendees=[\"Jackson\",\"Sophia\",\"Aiden\",\"Isabella\",\"Lucas\",\"Noah\",\"Levi\",\"Benjamin\",\"Elijah\",\"Mason\",\"Elena\",\"Eliana\",\"Mateo\",\"Jack\",\"Luna\",\"Eleanor\",\"Ezra\",\"Waldo\",\"Willow\",\"Henry\"]\n",
    "history_class_students=[\"Emily\",\"James\",\"Wally\",\"Ella\",\"Jacob\",\"Amelia\",\"Michael\",\"Evelyn\",\"Alexander\",\"Avery\",\"Mila\",\"Aria\",\"Ella\",\"Layla\",\"Scarlett\",\"Grace\",\"Wyatt\",\"Ellie\",\"Paisley\",\"Daniel\"]\n",
    "office_building_employees=[\"Walter\",\"Charlotte\",\"Alexander\",\"Scarlett\",\"Michael\",\"Victoria\",\"Samuel\",\"Aubrey\",\"Olive\",\"Nathan\",\"Camila\",\"Gabriel\",\"Isaac\",\"Savannah\",\"Gabriella\",\"Nora\",\"Chloe\",\"Zoe\",\"Stella\",\"Riley\"]\n",
    "marathon_participants=[\"Daniel\",\"Harper\",\"Henry\",\"Grace\",\"Sebastian\",\"Hannah\",\"Victoria\",\"Archer\",\"Aurora\",\"Brooklyn\",\"Parker\",\"Elias\",\"Adeline\",\"Julia\",\"David\",\"Liam\",\"Josie\",\"Carter\",\"Jaxon\"]\n",
    "\n",
    "# List of lists and list of desired key names\n",
    "all_names = [ beach_tourists, music_festival_attendees, history_class_students, office_building_employees, marathon_participants ]\n",
    "key_names = [\"beach\", \"music-festival\", \"history-class\", \"office\", \"marathon\"]\n",
    "\n",
    "# Shortcut to build the locations dictionary dynamically\n",
    "locations = dict(zip(key_names, all_names)) ## Woah!\n",
    "\n",
    "# Check and print if Waldo is at the marathon initially\n",
    "if \"Waldo\" in locations['marathon']:\n",
    "    print(\"Waldo is now at the marathon.\")\n",
    "else:\n",
    "    print(\"Waldo is not at the marathon.\")\n",
    "\n",
    "# Your code below to move Waldo to the marathon\n",
    "for location in locations:\n",
    "    if \"Waldo\" in locations[location]:\n",
    "        print(\"Waldo found at the\", location, \"- Moving him to the marathon.\")\n",
    "        waldo_found=True\n",
    "\n",
    "        # Remove Waldo from the current location\n",
    "        locations[location].remove(\"Waldo\")\n",
    "\n",
    "if not waldo_found:\n",
    "    print(\"Waldo was not found in any location.\")\n",
    "else:\n",
    "    locations['marathon'].append(\"Waldo\")\n",
    "# Your code above to move Waldo to the marathon\n",
    "\n",
    "# Check and print if Waldo has been moved to the marathon\n",
    "if \"Waldo\" in locations['marathon']:\n",
    "    print(\"Waldo is now at the marathon.\")\n",
    "else:\n",
    "    print(\"Waldo is not at the marathon.\")"
   ]
  },
  {
   "cell_type": "markdown",
   "metadata": {
    "id": "snamAoW-LE-K"
   },
   "source": [
    "### Other iterables\n",
    "\n",
    "While strings, lists, and dictionaries are the main iterables we'll be working with, there are a couple of others that are worth a mention just so you are familiar with them."
   ]
  },
  {
   "cell_type": "markdown",
   "metadata": {
    "id": "ibsqRLKlH56l"
   },
   "source": [
    "#### Tuples\n",
    "\n",
    "Tuples are just like lists, except they are **immutable**:"
   ]
  },
  {
   "cell_type": "code",
   "execution_count": null,
   "metadata": {
    "colab": {
     "base_uri": "https://localhost:8080/"
    },
    "id": "eK2PflaXIGw-",
    "outputId": "74ecfbd8-67fa-4e93-8e62-55789ec88392"
   },
   "outputs": [
    {
     "name": "stdout",
     "output_type": "stream",
     "text": [
      "(1, 2, 3, 4, 5)\n",
      "2\n",
      "---\n",
      "world\n",
      "('adshgadk', 985, 'world', -12, 'hello')\n"
     ]
    }
   ],
   "source": [
    "my_tuple = (1, 2, 3, 4, 5)\n",
    "print(my_tuple)\n",
    "print(my_tuple[1])\n",
    "\n",
    "print(\"---\")\n",
    "\n",
    "my_tuple2 = (\"hello\", -12, \"world\", 985, \"adshgadk\")\n",
    "print(my_tuple2[2])\n",
    "print(my_tuple2[::-1])"
   ]
  },
  {
   "cell_type": "markdown",
   "metadata": {
    "id": "vsCfUewFIOug"
   },
   "source": [
    "Note that tuples are defined with regular parentheses `()` rather than square brackets `[]`.\n",
    "\n",
    "As mentioned above, tuples are immutable:"
   ]
  },
  {
   "cell_type": "code",
   "execution_count": null,
   "metadata": {
    "colab": {
     "base_uri": "https://localhost:8080/",
     "height": 216
    },
    "id": "l2oo9NS7IZNH",
    "outputId": "fb83f12a-e896-4333-d204-447946cb0062"
   },
   "outputs": [
    {
     "name": "stdout",
     "output_type": "stream",
     "text": [
      "(1, 2, 3, 4, 5)\n",
      "2\n"
     ]
    },
    {
     "ename": "TypeError",
     "evalue": "'tuple' object does not support item assignment",
     "output_type": "error",
     "traceback": [
      "\u001b[0;31m---------------------------------------------------------------------------\u001b[0m",
      "\u001b[0;31mTypeError\u001b[0m                                 Traceback (most recent call last)",
      "\u001b[0;32m<ipython-input-22-2210a4921f31>\u001b[0m in \u001b[0;36m<cell line: 5>\u001b[0;34m()\u001b[0m\n\u001b[1;32m      3\u001b[0m \u001b[0mprint\u001b[0m\u001b[0;34m(\u001b[0m\u001b[0mmy_tuple\u001b[0m\u001b[0;34m[\u001b[0m\u001b[0;36m1\u001b[0m\u001b[0;34m]\u001b[0m\u001b[0;34m)\u001b[0m\u001b[0;34m\u001b[0m\u001b[0;34m\u001b[0m\u001b[0m\n\u001b[1;32m      4\u001b[0m \u001b[0;34m\u001b[0m\u001b[0m\n\u001b[0;32m----> 5\u001b[0;31m \u001b[0mmy_tuple\u001b[0m\u001b[0;34m[\u001b[0m\u001b[0;36m1\u001b[0m\u001b[0;34m]\u001b[0m \u001b[0;34m=\u001b[0m \u001b[0;36m7\u001b[0m\u001b[0;34m\u001b[0m\u001b[0;34m\u001b[0m\u001b[0m\n\u001b[0m",
      "\u001b[0;31mTypeError\u001b[0m: 'tuple' object does not support item assignment"
     ]
    }
   ],
   "source": [
    "my_tuple = (1, 2, 3, 4, 5)\n",
    "print(my_tuple)\n",
    "print(my_tuple[1])\n",
    "\n",
    "my_tuple[1] = 7"
   ]
  },
  {
   "cell_type": "markdown",
   "metadata": {
    "id": "exRIHxdDIrgK"
   },
   "source": [
    "Tuples are often returned by built-in functions and methods, so if you ever see data surrounded by parentheses `()`, you'll know what it is now.\n",
    "\n",
    "Easily enough, tuples can also be converted to lists with the `list()` function:"
   ]
  },
  {
   "cell_type": "code",
   "execution_count": null,
   "metadata": {
    "colab": {
     "base_uri": "https://localhost:8080/"
    },
    "id": "MwlCXNQqI7UC",
    "outputId": "b2a77c76-ae71-4591-cc48-71b428ae4d65"
   },
   "outputs": [
    {
     "name": "stdout",
     "output_type": "stream",
     "text": [
      "(1, 2, 3, 4, 5)\n",
      "[1, 2, 3, 4, 5]\n"
     ]
    }
   ],
   "source": [
    "my_tuple = (1, 2, 3, 4, 5)\n",
    "my_list = list(my_tuple)\n",
    "\n",
    "print(my_tuple)\n",
    "print(my_list)"
   ]
  },
  {
   "cell_type": "markdown",
   "metadata": {
    "id": "mP-3sKy7JBrz"
   },
   "source": [
    "And, unlike lists, tuples can be used as keys in dictionaries:"
   ]
  },
  {
   "cell_type": "code",
   "execution_count": null,
   "metadata": {
    "colab": {
     "base_uri": "https://localhost:8080/"
    },
    "id": "m7YL3EhTJFEJ",
    "outputId": "318cdaa7-7d59-44b9-a3a0-795382aeb731"
   },
   "outputs": [
    {
     "name": "stdout",
     "output_type": "stream",
     "text": [
      "{'key1': 1, 'key2': 3, ('k', 'e', 'y', 3): 6}\n"
     ]
    }
   ],
   "source": [
    "my_dictionary = { 'key1' : 1, ('key2') : 3, ('k', 'e', 'y', 3) : 6 }\n",
    "print(my_dictionary)"
   ]
  },
  {
   "cell_type": "markdown",
   "metadata": {
    "id": "S-t5utItKR7G"
   },
   "source": [
    "#### Sets\n",
    "\n",
    "Sets are essentially lists of unique elements. They allow us to perform powerful set operations on different lists, say to get the union or intersection of two lists.\n",
    "\n",
    "Sets can be defined on their own with curly brackets `{}`, though unlike dictionaries sets do not have key-value pairs. Sets can also be created from lists with the `set()` function. This also has the benefit of removing duplicate elements from the list, which may be desireable in certain circumstances."
   ]
  },
  {
   "cell_type": "code",
   "execution_count": null,
   "metadata": {
    "colab": {
     "base_uri": "https://localhost:8080/"
    },
    "id": "YzqEGxfIK4I2",
    "outputId": "caddf7f7-dea0-479c-8e91-23da6628dfaf"
   },
   "outputs": [
    {
     "name": "stdout",
     "output_type": "stream",
     "text": [
      "{1, 2, 3, 4, 5}\n",
      "---\n",
      "[1, 2, 3, 4, 5]\n"
     ]
    }
   ],
   "source": [
    "my_set = {1, 2, 3, 4, 5}\n",
    "print(my_set)\n",
    "\n",
    "print(\"---\")\n",
    "\n",
    "# Sets can be used to remove duplicates from a list\n",
    "my_list = (1, 1, 1, 2, 3, 3, 4, 5)\n",
    "my_uniq_list = list(set(my_list))\n",
    "print(my_uniq_list)"
   ]
  },
  {
   "cell_type": "markdown",
   "metadata": {
    "id": "kHYJwErPLOHp"
   },
   "source": [
    "And as mentioned above, set operations can be performed. This would introduce a whole new set of operators and methods, so we won't get into it here. But set operations can be really useful, so look them up if you ever need them."
   ]
  },
  {
   "cell_type": "markdown",
   "metadata": {
    "id": "rMOn9t3TLGU3"
   },
   "source": [
    "### Iterable review\n",
    "\n",
    "*   **Iterables** are objects you can loop over using a `for` loop and check for inclusion with `in`.\n",
    "*   **Strings** are iterable, with the individual elements being characters.\n",
    "*   **Lists** are iterable collections of potentially mixed data types, with each element being one data object\n",
    "*   **Lists and strings are indexed**, meaning each element is assigned, a number starting from 0, based on its position in the iterable. Indexing can be used to slice and splice lists and strings.\n",
    "*   **Dictionaries** are iterables of **key-value pairs**, which allow association of one piece of information to another, potentially for labeling.\n",
    "\n"
   ]
  },
  {
   "cell_type": "markdown",
   "metadata": {},
   "source": [
    "## Commenting your code\n",
    "\n",
    "You've probably seen the lines of code starting with the `#` symbol (known as a number sign, hashtag, pound sign, or octothorp) throughout our workshop. These lines are called **comments**. Comments must start with `#` but afterwards can contain anything, even python keywords like `in`, `if`, `for`, etc. This is because that Python is programmed such that if the interpreter encounters a line starting with `#`, it simply ignores it. It does not try to execute it as a line of code.\n",
    "\n",
    "This allows programmers to document their code in fine detail, section-by-section or even line-by-line. A good rule of thumb is to write a comment for every chunk of code that does something specific, or if it is not obvious why you had to write code that way. These comments will primarily benefit yourself for when you go back to your code and ask yourself, \"Why did I do it this way?\". It is also good practice to have comments exist on their own line rather than in-line with your code."
   ]
  },
  {
   "cell_type": "markdown",
   "metadata": {
    "id": "3TW7FABuqqrI"
   },
   "source": [
    "## Day 2 review\n",
    "\n",
    "We covered a lot of ground today. Since we learned about `for` loops, we needed to learn about all the **iterables** in Python so that we know everything we can loop over.\n",
    "\n",
    "*   **Iterables** are data structures that are collections of individual elements that can be looped over with `for`.\n",
    "*   **Lists** are mixed collections of any type of data. They are **indexed** and **mutable**.\n",
    "*   **Dictionaries** are mixed collections of any type of data in the form of **key-value pairs**. This allows association between one piece of information and another, for quick look-up and labeling.\n",
    "\n",
    "We also learned that we can write our own functions!\n",
    "\n",
    "*   If we write a piece of code we end up using a lot, it is a good idea to **generalize it as a function**.\n",
    "*   Functions are defined with `def`, a function name, and arguments within parentheses `()` followed by a colon `:`.\n",
    "*   Any code we want to be in our function must be **indented as a block of code**.\n",
    "*   Functions take **arguments as input** and **`return` values as output**."
   ]
  }
 ],
 "metadata": {
  "colab": {
   "provenance": [],
   "toc_visible": true
  },
  "kernelspec": {
   "display_name": "Python 3",
   "language": "python",
   "name": "python3"
  },
  "language_info": {
   "codemirror_mode": {
    "name": "ipython",
    "version": 3
   },
   "file_extension": ".py",
   "mimetype": "text/x-python",
   "name": "python",
   "nbconvert_exporter": "python",
   "pygments_lexer": "ipython3",
   "version": "3.7.4"
  }
 },
 "nbformat": 4,
 "nbformat_minor": 0
}
