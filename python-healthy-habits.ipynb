{
 "cells": [
  {
   "cell_type": "markdown",
   "id": "46f32973",
   "metadata": {},
   "source": [
    "## Python Healthy Habits\n",
    "\n",
    "This is a companion Jupyter notebook to the six day FAS Informatics Python Intensive. This notebook collects tips, tricks, and healthy habits in python and programming in general that we couldn't fit in the main course or that were too heavy on lecture."
   ]
  },
  {
   "cell_type": "markdown",
   "id": "a25a263a",
   "metadata": {},
   "source": [
    "## How to get unstuck: troubleshooting/debugging\n",
    "\n",
    "In order to write larger programs, we need to hone our skills of troubleshooting. In this section, we're going to be talking about debugging code. We typically picture debugging as something that happens when you run something and there's an error message. However, there are many other reasons why we might want to take a closer look at our code and the tips here will be useful throughout the code-writing process.\n",
    "\n",
    "### Manual debugging\n",
    "\n",
    "Here are some steps to figure out what's wrong that just involve using your own brain. This is usually my first resort as it is quick and many issues end up being about a simple typo or missing step.\n",
    "\n",
    "* Read the error message\n",
    "    * What line does it refer to?\n",
    "    * What state should the code be in at that point?\n",
    "* (Re)Read your code\n",
    "    * Explain it line by line to another person or an inanimate object\n",
    "* Add error checks\n",
    "    * Print messages to check variables and progress - as a programmer you should develop the skills to have a good idea of the expected state of your variables in your program, so printing them out along the way is helpful to figure out where something is going wrong\n",
    "    * Peel back layers and test each layer (e.g. test each function)\n",
    "* Get another pair of eyes to look at it"
   ]
  },
  {
   "cell_type": "markdown",
   "id": "9a7a8b49",
   "metadata": {},
   "source": [
    "### Asking for help\n",
    "\n",
    "Often times, the quickest way to get unstuck is to ask someone for help. There are some steps you can take to make it easier for others to help you. You may know all the context of your code, but a friend or one of us at office hours is going in fresh. Here's some information that you should provide when asking for help (in approximate order of effort):\n",
    "\n",
    "1. Error message\n",
    "2. What you expected to happen\n",
    "3. What is the command you used\n",
    "4. Your environment/context\n",
    "5. A minimal reproducible example\n",
    "\n",
    "Numbers 1 through 3 are the bare minimum information, while 4 and 5 are helpful for trickier problems. Number 5 is especially important if you are asking for help in an asynchronous way, like on a forum or in an email. This allows the person helping you to run code to see the error message for themselves and test out solutions before getting back to you.\n",
    "\n",
    "If you're not familiar with **minimal reproducible examples**, it's a way to pare down your code to the smallest amount that still produces the error. Often in the process of doing this, you will find the error yourself. How to make a reproducible example (AKA **reprex**)? Here are some steps:\n",
    "\n",
    "1. Start with a fresh script\n",
    "2. Import only the libraries you need\n",
    "3. Create only the data objects/variables you need (You may need to generate data or subset your data if it's large)\n",
    "4. Write only the code that produces the error\n",
    "5. Annotate the code with comments to explain what you are trying to do\n",
    "\n",
    "If you want to then share this code (and the dummy data!) with someone else, you can either send the script to them or you can use a Python package called `reprexpy`, which will format both your code and your output in a way that is easy to post in plain text online or in an email. For more information see the docs for [reprexpy](https://reprexpy.readthedocs.io/en/latest/).  \n",
    "\n",
    "### Using your IDE's tools\n",
    "\n",
    "Programmers typically choose a text editor in which to write their code. Oftentimes, these text editors have extra features that aid programmers when coding (*e.g.* colored syntax, parentheses match highlighting, error checking). These text editors with extra featuers are called integrated development environments, or **IDEs**. RStudio is an example of an IDE, and other text editors have become so feature rich that they are essentially IDEs in practice, like [VScode](https://code.visualstudio.com/)\n",
    "\n",
    "Today, we are working in a Jupyter notebook in Google Colab, which has IDE-like features. There are some features that might be useful for examining your code. For example, you can use the `{x}` button on the left sidebar to examine the variables in your environment. You can also use the `print()` function within blocks of your code to see what is happening at each step."
   ]
  },
  {
   "cell_type": "markdown",
   "id": "919e4ea3",
   "metadata": {},
   "source": [
    "### Tests\n",
    "\n",
    "A very helpful approach to debugging - and, indeed, writing code in general - is to have some small input data that you can use to test. Ideally this should be something that runs fast and where you know what the expected output is. While this won't necessarily help you fix problems that cause your code to simply not execute, it can be extremely useful if you are not certain of how to program something, or if your program is running but with unexpected results.\n",
    "\n",
    "For example, if you have a dataset that you have manually processed, but now want to automate with a Python script or set of scripts, you will very likely want to check your code by running it against a test input that has a known output.\n",
    "\n",
    "This is particularly important if you are going to use LLMs for debugging, as discussed below. LLMs rarely make syntax errors, but do make logic errors."
   ]
  },
  {
   "cell_type": "markdown",
   "id": "8286f3f8",
   "metadata": {},
   "source": [
    "## Code annotation\n",
    "\n",
    "In the past couple of sessions, we have learned the building blocks of computer programs. We have just one more concept and activity before you are ready to write your random walk program. That is, **code annotation**. When you begin to write longer functions or scripts, it's important to leave breadcrumbs for yourself (and others) about what your code does. While you can sprinkle `#comments` throughout your program, there are also some standardized ways to do so.\n",
    "\n",
    "If you are annotating functions, you should use something called a **\"docstring\"**. This is a string that is the first line of a function and is enclosed in triple quotes. It should describe what the function does, what inputs it takes, and what it returns. Here is an example of a docstring:\n",
    "\n",
    "```python\n",
    "def add(x, y):\n",
    "    \"\"\"\n",
    "    This function adds two numbers together.\n",
    "    \n",
    "    Parameters:\n",
    "    x (int): The first number to add\n",
    "    y (int): The second number to add\n",
    "    \n",
    "    Returns:\n",
    "    int: The sum of x and y\n",
    "    \"\"\"\n",
    "    return x + y\n",
    "```\n",
    "Notice that the docstring helps the user of the function remember the type of input the function takes and what it returns.\n",
    "\n",
    "In contrast, if you are annotating a script, which may be calling many functions, you should use comments. Comments are denoted by a `#` symbol. Here is an example of a commented script:"
   ]
  },
  {
   "cell_type": "code",
   "execution_count": null,
   "id": "39f2bed6",
   "metadata": {},
   "outputs": [],
   "source": [
    "# This script adds two numbers together and prints it\n",
    "# Author: Your Name\n",
    "\n",
    "# Import the necessary libraries\n",
    "import numpy as np\n",
    "\n",
    "# Define the use input function\n",
    "def user_input():\n",
    "    \"\"\"\n",
    "    This function asks the user for two numbers.\n",
    "    \n",
    "    Returns:\n",
    "    int: The first number the user inputs\n",
    "    int: The second number the user inputs\n",
    "    \"\"\"\n",
    "    x = int(input(\"Enter the first number: \"))\n",
    "    y = int(input(\"Enter the second number: \"))\n",
    "    return x, y\n",
    "\n",
    "# Define the add function\n",
    "def add(x, y):\n",
    "    \"\"\"\n",
    "    This function adds two numbers together.\n",
    "    \n",
    "    Parameters:\n",
    "    x (int): The first number to add\n",
    "    y (int): The second number to add\n",
    "    \n",
    "    Returns:\n",
    "    int: The sum of x and y\n",
    "    \"\"\"\n",
    "    return x + y\n",
    "\n",
    "# main code\n",
    "x, y = user_input()\n",
    "print(add(x, y))"
   ]
  },
  {
   "cell_type": "markdown",
   "id": "1dd92e25",
   "metadata": {},
   "source": [
    "## More advanced control flow"
   ]
  },
  {
   "cell_type": "markdown",
   "id": "dc42b3e3",
   "metadata": {},
   "source": [
    "Computer programs work by reading a text document line by line from top to bottom and executing the code on each line in sequence. However, we've previously learned how to control the execution of certain blocks of code based on the state of the program using **conditional statements**, **loops**, and **functions**.\n",
    "\n",
    "The following lessons on **control flow** are concerned with making a function or another block of code self-monitor its state and to give feedback to the user when it reaches certains states, such as errors or deliberate stopping points. Think of these tools as a way to make the code anticipate conditions and interrupt itself when those conditions are encountered."
   ]
  },
  {
   "cell_type": "markdown",
   "id": "10f0ce98",
   "metadata": {},
   "source": [
    "### Exception Handling\n",
    "\n",
    "**Exception handling** is a fundamental concept in Python that allows you to manage and respond to errors gracefully, ensuring that a program can continue running or fail in a controlled manner. When your code encounters an issue—such as trying to divide by zero, accessing a file that doesn't exist, or converting user input to the wrong type—Python **raises** an \"exception.\" Without proper handling, these exceptions can (and usually do) cause your program to crash, or worse create unpredictable bugs. This is called an **unhandled exception**. By using **try and except blocks**, you can anticipate potential errors, catch these exceptions, and define alternative actions or informative messages for the user.\n",
    "\n",
    "As an example, here is a simple function that calcutes the log2 fold change, that is log2(x/y). We will write this naively, and then see what errors we get with different inputs."
   ]
  },
  {
   "cell_type": "code",
   "execution_count": null,
   "id": "a726fba2",
   "metadata": {},
   "outputs": [],
   "source": [
    "import math\n",
    "\n",
    "def log2fc(x, y):\n",
    "    return math.log2(x/y)"
   ]
  },
  {
   "cell_type": "code",
   "execution_count": null,
   "id": "e829156f",
   "metadata": {},
   "outputs": [
    {
     "ename": "ZeroDivisionError",
     "evalue": "division by zero",
     "output_type": "error",
     "traceback": [
      "\u001b[0;31m---------------------------------------------------------------------------\u001b[0m\n",
      "\u001b[0;31mZeroDivisionError\u001b[0m                         Traceback (most recent call last)\n",
      "Cell \u001b[0;32mIn[4], line 1\u001b[0m\n",
      "\u001b[0;32m----> 1\u001b[0m \u001b[43mlog2fc\u001b[49m\u001b[43m(\u001b[49m\u001b[38;5;241;43m0\u001b[39;49m\u001b[43m,\u001b[49m\u001b[38;5;241;43m0\u001b[39;49m\u001b[43m)\u001b[49m\n",
      "\n",
      "Cell \u001b[0;32mIn[3], line 4\u001b[0m, in \u001b[0;36mlog2fc\u001b[0;34m(x, y)\u001b[0m\n",
      "\u001b[1;32m      3\u001b[0m \u001b[38;5;28;01mdef\u001b[39;00m \u001b[38;5;21mlog2fc\u001b[39m(x, y):\n",
      "\u001b[0;32m----> 4\u001b[0m     \u001b[38;5;28;01mreturn\u001b[39;00m math\u001b[38;5;241m.\u001b[39mlog2(\u001b[43mx\u001b[49m\u001b[38;5;241;43m/\u001b[39;49m\u001b[43my\u001b[49m)\n",
      "\n",
      "\u001b[0;31mZeroDivisionError\u001b[0m: division by zero"
     ]
    }
   ],
   "source": [
    "log2fc(0,0)"
   ]
  },
  {
   "cell_type": "code",
   "execution_count": null,
   "id": "e61a0337",
   "metadata": {},
   "outputs": [
    {
     "ename": "ZeroDivisionError",
     "evalue": "division by zero",
     "output_type": "error",
     "traceback": [
      "\u001b[0;31m---------------------------------------------------------------------------\u001b[0m\n",
      "\u001b[0;31mZeroDivisionError\u001b[0m                         Traceback (most recent call last)\n",
      "Cell \u001b[0;32mIn[5], line 1\u001b[0m\n",
      "\u001b[0;32m----> 1\u001b[0m \u001b[43mlog2fc\u001b[49m\u001b[43m(\u001b[49m\u001b[38;5;241;43m10\u001b[39;49m\u001b[43m,\u001b[49m\u001b[38;5;241;43m0\u001b[39;49m\u001b[43m)\u001b[49m\n",
      "\n",
      "Cell \u001b[0;32mIn[3], line 4\u001b[0m, in \u001b[0;36mlog2fc\u001b[0;34m(x, y)\u001b[0m\n",
      "\u001b[1;32m      3\u001b[0m \u001b[38;5;28;01mdef\u001b[39;00m \u001b[38;5;21mlog2fc\u001b[39m(x, y):\n",
      "\u001b[0;32m----> 4\u001b[0m     \u001b[38;5;28;01mreturn\u001b[39;00m math\u001b[38;5;241m.\u001b[39mlog2(\u001b[43mx\u001b[49m\u001b[38;5;241;43m/\u001b[39;49m\u001b[43my\u001b[49m)\n",
      "\n",
      "\u001b[0;31mZeroDivisionError\u001b[0m: division by zero"
     ]
    }
   ],
   "source": [
    "log2fc(10,0)"
   ]
  },
  {
   "cell_type": "code",
   "execution_count": null,
   "id": "afc160d0",
   "metadata": {},
   "outputs": [
    {
     "ename": "ValueError",
     "evalue": "math domain error",
     "output_type": "error",
     "traceback": [
      "\u001b[0;31m---------------------------------------------------------------------------\u001b[0m\n",
      "\u001b[0;31mValueError\u001b[0m                                Traceback (most recent call last)\n",
      "Cell \u001b[0;32mIn[6], line 1\u001b[0m\n",
      "\u001b[0;32m----> 1\u001b[0m \u001b[43mlog2fc\u001b[49m\u001b[43m(\u001b[49m\u001b[38;5;241;43m0\u001b[39;49m\u001b[43m,\u001b[49m\u001b[38;5;241;43m10\u001b[39;49m\u001b[43m)\u001b[49m\n",
      "\n",
      "Cell \u001b[0;32mIn[3], line 4\u001b[0m, in \u001b[0;36mlog2fc\u001b[0;34m(x, y)\u001b[0m\n",
      "\u001b[1;32m      3\u001b[0m \u001b[38;5;28;01mdef\u001b[39;00m \u001b[38;5;21mlog2fc\u001b[39m(x, y):\n",
      "\u001b[0;32m----> 4\u001b[0m     \u001b[38;5;28;01mreturn\u001b[39;00m \u001b[43mmath\u001b[49m\u001b[38;5;241;43m.\u001b[39;49m\u001b[43mlog2\u001b[49m\u001b[43m(\u001b[49m\u001b[43mx\u001b[49m\u001b[38;5;241;43m/\u001b[39;49m\u001b[43my\u001b[49m\u001b[43m)\u001b[49m\n",
      "\n",
      "\u001b[0;31mValueError\u001b[0m: math domain error"
     ]
    }
   ],
   "source": [
    "log2fc(0,10)"
   ]
  },
  {
   "cell_type": "code",
   "execution_count": null,
   "id": "814e38c9",
   "metadata": {},
   "outputs": [
    {
     "ename": "TypeError",
     "evalue": "unsupported operand type(s) for /: 'str' and 'str'",
     "output_type": "error",
     "traceback": [
      "\u001b[0;31m---------------------------------------------------------------------------\u001b[0m\n",
      "\u001b[0;31mTypeError\u001b[0m                                 Traceback (most recent call last)\n",
      "Cell \u001b[0;32mIn[7], line 1\u001b[0m\n",
      "\u001b[0;32m----> 1\u001b[0m \u001b[43mlog2fc\u001b[49m\u001b[43m(\u001b[49m\u001b[38;5;124;43m\"\u001b[39;49m\u001b[38;5;124;43ma\u001b[39;49m\u001b[38;5;124;43m\"\u001b[39;49m\u001b[43m,\u001b[49m\u001b[43m \u001b[49m\u001b[38;5;124;43m\"\u001b[39;49m\u001b[38;5;124;43mb\u001b[39;49m\u001b[38;5;124;43m\"\u001b[39;49m\u001b[43m)\u001b[49m\n",
      "\n",
      "Cell \u001b[0;32mIn[3], line 4\u001b[0m, in \u001b[0;36mlog2fc\u001b[0;34m(x, y)\u001b[0m\n",
      "\u001b[1;32m      3\u001b[0m \u001b[38;5;28;01mdef\u001b[39;00m \u001b[38;5;21mlog2fc\u001b[39m(x, y):\n",
      "\u001b[0;32m----> 4\u001b[0m     \u001b[38;5;28;01mreturn\u001b[39;00m math\u001b[38;5;241m.\u001b[39mlog2(\u001b[43mx\u001b[49m\u001b[38;5;241;43m/\u001b[39;49m\u001b[43my\u001b[49m)\n",
      "\n",
      "\u001b[0;31mTypeError\u001b[0m: unsupported operand type(s) for /: 'str' and 'str'"
     ]
    }
   ],
   "source": [
    "log2fc(\"a\", \"b\")"
   ]
  },
  {
   "cell_type": "markdown",
   "id": "55b4adb5",
   "metadata": {},
   "source": [
    "We see that there are three kinds of errors here, that we might want to handle. The first is a \"ZeroDivisionError\", when we try to divide by 0. The second is a ValueError, since the math.log2 function does not like returning -Inf for log2(0), and in our function we probably don't want that either. The last is a TypeError if we give inputs that don't have division methods (e.g., strings).\n",
    "\n",
    "For any error, we can \"catch\" the error with a try-except statement, which has the following basic form:\n",
    "\n",
    "```\n",
    "try:\n",
    "    code to try goes here\n",
    "except ErrorType:\n",
    "    code to run if try block generates ErrorType goes here\n",
    "```\n",
    "\n",
    "In a way, `try` is like an `if` statement: `if` statements check a condition to determine if the block of code should be executed. For `try`, the condition is simply \"does this block of code run without error?\" If so, proceed, otherwise run the code under `except`. In fact, we can even use `else` after `try` (see below)\n",
    "\n",
    "A few things to note:\n",
    "\n",
    "- Specifying Error Types: You don't need to specify an error type after `except`; if you don't, the except block will catch any error. Normally, this isn't a good idea because you might want to return specific messages or handle particular error types differently.\n",
    "- Multiple Except Blocks: except statements actually function somewhat like `elif`: you can have many of them, each with a different ErrorType. You can also list multiple error types within a single except statement using parentheses, e.g., `except (KeyError, ValueError):` if you want to catch both errors.\n",
    "- `else` and `finally` Blocks: You can have an `else` block (which runs only if no errors occur) or a `finally` block (which runs after the try-except regardless of whether an error occurred)."
   ]
  },
  {
   "cell_type": "markdown",
   "id": "c24244c6",
   "metadata": {},
   "source": [
    "Below is a slightly improved version of our function that catches TypeErrors."
   ]
  },
  {
   "cell_type": "code",
   "execution_count": null,
   "id": "6b4c2935",
   "metadata": {},
   "outputs": [],
   "source": [
    "def log2fc(x, y):\n",
    "    try:\n",
    "        ratio = x/y\n",
    "    except TypeError:\n",
    "        print(\"Error: x and y must be numbers\")\n",
    "        return None\n",
    "\n",
    "    return math.log2(ratio)"
   ]
  },
  {
   "cell_type": "code",
   "execution_count": null,
   "id": "69f91d62",
   "metadata": {},
   "outputs": [
    {
     "name": "stdout",
     "output_type": "stream",
     "text": [
      "Error: x and y must be numbers\n"
     ]
    }
   ],
   "source": [
    "log2fc(\"1\", \"2\")"
   ]
  },
  {
   "cell_type": "markdown",
   "id": "ffed26dc",
   "metadata": {},
   "source": [
    ">**Exercise:** Annotate the below function with comments `# like this` to explain what each try and except block is doing.\n",
    ">\n",
    "> Think about why there are two try/except blocks. Share with your neighbor to see if your annotations are interpreting the code the same way. After sharing with your neighbor, what are some additional questions that you have about exception handling?"
   ]
  },
  {
   "cell_type": "code",
   "execution_count": null,
   "id": "a9087e0b",
   "metadata": {},
   "outputs": [],
   "source": [
    "def log2fc(x, y):\n",
    "    try:\n",
    "        ratio = x/y\n",
    "\n",
    "    # this adds a pseudocount to y if it is 0\n",
    "    except ZeroDivisionError:\n",
    "        y_adj = y + 1e-10\n",
    "        ratio = x/y_adj\n",
    "        print(f\"Warning: y was 0, correcting to {y_adj}\")\n",
    "    # this returns none if x or y are not numbers\n",
    "\n",
    "    except TypeError:\n",
    "        print(\"Error: x and y must be numbers\")\n",
    "        return None\n",
    "\n",
    "    # the log of 0 is undefined, but we make it return 0 instead of error\n",
    "    # needs a separate try block because log2 needs to be evaluated first\n",
    "    try:\n",
    "        return math.log2(ratio)\n",
    "    except ValueError:\n",
    "        print(f\"Error: log2({ratio}) is undefined, using 0\")\n",
    "        return 0"
   ]
  },
  {
   "cell_type": "code",
   "execution_count": null,
   "id": "d31c9c13",
   "metadata": {},
   "outputs": [
    {
     "name": "stdout",
     "output_type": "stream",
     "text": [
      "a warning is printed when y is 0\n",
      "Warning: y was 0, correcting to 1e-10\n",
      "33.219280948873624\n",
      "---\n",
      "the log of 0 is returned as 0\n",
      "Error: log2(0.0) is undefined, using 0\n",
      "0\n",
      "---\n",
      "an error is printed when x or y are not numbers\n",
      "Error: x and y must be numbers\n",
      "None\n"
     ]
    }
   ],
   "source": [
    "# this demonstrates the error and warning messages\n",
    "\n",
    "print((\"a warning is printed when y is 0\"))\n",
    "print(log2fc(1,0))\n",
    "print('---')\n",
    "print(\"the log of 0 is returned as 0\")\n",
    "print(log2fc(0,11))\n",
    "print('---')\n",
    "print(\"an error is printed when x or y are not numbers\")\n",
    "print(log2fc(\"10\",0))\n"
   ]
  },
  {
   "cell_type": "markdown",
   "id": "cca975bb",
   "metadata": {},
   "source": [
    ">**Exercise**: Work with a neighbor to write the user input portion of our random walk function. The function should take a `step_size` and `walk_size` and check that both inputs are valid. If both inputs are valid, it should return both the `step_size` and `walk_size`.\n",
    "> 1. **Discuss** what conditions might need to be checked in the context of a random walk\n",
    "> 2. **Plan** which order to check these conditions makes the most sense.\n",
    "> 3. **Write** a function that checks that `step_size` and `walk_size` are compatible with a random walk scenario\n",
    "> 4. **Test** your function\n",
    ">\n",
    "> Share your answer with another pair and see if they did things differently."
   ]
  },
  {
   "cell_type": "code",
   "execution_count": null,
   "id": "8910202b",
   "metadata": {},
   "outputs": [],
   "source": [
    "# Your code here\n",
    "def get_user_inputs(step_size, walk_size):\n",
    "    if not isinstance(step_size, int) or not isinstance(walk_size, int):\n",
    "        raise ValueError(\"Both step_size and walk_size should be integers.\")\n",
    "\n",
    "    if step_size <= 0 or walk_size <= 0:\n",
    "        raise ValueError(\"Both step_size and walk_size should be positive integers.\")\n",
    "\n",
    "    return step_size, walk_size"
   ]
  },
  {
   "cell_type": "code",
   "execution_count": null,
   "id": "3f5904c4",
   "metadata": {},
   "outputs": [
    {
     "name": "stdout",
     "output_type": "stream",
     "text": [
      "(3, 10)\n",
      "(10, 10)\n"
     ]
    }
   ],
   "source": [
    "# test your code for proper functioning here\n",
    "\n",
    "print(get_user_inputs(3, 10))\n",
    "print(get_user_inputs(10, 10))\n",
    "\n",
    "# test code for error handling here\n",
    "# what errors should we test for?"
   ]
  },
  {
   "cell_type": "markdown",
   "id": "b9c6928a",
   "metadata": {},
   "source": [
    "Example of a use-case for handling exceptions in your own code:\n",
    "\n",
    "You have written a function that reads in a file and processes it, but it requires that certain things in the file are numerical. It works on your own data that you know is nice and clean, but you want your code to also work on you colleague's data. So you might add a `try`/`except` block to catch `ValueError` if the data is not numerical. Then you might `try` to convert the data to a float, and if that fails, you might `except` and print a message to the user that the data is not numerical."
   ]
  },
  {
   "cell_type": "markdown",
   "id": "48b33042",
   "metadata": {},
   "source": [
    "### Controlling behavior with break and continue"
   ]
  },
  {
   "cell_type": "markdown",
   "id": "28273d26",
   "metadata": {},
   "source": [
    "Sometimes you might want to exit a loop early or you might want to skip the rest of the code and start the next iteration. The `break` and `continue` statements are used for such finer grained control over your loops. The `break` statement will exit the innermost `for` or `while` loop it is in. In the below example, we use a while loop to find the first number that is divisible by 7."
   ]
  },
  {
   "cell_type": "code",
   "execution_count": null,
   "id": "547da25c",
   "metadata": {},
   "outputs": [
    {
     "name": "stdout",
     "output_type": "stream",
     "text": [
      "23 is not divisible by 7\n",
      "24 is not divisible by 7\n",
      "25 is not divisible by 7\n",
      "26 is not divisible by 7\n",
      "27 is not divisible by 7\n",
      "28 is divisible by 7\n"
     ]
    }
   ],
   "source": [
    "num = 22\n",
    "while True: # this would run forever if it weren't for the break statement\n",
    "    num += 1\n",
    "    if num % 7 == 0:\n",
    "        print(f\"{num} is divisible by 7\")\n",
    "        break\n",
    "    else:\n",
    "        print(f\"{num} is not divisible by 7\")\n"
   ]
  },
  {
   "cell_type": "markdown",
   "id": "add95f53",
   "metadata": {},
   "source": [
    "`continue` is used to skip the rest of the code in the loop and start the next iteration. In the below example, we use a for loop to print all the numbers from 1 to 10 that are not divisible by 3."
   ]
  },
  {
   "cell_type": "code",
   "execution_count": null,
   "id": "338675bb",
   "metadata": {},
   "outputs": [
    {
     "name": "stdout",
     "output_type": "stream",
     "text": [
      "1\n",
      "2\n",
      "4\n",
      "5\n",
      "7\n",
      "8\n",
      "10\n",
      "11\n"
     ]
    }
   ],
   "source": [
    "for i in range(1, 12):\n",
    "    # if it is divisible by 3, skip the rest of the loop (the print statement)\n",
    "    if i % 3 == 0:\n",
    "        continue\n",
    "    print(i)"
   ]
  },
  {
   "cell_type": "markdown",
   "id": "0fdeb469",
   "metadata": {},
   "source": [
    "Both `break` and `continue` can be used in loops made with `for` or `while`."
   ]
  },
  {
   "cell_type": "markdown",
   "id": "d7dc7273",
   "metadata": {},
   "source": [
    ">**Exercise:** Work with a neighbor to complete the code below. It is intended to be a simple guessing game. The computer will pick a random number between 1 and 10 and ask the user to input a guess. **While the user's guess is wrong**, the computer will tell the user if the guess is high or low. The break statement should be used to exit the loop when the user guesses correctly.  "
   ]
  },
  {
   "cell_type": "code",
   "execution_count": null,
   "id": "e7058e2f",
   "metadata": {},
   "outputs": [],
   "source": [
    "\n",
    "import random\n",
    "\n",
    "def guessing_game():\n",
    "    # generate a random number betwee 1 and 10\n",
    "    number = random.randint(1, 10)\n",
    "    print(\"I'm thinking of a number between 1 and 10.\")\n",
    "\n",
    "    # this begins the while loop\n",
    "    # note that the loop has no end condition. It relies on the break statement!\n",
    "    while True:\n",
    "        # ask the user to guess the number\n",
    "        # note that input() always returns a string\n",
    "        guess = input(\"Take a guess: \")\n",
    "        # try to convert the input to an integer\n",
    "        try:\n",
    "            guess = int(guess)\n",
    "        except ValueError:\n",
    "            print(\"Invalid input. Please enter an integer.\")\n",
    "            continue\n",
    "        # your code here\n",
    "        # start with an else statement\n",
    "        # if the guess is correct, print a message and break the loop\n",
    "        # if the guess is too low, print a message\n",
    "        # if the guess is too high, print a message\n",
    "        else:\n",
    "            if guess == number:\n",
    "                print(f\"Good job! The number was {number}.\")\n",
    "                break\n",
    "            elif guess < number:\n",
    "                print(\"Your guess is too low.\")\n",
    "            else:\n",
    "                print(\"Your guess is too high.\")\n"
   ]
  },
  {
   "cell_type": "code",
   "execution_count": null,
   "id": "2a787a9b",
   "metadata": {},
   "outputs": [
    {
     "name": "stdout",
     "output_type": "stream",
     "text": [
      "I'm thinking of a number between 1 and 10.\n",
      "Your guess is too high.\n",
      "Good job! The number was 1.\n"
     ]
    }
   ],
   "source": [
    "# check your code\n",
    "guessing_game()"
   ]
  },
  {
   "cell_type": "markdown",
   "id": "b110bdee",
   "metadata": {},
   "source": [
    "## Working with dates and times\n",
    "\n",
    ">**Question:** How many hours are there between 9:00 AM and 10:00 AM on a given date? \n",
    "\n",
    "**Answer:** Any number between 0 and 13, depending on the time zones of the two locations.\n",
    "\n",
    "Time, as we all know, is a human construct that is on its face numerical, but is also more complex than simple numbers. Consider all that we do with dates and times: we want to compare time, do arithmetic to find time intervals, aggregate by year, month, day, day of the week, etc. Time consists of many different units and cannot be simply added or coded. Consider that there are a variable number of days in a month, and some months have different number of days on certain years (leap days). Then, we might want to measure durations of time, or keep track of time stamps specific to a location and date. These require computers to think of time in different ways. \n",
    "\n",
    "Pandas has an implementation of datetime objects called `pd.datetime`. Consider this akin to the `str` object for strings, or the `int` object for integers. This object has a lot of built-in functionality that makes it easy to work with dates and times. But before we learn how to convert data to this object type, let's go over a few basic tips for how to record your time data. \n",
    "\n",
    "* If you just want to record the date, use the format `YYYY-MM-DD`. When you convert to a `pd.datetime` object, it will automatically set the time to midnight with no time zone information. This is called a \"naive\" datetime object.\n",
    "* If you need to record a timestamp - e.g. the time and date something happened - use the format `YYYY-MM-DD HH:MM:SS+0500`. This is the ISO 8601 standard format for datetime objects. The `+0500` is the time zone offset from GMT. When pandas parses this string, it will create what is called an \"aware\" datetime object. ***Good data practice is to always record your times in this format and to always include the time zone offset*** unless you are absolutely sure that A. Everything happens in the same time zone and you'll never have to compare to another dataset, and B. None of your data will be affected by daylight savings time.\n",
    "* If you need to record a time series, you want to record the time a `YYYY-MM-DD HH:MM:SS` (ISO 8601 again) but import the data as **time deltas**, aka `pd.Timedelta`. This is a special type of datetime object that represents the difference between two times. This is useful if the duration, and not the specific time of day, matters the most.\n",
    "\n",
    "Pandas is an essential library for time series analysis that many other libraries build upon. See the docs for more information on how pandas handles date [time objects](https://pandas.pydata.org/docs/user_guide/timeseries.html) and [time deltas](https://pandas.pydata.org/docs/user_guide/timedeltas.html). \n",
    "\n",
    "Even if you aren't doing time series analysis, you will find it useful to import any column of dates or times as a datetime object, as it will provide you with a lot of useful functionality. For example:\n",
    "\n",
    "* Pandas can automatically parse human readable dates and times written in various formats into a standardized `datetime` object. [docs](https://pandas.pydata.org/docs/reference/api/pandas.to_datetime.html)\n",
    "* You can extract various components of the date/time for analysis or printing purposes. See the list of attributes and method of the `pd.Timestamp` class [here](https://pandas.pydata.org/docs/reference/api/pandas.Timestamp.html), which include `day_of_week`, `day_of_year`, `weekofyear`, `.day_name()`, etc. \n",
    "* You can perform calculations on dates and times, such as converting between time zones, finding the difference (**delta**) between two times, resampling the frequency of a time series, or finding the time that is a certain duration away from a given time. \n",
    "* You can control how the date is displayed when you print it out or export your data by using string format codes specific for datetime objects. [docs](https://docs.python.org/3/library/datetime.html#format-codes) \n",
    "\n",
    "Here's an example of pandas in action with datetime objects: [link](https://pandas.pydata.org/docs/getting_started/intro_tutorials/09_timeseries.html)"
   ]
  }
 ],
 "metadata": {
  "language_info": {
   "name": "python"
  }
 },
 "nbformat": 4,
 "nbformat_minor": 5
}
