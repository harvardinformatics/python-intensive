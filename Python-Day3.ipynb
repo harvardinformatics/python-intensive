{
 "cells": [
  {
   "cell_type": "markdown",
   "metadata": {
    "id": "K3UDXaY9tsKo"
   },
   "source": [
    "# Python intensive, day 3\n",
    "\n",
    "## Review of Days 1 + 2\n",
    "\n",
    "Welcome to day 3 of our python intensive course. This is the last day of the \"introduction to computer science\" part of the course, after which we will move on to the \"introduction to data science\" part. Let's review what we have learned so far:\n",
    "\n",
    "1. A computer program is a sequence of instructions that is read from top to bottom and executed by the computer. You need to give it extremely precise instructions. It's helpful to use **pseudocode** to plan our the logic of your program before you apply the **syntax** of your programming language.\n",
    "2. **Variables** are assigned to data using the `=` operator.\n",
    "3. **Functions** are blocks of code that are executed when called. You can also think of operators as functions that take arguments on both sides.\n",
    "4. We learned about various data types, including **integers**, **strings**, and **booleans** and how various operators work with them. Knowing what data type you are working with is very important!\n",
    "5. **Conditional statements** like `if`, `elif`, `else` allow you to control the flow of the program, skipping code that doesn't need to be executed.\n",
    "6. **Loops** like `for` and `while` allow you to repeat code multiple times. For while loops, it's important to make sure that it will end by using an update variable. For loops use iterables to repeat code.\n",
    "7. **Iterables** are objects that can be looped over, like **lists**, **dictionaries**, and **strings**. They are indexed starting at 0 and can be sliced using the `:` operator.\n",
    "8. **Lists** are a basic data structure that store multiple values. They are indexed by their position in the list.\n",
    "9. While learning about lists, we learned about methods, which are functions that are attached to objects and can modify that object **in place** or give you information about that object.\n",
    "10. **Dictionaries** are another type of basic data structure that store key-value pairs. They are indexed by their keys.\n",
    "11. How to write **functions** of your own and either print the results or return the values."
   ]
  },
  {
   "cell_type": "markdown",
   "metadata": {
    "id": "IYpsw1Ratmic"
   },
   "source": [
    "## Metaprogramming skills and debugging\n",
    "\n",
    "Today we will learn how to turn functions into programs. So far, we have learned how to create small self-contained functions. But today we will build from these to create a simulation of a random walk. Given the inputs of a step size and boundary size, it will simulate a walk from the middle of a defined (represented by `-`) space until the object runs into a wall. Here's what it might look like to use this function:\n",
    "\n",
    "```python\n",
    "random_walk(step_size = 1, walk_size = 10)\n",
    "```\n",
    "\n",
    "output:\n",
    "\n",
    "```jupyter\n",
    "Starting random walk with boundary size: 10 and step size: 1\n",
    "-----O----\n",
    "----O-----\n",
    "---O------\n",
    "--O-------\n",
    "-O--------\n",
    "--O-------\n",
    "-O--------\n",
    "--O-------\n",
    "-O--------\n",
    "--O-------\n",
    "-O--------\n",
    "O---------\n",
    "-O--------\n",
    "O---------\n",
    "X---------\n",
    "Reached boundary!\n",
    "```"
   ]
  },
  {
   "cell_type": "markdown",
   "metadata": {
    "id": "FeTYrj5ftmih"
   },
   "source": [
    "### Pair programming\n",
    "\n",
    "**Pair programming** is a technique where two programmers work together on the same code. One person is the \"driver\" who writes the code, while the other person is the \"navigator\" who reviews the code as it is written. This can be a very effective way to catch errors early and to learn from each other. Let's practice by working on one component of the random walk function together."
   ]
  },
  {
   "cell_type": "markdown",
   "metadata": {
    "id": "p_xVhhVStmih"
   },
   "source": [
    ">**Exercise:** Write a function called `display_walk` that takes a walk size and position argument and prints a string of dashes with an 'O' at the position. For example, `display_walk(size = 10, position = 3)` should print `---O------`. If the position is outside the walk size, it should print an 'X' at the end. For example, `display_walk(size = 10, position = 12)` should print `----------X`.\n",
    ">\n",
    "> 1. Work together to write out pseudocode for this function. Make sure to check in on any potential logic errors.\n",
    "> 2. One person should write the code while the other person dictates out the pseudocode.\n",
    "> **Important** One line in your pseudocode could correspond to one line of code, but that may or may not be the case\n",
    "> 3. For each line of code, **PAUSE** and both of you should check to make sure it matches the pseudocode.\n",
    ">\n",
    "> You are allowed to use LLMs or the internet to look up how to do specific parts of your code, but try not to look up the entire solution."
   ]
  },
  {
   "cell_type": "code",
   "execution_count": 1,
   "metadata": {
    "id": "_5E8zOLGtmih"
   },
   "outputs": [],
   "source": [
    "# Your code here\n",
    "\n",
    "# Solution using lists\n",
    "def display_walk(size, position):\n",
    "    walk = list(\"-\") * size\n",
    "    if position < size and position >= 0:\n",
    "        walk[position] = \"O\"\n",
    "    elif position >= size:\n",
    "        walk[size - 1] = \"X\"\n",
    "    elif position < 0:\n",
    "        walk[0] = \"X\"\n",
    "    print(\"\".join(walk))\n",
    "\n",
    "# Solution using string concatenation\n",
    "def display_walk(size, position):\n",
    "    if 0 <= position < size:\n",
    "    # Create a string with 'O' at the specified position\n",
    "        walk = '-' * position + 'O' + '-' * (size - position - 1)\n",
    "    elif position < 0:\n",
    "        # Position is out of bounds, place 'X' at the end\n",
    "        walk = \"X\" + '-' * (size - 1)\n",
    "    else: # position >= size\n",
    "        # Position is out of bounds, place 'X' at the beginning\n",
    "        walk = '-' * (size - 1) + \"X\"\n",
    "    print(walk)"
   ]
  },
  {
   "cell_type": "code",
   "execution_count": 2,
   "metadata": {
    "colab": {
     "base_uri": "https://localhost:8080/"
    },
    "id": "ZLFN52qQtmii",
    "outputId": "27a60bb8-3a37-49a9-f44b-1e1109e28ccb"
   },
   "outputs": [
    {
     "name": "stdout",
     "output_type": "stream",
     "text": [
      "X---------\n",
      "O---------\n",
      "-----O----\n",
      "---------O\n",
      "---------X\n"
     ]
    }
   ],
   "source": [
    "# test your code here\n",
    "display_walk(10, -1)\n",
    "display_walk(10, 0)\n",
    "display_walk(10, 5)\n",
    "display_walk(10, 9)\n",
    "display_walk(10, 11)\n",
    "\n",
    "# Expected output\n",
    "# X---------\n",
    "# O---------\n",
    "# -----O----\n",
    "# ---------O\n",
    "# ---------X"
   ]
  },
  {
   "cell_type": "markdown",
   "metadata": {
    "id": "5OFSeUC3tmij"
   },
   "source": [
    ">**Discussion**: What were some questions that came up while writing this function? Did you get answers to them or are they still unanswered?"
   ]
  },
  {
   "cell_type": "markdown",
   "metadata": {
    "id": "vBn3mRq_tmik"
   },
   "source": [
    "## f-strings\n",
    "\n",
    "One quick string concept to cover before we move on to other topics is **f-strings**. F-strings are a way to format strings in Python. The way they work is to start a string with the keyword `f`, preceding the first quotation mark. Then, whenever you need to insert a variable within the string that has previously been assigned, you surround that variable name with `{}`. Think of `{}` as a carve-out from the string where code is valid again.\n",
    "\n",
    "They are a way to embed variables into strings. Here's an example:"
   ]
  },
  {
   "cell_type": "code",
   "execution_count": 1,
   "metadata": {
    "id": "bC2vCuITtmik"
   },
   "outputs": [
    {
     "name": "stdout",
     "output_type": "stream",
     "text": [
      "my number is: 1004210.52049. Hooray!\n",
      "twice my number is: 2008421.04098. Hooray!\n",
      "my original number, 1004210.52049, did not change\n"
     ]
    }
   ],
   "source": [
    "my_num = 1004210.52049\n",
    "\n",
    "print(f\"my number is: {my_num}. Hooray!\")\n",
    "print(f\"twice my number is: {my_num * 2}. Hooray!\")\n",
    "print(f\"my original number, {my_num}, did not change\")"
   ]
  },
  {
   "cell_type": "markdown",
   "metadata": {
    "id": "hCspfk6ltmil"
   },
   "source": [
    "You cannot do f-string formatting with a string that is stored inside a variable. You can only do it with strings that are written directly in the code."
   ]
  },
  {
   "cell_type": "markdown",
   "metadata": {
    "id": "eSdTpYMRtmil"
   },
   "source": [
    "The reason we might use f-strings rather than passing multiple arguments to the `print()` function is that it is easier to read in code form, faster to type, and you can attach formatting to the variables that you are embedding. This formatting does not affect the underlying variable, but rather how it is displayed.\n",
    "\n",
    "Below are a few examples of how you might format numbers while inside an f-string. You don't have to memorize this syntax or use it yourself, but you will see it in future code and it's good to know what it is."
   ]
  },
  {
   "cell_type": "code",
   "execution_count": 2,
   "metadata": {
    "id": "M5K-BIQhtmil"
   },
   "outputs": [
    {
     "name": "stdout",
     "output_type": "stream",
     "text": [
      "my number is: 1004210.52\n",
      "my number is: 1004211\n",
      "my number is: 1,004,210.52049\n",
      "my number is: 1,004,210.52\n",
      "1004210.52049\n"
     ]
    }
   ],
   "source": [
    "# rounds to 2 decimal places\n",
    "print(f\"my number is: {my_num:.2f}\")\n",
    "\n",
    "# rounds to nearst whole number\n",
    "print(f\"my number is: {my_num:.0f}\")\n",
    "\n",
    "# adds commas to separate thousands\n",
    "print(f\"my number is: {my_num:,}\")\n",
    "\n",
    "# adds commas to separate thousands and rounds to 2 decimal places\n",
    "print(f\"my number is: {my_num:,.2f}\")\n",
    "\n",
    "# original number\n",
    "print(my_num)"
   ]
  },
  {
   "cell_type": "markdown",
   "metadata": {
    "id": "UihiGE86tmiz"
   },
   "source": [
    "## Functions to Programs"
   ]
  },
  {
   "cell_type": "markdown",
   "metadata": {
    "id": "AyLSZRlwtmi0"
   },
   "source": [
    ">**Exercise:** Copy and paste your `display_walk` function from above into the cell below. Add a docstring to the function that describes what it does, what inputs it takes, and what it returns. Then, call `help(display_walk)` and see what happens!\n",
    ">\n",
    "> If short on time, you can also use LLMs to write your docstring. Usually they do pretty well."
   ]
  },
  {
   "cell_type": "code",
   "execution_count": 18,
   "metadata": {
    "id": "z13K3xGBtmi1"
   },
   "outputs": [
    {
     "name": "stdout",
     "output_type": "stream",
     "text": [
      "Help on function display_walk in module __main__:\n",
      "\n",
      "display_walk(size, position)\n",
      "    Parameters: size (int) - a positive integer representing the size of the walk\n",
      "                position (int) - an integer representing the position of the walker\n",
      "    Displays a walk of size `size` with a walker at position `position`.\n",
      "    Walkers are represented by 'O' and out of bounds positions are represented by 'X'.\n",
      "    Unoccupied positions are represented by '-'.\n",
      "\n"
     ]
    }
   ],
   "source": [
    "\n",
    "def display_walk(size, position):\n",
    "    \"\"\"\n",
    "    Parameters: size (int) - a positive integer representing the size of the walk\n",
    "                position (int) - an integer representing the position of the walker\n",
    "    Displays a walk of size `size` with a walker at position `position`.\n",
    "    Walkers are represented by 'O' and out of bounds positions are represented by 'X'.\n",
    "    Unoccupied positions are represented by '-'.\n",
    "    \"\"\"\n",
    "    if 0 <= position < size:\n",
    "    # Create a string with 'O' at the specified position\n",
    "        walk = '-' * position + 'O' + '-' * (size - position - 1)\n",
    "    elif position < 0:\n",
    "        # Position is out of bounds, place 'X' at the end\n",
    "        walk = \"X\" + '-' * (size - 1)\n",
    "    else: # position >= size\n",
    "        # Position is out of bounds, place 'X' at the beginning\n",
    "        walk = '-' * (size - 1) + \"X\"\n",
    "    print(walk)\n",
    "\n",
    "# try calling help on your function\n",
    "help(display_walk)"
   ]
  },
  {
   "cell_type": "markdown",
   "metadata": {
    "id": "DXSttiYHtmi1"
   },
   "source": [
    ">**Exercise:** For our final activity before writing our program, let's review the topics we have already learned. On a piece of paper or on the white board, draw a concept map of how all the topics connect to each other. It's fine if this only makes sense to you, but you can also work with others to see how they connect the topics. You may find this concept map as a helpful reference when you are writing your random walk program.\n",
    ">\n",
    ">Topics/Concepts to include on the drawing:\n",
    ">\n",
    ">* Conditionals (if/else)\n",
    ">* Loops\n",
    ">    * For loops\n",
    ">    * While loops\n",
    ">* Strings\n",
    ">* Numerical values\n",
    ">* Booleans\n",
    ">* Lists\n",
    ">* Dictionaries\n",
    ">* Exceptions\n",
    ">* Functions\n",
    ">* Methods\n",
    ">* Pseudocode\n",
    ">* Control flow\n",
    ">* Debugging\n",
    ">\n",
    ">Feel free to add more to your map!"
   ]
  },
  {
   "cell_type": "markdown",
   "metadata": {
    "id": "Pzl9JXBntmi1"
   },
   "source": [
    "## Random walk program"
   ]
  },
  {
   "cell_type": "markdown",
   "metadata": {
    "id": "kNX49_B-tmi1"
   },
   "source": [
    "For this exercise, you already know the concepts needed to create a random walk. Everyone will likely write a slightly different program so we aren't going to give a whole lot of structure because we want you to explore what is possible. There is just one thing that you will all probably need, which is to import the `random` module. This module has a function called `random.choice()` which will randomly select an element from a list. See below for an example:"
   ]
  },
  {
   "cell_type": "code",
   "execution_count": 19,
   "metadata": {
    "id": "ffC4HiTmtmi1"
   },
   "outputs": [
    {
     "name": "stdout",
     "output_type": "stream",
     "text": [
      "heads\n"
     ]
    }
   ],
   "source": [
    "import random\n",
    "\n",
    "print(random.choice([\"heads\", \"tails\"]))"
   ]
  },
  {
   "cell_type": "markdown",
   "metadata": {
    "id": "vsLWqySitmi1"
   },
   "source": [
    "Write your code below. If you get stuck, check out your concept map, work with a neighbor, or review the topics we learned today. And of course, remember to use your debugging skills!"
   ]
  },
  {
   "cell_type": "markdown",
   "metadata": {},
   "source": [
    "!!! Note\n",
    "    If you are reading the completed solution to this exercise, you will notice extra code that **raise exceptions** in **try ... except** blocks. To learn more about how to use exceptions, check out our companion notebook \"Python Healthy Habits\" which covers some more advanced function writing. "
   ]
  },
  {
   "cell_type": "code",
   "execution_count": 20,
   "metadata": {
    "id": "vc9R57ULtmi2"
   },
   "outputs": [],
   "source": [
    "import random\n",
    "\n",
    "def get_user_inputs(step_size, walk_size):\n",
    "    \"\"\"\n",
    "    Validate the user inputs for step size and walk size.\n",
    "    If the inputs are valid, return them.\n",
    "    \"\"\"\n",
    "    if not isinstance(step_size, int) or not isinstance(walk_size, int):\n",
    "        raise ValueError(\"Both step_size and walk_size should be integers.\")\n",
    "\n",
    "    if step_size <= 0 or walk_size <= 0:\n",
    "        raise ValueError(\"Both step_size and walk_size should be positive integers.\")\n",
    "\n",
    "    return step_size, walk_size\n",
    "\n",
    "def display_walk(position, walk_size, boundary_symbol='X', walker_symbol='O', open_space='-'):\n",
    "    \"\"\"\n",
    "    Display the current position of the walker on the walk line.\n",
    "    Input:\n",
    "    - position: the current position of the walker\n",
    "    - walk_size: the size of the walk line\n",
    "    - boundary_symbol: the symbol to represent reaching the boundary\n",
    "    - walker_symbol: the symbol to represent the walker\n",
    "    - open_space: the symbol to represent an open space\n",
    "    Return: None (but print the walk line)\n",
    "    \"\"\"\n",
    "    # walk line represented by a list of string symbols\n",
    "    walk_line = [open_space] * walk_size\n",
    "    # if statement to check if the position is within the walk line\n",
    "    if 0 <= position < walk_size:\n",
    "        walk_line[position] = walker_symbol\n",
    "    # if the position is outside the walk line, put boundary symbol at the edge\n",
    "    else:\n",
    "        symbol_position = 0 if position < 0 else walk_size - 1\n",
    "        walk_line[symbol_position] = boundary_symbol\n",
    "    # joins the symbols to create a string and prints it\n",
    "    print(\"\".join(walk_line))\n",
    "\n",
    "def random_walk(step_size, walk_size):\n",
    "    \"\"\"\n",
    "    Simulate a random walk on a line with a given step size and walk size.\n",
    "    Input:\n",
    "    - step_size: the size of each step in the walk\n",
    "    - walk_size: the size of the walk line\n",
    "    Return: None (but print the walk line at each step and when the boundary is reached)\n",
    "    \"\"\"\n",
    "    position = walk_size // 2  # Start from the middle of the walk line\n",
    "    print(f\"Starting random walk with boundary size: {walk_size} and step size: {step_size}\")\n",
    "\n",
    "    # loop walk until boundary is reached\n",
    "    while 0 <= position < walk_size:\n",
    "        # display current position\n",
    "        display_walk(position, walk_size)\n",
    "        # generate random direction\n",
    "        direction = random.choice([-1, 1])\n",
    "        # update current position\n",
    "        position += direction * step_size\n",
    "\n",
    "    # calls the display walk function at the end one more time\n",
    "    display_walk(position, walk_size)\n",
    "    print(\"Reached boundary!\")\n",
    "\n",
    "# runs random walk. but calls get_user_inputs to validate inputs first\n",
    "def run_random_walk(step_size, walk_size):\n",
    "    try:\n",
    "        step_size, walk_size = get_user_inputs(step_size, walk_size)\n",
    "        random_walk(step_size, walk_size)\n",
    "    except ValueError as e:\n",
    "        print(f\"Input error: {e}\")\n",
    "    except Exception as e:\n",
    "        print(f\"An unexpected error occurred: {e}\")"
   ]
  },
  {
   "cell_type": "code",
   "execution_count": 21,
   "metadata": {},
   "outputs": [
    {
     "name": "stdout",
     "output_type": "stream",
     "text": [
      "Starting random walk with boundary size: 10 and step size: 2\n",
      "-----O----\n",
      "-------O--\n",
      "-----O----\n",
      "-------O--\n",
      "---------O\n",
      "-------O--\n",
      "-----O----\n",
      "-------O--\n",
      "---------O\n",
      "---------X\n",
      "Reached boundary!\n"
     ]
    }
   ],
   "source": [
    "run_random_walk(2, 10)"
   ]
  }
 ],
 "metadata": {
  "colab": {
   "provenance": []
  },
  "kernelspec": {
   "display_name": "pyworkshop",
   "language": "python",
   "name": "python3"
  },
  "language_info": {
   "codemirror_mode": {
    "name": "ipython",
    "version": 3
   },
   "file_extension": ".py",
   "mimetype": "text/x-python",
   "name": "python",
   "nbconvert_exporter": "python",
   "pygments_lexer": "ipython3",
   "version": "3.13.1"
  }
 },
 "nbformat": 4,
 "nbformat_minor": 0
}
