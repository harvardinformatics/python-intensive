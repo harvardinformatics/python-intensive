{
 "cells": [
  {
   "cell_type": "markdown",
   "metadata": {
    "id": "K3UDXaY9tsKo"
   },
   "source": [
    "# Python intensive, day 3\n",
    "\n",
    "## Review of Days 1 + 2\n",
    "\n",
    "Welcome to day 3 of our python intensive course. This is the last day of the \"introduction to computer science\" part of the course, after which we will move on to the \"introduction to data science\" part. Let's review what we have learned so far:\n",
    "\n",
    "1. A computer program is a sequence of instructions that is read from top to bottom and executed by the computer. You need to give it extremely precise instructions. It's helpful to use **pseudocode** to plan our the logic of your program before you apply the **syntax** of your programming language.\n",
    "2. **Variables** are assigned to data using the `=` operator.\n",
    "3. **Functions** are blocks of code that are executed when called. You can also think of operators as functions that take arguments on both sides.\n",
    "4. We learned about various data types, including **integers**, **strings**, and **booleans** and how various operators work with them. Knowing what data type you are working with is very important!\n",
    "5. **Conditional statements** like `if`, `elif`, `else` allow you to control the flow of the program, skipping code that doesn't need to be executed.\n",
    "6. **Loops** like `for` and `while` allow you to repeat code multiple times. For while loops, it's important to make sure that it will end by using an update variable. For loops use iterables to repeat code.\n",
    "7. **Iterables** are objects that can be looped over, like **lists**, **dictionaries**, and **strings**. They are indexed starting at 0 and can be sliced using the `:` operator.\n",
    "8. **Lists** are a basic data structure that store multiple values. They are indexed by their position in the list.\n",
    "9. While learning about lists, we learned about methods, which are functions that are attached to objects and can modify that object **in place** or give you information about that object.\n",
    "10. **Dictionaries** are another type of basic data structure that store key-value pairs. They are indexed by their keys.\n",
    "11. How to write **functions** of your own and either print the results or return the values."
   ]
  },
  {
   "cell_type": "markdown",
   "metadata": {
    "id": "IYpsw1Ratmic"
   },
   "source": [
    "## Metaprogramming skills and debugging\n",
    "\n",
    "Today we will learn how to turn functions into programs. So far, we have learned how to create small self-contained functions. But today we will build from these to create a simulation of a random walk. Given the inputs of a step size and boundary size, it will simulate a walk from the middle of a defined (represented by `-`) space until the object runs into a wall. Here's what it might look like to use this function:\n",
    "\n",
    "```python\n",
    "random_walk(step_size = 1, walk_size = 10)\n",
    "```\n",
    "\n",
    "output:\n",
    "\n",
    "```jupyter\n",
    "Starting random walk with boundary size: 10 and step size: 1\n",
    "-----O----\n",
    "----O-----\n",
    "---O------\n",
    "--O-------\n",
    "-O--------\n",
    "--O-------\n",
    "-O--------\n",
    "--O-------\n",
    "-O--------\n",
    "--O-------\n",
    "-O--------\n",
    "O---------\n",
    "-O--------\n",
    "O---------\n",
    "X---------\n",
    "Reached boundary!\n",
    "```"
   ]
  },
  {
   "cell_type": "markdown",
   "metadata": {
    "id": "Cj47dX-Ztmie"
   },
   "source": [
    "## How to get unstuck: troubleshooting/debugging\n",
    "\n",
    "In order to write larger programs, we need to hone our skills of troubleshooting. In this section, we're going to be talking about debugging code. We typically picture debugging as something that happens when you run something and there's an error message. However, there are many other reasons why we might want to take a closer look at our code and the tips here will be useful throughout the code-writing process.\n",
    "\n",
    "### Manual debugging\n",
    "\n",
    "Here are some steps to figure out what's wrong that just involve using your own brain. This is usually my first resort as it is quick and many issues end up being about a simple typo or missing step.\n",
    "\n",
    "* Read the error message\n",
    "    * What line does it refer to?\n",
    "    * What state should the code be in at that point?\n",
    "* (Re)Read your code\n",
    "    * Explain it line by line to another person or an inanimate object\n",
    "* Add error checks\n",
    "    * Print messages to check variables and progress - as a programmer you should develop the skills to have a good idea of the expected state of your variables in your program, so printing them out along the way is helpful to figure out where something is going wrong\n",
    "    * Peel back layers and test each layer (e.g. test each function)\n",
    "* Get another pair of eyes to look at it"
   ]
  },
  {
   "cell_type": "markdown",
   "metadata": {
    "id": "wnVIa7uFtmif"
   },
   "source": [
    "### Tests\n",
    "\n",
    "A very helpful approach to debugging - and, indeed, writing code in general - is to have some small input data that you can use to test. Ideally this should be something that runs fast and where you know what the expected output is. While this won't necessarily help you fix problems that cause your code to simply not execute, it can be extremely useful if you are not certain of how to program something, or if your program is running but with unexpected results.\n",
    "\n",
    "For example, if you have a dataset that you have manually processed, but now want to automate with a Python script or set of scripts, you will very likely want to check your code by running it against a test input that has a known output.\n",
    "\n",
    "This is particularly important if you are going to use LLMs for debugging, as discussed below. LLMs rarely make syntax errors, but do make logic errors."
   ]
  },
  {
   "cell_type": "markdown",
   "metadata": {
    "id": "Yi8t-NWftmig"
   },
   "source": [
    "### Asking for help\n",
    "\n",
    "Often times, the quickest way to get unstuck is to ask someone for help. There are some steps you can take to make it easier for others to help you. You may know all the context of your code, but a friend or one of us at office hours is going in fresh. Here's some information that you should provide when asking for help (in approximate order of effort):\n",
    "\n",
    "1. Error message\n",
    "2. What you expected to happen\n",
    "3. What is the command you used\n",
    "4. Your environment/context\n",
    "5. A minimal reproducible example\n",
    "\n",
    "Numbers 1 through 3 are the bare minimum information, while 4 and 5 are helpful for trickier problems. Number 5 is especially important if you are asking for help in an asynchronous way, like on a forum or in an email. This allows the person helping you to run code to see the error message for themselves and test out solutions before getting back to you.\n",
    "\n",
    "If you're not familiar with **minimal reproducible examples**, it's a way to pare down your code to the smallest amount that still produces the error. Often in the process of doing this, you will find the error yourself. How to make a reproducible example (AKA **reprex**)? Here are some steps:\n",
    "\n",
    "1. Start with a fresh script\n",
    "2. Import only the libraries you need\n",
    "3. Create only the data objects/variables you need (You may need to generate data or subset your data if it's large)\n",
    "4. Write only the code that produces the error\n",
    "5. Annotate the code with comments to explain what you are trying to do\n",
    "\n",
    "If you want to then share this code (and the dummy data!) with someone else, you can either send the script to them or you can use a Python package called `reprexpy`, which will format both your code and your output in a way that is easy to post in plain text online or in an email. For more information see the docs for [reprexpy](https://reprexpy.readthedocs.io/en/latest/).  \n",
    "\n",
    "### Using your IDE's tools\n",
    "\n",
    "Programmers typically choose a text editor in which to write their code. Oftentimes, these text editors have extra features that aid programmers when coding (*e.g.* colored syntax, parentheses match highlighting, error checking). These text editors with extra featuers are called integrated development environments, or **IDEs**. RStudio is an example of an IDE, and other text editors have become so feature rich that they are essentially IDEs in practice, like [VScode](https://code.visualstudio.com/)\n",
    "\n",
    "Today, we are working in a Jupyter notebook in Google Colab, which has IDE-like features. There are some features that might be useful for examining your code. For example, you can use the `{x}` button on the left sidebar to examine the variables in your environment. You can also use the `print()` function within blocks of your code to see what is happening at each step."
   ]
  },
  {
   "cell_type": "markdown",
   "metadata": {
    "id": "FeTYrj5ftmih"
   },
   "source": [
    "### Pair programming\n",
    "\n",
    "**Pair programming** is a technique where two programmers work together on the same code. One person is the \"driver\" who writes the code, while the other person is the \"navigator\" who reviews the code as it is written. This can be a very effective way to catch errors early and to learn from each other. Let's practice by working on one component of the random walk function together."
   ]
  },
  {
   "cell_type": "markdown",
   "metadata": {
    "id": "p_xVhhVStmih"
   },
   "source": [
    ">**Exercise:** Write a function called `display_walk` that takes a walk size and position argument and prints a string of dashes with an 'O' at the position. For example, `display_walk(size = 10, position = 3)` should print `---O------`. If the position is outside the walk size, it should print an 'X' at the end. For example, `display_walk(size = 10, position = 12)` should print `----------X`.\n",
    ">\n",
    "> 1. Work together to write out pseudocode for this function. Make sure to check in on any potential logic errors.\n",
    "> 2. One person should write the code while the other person dictates out the pseudocode.\n",
    "> **Important** One line in your pseudocode could correspond to one line of code, but that may or may not be the case\n",
    "> 3. For each line of code, **PAUSE** and both of you should check to make sure it matches the pseudocode.\n",
    ">\n",
    "> You are allowed to use LLMs or the internet to look up how to do specific parts of your code, but try not to look up the entire solution."
   ]
  },
  {
   "cell_type": "code",
   "execution_count": 1,
   "metadata": {
    "id": "_5E8zOLGtmih"
   },
   "outputs": [],
   "source": [
    "# Your code here\n",
    "\n",
    "# Solution using lists\n",
    "def display_walk(size, position):\n",
    "    walk = list(\"-\") * size\n",
    "    if position < size and position >= 0:\n",
    "        walk[position] = \"O\"\n",
    "    elif position >= size:\n",
    "        walk[size - 1] = \"X\"\n",
    "    elif position < 0:\n",
    "        walk[0] = \"X\"\n",
    "    print(\"\".join(walk))\n",
    "\n",
    "# Solution using string concatenation\n",
    "def display_walk(size, position):\n",
    "    if 0 <= position < size:\n",
    "    # Create a string with 'O' at the specified position\n",
    "        walk = '-' * position + 'O' + '-' * (size - position - 1)\n",
    "    elif position < 0:\n",
    "        # Position is out of bounds, place 'X' at the end\n",
    "        walk = \"X\" + '-' * (size - 1)\n",
    "    else: # position >= size\n",
    "        # Position is out of bounds, place 'X' at the beginning\n",
    "        walk = '-' * (size - 1) + \"X\"\n",
    "    print(walk)"
   ]
  },
  {
   "cell_type": "code",
   "execution_count": 2,
   "metadata": {
    "colab": {
     "base_uri": "https://localhost:8080/"
    },
    "id": "ZLFN52qQtmii",
    "outputId": "27a60bb8-3a37-49a9-f44b-1e1109e28ccb"
   },
   "outputs": [
    {
     "name": "stdout",
     "output_type": "stream",
     "text": [
      "X---------\n",
      "O---------\n",
      "-----O----\n",
      "---------O\n",
      "---------X\n"
     ]
    }
   ],
   "source": [
    "# test your code here\n",
    "display_walk(10, -1)\n",
    "display_walk(10, 0)\n",
    "display_walk(10, 5)\n",
    "display_walk(10, 9)\n",
    "display_walk(10, 11)\n",
    "\n",
    "# Expected output\n",
    "# X---------\n",
    "# O---------\n",
    "# -----O----\n",
    "# ---------O\n",
    "# ---------X"
   ]
  },
  {
   "cell_type": "markdown",
   "metadata": {
    "id": "5OFSeUC3tmij"
   },
   "source": [
    ">**Discussion**: What were some questions that came up while writing this function? Did you get answers to them or are they still unanswered?"
   ]
  },
  {
   "cell_type": "markdown",
   "metadata": {
    "id": "vBn3mRq_tmik"
   },
   "source": [
    "## f-strings\n",
    "\n",
    "One quick string concept to cover before we move on to other topics is **f-strings**. F-strings are a way to format strings in Python. The way they work is to start a string with the keyword `f`, preceding the first quotation mark. Then, whenever you need to insert a variable within the string that has previously been assigned, you surround that variable name with `{}`. Think of `{}` as a carve-out from the string where code is valid again.\n",
    "\n",
    "They are a way to embed variables into strings. Here's an example:"
   ]
  },
  {
   "cell_type": "code",
   "execution_count": 1,
   "metadata": {
    "id": "bC2vCuITtmik"
   },
   "outputs": [
    {
     "name": "stdout",
     "output_type": "stream",
     "text": [
      "my number is: 1004210.52049. Hooray!\n",
      "twice my number is: 2008421.04098. Hooray!\n",
      "my original number, 1004210.52049, did not change\n"
     ]
    }
   ],
   "source": [
    "my_num = 1004210.52049\n",
    "\n",
    "print(f\"my number is: {my_num}. Hooray!\")\n",
    "print(f\"twice my number is: {my_num * 2}. Hooray!\")\n",
    "print(f\"my original number, {my_num}, did not change\")"
   ]
  },
  {
   "cell_type": "markdown",
   "metadata": {
    "id": "hCspfk6ltmil"
   },
   "source": [
    "You cannot do f-string formatting with a string that is stored inside a variable. You can only do it with strings that are written directly in the code."
   ]
  },
  {
   "cell_type": "markdown",
   "metadata": {
    "id": "eSdTpYMRtmil"
   },
   "source": [
    "The reason we might use f-strings rather than passing multiple arguments to the `print()` function is that it is easier to read in code form, faster to type, and you can attach formatting to the variables that you are embedding. This formatting does not affect the underlying variable, but rather how it is displayed.\n",
    "\n",
    "Below are a few examples of how you might format numbers while inside an f-string. You don't have to memorize this syntax or use it yourself, but you will see it in future code and it's good to know what it is."
   ]
  },
  {
   "cell_type": "code",
   "execution_count": 2,
   "metadata": {
    "id": "M5K-BIQhtmil"
   },
   "outputs": [
    {
     "name": "stdout",
     "output_type": "stream",
     "text": [
      "my number is: 1004210.52\n",
      "my number is: 1004211\n",
      "my number is: 1,004,210.52049\n",
      "my number is: 1,004,210.52\n",
      "1004210.52049\n"
     ]
    }
   ],
   "source": [
    "# rounds to 2 decimal places\n",
    "print(f\"my number is: {my_num:.2f}\")\n",
    "\n",
    "# rounds to nearst whole number\n",
    "print(f\"my number is: {my_num:.0f}\")\n",
    "\n",
    "# adds commas to separate thousands\n",
    "print(f\"my number is: {my_num:,}\")\n",
    "\n",
    "# adds commas to separate thousands and rounds to 2 decimal places\n",
    "print(f\"my number is: {my_num:,.2f}\")\n",
    "\n",
    "# original number\n",
    "print(my_num)"
   ]
  },
  {
   "cell_type": "markdown",
   "metadata": {
    "id": "qQ_kyUeytmim"
   },
   "source": [
    "## More advanced control flow"
   ]
  },
  {
   "cell_type": "markdown",
   "metadata": {
    "id": "fpxpr9JZtmim"
   },
   "source": [
    "Computer programs work by reading a text document line by line from top to bottom and executing the code on each line in sequence. However, we've previously learned how to control the execution of certain blocks of code based on the state of the program using **conditional statements**, **loops**, and **functions**.\n",
    "\n",
    "The following lessons on **control flow** are concerned with making a function or another block of code self-monitor its state and to give feedback to the user when it reaches certains states, such as errors or deliberate stopping points. Think of these tools as a way to make the code anticipate conditions and interrupt itself when those conditions are encountered."
   ]
  },
  {
   "cell_type": "markdown",
   "metadata": {
    "id": "Hyu3RZ0utmin"
   },
   "source": [
    "### Exception Handling\n",
    "\n",
    "**Exception handling** is a fundamental concept in Python that allows you to manage and respond to errors gracefully, ensuring that a program can continue running or fail in a controlled manner. When your code encounters an issue—such as trying to divide by zero, accessing a file that doesn't exist, or converting user input to the wrong type—Python **raises** an \"exception.\" Without proper handling, these exceptions can (and usually do) cause your program to crash, or worse create unpredictable bugs. This is called an **unhandled exception**. By using **try and except blocks**, you can anticipate potential errors, catch these exceptions, and define alternative actions or informative messages for the user.\n",
    "\n",
    "As an example, here is a simple function that calcutes the log2 fold change, that is log2(x/y). We will write this naively, and then see what errors we get with different inputs."
   ]
  },
  {
   "cell_type": "code",
   "execution_count": 3,
   "metadata": {
    "id": "anCuN-E3tmio"
   },
   "outputs": [],
   "source": [
    "import math\n",
    "\n",
    "def log2fc(x, y):\n",
    "    return math.log2(x/y)"
   ]
  },
  {
   "cell_type": "code",
   "execution_count": 4,
   "metadata": {
    "id": "4_dEj7UJtmio"
   },
   "outputs": [
    {
     "ename": "ZeroDivisionError",
     "evalue": "division by zero",
     "output_type": "error",
     "traceback": [
      "\u001b[0;31m---------------------------------------------------------------------------\u001b[0m",
      "\u001b[0;31mZeroDivisionError\u001b[0m                         Traceback (most recent call last)",
      "Cell \u001b[0;32mIn[4], line 1\u001b[0m\n\u001b[0;32m----> 1\u001b[0m \u001b[43mlog2fc\u001b[49m\u001b[43m(\u001b[49m\u001b[38;5;241;43m0\u001b[39;49m\u001b[43m,\u001b[49m\u001b[38;5;241;43m0\u001b[39;49m\u001b[43m)\u001b[49m\n",
      "Cell \u001b[0;32mIn[3], line 4\u001b[0m, in \u001b[0;36mlog2fc\u001b[0;34m(x, y)\u001b[0m\n\u001b[1;32m      3\u001b[0m \u001b[38;5;28;01mdef\u001b[39;00m \u001b[38;5;21mlog2fc\u001b[39m(x, y):\n\u001b[0;32m----> 4\u001b[0m     \u001b[38;5;28;01mreturn\u001b[39;00m math\u001b[38;5;241m.\u001b[39mlog2(\u001b[43mx\u001b[49m\u001b[38;5;241;43m/\u001b[39;49m\u001b[43my\u001b[49m)\n",
      "\u001b[0;31mZeroDivisionError\u001b[0m: division by zero"
     ]
    }
   ],
   "source": [
    "log2fc(0,0)"
   ]
  },
  {
   "cell_type": "code",
   "execution_count": 5,
   "metadata": {
    "id": "Iy1M4E5Btmip"
   },
   "outputs": [
    {
     "ename": "ZeroDivisionError",
     "evalue": "division by zero",
     "output_type": "error",
     "traceback": [
      "\u001b[0;31m---------------------------------------------------------------------------\u001b[0m",
      "\u001b[0;31mZeroDivisionError\u001b[0m                         Traceback (most recent call last)",
      "Cell \u001b[0;32mIn[5], line 1\u001b[0m\n\u001b[0;32m----> 1\u001b[0m \u001b[43mlog2fc\u001b[49m\u001b[43m(\u001b[49m\u001b[38;5;241;43m10\u001b[39;49m\u001b[43m,\u001b[49m\u001b[38;5;241;43m0\u001b[39;49m\u001b[43m)\u001b[49m\n",
      "Cell \u001b[0;32mIn[3], line 4\u001b[0m, in \u001b[0;36mlog2fc\u001b[0;34m(x, y)\u001b[0m\n\u001b[1;32m      3\u001b[0m \u001b[38;5;28;01mdef\u001b[39;00m \u001b[38;5;21mlog2fc\u001b[39m(x, y):\n\u001b[0;32m----> 4\u001b[0m     \u001b[38;5;28;01mreturn\u001b[39;00m math\u001b[38;5;241m.\u001b[39mlog2(\u001b[43mx\u001b[49m\u001b[38;5;241;43m/\u001b[39;49m\u001b[43my\u001b[49m)\n",
      "\u001b[0;31mZeroDivisionError\u001b[0m: division by zero"
     ]
    }
   ],
   "source": [
    "log2fc(10,0)"
   ]
  },
  {
   "cell_type": "code",
   "execution_count": 6,
   "metadata": {
    "id": "-aJYcUtltmip"
   },
   "outputs": [
    {
     "ename": "ValueError",
     "evalue": "math domain error",
     "output_type": "error",
     "traceback": [
      "\u001b[0;31m---------------------------------------------------------------------------\u001b[0m",
      "\u001b[0;31mValueError\u001b[0m                                Traceback (most recent call last)",
      "Cell \u001b[0;32mIn[6], line 1\u001b[0m\n\u001b[0;32m----> 1\u001b[0m \u001b[43mlog2fc\u001b[49m\u001b[43m(\u001b[49m\u001b[38;5;241;43m0\u001b[39;49m\u001b[43m,\u001b[49m\u001b[38;5;241;43m10\u001b[39;49m\u001b[43m)\u001b[49m\n",
      "Cell \u001b[0;32mIn[3], line 4\u001b[0m, in \u001b[0;36mlog2fc\u001b[0;34m(x, y)\u001b[0m\n\u001b[1;32m      3\u001b[0m \u001b[38;5;28;01mdef\u001b[39;00m \u001b[38;5;21mlog2fc\u001b[39m(x, y):\n\u001b[0;32m----> 4\u001b[0m     \u001b[38;5;28;01mreturn\u001b[39;00m \u001b[43mmath\u001b[49m\u001b[38;5;241;43m.\u001b[39;49m\u001b[43mlog2\u001b[49m\u001b[43m(\u001b[49m\u001b[43mx\u001b[49m\u001b[38;5;241;43m/\u001b[39;49m\u001b[43my\u001b[49m\u001b[43m)\u001b[49m\n",
      "\u001b[0;31mValueError\u001b[0m: math domain error"
     ]
    }
   ],
   "source": [
    "log2fc(0,10)"
   ]
  },
  {
   "cell_type": "code",
   "execution_count": 7,
   "metadata": {
    "id": "vL-3_Y8utmiq"
   },
   "outputs": [
    {
     "ename": "TypeError",
     "evalue": "unsupported operand type(s) for /: 'str' and 'str'",
     "output_type": "error",
     "traceback": [
      "\u001b[0;31m---------------------------------------------------------------------------\u001b[0m",
      "\u001b[0;31mTypeError\u001b[0m                                 Traceback (most recent call last)",
      "Cell \u001b[0;32mIn[7], line 1\u001b[0m\n\u001b[0;32m----> 1\u001b[0m \u001b[43mlog2fc\u001b[49m\u001b[43m(\u001b[49m\u001b[38;5;124;43m\"\u001b[39;49m\u001b[38;5;124;43ma\u001b[39;49m\u001b[38;5;124;43m\"\u001b[39;49m\u001b[43m,\u001b[49m\u001b[43m \u001b[49m\u001b[38;5;124;43m\"\u001b[39;49m\u001b[38;5;124;43mb\u001b[39;49m\u001b[38;5;124;43m\"\u001b[39;49m\u001b[43m)\u001b[49m\n",
      "Cell \u001b[0;32mIn[3], line 4\u001b[0m, in \u001b[0;36mlog2fc\u001b[0;34m(x, y)\u001b[0m\n\u001b[1;32m      3\u001b[0m \u001b[38;5;28;01mdef\u001b[39;00m \u001b[38;5;21mlog2fc\u001b[39m(x, y):\n\u001b[0;32m----> 4\u001b[0m     \u001b[38;5;28;01mreturn\u001b[39;00m math\u001b[38;5;241m.\u001b[39mlog2(\u001b[43mx\u001b[49m\u001b[38;5;241;43m/\u001b[39;49m\u001b[43my\u001b[49m)\n",
      "\u001b[0;31mTypeError\u001b[0m: unsupported operand type(s) for /: 'str' and 'str'"
     ]
    }
   ],
   "source": [
    "log2fc(\"a\", \"b\")"
   ]
  },
  {
   "cell_type": "markdown",
   "metadata": {
    "id": "E71VkxFztmiq"
   },
   "source": [
    "We see that there are three kinds of errors here, that we might want to handle. The first is a \"ZeroDivisionError\", when we try to divide by 0. The second is a ValueError, since the math.log2 function does not like returning -Inf for log2(0), and in our function we probably don't want that either. The last is a TypeError if we give inputs that don't have division methods (e.g., strings).\n",
    "\n",
    "For any error, we can \"catch\" the error with a try-except statement, which has the following basic form:\n",
    "\n",
    "```\n",
    "try:\n",
    "    code to try goes here\n",
    "except ErrorType:\n",
    "    code to run if try block generates ErrorType goes here\n",
    "```\n",
    "\n",
    "In a way, `try` is like an `if` statement: `if` statements check a condition to determine if the block of code should be executed. For `try`, the condition is simply \"does this block of code run without error?\" If so, proceed, otherwise run the code under `except`. In fact, we can even use `else` after `try` (see below)\n",
    "\n",
    "A few things to note:\n",
    "\n",
    "- Specifying Error Types: You don't need to specify an error type after `except`; if you don't, the except block will catch any error. Normally, this isn't a good idea because you might want to return specific messages or handle particular error types differently.\n",
    "- Multiple Except Blocks: except statements actually function somewhat like `elif`: you can have many of them, each with a different ErrorType. You can also list multiple error types within a single except statement using parentheses, e.g., `except (KeyError, ValueError):` if you want to catch both errors.\n",
    "- `else` and `finally` Blocks: You can have an `else` block (which runs only if no errors occur) or a `finally` block (which runs after the try-except regardless of whether an error occurred)."
   ]
  },
  {
   "cell_type": "markdown",
   "metadata": {
    "id": "zmtx_R9gtmir"
   },
   "source": [
    "Below is a slightly improved version of our function that catches TypeErrors."
   ]
  },
  {
   "cell_type": "code",
   "execution_count": 8,
   "metadata": {
    "id": "tF1HBJvItmir"
   },
   "outputs": [],
   "source": [
    "def log2fc(x, y):\n",
    "    try:\n",
    "        ratio = x/y\n",
    "    except TypeError:\n",
    "        print(\"Error: x and y must be numbers\")\n",
    "        return None\n",
    "\n",
    "    return math.log2(ratio)"
   ]
  },
  {
   "cell_type": "code",
   "execution_count": 9,
   "metadata": {
    "id": "yChHep5Wtmis"
   },
   "outputs": [
    {
     "name": "stdout",
     "output_type": "stream",
     "text": [
      "Error: x and y must be numbers\n"
     ]
    }
   ],
   "source": [
    "log2fc(\"1\", \"2\")"
   ]
  },
  {
   "cell_type": "markdown",
   "metadata": {
    "id": "ZiPKKXPQtmis"
   },
   "source": [
    ">**Exercise:** Annotate the below function with comments `# like this` to explain what each try and except block is doing.\n",
    ">\n",
    "> Think about why there are two try/except blocks. Share with your neighbor to see if your annotations are interpreting the code the same way. After sharing with your neighbor, what are some additional questions that you have about exception handling?"
   ]
  },
  {
   "cell_type": "code",
   "execution_count": 10,
   "metadata": {
    "id": "toahd6pvtmit"
   },
   "outputs": [],
   "source": [
    "def log2fc(x, y):\n",
    "    try:\n",
    "        ratio = x/y\n",
    "\n",
    "    # this adds a pseudocount to y if it is 0\n",
    "    except ZeroDivisionError:\n",
    "        y_adj = y + 1e-10\n",
    "        ratio = x/y_adj\n",
    "        print(f\"Warning: y was 0, correcting to {y_adj}\")\n",
    "    # this returns none if x or y are not numbers\n",
    "\n",
    "    except TypeError:\n",
    "        print(\"Error: x and y must be numbers\")\n",
    "        return None\n",
    "\n",
    "    # the log of 0 is undefined, but we make it return 0 instead of error\n",
    "    # needs a separate try block because log2 needs to be evaluated first\n",
    "    try:\n",
    "        return math.log2(ratio)\n",
    "    except ValueError:\n",
    "        print(f\"Error: log2({ratio}) is undefined, using 0\")\n",
    "        return 0"
   ]
  },
  {
   "cell_type": "code",
   "execution_count": 11,
   "metadata": {
    "id": "HOl06cGxtmiu"
   },
   "outputs": [
    {
     "name": "stdout",
     "output_type": "stream",
     "text": [
      "a warning is printed when y is 0\n",
      "Warning: y was 0, correcting to 1e-10\n",
      "33.219280948873624\n",
      "---\n",
      "the log of 0 is returned as 0\n",
      "Error: log2(0.0) is undefined, using 0\n",
      "0\n",
      "---\n",
      "an error is printed when x or y are not numbers\n",
      "Error: x and y must be numbers\n",
      "None\n"
     ]
    }
   ],
   "source": [
    "# this demonstrates the error and warning messages\n",
    "\n",
    "print((\"a warning is printed when y is 0\"))\n",
    "print(log2fc(1,0))\n",
    "print('---')\n",
    "print(\"the log of 0 is returned as 0\")\n",
    "print(log2fc(0,11))\n",
    "print('---')\n",
    "print(\"an error is printed when x or y are not numbers\")\n",
    "print(log2fc(\"10\",0))\n"
   ]
  },
  {
   "cell_type": "markdown",
   "metadata": {
    "id": "OK5_huEbtmiu"
   },
   "source": [
    ">**Exercise**: Work with a neighbor to write the user input portion of our random walk function. The function should take a `step_size` and `walk_size` and check that both inputs are valid. If both inputs are valid, it should return both the `step_size` and `walk_size`.\n",
    "> 1. **Discuss** what conditions might need to be checked in the context of a random walk\n",
    "> 2. **Plan** which order to check these conditions makes the most sense.\n",
    "> 3. **Write** a function that checks that `step_size` and `walk_size` are compatible with a random walk scenario\n",
    "> 4. **Test** your function\n",
    ">\n",
    "> Share your answer with another pair and see if they did things differently."
   ]
  },
  {
   "cell_type": "code",
   "execution_count": 12,
   "metadata": {
    "id": "-e2A8yQ0tmiu"
   },
   "outputs": [],
   "source": [
    "# Your code here\n",
    "def get_user_inputs(step_size, walk_size):\n",
    "    if not isinstance(step_size, int) or not isinstance(walk_size, int):\n",
    "        raise ValueError(\"Both step_size and walk_size should be integers.\")\n",
    "\n",
    "    if step_size <= 0 or walk_size <= 0:\n",
    "        raise ValueError(\"Both step_size and walk_size should be positive integers.\")\n",
    "\n",
    "    return step_size, walk_size"
   ]
  },
  {
   "cell_type": "code",
   "execution_count": 13,
   "metadata": {
    "id": "4jdvjUIytmiv"
   },
   "outputs": [
    {
     "name": "stdout",
     "output_type": "stream",
     "text": [
      "(3, 10)\n",
      "(10, 10)\n"
     ]
    }
   ],
   "source": [
    "# test your code for proper functioning here\n",
    "\n",
    "print(get_user_inputs(3, 10))\n",
    "print(get_user_inputs(10, 10))\n",
    "\n",
    "# test code for error handling here\n",
    "# what errors should we test for?"
   ]
  },
  {
   "cell_type": "markdown",
   "metadata": {
    "id": "5tIcYAiPtmiv"
   },
   "source": [
    "Example of a use-case for handling exceptions in your own code:\n",
    "\n",
    "You have written a function that reads in a file and processes it, but it requires that certain things in the file are numerical. It works on your own data that you know is nice and clean, but you want your code to also work on you colleague's data. So you might add a `try`/`except` block to catch `ValueError` if the data is not numerical. Then you might `try` to convert the data to a float, and if that fails, you might `except` and print a message to the user that the data is not numerical."
   ]
  },
  {
   "cell_type": "markdown",
   "metadata": {
    "id": "nA_IUEmqtmiw"
   },
   "source": [
    "### Controlling behavior with break and continue"
   ]
  },
  {
   "cell_type": "markdown",
   "metadata": {
    "id": "CHDANY-ntmiw"
   },
   "source": [
    "Sometimes you might want to exit a loop early or you might want to skip the rest of the code and start the next iteration. The `break` and `continue` statements are used for such finer grained control over your loops. The `break` statement will exit the innermost `for` or `while` loop it is in. In the below example, we use a while loop to find the first number that is divisible by 7."
   ]
  },
  {
   "cell_type": "code",
   "execution_count": 14,
   "metadata": {
    "id": "NHaxLUQRtmiw"
   },
   "outputs": [
    {
     "name": "stdout",
     "output_type": "stream",
     "text": [
      "23 is not divisible by 7\n",
      "24 is not divisible by 7\n",
      "25 is not divisible by 7\n",
      "26 is not divisible by 7\n",
      "27 is not divisible by 7\n",
      "28 is divisible by 7\n"
     ]
    }
   ],
   "source": [
    "num = 22\n",
    "while True: # this would run forever if it weren't for the break statement\n",
    "    num += 1\n",
    "    if num % 7 == 0:\n",
    "        print(f\"{num} is divisible by 7\")\n",
    "        break\n",
    "    else:\n",
    "        print(f\"{num} is not divisible by 7\")\n"
   ]
  },
  {
   "cell_type": "markdown",
   "metadata": {
    "id": "KCmquW4Itmiw"
   },
   "source": [
    "`continue` is used to skip the rest of the code in the loop and start the next iteration. In the below example, we use a for loop to print all the numbers from 1 to 10 that are not divisible by 3."
   ]
  },
  {
   "cell_type": "code",
   "execution_count": 15,
   "metadata": {
    "id": "k5tjjtyxtmiw"
   },
   "outputs": [
    {
     "name": "stdout",
     "output_type": "stream",
     "text": [
      "1\n",
      "2\n",
      "4\n",
      "5\n",
      "7\n",
      "8\n",
      "10\n",
      "11\n"
     ]
    }
   ],
   "source": [
    "for i in range(1, 12):\n",
    "    # if it is divisible by 3, skip the rest of the loop (the print statement)\n",
    "    if i % 3 == 0:\n",
    "        continue\n",
    "    print(i)"
   ]
  },
  {
   "cell_type": "markdown",
   "metadata": {
    "id": "zvl1m7d3tmix"
   },
   "source": [
    "Both `break` and `continue` can be used in loops made with `for` or `while`."
   ]
  },
  {
   "cell_type": "markdown",
   "metadata": {
    "id": "YmunNDqxtmiy"
   },
   "source": [
    ">**Exercise:** Work with a neighbor to complete the code below. It is intended to be a simple guessing game. The computer will pick a random number between 1 and 10 and ask the user to input a guess. **While the user's guess is wrong**, the computer will tell the user if the guess is high or low. The break statement should be used to exit the loop when the user guesses correctly.  "
   ]
  },
  {
   "cell_type": "code",
   "execution_count": 16,
   "metadata": {
    "id": "w9PKFsxYtmiy"
   },
   "outputs": [],
   "source": [
    "\n",
    "import random\n",
    "\n",
    "def guessing_game():\n",
    "    # generate a random number betwee 1 and 10\n",
    "    number = random.randint(1, 10)\n",
    "    print(\"I'm thinking of a number between 1 and 10.\")\n",
    "\n",
    "    # this begins the while loop\n",
    "    # note that the loop has no end condition. It relies on the break statement!\n",
    "    while True:\n",
    "        # ask the user to guess the number\n",
    "        # note that input() always returns a string\n",
    "        guess = input(\"Take a guess: \")\n",
    "        # try to convert the input to an integer\n",
    "        try:\n",
    "            guess = int(guess)\n",
    "        except ValueError:\n",
    "            print(\"Invalid input. Please enter an integer.\")\n",
    "            continue\n",
    "        # your code here\n",
    "        # start with an else statement\n",
    "        # if the guess is correct, print a message and break the loop\n",
    "        # if the guess is too low, print a message\n",
    "        # if the guess is too high, print a message\n",
    "        else:\n",
    "            if guess == number:\n",
    "                print(f\"Good job! The number was {number}.\")\n",
    "                break\n",
    "            elif guess < number:\n",
    "                print(\"Your guess is too low.\")\n",
    "            else:\n",
    "                print(\"Your guess is too high.\")\n"
   ]
  },
  {
   "cell_type": "code",
   "execution_count": 17,
   "metadata": {
    "id": "PgdClvUEtmiz"
   },
   "outputs": [
    {
     "name": "stdout",
     "output_type": "stream",
     "text": [
      "I'm thinking of a number between 1 and 10.\n",
      "Your guess is too high.\n",
      "Good job! The number was 1.\n"
     ]
    }
   ],
   "source": [
    "# check your code\n",
    "guessing_game()"
   ]
  },
  {
   "cell_type": "markdown",
   "metadata": {
    "id": "UihiGE86tmiz"
   },
   "source": [
    "## Functions to Programs"
   ]
  },
  {
   "cell_type": "markdown",
   "metadata": {
    "id": "_inDS2Y6tmi0"
   },
   "source": [
    "## Code annotation\n",
    "\n",
    "In the past couple of sessions, we have learned the building blocks of computer programs. We have just one more concept and activity before you are ready to write your random walk program. That is, **code annotation**. When you begin to write longer functions or scripts, it's important to leave breadcrumbs for yourself (and others) about what your code does. While you can sprinkle `#comments` throughout your program, there are also some standardized ways to do so.\n",
    "\n",
    "If you are annotating functions, you should use something called a **\"docstring\"**. This is a string that is the first line of a function and is enclosed in triple quotes. It should describe what the function does, what inputs it takes, and what it returns. Here is an example of a docstring:\n",
    "\n",
    "```python\n",
    "def add(x, y):\n",
    "    \"\"\"\n",
    "    This function adds two numbers together.\n",
    "    \n",
    "    Parameters:\n",
    "    x (int): The first number to add\n",
    "    y (int): The second number to add\n",
    "    \n",
    "    Returns:\n",
    "    int: The sum of x and y\n",
    "    \"\"\"\n",
    "    return x + y\n",
    "```\n",
    "Notice that the docstring helps the user of the function remember the type of input the function takes and what it returns.\n",
    "\n",
    "In contrast, if you are annotating a script, which may be calling many functions, you should use comments. Comments are denoted by a `#` symbol. Here is an example of a commented script:"
   ]
  },
  {
   "cell_type": "code",
   "execution_count": null,
   "metadata": {},
   "outputs": [],
   "source": [
    "# This script adds two numbers together and prints it\n",
    "# Author: Your Name\n",
    "\n",
    "# Import the necessary libraries\n",
    "import numpy as np\n",
    "\n",
    "# Define the use input function\n",
    "def user_input():\n",
    "    \"\"\"\n",
    "    This function asks the user for two numbers.\n",
    "    \n",
    "    Returns:\n",
    "    int: The first number the user inputs\n",
    "    int: The second number the user inputs\n",
    "    \"\"\"\n",
    "    x = int(input(\"Enter the first number: \"))\n",
    "    y = int(input(\"Enter the second number: \"))\n",
    "    return x, y\n",
    "\n",
    "# Define the add function\n",
    "def add(x, y):\n",
    "    \"\"\"\n",
    "    This function adds two numbers together.\n",
    "    \n",
    "    Parameters:\n",
    "    x (int): The first number to add\n",
    "    y (int): The second number to add\n",
    "    \n",
    "    Returns:\n",
    "    int: The sum of x and y\n",
    "    \"\"\"\n",
    "    return x + y\n",
    "\n",
    "# main code\n",
    "x, y = user_input()\n",
    "print(add(x, y))"
   ]
  },
  {
   "cell_type": "markdown",
   "metadata": {
    "id": "AyLSZRlwtmi0"
   },
   "source": [
    ">**Exercise:** Copy and paste your `display_walk` function from above into the cell below. Add a docstring to the function that describes what it does, what inputs it takes, and what it returns. Then, call `help(display_walk)` and see what happens!\n",
    ">\n",
    "> If short on time, you can also use LLMs to write your docstring. Usually they do pretty well."
   ]
  },
  {
   "cell_type": "code",
   "execution_count": 18,
   "metadata": {
    "id": "z13K3xGBtmi1"
   },
   "outputs": [
    {
     "name": "stdout",
     "output_type": "stream",
     "text": [
      "Help on function display_walk in module __main__:\n",
      "\n",
      "display_walk(size, position)\n",
      "    Parameters: size (int) - a positive integer representing the size of the walk\n",
      "                position (int) - an integer representing the position of the walker\n",
      "    Displays a walk of size `size` with a walker at position `position`.\n",
      "    Walkers are represented by 'O' and out of bounds positions are represented by 'X'.\n",
      "    Unoccupied positions are represented by '-'.\n",
      "\n"
     ]
    }
   ],
   "source": [
    "\n",
    "def display_walk(size, position):\n",
    "    \"\"\"\n",
    "    Parameters: size (int) - a positive integer representing the size of the walk\n",
    "                position (int) - an integer representing the position of the walker\n",
    "    Displays a walk of size `size` with a walker at position `position`.\n",
    "    Walkers are represented by 'O' and out of bounds positions are represented by 'X'.\n",
    "    Unoccupied positions are represented by '-'.\n",
    "    \"\"\"\n",
    "    if 0 <= position < size:\n",
    "    # Create a string with 'O' at the specified position\n",
    "        walk = '-' * position + 'O' + '-' * (size - position - 1)\n",
    "    elif position < 0:\n",
    "        # Position is out of bounds, place 'X' at the end\n",
    "        walk = \"X\" + '-' * (size - 1)\n",
    "    else: # position >= size\n",
    "        # Position is out of bounds, place 'X' at the beginning\n",
    "        walk = '-' * (size - 1) + \"X\"\n",
    "    print(walk)\n",
    "\n",
    "# try calling help on your function\n",
    "help(display_walk)"
   ]
  },
  {
   "cell_type": "markdown",
   "metadata": {
    "id": "DXSttiYHtmi1"
   },
   "source": [
    ">**Exercise:** For our final activity before writing our program, let's review the topics we have already learned. On a piece of paper or on the white board, draw a concept map of how all the topics connect to each other. It's fine if this only makes sense to you, but you can also work with others to see how they connect the topics. You may find this concept map as a helpful reference when you are writing your random walk program.\n",
    ">\n",
    ">Topics/Concepts to include on the drawing:\n",
    ">\n",
    ">* Conditionals (if/else)\n",
    ">* Loops\n",
    ">    * For loops\n",
    ">    * While loops\n",
    ">* Strings\n",
    ">* Numerical values\n",
    ">* Booleans\n",
    ">* Lists\n",
    ">* Dictionaries\n",
    ">* Exceptions\n",
    ">* Functions\n",
    ">* Methods\n",
    ">* Pseudocode\n",
    ">* Control flow\n",
    ">* Debugging\n",
    ">\n",
    ">Feel free to add more to your map!"
   ]
  },
  {
   "cell_type": "markdown",
   "metadata": {
    "id": "Pzl9JXBntmi1"
   },
   "source": [
    "## Random walk program"
   ]
  },
  {
   "cell_type": "markdown",
   "metadata": {
    "id": "kNX49_B-tmi1"
   },
   "source": [
    "For this exercise, you already know the concepts needed to create a random walk. Everyone will likely write a slightly different program so we aren't going to give a whole lot of structure because we want you to explore what is possible. There is just one thing that you will all probably need, which is to import the `random` module. This module has a function called `random.choice()` which will randomly select an element from a list. See below for an example:"
   ]
  },
  {
   "cell_type": "code",
   "execution_count": 19,
   "metadata": {
    "id": "ffC4HiTmtmi1"
   },
   "outputs": [
    {
     "name": "stdout",
     "output_type": "stream",
     "text": [
      "heads\n"
     ]
    }
   ],
   "source": [
    "import random\n",
    "\n",
    "print(random.choice([\"heads\", \"tails\"]))"
   ]
  },
  {
   "cell_type": "markdown",
   "metadata": {
    "id": "vsLWqySitmi1"
   },
   "source": [
    "Write your code below. If you get stuck, check out your concept map, work with a neighbor, or review the topics we learned today. And of course, remember to use your debugging skills!"
   ]
  },
  {
   "cell_type": "code",
   "execution_count": 20,
   "metadata": {
    "id": "vc9R57ULtmi2"
   },
   "outputs": [],
   "source": [
    "import random\n",
    "\n",
    "def get_user_inputs(step_size, walk_size):\n",
    "    \"\"\"\n",
    "    Validate the user inputs for step size and walk size.\n",
    "    If the inputs are valid, return them.\n",
    "    \"\"\"\n",
    "    if not isinstance(step_size, int) or not isinstance(walk_size, int):\n",
    "        raise ValueError(\"Both step_size and walk_size should be integers.\")\n",
    "\n",
    "    if step_size <= 0 or walk_size <= 0:\n",
    "        raise ValueError(\"Both step_size and walk_size should be positive integers.\")\n",
    "\n",
    "    return step_size, walk_size\n",
    "\n",
    "def display_walk(position, walk_size, boundary_symbol='X', walker_symbol='O', open_space='-'):\n",
    "    \"\"\"\n",
    "    Display the current position of the walker on the walk line.\n",
    "    Input:\n",
    "    - position: the current position of the walker\n",
    "    - walk_size: the size of the walk line\n",
    "    - boundary_symbol: the symbol to represent reaching the boundary\n",
    "    - walker_symbol: the symbol to represent the walker\n",
    "    - open_space: the symbol to represent an open space\n",
    "    Return: None (but print the walk line)\n",
    "    \"\"\"\n",
    "    # walk line represented by a list of string symbols\n",
    "    walk_line = [open_space] * walk_size\n",
    "    # if statement to check if the position is within the walk line\n",
    "    if 0 <= position < walk_size:\n",
    "        walk_line[position] = walker_symbol\n",
    "    # if the position is outside the walk line, put boundary symbol at the edge\n",
    "    else:\n",
    "        symbol_position = 0 if position < 0 else walk_size - 1\n",
    "        walk_line[symbol_position] = boundary_symbol\n",
    "    # joins the symbols to create a string and prints it\n",
    "    print(\"\".join(walk_line))\n",
    "\n",
    "def random_walk(step_size, walk_size):\n",
    "    \"\"\"\n",
    "    Simulate a random walk on a line with a given step size and walk size.\n",
    "    Input:\n",
    "    - step_size: the size of each step in the walk\n",
    "    - walk_size: the size of the walk line\n",
    "    Return: None (but print the walk line at each step and when the boundary is reached)\n",
    "    \"\"\"\n",
    "    position = walk_size // 2  # Start from the middle of the walk line\n",
    "    print(f\"Starting random walk with boundary size: {walk_size} and step size: {step_size}\")\n",
    "\n",
    "    # loop walk until boundary is reached\n",
    "    while 0 <= position < walk_size:\n",
    "        # display current position\n",
    "        display_walk(position, walk_size)\n",
    "        # generate random direction\n",
    "        direction = random.choice([-1, 1])\n",
    "        # update current position\n",
    "        position += direction * step_size\n",
    "\n",
    "    # calls the display walk function at the end one more time\n",
    "    display_walk(position, walk_size)\n",
    "    print(\"Reached boundary!\")\n",
    "\n",
    "# runs random walk. but calls get_user_inputs to validate inputs first\n",
    "def run_random_walk(step_size, walk_size):\n",
    "    try:\n",
    "        step_size, walk_size = get_user_inputs(step_size, walk_size)\n",
    "        random_walk(step_size, walk_size)\n",
    "    except ValueError as e:\n",
    "        print(f\"Input error: {e}\")\n",
    "    except Exception as e:\n",
    "        print(f\"An unexpected error occurred: {e}\")"
   ]
  },
  {
   "cell_type": "code",
   "execution_count": 21,
   "metadata": {},
   "outputs": [
    {
     "name": "stdout",
     "output_type": "stream",
     "text": [
      "Starting random walk with boundary size: 10 and step size: 2\n",
      "-----O----\n",
      "-------O--\n",
      "-----O----\n",
      "-------O--\n",
      "---------O\n",
      "-------O--\n",
      "-----O----\n",
      "-------O--\n",
      "---------O\n",
      "---------X\n",
      "Reached boundary!\n"
     ]
    }
   ],
   "source": [
    "run_random_walk(2, 10)"
   ]
  }
 ],
 "metadata": {
  "colab": {
   "provenance": []
  },
  "kernelspec": {
   "display_name": "pyworkshop",
   "language": "python",
   "name": "python3"
  },
  "language_info": {
   "codemirror_mode": {
    "name": "ipython",
    "version": 3
   },
   "file_extension": ".py",
   "mimetype": "text/x-python",
   "name": "python",
   "nbconvert_exporter": "python",
   "pygments_lexer": "ipython3",
   "version": "3.13.1"
  }
 },
 "nbformat": 4,
 "nbformat_minor": 0
}
