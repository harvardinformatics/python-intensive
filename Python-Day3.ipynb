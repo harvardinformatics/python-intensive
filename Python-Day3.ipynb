{
 "cells": [
  {
   "cell_type": "markdown",
   "metadata": {
    "id": "K3UDXaY9tsKo"
   },
   "source": [
    "# Python intensive, day 3\n",
    "\n",
    "## Review of Days 1 + 2\n",
    "\n",
    "Welcome to day 3 of our python intensive course. This is the last day of the \"introduction to computer science\" part of the course, after which we will move on to the \"introduction to data science\" part. Let's review what we have learned so far:\n",
    "\n",
    "1. A computer program is a sequence of instructions that is read from top to bottom and executed by the computer. You need to give it extremely precise instructions. It's helpful to use **pseudocode** to plan our the logic of your program before you apply the **syntax** of your programming language.\n",
    "2. **Variables** are assigned to data using the `=` operator.\n",
    "3. **Functions** are blocks of code that are executed when called. You can also think of operators as functions that take arguments on both sides.\n",
    "4. We learned about various data types, including **integers**, **strings**, and **booleans** and how various operators work with them. Knowing what data type you are working with is very important!\n",
    "5. **Conditional statements** like `if`, `elif`, `else` allow you to control the flow of the program, skipping code that doesn't need to be executed.\n",
    "6. **Loops** like `for` and `while` allow you to repeat code multiple times. For while loops, it's important to make sure that it will end by using an update variable. For loops use iterables to repeat code.\n",
    "7. **Iterables** are objects that can be looped over, like **lists**, **dictionaries**, and **strings**. They are indexed starting at 0 and can be sliced using the `:` operator.\n",
    "8. **Lists** are a basic data structure that store multiple values. They are indexed by their position in the list.\n",
    "9. While learning about lists, we learned about methods, which are functions that are attached to objects and can modify that object **in place** or give you information about that object.\n",
    "10. **Dictionaries** are another type of basic data structure that store key-value pairs. They are indexed by their keys.\n",
    "11. How to write **functions** of your own and either print the results or return the values."
   ]
  },
  {
   "cell_type": "markdown",
   "metadata": {},
   "source": [
    "## Importing libraries of functions\n",
    "\n",
    "Let's again think about our recipe telling a robot how to bake chocoloate chip cookies:\n",
    "\n",
    "```\n",
    "  1. Walk_anywhere(distance=2 meters and angle=40°).\n",
    "  2. Extend your arm towards the power button.\n",
    "  3. Push the power button.\n",
    "  4. Move your arm to the temperature dial.\n",
    "  5. Set the temperature dial to 375°F (190°C).\n",
    "  6. Lower your arm.\n",
    "  7. Walk_anywhere(distance=0.6 meters and angle=120°).\n",
    "  8. Extend your arm.\n",
    "  9. Grasp the cabinet handle.\n",
    "  10. Pull the cabinet open.\n",
    "  11. Release the cabinet handle.\n",
    "  12. Extend both arms toward the large mixing bowl on the shelf.\n",
    "  13. Grasp the mixing bowl with both hands.\n",
    "  .\n",
    "  .\n",
    "  .\n",
    "  and so on.\n",
    "```\n",
    "\n",
    "Elsewhere in the recipe book are step-by-step instructions for certain tasks, like:\n",
    "\n",
    "```\n",
    "Walk_anywhere(*distance*, *angle*):\n",
    "  1. Turn body *angle* degrees\n",
    "  2. Repeat Step until the *distance* has been traversed\n",
    "```\n",
    "\n",
    "and:\n",
    "\n",
    "```\n",
    "Step:\n",
    "  1. Lift right leg.\n",
    "  2. Extend right leg.\n",
    "  3. Lower right leg and lift left leg.\n",
    "  4. Extend left leg.\n",
    "  5. Lower left leg and lift right leg.\n",
    "```\n",
    "\n",
    "These recipes are analogous to **functions**, and because they already exist in the recipe book, we can think of them as **built-in functions**, those that come with your Python installation. We've learned about a lot of these, like `len()` for iterables, `sum()` for a list of numbers, and so on.\n",
    "\n",
    "However, there are lots of other chefs out there writing their own recipes, and they may make their recipe books available to anyone who wants them. This is great because you may end up needing to cook some similar recipes, in which case you can go to the public library or the bookstore and pick up their book to use.\n",
    "\n",
    "In programming terms, this is referred to as **importing a library**. The **library** written by someone else will have extra functions that, once imported, you can use in your program. **Libraries may also be referred to as modules**, among other names.\n",
    "\n",
    "For instance, there is no built-in function in Python to calculate the log of a number:"
   ]
  },
  {
   "cell_type": "code",
   "execution_count": null,
   "metadata": {},
   "outputs": [
    {
     "ename": "NameError",
     "evalue": "name 'log' is not defined",
     "output_type": "error",
     "traceback": [
      "\u001b[0;31m---------------------------------------------------------------------------\u001b[0m\n",
      "\u001b[0;31mNameError\u001b[0m                                 Traceback (most recent call last)\n",
      "\u001b[0;32m<ipython-input-1-85d71efb1520>\u001b[0m in \u001b[0;36m<cell line: 1>\u001b[0;34m()\u001b[0m\n",
      "\u001b[0;32m----> 1\u001b[0;31m \u001b[0mprint\u001b[0m\u001b[0;34m(\u001b[0m\u001b[0mlog\u001b[0m\u001b[0;34m(\u001b[0m\u001b[0;36m100\u001b[0m\u001b[0;34m)\u001b[0m\u001b[0;34m)\u001b[0m\u001b[0;34m\u001b[0m\u001b[0;34m\u001b[0m\u001b[0m\n",
      "\u001b[0m\n",
      "\u001b[0;31mNameError\u001b[0m: name 'log' is not defined"
     ]
    }
   ],
   "source": [
    "print(log(100))"
   ]
  },
  {
   "cell_type": "markdown",
   "metadata": {},
   "source": [
    "However, there is a `math` library with a a `log()` function that you can import!"
   ]
  },
  {
   "cell_type": "code",
   "execution_count": null,
   "metadata": {},
   "outputs": [
    {
     "name": "stdout",
     "output_type": "stream",
     "text": [
      "4.605170185988092\n"
     ]
    }
   ],
   "source": [
    "import math\n",
    "print(math.log(100))"
   ]
  },
  {
   "cell_type": "markdown",
   "metadata": {},
   "source": [
    "Note that by default it does natural log.\n",
    "\n",
    "Also, notice that, in order for Python to know where to find the function even though we've imported it, we have to tell it explicitly with `math.`. This helps in the circumstance that you import multiple libraries that happen to have a function with the same name.\n",
    "\n",
    "However, you can also directly import a function from a library with the `from` keyword:"
   ]
  },
  {
   "cell_type": "code",
   "execution_count": null,
   "metadata": {},
   "outputs": [
    {
     "name": "stdout",
     "output_type": "stream",
     "text": [
      "4.605170185988092\n"
     ]
    }
   ],
   "source": [
    "from math import log\n",
    "print(log(100))"
   ]
  },
  {
   "cell_type": "markdown",
   "metadata": {},
   "source": [
    "One could also declare an **alias** for the library if you want to still import the whole library but not have to type the the complete name of it every time:"
   ]
  },
  {
   "cell_type": "code",
   "execution_count": null,
   "metadata": {},
   "outputs": [
    {
     "name": "stdout",
     "output_type": "stream",
     "text": [
      "4.605170185988092\n"
     ]
    }
   ],
   "source": [
    "import math as m\n",
    "print(m.log(100))"
   ]
  },
  {
   "cell_type": "markdown",
   "metadata": {},
   "source": [
    "This means `m` exists as an object in your program (just as if you'd assigned it with `=`). But of course, this means you can't use `m` as an object name anywhere else in the program:"
   ]
  },
  {
   "cell_type": "code",
   "execution_count": null,
   "metadata": {},
   "outputs": [
    {
     "ename": "AttributeError",
     "evalue": "'str' object has no attribute 'log'",
     "output_type": "error",
     "traceback": [
      "\u001b[0;31m---------------------------------------------------------------------------\u001b[0m\n",
      "\u001b[0;31mAttributeError\u001b[0m                            Traceback (most recent call last)\n",
      "\u001b[0;32m<ipython-input-7-b08afa73f34c>\u001b[0m in \u001b[0;36m<cell line: 5>\u001b[0;34m()\u001b[0m\n",
      "\u001b[1;32m      3\u001b[0m \u001b[0mm\u001b[0m \u001b[0;34m=\u001b[0m \u001b[0;34m\"hello world!\"\u001b[0m\u001b[0;34m\u001b[0m\u001b[0;34m\u001b[0m\u001b[0m\n",
      "\u001b[1;32m      4\u001b[0m \u001b[0;34m\u001b[0m\u001b[0m\n",
      "\u001b[0;32m----> 5\u001b[0;31m \u001b[0mprint\u001b[0m\u001b[0;34m(\u001b[0m\u001b[0mm\u001b[0m\u001b[0;34m.\u001b[0m\u001b[0mlog\u001b[0m\u001b[0;34m(\u001b[0m\u001b[0;36m100\u001b[0m\u001b[0;34m)\u001b[0m\u001b[0;34m)\u001b[0m\u001b[0;34m\u001b[0m\u001b[0;34m\u001b[0m\u001b[0m\n",
      "\u001b[0m\n",
      "\u001b[0;31mAttributeError\u001b[0m: 'str' object has no attribute 'log'"
     ]
    }
   ],
   "source": [
    "import math as m\n",
    "\n",
    "m = \"hello world!\"\n",
    "\n",
    "print(m.log(100))"
   ]
  },
  {
   "cell_type": "markdown",
   "metadata": {},
   "source": [
    "There are many, many libraries out there. Some are pre-installed with Python (like `math`), but others you may find and have to install for yourself. Hopefully the authors have easy and clear instructions for installation...\n",
    "\n",
    "In later days, we'll work with some libraries meant for data analysis, `numpy` and `pandas`."
   ]
  },
  {
   "cell_type": "markdown",
   "metadata": {},
   "source": [
    "## Writing functions\n",
    "\n",
    "Of course, there may come a time when you're coding and you notice you're repeating the same set of instructions on different inputs a lot. This, of course, is the perfect use-case for a function, and like the people that write the libraries you import, you can also write your own functions!\n",
    "\n",
    "**Write lots of functions! Functionalize everything!**\n",
    "\n",
    "There are many reasons to write functions, even if you think you might only use it once in your notebook or workflow. Using functions in your code improves the readability of the code, because rather than puzzle through many lines trying to interpret what was going on, you can just read the function name/description and understand what happened. It also improves readability by allowing the reader to focus on the important parts of the code rather than functions that may perform rote tasks.\n",
    "\n",
    "Functions make your code more modular and reproducible. By breaking down the analysis into discrete chunks, you can easily swap out functions to test things or move sections of code around because functions are very portable.\n",
    "\n",
    "Functions also make your code more testable. When you encounter a bug or an unexpected outcome, you can more easily trace the source of the problem if you have functions that are well-documented and do one thing. Think of it like mixing smaller batches of reagents that you use at a time rather than one big container.\n",
    "\n",
    "**Functions should do ONE thing**\n",
    "\n",
    "Functions are meant to do one thing, just like a sentence is meant to express a complete thought. If you bundle your entire analysis into a single function, it's akin to writing a run-on sentence by abusing colons, semi-colons, etc. It might be correct and it might run, but it will be hard to read and also hard to debug. Make liberal use of calling functions within functions and making your code modular.\n"
   ]
  },
  {
   "cell_type": "markdown",
   "metadata": {},
   "source": [
    "### Function syntax\n",
    "\n",
    "When writing a function, you must start the line with the `def` keyword, which stands for *define*. Then you can give the function a name. The name can be anything, as long as the name abides by the standard object naming conventions (see Day 1). Then you type parentheses `()` followed by a colon `:`:\n",
    "\n",
    "```\n",
    "def my_function():\n",
    "```\n",
    "\n",
    "> **Review question**: What other lines of code in Python end with a colon `:`? What has to happen after those lines?"
   ]
  },
  {
   "cell_type": "markdown",
   "metadata": {},
   "source": [
    "Here is an example function. What happens when we run this block?"
   ]
  },
  {
   "cell_type": "code",
   "execution_count": null,
   "metadata": {},
   "outputs": [],
   "source": [
    "def my_function():\n",
    "  print(\"hello world!\")"
   ]
  },
  {
   "cell_type": "markdown",
   "metadata": {},
   "source": [
    "Nothing! Because though we've defined the function, we haven't yet **called** it. The same way when you're coding and call a built-in function (like `len()` or `abs()`), in your program, after you've defined the function, you can type its name to call it:"
   ]
  },
  {
   "cell_type": "code",
   "execution_count": null,
   "metadata": {},
   "outputs": [
    {
     "name": "stdout",
     "output_type": "stream",
     "text": [
      "hello world!\n"
     ]
    }
   ],
   "source": [
    "my_function()"
   ]
  },
  {
   "cell_type": "markdown",
   "metadata": {},
   "source": [
    "Great! Now anytime we want to print \"hello world!\" all we have to do is type `my_function()`!\n",
    "\n",
    "Well, ok so that's not very useful. Let's make a more interesting function.\n",
    "\n",
    "> **Exercise**: Below, we've provided the code for a magic 8 ball type response. It randomly selects an answer from a list of answers. This code is not in a function. Put it in a function called `magic_8_ball()` and call it a few times in the code block. Remember, every line of code you want to be included in the function must be indented!"
   ]
  },
  {
   "cell_type": "code",
   "execution_count": null,
   "metadata": {},
   "outputs": [
    {
     "name": "stdout",
     "output_type": "stream",
     "text": [
      "The Magic 8-Ball says: Very doubtful\n",
      "The Magic 8-Ball says: No\n",
      "The Magic 8-Ball says: Outlook not so good\n"
     ]
    }
   ],
   "source": [
    "import random # This is a built-in Python library for random-number generation tasks (such as randomly selecting an element from a list)\n",
    "\n",
    "# Your code here: move the code into a function called magic_8_ball()\n",
    "def magic_8_ball():\n",
    "    # List of possible responses\n",
    "    responses = [\n",
    "        \"Yes\", \"No\", \"Maybe\", \"Ask again later\", \"Definitely\",\n",
    "        \"I have no idea\", \"Very doubtful\", \"Without a doubt\", \"Outlook not so good\"\n",
    "    ]\n",
    "\n",
    "    # Select a random response\n",
    "    answer = random.choice(responses)\n",
    "\n",
    "    # Print the response\n",
    "    print(\"The Magic 8-Ball says:\", answer)\n",
    "\n",
    "# Call the function to see the Magic 8-Ball in action\n",
    "magic_8_ball()\n",
    "magic_8_ball()\n",
    "magic_8_ball()"
   ]
  },
  {
   "cell_type": "markdown",
   "metadata": {},
   "source": [
    "### Handling arguments\n",
    "\n",
    "Of course, just like the built-in functions, our functions are a lot more versatile and useful if they **accept input in the form of arguments**.\n",
    "\n",
    "We know how to provide arguments by placing them in the parentheses during the function call (e.g. with `abs(-5)`, `-5` is the argument).\n",
    "\n",
    "When writing a function, we must also defined which arguments are accepted within the parentheses of our function definition:\n",
    "\n",
    "```\n",
    "def my_function(arg1, arg2, ...)\n",
    "```\n",
    "\n",
    "You can name the arguments anything you'd like, as long as the names conform to the object naming conventions we've gone over (see Day 1). And in this example, the `...` indicates that you can define more arguments for your function if they are needed. Of course, as we saw above with the hello world! and `magic_8_ball()` functions, a function doesn't have to have arguments at all.\n",
    "\n",
    "Here is an example of a simple function with one argument, a number:"
   ]
  },
  {
   "cell_type": "code",
   "execution_count": null,
   "metadata": {},
   "outputs": [
    {
     "name": "stdout",
     "output_type": "stream",
     "text": [
      "4\n",
      "16\n"
     ]
    }
   ],
   "source": [
    "def square(num):\n",
    "  print(num * num)\n",
    "\n",
    "square(2)\n",
    "\n",
    "my_other_num = 4\n",
    "square(my_other_num)"
   ]
  },
  {
   "cell_type": "markdown",
   "metadata": {},
   "source": [
    "Here, we've told the function to expect a single number as an argument. Within the function, we call this number object `num`. The function then simply prints out the square of the number. And we've shown a couple of ways to call the function.\n",
    "\n",
    "Just like with built-in functions, if we don't provide the expected number of arguments to our function, the program will stop with an error:"
   ]
  },
  {
   "cell_type": "code",
   "execution_count": null,
   "metadata": {},
   "outputs": [
    {
     "ename": "TypeError",
     "evalue": "square() takes 1 positional argument but 2 were given",
     "output_type": "error",
     "traceback": [
      "\u001b[0;31m---------------------------------------------------------------------------\u001b[0m\n",
      "\u001b[0;31mTypeError\u001b[0m                                 Traceback (most recent call last)\n",
      "\u001b[0;32m<ipython-input-8-6622a44528c4>\u001b[0m in \u001b[0;36m<cell line: 1>\u001b[0;34m()\u001b[0m\n",
      "\u001b[0;32m----> 1\u001b[0;31m \u001b[0msquare\u001b[0m\u001b[0;34m(\u001b[0m\u001b[0;36m2\u001b[0m\u001b[0;34m,\u001b[0m \u001b[0;36m4\u001b[0m\u001b[0;34m)\u001b[0m\u001b[0;34m\u001b[0m\u001b[0;34m\u001b[0m\u001b[0m\n",
      "\u001b[0m\n",
      "\u001b[0;31mTypeError\u001b[0m: square() takes 1 positional argument but 2 were given"
     ]
    }
   ],
   "source": [
    "square(2, 4)"
   ]
  },
  {
   "cell_type": "markdown",
   "metadata": {},
   "source": [
    "> **Exercise**: Edit the `magic_8_ball()` function to take a question (a single string) as an argument and print it out before the response."
   ]
  },
  {
   "cell_type": "code",
   "execution_count": null,
   "metadata": {},
   "outputs": [
    {
     "name": "stdout",
     "output_type": "stream",
     "text": [
      "Will it snow tomorrow? : Outlook not so good\n"
     ]
    }
   ],
   "source": [
    "import random # This is a built-in Python library for random-number generation tasks (such as randomly selecting an element from a list)\n",
    "\n",
    "# Your code here: edit the magic_8_ball function to accept a question string as an argument\n",
    "# and to print out the question in addition to the answer.\n",
    "def magic_8_ball(question):\n",
    "    # List of possible responses\n",
    "    responses = [\n",
    "        \"Yes\", \"No\", \"Maybe\", \"Ask again later\", \"Definitely\",\n",
    "        \"I have no idea\", \"Very doubtful\", \"Without a doubt\", \"Outlook not so good\"\n",
    "    ]\n",
    "\n",
    "    # Select a random response\n",
    "    answer = random.choice(responses)\n",
    "\n",
    "    # Print the response\n",
    "    print(question, \":\", answer)\n",
    "\n",
    "# Call the function to see the Magic 8-Ball in action\n",
    "magic_8_ball(\"Will it snow tomorrow?\")"
   ]
  },
  {
   "cell_type": "markdown",
   "metadata": {},
   "source": [
    "#### Default arguments\n",
    "\n",
    "It is also possible to define default values for a particular argument, in which case they do not necessarily need to be provided when the function is called:"
   ]
  },
  {
   "cell_type": "code",
   "execution_count": null,
   "metadata": {},
   "outputs": [
    {
     "name": "stdout",
     "output_type": "stream",
     "text": [
      "4\n",
      "9\n"
     ]
    }
   ],
   "source": [
    "def square(num=2):\n",
    "  print(num * num)\n",
    "\n",
    "square()\n",
    "square(3)"
   ]
  },
  {
   "cell_type": "markdown",
   "metadata": {},
   "source": [
    "This might be especially useful when you have optional code you'd like to run in your function only sometimes:"
   ]
  },
  {
   "cell_type": "code",
   "execution_count": null,
   "metadata": {},
   "outputs": [
    {
     "name": "stdout",
     "output_type": "stream",
     "text": [
      "4\n",
      "---\n",
      "4\n",
      "8\n"
     ]
    }
   ],
   "source": [
    "def square(num, also_cube=False):\n",
    "  print(num * num)\n",
    "  if also_cube:\n",
    "    print(num ** 3)\n",
    "\n",
    "square(2)\n",
    "print(\"---\")\n",
    "square(2, True)"
   ]
  },
  {
   "cell_type": "markdown",
   "metadata": {},
   "source": [
    "> **Exercise**: Write a function that takes two numbers: one to be the base and another to be the exponent. By default, this function should square the provided base number. However, if an exponent is provided, it will raise the base to that power. Provide use cases that show the function being used both with its default behavior (squaring the base) and with another exponent."
   ]
  },
  {
   "cell_type": "code",
   "execution_count": null,
   "metadata": {},
   "outputs": [
    {
     "name": "stdout",
     "output_type": "stream",
     "text": [
      "4\n",
      "8\n"
     ]
    }
   ],
   "source": [
    "# Your code here\n",
    "def power(base, exponent=2):\n",
    "  print(base ** exponent)\n",
    "\n",
    "# Provide test cases for your function below\n",
    "power(2)\n",
    "power(2, 3)"
   ]
  },
  {
   "cell_type": "markdown",
   "metadata": {},
   "source": [
    "Note that arguments with default values must appear at the end of the list of arguments in your function definition:"
   ]
  },
  {
   "cell_type": "code",
   "execution_count": null,
   "metadata": {},
   "outputs": [],
   "source": [
    "def add_2_nums(num1, also_multiply=False, num2):\n",
    "  print(num1 + num2)\n",
    "  if also_multiply:\n",
    "    print(num1 * num2)\n",
    "\n",
    "add_2_nums(2, 3)"
   ]
  },
  {
   "cell_type": "markdown",
   "metadata": {},
   "source": [
    "This prevents the above from running, which would result in an error (because `num2` would be undefined)."
   ]
  },
  {
   "cell_type": "markdown",
   "metadata": {},
   "source": [
    "### Named arguments\n",
    "\n",
    "So far, whether its been built-in functions or those we've written, we've called them simply by specifying *the values of the arguments* in the function call:"
   ]
  },
  {
   "cell_type": "code",
   "execution_count": null,
   "metadata": {},
   "outputs": [
    {
     "name": "stdout",
     "output_type": "stream",
     "text": [
      "4\n",
      "---\n",
      "4\n",
      "8\n"
     ]
    }
   ],
   "source": [
    "def square(num, also_cube=False):\n",
    "  print(num * num)\n",
    "  if also_cube:\n",
    "    print(num ** 3)\n",
    "\n",
    "my_num = 2\n",
    "square(my_num)\n",
    "print(\"---\")\n",
    "square(my_num, True)"
   ]
  },
  {
   "cell_type": "markdown",
   "metadata": {},
   "source": [
    "These are treated as **positional arguments**, which means they are assigned to the parameter in the function simply based on the order in which they are provided: the first argument provided will be given to the first parameter in the function, the second argument to the second parameter, and so on.\n",
    "\n",
    "However, we can also directly assign the values of the arguments directly in our function call:"
   ]
  },
  {
   "cell_type": "code",
   "execution_count": null,
   "metadata": {},
   "outputs": [
    {
     "name": "stdout",
     "output_type": "stream",
     "text": [
      "4\n",
      "---\n",
      "4\n",
      "8\n",
      "---\n",
      "9\n",
      "27\n"
     ]
    }
   ],
   "source": [
    "def square(num, also_cube=False):\n",
    "  print(num * num)\n",
    "  if also_cube:\n",
    "    print(num ** 3)\n",
    "\n",
    "my_num = 2\n",
    "square(num = my_num)\n",
    "print(\"---\")\n",
    "square(num = my_num, also_cube = True)\n",
    "print(\"---\")\n",
    "square(also_cube = True, num = 3)"
   ]
  },
  {
   "cell_type": "markdown",
   "metadata": {},
   "source": [
    "These are now called **named arguments**.\n",
    "\n",
    "This can greatly increase the clarity of our code, and, as shown above, obviates the need to provide arguments in any particular order. This also let's us selectively specify argument values when each one has a default:"
   ]
  },
  {
   "cell_type": "code",
   "execution_count": null,
   "metadata": {},
   "outputs": [
    {
     "name": "stdout",
     "output_type": "stream",
     "text": [
      "Hello Alice ?\n"
     ]
    }
   ],
   "source": [
    "def greet(person=\"Bob\", greeting=\"Hello\", punctuation=\"!\"):\n",
    "  print(greeting, person, punctuation)\n",
    "\n",
    "message = greet(person=\"Alice\", punctuation=\"?\")\n",
    "\n"
   ]
  },
  {
   "cell_type": "markdown",
   "metadata": {},
   "source": [
    "Here, we only provided values for `person` and `puncutation`, skipping over `greeting` in our function call, which uses it's default value. The combined use of default values for our arguments in the function and calling the function with named arguments makes our function call clearer and less error-prone."
   ]
  },
  {
   "cell_type": "markdown",
   "metadata": {},
   "source": [
    "### Writing functions exercise\n",
    "\n",
    "> **Exercise**: Write a function that takes a **list of numbers** as an argument and prints out the tally (number of numbers), and the min, max, sum, and average of the numbers in the list. Call this function `num_summary()`. Run it on the lists provided below.\n",
    ">\n",
    "> *Hint: While you could code these simple tasks yourself with a `for` loop and some `if` statements, remember there are functions that do these tasks for us that you can call in your own function. See the [List functions](#list-functions) section.*"
   ]
  },
  {
   "cell_type": "code",
   "execution_count": null,
   "metadata": {},
   "outputs": [
    {
     "name": "stdout",
     "output_type": "stream",
     "text": [
      "There are 6 numbers in the list.\n",
      "The largest number is: 85\n",
      "The smallest number is: 22\n",
      "The sum of all the numbers is: 298\n",
      "The average of the numbers is: 49.666666666666664\n",
      "---\n",
      "There are 10 numbers in the list.\n",
      "The largest number is: 92\n",
      "The smallest number is: 7\n",
      "The sum of all the numbers is: 509\n",
      "The average of the numbers is: 50.9\n",
      "---\n",
      "There are 8 numbers in the list.\n",
      "The largest number is: 95\n",
      "The smallest number is: 5\n",
      "The sum of all the numbers is: 341\n",
      "The average of the numbers is: 42.625\n",
      "---\n"
     ]
    }
   ],
   "source": [
    "# Your code here: a num_summary() function\n",
    "\n",
    "def num_summary(nums):\n",
    "  num_nums = len(nums)\n",
    "  max_num = max(nums)\n",
    "  min_num = min(nums)\n",
    "  sum_nums = sum(nums)\n",
    "\n",
    "  avg_num = sum_nums / num_nums\n",
    "\n",
    "  print(\"There are\", num_nums, \"numbers in the list.\")\n",
    "  print(\"The largest number is:\", max_num)\n",
    "  print(\"The smallest number is:\", min_num)\n",
    "  print(\"The sum of all the numbers is:\", sum_nums)\n",
    "  print(\"The average of the numbers is:\", avg_num)\n",
    "\n",
    "# These are the test cases to run the num_summary() function on\n",
    "nums1 = [23, 85, 56, 34, 78, 22]\n",
    "nums2 = [17, 48, 92, 55, 83, 24, 63, 7, 31, 89]\n",
    "nums3 = [59, 44, 66, 12, 5, 95, 23, 37]\n",
    "\n",
    "for num_list in [nums1, nums2, nums3]:\n",
    "  num_summary(num_list)\n",
    "  print(\"---\")"
   ]
  },
  {
   "cell_type": "markdown",
   "metadata": {},
   "source": [
    "### `return`ing data\n",
    "\n",
    "So far we've covered how to pass information to the function in the form of arguments. However, we haven't done anything else with the information generated by the function other than print it to the screen. It wouldn't be very helpful if that's the only way functions provided information.\n",
    "\n",
    "However, this isn't the case. Functions can **return** information by using the `return` keyword:"
   ]
  },
  {
   "cell_type": "code",
   "execution_count": null,
   "metadata": {},
   "outputs": [
    {
     "name": "stdout",
     "output_type": "stream",
     "text": [
      "4\n"
     ]
    }
   ],
   "source": [
    "def square(num):\n",
    "  num_squared = num * num\n",
    "  return num_squared\n",
    "\n",
    "my_num = 2\n",
    "my_num_squared = square(my_num)\n",
    "print(my_num_squared)"
   ]
  },
  {
   "cell_type": "markdown",
   "metadata": {},
   "source": [
    "Now, we're free to use the output of our function elsewhere in the program! Or we can just print it again.\n",
    "\n",
    "Any type of object can be returned:"
   ]
  },
  {
   "cell_type": "code",
   "execution_count": null,
   "metadata": {},
   "outputs": [
    {
     "name": "stdout",
     "output_type": "stream",
     "text": [
      "{'apple': 2, 'banana': 5, 'orange': 3}\n"
     ]
    }
   ],
   "source": [
    "def list_to_dict(pairs):\n",
    "    return dict(pairs)\n",
    "\n",
    "pair_list = [('apple', 2), ('banana', 5), ('orange', 3)]\n",
    "fruit_dictionary = list_to_dict(pair_list)\n",
    "print(fruit_dictionary)"
   ]
  },
  {
   "cell_type": "markdown",
   "metadata": {},
   "source": [
    "For instance, this function, which takes a **list of tuples** and converts them into a **dictionary**. This dictionary is returned and printed to the screen.\n",
    "\n",
    "> **Exercise:** Write a function called `in_list` that takes a number and a list of numbers and checks if that number already exists in the list. If it does, print \"number already exists!\" or something similar. If it doesn't, add that number to the list. In both cases, return the list."
   ]
  },
  {
   "cell_type": "code",
   "execution_count": null,
   "metadata": {},
   "outputs": [
    {
     "name": "stdout",
     "output_type": "stream",
     "text": [
      "Original: [1, 2, 3, 4, 5]\n",
      "---\n",
      "3 is already in the list!\n",
      "After first call: [1, 2, 3, 4, 5]\n",
      "---\n",
      "Adding 30 to the list!\n",
      "After second call: [1, 2, 3, 4, 5, 30]\n"
     ]
    }
   ],
   "source": [
    "# Your code here\n",
    "\n",
    "def in_list(value, a_list):\n",
    "  if value in a_list:\n",
    "    print(value, \"is already in the list!\")\n",
    "  else:\n",
    "    print(\"Adding\", value, \"to the list!\")\n",
    "    a_list.append(value)\n",
    "  return a_list\n",
    "\n",
    "# Test your code on these lists\n",
    "my_list = [1, 2, 3, 4, 5]\n",
    "print(\"Original:\", my_list)\n",
    "print(\"---\")\n",
    "\n",
    "my_list = in_list(3, my_list)\n",
    "print(\"After first call:\", my_list)\n",
    "print(\"---\")\n",
    "\n",
    "my_list = in_list(30, my_list)\n",
    "print(\"After second call:\", my_list)\n"
   ]
  },
  {
   "cell_type": "markdown",
   "metadata": {},
   "source": [
    "#### Unpacking returned values\n",
    "\n",
    "Multiple values can be `return`ed from a function. This is done simply by separating them by commas `,` after the return keyword. By default, they are returned as a **tuple**:"
   ]
  },
  {
   "cell_type": "code",
   "execution_count": null,
   "metadata": {},
   "outputs": [
    {
     "name": "stdout",
     "output_type": "stream",
     "text": [
      "(9, 27)\n"
     ]
    }
   ],
   "source": [
    "def square_and_cube(num):\n",
    "  num_squared = num * num\n",
    "  num_cubed = num ** 3\n",
    "\n",
    "  return num_squared, num_cubed\n",
    "\n",
    "my_result = square_and_cube(3)\n",
    "print(my_result)"
   ]
  },
  {
   "cell_type": "markdown",
   "metadata": {},
   "source": [
    "However, you can also explicitly assign each returned value to its own object as it is returned by separating your variable names by commas `,`:"
   ]
  },
  {
   "cell_type": "code",
   "execution_count": null,
   "metadata": {},
   "outputs": [
    {
     "name": "stdout",
     "output_type": "stream",
     "text": [
      "9\n",
      "27\n"
     ]
    }
   ],
   "source": [
    "def square_and_cube(num):\n",
    "  num_squared = num * num\n",
    "  num_cubed = num ** 3\n",
    "\n",
    "  return num_squared, num_cubed\n",
    "\n",
    "result_squared, result_cubed = square_and_cube(3)\n",
    "print(result_squared)\n",
    "print(result_cubed)"
   ]
  },
  {
   "cell_type": "markdown",
   "metadata": {},
   "source": [
    "This can be done for any number of returned values, given enough variable names. However, if you don't provide the correct number of names, an error will occur.\n",
    "\n",
    "This is actually a general feature of lists and tuples called **unpacking**:"
   ]
  },
  {
   "cell_type": "code",
   "execution_count": null,
   "metadata": {},
   "outputs": [
    {
     "name": "stdout",
     "output_type": "stream",
     "text": [
      "1\n",
      "2\n",
      "3\n"
     ]
    }
   ],
   "source": [
    "my_list = [1,2,3]\n",
    "num1, num2, num3 = my_list\n",
    "\n",
    "print(num1)\n",
    "print(num2)\n",
    "print(num3)"
   ]
  },
  {
   "cell_type": "markdown",
   "metadata": {},
   "source": [
    "> **Exercise**: Modify the `num_summary()` function so that instead of printing the information to the screen, it returns it to the function call. Do this any way you like (return a list or dict, unpack values, etc.). Do this for the three provided lists, then display the highest average number from the three lists. In other words, the output of this block should be a single number: the highest average number from the averages of the three lists."
   ]
  },
  {
   "cell_type": "code",
   "execution_count": null,
   "metadata": {},
   "outputs": [
    {
     "name": "stdout",
     "output_type": "stream",
     "text": [
      "The highest average number is: 50.9\n"
     ]
    }
   ],
   "source": [
    "# Modify your function here\n",
    "def num_summary(nums):\n",
    "  num_nums = len(nums)\n",
    "  max_num = max(nums)\n",
    "  min_num = min(nums)\n",
    "  sum_nums = sum(nums)\n",
    "\n",
    "  avg_num = sum_nums / num_nums\n",
    "\n",
    "  return [num_nums, max_num, min_num, sum_nums, avg_num]\n",
    "\n",
    "# Run your modified function on these lists \n",
    "nums1 = [23, 85, 56, 34, 78, 22]\n",
    "nums2 = [17, 48, 92, 55, 83, 24, 63, 7, 31, 89]\n",
    "nums3 = [59, 44, 66, 12, 5, 95, 23, 37]\n",
    "\n",
    "# Your code here\n",
    "avgs = []\n",
    "for num_list in [nums1, nums2, nums3]:\n",
    "  cur_result = num_summary(num_list)\n",
    "  avgs.append(cur_result[4])\n",
    "\n",
    "# Print only the highest of the averages\n",
    "print(\"The highest average number is:\", max(avgs))"
   ]
  },
  {
   "cell_type": "markdown",
   "metadata": {},
   "source": [
    "#### `None`\n",
    "\n",
    "In Python, in order for the language to function consistently, all functions return a value, even those without an explicit `return` statement. The default return value for a Python function is `None`:"
   ]
  },
  {
   "cell_type": "code",
   "execution_count": null,
   "metadata": {},
   "outputs": [
    {
     "name": "stdout",
     "output_type": "stream",
     "text": [
      "hello world!\n",
      "None\n"
     ]
    }
   ],
   "source": [
    "def greet():\n",
    "  print(\"hello world!\")\n",
    "\n",
    "result = greet()\n",
    "print(result)\n"
   ]
  },
  {
   "cell_type": "markdown",
   "metadata": {},
   "source": [
    "In Python, `None` is actually its own data type, meant to indicate the absence of information or as a placeholder. `None` is most often seen when trying to use the result of a function, as shown above, but it can actually be a useful initial or default data value, since it evaluates to `False` as a boolean:"
   ]
  },
  {
   "cell_type": "code",
   "execution_count": null,
   "metadata": {},
   "outputs": [
    {
     "name": "stdout",
     "output_type": "stream",
     "text": [
      "None\n",
      "False\n",
      "No data has been provided\n"
     ]
    }
   ],
   "source": [
    "data = None\n",
    "print(data)\n",
    "print(bool(data))\n",
    "\n",
    "if data:\n",
    "  process_data(data)\n",
    "else:\n",
    "  print(\"No data has been provided\")"
   ]
  },
  {
   "cell_type": "markdown",
   "metadata": {},
   "source": [
    "Other libraries may have their own special values, like `NA`, to indicate lack of data."
   ]
  },
  {
   "cell_type": "markdown",
   "metadata": {},
   "source": [
    "### Documenting functions\n",
    "\n",
    "One step towards having a readable and well-documented function is to choose a descriptive name for it. The name should use a verb like \"plot\" or \"calculate\". Try and follow some consistent naming conventions with regard to capitalization and underscores. It'll be easier to remember what your functions are called if you don't mix up conventions like \"plot\" and \"Plot\" or \"plot_this\" and \"plotThis\". For more guidance, see the [python style guide](https://peps.python.org/pep-0008/#naming-conventions).\n",
    "\n",
    "Another tip for writing good functions: it is best practice to **document** it with what it does. That way, when future you or someone else reads it, the function's useage is immediately clear. You can annotate functions with a triple quote at the beginning of a function body, which is called a **docstring**. Typical contents of a docstring are:\n",
    "\n",
    "* one sentence describing the usage\n",
    "* list of all parameters and what type they should be\n",
    "* what the function returns\n",
    "\n",
    "See below:\n",
    "\n",
    "```python\n",
    "def fibonacci(n):\n",
    "    \"\"\"\n",
    "    Calculate the nth number in the fibonacci sequence\n",
    "    Input: n, an integer\n",
    "    Returns: the nth number in the fibonacci sequence, an integer\n",
    "    \"\"\"\n",
    "    if n == 0:\n",
    "        return 0\n",
    "    elif n == 1:\n",
    "        return 1\n",
    "    else:\n",
    "        return fibonacci(n-1) + fibonacci(n-2)\n",
    "```"
   ]
  },
  {
   "cell_type": "markdown",
   "metadata": {
    "id": "vBn3mRq_tmik"
   },
   "source": [
    "## f-strings\n",
    "\n",
    "One quick string concept to cover before we move on to other topics is **f-strings**. F-strings are a way to format strings in Python. The way they work is to start a string with the keyword `f`, preceding the first quotation mark. Then, whenever you need to insert a variable within the string that has previously been assigned, you surround that variable name with `{}`. Think of `{}` as a carve-out from the string where code is valid again.\n",
    "\n",
    "They are a way to embed variables into strings. Here's an example:"
   ]
  },
  {
   "cell_type": "code",
   "execution_count": 1,
   "metadata": {
    "id": "bC2vCuITtmik"
   },
   "outputs": [
    {
     "name": "stdout",
     "output_type": "stream",
     "text": [
      "my number is: 1004210.52049. Hooray!\n",
      "twice my number is: 2008421.04098. Hooray!\n",
      "my original number, 1004210.52049, did not change\n"
     ]
    }
   ],
   "source": [
    "my_num = 1004210.52049\n",
    "\n",
    "print(f\"my number is: {my_num}. Hooray!\")\n",
    "print(f\"twice my number is: {my_num * 2}. Hooray!\")\n",
    "print(f\"my original number, {my_num}, did not change\")"
   ]
  },
  {
   "cell_type": "markdown",
   "metadata": {
    "id": "hCspfk6ltmil"
   },
   "source": [
    "You cannot do f-string formatting with a string that is stored inside a variable. You can only do it with strings that are written directly in the code."
   ]
  },
  {
   "cell_type": "markdown",
   "metadata": {
    "id": "eSdTpYMRtmil"
   },
   "source": [
    "The reason we might use f-strings rather than passing multiple arguments to the `print()` function is that it is easier to read in code form, faster to type, and you can attach formatting to the variables that you are embedding. This formatting does not affect the underlying variable, but rather how it is displayed.\n",
    "\n",
    "Below are a few examples of how you might format numbers while inside an f-string. You don't have to memorize this syntax or use it yourself, but you will see it in future code and it's good to know what it is."
   ]
  },
  {
   "cell_type": "code",
   "execution_count": 2,
   "metadata": {
    "id": "M5K-BIQhtmil"
   },
   "outputs": [
    {
     "name": "stdout",
     "output_type": "stream",
     "text": [
      "my number is: 1004210.52\n",
      "my number is: 1004211\n",
      "my number is: 1,004,210.52049\n",
      "my number is: 1,004,210.52\n",
      "1004210.52049\n"
     ]
    }
   ],
   "source": [
    "# rounds to 2 decimal places\n",
    "print(f\"my number is: {my_num:.2f}\")\n",
    "\n",
    "# rounds to nearst whole number\n",
    "print(f\"my number is: {my_num:.0f}\")\n",
    "\n",
    "# adds commas to separate thousands\n",
    "print(f\"my number is: {my_num:,}\")\n",
    "\n",
    "# adds commas to separate thousands and rounds to 2 decimal places\n",
    "print(f\"my number is: {my_num:,.2f}\")\n",
    "\n",
    "# original number\n",
    "print(my_num)"
   ]
  },
  {
   "cell_type": "markdown",
   "metadata": {
    "id": "UihiGE86tmiz"
   },
   "source": [
    "## Functions to Programs"
   ]
  },
  {
   "cell_type": "markdown",
   "metadata": {
    "id": "AyLSZRlwtmi0"
   },
   "source": [
    ">**Exercise:** Copy and paste your `display_walk` function from above into the cell below. Add a docstring to the function that describes what it does, what inputs it takes, and what it returns. Then, call `help(display_walk)` and see what happens!\n",
    ">\n",
    "> If short on time, you can also use LLMs to write your docstring. Usually they do pretty well."
   ]
  },
  {
   "cell_type": "code",
   "execution_count": 18,
   "metadata": {
    "id": "z13K3xGBtmi1"
   },
   "outputs": [
    {
     "name": "stdout",
     "output_type": "stream",
     "text": [
      "Help on function display_walk in module __main__:\n",
      "\n",
      "display_walk(size, position)\n",
      "    Parameters: size (int) - a positive integer representing the size of the walk\n",
      "                position (int) - an integer representing the position of the walker\n",
      "    Displays a walk of size `size` with a walker at position `position`.\n",
      "    Walkers are represented by 'O' and out of bounds positions are represented by 'X'.\n",
      "    Unoccupied positions are represented by '-'.\n",
      "\n"
     ]
    }
   ],
   "source": [
    "\n",
    "def display_walk(size, position):\n",
    "    \"\"\"\n",
    "    Parameters: size (int) - a positive integer representing the size of the walk\n",
    "                position (int) - an integer representing the position of the walker\n",
    "    Displays a walk of size `size` with a walker at position `position`.\n",
    "    Walkers are represented by 'O' and out of bounds positions are represented by 'X'.\n",
    "    Unoccupied positions are represented by '-'.\n",
    "    \"\"\"\n",
    "    if 0 <= position < size:\n",
    "    # Create a string with 'O' at the specified position\n",
    "        walk = '-' * position + 'O' + '-' * (size - position - 1)\n",
    "    elif position < 0:\n",
    "        # Position is out of bounds, place 'X' at the end\n",
    "        walk = \"X\" + '-' * (size - 1)\n",
    "    else: # position >= size\n",
    "        # Position is out of bounds, place 'X' at the beginning\n",
    "        walk = '-' * (size - 1) + \"X\"\n",
    "    print(walk)\n",
    "\n",
    "# try calling help on your function\n",
    "help(display_walk)"
   ]
  },
  {
   "cell_type": "markdown",
   "metadata": {
    "id": "DXSttiYHtmi1"
   },
   "source": [
    ">**Exercise:** For our final activity before writing our program, let's review the topics we have already learned. On a piece of paper or on the white board, draw a concept map of how all the topics connect to each other. It's fine if this only makes sense to you, but you can also work with others to see how they connect the topics. You may find this concept map as a helpful reference when you are writing your random walk program.\n",
    ">\n",
    ">Topics/Concepts to include on the drawing:\n",
    ">\n",
    ">* Conditionals (if/else)\n",
    ">* Loops\n",
    ">    * For loops\n",
    ">    * While loops\n",
    ">* Strings\n",
    ">* Numerical values\n",
    ">* Booleans\n",
    ">* Lists\n",
    ">* Dictionaries\n",
    ">* Exceptions\n",
    ">* Functions\n",
    ">* Methods\n",
    ">* Pseudocode\n",
    ">* Control flow\n",
    ">* Debugging\n",
    ">\n",
    ">Feel free to add more to your map!"
   ]
  },
  {
   "cell_type": "markdown",
   "metadata": {
    "id": "Pzl9JXBntmi1"
   },
   "source": [
    "## Random walk program"
   ]
  },
  {
   "cell_type": "markdown",
   "metadata": {
    "id": "kNX49_B-tmi1"
   },
   "source": [
    "For this exercise, you already know the concepts needed to create a random walk. Everyone will likely write a slightly different program so we aren't going to give a whole lot of structure because we want you to explore what is possible. There is just one thing that you will all probably need, which is to import the `random` module. This module has a function called `random.choice()` which will randomly select an element from a list. See below for an example:"
   ]
  },
  {
   "cell_type": "code",
   "execution_count": 19,
   "metadata": {
    "id": "ffC4HiTmtmi1"
   },
   "outputs": [
    {
     "name": "stdout",
     "output_type": "stream",
     "text": [
      "heads\n"
     ]
    }
   ],
   "source": [
    "import random\n",
    "\n",
    "print(random.choice([\"heads\", \"tails\"]))"
   ]
  },
  {
   "cell_type": "markdown",
   "metadata": {
    "id": "vsLWqySitmi1"
   },
   "source": [
    "Write your code below. If you get stuck, check out your concept map, work with a neighbor, or review the topics we learned today. And of course, remember to use your debugging skills!"
   ]
  },
  {
   "cell_type": "markdown",
   "metadata": {},
   "source": [
    "!!! Note\n",
    "    If you are reading the completed solution to this exercise, you will notice extra code that **raise exceptions** in **try ... except** blocks. To learn more about how to use exceptions, check out our companion notebook \"Python Healthy Habits\" which covers some more advanced function writing. "
   ]
  },
  {
   "cell_type": "code",
   "execution_count": 20,
   "metadata": {
    "id": "vc9R57ULtmi2"
   },
   "outputs": [],
   "source": [
    "import random\n",
    "\n",
    "def get_user_inputs(step_size, walk_size):\n",
    "    \"\"\"\n",
    "    Validate the user inputs for step size and walk size.\n",
    "    If the inputs are valid, return them.\n",
    "    \"\"\"\n",
    "    if not isinstance(step_size, int) or not isinstance(walk_size, int):\n",
    "        raise ValueError(\"Both step_size and walk_size should be integers.\")\n",
    "\n",
    "    if step_size <= 0 or walk_size <= 0:\n",
    "        raise ValueError(\"Both step_size and walk_size should be positive integers.\")\n",
    "\n",
    "    return step_size, walk_size\n",
    "\n",
    "def display_walk(position, walk_size, boundary_symbol='X', walker_symbol='O', open_space='-'):\n",
    "    \"\"\"\n",
    "    Display the current position of the walker on the walk line.\n",
    "    Input:\n",
    "    - position: the current position of the walker\n",
    "    - walk_size: the size of the walk line\n",
    "    - boundary_symbol: the symbol to represent reaching the boundary\n",
    "    - walker_symbol: the symbol to represent the walker\n",
    "    - open_space: the symbol to represent an open space\n",
    "    Return: None (but print the walk line)\n",
    "    \"\"\"\n",
    "    # walk line represented by a list of string symbols\n",
    "    walk_line = [open_space] * walk_size\n",
    "    # if statement to check if the position is within the walk line\n",
    "    if 0 <= position < walk_size:\n",
    "        walk_line[position] = walker_symbol\n",
    "    # if the position is outside the walk line, put boundary symbol at the edge\n",
    "    else:\n",
    "        symbol_position = 0 if position < 0 else walk_size - 1\n",
    "        walk_line[symbol_position] = boundary_symbol\n",
    "    # joins the symbols to create a string and prints it\n",
    "    print(\"\".join(walk_line))\n",
    "\n",
    "def random_walk(step_size, walk_size):\n",
    "    \"\"\"\n",
    "    Simulate a random walk on a line with a given step size and walk size.\n",
    "    Input:\n",
    "    - step_size: the size of each step in the walk\n",
    "    - walk_size: the size of the walk line\n",
    "    Return: None (but print the walk line at each step and when the boundary is reached)\n",
    "    \"\"\"\n",
    "    position = walk_size // 2  # Start from the middle of the walk line\n",
    "    print(f\"Starting random walk with boundary size: {walk_size} and step size: {step_size}\")\n",
    "\n",
    "    # loop walk until boundary is reached\n",
    "    while 0 <= position < walk_size:\n",
    "        # display current position\n",
    "        display_walk(position, walk_size)\n",
    "        # generate random direction\n",
    "        direction = random.choice([-1, 1])\n",
    "        # update current position\n",
    "        position += direction * step_size\n",
    "\n",
    "    # calls the display walk function at the end one more time\n",
    "    display_walk(position, walk_size)\n",
    "    print(\"Reached boundary!\")\n",
    "\n",
    "# runs random walk. but calls get_user_inputs to validate inputs first\n",
    "def run_random_walk(step_size, walk_size):\n",
    "    try:\n",
    "        step_size, walk_size = get_user_inputs(step_size, walk_size)\n",
    "        random_walk(step_size, walk_size)\n",
    "    except ValueError as e:\n",
    "        print(f\"Input error: {e}\")\n",
    "    except Exception as e:\n",
    "        print(f\"An unexpected error occurred: {e}\")"
   ]
  },
  {
   "cell_type": "code",
   "execution_count": 21,
   "metadata": {},
   "outputs": [
    {
     "name": "stdout",
     "output_type": "stream",
     "text": [
      "Starting random walk with boundary size: 10 and step size: 2\n",
      "-----O----\n",
      "-------O--\n",
      "-----O----\n",
      "-------O--\n",
      "---------O\n",
      "-------O--\n",
      "-----O----\n",
      "-------O--\n",
      "---------O\n",
      "---------X\n",
      "Reached boundary!\n"
     ]
    }
   ],
   "source": [
    "run_random_walk(2, 10)"
   ]
  }
 ],
 "metadata": {
  "colab": {
   "provenance": []
  },
  "kernelspec": {
   "display_name": "pyworkshop",
   "language": "python",
   "name": "python3"
  },
  "language_info": {
   "codemirror_mode": {
    "name": "ipython",
    "version": 3
   },
   "file_extension": ".py",
   "mimetype": "text/x-python",
   "name": "python",
   "nbconvert_exporter": "python",
   "pygments_lexer": "ipython3",
   "version": "3.13.1"
  }
 },
 "nbformat": 4,
 "nbformat_minor": 0
}
