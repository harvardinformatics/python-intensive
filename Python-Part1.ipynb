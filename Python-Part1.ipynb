{
 "cells": [
  {
   "cell_type": "markdown",
   "metadata": {
    "id": "QsZUSCcQPTqx"
   },
   "source": [
    "# Python intensive, part 1\n",
    "\n",
    "## Introduction\n",
    "\n",
    "Welcome to the first part of the Harvard Informatics Python intensive workshop. This is a six day workshop intended to give a quick, yet thorough, introduction to programming concepts, the Python programming language, and how to use Python to facilitate data analysis.\n",
    "\n",
    "Programmatic analysis of data allows scientist to have full control over how their data is parsed, assessed, and presented, unlike using third party programs (like Excel) which may make unwanted assumptions about how you want to read your data. The upside of this is that one could conceivably perform any analysis imaginable on their data, assuming they have enough coding skills. The downside is that one must know how to program. But that is the goal of this workshop: to give you the understanding of programming concepts and underlying skills such that you can see a problem or question in your work and then be able to understand how you would code the solution.\n",
    "\n",
    "While their are several programming languages one could use for data analysis, we chose to teach Python because it is more open-ended than alternatives (*e.g.* R being the main one for data analysis). Python is typed more like a traditional programming language, making the skills highly transferable to other languages."
   ]
  },
  {
   "cell_type": "markdown",
   "metadata": {
    "id": "id9_dDjsRH0Z"
   },
   "source": [
    "### Terminology\n",
    "\n",
    "Before we get started teaching any workshop, I like to point out that, like any specific domain, the way we talk about programming is almost its own language. Words in this context may have different meaning than in other contexts. As programmers ourselves, we are so used to using words in the context of programming that we sometimes forget others aren't used to it.\n",
    "\n",
    "This is all to say, if you hear us saying a word that you're familiar with but it's obvious that we're using it in a different way, or if you hear an unfamiliar term, please ask us to explain it. This knowledge gap is one of the most difficult parts about teaching a specific topic mostly because the teachers aren't usually aware of it.\n",
    "\n",
    "We also have a table of common programming terms with their definitions in this context: [Programming terminology](https://informatics.fas.harvard.edu/resources/glossary/).\n",
    "\n",
    "Please let us know if there is anything you think we should add to this table."
   ]
  },
  {
   "cell_type": "markdown",
   "metadata": {
    "id": "f8ud2f0tTpv9"
   },
   "source": [
    "### Installation\n",
    "\n",
    "This workshop exists as a **Jupyter notebook**. You can participate in this workshop by using this notebook interactively simply by uploading it to Google Colab. Go to https://colab.research.google.com/ and upload this notebook. That's it! This is the recommended way for participating in this workshop. Skip the below instructions if you will be using Google Colab.\n",
    "\n",
    "<br>\n",
    "\n",
    "---\n",
    "\n",
    "<details markdown>\n",
    "<summary>Click to show instructions for loading the notebook locally</summary>\n",
    "\n",
    "**See above for the recommended way to participate in this workshop. Only follow these instructions if Google Colab isn't working**\n",
    "\n",
    "If for some reason Google Colab isn't working, or you prefer to run this locally, you will need to install Python, Anaconda, and the necessary libraries. You will have to follow these steps to do so. Note that some steps are only meant for specific operating systems.\n",
    "\n",
    "0. If you are on Windows, [install WSL](https://learn.microsoft.com/en-us/windows/wsl/install). Once WSL is installed, you'll have a Linux terminal available to you in Windows. You can open this terminal by typing \"wsl\" in the search bar and clicking the app that appears. You'll also find your Linux distribution as a mounted drive in your file explorer.\n",
    "\n",
    "1. Install mamba, a package manager using the command line - Terminal for Mac or WSL for Windows.\n",
    "\n",
    "    1.1. For Mac, if you already have brew installed, install mamba using `brew install miniforge` and initialize it using `conda init zsh`. Then restart your terminal. If you don't have homebrew (i.e. the brew command doesn't exist), install brew first using `/bin/bash -c \"$(curl -fsSL https://raw.githubusercontent.com/Homebrew/install/HEAD/install.sh)\"`\n",
    "    \n",
    "    1.2. For Windows, download the Linux (x86_64) installer from the miniforge repository [here](https://github.com/conda-forge/miniforge) and install with `bash Miniforge3-Linux-x86_64.sh`.\n",
    "\n",
    "2. Create a new environment using mamba with `mamba create -n pyworkshop numpy pandas matplotlib seaborn jupyter` and activate it with `conda activate pyworkshop`.\n",
    "\n",
    "3. You can now run the jupyter notebook by typing `jupyter notebook` in the terminal. This will open a browser window with the jupyter notebook interface. You can navigate to the folder where you saved this notebook and open it.\n",
    "\n",
    "4. Alternatively, install [VSCode](https://code.visualstudio.com/) and the Python extension. Then open this notebook in VSCode and run it with the kernel that belongs to the pyworkshop environment. [How to guide here](https://code.visualstudio.com/docs/datascience/jupyter-notebooks)\n",
    "</details>\n",
    "\n",
    "---"
   ]
  },
  {
   "cell_type": "markdown",
   "metadata": {
    "id": "S6JOI2UJTpwA"
   },
   "source": [
    "### Jupyter basics\n",
    "\n",
    "Jupyter notebooks are text files that can be rendered as formatted text **and** run code given the proper setup (see Installation).\n",
    "\n",
    "Text is split into **cells**. Double clicking a cell allows you to edit it.\n",
    "\n",
    "For code cells, there is also an option to run the code. You can do this by pressing **SHIFT+ENTER** while having it selected, or press the **Run** button at the top of the cell (exact location depends on the editor you're using). Because of the way we set up the notebook the code cells will be running Python code.\n",
    "\n",
    "For this workshop, we'll be asking you to follow along by running code cells and by doing coding exercises by writing or editing code in code cell.\n",
    "\n",
    "Run the code cell below as a demo."
   ]
  },
  {
   "cell_type": "code",
   "execution_count": 1,
   "metadata": {
    "colab": {
     "base_uri": "https://localhost:8080/"
    },
    "id": "0praUlbBTpwB",
    "outputId": "cc8543ee-ad76-478e-c1c7-143b8a1b17bf"
   },
   "outputs": [
    {
     "name": "stdout",
     "output_type": "stream",
     "text": [
      "this is my code cell\n"
     ]
    }
   ],
   "source": [
    "# Run this cell to print a message to the screen\n",
    "print(\"this is my code cell\")"
   ]
  },
  {
   "cell_type": "markdown",
   "metadata": {
    "id": "9yri-5NSTpwC"
   },
   "source": [
    "Any **variables** that you assign in one cell will be available in other cells. But they will not be saved between sessions. If you close the notebook and re-open it, you will need to re-run the previous cells to get your variables back. Therefore, it's important to be aware of the state of your notebook and the order in which your cells were run."
   ]
  },
  {
   "cell_type": "code",
   "execution_count": 3,
   "metadata": {
    "id": "tJJuznVZTpwC"
   },
   "outputs": [],
   "source": [
    "my_string = \"this is my code cell\""
   ]
  },
  {
   "cell_type": "code",
   "execution_count": 4,
   "metadata": {
    "id": "1YLfoStATpwD"
   },
   "outputs": [
    {
     "name": "stdout",
     "output_type": "stream",
     "text": [
      "this is my code cell\n"
     ]
    }
   ],
   "source": [
    "print(my_string)"
   ]
  },
  {
   "cell_type": "markdown",
   "metadata": {
    "id": "_7GrOzoLTpwD"
   },
   "source": [
    "Jupyter notebooks can be exported to pdf or html, so that other people can view both the code and its output. It's a good format for handing in homeworks, for example, since you can show your work. In this notebook, there will be exercises with placeholders for the code that you will have to fill in. For these exercises, we encourage you to work with each other, use google, LLMs, and whatever other resources if you are stuck. It's not an exam, but just a way to practice the concepts. Afterwards, we will post the completed notebook on our website so you can have examples of solutions."
   ]
  },
  {
   "cell_type": "markdown",
   "metadata": {
    "id": "kK4woy2YYFTX"
   },
   "source": [
    "## What is a computer program?\n",
    "\n",
    "Let's start by answering this general question. A computer program (depending on the context, sometimes also called software, an app, a script, a package, or a command, among others) is a set of instructions written in a way that the computer understands such that it can perform computations based on those instructions.\n",
    "\n",
    "Think of a computer program as a cooking recipe:"
   ]
  },
  {
   "cell_type": "markdown",
   "metadata": {
    "id": "fh-Jjr1JZcjH"
   },
   "source": [
    "```\n",
    "1 cup (2 sticks) unsalted butter, softened\n",
    "3/4 cup granulated sugar\n",
    "3/4 cup packed brown sugar\n",
    "1 teaspoon vanilla extract\n",
    "2 large eggs\n",
    "2 1/4 cups all-purpose flour\n",
    "1 teaspoon baking soda\n",
    "1/2 teaspoon salt\n",
    "2 cups semi-sweet chocolate chips\n",
    "\n",
    "    1. Preheat your oven to 375°F (190°C).\n",
    "    2. In a large mixing bowl, beat the softened butter, granulated sugar, brown sugar, and vanilla extract until creamy.\n",
    "    3. Add the eggs, one at a time, beating well after each addition.\n",
    "    4. In a separate bowl, combine the flour, baking soda, and salt.\n",
    "    5. Gradually add the dry ingredients to the wet mixture, beating until well combined.\n",
    "    6. Stir in the chocolate chips and nuts, if using.\n",
    "    7. Drop rounded tablespoons of dough onto ungreased baking sheets.\n",
    "    8. Bake in the preheated oven for 9 to 11 minutes or until golden brown.\n",
    "    9. Remove the cookies from the oven and let them cool on the baking sheets for a couple of minutes before transferring them to a wire rack to cool completely.\n",
    "```"
   ]
  },
  {
   "cell_type": "markdown",
   "metadata": {
    "id": "To0fba3YbAYN"
   },
   "source": [
    "This tells us everything we need to know to bake some simple, but delicious, chocolate chip cookies.\n",
    "\n",
    "Or does it? If we were to give these and **only these** instructions to a robot, would it be able to bake us these cookies while we sit back and read by the fire?\n",
    "\n",
    "I highly doubt it, because a computer needs every single step, no matter how miniscule, given to it as instructions in a program. Unlike a human, computers don't remember or learn from their previous instructions.\n",
    "\n",
    "Here is a more programmatic recipe to bake chocolate chip cookies:"
   ]
  },
  {
   "cell_type": "markdown",
   "metadata": {
    "id": "D8yepmVjcSIH"
   },
   "source": [
    "```\n",
    "  1. Walk to your oven.\n",
    "  2. Extend your arm towards the power button.\n",
    "  3. Push the power button.\n",
    "  4. Move your arm to the temperature dial.\n",
    "  5. Set the temperature dial to 375°F (190°C).\n",
    "  6. Lower your arm.\n",
    "  7. Walk toward your cabinet.\n",
    "  8. Extend your arm.\n",
    "  9. Grasp the cabinet handle.\n",
    "  10. Pull the cabinet open.\n",
    "  11. Release the cabinet handle.\n",
    "  12. Extend both arms toward the large mixing bowl on the shelf.\n",
    "  13. Grasp the mixing bowl with both hands.\n",
    "  .\n",
    "  .\n",
    "  .\n",
    "  and so on.\n",
    "```"
   ]
  },
  {
   "cell_type": "markdown",
   "metadata": {
    "id": "IDt00jN0c70Z"
   },
   "source": [
    "This recipe is much more similar to what a computer program looks like. Every single step, even ones you might not think about when doing these tasks normally, has to be given.\n",
    "\n",
    "But even this doesn't provide all the instructions clearly. It assumes some basic knowledge of your kitchen layout and appliances. It also gives some actions, such as **Walk** or **Extend**, that could be broken down even further to their component instructions. Indeed, if we were omnipotent we could write a recipe for chocolate chip cookies just by specifying when to activate specific neurons in ones body.\n",
    "\n",
    "Similarly, in a computer, we could write programs by specifying when to send electrical current through each individual transistor.\n",
    "\n",
    "Luckily, though, we don't need to do that in either case. For the recipe, humans retain their previous knowledge and skills, so we know how to walk to our oven even when its not written out specifically.\n",
    "\n",
    "And computers had programmers before us that built programming languages at higher levels than explicitly manipulating transistors, giving us the ability to write instructions in (more-or-less) plain text.\n",
    "\n",
    "Python is one of those languages, and even more luckily, there are built-in chunks of code written by the developers of the language that allow us to do common tasks without programming them explicitly. The chunks of code written by others to do very specific things are called **functions**."
   ]
  },
  {
   "cell_type": "markdown",
   "metadata": {
    "id": "69RLKeDPfpcj"
   },
   "source": [
    "### Walk - a pseudo-function\n",
    "\n",
    "Let's go back to our detailed recipe. I mentioned before that certain actions, like **Walk** are invoked multiple times. To me, Walk seems like a **function**. That is, we should be able to say \"Walk\" in our recipe, and somewhere in our recipe book, some other recipe is looked up that looks something like this:\n",
    "\n",
    "```\n",
    "Walk:\n",
    "  1. Lift right leg.\n",
    "  2. Extend right leg.\n",
    "  3. Lower right leg and lift left leg.\n",
    "  4. Extend left leg.\n",
    "  5. Lower left leg and lift right leg.\n",
    "```\n",
    "\n",
    "Every time the word Walk appears in our recipe, we know to go look-up this other recipe to figure out what to do. In computer programming, we call these other recipes **functions**.\n",
    "\n",
    "Of course, if this were the whole function, it wouldn't be very useful. Remember, if we're writing this recipe for a robot, it needs everything spelled out for it explicitly. If we just had this as our Walk function, the robot would take two steps in the direction it is facing and then be left standing on it's left leg.\n",
    "\n",
    "> **Exercise:** What are some other pieces of information we could provide to ensure that this Walk function is useful in the context of step 1 of our detailed recipe?\n",
    "\n",
    "Perhaps our new Walk function would look something like this:\n",
    "\n",
    "```\n",
    "Walk:\n",
    "  1. Turn body to face oven\n",
    "  2. Lift right leg.\n",
    "  3. Extend right leg.\n",
    "  4. Lower right leg and lift left leg.\n",
    "  5. Extend left leg.\n",
    "  6. Lower left leg and lift right leg.\n",
    "  7. Repeat 2-6 until the distance to the oven has been traversed\n",
    "```\n",
    "\n",
    "Great! But this function would seem to only work for step 1. What about step 7: Walk toward your cabinet. If we just ran this version of Walk, we would be stuck at our oven forever.\n",
    "\n",
    "We could add two different Walk functions to our recipe book:\n",
    "\n",
    "```\n",
    "Walk_to_oven:\n",
    "  1. Turn body to face oven\n",
    "  2. Lift right leg.\n",
    "  3. Extend right leg.\n",
    "  4. Lower right leg and lift left leg.\n",
    "  5. Extend left leg.\n",
    "  6. Lower left leg and lift right leg.\n",
    "  7. Repeat 2-6 until the distance to the oven has been traversed\n",
    "\n",
    "Walk_to_cabinet:\n",
    "  1. Turn body to face cabinet\n",
    "  2. Lift right leg.\n",
    "  3. Extend right leg.\n",
    "  4. Lower right leg and lift left leg.\n",
    "  5. Extend left leg.\n",
    "  6. Lower left leg and lift right leg.\n",
    "  7. Repeat 2-6 until the distance to the cabinet has been traversed\n",
    "```\n",
    "\n",
    "Or, as computer programmers like to do, we could type things out only once and make a single **generic** Walk function. To do this, we'd need to provide even more specific information to our function so we can cover more cases.\n",
    "\n",
    "I think the two most important generic parameters would be *angle* and *distance*. Given these two things, we should be able to Walk anywhere:\n",
    "\n",
    "```\n",
    "Walk_anywhere:\n",
    "  1. Turn body *angle* degrees\n",
    "  2. Lift right leg.\n",
    "  3. Extend right leg.\n",
    "  4. Lower right leg and lift left leg.\n",
    "  5. Extend left leg.\n",
    "  6. Lower left leg and lift right leg.\n",
    "  7. Repeat 2-6 until the *distance* has been traversed\n",
    "```\n",
    "\n",
    "I want to do another thing too. I don't like seeing all those instructions spelled out when I need to repeat them over and over again. So I'm going to write another function, called Step:\n",
    "\n",
    "```\n",
    "Step:\n",
    "  1. Lift right leg.\n",
    "  2. Extend right leg.\n",
    "  3. Lower right leg and lift left leg.\n",
    "  4. Extend left leg.\n",
    "  5. Lower left leg and lift right leg.\n",
    "\n",
    "Walk_anywhere:\n",
    "  1. Turn body *angle* degrees\n",
    "  2. Repeat Step until the *distance* has been traversed\n",
    "```\n",
    "\n",
    "We'll take the Step function and put it somewhere else in our recipe book, so that everytime it is called in Walk_anywhere, we can go find the Step recipe to follow those instructions. And it just generally looks a lot cleaner typed out. Hopefully we'll be able to get this robot to bake us some nice cookies soon.\n",
    "\n",
    "But how do we integrate these functions into our original recipe?"
   ]
  },
  {
   "cell_type": "markdown",
   "metadata": {
    "id": "ea72QwMJlJvN"
   },
   "source": [
    "### Function arguments and the assignment operator\n",
    "\n",
    "Most functions require some sort of input to operate. These are given as **arguments** when you invoke, or call, the function.\n",
    "\n",
    "Here is how we could do this for our recipe:\n",
    "\n",
    "```\n",
    "  1. Walk_anywhere 2 meters at an angle of 40°.\n",
    "  2. Extend your arm towards the power button.\n",
    "  3. Push the power button.\n",
    "  4. Move your arm to the temperature dial.\n",
    "  5. Set the temperature dial to 375°F (190°C).\n",
    "  6. Lower your arm.\n",
    "  7. Walk_anywhere 0.6 meters at an angle of 120°.\n",
    "  8. Extend your arm.\n",
    "  9. Grasp the cabinet handle.\n",
    "  10. Pull the cabinet open.\n",
    "  11. Release the cabinet handle.\n",
    "  12. Extend both arms toward the large mixing bowl on the shelf.\n",
    "  13. Grasp the mixing bowl with both hands.\n",
    "  .\n",
    "  .\n",
    "  .\n",
    "  and so on.\n",
    "```\n",
    "\n",
    "Notice that instead of just saying Walk we now refer to the other recipe, or function, in our recipe book, Walk_anywhere.\n",
    "\n",
    "> **Exercise**: What are the **arguments** we've given the Walk_anywhere function above?\n",
    "\n",
    "Now I want to edit the **syntax** (how we type) of our recipe, just to make it a bit more consistent with how a computer program might look:\n",
    "\n",
    "```\n",
    "  1. Walk_anywhere(distance=2 meters and angle=40°).\n",
    "  2. Extend your arm towards the power button.\n",
    "  3. Push the power button.\n",
    "  4. Move your arm to the temperature dial.\n",
    "  5. Set the temperature dial to 375°F (190°C).\n",
    "  6. Lower your arm.\n",
    "  7. Walk_anywhere(distance=0.6 meters and angle=120°).\n",
    "  8. Extend your arm.\n",
    "  9. Grasp the cabinet handle.\n",
    "  10. Pull the cabinet open.\n",
    "  11. Release the cabinet handle.\n",
    "  12. Extend both arms toward the large mixing bowl on the shelf.\n",
    "  13. Grasp the mixing bowl with both hands.\n",
    "  .\n",
    "  .\n",
    "  .\n",
    "  and so on.\n",
    "```\n",
    "\n",
    "This introduces our first explicit programming syntax. The item assignment operator **=**.\n",
    "\n",
    "Using the **=** operator simply means that the **thing on the left side assumes the value of the thing on the right side**. In programming, the thing on the left side is always a **variable** (and in this case an argument to our function). Variables can be re-used later on in our program with the last value they were assigned. Importantly, the thing on the right side of the **=** operator can be another variable or a **literal**, that is a raw piece of information like a number or a character.\n",
    "\n",
    "In our case, we're saying that we're setting the value of the variable *distance* to be the literal 2 meters and the value of the variable *angle* to be the literal 40°. And when we refer to *distance* and *angle* later on, we'll actually be referring to the values of 2 meters and 40°.\n",
    "\n",
    "Then, our function will need to be modified to accept these **arguments** as **parameters**:\n",
    "\n",
    "```\n",
    "Walk_anywhere(*distance*, *angle*):\n",
    "  1. Turn body *angle* degrees\n",
    "  2. Repeat Step until the *distance* has been traversed\n",
    "```\n",
    "\n",
    "Here, we've assumed that the Step function exists and is available in the robot's memory, even if we haven't explicitly typed it.\n",
    "\n",
    "But more importantly, the values of the two variables, *distance* and *angle*, are now set when we call the function in the main program.\n",
    "\n",
    "This means that both times we call the Walk_anywhere() function, we can specify a different *distance* and *angle*, as in steps 1 and 7 of our recipe. And the same is true when, undoubtedly, we call the Walk_anywhere function again later on in our recipe.\n",
    "\n",
    "**Exercise:** Given the syntax of our recipe book (in other words, how we've typed things up to now), in the code block below, type how you would tell the cookie baking robot to walk from the cabinet to the counter if it is 1 meter away and directly behind it."
   ]
  },
  {
   "cell_type": "markdown",
   "metadata": {},
   "source": [
    "(Double click here to type your solution)\n"
   ]
  },
  {
   "cell_type": "markdown",
   "metadata": {},
   "source": [
    "<details markdown>\n",
    "<summary>Solution</summary>\n",
    "\n",
    "```\n",
    "Walk_anywhere(distance=1 meter and angle=180°)\n",
    "```\n",
    "\n",
    "</details>"
   ]
  },
  {
   "cell_type": "markdown",
   "metadata": {
    "id": "LRv-QwIW1uKy"
   },
   "source": [
    "### Pseudocode and syntax\n",
    "\n",
    "What we've shown above a is a \"program\" in the sense that it lays out the instructions one step at a time. However, it does this in mostly plain English. This is called **pseudocode** and is a good way to get started when you're presented with a new problem you have to code.\n",
    "\n",
    "The concepts conveyed about **functions** here directly translate into how functions work in computer programs. They are blocks of code (recipes) available in your recipe book (sometimes called a **library**) that are available to you even if you are on a different page in the recipe book or writing your own recipe. In other words, you can tell the robot to Walk_anywhere without you yourself having to know the exact text of the Walk_anywhere recipe.\n",
    "\n",
    "> **Exercise**: Write out pseudocode for getting on the bus to go to the grocery store. Let's go around and have each person write one line."
   ]
  },
  {
   "cell_type": "code",
   "execution_count": null,
   "metadata": {},
   "outputs": [],
   "source": [
    "# Your pseudocode here"
   ]
  },
  {
   "cell_type": "markdown",
   "metadata": {
    "id": "r_48GvF2XIY5"
   },
   "source": [
    "While the concepts are the same, the main difference between this pseudocode and an actual program is the **syntax**, which I've mentioned before is simply how things are typed or written. Each programming language has a unique syntax that provides structure and underlying instructions to the computer.\n",
    "\n",
    "In an even more Pythonic syntax, we would call our Walk_anywhere function as:\n",
    "\n",
    "```\n",
    "Walk_anywhere(distance=2, angle=40)\n",
    "```\n",
    "\n",
    "Notice that we don't provide units (meters or °). Those things are useful for us to know as programmers and users of the program, but the program itself is mainly just interested in the data, in this case the two numbers."
   ]
  },
  {
   "cell_type": "markdown",
   "metadata": {
    "id": "1GJH0WMBX0Sa"
   },
   "source": [
    "### Programming in practice\n",
    "\n",
    "Practically speaking, when we code, we type the instructions we wish the computer to carry out using the syntax of the language in which we are coding. In most cases, we type **one instruction per line**. The computer then reads the instructions one line at a time, from top to bottom, though the most powerful basic programming techniques can change this behavior. We'll learn about those later on.\n",
    "\n",
    "We write our programs by typing in a text file using a **text editor**. Some text editors are designed for coding with useful features such as syntax highlighting and automatic formatting. However, even the most plain text editor (*e.g.* Notepad) could be used to write a computer program.\n",
    "\n",
    "In this workshop, the text editor we're using is conveniently built-in to the Jupyter notebook as the code cells.\n",
    "\n",
    "In Python, empty lines are ignored, as are lines that begin with the `#` character. These lines are called **comments** and are meant for notetaking and documenation.\n",
    "\n",
    "Now that we know that a **function** is like another recipe in our recipe book of code, let's look at some actual Python functions."
   ]
  },
  {
   "cell_type": "markdown",
   "metadata": {
    "id": "FgiyerGlpcm6"
   },
   "source": [
    "## Functions in Python\n",
    "\n",
    "There are a range of Python functions built-in to the language, as well as a multitude of external **libraries** that can be **imported** to be used, like getting another recipe book from your bookshelf or at the public library.\n",
    "\n",
    "Let's look at a very basic function. What happens when you run the single line of code below?"
   ]
  },
  {
   "cell_type": "code",
   "execution_count": 6,
   "metadata": {
    "id": "NroLPxfv6sEF"
   },
   "outputs": [
    {
     "data": {
      "text/plain": [
       "5"
      ]
     },
     "execution_count": 6,
     "metadata": {},
     "output_type": "execute_result"
    }
   ],
   "source": [
    "abs(-5)"
   ]
  },
  {
   "cell_type": "markdown",
   "metadata": {
    "id": "pdRxQ1gb62u3"
   },
   "source": [
    "The `abs()` function takes as input a single **integer** and **returns** its absolute value. In this case, the absolute value of -5 is 5. Under the hood, there is some block of code that Python has installed on your computer that is looked-up and run every time it sees that you've typed and run `abs()`. I don't know what this code looks like (though I could guess for such a simple function), and I don't even know where it is on the computer. But that's what's so great about functions: they simplify tasks that are repeated often, saving us programmers time and effort.\n",
    "\n",
    "For instance, if we needed to know the absolute value of 10 numbers and the underlying code for `abs()` is 4 lines of code and we DIDN'T have it stored as a function, we would have to write out those 4 lines 10 times (recall the Walk_to_oven and Walk_to_cabinet problem). Now, with `abs()`, we only need to write that function call 10 times.\n",
    "\n"
   ]
  },
  {
   "cell_type": "markdown",
   "metadata": {
    "id": "3cUb9mOTY6RE"
   },
   "source": [
    "### Functions usually require input\n",
    "\n",
    "What happens if you run this code block:"
   ]
  },
  {
   "cell_type": "code",
   "execution_count": 7,
   "metadata": {
    "id": "0fKd_OK580PF"
   },
   "outputs": [
    {
     "ename": "TypeError",
     "evalue": "abs() takes exactly one argument (0 given)",
     "output_type": "error",
     "traceback": [
      "\u001b[31m---------------------------------------------------------------------------\u001b[39m",
      "\u001b[31mTypeError\u001b[39m                                 Traceback (most recent call last)",
      "\u001b[36mCell\u001b[39m\u001b[36m \u001b[39m\u001b[32mIn[7]\u001b[39m\u001b[32m, line 1\u001b[39m\n\u001b[32m----> \u001b[39m\u001b[32m1\u001b[39m \u001b[38;5;28;43mabs\u001b[39;49m\u001b[43m(\u001b[49m\u001b[43m)\u001b[49m\n",
      "\u001b[31mTypeError\u001b[39m: abs() takes exactly one argument (0 given)"
     ]
    }
   ],
   "source": [
    "abs()"
   ]
  },
  {
   "cell_type": "markdown",
   "metadata": {
    "id": "gvg1c4eq8215"
   },
   "source": [
    "You get an **error** (a very common occurrence when coding). Remember, almost all functions require additional information in the form of **arguments**. In the case of `abs()` it requires a single argument, a number. Without it, the underlying code doesn't work, so it stops the program and tells us before it even tries.\n",
    "\n",
    "How about this:"
   ]
  },
  {
   "cell_type": "code",
   "execution_count": 8,
   "metadata": {
    "id": "x9TKBOHX9SbN"
   },
   "outputs": [
    {
     "ename": "TypeError",
     "evalue": "abs() takes exactly one argument (3 given)",
     "output_type": "error",
     "traceback": [
      "\u001b[31m---------------------------------------------------------------------------\u001b[39m",
      "\u001b[31mTypeError\u001b[39m                                 Traceback (most recent call last)",
      "\u001b[36mCell\u001b[39m\u001b[36m \u001b[39m\u001b[32mIn[8]\u001b[39m\u001b[32m, line 1\u001b[39m\n\u001b[32m----> \u001b[39m\u001b[32m1\u001b[39m \u001b[38;5;28;43mabs\u001b[39;49m\u001b[43m(\u001b[49m\u001b[43m-\u001b[49m\u001b[32;43m5\u001b[39;49m\u001b[43m,\u001b[49m\u001b[43m \u001b[49m\u001b[32;43m7\u001b[39;49m\u001b[43m,\u001b[49m\u001b[43m \u001b[49m\u001b[43m-\u001b[49m\u001b[32;43m12\u001b[39;49m\u001b[43m)\u001b[49m\n",
      "\u001b[31mTypeError\u001b[39m: abs() takes exactly one argument (3 given)"
     ]
    }
   ],
   "source": [
    "abs(-5, 7, -12)"
   ]
  },
  {
   "cell_type": "markdown",
   "metadata": {
    "id": "JRv6s78Q9Wl1"
   },
   "source": [
    "Still no good. In this case, the function takes EXACTLY one number and runs some code using it. This may not always be the case, and different functions are going to require different inputs.\n",
    "\n",
    "Ok then, how would you know how many arguments a given function takes? Or if there even exists a function to do a particular task?"
   ]
  },
  {
   "cell_type": "markdown",
   "metadata": {
    "id": "uyuF3nxp-SOX"
   },
   "source": [
    "### Learning more about functions\n",
    "\n",
    "If you know the name of the function and are coding in a notebook like this, you can conveniently use another function called `help()`. The `help()` function takes as an argument the name of another function and looks up some (hopefully helpful) documentation about it and prints it to the screen.\n",
    "\n",
    "Try this:"
   ]
  },
  {
   "cell_type": "code",
   "execution_count": 9,
   "metadata": {
    "id": "LYhD1hSK-iFe"
   },
   "outputs": [
    {
     "name": "stdout",
     "output_type": "stream",
     "text": [
      "Help on built-in function abs in module builtins:\n",
      "\n",
      "abs(x, /)\n",
      "    Return the absolute value of the argument.\n",
      "\n"
     ]
    }
   ],
   "source": [
    "help(abs)"
   ]
  },
  {
   "cell_type": "markdown",
   "metadata": {
    "id": "kzKAvY-p-xk4"
   },
   "source": [
    "This tells us what `abs()` does and tells us that it requires one argument, `x`. (The `/` indicates that the argument is positional, but you can ignore that for now.)\n",
    "\n",
    "What about if you know what you want to do, but you're not sure if there is a function to do it. This begins to touch a bit on a host of 'meta-skills' that one picks up as they start to code and work with computers more. It may seem obvious, but the first solution is to simply search the internet. The difficulty comes when you try to word your search, and unfortunately that will change depending on the task.\n",
    "\n",
    "However, there are some resources that will pop-up that are generally pretty reliable. For instance, the official [Python documentation](https://docs.python.org/3/) can be helpful, but is sometimes cryptic (e.g. the / above in the `abs()` `help()` output). StackExchange and [StackOverflow](https://stackoverflow.com/) are great resources that provide community answers to programming problems. But sometimes it is difficult to find an answer to your specific problem unless you post it yourself.\n",
    "\n",
    "Now, it is also feasible to ask a LLM chatbot (e.g. ChatGPT, CoPilot) to help with coding problems. While these bots have their issues with reliability for real world information, they tend to be quite accurate for basic programming problems. For instance, you could ask, \"How do I get the largest number of a list of numbers in Python?\" and it would probably reply with some answer related to the `max()` function.\n",
    "\n"
   ]
  },
  {
   "cell_type": "markdown",
   "metadata": {},
   "source": [
    "#### Meta-skills and other Python tips\n",
    "\n",
    "While we'll occasionally touch on some of these meta-programming skills, like getting help and debugging, we're sticking mostly to actual programming in our workshop. However, these skills are really important, so we've compiled a notebook of [Healthy Habits for Python](https://informatics.fas.harvard.edu/workshops/python-intensive/python-healthy-habits/) to accompany this workshop. Be sure to read through it and we can talk about any specific questions you have."
   ]
  },
  {
   "cell_type": "markdown",
   "metadata": {
    "id": "ov5143kebSmk"
   },
   "source": [
    "### Functions and data types\n",
    "\n",
    "Like we've said, functions require input in the form of arguments. For our pseudo-function Walk_anywhere(), the arguments were two numbers that represent distance and angle. For the `abs()` function in Python, the lone argument is a number that may represent anything.\n",
    "\n",
    "In both cases, the arguments were whole numbers, or as we call them in programming lingo, **integers**.\n",
    "\n",
    "**Integers** are only one of several basic types of data that we may be manipulating in our program.\n"
   ]
  },
  {
   "cell_type": "markdown",
   "metadata": {
    "id": "Y3rHJJjkbV_O"
   },
   "source": [
    "#### Integers\n",
    "\n",
    "In Python, an **integer** is any number that can be formed by the ten numeric symbols on your keyboard: 0, 1, 2, 3, 4, 5, 6, 7, 8, 9.\n",
    "\n",
    "The hyphen symbol is also allowed to indicate negative integers: -.  \n",
    "\n",
    "So `9` is an integer, as is `298`. And `-1054`. And `298357`. And so on. They are typed plainly, with no other characters."
   ]
  },
  {
   "cell_type": "markdown",
   "metadata": {
    "id": "0ixZ0M08X9xc"
   },
   "source": [
    "#### Strings\n",
    "\n",
    "Another basic Python data type is a **string**. Strings are made up of one or more of any alpha-numeric **character** on your keyboard. Importantly, in order for Python to know a piece of data is a string, it must be encompassed by quotation marks, either 'single' or \"double\".\n",
    "\n",
    "Some examples of strings are: `\"hello\"`, `'the quick brown fox'`, and `\"99\"`.\n",
    "\n",
    "Some things that are not strings are: `hello`, `abs()`, and `99`.\n",
    "\n",
    "Do you see why `\"hello\"` is a string, but `hello` is not? It's the double quotes! Without them, Python will interpret `hello` to be some sort of object like a variable or function name. With them, `\"hello\"` is interpreted as a string."
   ]
  },
  {
   "cell_type": "markdown",
   "metadata": {
    "id": "0ln81yjhbaQK"
   },
   "source": [
    "#### Why do data types matter?\n",
    "\n",
    "This distinction between types of data is important because **some functions may operate differently depending on the data type provided, and some might work for one data type and not for others**.\n",
    "\n",
    "For example, we know what `abs(-5)` will do. What about the following? Run the code block to find out:"
   ]
  },
  {
   "cell_type": "code",
   "execution_count": 10,
   "metadata": {
    "id": "br0ND0QHeUG3"
   },
   "outputs": [
    {
     "ename": "TypeError",
     "evalue": "bad operand type for abs(): 'str'",
     "output_type": "error",
     "traceback": [
      "\u001b[31m---------------------------------------------------------------------------\u001b[39m",
      "\u001b[31mTypeError\u001b[39m                                 Traceback (most recent call last)",
      "\u001b[36mCell\u001b[39m\u001b[36m \u001b[39m\u001b[32mIn[10]\u001b[39m\u001b[32m, line 1\u001b[39m\n\u001b[32m----> \u001b[39m\u001b[32m1\u001b[39m \u001b[38;5;28;43mabs\u001b[39;49m\u001b[43m(\u001b[49m\u001b[33;43m\"\u001b[39;49m\u001b[33;43m-5\u001b[39;49m\u001b[33;43m\"\u001b[39;49m\u001b[43m)\u001b[49m\n",
      "\u001b[31mTypeError\u001b[39m: bad operand type for abs(): 'str'"
     ]
    }
   ],
   "source": [
    "abs(\"-5\")"
   ]
  },
  {
   "cell_type": "markdown",
   "metadata": {
    "id": "sLmxQuyPeXwg"
   },
   "source": [
    "It is more-or-less telling us that we gave it a string when this function only works for integers.\n",
    "\n",
    "This may seem obvious with such a simple example, but later on, when data types are obfuscated behind variable names and data structures, you may start getting errors like this that may be harder to understand.\n",
    "\n",
    "\n",
    "\n",
    "**One of the most important concepts in programming is to always know what data type you are working with.**"
   ]
  },
  {
   "cell_type": "markdown",
   "metadata": {
    "id": "oz1sITLTfVd7"
   },
   "source": [
    "### More examples of functions\n",
    "\n",
    "Let's say we have the following string: \"Teach a robot to bake cookies.\"\n",
    "\n",
    "And we've entered this data into our Python script and **stored it as a variable** using the **=** operator as in the code block below.\n",
    "\n",
    "\n",
    "\n",
    "> **Exercise**: What function could we use to count the number of individual characters in our string? What happens if we use the same function to count the number of digits in a number? Enter your answer in the code below.\n",
    "\n"
   ]
  },
  {
   "cell_type": "code",
   "execution_count": null,
   "metadata": {
    "id": "WWzft7hrgG0u"
   },
   "outputs": [
    {
     "data": {
      "text/plain": [
       "30"
      ]
     },
     "execution_count": 11,
     "metadata": {},
     "output_type": "execute_result"
    }
   ],
   "source": [
    "my_string = \"Teach a robot to bake cookies.\"\n",
    "\n",
    "# Your code here: Find a function to put here that counts the number of characters in my_string\n"
   ]
  },
  {
   "cell_type": "code",
   "execution_count": null,
   "metadata": {
    "tags": [
     "solution"
    ]
   },
   "outputs": [],
   "source": [
    "#@title Solution {display-mode: \"form\"}\n",
    "my_string = \"Teach a robot to bake cookies.\"\n",
    "len(my_string)"
   ]
  },
  {
   "cell_type": "code",
   "execution_count": null,
   "metadata": {
    "id": "fZaroJXrgfHp"
   },
   "outputs": [
    {
     "ename": "TypeError",
     "evalue": "object of type 'int' has no len()",
     "output_type": "error",
     "traceback": [
      "\u001b[31m---------------------------------------------------------------------------\u001b[39m",
      "\u001b[31mTypeError\u001b[39m                                 Traceback (most recent call last)",
      "\u001b[36mCell\u001b[39m\u001b[36m \u001b[39m\u001b[32mIn[12]\u001b[39m\u001b[32m, line 4\u001b[39m\n\u001b[32m      1\u001b[39m my_integer = \u001b[32m124\u001b[39m\n\u001b[32m      3\u001b[39m \u001b[38;5;66;03m# Your code here: Use the same function to count the number of digits in my_integer\u001b[39;00m\n\u001b[32m----> \u001b[39m\u001b[32m4\u001b[39m \u001b[38;5;28;43mlen\u001b[39;49m\u001b[43m(\u001b[49m\u001b[43mmy_integer\u001b[49m\u001b[43m)\u001b[49m \u001b[38;5;66;03m### SL\u001b[39;00m\n",
      "\u001b[31mTypeError\u001b[39m: object of type 'int' has no len()"
     ]
    }
   ],
   "source": [
    "my_integer = 124\n",
    "\n",
    "# Your code here: Use the same function to count the number of digits in my_integer\n"
   ]
  },
  {
   "cell_type": "code",
   "execution_count": null,
   "metadata": {
    "tags": [
     "solution"
    ]
   },
   "outputs": [],
   "source": [
    "#@title Solution {display-mode: \"form\"}\n",
    "my_integer = 124\n",
    "len(my_integer)"
   ]
  },
  {
   "cell_type": "markdown",
   "metadata": {
    "id": "WBW1nPTJg1ae"
   },
   "source": [
    "#### print()\n",
    "\n",
    "Another important function in Python is `print()`. This function takes any number of arguments and simply displays them on the screen. This may seem unnecesary in our Jupyter notebook, where function output is automatically displayed, but `print()` allows us to display **and format** output in other environments.\n",
    "\n",
    "> **Exercise**: Use `print()` to display both `my_string` and `my_integer` on a single line.\n"
   ]
  },
  {
   "cell_type": "code",
   "execution_count": null,
   "metadata": {
    "id": "t5DVDfZbrHfN"
   },
   "outputs": [
    {
     "name": "stdout",
     "output_type": "stream",
     "text": [
      "Teach a robot to bake cookies. 124\n"
     ]
    }
   ],
   "source": [
    "# Your code here: Display my_string and my_integer on a single line\n"
   ]
  },
  {
   "cell_type": "code",
   "execution_count": null,
   "metadata": {
    "tags": [
     "solution"
    ]
   },
   "outputs": [],
   "source": [
    "#@title Solution {display-mode: \"form\"}\n",
    "print(my_string, my_integer)"
   ]
  },
  {
   "cell_type": "markdown",
   "metadata": {
    "id": "Xgz1j1h8cK25"
   },
   "source": [
    "You'll notice that this worked even though we gave it mixed data types (a string and an integer).\n",
    "\n",
    "`print()` is an important function for displaying output to a user as well as for debugging (when in doubt, print it out)."
   ]
  },
  {
   "cell_type": "markdown",
   "metadata": {
    "id": "FSrG9gUDrO8V"
   },
   "source": [
    "### Storing the output of functions\n",
    "\n",
    "The same way functions require input, they usually also produce output. We say that the function **returns** this output, because it can then be used in the main program.\n",
    "\n",
    "Up until now, we've simply typed our function and let the notebook display the returned result to us. But of course computer programs are composed of multiple instructions and instead of displaying the result of the function to the screen, we may want to save it to be used later on in the program.\n",
    "\n",
    "To do this, we again use our trusty item assignment operator, **=**."
   ]
  },
  {
   "cell_type": "code",
   "execution_count": 14,
   "metadata": {
    "colab": {
     "base_uri": "https://localhost:8080/"
    },
    "id": "C5Sdgx9nsCu2",
    "outputId": "25f276ae-adff-4188-a1c8-4eff88368e8c"
   },
   "outputs": [
    {
     "name": "stdout",
     "output_type": "stream",
     "text": [
      "The absolute value of -5 is 5\n"
     ]
    }
   ],
   "source": [
    "my_integer = -5\n",
    "abs_result = abs(my_integer)\n",
    "print(\"The absolute value of\", my_integer, \"is\", abs_result)"
   ]
  },
  {
   "cell_type": "markdown",
   "metadata": {
    "id": "QRgaeurwsXMd"
   },
   "source": [
    "This chunk demonstrates a few things:\n",
    "\n",
    "1.   Instead of giving the `abs()` function our data directly, we've instead given it a variable in which we've stored our data.\n",
    "2.   We used `=` to assign the result of `abs()` to another variable\n",
    "3.   We used `print()` to format and display the result.\n",
    "\n",
    "> **Exercise**: Using the function you looked up and learned about above (`len()`), write a few lines of code that store a string, look-up its length, and display both the string and the length using `print()`."
   ]
  },
  {
   "cell_type": "code",
   "execution_count": null,
   "metadata": {
    "id": "Y-r043Amc_i1"
   },
   "outputs": [
    {
     "name": "stdout",
     "output_type": "stream",
     "text": [
      "The message: ' Teach a robot to bake cookies. ' is 30 characters long.\n"
     ]
    }
   ],
   "source": [
    "# Your code here: Store a string, calculate its length, and print both\n"
   ]
  },
  {
   "cell_type": "code",
   "execution_count": null,
   "metadata": {
    "tags": [
     "solution"
    ]
   },
   "outputs": [],
   "source": [
    "#@title Solution {display-mode: \"form\"}\n",
    "my_string = \"Teach a robot to bake cookies.\"\n",
    "my_string_length = len(my_string)\n",
    "print(\"The message: '\", my_string, \"' is\", my_string_length, \"characters long.\")"
   ]
  },
  {
   "cell_type": "markdown",
   "metadata": {},
   "source": [
    "### Indirection\n",
    "\n",
    "In programming, indirection is the use of one object to reference another. We've seen this a couple of times already, and we want to introduce this concept now because as we move to more advanced data structures, multiple levels of indirection can be used and may make things difficult to understand.\n",
    "\n",
    "In Python, we can say that using anything other than a **literal** value is a level of indirection. Here is a simple example:"
   ]
  },
  {
   "cell_type": "code",
   "execution_count": null,
   "metadata": {},
   "outputs": [],
   "source": [
    "x = 5\n",
    "abs(x) # Here, we've indirectly referenced the literal of 5 by using the variable x."
   ]
  },
  {
   "cell_type": "markdown",
   "metadata": {},
   "source": [
    "This example seems pretty easy to understand, but this concept will be very important as we move forward. In fact, efficient and automated programs couldn't be written at all without indirection: indirection allows us to manipulate data within programs and accept different data when running the same program multiple times.\n",
    "\n",
    "As such, we may also occasionally do some \"code golf\" or \"code bowling\" exercises to show the trade-offs between too much and too little indirection. For example, we could easily \"code golf\" this block:"
   ]
  },
  {
   "cell_type": "code",
   "execution_count": 16,
   "metadata": {},
   "outputs": [
    {
     "name": "stdout",
     "output_type": "stream",
     "text": [
      "19\n"
     ]
    }
   ],
   "source": [
    "a = 3\n",
    "b = 5\n",
    "c = 8\n",
    "d = 2\n",
    "e = 1\n",
    "\n",
    "print(a + b + c + d + e)"
   ]
  },
  {
   "cell_type": "markdown",
   "metadata": {},
   "source": [
    "To just be:"
   ]
  },
  {
   "cell_type": "code",
   "execution_count": 17,
   "metadata": {},
   "outputs": [
    {
     "name": "stdout",
     "output_type": "stream",
     "text": [
      "19\n"
     ]
    }
   ],
   "source": [
    "print(3 + 5 + 8 + 2 + 1)"
   ]
  },
  {
   "cell_type": "markdown",
   "metadata": {},
   "source": [
    "Which is very succinct (1 line vs. 6 lines) and clear, but we lose the ability to manipulate the data easily elsewhere in our program, *e.g.*:"
   ]
  },
  {
   "cell_type": "code",
   "execution_count": 18,
   "metadata": {},
   "outputs": [
    {
     "name": "stdout",
     "output_type": "stream",
     "text": [
      "25\n"
     ]
    }
   ],
   "source": [
    "a = 3\n",
    "b = 5\n",
    "c = 8\n",
    "d = 2\n",
    "e = 1\n",
    "\n",
    "a = a + 6\n",
    "\n",
    "print(a + b + c + d + e)"
   ]
  },
  {
   "cell_type": "markdown",
   "metadata": {
    "id": "iBby6FUxRUqP"
   },
   "source": [
    "### Variable naming rules\n",
    "\n",
    "We've talked a little bit about storing information as **variables** with the assignment operator `=`."
   ]
  },
  {
   "cell_type": "code",
   "execution_count": null,
   "metadata": {
    "id": "f9Lj-0yZRmkF"
   },
   "outputs": [],
   "source": [
    "my_data = 5\n",
    "my_message = \"hello world\""
   ]
  },
  {
   "cell_type": "markdown",
   "metadata": {
    "id": "Qojbf6m4RqiG"
   },
   "source": [
    "However, there are some rules on how we can name our variables:\n",
    "\n",
    "1.   Variable names can start with any letter, but not a number. They can contain numbers after the first character.\n"
   ]
  },
  {
   "cell_type": "code",
   "execution_count": null,
   "metadata": {
    "colab": {
     "base_uri": "https://localhost:8080/",
     "height": 108
    },
    "id": "BvkrThvER9El",
    "outputId": "aba054e9-1896-4dff-a568-0622d8fa0b97"
   },
   "outputs": [
    {
     "ename": "SyntaxError",
     "evalue": "invalid decimal literal (<ipython-input-4-b35b10f55182>, line 5)",
     "output_type": "error",
     "traceback": [
      "\u001b[0;36m  File \u001b[0;32m\"<ipython-input-4-b35b10f55182>\"\u001b[0;36m, line \u001b[0;32m5\u001b[0m\n\u001b[0;31m    2_data = 7 # no good!\u001b[0m\n\u001b[0m     ^\u001b[0m\n\u001b[0;31mSyntaxError\u001b[0m\u001b[0;31m:\u001b[0m invalid decimal literal\n"
     ]
    }
   ],
   "source": [
    "my_data = 5 # good!\n",
    "my_data2 = 6 # also good!\n",
    "2_data = 7 # no good!"
   ]
  },
  {
   "cell_type": "markdown",
   "metadata": {
    "id": "jf9N9J44SPRA"
   },
   "source": [
    "2.   **Keywords**, like `if`, `while`, `in`, cannot be used as variable names because they are used for other operations. The following shows a list of keywords that cannot be used as variable names:"
   ]
  },
  {
   "cell_type": "code",
   "execution_count": null,
   "metadata": {
    "colab": {
     "base_uri": "https://localhost:8080/"
    },
    "id": "3gar1f1TSz9a",
    "outputId": "427f7198-b722-4a26-c7f4-243a37c97944"
   },
   "outputs": [
    {
     "name": "stdout",
     "output_type": "stream",
     "text": [
      "['False', 'None', 'True', 'and', 'as', 'assert', 'async', 'await', 'break', 'class', 'continue', 'def', 'del', 'elif', 'else', 'except', 'finally', 'for', 'from', 'global', 'if', 'import', 'in', 'is', 'lambda', 'nonlocal', 'not', 'or', 'pass', 'raise', 'return', 'try', 'while', 'with', 'yield']\n"
     ]
    }
   ],
   "source": [
    "import keyword\n",
    "print(keyword.kwlist)"
   ]
  },
  {
   "cell_type": "markdown",
   "metadata": {
    "id": "ms1HcrPKS7KE"
   },
   "source": [
    "3.   Variables are case sensitive, so the variables `count`, `Count`, and `COUNT` are all unique and can be used simultaneously, though this would not be a best practice since it makes the code harder to read.\n",
    "\n"
   ]
  },
  {
   "cell_type": "code",
   "execution_count": null,
   "metadata": {
    "colab": {
     "base_uri": "https://localhost:8080/"
    },
    "id": "CG9uY3UKTKRB",
    "outputId": "daba1080-bc71-4fd1-837b-f40757990a38"
   },
   "outputs": [
    {
     "name": "stdout",
     "output_type": "stream",
     "text": [
      "5 6 7\n"
     ]
    }
   ],
   "source": [
    "count = 5\n",
    "Count = 6\n",
    "COUNT = 7\n",
    "print(count, Count, COUNT)"
   ]
  },
  {
   "cell_type": "markdown",
   "metadata": {},
   "source": [
    "### Whitespace in Python, part 1\n",
    "\n",
    "Whitespace refers to any part of a string that is not a visible character, such as a space, tab, or new line. In some cases, Python actually uses whitespace to interpret code, which we'll learn about later. But in most cases, it is very forgiving:"
   ]
  },
  {
   "cell_type": "code",
   "execution_count": 2,
   "metadata": {},
   "outputs": [
    {
     "name": "stdout",
     "output_type": "stream",
     "text": [
      "5\n"
     ]
    }
   ],
   "source": [
    "x               =                   5\n",
    "\n",
    "\n",
    "\n",
    "\n",
    "\n",
    "\n",
    "\n",
    "\n",
    "print(        x       \n",
    "      \n",
    "      )"
   ]
  },
  {
   "cell_type": "markdown",
   "metadata": {},
   "source": [
    "Obviously, typing code like this is completely unreadable, but adding whitespace in certain spots can actually make things a bit easier to parse by eye:"
   ]
  },
  {
   "cell_type": "code",
   "execution_count": 3,
   "metadata": {},
   "outputs": [
    {
     "name": "stdout",
     "output_type": "stream",
     "text": [
      "The message: ' Teach a robot to bake cookies. ' is 30 characters long.\n"
     ]
    }
   ],
   "source": [
    "my_string = \"Teach a robot to bake cookies.\"\n",
    "my_string_length = len(my_string)\n",
    "\n",
    "print(\"The message: '\", \n",
    "      my_string, \n",
    "      \"' is\", \n",
    "      my_string_length, \n",
    "      \"characters long.\"\n",
    "    )"
   ]
  },
  {
   "cell_type": "markdown",
   "metadata": {},
   "source": [
    "The most important general rule (other than indented code blocks, which we'll learn about later), is that any individual command should be isolated to one line, but parts of that command contained within characters can be broken into multiple lines. As above, in the call to the `print()` function where we place the arguments of the function on separate lines and indent them.\n",
    "\n",
    "However, lines of code that are not calls to functions or defining things separated by commas (generally) must be kept to one line:"
   ]
  },
  {
   "cell_type": "code",
   "execution_count": null,
   "metadata": {},
   "outputs": [
    {
     "ename": "SyntaxError",
     "evalue": "invalid syntax (2617818444.py, line 1)",
     "output_type": "error",
     "traceback": [
      "  \u001b[36mCell\u001b[39m\u001b[36m \u001b[39m\u001b[32mIn[4]\u001b[39m\u001b[32m, line 1\u001b[39m\n\u001b[31m    \u001b[39m\u001b[31mx =\u001b[39m\n       ^\n\u001b[31mSyntaxError\u001b[39m\u001b[31m:\u001b[39m invalid syntax\n"
     ]
    }
   ],
   "source": [
    "x =\n",
    "5\n"
   ]
  },
  {
   "cell_type": "markdown",
   "metadata": {},
   "source": [
    "Best advice: keep individual instructions to a single line, and only consider adding whitespace for legibility for difficult to read function calls or data structure definitions (more later)."
   ]
  },
  {
   "cell_type": "markdown",
   "metadata": {
    "id": "3_XVSaFEtM6y"
   },
   "source": [
    "## Operators as functions\n",
    "\n",
    "As we've been discussing, **functions** are reusable blocks of code. They take input **arguments** and **return** objects that can be stored in variables and used later.\n",
    "\n",
    "In general, when calling a function and saving its result, it is typed as:\n",
    "\n",
    "```\n",
    "my_function_result = my_function(argument1, argument2)\n",
    "```\n",
    "\n",
    "Here, the Python interpreter sees that `my_function()` has been called with two arguments and it performs some specific task on them which is returned.\n",
    "\n",
    "There are also functions that are represented by single symbols or keywords called **operators**. These operators, when the interpreter encounters them, perform a specific task and return a result. We're already familiar with one operator, the assignment operator **=**.\n",
    "\n",
    "```\n",
    "my_data_point = 12\n",
    "```\n",
    "\n",
    "Here, we've told the program to assign the variable name on the left hand side of the equals sign to the data on the right hand side. We can also use the assignment operator `=` to assign the value of one variable to another variable. This may be useful if you want to store an initial value to compare to later:"
   ]
  },
  {
   "cell_type": "code",
   "execution_count": 19,
   "metadata": {
    "id": "TaAicCjS7Xwt"
   },
   "outputs": [
    {
     "name": "stdout",
     "output_type": "stream",
     "text": [
      "12\n"
     ]
    }
   ],
   "source": [
    "my_data_point = 12\n",
    "my_initial_data = my_data_point\n",
    "print(my_initial_data)"
   ]
  },
  {
   "cell_type": "markdown",
   "metadata": {
    "id": "qt676PG_nzxC"
   },
   "source": [
    "So in a way, operators can be seen as syntactic shortcuts. Instead of having to type something like:\n",
    "\n",
    "```\n",
    "set_equal_to(my_variable, my_data)\n",
    "```\n",
    "\n",
    "We just need to type:\n",
    "\n",
    "```\n",
    "my_variable = my_data\n",
    "```"
   ]
  },
  {
   "cell_type": "markdown",
   "metadata": {
    "id": "ncM98HFc7nP0"
   },
   "source": [
    "### Arithmetic operators for integers\n",
    "\n",
    "There are other operators that, when used with **integers**, perform basic arithmetic functions. These are, somewhat predictably:\n",
    "\n",
    "*   `+` : Add the items on the left and right together\n",
    "*   `-` : Subtract the item on the right from the one on the left\n",
    "*   `*` : Multiply the items on the left and right together\n",
    "*   `/` : Divide (and round) the item on the left by the item on the right\n",
    "\n",
    "Let's take a look at some of these."
   ]
  },
  {
   "cell_type": "code",
   "execution_count": null,
   "metadata": {
    "colab": {
     "base_uri": "https://localhost:8080/"
    },
    "id": "qs05eOfc8MuS",
    "outputId": "1200bb17-d848-48c1-bcc3-488421bc7c86"
   },
   "outputs": [
    {
     "name": "stdout",
     "output_type": "stream",
     "text": [
      "6\n",
      "2\n",
      "8\n",
      "2.0\n"
     ]
    }
   ],
   "source": [
    "x = 4\n",
    "y = 2\n",
    "\n",
    "print(x + y)\n",
    "print(x - y)\n",
    "print(x * y)\n",
    "print(x / y)"
   ]
  },
  {
   "cell_type": "markdown",
   "metadata": {
    "id": "wCjnJjUu7jui"
   },
   "source": [
    "Here, we've used a bit of indirection by giving the `print()` function a single argument: the result of the arithmetic operation, which it then displays.\n",
    "\n",
    "Notice that, for division, we see that it has added a decimal place. It has converted our integers into **floating point** numbers, another numeric data type in Python, to deal with numbers that are not divisible:"
   ]
  },
  {
   "cell_type": "code",
   "execution_count": null,
   "metadata": {
    "colab": {
     "base_uri": "https://localhost:8080/"
    },
    "id": "oob9w1ez9FC5",
    "outputId": "a280ba63-8680-44fb-93ae-368ee70572b2"
   },
   "outputs": [
    {
     "name": "stdout",
     "output_type": "stream",
     "text": [
      "1.5\n"
     ]
    }
   ],
   "source": [
    "x = 3\n",
    "y = 2\n",
    "\n",
    "print(x / y)"
   ]
  },
  {
   "cell_type": "markdown",
   "metadata": {
    "id": "cmodBDF29UFn"
   },
   "source": [
    "A couple other arithmetic operators are:\n",
    "\n",
    "*   `**` : called the **exponentiation** operator, this raises the number on the left side to the power on the right side\n",
    "*   `%`  : called the **modulo** or **modulus** operator, this divides two numbers and returns the _remainder_ of the division\n",
    "*   `//` : called the **floor division operator**, this divides and then rounds down\n",
    "\n",
    "Let's take a look at some examples."
   ]
  },
  {
   "cell_type": "code",
   "execution_count": 20,
   "metadata": {
    "id": "uAWDgv1U-MGu"
   },
   "outputs": [
    {
     "name": "stdout",
     "output_type": "stream",
     "text": [
      "9\n",
      "1\n",
      "1\n"
     ]
    }
   ],
   "source": [
    "x = 3\n",
    "y = 2\n",
    "\n",
    "print(x ** y)\n",
    "print(x % y)\n",
    "print(x // y)"
   ]
  },
  {
   "cell_type": "markdown",
   "metadata": {
    "id": "hmrtdBwJ-VO0"
   },
   "source": [
    "Remember, when performing 3 / 2 with remainders, the remainder is 1, so `%` returns 1.\n",
    "\n",
    "And without remainders it is 1.5, so `//` also rounds down to 1.\n",
    "\n",
    "#### Order of operations\n",
    "\n",
    "Arithmetic in Python follows the order of operations rules. Maybe you learned this as PEMDAS or something similar: **P**arentheses, **E**xponents, **M**ultiplication/**D**ivision, **A**ddition/**S**ubtraction."
   ]
  },
  {
   "cell_type": "code",
   "execution_count": 21,
   "metadata": {
    "id": "AZDbf6UH_cIX"
   },
   "outputs": [
    {
     "name": "stdout",
     "output_type": "stream",
     "text": [
      "7\n",
      "9\n",
      "---\n",
      "8\n",
      "3\n"
     ]
    }
   ],
   "source": [
    "print(1 + 2 * 3)\n",
    "print((1 + 2) * 3)\n",
    "print(\"---\")\n",
    "print(3 ** 2 - 1)\n",
    "print(3 ** (2 - 1))"
   ]
  },
  {
   "cell_type": "markdown",
   "metadata": {
    "id": "X0cCf86s_5xa"
   },
   "source": [
    "### String operators, or why its important to know your data types\n",
    "\n",
    "The above operators are useful for arithmetic on **integers** (or **floats**). However, some operators can also be used on strings."
   ]
  },
  {
   "cell_type": "markdown",
   "metadata": {
    "id": "nl6aKV9yfRzB"
   },
   "source": [
    "#### Concatenate strings with `+`\n",
    "\n",
    "The `+`, operator in particular, can be used to **concatenate**, or combine, strings together."
   ]
  },
  {
   "cell_type": "code",
   "execution_count": null,
   "metadata": {
    "id": "ih4W2uEiGYXt"
   },
   "outputs": [],
   "source": [
    "x = \"hello\"\n",
    "y = \"world\"\n",
    "\n",
    "print(x + y)"
   ]
  },
  {
   "cell_type": "markdown",
   "metadata": {
    "id": "YiPuH0O5GdnA"
   },
   "source": [
    "This can be very useful when formatting strings, either for processing or for output.\n",
    "\n",
    "**Remember, certain functions expect certain data types** (strings or integers). In most cases, if the wrong data type is provided, an error will stop the program, like in our `abs()` example. However, in some cases, functions that accept both data types can produce unexpected results without informing you at all!"
   ]
  },
  {
   "cell_type": "code",
   "execution_count": 22,
   "metadata": {
    "id": "XD96NUrIHD3B"
   },
   "outputs": [
    {
     "name": "stdout",
     "output_type": "stream",
     "text": [
      "I'm now showing my professor my important results: 98\n"
     ]
    }
   ],
   "source": [
    "important_data_point1 = \"9\"\n",
    "important_data_point2 = \"8\"\n",
    "\n",
    "sum_of_important_data = important_data_point1 + important_data_point2\n",
    "\n",
    "print(\"I'm now showing my professor my important results:\", sum_of_important_data)"
   ]
  },
  {
   "cell_type": "markdown",
   "metadata": {
    "id": "ysx0nseeHa2q"
   },
   "source": [
    "Here, no error is displayed telling you you are concatenating two strings rather than adding together two integers. That's because both things are vaild to do with Python syntax: Python has no way of knowing that you wanted to add these numbers rather than concatenate them - that's up to you to tell it! Remember, every little step of a computer program has to be given, otherwise you will get errors (relatively easy to debug) or **logic errors**, which occur when the program runs, but gives unexpected results, and are generally harder to debug.\n",
    "\n",
    "> **Exercise**: Correct the code so that it accurately prints the sum of the two data points."
   ]
  },
  {
   "cell_type": "code",
   "execution_count": null,
   "metadata": {
    "id": "EvE7rjOea7kc"
   },
   "outputs": [
    {
     "name": "stdout",
     "output_type": "stream",
     "text": [
      "I'm now showing my professor my important results: 17\n"
     ]
    }
   ],
   "source": [
    "# Edit and correct the code here\n",
    "important_data_point1 = \"9\"\n",
    "important_data_point2 = \"8\"\n",
    "\n",
    "sum_of_important_data = important_data_point1 + important_data_point2\n",
    "\n",
    "print(\"I'm now showing my professor my important results:\", sum_of_important_data)"
   ]
  },
  {
   "cell_type": "code",
   "execution_count": null,
   "metadata": {
    "tags": [
     "solution"
    ]
   },
   "outputs": [],
   "source": [
    "#@title Solution {display-mode: \"form\"}\n",
    "important_data_point1 = 9\n",
    "important_data_point2 = 8\n",
    "\n",
    "sum_of_important_data = important_data_point1 + important_data_point2\n",
    "\n",
    "print(\"I'm now showing my professor my important results:\", sum_of_important_data)"
   ]
  },
  {
   "cell_type": "markdown",
   "metadata": {
    "id": "tw6CSvoebINX"
   },
   "source": [
    "Luckily, if we ever try to `+` a string and an integer together, it stops us with an error:"
   ]
  },
  {
   "cell_type": "code",
   "execution_count": 24,
   "metadata": {
    "id": "sU6ybE61bSFG"
   },
   "outputs": [
    {
     "ename": "TypeError",
     "evalue": "can only concatenate str (not \"int\") to str",
     "output_type": "error",
     "traceback": [
      "\u001b[31m---------------------------------------------------------------------------\u001b[39m",
      "\u001b[31mTypeError\u001b[39m                                 Traceback (most recent call last)",
      "\u001b[36mCell\u001b[39m\u001b[36m \u001b[39m\u001b[32mIn[24]\u001b[39m\u001b[32m, line 1\u001b[39m\n\u001b[32m----> \u001b[39m\u001b[32m1\u001b[39m x = \u001b[33;43m\"\u001b[39;49m\u001b[33;43m9\u001b[39;49m\u001b[33;43m\"\u001b[39;49m\u001b[43m \u001b[49m\u001b[43m+\u001b[49m\u001b[43m \u001b[49m\u001b[32;43m8\u001b[39;49m\n",
      "\u001b[31mTypeError\u001b[39m: can only concatenate str (not \"int\") to str"
     ]
    }
   ],
   "source": [
    "x = \"9\" + 8"
   ]
  },
  {
   "cell_type": "markdown",
   "metadata": {
    "id": "bxj2vGGRmmR4"
   },
   "source": [
    "#### Repeat strings with `*`\n",
    "\n",
    "The other operator that can be used with strings is `*`. This works slightly differently in that it needs a string on the left side and an integer on the right:\n",
    "\n",
    "```\n",
    "my_string * n\n",
    "```\n",
    "\n",
    "Basically, this means \"repeat my_string n times\". Here's an example:"
   ]
  },
  {
   "cell_type": "code",
   "execution_count": 25,
   "metadata": {
    "id": "dCDR3gdLnGSf"
   },
   "outputs": [
    {
     "name": "stdout",
     "output_type": "stream",
     "text": [
      "hahahaha\n"
     ]
    }
   ],
   "source": [
    "my_string = \"ha\"\n",
    "repeat_num = 4\n",
    "\n",
    "print(my_string * repeat_num)"
   ]
  },
  {
   "cell_type": "markdown",
   "metadata": {
    "id": "senAKNCwoct7"
   },
   "source": [
    "## Booleans and logical operators\n",
    "\n",
    "So far, we've covered two basic data types: **integers** and **strings** (and we've also touched on **floats**) and described on how you need to be careful when giving data to functions.\n",
    "\n",
    "However, there is another data type inherent to any programming language: the **boolean**. Booleans allow us to construct logical statements or expressions, which are the foundation for any programming task. Logical statements allow us to control the flow of our program, executing some instructions based on the current conditions in the program.\n",
    "\n",
    "Booleans can take only two values: True or False.\n",
    "\n",
    "In a way, booleans represent the most basic input that all computers are built on: is this transistor on (True) or off (False).\n",
    "\n",
    "In Python, booleans are typed as `True` or `False`. Notice the capitalization -- there are no such data types as `true` or `false`."
   ]
  },
  {
   "cell_type": "code",
   "execution_count": 26,
   "metadata": {
    "id": "sBBn8mXWpNRj"
   },
   "outputs": [
    {
     "name": "stdout",
     "output_type": "stream",
     "text": [
      "True\n",
      "--- print True check ---\n"
     ]
    },
    {
     "ename": "NameError",
     "evalue": "name 'true' is not defined",
     "output_type": "error",
     "traceback": [
      "\u001b[31m---------------------------------------------------------------------------\u001b[39m",
      "\u001b[31mNameError\u001b[39m                                 Traceback (most recent call last)",
      "\u001b[36mCell\u001b[39m\u001b[36m \u001b[39m\u001b[32mIn[26]\u001b[39m\u001b[32m, line 3\u001b[39m\n\u001b[32m      1\u001b[39m \u001b[38;5;28mprint\u001b[39m(\u001b[38;5;28;01mTrue\u001b[39;00m)\n\u001b[32m      2\u001b[39m \u001b[38;5;28mprint\u001b[39m(\u001b[33m\"\u001b[39m\u001b[33m--- print True check ---\u001b[39m\u001b[33m\"\u001b[39m)\n\u001b[32m----> \u001b[39m\u001b[32m3\u001b[39m \u001b[38;5;28mprint\u001b[39m(\u001b[43mtrue\u001b[49m)\n\u001b[32m      4\u001b[39m \u001b[38;5;28mprint\u001b[39m(\u001b[33m\"\u001b[39m\u001b[33m--- print true check ---\u001b[39m\u001b[33m\"\u001b[39m)\n",
      "\u001b[31mNameError\u001b[39m: name 'true' is not defined"
     ]
    }
   ],
   "source": [
    "print(True)\n",
    "print(\"--- print True check ---\")\n",
    "print(true)\n",
    "print(\"--- print true check ---\")"
   ]
  },
  {
   "cell_type": "markdown",
   "metadata": {
    "id": "VSHWaw__pkYV"
   },
   "source": [
    "Here, the boolean `True` is displayed along with the message telling us it has been displayed. However, since the keyword `true` doesn't exist in Python, the error is telling us that it thinks `true` should be a variable that the programmer has put in the program, but it can't find where it is defined.\n",
    "\n",
    "There are other ways to represent Booleans in Python as well. For instance the **integers** `1` and `0` represent `True` and `False`, respectively.\n",
    "\n",
    "In fact, any integer _other than 0_ will return `True` if evaluated as a boolean with the `bool()` function. Likewise, any **string** other than an empty string (represented as quotes with no characters contained in them: `\"\"` or `''`) will return `True` while the empty string will return `False`. Here, let's use the `bool()` function, which takes one argument and returns either `True` or `False`, to confirm."
   ]
  },
  {
   "cell_type": "code",
   "execution_count": 27,
   "metadata": {
    "colab": {
     "base_uri": "https://localhost:8080/"
    },
    "id": "V8mi88mhqQFN",
    "outputId": "2591698c-5e24-411b-822f-b4f522871e4c"
   },
   "outputs": [
    {
     "name": "stdout",
     "output_type": "stream",
     "text": [
      "bool() of a boolean:\n",
      "True\n",
      "---\n",
      "bool() of integers:\n",
      "True\n",
      "False\n",
      "True\n",
      "True\n",
      "---\n",
      "bool() of strings\n",
      "True\n",
      "False\n",
      "False\n",
      "True\n"
     ]
    }
   ],
   "source": [
    "print(\"bool() of a boolean:\")\n",
    "print(bool(True))\n",
    "print(\"---\")\n",
    "\n",
    "print(\"bool() of integers:\")\n",
    "print(bool(1))\n",
    "print(bool(0))\n",
    "print(bool(587348))\n",
    "print(bool(-1))\n",
    "print(\"---\")\n",
    "\n",
    "print(\"bool() of strings\")\n",
    "print(bool(\"Hello\"))\n",
    "print(bool(\"\"))\n",
    "print(bool(''))\n",
    "print(bool(\"0\"))"
   ]
  },
  {
   "cell_type": "markdown",
   "metadata": {
    "id": "hN5Lsto1qcaH"
   },
   "source": [
    "\n",
    "\n",
    "> **Exercise**: What would the following code display to the screen:\n",
    "\n",
    "```\n",
    "print(bool(\"False\"))\n",
    "```\n",
    "\n"
   ]
  },
  {
   "cell_type": "code",
   "execution_count": null,
   "metadata": {
    "tags": [
     "solution"
    ]
   },
   "outputs": [],
   "source": [
    "#@title Solution {display-mode: \"form\"}\n",
    "print(bool(\"False\"))"
   ]
  },
  {
   "cell_type": "markdown",
   "metadata": {
    "id": "pNzEv57xr9xu"
   },
   "source": [
    "### Logical operators: **and** and **or**\n",
    "\n",
    "Sometimes, we want to test whether a combination of boolean values together evaluate to `True` or `False` in different ways. This allows us to make complex logical conclusions based on the state of variables in our program.\n",
    "\n",
    "We do this with the logical operators **and** and **or**.\n",
    "\n",
    "In both cases, the objects on the left and right of the operator are evaluated as booleans. For **and**, both objects must return `True` in order for the entire expression to be True:"
   ]
  },
  {
   "cell_type": "code",
   "execution_count": 28,
   "metadata": {
    "id": "e9xUBU8yDDLb"
   },
   "outputs": [
    {
     "name": "stdout",
     "output_type": "stream",
     "text": [
      "True\n",
      "False\n",
      "False\n"
     ]
    }
   ],
   "source": [
    "print(True and True)\n",
    "print(True and False)\n",
    "print(False and False)"
   ]
  },
  {
   "cell_type": "markdown",
   "metadata": {
    "id": "xvG3C9p9DMmi"
   },
   "source": [
    "For **or**, only one of the two booleans must be `True` for the whole expression to be True:"
   ]
  },
  {
   "cell_type": "code",
   "execution_count": 29,
   "metadata": {
    "id": "aVpDxAAaDUSv"
   },
   "outputs": [
    {
     "name": "stdout",
     "output_type": "stream",
     "text": [
      "True\n",
      "True\n",
      "False\n"
     ]
    }
   ],
   "source": [
    "print(True or True)\n",
    "print(True or False)\n",
    "print(False or False)"
   ]
  },
  {
   "cell_type": "markdown",
   "metadata": {
    "id": "Zb2AnJ38DcMi"
   },
   "source": [
    "Any easy way to see how `and` and `or` work is with truth tables. In a truth table, we fill out all possible values for the variables in the expression and then evaluate each component of the expression. Here, the first two columns are for the variables being compared, A and B, and each row is a combination of values for those variables. The last columns show the result of the logical expression given those values of A and B.\n",
    "\n",
    "A | B | A and B | A or B\n",
    "---- | ---- | ------- | ------\n",
    "T | T | T       | T\n",
    "T | F | F       | T\n",
    "F | T | F       | T\n",
    "F | F | F       | F\n",
    "\n",
    "Remember, almost every object in a program can be evaluated as a Boolean.\n",
    "\n",
    "> **Exercise**: Write the following logical expressions:\n",
    "> 1. One that uses two integers and an `and` operator and returns `True`.\n",
    "> 2. One that uses two integers and an `or` operator and returns `False`.\n",
    "> 3. One that uses an integer and a string with an `and` operator and returns\n",
    "`True`.\n",
    "> 4. One that uses an integer and a string with an `and` operator and returns `False`.\n",
    ">\n",
    "> Use the `bool()` function to interpret the strings and integers as Booleans."
   ]
  },
  {
   "cell_type": "code",
   "execution_count": null,
   "metadata": {
    "id": "csiTsDBkEpYO"
   },
   "outputs": [
    {
     "name": "stdout",
     "output_type": "stream",
     "text": [
      "True\n",
      "False\n",
      "True\n",
      "False\n"
     ]
    }
   ],
   "source": [
    "# Your code here: Two integers with and that returns True\n",
    "\n",
    "\n",
    "# Your code here: Two integers with or that returns False\n",
    "\n",
    "\n",
    "# Your code here: Integer and string with and that returns True\n",
    "\n",
    "\n",
    "# Your code here: Integer and string with and that returns False\n"
   ]
  },
  {
   "cell_type": "code",
   "execution_count": null,
   "metadata": {
    "tags": [
     "solution"
    ]
   },
   "outputs": [],
   "source": [
    "#@title Solution {display-mode: \"form\"}\n",
    "# Two integers with and that returns True\n",
    "print(1 and bool(573657))\n",
    "\n",
    "# Two integers with or that returns False\n",
    "print(bool(0) or bool(0))\n",
    "\n",
    "# Integer and string with and that returns True\n",
    "print(bool(235) and bool(\"hello\"))\n",
    "\n",
    "# Integer and string with and that returns False\n",
    "print(bool(0) and bool(\"\"))"
   ]
  },
  {
   "cell_type": "markdown",
   "metadata": {
    "id": "X65c6yWmFdKs"
   },
   "source": [
    "#### Complex logical statements and order of operations\n",
    "\n",
    "Using `and` and `or`, we can evaluate multiple boolean values."
   ]
  },
  {
   "cell_type": "code",
   "execution_count": 31,
   "metadata": {
    "id": "gbMMNzQGFreU"
   },
   "outputs": [
    {
     "name": "stdout",
     "output_type": "stream",
     "text": [
      "True\n"
     ]
    }
   ],
   "source": [
    "print(True or True and False)"
   ]
  },
  {
   "cell_type": "markdown",
   "metadata": {
    "id": "H_6Tr4_GFz6-"
   },
   "source": [
    "This statement returns `True`. Logical statements have their own order of operations, with **`and` taking precedence over `or`**. Given that, let's break the statement down.\n",
    "\n",
    "1. We read the `and` comparison first. `True and False` evaluates to `False` - both sides of an `and` need to be True.\n",
    "2. Given that, the expression reduces to `True or False`, which evaluates to `True` since only one side of an `or` statement needs to be True. This means the entire expression results in `True`.\n",
    "\n",
    "The order of operations can be made more explicit with parentheses."
   ]
  },
  {
   "cell_type": "code",
   "execution_count": 32,
   "metadata": {
    "id": "vRM7yZI2IioZ"
   },
   "outputs": [
    {
     "name": "stdout",
     "output_type": "stream",
     "text": [
      "True\n"
     ]
    }
   ],
   "source": [
    "print(True or (True and False))"
   ]
  },
  {
   "cell_type": "markdown",
   "metadata": {
    "id": "k3vwzqsAIlwd"
   },
   "source": [
    "This is the exact same logical expression as the one above, but we've added the parentheses to make things a little bit easier for us to parse. In logical expressions, **parentheses also affect the order of operations** as they do in mathematical expressions: they take precedence over anything else. In that way, we can change the result of this expression by moving the parentheses."
   ]
  },
  {
   "cell_type": "code",
   "execution_count": 33,
   "metadata": {
    "id": "9hIy2tkZI-9j"
   },
   "outputs": [
    {
     "name": "stdout",
     "output_type": "stream",
     "text": [
      "False\n"
     ]
    }
   ],
   "source": [
    "print((True or True) and False)"
   ]
  },
  {
   "cell_type": "markdown",
   "metadata": {
    "id": "gzZSDKebJCUT"
   },
   "source": [
    "Here, the parentheses tell Python to evaluate whatever is inside them first. Now the statement breaks down as:\n",
    "\n",
    "1. We read the expression in the parentheses first. `True or True` evaluates to `True` since only one side of an `or` needs to be True for the entire expression to be True (here both sides are True, which doesn't matter for `or`).\n",
    "2. Given that, the expression reduces to `True and False`. For `and` both sides need to be `True` for the expression to be True, and that isn't the case here, so the expression is `False`.\n",
    "\n",
    "Let's summarize the **order of operations** for logical expressions:\n",
    "\n",
    "1. Evaluate parentheses\n",
    "2. Evaluate `and`\n",
    "3. Evaluate `or`\n",
    "4. If there are multiple similar statements in a row without parentheses, for example `True or True or True`, simply read them left to right.\n",
    "\n",
    "\n",
    "\n"
   ]
  },
  {
   "cell_type": "markdown",
   "metadata": {
    "id": "E-m7LCHemckl"
   },
   "source": [
    "Let's practice reading some more complex logical expressions.\n",
    "\n",
    "> **Exercise**: In the code block below, first type what you think the result of each logical expression will be as a comment (just add `#` to the beginning of the line). Then, print them out to see if you were correct.\n",
    "> 1.   False or False and True\n",
    "> 2.   (False or False) and True\n",
    "> 3.   True and True or False and False\n",
    "> 4.   True and (True or False) and False\n",
    "> 5.   False or False or False or False or True or False"
   ]
  },
  {
   "cell_type": "code",
   "execution_count": null,
   "metadata": {
    "colab": {
     "base_uri": "https://localhost:8080/"
    },
    "id": "R0oBgt4zLFdb",
    "outputId": "701af5e2-db2c-47cc-e802-1bdb595639b8"
   },
   "outputs": [
    {
     "name": "stdout",
     "output_type": "stream",
     "text": [
      "False\n",
      "False\n",
      "True\n",
      "False\n",
      "True\n"
     ]
    }
   ],
   "source": [
    "# 1. Your answer here:\n",
    "# 1. Your code here\n",
    "\n",
    "\n",
    "# 2. Your answer here:\n",
    "# 2. Your code here\n",
    "\n",
    "\n",
    "# 3. Your answer here:\n",
    "# 3. Your code here\n",
    "\n",
    "\n",
    "# 4. Your answer here:\n",
    "# 4. Your code here\n",
    "\n",
    "\n",
    "# 5. Your answer here:\n",
    "# 5. Your code here\n"
   ]
  },
  {
   "cell_type": "code",
   "execution_count": null,
   "metadata": {
    "tags": [
     "solution"
    ]
   },
   "outputs": [],
   "source": [
    "#@title Solution {display-mode: \"form\"}\n",
    "# 1. Your answer here: False\n",
    "# 1. Your code here\n",
    "print(False or False and True)\n",
    "\n",
    "# 2. Your answer here: False\n",
    "# 2. Your code here\n",
    "print((False or False) and True)\n",
    "\n",
    "# 3. Your answer here: True\n",
    "# 3. Your code here\n",
    "print(True and True or False and False)\n",
    "\n",
    "# 4. Your answer here: False\n",
    "# 4. Your code here for\n",
    "print(True and (True or False) and False)\n",
    "\n",
    "# 5. Your answer here: True\n",
    "# 5. Your code here for\n",
    "print(False or False or False or False or True or False)"
   ]
  },
  {
   "cell_type": "markdown",
   "metadata": {
    "id": "bzWuJdM_Yx7a"
   },
   "source": [
    "### Negation operator: `not`\n",
    "\n",
    "The result of any logical expression can be inverted with the **`not`** operator."
   ]
  },
  {
   "cell_type": "code",
   "execution_count": 35,
   "metadata": {
    "id": "-jSSb11GZFYe"
   },
   "outputs": [
    {
     "name": "stdout",
     "output_type": "stream",
     "text": [
      "False\n",
      "True\n",
      "True\n"
     ]
    }
   ],
   "source": [
    "print(not True)\n",
    "print(not False)\n",
    "print(not False or False or False or False or True or False)"
   ]
  },
  {
   "cell_type": "markdown",
   "metadata": {
    "id": "BpGtSRnmZgQd"
   },
   "source": [
    "Note that `not` works on individual parts of a logical expression, not the entire thing. So, `False or True` returns `True` and `not False or True` also returns `True`. This is because the `not` is only negating the first `False`, essentially making the statement `True or True`. To negate chunks of an expression, use parentheses. `not (False or True)` will indeed return `False`, since the expression itself is `True` and we are negating the whole thing."
   ]
  },
  {
   "cell_type": "code",
   "execution_count": 36,
   "metadata": {
    "id": "HN3zb_DAaB6v"
   },
   "outputs": [
    {
     "name": "stdout",
     "output_type": "stream",
     "text": [
      "True\n",
      "True\n",
      "False\n"
     ]
    }
   ],
   "source": [
    "print(False or True)\n",
    "print(not False or True)\n",
    "print(not (False or True))"
   ]
  },
  {
   "cell_type": "markdown",
   "metadata": {
    "id": "Xev4LQpMe3-X"
   },
   "source": [
    "> **Exercise:** Fill out the following truth table. We will go from left to right. Double click on the table to edit."
   ]
  },
  {
   "cell_type": "markdown",
   "metadata": {
    "id": "u_FyxSc1e_hP"
   },
   "source": [
    "A   | B   | A and B | not B | A and not B | A and B or A and not B | A and (B or A) and not B |\n",
    "--- | --- | ------- | ----- | ----------- | ---------------------- | ------------------------ |\n",
    "T   | T   |         |       |             |                        |                          |\n",
    "T   | F   |         |       |             |                        |                          |\n",
    "F   | T   |         |       |             |                        |                          |\n",
    "F   | F   |         |       |             |                        |                          |"
   ]
  },
  {
   "cell_type": "markdown",
   "metadata": {},
   "source": [
    "<details markdown><summary>Solution</summary>\n",
    "\n",
    "A   | B   | A and B | not B | A and not B | A and B or A and not B | A and (B or A) and not B |\n",
    "--- | --- | ------- | ----- | ----------- | ---------------------- | ------------------------ |\n",
    "T   | T   |    T    |   F   |      F      |           T            |             F            |\n",
    "T   | F   |    F    |   T   |      T      |           T            |             T            |\n",
    "F   | T   |    F    |   F   |      F      |           F            |             F            |\n",
    "F   | F   |    F    |   T   |      F      |           F            |             F            |\n",
    "\n",
    "</details>"
   ]
  },
  {
   "cell_type": "markdown",
   "metadata": {
    "id": "nOh2evIafBLG"
   },
   "source": [
    "What do you notice about the second to last column of the truth table representing the full expression?"
   ]
  },
  {
   "cell_type": "markdown",
   "metadata": {
    "id": "IlIIuKITNzov"
   },
   "source": [
    "### Comparison operators for integers\n",
    "\n",
    "One can also compare two objects in Python and return a boolean value, either `True` or `False`. Doing this can help the program make decisions about the next instructions to execute, based on how it has been programmed.\n",
    "\n",
    "In order to compare two numbers and return either a `True` or `False` boolean value, there are several operators one can use depending on the situation. These will all seem relatively familiar based on how they are used in arithmetic.\n",
    "\n",
    "*   `>` : Greater than. Returns `True` if the number on the left is larger than the number on the right. Returns `False` otherwise.\n",
    "*   `>=` : Greater than or equal to. Returns `True` if the number on the left is larger or the same as the number on the right. Returns `False` otherwise.\n",
    "*   `<` : Less than. Returns `True` if the number on the left is smaller than the number on the right. Returns `False` otherwise.\n",
    "*   `<=` : Less than or equal to. Returns `True` if the number on the left is smaller or the same as the number on the right. Returns `False` otherwise.\n",
    "*   `==` : Is equal to. Returns `True` if the numbers on the left and the right are the same. Returns `False` otherwise.\n",
    "*   `!=` : Is not equal to. Returns `True` if the numbers on the left and right are different. Returns `False` otherwise (*i.e.* if they are the same).\n",
    "\n",
    "Here are some examples."
   ]
  },
  {
   "cell_type": "code",
   "execution_count": 37,
   "metadata": {
    "id": "T2ulqUePQKWo"
   },
   "outputs": [
    {
     "name": "stdout",
     "output_type": "stream",
     "text": [
      "False\n",
      "False\n",
      "True\n",
      "True\n"
     ]
    }
   ],
   "source": [
    "print(8 > 9)\n",
    "print(9 > 9)\n",
    "print(9 >= 9)\n",
    "print(8 != 9)\n"
   ]
  },
  {
   "cell_type": "markdown",
   "metadata": {
    "id": "90NYBl1KQbiN"
   },
   "source": [
    "### `=` vs. `==`\n",
    "\n",
    "Recall that a single equals sign, `=`, is our **assignment operator** that assigns the value of the variable to the left of it the value to the right of it. Here we've learned that the double equals sign, `==`, is the **equality operator** that compares the values on the right and left and returns either `True` if the values are the same or `False` otherwise.\n",
    "\n",
    "**A common point of confusion is the difference between `=` and `==`, and when to use either one**.\n",
    "\n",
    "Remember:\n",
    "\n",
    "*   Use `=` if you are assigning a value to a variable\n",
    "*   Use `==` if you are comparing two values\n"
   ]
  },
  {
   "cell_type": "code",
   "execution_count": 38,
   "metadata": {
    "id": "Ofhl9gGiRT9o"
   },
   "outputs": [
    {
     "name": "stdout",
     "output_type": "stream",
     "text": [
      "True\n",
      "False\n",
      "---\n",
      "False\n",
      "True\n",
      "4\n"
     ]
    }
   ],
   "source": [
    "my_int = 5\n",
    "\n",
    "print(my_int == 5)\n",
    "print(my_int == 4)\n",
    "\n",
    "print(\"---\")\n",
    "\n",
    "my_int = 4\n",
    "print(my_int == 5)\n",
    "print(my_int == 4)\n",
    "\n",
    "print(my_int)"
   ]
  },
  {
   "cell_type": "markdown",
   "metadata": {
    "id": "f2YEbONkRnig"
   },
   "source": [
    "\n",
    "\n",
    "> **Exercise**: In the code block below, do the following:\n",
    "> 1.   Assign any integer value to a variable called my_int1\n",
    "> 2.   Assign any other integer value to a variable called my_int2\n",
    "> 3.   Use a comparison to print out whether the two numbers are equal."
   ]
  },
  {
   "cell_type": "code",
   "execution_count": null,
   "metadata": {
    "id": "_VBX_xAmR-Qy"
   },
   "outputs": [],
   "source": [
    "# Your code here: Assign any two integers to variables my_int1 and my_int2\n",
    "my_int1 = 5 ### SL\n",
    "my_int2 = 5 ### SL\n",
    "\n",
    "# Your code here: Print out whether the integers stored in your variables are equal to each other\n",
    "print(my_int1 == my_int2) ### SL\n"
   ]
  },
  {
   "cell_type": "markdown",
   "metadata": {
    "id": "G01SqzrzSRoH"
   },
   "source": [
    "### Comparison operators and strings\n",
    "\n",
    "All of the above comparison operators also work for strings, but with the exception of `==` and `!=`, we won't be learning about them. These two, however, work as follows for strings:\n",
    "\n",
    "*   `==` : Returns `True` if the strings are identical. Returns `False` otherwise.\n",
    "*   `!=` : Returns `True` if the two strings are different. Returns `False` otherwise.\n",
    "\n",
    "For example:"
   ]
  },
  {
   "cell_type": "code",
   "execution_count": 39,
   "metadata": {
    "id": "OEgeK1p0S5A-"
   },
   "outputs": [
    {
     "name": "stdout",
     "output_type": "stream",
     "text": [
      "True\n",
      "False\n",
      "True\n"
     ]
    }
   ],
   "source": [
    "print(\"Hello\" == \"Hello\")\n",
    "print(\"robot\" == \"cookies\")\n",
    "print(\"robot\" != \"cookies\")"
   ]
  },
  {
   "cell_type": "markdown",
   "metadata": {
    "id": "06_1vNA6TCFq"
   },
   "source": [
    "Importantly, case matters for these comparisons:"
   ]
  },
  {
   "cell_type": "code",
   "execution_count": 40,
   "metadata": {
    "id": "pRrWJbPtTFL4"
   },
   "outputs": [
    {
     "name": "stdout",
     "output_type": "stream",
     "text": [
      "False\n"
     ]
    }
   ],
   "source": [
    "print(\"Hello\" == \"hello\")"
   ]
  },
  {
   "cell_type": "markdown",
   "metadata": {
    "id": "kWeKYQeGiJPj"
   },
   "source": [
    "Like we said above, the other operators (e.g. `>`, `<=`, etc.) do indeed work on strings, but that use-case is not common for most programmers."
   ]
  },
  {
   "cell_type": "markdown",
   "metadata": {
    "id": "iV7949jUVIJX"
   },
   "source": [
    "### The inclusion operator for strings: `in`\n",
    "\n",
    "The final operator we'll be learning about is the **inclusion**, or **membership**, operator for strings, `in`. It works as follows:\n",
    "\n",
    "*   `in` : The inclusion operator for strings. Returns `True` if the string on the left is contained within (is a sub-string of) the string on the right. Returns `False` otherwise.\n"
   ]
  },
  {
   "cell_type": "code",
   "execution_count": 41,
   "metadata": {
    "id": "UwRbLp5nWg5c"
   },
   "outputs": [
    {
     "name": "stdout",
     "output_type": "stream",
     "text": [
      "True\n",
      "False\n"
     ]
    }
   ],
   "source": [
    "print(\"lo\" in \"hello\")\n",
    "print(\"cookies\" in \"robot\")"
   ]
  },
  {
   "cell_type": "markdown",
   "metadata": {
    "id": "b_azcvhQWnyq"
   },
   "source": [
    "Checking for exact sub-strings with `in` is the most basic of pattern matching, which is extremely useful in programming.\n",
    "\n",
    "> **Exercise**: *CODE BOWLING*: Re-write the two lines of code using variables to indirectly refer to each of the four strings in the print statment."
   ]
  },
  {
   "cell_type": "code",
   "execution_count": null,
   "metadata": {},
   "outputs": [
    {
     "name": "stdout",
     "output_type": "stream",
     "text": [
      "True\n",
      "False\n",
      "True\n",
      "False\n"
     ]
    }
   ],
   "source": [
    "# Edit this code to use variables instead of literal strings\n",
    "print(\"lo\" in \"hello\")\n",
    "print(\"cookies\" in \"robot\")"
   ]
  },
  {
   "cell_type": "code",
   "execution_count": null,
   "metadata": {
    "tags": [
     "solution"
    ]
   },
   "outputs": [],
   "source": [
    "#@title Solution {display-mode: \"form\"}\n",
    "string1 = \"lo\"\n",
    "string2 = \"hello\"\n",
    "print(string1 in string2)\n",
    "\n",
    "string3 = \"cookies\"\n",
    "string4 = \"robot\"\n",
    "print(string3 in string4)"
   ]
  },
  {
   "cell_type": "markdown",
   "metadata": {},
   "source": [
    "## Metaprogramming skills and debugging\n",
    "\n",
    "Recall that there are a host of meta-skills that we won't have time to discuss formally during the workshop. We've prepared the [Python Healthy Habits notebook](https://informatics.fas.harvard.edu/workshops/python-intensive/python-healthy-habits/) as a supplement for you to go through on your own, and we'll be happy to discuss any topics you have questions about!\n",
    "\n",
    "### Pair programming\n",
    "\n",
    "One meta-skill we want to touch on today though is **pair programming**. Pair programming is a technique where two programmers work together on the same code. One person is the \"driver\" who writes the code, while the other person is the \"navigator\" who reviews the code as it is written. This can be a very effective way to catch errors early and to learn from each other. Let's practice by \"code golfing\" the following block of code. \n",
    "\n",
    "> **Exercise**: *CODE GOLF*. Pair up with someone, and then try to make this code run with as few lines as possible, while achieving the same result."
   ]
  },
  {
   "cell_type": "code",
   "execution_count": 49,
   "metadata": {},
   "outputs": [
    {
     "name": "stdout",
     "output_type": "stream",
     "text": [
      "The total length of the strings is: 18\n"
     ]
    }
   ],
   "source": [
    "## Edit the to run with the same result using as few lines as possible\n",
    "first_str = \"robot\"\n",
    "second_str = \"baking\"\n",
    "third_str = \"cookies\"\n",
    "\n",
    "length_first_str = len(first_str)\n",
    "length_second_str = len(second_str)\n",
    "length_third_str = len(third_str)\n",
    "\n",
    "total_length = length_first_str + length_second_str + length_third_str\n",
    "print(\"The total length of the strings is:\", total_length)"
   ]
  },
  {
   "cell_type": "code",
   "execution_count": 47,
   "metadata": {
    "tags": [
     "solution"
    ]
   },
   "outputs": [
    {
     "name": "stdout",
     "output_type": "stream",
     "text": [
      "The total length of the strings is: 18\n"
     ]
    }
   ],
   "source": [
    "#@title Solution 1 {display-mode: \"form\"}\n",
    "first_str = \"robot\"\n",
    "second_str = \"baking\"\n",
    "third_str = \"cookies\"\n",
    "\n",
    "total_length = len(first_str) + len(second_str) + len(third_str)\n",
    "print(\"The total length of the strings is:\", total_length)"
   ]
  },
  {
   "cell_type": "code",
   "execution_count": 48,
   "metadata": {
    "tags": [
     "solution"
    ]
   },
   "outputs": [
    {
     "name": "stdout",
     "output_type": "stream",
     "text": [
      "The total length of the strings is: 18\n"
     ]
    }
   ],
   "source": [
    "#@title Solution 2 {display-mode: \"form\"}\n",
    "print(\"The total length of the strings is:\", len(\"robot\") + len(\"baking\") + len(\"cookies\"))"
   ]
  },
  {
   "cell_type": "markdown",
   "metadata": {
    "id": "DP9crEKFb8om"
   },
   "source": [
    "## Review\n",
    "\n",
    "So far, we've learned a few main things:\n",
    "\n",
    "1. Functions are little sub-recipes of code that perform specific tasks given the appropriate input. They are usually typed as `function_name(input1, input2, ...)`.\n",
    "2. Operators (*e.g.* `+`, `and`) can be thought of as special functions that instead take input based on what is place on either side of them.\n",
    "3. Different data types exist in programming, notably **integers** and **strings** in Python. **Functions and operators may only work for a given data type**.\n",
    "4. Complex logical statements can be constructed with **boolean** values (`True`, `False`) and the associated operators (*e.g.* `>`, `not`, `in`). Again, some of these operators only work for specific data types.\n",
    "\n",
    "These concepts form the basis of programming in any language (though the syntax will vary), however one cannot make more than very simple programs using these types of instructions alone.\n",
    "\n",
    "In order to write complex programs that take these basic concepts and allow them to be executed based on the **conditions** of the data within a program, and to automate the **repetition** of certain instructions, we need to learn the syntax that allows us to control the flow of the program. That is where we will begin in Part 2 of the workshop!"
   ]
  },
  {
   "cell_type": "markdown",
   "metadata": {
    "id": "vE8WBsASD4Ni"
   },
   "source": [
    "### Operators table\n",
    "\n",
    "Here is a table summarizing how the various operators we've learned about can be used on different data types:\n",
    "\n",
    "Operator | Strings | Integers/floats | Boolean |\n",
    "-------- | ------- | --------------- | ------- |\n",
    "`=`      | Assigns a string to a variable name | Assigns a number to a variable name | Assigns a boolean to a variable name |\n",
    "`+`      | Concatenate (combine) strings | Add two numbers | *NA* |\n",
    "`-`      | *NA* | Subtract two numbers | *NA* |\n",
    "`*`      | Repeat a string N times, where N is an integer | Multiply two numbers | *NA* |\n",
    "`/`      | *NA* | Divide two numbers, returning a decimal | *NA* |\n",
    "`**`     | *NA* | Exponentiation (raise to the power of) | *NA* |\n",
    "`//`     | *NA* | Divide two numbers, rounding down to return an integer | *NA* |\n",
    "`%`      | *NA* | Divide two numbers, returning the remainder as an integer | *NA* |\n",
    "`in`     | Checks if one string is contained in another, returning a boolean | *NA* | *NA* |\n",
    "`and`    | *NA* | *NA* | Returns `True` if both conditions are `True`, otherwise `False` |\n",
    "`or`     | *NA* | *NA* | Returns `True` if at least one condition is `True`, otherwise `False` |\n",
    "`not`    | *NA* | *NA* | Negates a boolean (e.g. returns `True` if `False` is input and vice versa) |\n",
    "`==`     | Compares 2 strings and returns `True` if they are identical, `False` otherwise | Compares two numbers and returns `True` if they are identical, `False` otherwise | Compares two booleans and returns `True` if they are identical, `False` otherwise |\n",
    "`!=` | Returns `True` if two strings are **not** identical, `False` otherwise | Returns `True` if two numbers are **not** identical, `False` otherwise | Returns `True` if two booleans are **not** identical, `False` otherwise |"
   ]
  },
  {
   "cell_type": "markdown",
   "metadata": {
    "id": "R4ihLxswjLGv"
   },
   "source": [
    "## End Part 1\n",
    "\n",
    "Thanks! Let us know if you have any questions."
   ]
  }
 ],
 "metadata": {
  "colab": {
   "provenance": [],
   "toc_visible": true
  },
  "kernelspec": {
   "display_name": ".venv",
   "language": "python",
   "name": "python3"
  },
  "language_info": {
   "codemirror_mode": {
    "name": "ipython",
    "version": 3
   },
   "file_extension": ".py",
   "mimetype": "text/x-python",
   "name": "python",
   "nbconvert_exporter": "python",
   "pygments_lexer": "ipython3",
   "version": "3.12.1"
  }
 },
 "nbformat": 4,
 "nbformat_minor": 0
}
